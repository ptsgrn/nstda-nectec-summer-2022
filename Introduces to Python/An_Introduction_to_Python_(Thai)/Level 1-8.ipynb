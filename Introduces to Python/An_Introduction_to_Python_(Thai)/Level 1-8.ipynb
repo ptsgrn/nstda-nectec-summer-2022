{
  "cells": [
    {
      "cell_type": "markdown",
      "metadata": {
        "id": "VBCKlrw7AWuU"
      },
      "source": [
        "# การโปรแกรมภาษา Python (ไพธอน) เบื้องต้น — https://tinyurl.com/y9wmkgj5"
      ]
    },
    {
      "cell_type": "markdown",
      "metadata": {
        "id": "TFs0ZirfQ9Ik"
      },
      "source": [
        "ปรัชญา บุญขวัญ\n",
        "\n",
        "Email: `prachya.boonkwan@nectec.or.th`\n",
        "\n",
        "(C) December 2018"
      ]
    },
    {
      "cell_type": "markdown",
      "metadata": {
        "id": "xsYxzbNfAmW_"
      },
      "source": [
        "## บทนำ\n",
        "\n",
        "- สำหรับวันนี้ เราจะมาหัดเขียนโปรแกรมภาษา Python กันครับ\n",
        "- ภาษา Python\n",
        "  - ภาษาโปรแกรมยอดนิยมสำหรับงานด้านวิทยาการข้อมูล (data science) และปัญญาประดิษฐ์ (artificial intelligence)\n",
        "  - เหมาะสำหรับผู้ที่เริ่มต้นเขียนโปรแกรม เพราะมีกฎเกณฑ์ของภาษาที่ไม่ซับซ้อน\n",
        "  - ตามปกติแล้ว นิสิตปี 4 ของภาควิชาวิทยาการคอมพิวเตอร์ สามารถเรียนรู้ได้ด้วยตัวเอง และเขียนโปรแกรมด้วยภาษา Python ได้ภายใน 3 ชั่วโมง\n",
        "\n",
        "- เนื้อหา\n",
        "  1. print\n",
        "  2. mathematical operations\n",
        "  3. variables\n",
        "  4. list\n",
        "  5. string\n",
        "  6. for loop\n",
        "  7. branching\n",
        "\n",
        "- ในคอร์สนี้ เราจะใช้ *การเรียนรู้แบบสะท้อนกลับ* (reflective learning)\n",
        "  - ท่านสามารถเลือกวิธีการเรียนรู้ได้หลากหลาย ทั้งจากคำบรรยายในแบบเรียนนี้ จากหนังสือแบบเรียน จากการเรียนรู้ด้วยตัวเองผ่านแบบฝึกหัดตามแบบเรียนนี้ โดยเราได้เตรียมผู้ช่วยสอนไว้คอยตอบคำถามของท่านไว้แล้วครับ\n",
        "  - ในแต่ละกิจกรรม จะมีแบบทดสอบให้ท่านลองทำเป็นระยะๆ ด้วย เพื่อตรวจสอบความเข้าใจของท่าน\n",
        "  - หากท่านยังไม่เข้าใจ อย่าเพิ่งไปเครียดครับ ท่านสามารถเปลี่ยนวิธีการเรียนรู้ให้ตรงกับจริตของท่านได้ตลอดเวลาครับ\n",
        "  - และสำหรับท่านที่เคยมีประสบการณ์กับภาษา Python มาก่อน ท่านสามารถทดลองทำแบบฝึกหัดเสริมทักษะที่ท้าย workshop ได้เลยนะครับ ;) \n",
        "\n",
        "- วิธีการใช้ Google Colab อย่างง่าย\n",
        "  - ถ้ามีปุ่ม **\"Open in Playground\"** อยู่ที่แถบด้านบน กรุณากดปุ่มนี้ก่อน เพื่อที่ท่านจะสามารถสั่งรันโปรแกรมบน colab ของท่านได้\n",
        "  - กล่องคำสั่งจะเป็นสีเทา เราสามารถเขียนโปรแกรมภาษา Python ลงในกล่องคำสั่งนี้ได้\n",
        "  - **วิธีรัน (run):** เมื่อเขียนโปรแกรมลงไปแล้ว เราสามารถสั่งรันได้โดยการกดปุ่มเพลย์ ▶️ ที่อยู่หน้ากล่องคำสั่ง หรือกดปุ่ม Shift+Enter ก็ได้ครับ\n",
        "  - หากยังไม่เห็นปุ่มเพลย์ ให้เอาเม้าส์ไปคลิกที่กล่องคำสั่งก่อน ปุ่มเพลย์ก็จะปรากฏขึ้นมาครับ\n",
        "\n",
        "-  เราจะทำให้ทุกท่านเขียนโปรแกรมภาษา Python ได้ภายใน 3 ชั่วโมงกัน ถ้าพร้อมแล้ว เรามาเริ่มกันเลยครับ"
      ]
    },
    {
      "cell_type": "markdown",
      "metadata": {
        "id": "Wz7yrsiMEpWJ"
      },
      "source": [
        "\n",
        "\n",
        "---\n",
        "\n"
      ]
    },
    {
      "cell_type": "markdown",
      "metadata": {
        "id": "QqwrmGOdD2g-"
      },
      "source": [
        "## กิจกรรม 1: พิมพ์ข้อความออกหน้าจอ"
      ]
    },
    {
      "cell_type": "markdown",
      "metadata": {
        "id": "gcC4FCgHJvlK"
      },
      "source": [
        "### คำสั่ง `print`\n",
        "\n",
        "- คำสั่งพิมพ์ข้อความในภาษา Python คือ `print`\n",
        "- เช่น `print('Hello')` ก็จะแสดงข้อความว่า `Hello` ออกที่หน้าจอ\n",
        "- ลองคลิกที่กล่องคำสั่งสีเทาที่อยู่ด้านล่าง แล้วกดปุ่มเพลย์ในเครื่องหมายก้ามปู `[ ]` หรือกดปุ่ม Shift+Enter ดูสิครับ เห็นข้อความ `Hello` ที่อยู่ในบรรทัดต่อมาไหมครับ"
      ]
    },
    {
      "cell_type": "code",
      "execution_count": 2,
      "metadata": {
        "colab": {
          "base_uri": "https://localhost:8080/"
        },
        "id": "p-_KH5ZOAVXC",
        "outputId": "5a721c5b-c0e9-4e1a-e61e-56eaab33dd27"
      },
      "outputs": [
        {
          "name": "stdout",
          "output_type": "stream",
          "text": [
            "Hello world!\n"
          ]
        }
      ],
      "source": [
        "print('Hello world!')"
      ]
    },
    {
      "cell_type": "markdown",
      "metadata": {
        "id": "AiI2gIqVMYw1"
      },
      "source": [
        "  - จะสังเกตได้ว่า ข้อความ `Hello` ที่เราต้องการจะให้พิมพ์ออกหน้าจอ จะอยู่ในเครื่องหมายคำพูดเดี่ยว (single quote) ในตัวโค้ดเสมอ\n",
        "  - สิ่งที่อยู่ในเครื่องหมายคำพูดเดี่ยวนี้ เราเรียกว่า *สตริง* (string) ซึ่งแปลเป็นไทยว่า \"ข้อความ\" นั่นเองครับ"
      ]
    },
    {
      "cell_type": "markdown",
      "metadata": {
        "id": "PR_x3YS4IfHh"
      },
      "source": [
        "### แบบฝึกหัด 1.1\n",
        "\n",
        "คราวนี้เรามาลองพิมพ์สตริง `'สวัสดีจ้ะ'` ออกที่หน้าจอกันบ้าง ลองเติมข้อความดังกล่าวลงในเครื่องหมายคำพูดเดี่ยวดูนะครับ"
      ]
    },
    {
      "cell_type": "code",
      "execution_count": 3,
      "metadata": {
        "colab": {
          "base_uri": "https://localhost:8080/",
          "height": 56
        },
        "id": "4vIgljNYIZtp",
        "outputId": "3644b9b1-e31b-49f6-a564-2d3c335d32a7"
      },
      "outputs": [
        {
          "name": "stdout",
          "output_type": "stream",
          "text": [
            "สวัสดีจ้ะ\n"
          ]
        }
      ],
      "source": [
        "print('สวัสดีจ้ะ')"
      ]
    },
    {
      "cell_type": "markdown",
      "metadata": {
        "id": "wvKZk4mHMsO5"
      },
      "source": [
        "ลองเปลี่ยนสตริงดูตามใจชอบ แล้วลองรันดูนะครับ"
      ]
    },
    {
      "cell_type": "markdown",
      "metadata": {
        "id": "vQ1UefODUONV"
      },
      "source": [
        "### หมายเหตุ (comment)"
      ]
    },
    {
      "cell_type": "markdown",
      "metadata": {
        "id": "y6LhZB1oUQ8A"
      },
      "source": [
        "- บางครั้งเราอยากใส่หมายเหตุลงไปในโค้ดเพื่อเป็นบันทึกช่วยจำ เราจะใช้สัญลักษณ์ `#` (แฮช หรือ hash) นำหน้าหมายเหตุ โดยเมื่อไรก็ตามที่ใช้เครื่องหมาย `#` สิ่งที่ตามหลังเครื่องหมายนี้จะเป็นหมายเหตุทั้งหมด เช่น"
      ]
    },
    {
      "cell_type": "code",
      "execution_count": 4,
      "metadata": {
        "colab": {
          "base_uri": "https://localhost:8080/"
        },
        "id": "DCKkNqvmUg40",
        "outputId": "2f9cfa6a-cb96-4611-b7a1-f72078f3e5e9"
      },
      "outputs": [
        {
          "name": "stdout",
          "output_type": "stream",
          "text": [
            "Hello\n"
          ]
        }
      ],
      "source": [
        "print('Hello')      # แสดงข้อความ Hello ออกที่หน้าจอ"
      ]
    },
    {
      "cell_type": "markdown",
      "metadata": {
        "id": "IZzQ52RTUpF7"
      },
      "source": [
        "- หากเราต้องการหมายเหตุทั้งบรรทัด ให้เราใส่เครื่องหมาย `#` ที่ด้านหน้าสุด เช่น"
      ]
    },
    {
      "cell_type": "code",
      "execution_count": 5,
      "metadata": {
        "colab": {
          "base_uri": "https://localhost:8080/"
        },
        "id": "ngPkggLBU9-y",
        "outputId": "74c697d3-cc79-4834-e36a-4416c7c72bab"
      },
      "outputs": [
        {
          "name": "stdout",
          "output_type": "stream",
          "text": [
            "Hello\n"
          ]
        }
      ],
      "source": [
        "# แสดงข้อความ Hello ออกที่หน้าจอ\n",
        "print('Hello')"
      ]
    },
    {
      "cell_type": "markdown",
      "metadata": {
        "id": "U5PMqooKWBGW"
      },
      "source": [
        "- เวลาคอมพิวเตอร์ทำงาน มันจะกระโดดข้ามส่วนที่เป็นหมายเหตุไป\n",
        "- เช่น ในโค้ดด้านล่างนี้ คอมพิวเตอร์จะกระโดดข้ามบรรทัดที่ 3 ไป เพราะถูกมองเป็นหมายเหตุ"
      ]
    },
    {
      "cell_type": "code",
      "execution_count": 6,
      "metadata": {
        "colab": {
          "base_uri": "https://localhost:8080/"
        },
        "id": "8uzxsKteWJge",
        "outputId": "6579fbde-5494-4968-9568-fdc8e177a2e6"
      },
      "outputs": [
        {
          "name": "stdout",
          "output_type": "stream",
          "text": [
            "Please\n",
            "Mr.\n",
            "Postman\n",
            "Look and See\n"
          ]
        }
      ],
      "source": [
        "print('Please')\n",
        "print('Mr.')\n",
        "# print('and Ms.')\n",
        "print('Postman')\n",
        "print('Look and See')"
      ]
    },
    {
      "cell_type": "markdown",
      "metadata": {
        "id": "aJpoRN7VVMsV"
      },
      "source": [
        "### แบบฝึกหัด 1.2"
      ]
    },
    {
      "cell_type": "markdown",
      "metadata": {
        "id": "nWpO2MwNVRaJ"
      },
      "source": [
        "ลองใส่เครื่องหมาย `#` หน้าบรรทัดต่างๆ ในโค้ด แล้วสังเกตความเปลี่ยนแปลงของผลลัพธ์"
      ]
    },
    {
      "cell_type": "code",
      "execution_count": 7,
      "metadata": {
        "colab": {
          "base_uri": "https://localhost:8080/"
        },
        "id": "Gqx3Fm_fVlVG",
        "outputId": "961d5d03-e597-41f0-b105-88bbf90cfeac"
      },
      "outputs": [
        {
          "name": "stdout",
          "output_type": "stream",
          "text": [
            "Hello\n",
            "World\n",
            "My\n",
            "is\n"
          ]
        }
      ],
      "source": [
        "print('Hello')\n",
        "print('World')\n",
        "print('My')\n",
        "# print('name')\n",
        "print('is')\n",
        "# print('Peter')"
      ]
    },
    {
      "cell_type": "markdown",
      "metadata": {
        "id": "LIFQVwKOODyM"
      },
      "source": [
        "\n",
        "\n",
        "---\n",
        "\n"
      ]
    },
    {
      "cell_type": "markdown",
      "metadata": {
        "id": "1FZJHUYeOErP"
      },
      "source": [
        "## กิจกรรม 2: การคำนวณทางคณิตศาสตร์"
      ]
    },
    {
      "cell_type": "markdown",
      "metadata": {
        "id": "PtKzA2UuPB65"
      },
      "source": [
        "### คำสั่งเลขคณิต (arithmetic operations) และนิพจน์ทางคณิตศาสตร์ (mathematical expression)\n",
        "\n",
        "- เราสามารถทำการคำนวณทางคณิตศาสตร์ได้ โดยใช้เครื่องหมายบวก `+`, ลบ `-`, คูณ `*`, และหาร `/` กับตัวเลขได้\n",
        "  - **ข้อสังเกต:** เราจะใช้เครื่องหมายดอกจัน `*` แทนการคูณนะครับ\n",
        "- เช่น ถ้าเราสั่งให้คอมพิวเตอร์คำนวณค่าของนิพจน์ทางคณิตศาสตร์ $ 5 \\times 2 + 10 $ คอมพิวเตอร์ก็จะคำนวณผลลัพธ์ให้ทันที"
      ]
    },
    {
      "cell_type": "code",
      "execution_count": 8,
      "metadata": {
        "colab": {
          "base_uri": "https://localhost:8080/"
        },
        "id": "E68FlmlxQATn",
        "outputId": "7a3aedfc-4c3c-47ee-e473-b6716910da92"
      },
      "outputs": [
        {
          "data": {
            "text/plain": [
              "20"
            ]
          },
          "execution_count": 8,
          "metadata": {},
          "output_type": "execute_result"
        }
      ],
      "source": [
        "5 * 2 + 10"
      ]
    },
    {
      "cell_type": "markdown",
      "metadata": {
        "id": "dXQHNqoXQE3u"
      },
      "source": [
        "- ถ้าเราสั่งให้คอมพิวเตอร์คำนวณค่าของนิพจน์ $ 10 + \\frac{5}{2} $ เราจะได้ผลลัพธ์ดังนี้ครับ"
      ]
    },
    {
      "cell_type": "code",
      "execution_count": 9,
      "metadata": {
        "colab": {
          "base_uri": "https://localhost:8080/"
        },
        "id": "q50RlTKxQDjL",
        "outputId": "a5b6d2ff-130c-464b-c35b-9e065be6d1eb"
      },
      "outputs": [
        {
          "data": {
            "text/plain": [
              "12.5"
            ]
          },
          "execution_count": 9,
          "metadata": {},
          "output_type": "execute_result"
        }
      ],
      "source": [
        "10 + 5 / 2"
      ]
    },
    {
      "cell_type": "markdown",
      "metadata": {
        "id": "aYB4oAFGQhlw"
      },
      "source": [
        "- จะสังเกตได้ว่า คอมพิวเตอร์คำนวณการหาร 5 / 2 และใส่ค่าทศนิยมให้โดยอัตโนมัติครับ"
      ]
    },
    {
      "cell_type": "markdown",
      "metadata": {
        "id": "Ov-8WQYpQ7wm"
      },
      "source": [
        "### แบบฝึกหัด 2.1\n",
        "\n",
        "เรามาลองคำนวณค่าของนิพจน์ทางคณิตศาสตร์ต่อไปนี้กันดูบ้างครับ\n",
        "\n",
        "1. $ \\frac{3}{4} + \\frac{1}{4} $"
      ]
    },
    {
      "cell_type": "code",
      "execution_count": 10,
      "metadata": {
        "colab": {
          "base_uri": "https://localhost:8080/"
        },
        "id": "HSnJfmZKWNx3",
        "outputId": "10e53fd0-67cb-471e-d21a-3dfc9c23b142"
      },
      "outputs": [
        {
          "data": {
            "text/plain": [
              "1.0"
            ]
          },
          "execution_count": 10,
          "metadata": {},
          "output_type": "execute_result"
        }
      ],
      "source": [
        "3/4 + 1/4"
      ]
    },
    {
      "cell_type": "markdown",
      "metadata": {
        "id": "5sHOZcqHWOwk"
      },
      "source": [
        "2. $ 1 + 6 \\times 8 - 7 $"
      ]
    },
    {
      "cell_type": "code",
      "execution_count": 11,
      "metadata": {
        "id": "gRXHZqBYWY23"
      },
      "outputs": [
        {
          "data": {
            "text/plain": [
              "42"
            ]
          },
          "execution_count": 11,
          "metadata": {},
          "output_type": "execute_result"
        }
      ],
      "source": [
        "1+6*8-7"
      ]
    },
    {
      "cell_type": "markdown",
      "metadata": {
        "id": "gT_oRnRZWbNg"
      },
      "source": [
        "3. $ 5 \\times 6 + 7 \\times 8 - \\frac{2}{5} $"
      ]
    },
    {
      "cell_type": "code",
      "execution_count": 12,
      "metadata": {
        "id": "eRCr2rvsY90z"
      },
      "outputs": [
        {
          "data": {
            "text/plain": [
              "85.6"
            ]
          },
          "execution_count": 12,
          "metadata": {},
          "output_type": "execute_result"
        }
      ],
      "source": [
        "5*6+7*8-2/5"
      ]
    },
    {
      "cell_type": "markdown",
      "metadata": {
        "id": "-zjqKUHUT91v"
      },
      "source": [
        "### วงเล็บในนิพจน์ทางคณิตศาสตร์\n",
        "\n",
        "- ทั้งนี้ เราสามารถใช้เครื่องหมายวงเล็บ `( )` ได้เหมือนกับนิพจน์ทางคณิตศาสตร์ปกติเลยครับ\n",
        "- เช่น เราสามารถคำนวณค่าของนิพจน์ $ 4 \\times 3 + (1 + 2) / 4 $ ได้ด้วยคำสั่งนี้"
      ]
    },
    {
      "cell_type": "code",
      "execution_count": 13,
      "metadata": {
        "colab": {
          "base_uri": "https://localhost:8080/"
        },
        "id": "1UkTDB_FTOpI",
        "outputId": "f72b8f72-6f58-4083-9d21-1c381d0840c2"
      },
      "outputs": [
        {
          "data": {
            "text/plain": [
              "12.75"
            ]
          },
          "execution_count": 13,
          "metadata": {},
          "output_type": "execute_result"
        }
      ],
      "source": [
        "4 * 3 + (1 + 2) / 4"
      ]
    },
    {
      "cell_type": "markdown",
      "metadata": {
        "id": "9ZSGfebtUD4K"
      },
      "source": [
        "- ข้อแตกต่างคือ ในกรณีที่มีวงเล็บซ้อนวงเล็บ เราจะใช้เครื่องหมายวงเล็บ `( )` เสมอ <u>**ห้ามใช้**</u>เครื่องหมายก้ามปู `[ ]` และเครื่องหมายปีกกา `{ }` โดยเด็ดขาด\n",
        "- เช่น ถ้าเราจะคำนวณค่าของนิพจน์ $ \\left( \\left[ 1 / \\left\\{ 2 + 3 \\right\\} \\right] \\times 4 + 5 \\right) / 6 $ เราจะต้องเปลี่ยนก้ามปูและปีกกากลับมาเป็นวงเล็บก่อนเสมอ"
      ]
    },
    {
      "cell_type": "code",
      "execution_count": 14,
      "metadata": {
        "colab": {
          "base_uri": "https://localhost:8080/"
        },
        "id": "oC4EZPTyVsP2",
        "outputId": "39266422-2435-462a-a851-2e1cadae58e1"
      },
      "outputs": [
        {
          "data": {
            "text/plain": [
              "0.9666666666666667"
            ]
          },
          "execution_count": 14,
          "metadata": {},
          "output_type": "execute_result"
        }
      ],
      "source": [
        "((1 / (2 + 3)) * 4 + 5) / 6"
      ]
    },
    {
      "cell_type": "markdown",
      "metadata": {
        "id": "KYKGVrDuUurd"
      },
      "source": [
        "- **หัวใจ:** เครื่องหมายวงเล็บมีหน้าที่เปลี่ยนลำดับการทำงาน โดยจะเริ่มทำในวงเล็บก่อนเสมอ โดยลำดับการทำงานจะเริ่มจาก (1) ทำในวงเล็บ (2) คูณและหาร (3) บวกและลบ\n",
        "- เช่น ลองสังเกตผลลัพธ์ของนิพจน์ทั้งสองนี้ครับ: $ (1 + 2) \\times 3 $ กับ $ 1 + (2 \\times 3) $"
      ]
    },
    {
      "cell_type": "code",
      "execution_count": 15,
      "metadata": {
        "colab": {
          "base_uri": "https://localhost:8080/"
        },
        "id": "T35RIFwJnGHC",
        "outputId": "3df00d55-23a3-4e47-cf70-4a4857a3a472"
      },
      "outputs": [
        {
          "data": {
            "text/plain": [
              "9"
            ]
          },
          "execution_count": 15,
          "metadata": {},
          "output_type": "execute_result"
        }
      ],
      "source": [
        "(1 + 2) * 3"
      ]
    },
    {
      "cell_type": "code",
      "execution_count": 16,
      "metadata": {
        "colab": {
          "base_uri": "https://localhost:8080/"
        },
        "id": "RdL86Thpowg9",
        "outputId": "a66287e7-7075-4bf2-8f12-05ae8bc941cd"
      },
      "outputs": [
        {
          "data": {
            "text/plain": [
              "7"
            ]
          },
          "execution_count": 16,
          "metadata": {},
          "output_type": "execute_result"
        }
      ],
      "source": [
        "1 + (2 * 3)"
      ]
    },
    {
      "cell_type": "markdown",
      "metadata": {
        "id": "C4Tp21Ffo0JE"
      },
      "source": [
        "- ทั้งนี้ขอให้ท่านระมัดระวังการใช้เครื่องหมายคูณ `*` และหาร `/` ด้วยนะครับ เพราะถ้าหากไม่ระบุวงเล็บให้ชัดเจน ลำดับการคำนวณก็อาจจะไม่เป็นไปตามที่ท่านต้องการได้ "
      ]
    },
    {
      "cell_type": "markdown",
      "metadata": {
        "id": "0NjKBhCQpXWT"
      },
      "source": [
        "### แบบฝึกหัด 2.2"
      ]
    },
    {
      "cell_type": "markdown",
      "metadata": {
        "id": "fhryp_sKphqR"
      },
      "source": [
        "เรามาลองคำนวณค่าของนิพจน์ทางคณิตศาสตร์ต่อไปนี้กันครับ\n",
        "\n",
        "1. $ 3 \\times (4 + 1 - 2 \\times 5) $"
      ]
    },
    {
      "cell_type": "code",
      "execution_count": 17,
      "metadata": {
        "id": "_9qKZsZYqUAp"
      },
      "outputs": [
        {
          "data": {
            "text/plain": [
              "-15"
            ]
          },
          "execution_count": 17,
          "metadata": {},
          "output_type": "execute_result"
        }
      ],
      "source": [
        "3 * (4 + 1 - 2 * 5)"
      ]
    },
    {
      "cell_type": "markdown",
      "metadata": {
        "id": "ruqQb5J7pttZ"
      },
      "source": [
        "2. $ \\frac{1 + 2 + 3}{4 + 5 + 6} $   [**หมายเหตุ:** โปรดเลือกการใช้เครื่องหมายวงเล็บด้วยความระมัดระวัง]"
      ]
    },
    {
      "cell_type": "code",
      "execution_count": 18,
      "metadata": {
        "id": "kJlpspwCqUkG"
      },
      "outputs": [
        {
          "data": {
            "text/plain": [
              "0.4"
            ]
          },
          "execution_count": 18,
          "metadata": {},
          "output_type": "execute_result"
        }
      ],
      "source": [
        "(1 + 2 + 3) / (4 + 5 + 6)"
      ]
    },
    {
      "cell_type": "markdown",
      "metadata": {
        "id": "fwT9mp6gp7kt"
      },
      "source": [
        "3. $ 7 \\times \\frac{5 + 6}{7 + \\frac{7}{8}} $"
      ]
    },
    {
      "cell_type": "code",
      "execution_count": 19,
      "metadata": {
        "id": "82-wYN_LqVME"
      },
      "outputs": [
        {
          "data": {
            "text/plain": [
              "17.125"
            ]
          },
          "execution_count": 19,
          "metadata": {},
          "output_type": "execute_result"
        }
      ],
      "source": [
        "7 * ((5 + 6) / 7 + 7/8)"
      ]
    },
    {
      "cell_type": "markdown",
      "metadata": {
        "id": "T9oJjXEdrEGX"
      },
      "source": [
        "### เครื่องหมายยกกำลัง (power) และการถอดราก (root)\n",
        "\n",
        "- เครื่องหมายยกกำลังในภาษา Python จะใช้เครื่องหมาย `**` (ดอกจันเขียนติดกัน 2 ดวง) ครับ\n",
        "- เช่น ถ้าเราจะคำนวณค่าของนิพจน์ $ 2^5 $ เราจะใช้คำสั่งว่า"
      ]
    },
    {
      "cell_type": "code",
      "execution_count": 20,
      "metadata": {
        "colab": {
          "base_uri": "https://localhost:8080/"
        },
        "id": "0vzA567gq-Xm",
        "outputId": "6bb282f5-b0e2-4ca7-e209-1105b5f76704"
      },
      "outputs": [
        {
          "data": {
            "text/plain": [
              "32"
            ]
          },
          "execution_count": 20,
          "metadata": {},
          "output_type": "execute_result"
        }
      ],
      "source": [
        "2 ** 5"
      ]
    },
    {
      "cell_type": "markdown",
      "metadata": {
        "id": "gpSaLvJlrijb"
      },
      "source": [
        "- เมื่อเรานำเครื่องหมายยกกำลังมาใส่ในนิพจน์ทางคณิตศาสตร์ ลำดับการทำงานจะเปลี่ยนไปตามนี้ครับ\n",
        "  1. ทำในวงเล็บก่อน\n",
        "  2. ทำเครื่องหมายยกกำลัง\n",
        "  3. ทำเครื่องหมายคูณและหาร\n",
        "  4. ทำเครื่องหมายบวกและลบ\n",
        "- เช่น ลองสังเกตการคำนวณค่าของนิพจน์ 3 ตัวนี้กันครับ: `(2 * 5) ** 3`, `2 * (5 ** 3)`, และ `2 * 5 ** 3`"
      ]
    },
    {
      "cell_type": "code",
      "execution_count": 21,
      "metadata": {
        "colab": {
          "base_uri": "https://localhost:8080/",
          "height": 56
        },
        "id": "fw2XEdXpsMji",
        "outputId": "b39bb173-f2b9-459d-e9d5-8a1d07756eef"
      },
      "outputs": [
        {
          "data": {
            "text/plain": [
              "1000"
            ]
          },
          "execution_count": 21,
          "metadata": {},
          "output_type": "execute_result"
        }
      ],
      "source": [
        "(2 * 5) ** 3"
      ]
    },
    {
      "cell_type": "code",
      "execution_count": 22,
      "metadata": {
        "colab": {
          "base_uri": "https://localhost:8080/",
          "height": 56
        },
        "id": "1NPd9WbHsMoI",
        "outputId": "8db18276-0ab5-469e-a26d-84d0c3f84b41"
      },
      "outputs": [
        {
          "data": {
            "text/plain": [
              "250"
            ]
          },
          "execution_count": 22,
          "metadata": {},
          "output_type": "execute_result"
        }
      ],
      "source": [
        "2 * (5 ** 3)"
      ]
    },
    {
      "cell_type": "code",
      "execution_count": 23,
      "metadata": {
        "colab": {
          "base_uri": "https://localhost:8080/",
          "height": 56
        },
        "id": "V8MkaOkDsMr_",
        "outputId": "2387f73c-14e9-4b13-bac4-1e87ddf069ab"
      },
      "outputs": [
        {
          "data": {
            "text/plain": [
              "250"
            ]
          },
          "execution_count": 23,
          "metadata": {},
          "output_type": "execute_result"
        }
      ],
      "source": [
        "2 * 5 ** 3"
      ]
    },
    {
      "cell_type": "markdown",
      "metadata": {
        "id": "9mWzIPbzsabt"
      },
      "source": [
        "- ดังนั้นเพื่อความปลอดภัย เราจึงนิยมเขียนเครื่องหมายยกกำลัง `**` ติดกับตัวเลข เพื่อให้เป็นที่รู้กันว่า ถ้าหากไม่มีวงเล็บ เราจะเริ่มทำจากเครื่องหมายยกกำลังก่อนเสมอ เช่น เราจะเขียนนิพจน์ $ 2 \\times 5^3 $ ด้วยคำสั่ง `2 * 5**3` เป็นต้น"
      ]
    },
    {
      "cell_type": "markdown",
      "metadata": {
        "id": "WeFRROotuXf7"
      },
      "source": [
        "- นอกจากนี้เรายังสามารถคำนวณค่าราก (root) ได้โดยการใช้สูตร:\n",
        "\n",
        "$$ \\sqrt[r]{a} = a^{1/r} $$\n",
        "\n",
        "- เช่น เราสามารถคำนวณค่า $ \\sqrt[3]{8} $ (รากที่ 3 ของ 8) ได้โดยคำสั่ง `8**(1/3)`"
      ]
    },
    {
      "cell_type": "code",
      "execution_count": 24,
      "metadata": {
        "colab": {
          "base_uri": "https://localhost:8080/"
        },
        "id": "J7dLeElisSJA",
        "outputId": "ee0b6398-2bef-40e2-fe77-9390f75860a9"
      },
      "outputs": [
        {
          "data": {
            "text/plain": [
              "2.0"
            ]
          },
          "execution_count": 24,
          "metadata": {},
          "output_type": "execute_result"
        }
      ],
      "source": [
        "8**(1/3)"
      ]
    },
    {
      "cell_type": "markdown",
      "metadata": {
        "id": "6dCZgDrRu2tQ"
      },
      "source": [
        "### แบบฝึกหัด 2.3"
      ]
    },
    {
      "cell_type": "markdown",
      "metadata": {
        "id": "bYqXzulivD1u"
      },
      "source": [
        "เรามาคำนวณค่าของนิพจน์ดังต่อไปนี้กันครับ\n",
        "\n",
        "1. $ 3^{5 + 3/4} $"
      ]
    },
    {
      "cell_type": "code",
      "execution_count": 25,
      "metadata": {
        "id": "_glTD-i5vKGB"
      },
      "outputs": [
        {
          "data": {
            "text/plain": [
              "553.920214840011"
            ]
          },
          "execution_count": 25,
          "metadata": {},
          "output_type": "execute_result"
        }
      ],
      "source": [
        "3**(5+3/4)"
      ]
    },
    {
      "cell_type": "markdown",
      "metadata": {
        "id": "91ZyBqUQvKaS"
      },
      "source": [
        "2. $ \\sqrt[2]{\\left( 7 + 3 \\times 4 \\right)} $"
      ]
    },
    {
      "cell_type": "code",
      "execution_count": 26,
      "metadata": {
        "id": "gzCgYY57vgtd"
      },
      "outputs": [
        {
          "data": {
            "text/plain": [
              "4.358898943540674"
            ]
          },
          "execution_count": 26,
          "metadata": {},
          "output_type": "execute_result"
        }
      ],
      "source": [
        "(7+3*4)**(1/2)"
      ]
    },
    {
      "cell_type": "markdown",
      "metadata": {
        "id": "GDDPl844vhI1"
      },
      "source": [
        "3. $ \\frac{5 + 6^{2.5}}{\\sqrt[2]{3.5}} + 3^2 $"
      ]
    },
    {
      "cell_type": "code",
      "execution_count": 27,
      "metadata": {
        "colab": {
          "base_uri": "https://localhost:8080/"
        },
        "id": "PBNVx0QNuv35",
        "outputId": "1f69b643-1c61-41e3-a2fe-394b89a20632"
      },
      "outputs": [
        {
          "data": {
            "text/plain": [
              "58.8076767100986"
            ]
          },
          "execution_count": 27,
          "metadata": {},
          "output_type": "execute_result"
        }
      ],
      "source": [
        "((5+6**2.5)/3.5**(1/2))+3**2"
      ]
    },
    {
      "cell_type": "markdown",
      "metadata": {
        "id": "ooPvIVBGwZ2n"
      },
      "source": [
        "\n",
        "\n",
        "---\n",
        "\n"
      ]
    },
    {
      "cell_type": "markdown",
      "metadata": {
        "id": "pgbWhdW2wbAt"
      },
      "source": [
        "## กิจกรรม 3: ตัวแปร"
      ]
    },
    {
      "cell_type": "markdown",
      "metadata": {
        "id": "l0AuTrpJw-Zj"
      },
      "source": [
        "### ตัวแปร (variable)\n",
        "\n",
        "- ตัวแปรเปรียบเสมือนที่ทดเลข เพื่อที่จะได้นำผลลัพธ์จากการคำนวณค่าของนิพจน์ที่ทดไว้ ไปใช้ต่อได้ในอนาคต\n",
        "- เนื่องจากกระดาษในคอมพิวเตอร์มีขนาดใหญ่มาก เราจึงต้องจองพื้นที่สำหรับทดเลขและตั้งชื่อเอาไว้ เวลาจะหยิบสิ่งที่ทดไว้กลับมาใช้ใหม่จะได้ไม่หลงที่นั่นเองครับ\n",
        "- เช่น เราสามารถทดค่าของ $ 2^5 $ เก็บไว้ในตัวแปร `a` และทดค่าของ $\\sqrt[2]{5}$ เก็บไว้ในตัวแปร `b` เพื่อใช้ต่อในการคำนวณต่อๆ ไปได้ ซึ่งในตัวอย่างนี้เราจะคำนวณค่าของ $ a^3 + b^3 $ กัน"
      ]
    },
    {
      "cell_type": "code",
      "execution_count": 28,
      "metadata": {
        "colab": {
          "base_uri": "https://localhost:8080/"
        },
        "id": "ThnIsY2BwN-W",
        "outputId": "1822d92b-dce6-49f2-ea53-d929e5f301b8"
      },
      "outputs": [
        {
          "data": {
            "text/plain": [
              "32779.1803398875"
            ]
          },
          "execution_count": 28,
          "metadata": {},
          "output_type": "execute_result"
        }
      ],
      "source": [
        "a = 2**5               # ทดค่าไว้ในตัวแปร a\n",
        "b = 5**(1/2)           # ทดค่าไว้ในตัวแปร b\n",
        "a**3 + b**3"
      ]
    },
    {
      "cell_type": "markdown",
      "metadata": {
        "id": "Kndx5Vp4NvIS"
      },
      "source": [
        "- เราสามารถพิมพ์ค่าตัวแปรออกหน้าจอได้ด้วยคำสั่ง `print` เช่นเดียวกับการแสดงข้อความ เช่น"
      ]
    },
    {
      "cell_type": "code",
      "execution_count": 29,
      "metadata": {
        "colab": {
          "base_uri": "https://localhost:8080/"
        },
        "id": "vSt21fjLN21x",
        "outputId": "9888f37f-5036-40bf-9f7b-16ea1bd328c8"
      },
      "outputs": [
        {
          "name": "stdout",
          "output_type": "stream",
          "text": [
            "32\n",
            "2.23606797749979\n"
          ]
        }
      ],
      "source": [
        "print(a)\n",
        "print(b)"
      ]
    },
    {
      "cell_type": "markdown",
      "metadata": {
        "id": "9j--LmL3NK6R"
      },
      "source": [
        "- แต่บางครั้งการตั้งชื่อตัวแปรด้วยตัวอักษรเดี่ยวๆ ก็จำยาก เดี๋ยวมาอ่านทีหลังก็อาจจะลืมอีก เราเลยนิยมตั้งชื่อตัวแปรให้เป็นคำที่อ่านแล้วจำได้ง่ายแทนครับ เช่น `width` (ความกว้าง), `height` (ความสูง), และ `area` (พื้นที่) ดังตัวอย่างด้านล่างนี้"
      ]
    },
    {
      "cell_type": "code",
      "execution_count": 30,
      "metadata": {
        "colab": {
          "base_uri": "https://localhost:8080/"
        },
        "id": "meSEOCkcyhLh",
        "outputId": "7e2e2354-c0c3-4d04-d6b5-55ef31c6ce8f"
      },
      "outputs": [
        {
          "name": "stdout",
          "output_type": "stream",
          "text": [
            "1200\n"
          ]
        }
      ],
      "source": [
        "width = 40\n",
        "height = 30\n",
        "area = width * height\n",
        "print(area)"
      ]
    },
    {
      "cell_type": "markdown",
      "metadata": {
        "id": "vkgRu82eTgjP"
      },
      "source": [
        "- หากชื่อตัวแปรประกอบด้วยหลายคำ ให้ใช้เครื่องหมาย _ (ขีดเส้นใต้ หรือ underscore) คั่นระหว่างคำ เพื่อให้อ่านง่ายขึ้น เช่น `area_of_triangle` พื้นที่สามเหลี่ยม เป็นต้น"
      ]
    },
    {
      "cell_type": "code",
      "execution_count": 31,
      "metadata": {
        "colab": {
          "base_uri": "https://localhost:8080/"
        },
        "id": "RaQM-05XTx5c",
        "outputId": "85ddf428-8f2b-4044-f431-d09e90f0c02c"
      },
      "outputs": [
        {
          "name": "stdout",
          "output_type": "stream",
          "text": [
            "600.0\n"
          ]
        }
      ],
      "source": [
        "width = 40\n",
        "height = 30\n",
        "area_of_triangle = 1/2 * width * height\n",
        "print(area_of_triangle)"
      ]
    },
    {
      "cell_type": "markdown",
      "metadata": {
        "id": "BiK0DdrVQ9MU"
      },
      "source": [
        "- นอกจากนี้คำสั่ง `print` ยังสามารถพิมพ์ค่าออกหน้าจอได้หลายๆ อันพร้อมกัน เช่น"
      ]
    },
    {
      "cell_type": "code",
      "execution_count": 32,
      "metadata": {
        "colab": {
          "base_uri": "https://localhost:8080/"
        },
        "id": "RHR2gYTdQ9MV",
        "outputId": "c13638d3-1dd5-4af3-9eab-10ba7fdde6cb"
      },
      "outputs": [
        {
          "name": "stdout",
          "output_type": "stream",
          "text": [
            "width = 40 and height = 30\n",
            "area = width * height = 600.0\n"
          ]
        }
      ],
      "source": [
        "width = 40\n",
        "height = 30\n",
        "area_of_triangle = 1/2 * width * height\n",
        "print('width =', width, 'and height =', height)\n",
        "print('area = width * height =',area_of_triangle)"
      ]
    },
    {
      "cell_type": "markdown",
      "metadata": {
        "id": "Tb5gK29HOr2l"
      },
      "source": [
        "### แบบฝึกหัด 3.1"
      ]
    },
    {
      "cell_type": "markdown",
      "metadata": {
        "id": "DJqgYt_fOuC7"
      },
      "source": [
        "1. ทดลองกำหนดค่าในตัวแปร `a`, `b`, และ `c` ในโค้ดด้านล่าง แล้วสังเกตความเปลี่ยนแปลงของผลลัพธ์"
      ]
    },
    {
      "cell_type": "code",
      "execution_count": 33,
      "metadata": {
        "id": "A_G1EELUO8A3"
      },
      "outputs": [
        {
          "name": "stdout",
          "output_type": "stream",
          "text": [
            "20.0\n"
          ]
        }
      ],
      "source": [
        "a = 10\n",
        "b = 20\n",
        "c = 30\n",
        "mean = (a + b + c)/3     # เติมโค้ดที่นี่\n",
        "print(mean)"
      ]
    },
    {
      "cell_type": "markdown",
      "metadata": {
        "id": "ls5Uhzv2PJ3S"
      },
      "source": [
        "2. ตัวแปร `mean` ในโค้ดด้านบนคือค่าอะไร? ทำไมจึงต้องตั้งชื่อตัวแปรแบบนี้?"
      ]
    },
    {
      "cell_type": "markdown",
      "metadata": {
        "id": "nE1IZ7HmPVFe"
      },
      "source": [
        "3. จงเขียนโค้ดลงในช่องว่างให้สมบูรณ์ เพื่อคำนวณค่าเฉลี่ยฮาร์โมนิก (harmonic mean) ของตัวแปร `a`, `b`, และ `c` โดยค่าเฉลี่ยฮาร์โมนิกมีสูตรดังนี้\n",
        "\n",
        "$$ \\mathrm{hmean}(a, b, c) = \\frac{3}{\\frac{1}{a} + \\frac{1}{b} + \\frac{1}{c}} $$"
      ]
    },
    {
      "cell_type": "code",
      "execution_count": 34,
      "metadata": {
        "id": "wESm-_7UQgto"
      },
      "outputs": [
        {
          "name": "stdout",
          "output_type": "stream",
          "text": [
            "12.0\n"
          ]
        }
      ],
      "source": [
        "a = 10\n",
        "b = 20\n",
        "c = 10\n",
        "hmean = 3/(1/a + 1/b + 1/c)     # เติมโค้ดที่นี่\n",
        "print(hmean)"
      ]
    },
    {
      "cell_type": "markdown",
      "metadata": {
        "id": "_kSIyZjOQrC5"
      },
      "source": [
        "4. ทดลองเปลี่ยนค่าตัวแปร `a`, `b`, และ `c` และสังเกตความเปลี่ยนแปลงของผลลัพธ์"
      ]
    },
    {
      "cell_type": "markdown",
      "metadata": {
        "id": "3jdzSIenRLHh"
      },
      "source": [
        "5. เขียนโค้ดเพื่อคำนวณปริมาตรของทรงรี (ellipsoid) จากตัวแปรต่อไปนี้\n",
        "  - ความกว้างเก็บอยู่ในตัวแปร `width`\n",
        "  - ความยาวเก็บอยู่ในตัวแปร `length`\n",
        "  - ความลึกเก็บอยู่ในตัวแปร `depth`\n",
        "\n",
        "  สูตรของปริมาตรทรงรีมีดังนี้\n",
        "\n",
        "$$ \\mathtt{volume} = \\frac{4}{3} \\times \\pi \\times \\mathtt{width} \\times \\mathtt{length} \\times \\mathtt{depth} $$"
      ]
    },
    {
      "cell_type": "code",
      "execution_count": 35,
      "metadata": {
        "colab": {
          "base_uri": "https://localhost:8080/"
        },
        "id": "qaNjNBLiShDO",
        "outputId": "fb913704-1736-4752-cb15-b6a81efdab58"
      },
      "outputs": [
        {
          "name": "stdout",
          "output_type": "stream",
          "text": [
            "100530.9632\n"
          ]
        }
      ],
      "source": [
        "pi = 3.1415926   # ค่า 𝜋 (ไพ)\n",
        "\n",
        "# กำหนดความกว้างในตัวแปร width ให้เท่ากับ 20\n",
        "width = 20\n",
        "\n",
        "# กำหนดความยาวในตัวแปร length ให้เท่ากับ 30\n",
        "length = 30\n",
        "\n",
        "# กำหนดความลึกในตัวแปร depth ให้เท่ากับ 40\n",
        "depth = 40\n",
        "\n",
        "# คำนวณปริมาตรของทรงรีแล้วเก็บในตัวแปร volume\n",
        "volume = (4/3) * pi * width * length * depth\n",
        "\n",
        "# พิมพ์ค่าในตัวแปร volume\n",
        "print(volume)"
      ]
    },
    {
      "cell_type": "markdown",
      "metadata": {
        "id": "mJEc0b6eX2J7"
      },
      "source": [
        "\n",
        "\n",
        "---\n",
        "\n"
      ]
    },
    {
      "cell_type": "markdown",
      "metadata": {
        "id": "8K7bjR4gX40b"
      },
      "source": [
        "## กิจกรรม 4: การเก็บรายการข้อมูล"
      ]
    },
    {
      "cell_type": "markdown",
      "metadata": {
        "id": "Bluf-lrzQ9Mn"
      },
      "source": [
        "### ลิสต์ (list)"
      ]
    },
    {
      "cell_type": "markdown",
      "metadata": {
        "id": "0US1X4bCYZui"
      },
      "source": [
        "- ลิสต์ (list) คือรายการสิ่งของที่เราสามารถปรับเปลี่ยนรายการได้ตลอดเวลาครับ\n",
        "- ลิสต์ใช้สัญลักษณ์ `[ ]` คั่นด้วยเครื่องหมายคอมมา `,`\n",
        "- เช่น ลิสต์ของความสูงนักเรียนในกลุ่ม 5 คน มีดังนี้"
      ]
    },
    {
      "cell_type": "code",
      "execution_count": 36,
      "metadata": {
        "colab": {
          "base_uri": "https://localhost:8080/"
        },
        "id": "udz9Nb3aY9ay",
        "outputId": "ed98f43e-5f5c-4994-d7fb-fdde5b4c41f4"
      },
      "outputs": [
        {
          "data": {
            "text/plain": [
              "[163.5, 150.0, 167.0, 161.25, 170.0]"
            ]
          },
          "execution_count": 36,
          "metadata": {},
          "output_type": "execute_result"
        }
      ],
      "source": [
        "[163.5, 150.0, 167.0, 161.25, 170.0]"
      ]
    },
    {
      "cell_type": "markdown",
      "metadata": {
        "id": "pnppmrRDZIoW"
      },
      "source": [
        "- เราสามารถนำลิสต์มาเก็บในตัวแปรได้ ทำให้ตัวแปรเดียวสามารถเก็บค่าไว้ได้หลายค่าครับ เช่น"
      ]
    },
    {
      "cell_type": "code",
      "execution_count": 37,
      "metadata": {
        "colab": {
          "base_uri": "https://localhost:8080/"
        },
        "id": "ofA5ppq6ZFRb",
        "outputId": "43c61976-e2ee-4922-aff3-ed550f83a401"
      },
      "outputs": [
        {
          "name": "stdout",
          "output_type": "stream",
          "text": [
            "student heights = [163.5, 150.0, 167.0, 161.25, 170.0]\n"
          ]
        }
      ],
      "source": [
        "# ลิสต์ความสูงของนักเรียนในกลุ่ม\n",
        "student_heights = [163.5, 150.0, 167.0, 161.25, 170.0]\n",
        "print('student heights =', student_heights)"
      ]
    },
    {
      "cell_type": "markdown",
      "metadata": {
        "id": "niyzhLfrQ9Ms"
      },
      "source": [
        "### แบบฝึกหัด 4.1"
      ]
    },
    {
      "cell_type": "markdown",
      "metadata": {
        "id": "zRpSX830Q9Mt"
      },
      "source": [
        "ลองสร้างลิสต์จากรายการสมาชิกดังต่อไปนี้ `[10, 20, 30, 40, 50]` แล้วเก็บลงในตัวแปร `my_list`"
      ]
    },
    {
      "cell_type": "code",
      "execution_count": 38,
      "metadata": {
        "colab": {
          "base_uri": "https://localhost:8080/"
        },
        "id": "LsYqCYdAQ9Mu",
        "outputId": "8a5ac349-5e42-4be2-f19f-fed2309c107d"
      },
      "outputs": [
        {
          "name": "stdout",
          "output_type": "stream",
          "text": [
            "[10, 20, 30, 40, 50]\n"
          ]
        }
      ],
      "source": [
        "my_list = [10, 20, 30, 40, 50]   # เติมโค้ดที่นี่\n",
        "print(my_list)"
      ]
    },
    {
      "cell_type": "markdown",
      "metadata": {
        "id": "ZtODrxMfQ9Mv"
      },
      "source": [
        "### ขนาดของลิสต์"
      ]
    },
    {
      "cell_type": "markdown",
      "metadata": {
        "id": "jaw8Nx9SQ9Mw"
      },
      "source": [
        "- เราสามารถหาขนาดของลิสต์ได้ด้วยคำสั่ง `len` ซึ่งย่อมาจากคำว่า length เช่น"
      ]
    },
    {
      "cell_type": "code",
      "execution_count": 39,
      "metadata": {
        "colab": {
          "base_uri": "https://localhost:8080/"
        },
        "id": "yL0pem8QQ9Mx",
        "outputId": "1daea306-67d0-4457-a054-2ac2d31a51a0"
      },
      "outputs": [
        {
          "data": {
            "text/plain": [
              "5"
            ]
          },
          "execution_count": 39,
          "metadata": {},
          "output_type": "execute_result"
        }
      ],
      "source": [
        "len(student_heights)"
      ]
    },
    {
      "cell_type": "markdown",
      "metadata": {
        "id": "bs5U4y_YQ9M0"
      },
      "source": [
        "### แบบฝึกหัด 4.2"
      ]
    },
    {
      "cell_type": "markdown",
      "metadata": {
        "id": "LYugAzfwQ9M0"
      },
      "source": [
        "จงหาขนาดของลิสต์ในตัวแปร `my_list` ใส่ตัวแปร `my_length` แล้วพิมพ์ค่าของตัวแปรดังกล่าวออกหน้าจอ"
      ]
    },
    {
      "cell_type": "code",
      "execution_count": 40,
      "metadata": {
        "colab": {
          "base_uri": "https://localhost:8080/"
        },
        "id": "Z2pMSTcUQ9M1",
        "outputId": "310c2446-0574-4b3d-e9ff-587e184397cd"
      },
      "outputs": [
        {
          "name": "stdout",
          "output_type": "stream",
          "text": [
            "5\n"
          ]
        }
      ],
      "source": [
        "my_length = len(my_list)     # เติมโค้ดที่นี่\n",
        "print(my_length)"
      ]
    },
    {
      "cell_type": "markdown",
      "metadata": {
        "id": "b3gF6UmGQ9M5"
      },
      "source": [
        "### การเข้าถึงสมาชิกภายในลิสต์"
      ]
    },
    {
      "cell_type": "markdown",
      "metadata": {
        "id": "c8aJEuctQ9M6"
      },
      "source": [
        "- เราสามารถเข้าถึงสมาชิกแต่ละตัวในลิสต์ด้วยการระบุตำแหน่งของสมาชิกที่เราต้องการ\n",
        "- การนับตำแหน่ง (index) ของสมาชิก จะเริ่มต้นจาก 0 เสมอ เช่น `student_heights[0]` จะแทนสมาชิกตัวแรกของลิสต์ความสูงของนักเรียน ในขณะที่ `student_heights[1]` จะแทนสมาชิกตัวที่ 2 ของลิสต์ ฯลฯ"
      ]
    },
    {
      "cell_type": "code",
      "execution_count": 41,
      "metadata": {
        "colab": {
          "base_uri": "https://localhost:8080/"
        },
        "id": "Q-34J0FQZpc-",
        "outputId": "c4fb08c0-fb3c-4541-9139-d793f94fcf00"
      },
      "outputs": [
        {
          "name": "stdout",
          "output_type": "stream",
          "text": [
            "163.5\n",
            "150.0\n",
            "167.0\n",
            "161.25\n",
            "170.0\n"
          ]
        }
      ],
      "source": [
        "print(student_heights[0])\n",
        "print(student_heights[1])\n",
        "print(student_heights[2])\n",
        "print(student_heights[3])\n",
        "print(student_heights[4])"
      ]
    },
    {
      "cell_type": "markdown",
      "metadata": {
        "id": "4BhAloSPQ9M-"
      },
      "source": [
        "- และนี่คือความแปลกอย่างหนึ่งของการเขียนโปรแกรมคอมพิวเตอร์ครับ\n",
        "  - ภาษาโปรแกรมส่วนใหญ่จะเริ่มนับตำแหน่งของสมาชิกจาก 0 เสมอ\n",
        "  - มันมองว่าตำแหน่ง 0 แทนจุดเริ่มต้นของพื้นที่กระดาษทด\n",
        "  - การระบุตำแหน่ง (index) ก็คือการเอาตำแหน่งจุดเริ่มต้นของกระดาษทด บวกกับตำแหน่ง index นั้นนั่นเองครับ"
      ]
    },
    {
      "cell_type": "markdown",
      "metadata": {
        "id": "OLEiVfrVQ9M-"
      },
      "source": [
        "- หากเราระบุตำแหน่งเกินจากขนาดของลิสต์ คอมพิวเตอร์จะฟ้องออกมาด้วยคำว่า `IndexError` ซึ่งแปลว่าระบุค่าตำแหน่งเกินขนาดของลิสต์ เช่น"
      ]
    },
    {
      "cell_type": "code",
      "execution_count": 42,
      "metadata": {
        "colab": {
          "base_uri": "https://localhost:8080/",
          "height": 164
        },
        "id": "1A6RLOimQ9M_",
        "outputId": "4ff55111-0ff3-4700-b4bb-03008108e3a3"
      },
      "outputs": [
        {
          "ename": "IndexError",
          "evalue": "list index out of range",
          "output_type": "error",
          "traceback": [
            "\u001b[0;31m---------------------------------------------------------------------------\u001b[0m",
            "\u001b[0;31mIndexError\u001b[0m                                Traceback (most recent call last)",
            "\u001b[0;32m/tmp/ipykernel_19426/727272617.py\u001b[0m in \u001b[0;36m<module>\u001b[0;34m\u001b[0m\n\u001b[0;32m----> 1\u001b[0;31m \u001b[0mprint\u001b[0m\u001b[0;34m(\u001b[0m\u001b[0mstudent_heights\u001b[0m\u001b[0;34m[\u001b[0m\u001b[0;36m10\u001b[0m\u001b[0;34m]\u001b[0m\u001b[0;34m)\u001b[0m     \u001b[0;31m# ทั้งๆ ที่ลิสต์ student_heights มีขนาดแค่ 5 ตัว\u001b[0m\u001b[0;34m\u001b[0m\u001b[0;34m\u001b[0m\u001b[0m\n\u001b[0m",
            "\u001b[0;31mIndexError\u001b[0m: list index out of range"
          ]
        }
      ],
      "source": [
        "print(student_heights[10])     # ทั้งๆ ที่ลิสต์ student_heights มีขนาดแค่ 5 ตัว"
      ]
    },
    {
      "cell_type": "markdown",
      "metadata": {
        "id": "1Cmh3M87Q9NB"
      },
      "source": [
        "### แบบฝึกหัด 4.3"
      ]
    },
    {
      "cell_type": "markdown",
      "metadata": {
        "id": "q90WgmjZQ9NC"
      },
      "source": [
        "จงคำนวณผลรวมของสมาชิกทุกตัวของลิสต์ในตัวแปร `my_list` เพื่อหาค่าเฉลี่ยโดยใช้สูตร\n",
        "\n",
        "$$ \\mathrm{avg}(\\mathbf{a}) = \\frac{\\sum_{i = 1}^N a_i}{N} $$\n",
        "\n",
        "เมื่อค่า $ N $ คือจำนวนสมาชิกที่มีในลิสต์ $ \\mathbf{a} $"
      ]
    },
    {
      "cell_type": "code",
      "execution_count": 44,
      "metadata": {
        "colab": {
          "base_uri": "https://localhost:8080/",
          "height": 215
        },
        "id": "h4WiN35xQ9ND",
        "outputId": "ca1fb6cb-0289-474c-d428-2e25d4afe4b9"
      },
      "outputs": [
        {
          "name": "stdout",
          "output_type": "stream",
          "text": [
            "162.35\n"
          ]
        }
      ],
      "source": [
        "# คำนวณผลรวมของสมาชิกทุกตัวใน my_list\n",
        "my_summation = sum(student_heights)      # เติมโค้ดที่นี่\n",
        "my_average = my_summation / my_length\n",
        "print(my_average)"
      ]
    },
    {
      "cell_type": "markdown",
      "metadata": {
        "id": "RsM4QdfeQ9NF"
      },
      "source": [
        "### การเปลี่ยนแปลงสมาชิกภายในลิสต์"
      ]
    },
    {
      "cell_type": "markdown",
      "metadata": {
        "id": "B3_hl4rwQ9NG"
      },
      "source": [
        "- เราสามารถเปลี่ยนแปลงสมาชิกภายในลิสต์ โดยการใช้เครื่องหมาย `=` เหมือนกับการกำหนดค่าในตัวแปร\n",
        "- เช่น เราสามารถเปลี่ยนสมาชิกตัวที่ 2 ของลิสต์ `student_heights` จากค่า 150.0 ให้เป็นค่า 180.0 ได้"
      ]
    },
    {
      "cell_type": "code",
      "execution_count": 45,
      "metadata": {
        "colab": {
          "base_uri": "https://localhost:8080/"
        },
        "id": "XwvobIS6Q9NH",
        "outputId": "d3a2ecd8-6e24-42ed-a5ba-161538c1eb5e"
      },
      "outputs": [
        {
          "name": "stdout",
          "output_type": "stream",
          "text": [
            "[163.5, 180.0, 167.0, 161.25, 170.0]\n"
          ]
        }
      ],
      "source": [
        "student_heights[1] = 180.0\n",
        "print(student_heights)"
      ]
    },
    {
      "cell_type": "markdown",
      "metadata": {
        "id": "zkcPOP0jQ9NK"
      },
      "source": [
        "### แบบฝึกหัด 4.4"
      ]
    },
    {
      "cell_type": "markdown",
      "metadata": {
        "id": "N5gbbNL-Q9NL"
      },
      "source": [
        "จงเพิ่มค่าให้สมาชิกทุกตัวของลิสต์ในตัวแปร `my_list` อย่างละ 5 ด้วยเครื่องหมาย `+` และพิมพ์ตัวแปร `my_list` ออกหน้าจอ"
      ]
    },
    {
      "cell_type": "code",
      "execution_count": 48,
      "metadata": {
        "colab": {
          "base_uri": "https://localhost:8080/"
        },
        "id": "xg7N-tfmQ9NM",
        "outputId": "0c471f97-b7fd-4d3b-9d5d-636d3887f781"
      },
      "outputs": [
        {
          "name": "stdout",
          "output_type": "stream",
          "text": [
            "[15, 25, 35, 45, 55]\n"
          ]
        }
      ],
      "source": [
        "my_list = [10, 20, 30, 40, 50]\n",
        "\n",
        "my_list = [i + 5 for i in my_list]\n",
        "\n",
        "print(my_list)"
      ]
    },
    {
      "cell_type": "markdown",
      "metadata": {
        "id": "tTlfaQDFQ9NQ"
      },
      "source": [
        "ได้ผลลัพธ์เป็น `[15, 25, 35, 45, 55]` หรือเปล่าครับ?"
      ]
    },
    {
      "cell_type": "markdown",
      "metadata": {
        "id": "h7dtQOn9Q9NR"
      },
      "source": [
        "### การเลือกบางส่วนของลิสต์ (slicing)"
      ]
    },
    {
      "cell_type": "markdown",
      "metadata": {
        "id": "_2A_bfipQ9NR"
      },
      "source": [
        "- นอกจากเราจะสามารถเลือกสมาชิกบางตัวในลิสต์ได้แล้ว เรายังสามารถเลือกบางส่วนของลิสต์ได้ด้วย\n",
        "- **คำสั่งเลือกบางส่วน (slicing):** `ลิสต์[` $a$ `:` $b$ `]` จะเลือกสมาชิกตั้งแต่ index ที่ $a$ จนถึง index ที่ $b - 1$\n",
        "- เช่น ถ้าเราต้องการเลือกสมาชิกตั้งแต่ตัวที่ 2 จนถึงตัวที่ 4 ของลิสต์ในตัวแปร `student_heights` เราจะใช้คำสั่ง `student_heights[1:4]`"
      ]
    },
    {
      "cell_type": "code",
      "execution_count": 52,
      "metadata": {
        "colab": {
          "base_uri": "https://localhost:8080/"
        },
        "id": "-1LUWF4AQ9NS",
        "outputId": "21924de9-7522-481a-fe85-7fb7c385af01"
      },
      "outputs": [
        {
          "data": {
            "text/plain": [
              "[163.5, 180.0, 167.0, 161.25, 170.0]"
            ]
          },
          "execution_count": 52,
          "metadata": {},
          "output_type": "execute_result"
        }
      ],
      "source": [
        "student_heights"
      ]
    },
    {
      "cell_type": "code",
      "execution_count": 53,
      "metadata": {
        "colab": {
          "base_uri": "https://localhost:8080/"
        },
        "id": "qXt8y6VdQ9NU",
        "outputId": "6b13625d-27b0-44df-d6bb-affe3817d83c"
      },
      "outputs": [
        {
          "data": {
            "text/plain": [
              "[180.0, 167.0, 161.25]"
            ]
          },
          "execution_count": 53,
          "metadata": {},
          "output_type": "execute_result"
        }
      ],
      "source": [
        "student_heights[1:4]"
      ]
    },
    {
      "cell_type": "markdown",
      "metadata": {
        "id": "thB4BqBLQ9NW"
      },
      "source": [
        "- คำสั่งเลือกบางส่วนสามารถละจุดจบได้ด้วย `ลิสต์[` $a$ `:]`\n",
        "- เช่น เราจะเลือกสมาชิกตั้งแต่ตัวที่ 2 เป็นต้นไปในลิสต์ `student_heights` ด้วยคำสั่ง `student_heights[1:]`"
      ]
    },
    {
      "cell_type": "code",
      "execution_count": 54,
      "metadata": {
        "colab": {
          "base_uri": "https://localhost:8080/"
        },
        "id": "BLbAnkHMQ9NW",
        "outputId": "50e7c3b0-4f02-4d8a-8892-a6147a59bc52"
      },
      "outputs": [
        {
          "data": {
            "text/plain": [
              "[180.0, 167.0, 161.25, 170.0]"
            ]
          },
          "execution_count": 54,
          "metadata": {},
          "output_type": "execute_result"
        }
      ],
      "source": [
        "student_heights[1:]"
      ]
    },
    {
      "cell_type": "markdown",
      "metadata": {
        "id": "9r5C1IDpQ9NY"
      },
      "source": [
        "- คำสั่งเลือกบางส่วนสามารถละจุดตั้งต้นได้ด้วย `ลิสต์[:` $b$ `]`\n",
        "- เช่น เราจะเลือกสมาชิกตั้งแต่ตัวแรกจนถึงตัวที่ 4 ด้วยคำสั่ง `student_heights[:4]`"
      ]
    },
    {
      "cell_type": "code",
      "execution_count": null,
      "metadata": {
        "colab": {
          "base_uri": "https://localhost:8080/"
        },
        "id": "7_KH8QQ7Q9NY",
        "outputId": "9a7ca7c4-c00e-4e9c-b1a0-b9048acc8e87"
      },
      "outputs": [
        {
          "data": {
            "text/plain": [
              "[163.5, 180.0, 167.0, 161.25]"
            ]
          },
          "execution_count": 29,
          "metadata": {},
          "output_type": "execute_result"
        }
      ],
      "source": [
        "student_heights[:4]"
      ]
    },
    {
      "cell_type": "markdown",
      "metadata": {
        "id": "yv1pWL8rQ9Na"
      },
      "source": [
        "### แบบฝึกหัด 4.5"
      ]
    },
    {
      "cell_type": "markdown",
      "metadata": {
        "id": "RnBZw8g4Q9Nb"
      },
      "source": [
        "ในแบบฝึกหัดนี้ เรามีลิสต์ `my_list` ที่มีสมาชิก 10 ตัวดังนี้"
      ]
    },
    {
      "cell_type": "code",
      "execution_count": 63,
      "metadata": {
        "id": "KwGBhFs2Q9Nb"
      },
      "outputs": [],
      "source": [
        "my_list = [10, 20, 30, 40, 50, 60, 70, 80, 90, 100]"
      ]
    },
    {
      "cell_type": "markdown",
      "metadata": {
        "id": "-P3QW6MmQ9Ne"
      },
      "source": [
        "1. จงเลือกสมาชิกตัวที่ 3 จนถึงตัวที่ 7"
      ]
    },
    {
      "cell_type": "code",
      "execution_count": 64,
      "metadata": {
        "id": "wEpImr9GQ9Nf"
      },
      "outputs": [
        {
          "data": {
            "text/plain": [
              "[30, 40, 50, 60, 70]"
            ]
          },
          "execution_count": 64,
          "metadata": {},
          "output_type": "execute_result"
        }
      ],
      "source": [
        "# เริ่มต้นจากสมาชิกตัวที่ 3 --> index = 2\n",
        "# จบที่สมาชิกตัวที่ 7 --> index = 6\n",
        "# แปลว่า เราเลือก index 2 จนถึง index 6\n",
        "# ขอบล่างของ slicing คือ index 2\n",
        "# ขอบบนของ slicing คือ index 6 + 1\n",
        "# จึงเขียนเป็น slicing ได้ว่า my_list[2:7]\n",
        "my_list[2:7]"
      ]
    },
    {
      "cell_type": "markdown",
      "metadata": {
        "id": "Rqaz9C2MQ9Ni"
      },
      "source": [
        "2. จงเลือกสมาชิกตัวที่ 2 จนถึงตัวที่ 5"
      ]
    },
    {
      "cell_type": "code",
      "execution_count": 61,
      "metadata": {
        "id": "9B9p_rqqQ9Nj"
      },
      "outputs": [
        {
          "data": {
            "text/plain": [
              "[20, 30, 40, 50]"
            ]
          },
          "execution_count": 61,
          "metadata": {},
          "output_type": "execute_result"
        }
      ],
      "source": [
        "my_list[1:5]"
      ]
    },
    {
      "cell_type": "markdown",
      "metadata": {
        "id": "2tvWQHuVQ9Nm"
      },
      "source": [
        "3. จงเลือกสมาชิกตั้งแต่ตัวแรกจนถึงตัวที่ 8"
      ]
    },
    {
      "cell_type": "code",
      "execution_count": 62,
      "metadata": {
        "id": "pE24XIMTQ9Nn"
      },
      "outputs": [
        {
          "data": {
            "text/plain": [
              "[10, 20, 30, 40, 50, 60, 70, 80]"
            ]
          },
          "execution_count": 62,
          "metadata": {},
          "output_type": "execute_result"
        }
      ],
      "source": [
        "my_list[:8]"
      ]
    },
    {
      "cell_type": "markdown",
      "metadata": {
        "id": "0X63dtBoQ9Nq"
      },
      "source": [
        "4. จงเลือกสมาชิกตั้งแต่ตัวที่ 4 เป็นต้นไป"
      ]
    },
    {
      "cell_type": "code",
      "execution_count": 66,
      "metadata": {
        "id": "VaqG-V4eQ9Nr"
      },
      "outputs": [
        {
          "data": {
            "text/plain": [
              "[40, 50, 60, 70, 80, 90, 100]"
            ]
          },
          "execution_count": 66,
          "metadata": {},
          "output_type": "execute_result"
        }
      ],
      "source": [
        "my_list[3:]"
      ]
    },
    {
      "cell_type": "markdown",
      "metadata": {
        "id": "hnnbK7UMQ9Nu"
      },
      "source": [
        "----"
      ]
    },
    {
      "cell_type": "markdown",
      "metadata": {
        "id": "Tdj2PFqvQ9Nv"
      },
      "source": [
        "## กิจกรรม 5: ข้อความ"
      ]
    },
    {
      "cell_type": "markdown",
      "metadata": {
        "id": "hsuBIN-7Q9Nw"
      },
      "source": [
        "- ในกิจกรรม 1 เราได้ทดลองพิมพ์ข้อความออกหน้าจอกันไปแล้ว\n",
        "- จริงๆ แล้ว ข้อความ (string) ก็เป็นข้อมูลรูปแบบหนึ่งที่เราสามารถประมวลผลได้และทดไว้ในตัวแปรได้เช่นเดียวกันครับ\n",
        "- เช่น เราสามารถเก็บข้อความ `'Hello'` ไว้ในตัวแปร `message` ได้"
      ]
    },
    {
      "cell_type": "code",
      "execution_count": 67,
      "metadata": {
        "colab": {
          "base_uri": "https://localhost:8080/"
        },
        "id": "yeS07L9QQ9Nx",
        "outputId": "4d13ddc8-99c4-443b-cfe7-43149079a368"
      },
      "outputs": [
        {
          "name": "stdout",
          "output_type": "stream",
          "text": [
            "Hello\n"
          ]
        }
      ],
      "source": [
        "message = 'Hello'\n",
        "print(message)"
      ]
    },
    {
      "cell_type": "markdown",
      "metadata": {
        "id": "Kkk0ST0wQ9Nz"
      },
      "source": [
        "### การต่อข้อความ"
      ]
    },
    {
      "cell_type": "markdown",
      "metadata": {
        "id": "ReC4JC5zQ9N0"
      },
      "source": [
        "- เราสามารถนำข้อความ 2 อันมาต่อกันได้ด้วยเครื่องหมาย `+` ครับ\n",
        "- เช่น เราจะต่อข้อความในตัวแปร `message1` และ `message2` เข้าด้วยกันได้ดังนี้"
      ]
    },
    {
      "cell_type": "code",
      "execution_count": 68,
      "metadata": {
        "colab": {
          "base_uri": "https://localhost:8080/"
        },
        "id": "hKTAUn8kQ9N1",
        "outputId": "00204832-b9ac-4b34-fbfc-7d60daaa458e"
      },
      "outputs": [
        {
          "name": "stdout",
          "output_type": "stream",
          "text": [
            "Hello World!\n"
          ]
        }
      ],
      "source": [
        "message1 = 'Hello '\n",
        "message2 = 'World!'\n",
        "message = message1 + message2\n",
        "print(message)"
      ]
    },
    {
      "cell_type": "markdown",
      "metadata": {
        "id": "gc7gdlZ3Q9N3"
      },
      "source": [
        "### การทำซ้ำข้อความ"
      ]
    },
    {
      "cell_type": "markdown",
      "metadata": {
        "id": "NbVelsnyQ9N4"
      },
      "source": [
        "- นอกจากนี้เรายังสามารถทำซ้ำข้อความได้ด้วยเครื่องหมาย `*`\n",
        "- เช่น ถ้าเราต้องการทำซ้ำข้อความ `hello` 3 รอบ เราจะทำอย่างนี้ครับ"
      ]
    },
    {
      "cell_type": "code",
      "execution_count": null,
      "metadata": {
        "colab": {
          "base_uri": "https://localhost:8080/",
          "height": 37
        },
        "id": "nf4MTSCKQ9N4",
        "outputId": "10262782-2c7c-49a1-cfc3-4156bed74691"
      },
      "outputs": [
        {
          "data": {
            "application/vnd.google.colaboratory.intrinsic+json": {
              "type": "string"
            },
            "text/plain": [
              "'hellohellohello'"
            ]
          },
          "execution_count": 25,
          "metadata": {},
          "output_type": "execute_result"
        }
      ],
      "source": [
        "3 * 'hello'"
      ]
    },
    {
      "cell_type": "markdown",
      "metadata": {
        "id": "Y5UJ1C45Q9N7"
      },
      "source": [
        "### แบบฝึกหัด 5.1"
      ]
    },
    {
      "cell_type": "markdown",
      "metadata": {
        "id": "JhA37nMEQ9N8"
      },
      "source": [
        "จงสร้างตัวแปร 2 ตัว\n",
        "\n",
        "- `message1` เก็บข้อความ `'Hello '`\n",
        "- `message2` เก็บข้อความ `'World '`\n",
        "\n",
        "หลังจากนั้นให้ทำซ้ำ `message1` 3 ครั้ง และ `message2` 5 ครั้ง นำผลลัพธ์ทั้งสองอันมาต่อกัน แล้วนำมาเก็บในตัวแปร `message3`"
      ]
    },
    {
      "cell_type": "code",
      "execution_count": 69,
      "metadata": {
        "id": "I-FlO_irQ9N9"
      },
      "outputs": [
        {
          "name": "stdout",
          "output_type": "stream",
          "text": [
            "Hello Hello Hello World World World World World \n"
          ]
        }
      ],
      "source": [
        "message1 = 'Hello ' * 3\n",
        "message2 ='World ' * 5\n",
        "message3 = message1 + message2\n",
        "print(message3)"
      ]
    },
    {
      "cell_type": "markdown",
      "metadata": {
        "id": "YMP5K__0Q9OA"
      },
      "source": [
        "### ข้อความในฐานะของลิสต์"
      ]
    },
    {
      "cell_type": "markdown",
      "metadata": {
        "id": "e95H1SQmQ9OB"
      },
      "source": [
        "- ในภาษา Python ข้อความคือลิสต์ของตัวอักษรครับ\n",
        "- เราสามารถเข้าถึงตัวอักษรสมาชิกแต่ละตัวในข้อความได้"
      ]
    },
    {
      "cell_type": "code",
      "execution_count": 70,
      "metadata": {
        "colab": {
          "base_uri": "https://localhost:8080/"
        },
        "id": "-JDFV1KCQ9OC",
        "outputId": "4aa5d327-bcc4-48df-91fc-2fade8213f63"
      },
      "outputs": [
        {
          "name": "stdout",
          "output_type": "stream",
          "text": [
            "h\n",
            "e\n",
            "l\n",
            "l\n",
            "o\n"
          ]
        }
      ],
      "source": [
        "message = 'hello'\n",
        "print(message[0])\n",
        "print(message[1])\n",
        "print(message[2])\n",
        "print(message[3])\n",
        "print(message[4])"
      ]
    },
    {
      "cell_type": "markdown",
      "metadata": {
        "id": "82AX_rfsQ9OI"
      },
      "source": [
        "- นอกจากนี้ เรายังสามารถเลือกบางส่วนของข้อความมาได้ด้วย เหมือนอย่างที่เราเลือกบางส่วนของลิสต์ครับ\n",
        "- เช่น เราสามารถเลือกตั้งแต่ตัวอักษร index ที่ 1 จนถึง index ที่ 3 ได้ด้วยคำสั่งนี้"
      ]
    },
    {
      "cell_type": "code",
      "execution_count": 71,
      "metadata": {
        "colab": {
          "base_uri": "https://localhost:8080/",
          "height": 38
        },
        "id": "Cfytag-iQ9OK",
        "outputId": "481e7ae6-62c5-4efc-ebc2-d1aac6786632"
      },
      "outputs": [
        {
          "data": {
            "text/plain": [
              "'ell'"
            ]
          },
          "execution_count": 71,
          "metadata": {},
          "output_type": "execute_result"
        }
      ],
      "source": [
        "message[1:4]"
      ]
    },
    {
      "cell_type": "markdown",
      "metadata": {
        "id": "Y7LRz_CAQ9OM"
      },
      "source": [
        "- แต่ทั้งนี้เราไม่สามารถแก้ไขสมาชิกในข้อความได้นะครับ"
      ]
    },
    {
      "cell_type": "code",
      "execution_count": 72,
      "metadata": {
        "colab": {
          "base_uri": "https://localhost:8080/",
          "height": 171
        },
        "id": "3LrS0QkWQ9ON",
        "outputId": "34d5757f-8ab7-4d36-f823-70e1f6e2dc27"
      },
      "outputs": [
        {
          "ename": "TypeError",
          "evalue": "'str' object does not support item assignment",
          "output_type": "error",
          "traceback": [
            "\u001b[0;31m---------------------------------------------------------------------------\u001b[0m",
            "\u001b[0;31mTypeError\u001b[0m                                 Traceback (most recent call last)",
            "\u001b[0;32m/tmp/ipykernel_19426/1623769051.py\u001b[0m in \u001b[0;36m<module>\u001b[0;34m\u001b[0m\n\u001b[0;32m----> 1\u001b[0;31m \u001b[0mmessage\u001b[0m\u001b[0;34m[\u001b[0m\u001b[0;36m1\u001b[0m\u001b[0;34m]\u001b[0m \u001b[0;34m=\u001b[0m \u001b[0;34m'E'\u001b[0m\u001b[0;34m\u001b[0m\u001b[0;34m\u001b[0m\u001b[0m\n\u001b[0m",
            "\u001b[0;31mTypeError\u001b[0m: 'str' object does not support item assignment"
          ]
        }
      ],
      "source": [
        "message[1] = 'E'"
      ]
    },
    {
      "cell_type": "markdown",
      "metadata": {
        "id": "3ZqVX6cMMiPQ"
      },
      "source": [
        "**สูตร:** ถ้าอยากได้ตัวที่ x จนถึงตัวที่ y จะเขียนเป็น slicing ได้ว่า `[x - 1 : y]`"
      ]
    },
    {
      "cell_type": "markdown",
      "metadata": {
        "id": "CJq-M1oRQ9OQ"
      },
      "source": [
        "### แบบฝึกหัด 5.2"
      ]
    },
    {
      "cell_type": "markdown",
      "metadata": {
        "id": "Aj8-jaV-Q9OR"
      },
      "source": [
        "1. จงทำซ้ำข้อความ `'prachya'` จำนวน 10 ครั้งแล้วเก็บไว้ในตัวแปร `my_string`"
      ]
    },
    {
      "cell_type": "code",
      "execution_count": 73,
      "metadata": {
        "id": "DfYuZgtGQ9OS"
      },
      "outputs": [
        {
          "name": "stdout",
          "output_type": "stream",
          "text": [
            "prachyaprachyaprachyaprachyaprachyaprachyaprachyaprachyaprachyaprachya\n"
          ]
        }
      ],
      "source": [
        "my_string = 'prachya' * 10\n",
        "print(my_string)"
      ]
    },
    {
      "cell_type": "markdown",
      "metadata": {
        "id": "AgVggi9mQ9OU"
      },
      "source": [
        "2. จงเลือกบางส่วนของข้อความ `my_string` เริ่มจากตัวที่ 10 จนถึงตัวที่ 30 แล้วเก็บลงในตัวแปร `my_string1`"
      ]
    },
    {
      "cell_type": "code",
      "execution_count": 74,
      "metadata": {
        "id": "3W3Cgs1VQ9OV"
      },
      "outputs": [
        {
          "name": "stdout",
          "output_type": "stream",
          "text": [
            "achyaprachyaprachyapr\n"
          ]
        }
      ],
      "source": [
        "my_string1 = my_string[9:30]\n",
        "print(my_string1)"
      ]
    },
    {
      "cell_type": "markdown",
      "metadata": {
        "id": "FHr034NQQ9OW"
      },
      "source": [
        "3. จงเลือกบางส่วนของข้อความ `my_string` ตั้งแต่ตัวที่ 20 เป็นต้นไป แล้วเก็บลงในตัวแปร `my_string2`"
      ]
    },
    {
      "cell_type": "code",
      "execution_count": 75,
      "metadata": {
        "id": "vGmFYDutQ9OX"
      },
      "outputs": [
        {
          "name": "stdout",
          "output_type": "stream",
          "text": [
            "yaprachyaprachyaprachyaprachyaprachyaprachyaprachya\n"
          ]
        }
      ],
      "source": [
        "my_string2 = my_string[19:]\n",
        "print(my_string2)"
      ]
    },
    {
      "cell_type": "markdown",
      "metadata": {
        "id": "ociVpinDQ9OZ"
      },
      "source": [
        "4. จงเลือกบางส่วนของข้อความ `my_string` ตั้งแต่ตัวแรกจนถึงตัวที่ 40  แล้วเก็บลงในตัวแปร `my_string3`"
      ]
    },
    {
      "cell_type": "code",
      "execution_count": 76,
      "metadata": {
        "id": "2lWd4K2PQ9Oa"
      },
      "outputs": [
        {
          "name": "stdout",
          "output_type": "stream",
          "text": [
            "prachyaprachyaprachyaprachyaprachyaprach\n"
          ]
        }
      ],
      "source": [
        "my_string3 = my_string[:40]\n",
        "print(my_string3)"
      ]
    },
    {
      "cell_type": "markdown",
      "metadata": {
        "id": "Q_EFqny5Q9Oc"
      },
      "source": [
        "-----"
      ]
    },
    {
      "cell_type": "markdown",
      "metadata": {
        "id": "EJYhHvW5Q9Od"
      },
      "source": [
        "## กิจกรรม 6: การวนซ้ำ"
      ]
    },
    {
      "cell_type": "markdown",
      "metadata": {
        "id": "_t_rtEayQ9Oe"
      },
      "source": [
        "- สังเกตไหมครับว่า แบบฝึกหัดต่างๆ ในกิจกรรม 4 และ 5 ต้องใช้วิธี copy-paste แล้วแก้หมายเลขตำแหน่งของสมาชิกเอาทีละตำแหน่ง ถ้าเกิดลิสต์มีสมาชิกจำนวนมากขึ้นมา เราก็คงจะ copy-paste กันมือหงิกแน่นอน\n",
        "- เราสามารถใช้วิธีการวนลูป (loop) เพื่อทำกระบวนการเดิมซ้ำๆ ได้ครับ"
      ]
    },
    {
      "cell_type": "markdown",
      "metadata": {
        "id": "uGd5wg_SQ9Of"
      },
      "source": [
        "### ลูปฟอร์ (for-loop)"
      ]
    },
    {
      "cell_type": "markdown",
      "metadata": {
        "id": "8T7rfMhKQ9Og"
      },
      "source": [
        "- ลูปฟอร์ (for-loop) ใช้สำหรับทำกระบวนการเดิมซ้ำๆ กับสมาชิกแต่ละตัวในลิสต์ <u>**ตามลำดับ**</u>\n",
        "  - รูปแบบคำสั่งของลูปฟอร์คือ\n",
        "```python\n",
        "    for <ตัวแปร> in <ลิสต์> :\n",
        "        <กระบวนการ>\n",
        "```\n",
        "  - คำสั่งนี้จะแทนสมาชิกแต่ละตัวในลิสต์ด้วยตัวแปรที่กำหนด แล้วจึงทำซ้ำกระบวนการนี้จนกว่าจะใช้สมาชิกครบทุกตัวตามลำดับครับ\n",
        "  \n",
        "- เช่น ถ้าเราต้องการพิมพ์สมาชิกแต่ละตัวในลิสต์ `student_heights` ออกมา เราจะสั่งคำสั่งดังนี้"
      ]
    },
    {
      "cell_type": "code",
      "execution_count": 77,
      "metadata": {
        "colab": {
          "base_uri": "https://localhost:8080/"
        },
        "id": "6U8AO3pdQ9Oh",
        "outputId": "e7fbb1a2-563e-43cd-a4dc-a930d407a35d"
      },
      "outputs": [
        {
          "name": "stdout",
          "output_type": "stream",
          "text": [
            "163.5\n",
            "150.0\n",
            "167.0\n",
            "161.25\n",
            "170.0\n",
            "That is all.\n"
          ]
        }
      ],
      "source": [
        "# ลิสต์ความสูงของนักเรียนในกลุ่ม\n",
        "student_heights = [163.5, 150.0, 167.0, 161.25, 170.0]\n",
        "\n",
        "# สมาชิกแต่ละตัวของลิสต์ student_heights จะแทนด้วยตัวแปร height\n",
        "for height in student_heights:\n",
        "    # พิมพ์ค่าของตัวแปร height ออกหน้าจอ\n",
        "    print(height)\n",
        "    \n",
        "print('That is all.')"
      ]
    },
    {
      "cell_type": "markdown",
      "metadata": {
        "id": "qT9c9XDLQ9Ok"
      },
      "source": [
        "- สิ่งที่อยากให้สังเกตตรงนี้คือ กระบวนการที่เราต้องการทำซ้ำคือ `print(height)` จะต้องมีย่อหน้าถัดเข้าไป"
      ]
    },
    {
      "cell_type": "markdown",
      "metadata": {
        "id": "FxUc1RAtQ9Oo"
      },
      "source": [
        "### กฎการย่อหน้าของภาษาไพธอน\n",
        "\n",
        "- กระบวนการที่เราต้องการทำซ้ำในลูปทุกชนิด จะต้องย่อหน้าถัดเข้าไปทางขวาเสมอ\n",
        "- ขนาดของย่อหน้าที่นิยมกันคือ เคาะ spacebar 4 ครั้ง\n",
        "- เมื่อไรก็ตามที่ย่อหน้ากลับออกมาทางซ้าย จะถือว่าจบลูปแล้ว"
      ]
    },
    {
      "cell_type": "markdown",
      "metadata": {
        "id": "uHVb8rQtQ9Op"
      },
      "source": [
        "### แบบฝึกหัด 6.1"
      ]
    },
    {
      "cell_type": "markdown",
      "metadata": {
        "id": "45nNbF2oQ9Oq"
      },
      "source": [
        "1. พิมพ์สมาชิกแต่ละตัวในลิสต์ `my_list` ออกหน้าจอโดยใช้ลูปฟอร์และคำสั่ง `print`"
      ]
    },
    {
      "cell_type": "code",
      "execution_count": 78,
      "metadata": {
        "id": "Jk4Bh5lzQ9Or"
      },
      "outputs": [
        {
          "name": "stdout",
          "output_type": "stream",
          "text": [
            "hello\n",
            "my\n",
            "name\n",
            "is\n",
            "prachya\n"
          ]
        }
      ],
      "source": [
        "my_list = ['hello', 'my', 'name', 'is', 'prachya']\n",
        "\n",
        "# ลูปฟอร์\n",
        "for i in my_list:\n",
        "  print(i)"
      ]
    },
    {
      "cell_type": "markdown",
      "metadata": {
        "id": "76faC4kKQ9Ot"
      },
      "source": [
        "2. เพิ่มค่าสมาชิกแต่ละตัวในลิสต์ `my_numbers` ตัวละ 10 และพิมพ์ออกหน้าจอ"
      ]
    },
    {
      "cell_type": "code",
      "execution_count": 80,
      "metadata": {
        "id": "ytAELWg4Q9Ot"
      },
      "outputs": [
        {
          "name": "stdout",
          "output_type": "stream",
          "text": [
            "110\n",
            "100\n",
            "90\n",
            "80\n",
            "70\n",
            "60\n",
            "50\n",
            "40\n",
            "30\n",
            "20\n"
          ]
        }
      ],
      "source": [
        "my_numbers = [100, 90, 80, 70, 60, 50, 40, 30, 20, 10]\n",
        "\n",
        "# ลูปฟอร์\n",
        "for number in my_numbers:\n",
        "    number = number + 10\n",
        "    print(number)"
      ]
    },
    {
      "cell_type": "markdown",
      "metadata": {
        "id": "NHlJbHNbQ9Ow"
      },
      "source": [
        "### ช่วงจำนวน (range)"
      ]
    },
    {
      "cell_type": "markdown",
      "metadata": {
        "id": "LRiOPKvAQ9Ox"
      },
      "source": [
        "- บางครั้งเราจำเป็นต้องวนลูปฟอร์บนเลขตำแหน่ง index ด้วย\n",
        "- เราสามารถใช้คำสั่ง `range(` $a$ `,` $b$ `)` เพื่อสร้างช่วงจำนวนในลูปฟอร์ได้ โดย $a$ จะเป็นค่า index เริ่มต้นและ $b - 1$ จะเป็นค่าสุดท้ายครับ เช่น"
      ]
    },
    {
      "cell_type": "code",
      "execution_count": 81,
      "metadata": {
        "colab": {
          "base_uri": "https://localhost:8080/"
        },
        "id": "nCcbj6o1Q9Oy",
        "outputId": "b5c4c3ec-715d-45e8-a139-ae6575a21c72"
      },
      "outputs": [
        {
          "name": "stdout",
          "output_type": "stream",
          "text": [
            "i = 1\n",
            "i = 2\n",
            "i = 3\n",
            "i = 4\n",
            "i = 5\n",
            "i = 6\n",
            "i = 7\n",
            "i = 8\n",
            "i = 9\n",
            "i = 10\n"
          ]
        }
      ],
      "source": [
        "for i in range(1, 11):\n",
        "    print('i =', i)"
      ]
    },
    {
      "cell_type": "markdown",
      "metadata": {
        "id": "w46QzdRgQ9O0"
      },
      "source": [
        "- หากเราละค่า $a$ ไป เหลือเพียง `range(` $b$ `)` ช่วงจำนวนจะเริ่มต้นจาก 0 และสิ้นสุดที่ $b - 1$ ครับ"
      ]
    },
    {
      "cell_type": "code",
      "execution_count": 82,
      "metadata": {
        "colab": {
          "base_uri": "https://localhost:8080/"
        },
        "id": "uLuhP06dQ9O1",
        "outputId": "5696c32c-7edc-4983-825e-f290d06887d1"
      },
      "outputs": [
        {
          "name": "stdout",
          "output_type": "stream",
          "text": [
            "i = 0\n",
            "i = 1\n",
            "i = 2\n",
            "i = 3\n",
            "i = 4\n",
            "i = 5\n",
            "i = 6\n",
            "i = 7\n",
            "i = 8\n",
            "i = 9\n",
            "i = 10\n",
            "i = 11\n",
            "i = 12\n",
            "i = 13\n",
            "i = 14\n",
            "i = 15\n",
            "i = 16\n",
            "i = 17\n",
            "i = 18\n",
            "i = 19\n"
          ]
        }
      ],
      "source": [
        "for i in range(20):\n",
        "    print('i =', i)"
      ]
    },
    {
      "cell_type": "markdown",
      "metadata": {
        "id": "tmKJ4ekaQ9O4"
      },
      "source": [
        "- นอกจากนี้เรายังสามารถกำหนดขนาดของก้าวในการสร้างช่วงจำนวนได้ โดยใช้คำสั่ง `range(` $a$ `,` $b$ `,` $c$ `)` เมื่อค่า $c$ คือขนาดของก้าว"
      ]
    },
    {
      "cell_type": "code",
      "execution_count": 84,
      "metadata": {
        "colab": {
          "base_uri": "https://localhost:8080/"
        },
        "id": "GJp7DBCUQ9O5",
        "outputId": "e6ba097c-d7ca-4a3b-ff4d-acb7cd75cef9"
      },
      "outputs": [
        {
          "name": "stdout",
          "output_type": "stream",
          "text": [
            "i=0\n",
            "i=2\n",
            "i=4\n",
            "i=6\n",
            "i=8\n",
            "i=10\n",
            "i=12\n",
            "i=14\n",
            "i=16\n",
            "i=18\n",
            "i=20\n"
          ]
        }
      ],
      "source": [
        "# ก้าวมีขนาดเท่ากับ 2\n",
        "for i in range(0, 21, 2):\n",
        "    print(f\"{i=}\")"
      ]
    },
    {
      "cell_type": "markdown",
      "metadata": {
        "id": "x6qkLMplQ9O8"
      },
      "source": [
        "- ข้อดีของการใช้คำสั่ง `range` ที่กำหนดขนาดของก้าวได้ ก็คือ เราสามารถไล่ index ย้อนหลังได้ด้วย เช่น"
      ]
    },
    {
      "cell_type": "code",
      "execution_count": null,
      "metadata": {
        "colab": {
          "base_uri": "https://localhost:8080/"
        },
        "id": "8czmylxTQ9O9",
        "outputId": "b86d6442-2b4c-4fc5-9339-d371b31befde"
      },
      "outputs": [
        {
          "name": "stdout",
          "output_type": "stream",
          "text": [
            "10\n",
            "9\n",
            "8\n",
            "7\n",
            "6\n",
            "5\n",
            "4\n",
            "3\n",
            "2\n",
            "1\n"
          ]
        }
      ],
      "source": [
        "# ก้าวมีขนาดติดลบ แปลว่าเดินถอยหลัง\n",
        "for i in range(10, 0, -1):\n",
        "    print(i)\n",
        "    \n",
        "# สังเกตว่าลูปฟอร์จะหยุดทำงานเมื่อค่า index i = 0 ทำให้ไม่พิมพ์ค่า 0 ออกมาทางหน้าจอ"
      ]
    },
    {
      "cell_type": "markdown",
      "metadata": {
        "id": "RYeObuj2Q9PA"
      },
      "source": [
        "### แบบฝึกหัด 6.2"
      ]
    },
    {
      "cell_type": "markdown",
      "metadata": {
        "id": "VtrY7sSjQ9PB"
      },
      "source": [
        "1. จงวนลูปค่า index `i` จากค่า 1 ถึง 20 แล้วพิมพ์ค่าของ `2 * i` ออกมาทางหน้าจอ"
      ]
    },
    {
      "cell_type": "code",
      "execution_count": 86,
      "metadata": {
        "id": "aoy2BnGCQ9PC"
      },
      "outputs": [
        {
          "name": "stdout",
          "output_type": "stream",
          "text": [
            "2\n",
            "4\n",
            "6\n",
            "8\n",
            "10\n",
            "12\n",
            "14\n",
            "16\n",
            "18\n",
            "20\n",
            "22\n",
            "24\n",
            "26\n",
            "28\n",
            "30\n",
            "32\n",
            "34\n",
            "36\n",
            "38\n",
            "40\n"
          ]
        }
      ],
      "source": [
        "# วนลูปค่า index i จาก 1 ถึง 20\n",
        "for i in range(1, 21):\n",
        "    # พิมพ์ค่า 2 * i ออกทางหน้าจอ\n",
        "    print(2 * i)"
      ]
    },
    {
      "cell_type": "markdown",
      "metadata": {
        "id": "rJazBtrwQ9PF"
      },
      "source": [
        "2. จงวนลูปค่า index `i` จากค่า 100 จนถึง 10 แล้วพิมพ์ค่า `i / 10` ออกมาทางหน้าจอ"
      ]
    },
    {
      "cell_type": "code",
      "execution_count": 2,
      "metadata": {
        "id": "fOSDff2yQ9PG"
      },
      "outputs": [
        {
          "name": "stdout",
          "output_type": "stream",
          "text": [
            "10.0\n",
            "9.9\n",
            "9.8\n",
            "9.7\n",
            "9.6\n",
            "9.5\n",
            "9.4\n",
            "9.3\n",
            "9.2\n",
            "9.1\n",
            "9.0\n",
            "8.9\n",
            "8.8\n",
            "8.7\n",
            "8.6\n",
            "8.5\n",
            "8.4\n",
            "8.3\n",
            "8.2\n",
            "8.1\n",
            "8.0\n",
            "7.9\n",
            "7.8\n",
            "7.7\n",
            "7.6\n",
            "7.5\n",
            "7.4\n",
            "7.3\n",
            "7.2\n",
            "7.1\n",
            "7.0\n",
            "6.9\n",
            "6.8\n",
            "6.7\n",
            "6.6\n",
            "6.5\n",
            "6.4\n",
            "6.3\n",
            "6.2\n",
            "6.1\n",
            "6.0\n",
            "5.9\n",
            "5.8\n",
            "5.7\n",
            "5.6\n",
            "5.5\n",
            "5.4\n",
            "5.3\n",
            "5.2\n",
            "5.1\n",
            "5.0\n",
            "4.9\n",
            "4.8\n",
            "4.7\n",
            "4.6\n",
            "4.5\n",
            "4.4\n",
            "4.3\n",
            "4.2\n",
            "4.1\n",
            "4.0\n",
            "3.9\n",
            "3.8\n",
            "3.7\n",
            "3.6\n",
            "3.5\n",
            "3.4\n",
            "3.3\n",
            "3.2\n",
            "3.1\n",
            "3.0\n",
            "2.9\n",
            "2.8\n",
            "2.7\n",
            "2.6\n",
            "2.5\n",
            "2.4\n",
            "2.3\n",
            "2.2\n",
            "2.1\n",
            "2.0\n",
            "1.9\n",
            "1.8\n",
            "1.7\n",
            "1.6\n",
            "1.5\n",
            "1.4\n",
            "1.3\n",
            "1.2\n",
            "1.1\n",
            "1.0\n"
          ]
        }
      ],
      "source": [
        "# วนลูปค่า index i จาก 100 จนถึง 10\n",
        "for i in range(100, 9, -1):\n",
        "    # พิมพ์ค่า i / 10 ออกมาทางหน้าจอ\n",
        "    print(i / 10)"
      ]
    },
    {
      "cell_type": "markdown",
      "metadata": {
        "id": "LNa_qbUPQ9PI"
      },
      "source": [
        "3. จงวนลูปค่า index `i` จากค่า 0 ถึง `len(student_heights) - 1` และแปลงหน่วยความสูงของนักเรียนแต่ละคนจากหน่วยเซนติเมตรเป็นหน่วยเมตร [คำใบ้: 100 เซนติเมตร = 1 เมตร]"
      ]
    },
    {
      "cell_type": "code",
      "execution_count": 7,
      "metadata": {
        "id": "iPywvzwDQ9PJ"
      },
      "outputs": [
        {
          "name": "stdout",
          "output_type": "stream",
          "text": [
            "1.635\n",
            "1.5\n",
            "1.67\n",
            "1.6125\n",
            "1.7\n"
          ]
        }
      ],
      "source": [
        "student_heights = [163.5, 150.0, 167.0, 161.25, 170.0]\n",
        "\n",
        "for i in range(len(student_heights)):\n",
        "    print(student_heights[i] * 0.01)"
      ]
    },
    {
      "cell_type": "markdown",
      "metadata": {
        "id": "-Jf6ADDIQ9PM"
      },
      "source": [
        "4. จงวนลูปเพื่อแสดงสูตรคูณแม่ 3 ไล่ตั้งแต่ $3 \\times 1$ จนถึง $3 \\times 12$ โดยจะได้ผลลัพธ์ดังนี้\n",
        "\n",
        "```\n",
        "3 * 1 = 3\n",
        "3 * 2 = 6\n",
        "3 * 3 = 9\n",
        ":\n",
        ":\n",
        ":\n",
        "3 * 12 = 36\n",
        "```"
      ]
    },
    {
      "cell_type": "code",
      "execution_count": 97,
      "metadata": {
        "colab": {
          "base_uri": "https://localhost:8080/"
        },
        "id": "8kfYlaf-Q9PM",
        "outputId": "f105c694-49be-4972-c264-16c2556f3bac"
      },
      "outputs": [
        {
          "name": "stdout",
          "output_type": "stream",
          "text": [
            "3 * 1 = 3\n",
            "3 * 2 = 6\n",
            "3 * 3 = 9\n",
            "3 * 4 = 12\n",
            "3 * 5 = 15\n",
            "3 * 6 = 18\n",
            "3 * 7 = 21\n",
            "3 * 8 = 24\n",
            "3 * 9 = 27\n",
            "3 * 10 = 30\n",
            "3 * 11 = 33\n",
            "3 * 12 = 36\n"
          ]
        }
      ],
      "source": [
        "# วนลูปค่า index i จาก 1 ถึง 12\n",
        "for i in range(1, 13):\n",
        "    print(3, \"*\", i, \"=\", 3 * i)"
      ]
    },
    {
      "cell_type": "markdown",
      "metadata": {
        "id": "fEhulI74Q9PO"
      },
      "source": [
        "### ลูปซ้อนลูป (loop embedding)"
      ]
    },
    {
      "cell_type": "markdown",
      "metadata": {
        "id": "dVvGMKYBQ9PP"
      },
      "source": [
        "- เราสามารถเขียนลูปซ้อนลูปได้ด้วย หากว่าโปรแกรมของเรามีความซับซ้อนกว่าลูปเดียว\n",
        "- เช่น เราสามารถวนลูปเพื่อไล่สูตรคูณแม่ 3 ถึงแม่ 5 ได้ดังนี้ครับ"
      ]
    },
    {
      "cell_type": "code",
      "execution_count": null,
      "metadata": {
        "colab": {
          "base_uri": "https://localhost:8080/"
        },
        "id": "jL3U1XV9Q9PQ",
        "outputId": "520a8119-6c11-4140-e85e-cc64dc605bb1"
      },
      "outputs": [
        {
          "name": "stdout",
          "output_type": "stream",
          "text": [
            "Multiplication of 3\n",
            "3 * 1 = 3\n",
            "3 * 2 = 6\n",
            "3 * 3 = 9\n",
            "3 * 4 = 12\n",
            "3 * 5 = 15\n",
            "3 * 6 = 18\n",
            "3 * 7 = 21\n",
            "3 * 8 = 24\n",
            "3 * 9 = 27\n",
            "3 * 10 = 30\n",
            "3 * 11 = 33\n",
            "3 * 12 = 36\n",
            "\n",
            "Multiplication of 4\n",
            "4 * 1 = 4\n",
            "4 * 2 = 8\n",
            "4 * 3 = 12\n",
            "4 * 4 = 16\n",
            "4 * 5 = 20\n",
            "4 * 6 = 24\n",
            "4 * 7 = 28\n",
            "4 * 8 = 32\n",
            "4 * 9 = 36\n",
            "4 * 10 = 40\n",
            "4 * 11 = 44\n",
            "4 * 12 = 48\n",
            "\n",
            "Multiplication of 5\n",
            "5 * 1 = 5\n",
            "5 * 2 = 10\n",
            "5 * 3 = 15\n",
            "5 * 4 = 20\n",
            "5 * 5 = 25\n",
            "5 * 6 = 30\n",
            "5 * 7 = 35\n",
            "5 * 8 = 40\n",
            "5 * 9 = 45\n",
            "5 * 10 = 50\n",
            "5 * 11 = 55\n",
            "5 * 12 = 60\n",
            "\n"
          ]
        }
      ],
      "source": [
        "# วนลูป index m เพื่อไล่แม่สูตรคูณจากแม่ 3 ถึงแม่ 5\n",
        "for m in range(3, 6):\n",
        "    print('Multiplication of', m)\n",
        "    # วนลูป index i เพื่อไล่ตัวคูณจาก 1 ถึง 12\n",
        "    for i in range(1, 13):\n",
        "        print(m, '*', i, '=', m * i)\n",
        "    # พิมพ์บรรทัดใหม่คั่นระหว่างแม่\n",
        "    print()"
      ]
    },
    {
      "cell_type": "markdown",
      "metadata": {
        "id": "F9roSM7sQ9PR"
      },
      "source": [
        "- ข้อสังเกตจากการวนลูปฟอร์ในการไล่แม่สูตรคูณก็คือ\n",
        "  1. ในลูปนอก เราจะวนลูป index ของแม่สูตรคูณก่อน เช่น แม่ 3 ถึงแม่ 5 เป็นต้น\n",
        "  2. ส่วนลูปข้างใน เราจะวนลูป index ของตัวคูณในแต่ละแม่ คือตั้งแต่ 1 ถึง 12\n",
        "- นั่นแสดงว่า ถ้าเราจะเขียนโปรแกรมที่สลับซับซ้อนได้ เราจะต้องแยกแยะและถอดลูปออกเป็นชั้นนอกและชั้นในให้ออกครับ"
      ]
    },
    {
      "cell_type": "markdown",
      "metadata": {
        "id": "qZOiegQdQ9PS"
      },
      "source": [
        "### แบบฝึกหัด 6.3"
      ]
    },
    {
      "cell_type": "markdown",
      "metadata": {
        "id": "Q-eFBSFJQ9PT"
      },
      "source": [
        "1. จงเขียนโปรแกรมเพื่อไล่แม่สูตรคูณจากแม่ 11 ถึงแม่ 15 โดยแต่ละแม่จะคูณกับตัวเลขตั้งแต่ 1 จนถึง 12"
      ]
    },
    {
      "cell_type": "code",
      "execution_count": 98,
      "metadata": {
        "id": "aXdRxuIdQ9PT"
      },
      "outputs": [
        {
          "name": "stdout",
          "output_type": "stream",
          "text": [
            "11 * 1 = 11\n",
            "11 * 2 = 22\n",
            "11 * 3 = 33\n",
            "11 * 4 = 44\n",
            "11 * 5 = 55\n",
            "11 * 6 = 66\n",
            "11 * 7 = 77\n",
            "11 * 8 = 88\n",
            "11 * 9 = 99\n",
            "11 * 10 = 110\n",
            "11 * 11 = 121\n",
            "11 * 12 = 132\n",
            "12 * 1 = 12\n",
            "12 * 2 = 24\n",
            "12 * 3 = 36\n",
            "12 * 4 = 48\n",
            "12 * 5 = 60\n",
            "12 * 6 = 72\n",
            "12 * 7 = 84\n",
            "12 * 8 = 96\n",
            "12 * 9 = 108\n",
            "12 * 10 = 120\n",
            "12 * 11 = 132\n",
            "12 * 12 = 144\n",
            "13 * 1 = 13\n",
            "13 * 2 = 26\n",
            "13 * 3 = 39\n",
            "13 * 4 = 52\n",
            "13 * 5 = 65\n",
            "13 * 6 = 78\n",
            "13 * 7 = 91\n",
            "13 * 8 = 104\n",
            "13 * 9 = 117\n",
            "13 * 10 = 130\n",
            "13 * 11 = 143\n",
            "13 * 12 = 156\n",
            "14 * 1 = 14\n",
            "14 * 2 = 28\n",
            "14 * 3 = 42\n",
            "14 * 4 = 56\n",
            "14 * 5 = 70\n",
            "14 * 6 = 84\n",
            "14 * 7 = 98\n",
            "14 * 8 = 112\n",
            "14 * 9 = 126\n",
            "14 * 10 = 140\n",
            "14 * 11 = 154\n",
            "14 * 12 = 168\n",
            "15 * 1 = 15\n",
            "15 * 2 = 30\n",
            "15 * 3 = 45\n",
            "15 * 4 = 60\n",
            "15 * 5 = 75\n",
            "15 * 6 = 90\n",
            "15 * 7 = 105\n",
            "15 * 8 = 120\n",
            "15 * 9 = 135\n",
            "15 * 10 = 150\n",
            "15 * 11 = 165\n",
            "15 * 12 = 180\n"
          ]
        }
      ],
      "source": [
        "for m in range(11,16):\n",
        "    for i in range(1,13):\n",
        "        print(f\"{m} * {i} = {m * i}\")"
      ]
    },
    {
      "cell_type": "markdown",
      "metadata": {
        "id": "73_-bNvhQ9PV"
      },
      "source": [
        "2. จงเขียนโปรแกรมเพื่อแสดงจัตุรัสตัวเลข 1 ถึง 9 โดยใช้ลูปซ้อนกัน 2 ลูป ซึ่งผลลัพธ์จะเป็นดังต่อไปนี้\n",
        "\n",
        "```\n",
        "1 2 3\n",
        "4 5 6\n",
        "7 8 9\n",
        "```"
      ]
    },
    {
      "cell_type": "code",
      "execution_count": 99,
      "metadata": {
        "colab": {
          "base_uri": "https://localhost:8080/"
        },
        "id": "f8LeF9ssQ9PV",
        "outputId": "75457c9f-8e8a-45df-aa7a-79aa2406e967"
      },
      "outputs": [
        {
          "name": "stdout",
          "output_type": "stream",
          "text": [
            "1 2 3 \n",
            "4 5 6 \n",
            "7 8 9 \n"
          ]
        }
      ],
      "source": [
        "for i in range(0, 3):\n",
        "    for j in range(1, 4):\n",
        "        print(3 * i + j, '', end='')\n",
        "    print()"
      ]
    },
    {
      "cell_type": "markdown",
      "metadata": {
        "id": "3lUPeiO2Q9PX"
      },
      "source": [
        "3. จงเขียนโปรแกรมเพื่อแสดงจัตุรัสตัวเลข 1 ถึง 27 โดยใช้ลูปซ้อนกัน 3 ลูป ซึ่งผลลัพธ์จะเป็นดังนี้\n",
        "\n",
        "```\n",
        "1 2 3\n",
        "4 5 6\n",
        "7 8 9\n",
        "\n",
        "10 11 12\n",
        "13 14 15\n",
        "16 17 18\n",
        "\n",
        "19 20 21\n",
        "22 23 24\n",
        "25 26 27\n",
        "```\n",
        "\n",
        "   **หมายเหตุ:** เราสามารถระบุให้คำสั่ง `print` ไม่ต้องขึ้นบรรทัดใหม่หลังจากพิมพ์ค่าออกหน้าจอได้ด้วยการระบุ `end=''` ไว้ในวงเล็บของ `print` ครับ"
      ]
    },
    {
      "cell_type": "code",
      "execution_count": 100,
      "metadata": {
        "colab": {
          "base_uri": "https://localhost:8080/"
        },
        "id": "vraTQG9gQ9PY",
        "outputId": "1ff287b6-2d6f-448e-8add-459d7c8fa194"
      },
      "outputs": [
        {
          "name": "stdout",
          "output_type": "stream",
          "text": [
            "1 2 3 \n",
            "4 5 6 \n",
            "7 8 9 \n",
            "\n",
            "10 11 12 \n",
            "13 14 15 \n",
            "16 17 18 \n",
            "\n",
            "19 20 21 \n",
            "22 23 24 \n",
            "25 26 27 \n",
            "\n"
          ]
        }
      ],
      "source": [
        "for i in range(3):\n",
        "    for j in range(3):\n",
        "        for k in range(3):\n",
        "            print(9 * i + 3 * j + k + 1, '', end='')\n",
        "        print()\n",
        "    print()"
      ]
    },
    {
      "cell_type": "markdown",
      "metadata": {
        "id": "d4XrWBJLQ9Pa"
      },
      "source": [
        "-----"
      ]
    },
    {
      "cell_type": "markdown",
      "metadata": {
        "id": "TMyTusEGQ9Pb"
      },
      "source": [
        "## กิจกรรม 7: การกำหนดเงื่อนไข"
      ]
    },
    {
      "cell_type": "markdown",
      "metadata": {
        "id": "QpWfuLjhQ9Pc"
      },
      "source": [
        "- กิจกรรมสุดท้ายสำหรับวันนี้คือการกำหนดเงื่อนไขครับ\n",
        "- การกำหนดเงื่อนไข (branching) ในภาษาไพธอนจะใช้คำสั่ง `if` (แปลว่า 'ถ้า') ครับ โดยจะมีรูปแบบดังนี้\n",
        "\n",
        "```python\n",
        "if <เงื่อนไข>:\n",
        "    <กระบวนการ>\n",
        "```\n",
        "\n",
        "- คอมพิวเตอร์จะทำกระบวนการที่อยู่ในด้านใน ถ้าหากว่าเงื่อนไขที่กำหนดนี้เป็นจริง\n",
        "- จะสังเกตว่ากระบวนการนี้จะต้องย่อหน้าเหมือนกับคำสั่งลูป `for` เลย\n",
        "  - นั่นเป็นเพราะว่าการเว้นวรรคย่อหน้าจะเป็นการบอกสโคป (scope) ของคำสั่ง ว่าเป็นกระบวนการที่อยู่ภายใต้คำสั่งที่อยู่ด้านนอก\n",
        "  - การวนลูปก็จะวนภายใน scope ของตัวเอง\n",
        "  - การกำหนดเงื่อนไขก็จะทำงานเฉพาะภายใน scope ของตัวเองเท่านั้นครับ\n",
        "- เช่น โปรแกรมด้านล่างนี้จะพิมพ์ข้อความ `'Hurray!'` ถ้าหากว่าเงินเดือนในตัวแปร `salary` มีค่ามากกว่า 10,000 บาท"
      ]
    },
    {
      "cell_type": "code",
      "execution_count": 101,
      "metadata": {
        "colab": {
          "base_uri": "https://localhost:8080/"
        },
        "id": "rma2bUcLQ9Pd",
        "outputId": "f56a4be2-5934-49b6-e9fe-d4e5e3ea9763"
      },
      "outputs": [
        {
          "name": "stdout",
          "output_type": "stream",
          "text": [
            "Hurray!\n"
          ]
        }
      ],
      "source": [
        "salary = 50000\n",
        "\n",
        "if salary > 10000:\n",
        "    print('Hurray!')"
      ]
    },
    {
      "cell_type": "markdown",
      "metadata": {
        "id": "DZhLkAHXQ9Pf"
      },
      "source": [
        "- ทดลองเปลี่ยนค่าตัวเลขของตัวแปร `salary` แล้วรันใหม่ดูนะครับ"
      ]
    },
    {
      "cell_type": "markdown",
      "metadata": {
        "id": "te0OeuBSQ9Pf"
      },
      "source": [
        "### รูปแบบของเงื่อนไข"
      ]
    },
    {
      "cell_type": "markdown",
      "metadata": {
        "id": "TVXVV7HMQ9Pg"
      },
      "source": [
        "- เราสามารถใช้เครื่องหมายเปรียบเทียบทางคณิตศาสตร์ได้เหมือนในวิชาคณิตศาสตร์ครับ\n",
        "\n",
        "| เครื่องหมาย | ความหมาย |           ตัวอย่าง           |\n",
        "|:---------:|:--------:|:--------------------------:|\n",
        "|    `<`    |  น้อยกว่า  |           `3 < 5`          |\n",
        "|    `>`    |  มากกว่า  |           `5 > 3`          |\n",
        "|    `==`   |  เท่ากับ   | `my_salary == your_salary` |\n",
        "|    `!=`   |  ไม่เท่ากับ | `my_salary != your_salary` |\n",
        "|    `>=`   |  มากกว่าหรือเท่ากับ   | `my_salary >= your_salary` |\n",
        "|    `<=`   |  น้อยกว่าหรือเท่ากับ   | `my_salary <= your_salary` |\n",
        "\n",
        "- ถ้าเราลองพิมพ์ค่าความจริงของเงื่อนไขออกมา เราจะได้เป็นค่า `True` หรือ `False` ซึ่งค่าความจริงก็เป็นข้อมูลประเภทหนึ่งเหมือนกัน เรียกว่า *ค่าตรรกะ* (boolean) ครับ เช่น"
      ]
    },
    {
      "cell_type": "code",
      "execution_count": 102,
      "metadata": {
        "id": "zNw1-P5sQ9Ph"
      },
      "outputs": [
        {
          "name": "stdout",
          "output_type": "stream",
          "text": [
            "True\n",
            "False\n",
            "True\n",
            "True\n"
          ]
        }
      ],
      "source": [
        "print(0.5 > 0.3)        # True\n",
        "print(0.25 < -1.0)      # False\n",
        "print(1.25 == 1.25)     # True\n",
        "print(1.30 != -0.78)    # True"
      ]
    },
    {
      "cell_type": "markdown",
      "metadata": {
        "id": "-4Wgi11IQ9Po"
      },
      "source": [
        "- ทั้งนี้เราสามารถใช้เครื่องหมายเปรียบสามารถใช้ได้กับข้อความได้ด้วยนะครับ เช่น"
      ]
    },
    {
      "cell_type": "code",
      "execution_count": 103,
      "metadata": {
        "id": "FwxvFkMpQ9Ps"
      },
      "outputs": [
        {
          "name": "stdout",
          "output_type": "stream",
          "text": [
            "True\n",
            "True\n",
            "False\n"
          ]
        }
      ],
      "source": [
        "print('hello' == 'hello')       # True\n",
        "print('hello' != 'world')       # True\n",
        "print('hello' < 'alphabet')     # False -- คอมพิวเตอร์เรียงลำดับข้อความตามตัวอักษร"
      ]
    },
    {
      "cell_type": "markdown",
      "metadata": {
        "id": "qIZkbtmDQ9Px"
      },
      "source": [
        "- นอกจากนี้เรายังสามารถใช้ตัวเชื่อมทางตรรกศาสตร์ได้ด้วยครับ\n",
        "\n",
        "| ตัวเชื่อม    | ความหมาย |           ตัวอย่าง           |\n",
        "|:---------:|:--------:|:--------------------------:|\n",
        "|   `and`   |    และ   |     `a == b and x == y`    |\n",
        "|    `or`   |    หรือ   |     `a != b or c != d`     |\n",
        "|   `not`   |    ไม่    |    `not (a > b)`    |\n",
        "|   `( )`   |   วงเล็บ  | `(a == b) and not (c > d)` |"
      ]
    },
    {
      "cell_type": "code",
      "execution_count": 104,
      "metadata": {
        "id": "VQHU1eViQ9Py"
      },
      "outputs": [
        {
          "name": "stdout",
          "output_type": "stream",
          "text": [
            "False\n",
            "True\n",
            "True\n"
          ]
        }
      ],
      "source": [
        "v1 = 100\n",
        "v2 = 200\n",
        "v3 = 300\n",
        "\n",
        "print(v1 == v2 and v2 == v3)                       # False and False = False\n",
        "print(v1 + v2 == v3 or v2 + v3 == v1)              # True or False = True\n",
        "print(not(v1 == v2 and v2 == v3) or v1 == v2)      # not(False and False) or False = True"
      ]
    },
    {
      "cell_type": "markdown",
      "metadata": {
        "id": "Ik6s7hTuQ9P1"
      },
      "source": [
        "### แบบฝึกหัด 7.1"
      ]
    },
    {
      "cell_type": "markdown",
      "metadata": {
        "id": "RG1G-faeQ9P2"
      },
      "source": [
        "1. จงตั้งเงื่อนไขเพื่อให้คอมพิวเตอร์พิมพ์ข้อความว่า `'You are tall.'` ถ้าหากว่าความสูงในตัวแปร `my_height` มากกว่า 170"
      ]
    },
    {
      "cell_type": "code",
      "execution_count": 106,
      "metadata": {
        "id": "L6dIqZBIQ9P2"
      },
      "outputs": [],
      "source": [
        "my_height = 175\n",
        "\n",
        "if my_height <= 170:\n",
        "    print('You are tall.')"
      ]
    },
    {
      "cell_type": "markdown",
      "metadata": {
        "id": "VvHtnvykQ9P4"
      },
      "source": [
        "2. จงตั้งเงื่อนไขเพื่อให้คอมพิวเตอร์พิมพ์ข้อความว่า `'You are weathy and tall.'` ถ้าหากว่าเงินเดือนในตัวแปร `my_salary` มากกว่า 10000 และความสูงในตัวแปร `my_height` มากกว่า 170"
      ]
    },
    {
      "cell_type": "code",
      "execution_count": 109,
      "metadata": {
        "id": "GyGlIzPmQ9P4"
      },
      "outputs": [
        {
          "name": "stdout",
          "output_type": "stream",
          "text": [
            "You are wealthy and tall.\n"
          ]
        }
      ],
      "source": [
        "my_salary = 15001\n",
        "my_height = 175\n",
        "\n",
        "if my_height > 170 and my_salary > 15000:\n",
        "    print('You are wealthy and tall.')"
      ]
    },
    {
      "cell_type": "markdown",
      "metadata": {
        "id": "6fgd-6wiQ9P6"
      },
      "source": [
        "3. จงตั้งเงื่อนไขเพื่อควบคุมการพิมพ์ความสูงของนักเรียนแต่ละคน โดยจะพิมพ์ออกมาเฉพาะคนที่มีความสูงมากกว่า 160 เซนติเมตรเท่านั้น [หมายเหตุ: จะสังเกตว่าโจทย์ข้อนี้จะใช้ทั้งลูปฟอร์และการตั้งเงื่อนไขประกอบกันได้ด้วย]"
      ]
    },
    {
      "cell_type": "code",
      "execution_count": 1,
      "metadata": {
        "id": "ReO9tiYXQ9P7"
      },
      "outputs": [
        {
          "name": "stdout",
          "output_type": "stream",
          "text": [
            "163.5\n",
            "167.0\n",
            "161.25\n",
            "170.0\n"
          ]
        }
      ],
      "source": [
        "student_heights = [163.5, 150.0, 167.0, 161.25, 170.0]\n",
        "\n",
        "for height in student_heights:\n",
        "    if height > 160:\n",
        "        print(height)"
      ]
    },
    {
      "cell_type": "markdown",
      "metadata": {
        "id": "iHTjKhXyQ9P9"
      },
      "source": [
        "4. จงตั้งเงื่อนไขเพื่อควบคุมการพิมพ์ชื่อของนักเรียนแต่ละคนและความสูงออกมา โดยจะพิมพ์ออกมาเฉพาะคนที่ชื่อนำหน้าด้วยตัวอักษรอื่น<u>**ที่ไม่ใช่**</u> `'A'` และ<u>**ไม่ใช่**</u> `'C'` และมีความสูงมากกว่า 160 เซนติเมตรเท่านั้น"
      ]
    },
    {
      "cell_type": "code",
      "execution_count": 2,
      "metadata": {
        "id": "vJ5XkFefQ9P9"
      },
      "outputs": [
        {
          "name": "stdout",
          "output_type": "stream",
          "text": [
            "Arm : 163.5\n",
            "Cathy : 167.0\n",
            "Dorothy : 161.25\n",
            "Emily : 170.0\n"
          ]
        }
      ],
      "source": [
        "student_names = ['Arm', 'Bobby', 'Cathy', 'Dorothy', 'Emily']\n",
        "student_heights = [163.5, 150.0, 167.0, 161.25, 170.0]\n",
        "\n",
        "for i in range(len(student_names)):\n",
        "    if student_heights[i] > 160:\n",
        "        print(student_names[i], ':', student_heights[i])"
      ]
    },
    {
      "cell_type": "markdown",
      "metadata": {
        "id": "q6kIqGw9Q9P_"
      },
      "source": [
        "### การรับข้อมูลผ่านคีย์บอร์ด"
      ]
    },
    {
      "cell_type": "markdown",
      "metadata": {
        "id": "11su_cFrQ9QA"
      },
      "source": [
        "- เราสามารถรับอินพุตจากคีย์บอร์ดได้ด้วยคำสั่ง `input` ครับ แต่เวลาสั่งคำสั่งนี้แล้ว จะต้องหาตัวแปรมาเก็บค่าอินพุตที่รับมาด้วยเสมอ"
      ]
    },
    {
      "cell_type": "code",
      "execution_count": 6,
      "metadata": {
        "id": "fwB-QCpEQ9QA"
      },
      "outputs": [
        {
          "name": "stdout",
          "output_type": "stream",
          "text": [
            "Hello, iiii\n"
          ]
        }
      ],
      "source": [
        "my_name = input('Enter your name: ')      # ใส่ข้อความเตือนผู้ใช้ที่ตรงนี้\n",
        "print('Hello,', my_name)"
      ]
    },
    {
      "cell_type": "markdown",
      "metadata": {
        "id": "fa1BTJkmQ9QC"
      },
      "source": [
        "- ค่าที่รับมาได้จะอยู่ในรูปข้อความ (string) เสมอ\n",
        "- หากเราต้องการรับค่าตัวเลข เราจำเป็นต้องแปลงข้อความกลับมาเป็นตัวเลขด้วยคำสั่ง `int` และ `float` ตามลำดับครับ\n",
        "  - คำสั่ง `int` จะแปลงข้อความเป็นจำนวนเต็ม เช่น 10, 20, 30\n",
        "  - คำสั่ง `float` จะแปลงข้อความเป็นจำนวนจริง เช่น 0.25, 3.5, 10.0"
      ]
    },
    {
      "cell_type": "code",
      "execution_count": 8,
      "metadata": {
        "id": "hfNF7TvTQ9QD"
      },
      "outputs": [
        {
          "name": "stdout",
          "output_type": "stream",
          "text": [
            "Your salary is quite high.\n"
          ]
        }
      ],
      "source": [
        "my_salary_str = input('Enter your salary: ')\n",
        "my_salary = int(my_salary_str)           # ต้องแปลงข้อความให้เป็นจำนวนเต็มก่อน ถึงจะเปรียบเทียบได้\n",
        "if my_salary > 10000:\n",
        "    print('Your salary is quite high.')"
      ]
    },
    {
      "cell_type": "markdown",
      "metadata": {
        "id": "Myz9XRlPQ9QE"
      },
      "source": [
        "- ลองรันโปรแกรมด้านบนใหม่อีกรอบ แต่คราวนี้ใส่เป็นข้อความที่ไม่ใช่จำนวนเต็มดูบ้างครับ เช่น `'Prachya'` หรือ `100.5` โปรแกรมจะระเบิดทันที\n",
        "- ที่คอมพิวเตอร์ฟ้องว่า `ValueError` นั้นหมายความว่า คอมพิวเตอร์ไม่สามารถแปลงข้อความให้กลายเป็นตัวเลขได้นั่นเองครับ"
      ]
    },
    {
      "cell_type": "markdown",
      "metadata": {
        "id": "FdK15codQ9QF"
      },
      "source": [
        "### การกำหนดเงื่อนไขที่มี 2 ทางเลือก"
      ]
    },
    {
      "cell_type": "markdown",
      "metadata": {
        "id": "mFqAtsOyQ9QG"
      },
      "source": [
        "- ในกรณีที่เราต้องการกำหนดเงื่อนไขที่มี 2 ทางเลือก เราสามารถใช้คำสั่ง `if ... else ...` (else แปลว่า 'ไม่เช่นนั้น') ได้ครับ\n",
        "- รูปแบบของเงื่อนไขที่มี 2 ทางเลือก\n",
        "\n",
        "```python\n",
        "if <เงื่อนไข> :\n",
        "    <กระบวนการ 1>\n",
        "else:\n",
        "    <กระบวนการ 2>\n",
        "```\n",
        "\n",
        "- ความหมายของคำสั่งนี้คือ ถ้าเงื่อนไขนี้เป็นจริง ก็ให้ทำกระบวนการที่ 1 ไม่เช่นนั้นก็ให้ทำกระบวนการที่ 2 แทน\n",
        "- เช่น โปรแกรมด้านล่างนี้จะพิมพ์ข้อความ `'Hurray!'` ถ้าหากว่าเงินเดือนในตัวแปร `salary` มีค่ามากกว่า 10,000 บาท หรือไม่เช่นนั้นก็พิมพ์ข้อความว่า `'Poor you.'` แทน"
      ]
    },
    {
      "cell_type": "code",
      "execution_count": 10,
      "metadata": {
        "id": "Umw3rEmHQ9QG"
      },
      "outputs": [
        {
          "name": "stdout",
          "output_type": "stream",
          "text": [
            "Poorly you.\n"
          ]
        }
      ],
      "source": [
        "salary = 5000\n",
        "\n",
        "if salary > 10000:\n",
        "    print('Hurray!')\n",
        "else:\n",
        "    print('Poorly you.')"
      ]
    },
    {
      "cell_type": "markdown",
      "metadata": {
        "id": "GA2KrH_VQ9QI"
      },
      "source": [
        "### แบบฝึกหัด 7.2"
      ]
    },
    {
      "cell_type": "markdown",
      "metadata": {
        "id": "jJnNSC16Q9QJ"
      },
      "source": [
        "จงตั้งเงื่อนไขเพื่อควบคุมการพิมพ์ชื่อของนักเรียนแต่ละคนและความสูงออกมา โดยจะพิมพ์ออกมาเฉพาะคนที่ชื่อนำหน้าด้วยตัวอักษรอื่นที่<u>**ไม่ใช่**</u> `'A'` และ<u>**ไม่ใช่**</u> `'C'` และมีความสูงมากกว่า 160 เซนติเมตรเท่านั้น ไม่เช่นนั้นก็ให้พิมพ์เฉพาะชื่อนักเรียนออกมาเท่านั้น"
      ]
    },
    {
      "cell_type": "code",
      "execution_count": 2,
      "metadata": {
        "id": "BM9xxGUPQ9QJ"
      },
      "outputs": [
        {
          "name": "stdout",
          "output_type": "stream",
          "text": [
            "Arm\n",
            "Bobby\n",
            "Cathy\n",
            "Dorothy : 161.25\n",
            "Emily : 170.0\n"
          ]
        }
      ],
      "source": [
        "student_names = ['Arm', 'Bobby', 'Cathy', 'Dorothy', 'Emily']\n",
        "student_heights = [163.5, 150.0, 167.0, 161.25, 170.0]\n",
        "\n",
        "for i in range(len(student_names)):\n",
        "    if student_names[i][0] != 'A' and student_names[i][0] != 'C' and student_heights[i] > 160:\n",
        "        print(student_names[i], ':', student_heights[i])\n",
        "    else:\n",
        "        print(student_names[i])"
      ]
    },
    {
      "cell_type": "markdown",
      "metadata": {
        "id": "PMW5xnPrQ9QL"
      },
      "source": [
        "### การกำหนดเงื่อนไขแบบซับซ้อน"
      ]
    },
    {
      "cell_type": "markdown",
      "metadata": {
        "id": "W6H0Al53Q9QL"
      },
      "source": [
        "- นอกจากนี้ หากเงื่อนไขของโปรแกรมมีความสลับซับซ้อน เช่น การตัดเกรดของนักเรียนที่ต้องทำแบ่งเป็นช่วงชั้น เราสามารถใช้การกำหนดเงื่อนไขแบบซับซ้อน `if ... elif ... else ...` ได้ครับ (`elif` ย่อมาจากคำว่า 'else if' แปลว่า 'ไม่เช่นนั้น ถ้าหาก')\n",
        "- รูปแบบของการกำหนดเงื่อนไขแบบซับซ้อน\n",
        "\n",
        "```python\n",
        "if <เงื่อนไข 1> :\n",
        "    <กระบวนการ 1>\n",
        "elif <เงื่อนไข 2> :\n",
        "    <กระบวนการ 2>\n",
        "elif <เงื่อนไข 3> :\n",
        "    <กระบวนการ 3>\n",
        "    :\n",
        "    :\n",
        "    :\n",
        "else:\n",
        "    <กระบวนการสุดท้าย>\n",
        "```\n",
        "\n",
        "- ความหมายของคำสั่งนี้คือ \n",
        "  1. ถ้าเงื่อนไข 1 นี้เป็นจริง ก็ให้ทำกระบวนการที่ 1\n",
        "  2. ไม่เช่นนั้นก็ให้เช็คเงื่อนไข 2 ถ้าเป็นจริง ก็ให้ทำกระบวนการที่ 2\n",
        "  3. ไม่เช่นนั้นก็ให้เช็คเงื่อนไข 3 ถ้าเป็นจริง ก็ให้ทำกระบวนการที่ 3\n",
        "  4. เราจะเช็คเงื่อนไขแบบนี้ไปเรื่อยๆ จนกระทั่งไม่เข้าเงื่อนไขใดเลย จึงทำกระบวนการสุดท้าย"
      ]
    },
    {
      "cell_type": "markdown",
      "metadata": {
        "id": "mMErc0GIQ9QM"
      },
      "source": [
        "- เช่น ถ้าเราจะกำหนดเงื่อนไขเพื่อตัดเกรดของนักเรียน จากคะแนนเต็ม 100 คะแนน\n",
        "  1. ถ้าได้คะแนน 80 ขึ้นไป จะได้เกรด 4\n",
        "  2. ไม่เช่นนั้น ถ้าได้คะแนน 70 ขึ้นไป จะได้เกรด 3\n",
        "  3. ไม่เช่นนั้น ถ้าได้คะแนน 60 ขึ้นไป จะได้เกรด 2\n",
        "  4. ไม่เช่นนั้น ถ้าได้คะแนน 50 ขึ้นไป จะได้เกรด 1\n",
        "  5. ไม่เช่นนั้น จะได้เกรด 0"
      ]
    },
    {
      "cell_type": "code",
      "execution_count": 3,
      "metadata": {
        "id": "zUajBgMjQ9QM"
      },
      "outputs": [
        {
          "name": "stdout",
          "output_type": "stream",
          "text": [
            "Your grade = 2\n"
          ]
        }
      ],
      "source": [
        "score = int(input('Enter your score: '))\n",
        "\n",
        "if score >= 80:           # score >= 80\n",
        "    grade = 4\n",
        "elif score >= 70:         # 70 <= score <= 79\n",
        "    grade = 3\n",
        "elif score >= 60:         # 60 <= score <= 69\n",
        "    grade = 2\n",
        "elif score >= 50:         # 50 <= score <= 59\n",
        "    grade = 1\n",
        "else:                     # score < 50\n",
        "    grade = 0\n",
        "\n",
        "print('Your grade =', grade)"
      ]
    },
    {
      "cell_type": "markdown",
      "metadata": {
        "id": "ZmQW9VFQQ9QP"
      },
      "source": [
        "### คำสั่งออกจากลูป (break) และคำสั่งกระโดดไปสมาชิกตัวถัดไป (continue)"
      ]
    },
    {
      "cell_type": "markdown",
      "metadata": {
        "id": "QN1FYqFiQ9QP"
      },
      "source": [
        "- เราสามารถออกจากลูปได้ด้วยคำสั่ง `break` ครับ\n",
        "- เช่น เราสามารถสั่งให้คอมพิวเตอร์พิมพ์ชื่อนักเรียนและความสูงตามลิสต์ด้านล่างออกมา จนกว่าความสูงจะมากกว่า 165 เซนติเมตรจึงจะหยุด ได้ด้วยคำสั่ง `break`"
      ]
    },
    {
      "cell_type": "code",
      "execution_count": 5,
      "metadata": {
        "id": "ackEvHVYQ9QQ"
      },
      "outputs": [
        {
          "name": "stdout",
          "output_type": "stream",
          "text": [
            "Arm : 163.5\n",
            "Bobby : 150.0\n",
            "Cathy : 167.0\n",
            "That is all.\n"
          ]
        }
      ],
      "source": [
        "student_names = ['Arm', 'Bobby', 'Cathy', 'Dorothy', 'Emily']\n",
        "student_heights = [163.5, 150.0, 167.0, 161.25, 170.0]\n",
        "\n",
        "for i in range(len(student_heights)):\n",
        "    # พิมพ์ชื่อนักเรียนและความสูง\n",
        "    print(student_names[i], ':', student_heights[i])\n",
        "    # ถ้าความสูงของนักเรียนคนนั้น > 165 เซนติเมตร ให้ออกจากลูป\n",
        "    if student_heights[i] > 165.0:\n",
        "        break\n",
        "        \n",
        "print('That is all.')"
      ]
    },
    {
      "cell_type": "markdown",
      "metadata": {
        "id": "-UC0S7hnQ9QU"
      },
      "source": [
        "- ส่วนคำสั่ง `continue` จะสั่งให้คอมพิวเตอร์เลิกทำกระบวนการที่กำลังทำกับสมาชิกตัวปัจจุบัน แล้วกระโดดไปสมาชิกตัวถัดไปทันทีครับ\n",
        "- เช่น เราสามารถสั่งให้คอมพิวเตอร์พิมพ์รายชื่อนักเรียนและความสูง แต่หากนักเรียนคนใดที่มีชื่อขึ้นต้นด้วยตัว `'A'` หรือตัว `'C'` ก็จะไม่ต้องพิมพ์ต่อท้ายว่า `blacklisted` ได้ดังนี้"
      ]
    },
    {
      "cell_type": "code",
      "execution_count": 6,
      "metadata": {
        "id": "60g3GAdkQ9QU"
      },
      "outputs": [
        {
          "name": "stdout",
          "output_type": "stream",
          "text": [
            "Arm : 163.5\n",
            "Bobby : 150.0 --> blacklisted\n",
            "Cathy : 167.0\n",
            "Dorothy : 161.25 --> blacklisted\n",
            "Emily : 170.0 --> blacklisted\n"
          ]
        }
      ],
      "source": [
        "student_names = ['Arm', 'Bobby', 'Cathy', 'Dorothy', 'Emily']\n",
        "student_heights = [163.5, 150.0, 167.0, 161.25, 170.0]\n",
        "\n",
        "for i in range(len(student_heights)):\n",
        "    # พิมพ์ชื่อนักเรียนและความสูง\n",
        "    print(student_names[i], ':', student_heights[i], end='')\n",
        "    # ถ้าชื่อนักเรียนขึ้นต้นด้วยตัว A หรือตัว C ให้ตัดจบ แล้วไปสมาชิกตัวถัดไปทันที\n",
        "    if student_names[i][0] == 'A' or student_names[i][0] == 'C':\n",
        "        print()\n",
        "        continue\n",
        "    print(' --> blacklisted')"
      ]
    },
    {
      "cell_type": "markdown",
      "metadata": {
        "id": "KonFAgDMQ9QX"
      },
      "source": [
        "### แบบฝึกหัด 7.3"
      ]
    },
    {
      "cell_type": "markdown",
      "metadata": {
        "id": "8PkytrYCQ9QY"
      },
      "source": [
        "จงเขียนโปรแกรมเพื่อแสดงรายการนักเรียนที่ได้เกรดตำกว่า 4 ถ้านักเรียนคนใดได้เกรดต่ำกว่า 3 ให้พิมพ์ข้อความเตือน `'warning'` ที่หลังเกรด และให้โปรแกรมหยุดการทำงานเมื่อพบนักเรียนที่ได้เกรดตำกว่า 2"
      ]
    },
    {
      "cell_type": "code",
      "execution_count": 9,
      "metadata": {
        "id": "6iWpHCyJQ9QY"
      },
      "outputs": [
        {
          "name": "stdout",
          "output_type": "stream",
          "text": [
            "Bobby : 3\n",
            "Cathy : 1 warning\n",
            "Dorothy : 2 warning\n",
            "Emily : 0 warning\n"
          ]
        }
      ],
      "source": [
        "student_names = ['Arm', 'Bobby', 'Cathy', 'Dorothy', 'Emily']\n",
        "student_scores = [86, 78, 54, 65, 34]\n",
        "\n",
        "for i in range(len(student_names)):\n",
        "    grade = 0\n",
        "    \n",
        "    # คำนวณเกรดของนักเรียน เก็บใส่ตัวแปร grade ไว้\n",
        "    if student_scores[i] >= 80:\n",
        "        grade = 4\n",
        "    elif student_scores[i] >= 70:\n",
        "        grade = 3\n",
        "    elif student_scores[i] >= 60:\n",
        "        grade = 2\n",
        "    elif student_scores[i] >= 50:\n",
        "        grade = 1\n",
        "    else:\n",
        "        grade = 0\n",
        "    \n",
        "    # ถ้าพบว่านักเรียนได้เกรด 4 ให้กระโดดข้ามไปนักเรียนคนถัดไป โดยใช้คำสั่ง continue\n",
        "    if grade == 4:\n",
        "        continue\n",
        "    \n",
        "    # พิมพ์ชื่อนักเรียนและเกรด โดยที่ยังไม่ต้องขึ้นบรรทัดใหม่\n",
        "    print(student_names[i], ':', grade, end='')\n",
        "    \n",
        "    # ถ้าพบนักเรียนคนใดได้เกรดตำกว่า 3 ให้พิมพ์ข้อความเตือนว่า 'warning' และขึ้นบรรทัดใหม่\n",
        "    if grade < 3:\n",
        "        print(' warning')\n",
        "        continue\n",
        "    else:\n",
        "        print()\n",
        "    \n",
        "    # หากพบนักเรียนที่ได้เกรดต่ำกว่า 2 ให้ออกจากลูปทันที โดยใช้คำสั่ง break\n",
        "    if grade < 2:\n",
        "        break"
      ]
    },
    {
      "cell_type": "markdown",
      "metadata": {
        "id": "1pGr2WuVQ9Qa"
      },
      "source": [
        "---------"
      ]
    },
    {
      "cell_type": "markdown",
      "metadata": {
        "id": "h-3zot7FQ9Qa"
      },
      "source": [
        "## กิจกรรม 8: โจทย์เสริมทักษะ"
      ]
    },
    {
      "cell_type": "markdown",
      "metadata": {
        "id": "K3VzPtf5Q9Qb"
      },
      "source": [
        "1. จงเขียนโปรแกรมเพื่อรับจำนวน $ n $ และพิมพ์พิระมิดชิดซ้ายที่มีขนาดเท่ากับ $ n $ เช่น\n",
        "\n",
        "```\n",
        "Enter the size of the left-angle pyramid (n): 5\n",
        "*\n",
        "**\n",
        "***\n",
        "****\n",
        "*****\n",
        "```"
      ]
    },
    {
      "cell_type": "code",
      "execution_count": 13,
      "metadata": {
        "id": "iGQSwjdOQ9Qb"
      },
      "outputs": [
        {
          "name": "stdout",
          "output_type": "stream",
          "text": [
            "\n",
            "*\n",
            "**\n",
            "***\n",
            "****\n",
            "*****\n"
          ]
        }
      ],
      "source": [
        "n = input(\"Enter the size of the left-angle pyramid (n): \")\n",
        "for i in range(int(n)+1):\n",
        "    print(\"*\" * i)"
      ]
    },
    {
      "cell_type": "markdown",
      "metadata": {
        "id": "Qy9XQVD7Q9Qd"
      },
      "source": [
        "2. จงเขียนโปรแกรมเพื่อรับจำนวน $ h $ และพิมพ์พิระมิดที่มีความสูงเท่ากับ $ h $ เช่น\n",
        "\n",
        "```\n",
        "Enter the height of the pyramid (h): 5\n",
        "    *\n",
        "   ***\n",
        "  *****\n",
        " *******\n",
        "*********\n",
        "```"
      ]
    },
    {
      "cell_type": "code",
      "execution_count": 2,
      "metadata": {
        "id": "SfVnJRM2Q9Qe"
      },
      "outputs": [
        {
          "name": "stdout",
          "output_type": "stream",
          "text": [
            "        *\n",
            "       ***\n",
            "      *****\n",
            "     *******\n",
            "    *********\n",
            "   ***********\n",
            "  *************\n",
            " ***************\n"
          ]
        }
      ],
      "source": [
        "n = int(input(\"Enter the height of the pyramid (h): \"))\n",
        "for i in range(n):\n",
        "    for j in range(n-i):\n",
        "        print(\" \", end=\"\")\n",
        "    for k in range(i*2+1):\n",
        "        print(\"*\", end=\"\")\n",
        "    print()"
      ]
    },
    {
      "cell_type": "markdown",
      "metadata": {
        "id": "3uWrmnpDQ9Qf"
      },
      "source": [
        "3. จงเขียนโปรแกรมเพื่อรับจำนวน $ h $ และพิมพ์รูปข้าวหลามตัดที่มีความสูงเท่ากับ $ 2h - 1 $ เช่น\n",
        "\n",
        "```\n",
        "Enter the height of club (h): 5\n",
        "    *\n",
        "   ***\n",
        "  *****\n",
        " *******\n",
        "*********\n",
        " *******\n",
        "  *****\n",
        "   ***\n",
        "    *\n",
        "```"
      ]
    },
    {
      "cell_type": "code",
      "execution_count": 35,
      "metadata": {
        "id": "iVCpkr0xQ9Qg"
      },
      "outputs": [
        {
          "name": "stdout",
          "output_type": "stream",
          "text": [
            "     *\n",
            "    ***\n",
            "   *****\n",
            "  *******\n",
            " *********\n",
            "***********\n",
            " *********\n",
            "  *******\n",
            "   *****\n",
            "    ***\n",
            "     *\n"
          ]
        }
      ],
      "source": [
        "n = 5\n",
        "for i in range(n):\n",
        "  # space\n",
        "  for j in range(n-i):\n",
        "    print(\" \", end=\"\")\n",
        "  # star\n",
        "  for j in range(i*2+1):\n",
        "    print(\"*\", end=\"\")\n",
        "  print()\n",
        "for i in range(n, -1, -1):\n",
        "  # space\n",
        "  for j in range(n-i):\n",
        "    print(\" \", end=\"\")\n",
        "  # star\n",
        "  for j in range(i*2+1):\n",
        "    print(\"*\", end=\"\")\n",
        "  print()\n",
        " "
      ]
    },
    {
      "cell_type": "markdown",
      "metadata": {
        "id": "p7lxwPB-Q9Qh"
      },
      "source": [
        "4. จงเขียนโปรแกรมเพื่อรับจำนวน $ h $ และพิมพ์รูปข้าวหลามตัดกลวงที่มีความสูงเท่ากับ $ 2h - 1 $ เช่น\n",
        "\n",
        "```\n",
        "Enter the height of hollow club (h): 5\n",
        "    *\n",
        "   * *\n",
        "  *   *\n",
        " *     *\n",
        "*       *\n",
        " *     *\n",
        "  *   *\n",
        "   * *\n",
        "    *\n",
        "```"
      ]
    },
    {
      "cell_type": "code",
      "execution_count": 1,
      "metadata": {
        "id": "O3rS8Z3gQ9Qi"
      },
      "outputs": [
        {
          "name": "stdout",
          "output_type": "stream",
          "text": [
            "      *\n",
            "     * *\n",
            "    *   *\n",
            "   *     *\n",
            "  *       *\n",
            " *         *\n",
            "  *       *\n",
            "   *     *\n",
            "    *   *\n",
            "     * *\n",
            "      *\n"
          ]
        }
      ],
      "source": [
        "n = int(input(\"Enter the height of hollow club (h): \"))\n",
        "fp = lambda n, i: print(f\"{' '*(n-i+1)}*{' '*(i*2-1)}{'*' if i != 0 else ''}\")\n",
        "for i in range(n):\n",
        "  fp(n,i)\n",
        "for i in range(n, -1, -1):\n",
        "  fp(n,i)\n"
      ]
    }
  ],
  "metadata": {
    "colab": {
      "collapsed_sections": [],
      "name": "An Introduction to Python (Thai).ipynb",
      "provenance": []
    },
    "kernelspec": {
      "display_name": "Python 3",
      "language": "python",
      "name": "python3"
    },
    "language_info": {
      "codemirror_mode": {
        "name": "ipython",
        "version": 3
      },
      "file_extension": ".py",
      "mimetype": "text/x-python",
      "name": "python",
      "nbconvert_exporter": "python",
      "pygments_lexer": "ipython3",
      "version": "3.8.10"
    }
  },
  "nbformat": 4,
  "nbformat_minor": 0
}
