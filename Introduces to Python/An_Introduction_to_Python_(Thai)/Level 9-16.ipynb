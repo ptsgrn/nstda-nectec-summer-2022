{
  "cells": [
    {
      "cell_type": "markdown",
      "metadata": {
        "id": "TejuwdZO7NRx"
      },
      "source": [
        "# โครงสร้างข้อมูลในภาษา Python — https://tinyurl.com/ybn763lq"
      ]
    },
    {
      "cell_type": "markdown",
      "metadata": {
        "id": "-zrb03T5-qU9"
      },
      "source": [
        "ปรัชญา บุญขวัญ\n",
        "\n",
        "Email: `prachya.boonkwan@nectec.or.th`\n",
        "\n",
        "(C) December 2018"
      ]
    },
    {
      "cell_type": "markdown",
      "metadata": {
        "id": "pUVUZRP27TtA"
      },
      "source": [
        "- สวัสดีครับ เรากลับมาเจอกันอีกแล้วนะครับ ในคราวนี้เราจะมาเรียนรู้เรื่องการใช้โครงสร้างข้อมูลในภาษา Python กันครับ\n",
        "- หัวข้อที่เราจะเรียนกันมีดังนี้ครับ\n",
        "  1. การใช้ลิสต์ (list)\n",
        "  2. ลูปไวล์ (while-loop)\n",
        "  3. การใช้เซ็ต (set)\n",
        "  4. การใช้ดิกชันนารี (dictionary)\n",
        "  5. การจัดฟอร์แมตของสตริง (string formatting)\n",
        "  6. การอ่านและเขียนไฟล์ (file)\n",
        "  7. ฟังก์ชัน (function)\n",
        "  8. คลาสและการโปรแกรมเชิงวัตถุ (class and object-oriented programming)\n",
        "  9. การเวียนเกิด (recursion)\n",
        "  \n",
        "- กติกาของเรายังคงเหมือนเดิมครับ เราจะใช้การเรียนรู้แบบสะท้อนกลับ (reflective learning)\n",
        "  - ท่านสามารถเลือกวิธีการเรียนรู้ได้หลากหลาย ทั้งจากคำบรรยายในแบบเรียนนี้ จากหนังสือแบบเรียน จากการเรียนรู้ด้วยตัวเองผ่านแบบฝึกหัดตามแบบเรียนนี้ โดยเราได้เตรียมผู้ช่วยสอนไว้คอยตอบคำถามของท่านไว้แล้วครับ\n",
        "  - ในแต่ละกิจกรรม จะมีแบบทดสอบให้ท่านลองทำเป็นระยะๆ ด้วย เพื่อตรวจสอบความเข้าใจของท่าน\n",
        "  - หากท่านยังไม่เข้าใจ อย่าเพิ่งไปเครียดครับ ท่านสามารถเปลี่ยนวิธีการเรียนรู้ให้ตรงกับจริตของท่านได้ตลอดเวลาครับ\n",
        "  - และสำหรับท่านที่เคยมีประสบการณ์กับภาษา Python มาก่อน ท่านสามารถทดลองทำแบบฝึกหัดเสริมทักษะที่ท้าย workshop ได้เลยนะครับ ;) \n",
        "\n",
        "- วิธีการใช้ Google Colab อย่างง่าย\n",
        "  - กล่องคำสั่งจะเป็นสีเทา เราสามารถเขียนโปรแกรมภาษา Python ลงในกล่องคำสั่งนี้ได้\n",
        "  - **วิธีรัน (run):** เมื่อเขียนโปรแกรมลงไปแล้ว เราสามารถสั่งรันได้โดยการกดปุ่มเพลย์ ▶️ ที่อยู่หน้ากล่องคำสั่ง หรือกดปุ่ม Shift+Enter ก็ได้ครับ\n",
        "  - หากยังไม่เห็นปุ่มเพลย์ ให้เอาเม้าส์ไปคลิกที่กล่องคำสั่งก่อน ปุ่มเพลย์ก็จะปรากฏขึ้นมาครับ"
      ]
    },
    {
      "cell_type": "markdown",
      "metadata": {
        "id": "zTTFWIsE890N"
      },
      "source": [
        "-----"
      ]
    },
    {
      "cell_type": "markdown",
      "metadata": {
        "id": "eCg5EtC48-re"
      },
      "source": [
        "## กิจกรรม 9: ลิสต์ (List)"
      ]
    },
    {
      "cell_type": "markdown",
      "metadata": {
        "id": "c3hLdy_T9CRN"
      },
      "source": [
        "### ทบทวน\n",
        "\n",
        "- ลิสต์ (list) คือรายการสิ่งของที่เราสามารถปรับเปลี่ยนรายการได้ตลอดเวลาครับ\n",
        "\n",
        "- ลิสต์ใช้สัญลักษณ์ `[ ]` คั่นด้วยเครื่องหมายคอมมา `,`\n",
        "\n",
        "- **คำสั่งเข้าถึงสมาชิก (indexing):** เราสามารถเข้าถึงสมาชิกแต่ละตัวในลิสต์ด้วยการระบุตำแหน่งของสมาชิกที่เราต้องการ ด้วยคำสั่ง `[` $i$ `]` เมื่อ $i$ คือ index ที่เราต้องการเข้าถึง *ซึ่งเริ่มนับจาก 0 เสมอ*\n",
        "\n",
        "- **คำสั่งเลือกบางส่วน (slicing):** `ลิสต์[` $a$ `:` $b$ `]` จะเลือกสมาชิกตั้งแต่ index ที่ $a$ จนถึง index ที่ $b - 1$"
      ]
    },
    {
      "cell_type": "markdown",
      "metadata": {
        "id": "prVBAXfGHbxo"
      },
      "source": [
        "- ตัวอย่าง: หากเรามีลิสต์ของคะแนนสอบนักเรียน `scores` เราสามารถหาช่วงของคะแนน ตั้งแต่คะแนนสูงกว่า 80 คะแนนตำแหน่งแรก จนถึงคะแนนสูงกว่า 80 คะแนนตำแหน่งสุดท้ายได้ด้วยโปรแกรมนี้"
      ]
    },
    {
      "cell_type": "code",
      "execution_count": 51,
      "metadata": {
        "id": "QNptsMxY7Lzq"
      },
      "outputs": [
        {
          "name": "stdout",
          "output_type": "stream",
          "text": [
            "[35.5, 73.0, 83.5, 65.0, 81.0, 79.5, 87.0, 49.5]\n",
            "\n",
            "Finding the first high-score...\n",
            "Score: 35.5\n",
            "Score: 73.0\n",
            "Score: 83.5\n",
            "First high-score index: 2\n",
            "\n",
            "Finding the last high-score...\n",
            "Score: 49.5\n",
            "Score: 87.0\n",
            "Last high-score index: 6\n",
            "\n",
            "Score slice: [83.5, 65.0, 81.0, 79.5, 87.0]\n"
          ]
        }
      ],
      "source": [
        "scores = [35.5, 73.0, 83.5, 65.0, 81.0, 79.5, 87.0, 49.5]\n",
        "print(scores, end='\\n\\n')\n",
        "\n",
        "print('Finding the first high-score...')\n",
        "begidx = 0\n",
        "for i in range(len(scores)):\n",
        "    print('Score:', scores[i])\n",
        "    if scores[i] > 80.0:\n",
        "        begidx = i\n",
        "        break\n",
        "print('First high-score index:', begidx, end='\\n\\n')\n",
        "\n",
        "print('Finding the last high-score...')\n",
        "endidx = len(scores)\n",
        "for i in range(len(scores) - 1, -1, -1):\n",
        "    print('Score:', scores[i])\n",
        "    if scores[i] > 80.0:\n",
        "        endidx = i\n",
        "        break\n",
        "print('Last high-score index:', endidx, end='\\n\\n')\n",
        "\n",
        "print('Score slice:', scores[begidx : endidx + 1])"
      ]
    },
    {
      "cell_type": "markdown",
      "metadata": {
        "id": "MasP7w2025Qt"
      },
      "source": [
        "- ในคราวนี้เราจะมาเรียนรู้วิธีการเพิ่มสมาชิก ลบสมาชิก และการเรียงลำดับสมาชิกในลิสต์กันครับ\n",
        "  - เราจะเพิ่มสมาชิกใหม่เข้าไปในลิสต์ด้วยคำสั่ง `append` คำสั่ง `insert` และคำสั่ง `extend`\n",
        "  - เราจะลบสมาชิกออกจากลิสต์ด้วยคำสั่ง `del`\n",
        "  - เราจะเรียงลำดับสมาชิกในลิสต์ด้วยคำสั่ง `sort` และ `sorted`"
      ]
    },
    {
      "cell_type": "markdown",
      "metadata": {
        "id": "SOzbaYmSIict"
      },
      "source": [
        "### การเพิ่มสมาชิกในลิสต์ด้วยคำสั่ง `append`"
      ]
    },
    {
      "cell_type": "markdown",
      "metadata": {
        "id": "P2dVPaoUImu_"
      },
      "source": [
        "- **คำสั่ง `append`:** เราจะนำสมาชิกใหม่ต่อท้ายลิสต์ด้วยคำสั่ง `ลิสต์.append(` $e$ `)` เมื่อ $e$ คือสมาชิกใหม่ตัวนั้น\n",
        "- เช่น เราสามารถต่อท้ายตัวเลข 1 ถึง 5 ที่ท้ายลิสต์ `my_numbers` ได้ดังนี้"
      ]
    },
    {
      "cell_type": "code",
      "execution_count": 52,
      "metadata": {
        "id": "1k9xXS1OG2sn"
      },
      "outputs": [
        {
          "name": "stdout",
          "output_type": "stream",
          "text": [
            "[11, 12, 13, 14, 15, 1, 2, 3, 4, 5]\n"
          ]
        }
      ],
      "source": [
        "my_numbers = [11, 12, 13, 14, 15]\n",
        "\n",
        "for i in range(1, 6):\n",
        "    my_numbers.append(i)\n",
        "    \n",
        "print(my_numbers)"
      ]
    },
    {
      "cell_type": "markdown",
      "metadata": {
        "id": "_FAWwLLqOW27"
      },
      "source": [
        "### แบบฝึกหัด 9.1\n",
        "\n",
        "จงนำสมาชิกแต่ละตัวในลิสต์ `new_numbers` ไปต่อท้ายลิสต์ `my_numbers` ด้วยคำสั่ง `append` และแสดงลิสต์ `my_numbers` ออกหน้าจอ"
      ]
    },
    {
      "cell_type": "code",
      "execution_count": 53,
      "metadata": {
        "id": "eu8dCe54OPPG"
      },
      "outputs": [
        {
          "name": "stdout",
          "output_type": "stream",
          "text": [
            "[1, 2, 3, 4, 5, 11, 12, 13, 14, 15]\n"
          ]
        }
      ],
      "source": [
        "my_numbers = [1, 2, 3, 4, 5]\n",
        "new_numbers = [11, 12, 13, 14, 15]\n",
        "\n",
        "for element in new_numbers:\n",
        "    my_numbers.append(element)      # แก้ไขโค้ดที่นี่\n",
        "    \n",
        "print(my_numbers)"
      ]
    },
    {
      "cell_type": "markdown",
      "metadata": {
        "id": "XjjPm9M13EdP"
      },
      "source": [
        "### การเพิ่มสมาชิกในลิสต์ด้วยคำสั่ง `insert`"
      ]
    },
    {
      "cell_type": "markdown",
      "metadata": {
        "id": "09IZyaCTKQ8a"
      },
      "source": [
        "- **คำสั่ง `insert`:** เราจะแทรกสมาชิกใหม่เข้าไปใน index ที่กำหนดด้วยคำสั่ง `ลิสต์.insert(` $i$ `,` $e$ `)` เมื่อ $i$ คือ index ที่เราจะแทรกสมาชิกใหม่ลงไป และ $e$ คือสมาชิกใหม่ตัวนั้น"
      ]
    },
    {
      "cell_type": "code",
      "execution_count": 54,
      "metadata": {
        "id": "C5AMxC88KFH-"
      },
      "outputs": [
        {
          "name": "stdout",
          "output_type": "stream",
          "text": [
            "[20, 40, 70, 60, 80, 100]\n"
          ]
        }
      ],
      "source": [
        "my_numbers = [20, 40, 60, 80, 100]\n",
        "my_numbers.insert(2, 70)\n",
        "print(my_numbers)"
      ]
    },
    {
      "cell_type": "markdown",
      "metadata": {
        "id": "JFYhTawxQWIf"
      },
      "source": [
        "### แบบฝึกหัด 9.2\n",
        "\n",
        "จงเพิ่มสมาชิกใหม่ลงในลิสต์ `my_numbers` ตามรายการดังต่อไปนี้\n",
        "\n",
        "1. เลข 50 ที่ index 1\n",
        "2. เลข 70 ที่ index 3\n",
        "3. เลข 90 ที่ index 5\n",
        "\n",
        "แล้วจึงแสดงลิสต์ `my_numbers` ออกที่หน้าจอ"
      ]
    },
    {
      "cell_type": "code",
      "execution_count": 55,
      "metadata": {
        "id": "bScVxd9WRXIs"
      },
      "outputs": [
        {
          "name": "stdout",
          "output_type": "stream",
          "text": [
            "[20, 50, 40, 70, 60, 90, 80, 100]\n"
          ]
        }
      ],
      "source": [
        "my_numbers = [20, 40, 60, 80, 100]\n",
        "\n",
        "# แทรกเลข 50 ที่ index 1\n",
        "my_numbers.insert(1, 50)      # แก้โค้ดที่นี่\n",
        "\n",
        "# แทรกเลข 70 ที่ index 3\n",
        "my_numbers.insert(3,70)      # แก้โค้ดที่นี่\n",
        "\n",
        "# แทรกเลข 90 ที่ index 5\n",
        "my_numbers.insert(5,90)      # แก้โค้ดที่นี่\n",
        "\n",
        "print(my_numbers)"
      ]
    },
    {
      "cell_type": "markdown",
      "metadata": {
        "id": "uJFLpqdbSLmk"
      },
      "source": [
        "ผลลัพธ์ที่ได้ควรจะเป็น `[20, 50, 40, 70, 60, 90, 80, 100]` นะครับ"
      ]
    },
    {
      "cell_type": "markdown",
      "metadata": {
        "id": "2qVg4PxJLWo9"
      },
      "source": [
        "### แบบฝึกหัด 9.3\n",
        "\n",
        "หากเราแทรกตัวเลข 11 ถึง 15 เข้าไปที่ต้นลิสต์ `my_numbers` (คือ index ที่ 0) เราจะได้ผลลัพธ์ดังนี้"
      ]
    },
    {
      "cell_type": "code",
      "execution_count": 56,
      "metadata": {
        "id": "-b8OdcGZPEL4"
      },
      "outputs": [
        {
          "name": "stdout",
          "output_type": "stream",
          "text": [
            "[15, 14, 13, 12, 11, 1, 2, 3, 4, 5]\n"
          ]
        }
      ],
      "source": [
        "my_numbers = [1, 2, 3, 4, 5]\n",
        "new_numbers = [11, 12, 13, 14, 15]\n",
        "\n",
        "for i in new_numbers:\n",
        "    my_numbers.insert(0, i)\n",
        "    \n",
        "print(my_numbers)"
      ]
    },
    {
      "cell_type": "markdown",
      "metadata": {
        "id": "c-KvsW5OPI1O"
      },
      "source": [
        "จะสังเกตได้ว่า ตัวเลข 11 ถึง 15 ที่ด้านบนยังคงเรียงลำดับจากมากไปน้อยอยู่ เรามาแก้ไขโปรแกรมด้านบนเพื่อให้ตัวเลข 11 ถึง 15 เรียงลำดับจากน้อยไปมากกันดีกว่าครับ"
      ]
    },
    {
      "cell_type": "code",
      "execution_count": 57,
      "metadata": {
        "id": "zQ5tXL7cLBnA"
      },
      "outputs": [
        {
          "name": "stdout",
          "output_type": "stream",
          "text": [
            "[11, 12, 13, 14, 15, 1, 2, 3, 4, 5]\n"
          ]
        }
      ],
      "source": [
        "my_numbers = [1, 2, 3, 4, 5]\n",
        "new_numbers = [11, 12, 13, 14, 15]\n",
        "\n",
        "for i in range(len(new_numbers)):\n",
        "    my_numbers.insert(i, new_numbers[i])      # แก้ไขโค้ดที่นี่\n",
        "    \n",
        "print(my_numbers)"
      ]
    },
    {
      "cell_type": "markdown",
      "metadata": {
        "id": "zaLymp5FNRHb"
      },
      "source": [
        "ผลลัพธ์ที่ได้ควรจะเป็นดังนี้ครับ `[11, 12, 13, 14, 15, 1, 2, 3, 4, 5]`"
      ]
    },
    {
      "cell_type": "markdown",
      "metadata": {
        "id": "meYuc0n_ScVP"
      },
      "source": [
        "### แบบฝึกหัด 9.4: Insertion Sort\n",
        "\n",
        "จงเขียนโปรแกรมเพื่อเรียงลำดับข้อมูลด้วยแอลกอริธึม Insertion Sort \n",
        "\n",
        "หลักการของ insertion sort เปรียบเสมือนการเรียงไพ่ในมือ เวลาที่เราเล่นไพ่ หลังจากที่เราจั่วไพ่ขึ้นมา เราจะนำไพ่ใบนั้นมาเทียบกับไพ่แต่ละใบในมือ หากไพ่ที่จั่วได้มามีค่าน้อยกว่าไพ่ใบไหนในมือ เราก็จะนำไพ่ใบใหม่ไปแทรกที่ตำแหน่งนั้น\n",
        "\n",
        "เราจะจั่วไพ่แบบนี้ไปเรื่อยๆ จนกว่าไพ่จะหมดกอง สิ่งที่ได้คือไพ่ในมือของเราจะเรียงลำดับตามหน้าไพ่ครับ\n",
        "\n",
        "ในแบบฝึกหัดนี้เราจะมาเขียนโปรแกรมเรียงลำดับตัวเลข โดยใช้หลักการเดียวกันการเรียงไพ่ในมือนะครับ"
      ]
    },
    {
      "cell_type": "code",
      "execution_count": 58,
      "metadata": {
        "id": "ihDGffbqNDA9"
      },
      "outputs": [
        {
          "name": "stdout",
          "output_type": "stream",
          "text": [
            "[1, 2, 3, 3, 4, 5, 6, 7, 8, 8, 9, 10]\n"
          ]
        }
      ],
      "source": [
        "# กองไพ่\n",
        "items = [3, 8, 5, 10, 2, 9, 7, 6, 3, 8, 1, 4]\n",
        "\n",
        "# ไพ่ที่อยู่ในมือ\n",
        "result = []\n",
        "\n",
        "# จั่วไพ่จากกองออกมาทีละใบ\n",
        "for new_item in items:\n",
        "    \n",
        "    # ตัวแปรนี้มีไว้ตรวจสอบว่า เราแทรกไพ่ที่จั่วมาลงในมือได้หรือยัง\n",
        "    is_inserted = False\n",
        "    \n",
        "    # ไล่เทียบไพ่ที่จั่วได้กับไพ่แต่ละใบในมือ โดยตัวแปร j จะแทนตำแหน่งไพ่แต่ละใบในมือ\n",
        "    for j in range(len(result)):\n",
        "        \n",
        "        # ถ้าไพ่ที่จั่วได้มีหน้าไพ่น้อยกว่าหรือเท่ากับไพ่ในมือ\n",
        "        if new_item < result[j]:                          # แก้ไขโค้ดที่นี่\n",
        "            \n",
        "            # ให้แทรกไพ่ที่จั่วได้ลงไปที่ตำแหน่งดังกล่าว แล้วบันทึกไว้ว่าแทรกไพ่ได้แล้ว\n",
        "            result.insert(j, new_item)          # แก้ไขโค้ดที่นี่\n",
        "            is_inserted = True\n",
        "            break\n",
        "\n",
        "    # ถ้าหากเทียบจนครบทุกใบในมือแล้ว ยังแทรกไพ่ไม่ได้เลย\n",
        "    if not is_inserted:\n",
        "        \n",
        "        # ให้นำไพ่ที่จั่วได้ไปต่อท้ายไพ่ที่อยู่ในมือแทน\n",
        "        result.append(new_item)              # แก้ไขโค้ดที่นี่\n",
        "            \n",
        "print(result)"
      ]
    },
    {
      "cell_type": "markdown",
      "metadata": {
        "id": "_stu3ePIwyQ0"
      },
      "source": [
        "### การเพิ่มสมาชิกในลิสต์ด้วยคำสั่ง `extend`"
      ]
    },
    {
      "cell_type": "markdown",
      "metadata": {
        "id": "MHbaPuYIw120"
      },
      "source": [
        "- นอกจากนี้เรายังสามารถเพิ่มเติมสมาชิกจากลิสต์อื่นเข้าไปต่อท้ายลิสต์ที่เราสนใจได้ด้วยคำสั่ง `ลิสต์ปลายทาง.extend(ลิสต์ต้นทาง)`\n",
        "- ข้อแตกต่างสำคัญระหว่าง `extend` กับ `append` ก็คือ `extend` จะนำสมาชิกทุกตัวในลิสต์ต้นทางมาต่อท้ายลิสต์ปลายทาง ส่วน `append` จะนำสมาชิกหนึ่งตัวมาต่อท้ายลิสต์ครับ\n",
        "- เช่น เราสามารถเพิ่มสมาชิกจากลิสต์ `[11, 12, 13, 14, 15]` ไปต่อท้ายลิสต์ `my_list` ได้ด้วยโปรแกรมนี้ครับ"
      ]
    },
    {
      "cell_type": "code",
      "execution_count": 59,
      "metadata": {
        "id": "3wYLXPA6xP0t"
      },
      "outputs": [
        {
          "name": "stdout",
          "output_type": "stream",
          "text": [
            "[1, 2, 3, 4, 5, 11, 12, 13, 14, 15]\n"
          ]
        }
      ],
      "source": [
        "my_list = [1, 2, 3, 4, 5]\n",
        "new_list = [11, 12, 13, 14, 15]\n",
        "\n",
        "my_list.extend(new_list)\n",
        "print(my_list)"
      ]
    },
    {
      "cell_type": "markdown",
      "metadata": {
        "id": "-4OlMza-x2yU"
      },
      "source": [
        "### แบบฝึกหัด 9.5"
      ]
    },
    {
      "cell_type": "markdown",
      "metadata": {
        "id": "5qieWwSSx561"
      },
      "source": [
        "จงนำสมาชิกของลิสต์ `new_list_1`, `new_list_2`, `new_list_3`, และ `new_list_4` มาต่อท้ายลิสต์ `my_list` เพื่อให้ได้ผลลัพธ์ดังนี้\n",
        "\n",
        "`[10, 11, 12, 4, 5, 6, 7, 8, 9, 1, 2, 3]`"
      ]
    },
    {
      "cell_type": "code",
      "execution_count": 60,
      "metadata": {
        "id": "6P6U8IYHzKKl"
      },
      "outputs": [
        {
          "name": "stdout",
          "output_type": "stream",
          "text": [
            "[10, 11, 12, 4, 5, 6, 7, 8, 9, 1, 2, 3]\n"
          ]
        }
      ],
      "source": [
        "my_list = []\n",
        "new_list_1 = [1, 2, 3]\n",
        "new_list_2 = [4, 5, 6]\n",
        "new_list_3 = [7, 8, 9]\n",
        "new_list_4 = [10, 11, 12]\n",
        "\n",
        "# ต่อลิสต์ my_list ด้วยคำสั่ง extend\n",
        "my_list.extend(new_list_4)\n",
        "my_list.extend(new_list_2)\n",
        "my_list.extend(new_list_3)\n",
        "my_list.extend(new_list_1)\n",
        "\n",
        "print(my_list)"
      ]
    },
    {
      "cell_type": "markdown",
      "metadata": {
        "id": "exPzS5c2y1NS"
      },
      "source": [
        "### การลบสมาชิกในลิสต์ด้วยคำสั่ง `del`"
      ]
    },
    {
      "cell_type": "markdown",
      "metadata": {
        "id": "dAlipUaMy9Yo"
      },
      "source": [
        "- เราสามารถลบสมาชิกในลิสต์ได้ด้วยคำสั่ง `del` ครับ\n",
        "- เช่น เราสามารถลบสมาชิกที่ index ที่ 2 ออกจากลิสต์ `my_numbers` ได้ด้วยคำสั่ง `del my_numbers[2]` ดังนี้"
      ]
    },
    {
      "cell_type": "code",
      "execution_count": 61,
      "metadata": {
        "id": "z5AH00qjsl0U"
      },
      "outputs": [
        {
          "name": "stdout",
          "output_type": "stream",
          "text": [
            "[11, 12, 14, 15]\n"
          ]
        }
      ],
      "source": [
        "my_numbers = [11, 12, 13, 14, 15]\n",
        "del my_numbers[2]\n",
        "print(my_numbers)"
      ]
    },
    {
      "cell_type": "markdown",
      "metadata": {
        "id": "nbGb93yXzyS7"
      },
      "source": [
        "### แบบฝึกหัด 9.6"
      ]
    },
    {
      "cell_type": "markdown",
      "metadata": {
        "id": "Dn8UB4JXz7-b"
      },
      "source": [
        "จงลบสมาชิกออกจากลิสต์ `my_numbers` ตามรายการดังต่อไปนี้\n",
        "\n",
        "1. index ที่ 1\n",
        "2. index ที่ 2\n",
        "3. index ที่ 3\n",
        "\n",
        "แล้วจึงแสดงลิสต์ `my_numbers` ออกที่หน้าจอ"
      ]
    },
    {
      "cell_type": "code",
      "execution_count": 62,
      "metadata": {
        "id": "HKUMospoze-e"
      },
      "outputs": [
        {
          "name": "stdout",
          "output_type": "stream",
          "text": [
            "[20, 40, 60, 80, 100]\n"
          ]
        }
      ],
      "source": [
        "my_numbers = [20, 50, 40, 70, 60, 90, 80, 100]\n",
        "\n",
        "# ลบสมาชิกที่ index 1\n",
        "del my_numbers[1]\n",
        "\n",
        "# ลบสมาชิกที่ index 2\n",
        "del my_numbers[2]\n",
        "\n",
        "# ลบสมาชิกที่ index 3\n",
        "del my_numbers[3]\n",
        "\n",
        "print(my_numbers)"
      ]
    },
    {
      "cell_type": "markdown",
      "metadata": {
        "id": "34tbI-0H1KPM"
      },
      "source": [
        "- นอกจากนี้เรายังสามารถลบสมาชิกออกจากลิสต์แบบเป็นช่วงๆ ได้ด้วยครับ\n",
        "- เช่น เราสามารถลบสมาชิก index ที่ 1 ถึง 3 ออกจากลิสต์ `my_numbers` ได้ดังนี้"
      ]
    },
    {
      "cell_type": "code",
      "execution_count": 63,
      "metadata": {
        "id": "4ACxrHuV0KES"
      },
      "outputs": [
        {
          "name": "stdout",
          "output_type": "stream",
          "text": [
            "[11, 15]\n"
          ]
        }
      ],
      "source": [
        "my_numbers = [11, 12, 13, 14, 15]\n",
        "del my_numbers[1:4]\n",
        "print(my_numbers)"
      ]
    },
    {
      "cell_type": "markdown",
      "metadata": {
        "id": "dbAFA2pu7GBz"
      },
      "source": [
        "### แบบฝึกหัด 9.7"
      ]
    },
    {
      "cell_type": "markdown",
      "metadata": {
        "id": "CWfXPcCZ7MNK"
      },
      "source": [
        "จงลบสมาชิกในช่วง index ที่กำหนดออกจากลิสต์ `my_numbers`\n",
        "\n",
        "1. index ที่ 5 ถึง 10\n",
        "2. index ที่ 15 ถึง 20"
      ]
    },
    {
      "cell_type": "code",
      "execution_count": 64,
      "metadata": {
        "id": "dHi8V9471vKa"
      },
      "outputs": [
        {
          "name": "stdout",
          "output_type": "stream",
          "text": [
            "[0, 1, 2, 3, 4, 10, 11, 12, 13, 14, 15, 16, 17, 18, 19, 25, 26, 27, 28, 29, 30, 31, 32, 33, 34, 35, 36, 37, 38, 39]\n"
          ]
        }
      ],
      "source": [
        "# สร้างลิสต์จากช่วงจำนวน 0 ถึง 39\n",
        "my_numbers = list(range(40))\n",
        "\n",
        "# ลบสมาชิก index ที่ 5 ถึง 10\n",
        "del my_numbers[5:10]\n",
        "\n",
        "# ลบสมาชิก index ที่ 15 ถึง 20\n",
        "del my_numbers[15:20]\n",
        "\n",
        "print(my_numbers)"
      ]
    },
    {
      "cell_type": "markdown",
      "metadata": {
        "id": "1dHzdqlc9Gmq"
      },
      "source": [
        "### การเรียงลำดับสมาชิกในลิสต์"
      ]
    },
    {
      "cell_type": "markdown",
      "metadata": {
        "id": "LDAj0PH29MIQ"
      },
      "source": [
        "- ในภาษา Python จะมีคำสั่งสำหรับเรียงลำดับสมาชิกในลิสต์อยู่ 2 คำสั่งคือ `sort` และ `sorted`\n",
        "- **คำสั่ง `ลิสต์.sort()`** จะเรียงลำดับสมาชิกภายในลิสต์โดยจะทับลิสต์ตัวเดิมไปเลยครับ\n",
        "- ทั้งนี้โปรดสังเกตว่า เราจะใช้คำสั่ง `sort` นี้ต่อท้ายลิสต์ที่เราต้องการ"
      ]
    },
    {
      "cell_type": "code",
      "execution_count": 65,
      "metadata": {
        "id": "JFW-b1ad7czL"
      },
      "outputs": [
        {
          "name": "stdout",
          "output_type": "stream",
          "text": [
            "[1, 2, 3, 3, 4, 5, 6, 7, 8, 8, 9, 10]\n"
          ]
        }
      ],
      "source": [
        "items = [3, 8, 5, 10, 2, 9, 7, 6, 3, 8, 1, 4]\n",
        "items.sort()\n",
        "print(items)"
      ]
    },
    {
      "cell_type": "markdown",
      "metadata": {
        "id": "ZlqE1RyL9uM2"
      },
      "source": [
        "- ในขณะที่ **คำสั่ง `sorted()`** จะสร้างลิสต์ใหม่ที่เป็นผลลัพธ์จากการเรียงลำดับสมาชิกในลิสต์ตัวเดิม\n",
        "- ทั้งนี้โปรดสังเกตว่า เราจะใช้คำสั่ง `sorted` คร่อมลิสต์ที่เราต้องการ"
      ]
    },
    {
      "cell_type": "code",
      "execution_count": 66,
      "metadata": {
        "id": "gXMq5Y239sZd"
      },
      "outputs": [
        {
          "name": "stdout",
          "output_type": "stream",
          "text": [
            "Old items: [3, 8, 5, 10, 2, 9, 7, 6, 3, 8, 1, 4]\n",
            "New items: [1, 2, 3, 3, 4, 5, 6, 7, 8, 8, 9, 10]\n"
          ]
        }
      ],
      "source": [
        "old_items = [3, 8, 5, 10, 2, 9, 7, 6, 3, 8, 1, 4]\n",
        "new_items = sorted(old_items)\n",
        "print('Old items:', old_items)\n",
        "print('New items:', new_items)"
      ]
    },
    {
      "cell_type": "markdown",
      "metadata": {
        "id": "YuccXK_S-2Xk"
      },
      "source": [
        "- เราสามารถระบุทิศทางของการเรียงลำดับสมาชิกให้เรียงย้อนหลังได้ด้วยออพชั่น `reverse=True` ครับ"
      ]
    },
    {
      "cell_type": "code",
      "execution_count": 67,
      "metadata": {
        "id": "JNtEJXAN99wo"
      },
      "outputs": [
        {
          "name": "stdout",
          "output_type": "stream",
          "text": [
            "[10, 9, 8, 8, 7, 6, 5, 4, 3, 3, 2, 1]\n"
          ]
        }
      ],
      "source": [
        "items = [3, 8, 5, 10, 2, 9, 7, 6, 3, 8, 1, 4]\n",
        "items.sort(reverse=True)\n",
        "print(items)"
      ]
    },
    {
      "cell_type": "code",
      "execution_count": 68,
      "metadata": {
        "id": "eXu4Fh5d_NDb"
      },
      "outputs": [
        {
          "name": "stdout",
          "output_type": "stream",
          "text": [
            "Old items: [3, 8, 5, 10, 2, 9, 7, 6, 3, 8, 1, 4]\n",
            "New items: [10, 9, 8, 8, 7, 6, 5, 4, 3, 3, 2, 1]\n"
          ]
        }
      ],
      "source": [
        "old_items = [3, 8, 5, 10, 2, 9, 7, 6, 3, 8, 1, 4]\n",
        "new_items = sorted(old_items, reverse=True)\n",
        "print('Old items:', old_items)\n",
        "print('New items:', new_items)"
      ]
    },
    {
      "cell_type": "markdown",
      "metadata": {
        "id": "-om1xe1i_WTK"
      },
      "source": [
        "- คำสั่ง `sorted` นี้จะมีประโยชน์มากในการวนลูปตามการเรียงลำดับของสมาชิกภายในลิสต์ โดยที่ไม่ส่งผลข้างเคียงกับลิสต์ดังกล่าวครับ"
      ]
    },
    {
      "cell_type": "code",
      "execution_count": 69,
      "metadata": {
        "id": "NKGR_V5c_PjX"
      },
      "outputs": [
        {
          "name": "stdout",
          "output_type": "stream",
          "text": [
            "The item list is: [3, 8, 5, 10, 2, 9, 7, 6, 3, 8, 1, 4]\n",
            "\n",
            "Sort and print\n",
            "Item = 1\n",
            "Item = 2\n",
            "Item = 3\n",
            "Item = 3\n",
            "Item = 4\n",
            "Item = 5\n",
            "Item = 6\n",
            "Item = 7\n",
            "Item = 8\n",
            "Item = 8\n",
            "Item = 9\n",
            "Item = 10\n",
            "\n",
            "Reversed sort and print\n",
            "Item = 10\n",
            "Item = 9\n",
            "Item = 8\n",
            "Item = 8\n",
            "Item = 7\n",
            "Item = 6\n",
            "Item = 5\n",
            "Item = 4\n",
            "Item = 3\n",
            "Item = 3\n",
            "Item = 2\n",
            "Item = 1\n",
            "\n",
            "The item list is still the same: [3, 8, 5, 10, 2, 9, 7, 6, 3, 8, 1, 4]\n"
          ]
        }
      ],
      "source": [
        "items = [3, 8, 5, 10, 2, 9, 7, 6, 3, 8, 1, 4]\n",
        "print('The item list is:', items)\n",
        "print()\n",
        "\n",
        "print('Sort and print')\n",
        "for item in sorted(items):\n",
        "    print('Item =', item)\n",
        "print()\n",
        "\n",
        "print('Reversed sort and print')\n",
        "for item in sorted(items, reverse=True):\n",
        "    print('Item =', item)\n",
        "print()\n",
        "\n",
        "print('The item list is still the same:', items)"
      ]
    },
    {
      "cell_type": "markdown",
      "metadata": {
        "id": "fT76-vpUI4wc"
      },
      "source": [
        "### แบบฝึกหัด 9.8"
      ]
    },
    {
      "cell_type": "markdown",
      "metadata": {
        "id": "zBdMzXfFI7rw"
      },
      "source": [
        "จงแสดงความสูงของนักเรียนออกหน้าจอ โดยไล่ลำดับจากหัวแถวซึ่งสูงที่สุด ไปหาท้ายแถวซึ่งเตี้ยที่สุด และแปลงหน่วยของความสูงจากหน่วยเซนติเมตรเป็นหน่วยเมตร ทั้งนี้ขอกำหนดให้ใช้คำสั่ง `sorted` ในการจัดลำดับความสูงของนักเรียน"
      ]
    },
    {
      "cell_type": "code",
      "execution_count": 70,
      "metadata": {
        "id": "tx-szqfo_4a6"
      },
      "outputs": [
        {
          "name": "stdout",
          "output_type": "stream",
          "text": [
            "[1.7, 1.67, 1.635, 1.6125, 1.5]\n"
          ]
        }
      ],
      "source": [
        "student_heights = [163.5, 150.0, 167.0, 161.25, 170.0]\n",
        "\n",
        "print([i * 0.01 for i in sorted(student_heights, reverse=True)])"
      ]
    },
    {
      "cell_type": "markdown",
      "metadata": {
        "id": "q7s7Ud51Ne-5"
      },
      "source": [
        "### การตรวจสอบการเป็นสมาชิก"
      ]
    },
    {
      "cell_type": "markdown",
      "metadata": {
        "id": "PqGGWHMCNiY_"
      },
      "source": [
        "- เราสามารถตรวจสอบการเป็นสมาชิกของลิสต์ด้วยคำสั่ง `in`\n",
        "- เช่น หากเราต้องการตรวจสอบว่า มีสตริง `'name'` อยู่ในลิสต์ `my_list` หรือไม่ เราสามารถใช้คำสั่งว่า `'name' in my_list` ได้ดังตัวอย่างด้านล่างครับ"
      ]
    },
    {
      "cell_type": "code",
      "execution_count": 71,
      "metadata": {
        "id": "cEePwXgiQCZ8"
      },
      "outputs": [
        {
          "name": "stdout",
          "output_type": "stream",
          "text": [
            "It is in the list!\n"
          ]
        }
      ],
      "source": [
        "my_list = ['hello', 'my', 'name', 'is', 'prachya']\n",
        "if 'name' in my_list:\n",
        "    print('It is in the list!')\n",
        "else:\n",
        "    print('It is not in the list.')"
      ]
    },
    {
      "cell_type": "markdown",
      "metadata": {
        "id": "NzNdnGUMS8Ed"
      },
      "source": [
        "- ส่วนการตรวจสอบการไม่เป็นสมาชิก สามารถทำได้โดยใช้คำสั่ง `not in` \n",
        "- เช่น หากเราต้องการตรวจสอบว่า `'doraemon'` อยู่ในลิสต์ `my_list` หรือไม่ เราก็ใช้คำสั่ง `'doraemon' not in my_list` ได้ดังตัวอย่างด้านล่างครับ"
      ]
    },
    {
      "cell_type": "code",
      "execution_count": 72,
      "metadata": {
        "id": "ISr5M1vCTHDv"
      },
      "outputs": [
        {
          "name": "stdout",
          "output_type": "stream",
          "text": [
            "It is not in the list!\n"
          ]
        }
      ],
      "source": [
        "my_list = ['hello', 'my', 'name', 'is', 'prachya']\n",
        "if 'doraemon' not in my_list:\n",
        "    print('It is not in the list!')\n",
        "else:\n",
        "    print('It is in the list.')"
      ]
    },
    {
      "cell_type": "markdown",
      "metadata": {
        "id": "Es7cyQUhSaLZ"
      },
      "source": [
        "### แบบฝึกหัด 9.9"
      ]
    },
    {
      "cell_type": "markdown",
      "metadata": {
        "id": "PNk7IgUzSdjy"
      },
      "source": [
        "จงนำสมาชิกจากลิสต์ `my_list` มาสร้างลิสต์ใหม่ชื่อว่า `new_list` โดยลบสมาชิกที่มีซ้ำกันออกไป"
      ]
    },
    {
      "cell_type": "code",
      "execution_count": 73,
      "metadata": {
        "id": "srHdDSQrSvQN"
      },
      "outputs": [
        {
          "name": "stdout",
          "output_type": "stream",
          "text": [
            "[3, 8, 5, 10, 2, 9, 7, 6, 1, 4]\n"
          ]
        }
      ],
      "source": [
        "my_list = [3, 8, 5, 10, 2, 9, 7, 6, 3, 8, 1, 4]\n",
        "new_list = []\n",
        "\n",
        "for element in my_list:\n",
        "    if element not in new_list:\n",
        "        new_list.append(element)\n",
        "\n",
        "print(new_list)"
      ]
    },
    {
      "cell_type": "markdown",
      "metadata": {
        "id": "WEwzqLSgLwyp"
      },
      "source": [
        "### ทูเพิล (tuple)"
      ]
    },
    {
      "cell_type": "markdown",
      "metadata": {
        "id": "mjHvOjE8LzS7"
      },
      "source": [
        "- ทูเพิล (tuple) คือลิสต์ที่มีขนาดคงที่ ไม่สามารถเพิ่มหรือลดสมาชิกได้อีก\n",
        "- ทูเพิลใช้สัญลักษณ์ `( )` และคั่นด้วยเครื่องหมายคอมมา `,`"
      ]
    },
    {
      "cell_type": "code",
      "execution_count": 74,
      "metadata": {
        "id": "zeXUrAlzMWeh"
      },
      "outputs": [
        {
          "name": "stdout",
          "output_type": "stream",
          "text": [
            "(3, 5)\n",
            "(4, 7)\n",
            "(3, 8, 5, 10, 2, 9, 7, 6, 3, 8, 1, 4)\n"
          ]
        }
      ],
      "source": [
        "# คู่ลำดับเป็น tuple ที่มีสมาชิก 2 ตัว\n",
        "coor1 = (3, 5)\n",
        "coor2 = (4, 7)\n",
        "print(coor1)\n",
        "print(coor2)\n",
        "\n",
        "# คู่ลำดับสามารถมีสมาชิกได้หลายตัว\n",
        "my_tuple = (3, 8, 5, 10, 2, 9, 7, 6, 3, 8, 1, 4)\n",
        "print(my_tuple)"
      ]
    },
    {
      "cell_type": "markdown",
      "metadata": {
        "id": "ClSbKF37M2hl"
      },
      "source": [
        "- เราสามารถใช้ตัวดำเนินการ `len` เพื่อหาขนาดของทูเพิลได้"
      ]
    },
    {
      "cell_type": "code",
      "execution_count": 75,
      "metadata": {
        "id": "ZkTWeb5TMtMK"
      },
      "outputs": [
        {
          "data": {
            "text/plain": [
              "12"
            ]
          },
          "execution_count": 75,
          "metadata": {},
          "output_type": "execute_result"
        }
      ],
      "source": [
        "len(my_tuple)"
      ]
    },
    {
      "cell_type": "markdown",
      "metadata": {
        "id": "ryunconwmvPi"
      },
      "source": [
        "- เราสามารถนำค่าแต่ละตัวในทูเพิลมาใส่ตัวแปรได้อีกด้วย โดยตัวแปรที่นำมารับค่า ต้องมีจำนวนเท่ากับจำนวนสมาชิกในทูเพิลนั้นๆ"
      ]
    },
    {
      "cell_type": "code",
      "execution_count": 76,
      "metadata": {
        "id": "xwtPbsajm8aY"
      },
      "outputs": [
        {
          "name": "stdout",
          "output_type": "stream",
          "text": [
            "3 5\n",
            "1 2 3\n"
          ]
        }
      ],
      "source": [
        "coor_2d = (3, 5)\n",
        "coor_3d = (1, 2, 3)\n",
        "\n",
        "x1, y1 = coor_2d\n",
        "x2, y2, z2 = coor_3d\n",
        "\n",
        "print(x1, y1)\n",
        "print(x2, y2, z2)"
      ]
    },
    {
      "cell_type": "markdown",
      "metadata": {
        "id": "T3EyucoyNeCU"
      },
      "source": [
        "- นอกจากนี้ เรายังใช้ indexing เพื่อเข้าถึงสมาชิกในทูเพิลได้อีกด้วย โดยถ้าเราทำ slicing ผลลัพธ์ก็จะออกมาเป็นทูเพิลด้วย"
      ]
    },
    {
      "cell_type": "code",
      "execution_count": 77,
      "metadata": {
        "id": "qQuXE-GwNXdI"
      },
      "outputs": [
        {
          "data": {
            "text/plain": [
              "(5, 10, 2, 9, 7)"
            ]
          },
          "execution_count": 77,
          "metadata": {},
          "output_type": "execute_result"
        }
      ],
      "source": [
        "my_tuple[2:7]"
      ]
    },
    {
      "cell_type": "markdown",
      "metadata": {
        "id": "yA-qotKoPC0E"
      },
      "source": [
        "- เราสามารถเปรียบเทียบทูเพิลได้ โดยคอมพิวเตอร์จะเริ่มเปรียบเทียบจากสมาชิกทีละคู่ หากว่าสมาชิกคู่นั้นยังเท่ากัน ก็จะเปรียบเทียบสมาชิกตัวอื่นต่อไปเรื่อยๆ"
      ]
    },
    {
      "cell_type": "code",
      "execution_count": 78,
      "metadata": {
        "id": "YxiI93QfP-mV"
      },
      "outputs": [
        {
          "data": {
            "text/plain": [
              "True"
            ]
          },
          "execution_count": 78,
          "metadata": {},
          "output_type": "execute_result"
        }
      ],
      "source": [
        "(1, 2, 3) < (1, 2, 4)        # ทูเพิลแรกน้อยกว่าทูเพิลหลัง เพราะเปรียบเทียบทีละคู่จนไปเจอว่า 3 < 4"
      ]
    },
    {
      "cell_type": "code",
      "execution_count": 79,
      "metadata": {
        "id": "mXyxWHWgQEEN"
      },
      "outputs": [
        {
          "data": {
            "text/plain": [
              "True"
            ]
          },
          "execution_count": 79,
          "metadata": {},
          "output_type": "execute_result"
        }
      ],
      "source": [
        "(1, 2, 3) < (1, 2, 3, 0)     # ทูเพิลแรกน้อยกว่าทูเพิลหลัง เพราะทูเพิลแรกหมดสมาชิกก่อน"
      ]
    },
    {
      "cell_type": "markdown",
      "metadata": {
        "id": "dn5vlGByR4ns"
      },
      "source": [
        "- นอกจากนี้ เรายังสามารถนำทูเพิลมาเป็นสมาชิกของลิสต์ และสามารถไล่ลูปได้อีกด้วย"
      ]
    },
    {
      "cell_type": "code",
      "execution_count": 80,
      "metadata": {
        "id": "p6vIjLSYSDgX"
      },
      "outputs": [
        {
          "name": "stdout",
          "output_type": "stream",
          "text": [
            "John : 35.5\n",
            "Mary : 73.0\n",
            "Cindy : 83.5\n",
            "Sean : 65.0\n",
            "Barry : 81.0\n",
            "Mark : 79.5\n",
            "Eugene : 87.0\n",
            "Bob : 49.5\n"
          ]
        }
      ],
      "source": [
        "student_scores = [\n",
        "    ('John', 35.5), ('Mary', 73.0), ('Cindy', 83.5), ('Sean', 65.0),\n",
        "    ('Barry', 81.0), ('Mark', 79.5), ('Eugene', 87.0), ('Bob', 49.5)\n",
        "]\n",
        "\n",
        "for (name, score) in student_scores:\n",
        "    print(name, ':', score)"
      ]
    },
    {
      "cell_type": "markdown",
      "metadata": {
        "id": "YRbvUe7zTRPP"
      },
      "source": [
        "- หากเราต้องการเติมสมาชิกที่เป็นทูเพิลลงในลิสต์ด้วยคำสั่ง append เราต้องใส่วงเล็บเพิ่มอีก 1 คู่ เพื่อให้คอมพิวเตอร์รู้ว่าสิ่งเรากำลังจะใส่นั้นเป็นทูเพิล"
      ]
    },
    {
      "cell_type": "code",
      "execution_count": 81,
      "metadata": {
        "id": "WA-sRDJkTcoF"
      },
      "outputs": [],
      "source": [
        "student_scores = [\n",
        "    ('John', 35.5), ('Mary', 73.0), ('Cindy', 83.5), ('Sean', 65.0),\n",
        "    ('Barry', 81.0), ('Mark', 79.5), ('Eugene', 87.0), ('Bob', 49.5)\n",
        "]\n",
        "\n",
        "student_scores.append( ('Peter', 90.0) )     # โปรดสังเกตว่าจะมีวงเล็บครอบทูเพิลด้วย"
      ]
    },
    {
      "cell_type": "markdown",
      "metadata": {
        "id": "acHJo4CDQcBS"
      },
      "source": [
        "### แบบฝึกหัด 9.10"
      ]
    },
    {
      "cell_type": "markdown",
      "metadata": {
        "id": "HVeEsnwNQiSD"
      },
      "source": [
        "1. จงแสดงชื่อและคะแนนของนักเรียนจากในลิสต์ `student_scores` ซึ่งได้คะแนนสอบมากกว่า 70 คะแนน"
      ]
    },
    {
      "cell_type": "code",
      "execution_count": 82,
      "metadata": {
        "id": "LA_4tQv3RDsy"
      },
      "outputs": [
        {
          "name": "stdout",
          "output_type": "stream",
          "text": [
            "Mary\n",
            "Cindy\n",
            "Barry\n",
            "Mark\n",
            "Eugene\n"
          ]
        }
      ],
      "source": [
        "student_scores = [\n",
        "    ('John', 35.5), ('Mary', 73.0), ('Cindy', 83.5), ('Sean', 65.0),\n",
        "    ('Barry', 81.0), ('Mark', 79.5), ('Eugene', 87.0), ('Bob', 49.5)\n",
        "]\n",
        "\n",
        "for (name, score) in student_scores:\n",
        "    if score > 70:\n",
        "        print(name)"
      ]
    },
    {
      "cell_type": "markdown",
      "metadata": {
        "id": "ZgtqoI7oSfNj"
      },
      "source": [
        "2. จงแสดงชื่อและคะแนนของนักเรียนในลิสต์ `student_scores` โดยเรียงลำดับตามคะแนนจากมากไปหาน้อย"
      ]
    },
    {
      "cell_type": "code",
      "execution_count": 83,
      "metadata": {
        "id": "OW7RueAZS39L"
      },
      "outputs": [
        {
          "name": "stdout",
          "output_type": "stream",
          "text": [
            "Eugene : 87.0\n",
            "Cindy : 83.5\n",
            "Barry : 81.0\n",
            "Mark : 79.5\n",
            "Mary : 73.0\n",
            "Sean : 65.0\n",
            "Bob : 49.5\n",
            "John : 35.5\n"
          ]
        }
      ],
      "source": [
        "student_scores = [\n",
        "    ('John', 35.5), ('Mary', 73.0), ('Cindy', 83.5), ('Sean', 65.0),\n",
        "    ('Barry', 81.0), ('Mark', 79.5), ('Eugene', 87.0), ('Bob', 49.5)\n",
        "]\n",
        "\n",
        "inv_scores = []\n",
        "\n",
        "# กลับลำดับของทูเพิลในลิสต์ student_scores ให้กลายเป็น (คะแนน, ชื่อ) แล้วเก็บลงใน inv_scores\n",
        "for (nm,sc) in student_scores:          # แก้โค้ดที่นี่\n",
        "    inv_scores.append((sc,nm))        # แก้โค้ดที่นี่\n",
        "\n",
        "# เรียงลำดับข้อมูลใน inv_scores ด้วยคำสั่ง sort โดยเรียงจากมากไปน้อย\n",
        "inv_scores.sort(reverse=True)        # แก้โค้ดที่นี่\n",
        "\n",
        "# แสดงชื่อและคะแนนของนักเรียนในลิสต์ inv_scores ออกมา\n",
        "for (score, name) in inv_scores:\n",
        "    print(name, ':', score)"
      ]
    },
    {
      "cell_type": "markdown",
      "metadata": {
        "id": "QfA8CpwTKGWO"
      },
      "source": [
        "-----"
      ]
    },
    {
      "cell_type": "markdown",
      "metadata": {
        "id": "wTCvYS5AKHbm"
      },
      "source": [
        "## กิจกรรม 10: การวนซ้ำแบบกำหนดเงื่อนไข"
      ]
    },
    {
      "cell_type": "markdown",
      "metadata": {
        "id": "mLmwcZjAKPAP"
      },
      "source": [
        "- ข้อจำกัดสำคัญของลูปฟอร์คือ มันจะไล่ลูปสมาชิกในลิสต์เท่านั้น ทำให้บางครั้งก็ไม่สะดวก หากเราต้องทำซ้ำกระบวนการบนสมาชิกตัวเดิมในลิสต์ตามเงื่อนไขที่กำหนด"
      ]
    },
    {
      "cell_type": "markdown",
      "metadata": {
        "id": "LQLMHPpZLyJl"
      },
      "source": [
        "### ลูปไวล์ (while-loop)"
      ]
    },
    {
      "cell_type": "markdown",
      "metadata": {
        "id": "2Ii-zbOsL0y-"
      },
      "source": [
        "- คำสั่งลูปไวล์ (while-loop) จะตรวจสอบเงื่อนไขที่กำหนด หากเป็นไปตามเงื่อนไข ก็จะทำซ้ำกระบวนการนั้นไปเรื่อยๆ จนกว่าเงื่อนไขนั้นจะไม่เป็นจริง\n",
        "  - รูปแบบของลูปไวล์เป็นดังนี้\n",
        "```python\n",
        "    while <เงื่อนไข> :\n",
        "        <กระบวนการ>\n",
        "```\n",
        "  - ความหมายของคำสั่งนี้คือ <u>**ตราบเท่าที่**</u> เงื่อนไขนี้เป็นจริง ก็ให้ทำกระบวนการนี้ไปเรื่อยๆ นั่นเอง"
      ]
    },
    {
      "cell_type": "markdown",
      "metadata": {
        "id": "pPnyfw6RTvMe"
      },
      "source": [
        "- เช่น หากเราต้องการหาผลรวมของจำนวนที่ index ที่ 0, 2, 4, ... ไปเรื่อยๆ ตราบเท่าที่จำนวนนั้นไม่เท่ากับ 7 เราจะเขียนโปรแกรมได้ดังนี้ครับ"
      ]
    },
    {
      "cell_type": "code",
      "execution_count": 84,
      "metadata": {
        "id": "t8kuacAdMF-a"
      },
      "outputs": [
        {
          "name": "stdout",
          "output_type": "stream",
          "text": [
            "Adding 3\n",
            "Adding 5\n",
            "Adding 2\n",
            "The jumping sum is 10\n"
          ]
        }
      ],
      "source": [
        "items = [3, 8, 5, 10, 2, 9, 7, 6, 3, 8, 1, 4]\n",
        "idx = 0\n",
        "jumping_sum = 0\n",
        "\n",
        "while idx < len(items) and items[idx] != 7:\n",
        "    print('Adding', items[idx])\n",
        "    jumping_sum = jumping_sum + items[idx]\n",
        "    idx = idx + 2\n",
        "    \n",
        "print('The jumping sum is', jumping_sum)"
      ]
    },
    {
      "cell_type": "markdown",
      "metadata": {
        "id": "H0jifwc8UXB8"
      },
      "source": [
        "- เราสามารถออกจากลูปไวล์ได้ด้วยคำสั่ง `break` ครับ\n",
        "- เช่น หากเราต้องการหาผลรวมของจำนวนในลิสต์ `items` จากตัวแรกไปเรื่อยๆ *จนกว่า* จำนวนนั้นจะน้อยกว่าหรือเท่ากับ 2 เราจะเขียนโปรแกรมได้ดังนี้"
      ]
    },
    {
      "cell_type": "code",
      "execution_count": 85,
      "metadata": {
        "id": "xdXyS6vCMVA0"
      },
      "outputs": [
        {
          "name": "stdout",
          "output_type": "stream",
          "text": [
            "Adding 3\n",
            "Adding 8\n",
            "Adding 5\n",
            "Adding 10\n",
            "Adding 2\n",
            "28\n"
          ]
        }
      ],
      "source": [
        "items = [3, 8, 5, 10, 2, 9, 7, 6, 3, 8, 1, 4]\n",
        "idx = 0\n",
        "my_sum = 0\n",
        "\n",
        "while idx < len(items):\n",
        "    print('Adding', items[idx])\n",
        "    my_sum = my_sum + items[idx]\n",
        "    \n",
        "    # สังเกตว่าคำสั่ง break จะทำงานหลังจากที่ได้บวกผลรวมเรียบร้อยแล้ว\n",
        "    if items[idx] <= 2:\n",
        "        break\n",
        "        \n",
        "    idx = idx + 1\n",
        "    \n",
        "print(my_sum)"
      ]
    },
    {
      "cell_type": "markdown",
      "metadata": {
        "id": "QJvaNjEuV2-C"
      },
      "source": [
        "- จากตัวอย่างด้านบน จะสังเกตว่าคำสั่ง break จะทำงานหลังจากที่ได้บวกผลรวมเรียบร้อยแล้ว"
      ]
    },
    {
      "cell_type": "markdown",
      "metadata": {
        "id": "swIbbo-dV-qK"
      },
      "source": [
        "### แบบฝึกหัด 10.1"
      ]
    },
    {
      "cell_type": "markdown",
      "metadata": {
        "id": "6udiA85JWCs_"
      },
      "source": [
        "จงเก็บรวบรวมของตัวเลขจำนวนเต็มทุกตัวที่ผู้ใช้พิมพ์เข้ามาแล้วเรียงลำดับจากมากไปน้อย\n",
        "\n",
        "ตราบใดที่ผู้ใช้ยังพิมพ์ตัวเลขที่ไม่ใช่เลข 0 เข้ามา ก็ให้รับค่าตัวเลขมาเรื่อยๆ แล้วเก็บไว้ในลิสต์ `my_numbers` หากเจอเลข 0 ให้หยุดลูปทันที จากนั้นให้จัดเรียงสมาชิกตามลำดับจากมากไปน้อย แล้วแสดงผลลิสต์นั้นออกมา"
      ]
    },
    {
      "cell_type": "code",
      "execution_count": 86,
      "metadata": {
        "id": "Xe4H0RtXVjex"
      },
      "outputs": [
        {
          "name": "stdout",
          "output_type": "stream",
          "text": [
            "[1, 2, 3, 4, 5]\n"
          ]
        }
      ],
      "source": [
        "my_numbers = []\n",
        "\n",
        "# วนลูปตลอดไปจนกว่าจะถูกสั่ง break\n",
        "while True:\n",
        "    num = int(input('Enter an integer: '))\n",
        "    \n",
        "    # หากค่า num เป็น 0 ให้ออกจากลูปด้วยคำสั่ง break\n",
        "    if num == 0:\n",
        "        break\n",
        "        \n",
        "    # นำค่า num ไปต่อท้ายลิสต์ my_numbers\n",
        "    my_numbers.append(num)\n",
        "\n",
        "# เรียงลำดับสมาชิกในลิสต์ my_numbers จากมากไปน้อยด้วยคำสั่ง sort\n",
        "my_numbers.sort()\n",
        "    \n",
        "print(my_numbers)"
      ]
    },
    {
      "cell_type": "markdown",
      "metadata": {
        "id": "ozG5EUgpYOkW"
      },
      "source": [
        "- สังเกตว่าคำสั่ง `while True` จะใช้ในการวนลูปตลอดไป (forever loop) ซึ่งจะมีประโยชน์ในกรณีที่จำเป็นต้องตรวจสอบเงื่อนไขในขณะทำกระบวนการนั่นเอง"
      ]
    },
    {
      "cell_type": "markdown",
      "metadata": {
        "id": "kPwcH_WVY65s"
      },
      "source": [
        "-----"
      ]
    },
    {
      "cell_type": "markdown",
      "metadata": {
        "id": "zaTrOFcuY7xt"
      },
      "source": [
        "## กิจกรรม 11: เซ็ต (set)"
      ]
    },
    {
      "cell_type": "markdown",
      "metadata": {
        "id": "GIVWxRc1ZEJS"
      },
      "source": [
        "- ภาษา Python ยังมีโครงสร้างข้อมูลอีกชนิดหนึ่งซึ่งทำหน้าที่เหมือนกับเซ็ตในทางคณิตศาสตร์ โครงสร้างนี้ก็เรียกว่า **เซ็ต (set)** นั่นเองครับ\n",
        "\n",
        "- เซ็ตจะใช้สัญลักษณ์ `{ }` สมาชิกแต่ละตัวจะคั่นด้วยเครื่องหมายคอมมา `,`\n",
        "\n",
        "- ข้อแตกต่างระหว่างเซ็ตกับลิสต์ก็คือ เซ็ตจะเก็บสมาชิกเฉพาะตัวที่ไม่ซ้ำและไม่จำเป็นว่าจะต้องเรียงลำดับตามการเพิ่มสมาชิก ในขณะที่ลิสต์จะเก็บสมาชิกทุกตัวและเรียงลำดับตามการเพิ่มสมาชิก"
      ]
    },
    {
      "cell_type": "code",
      "execution_count": 87,
      "metadata": {
        "id": "vMjCqiXXXRtQ"
      },
      "outputs": [
        {
          "name": "stdout",
          "output_type": "stream",
          "text": [
            "This is a list: [300, 200, 100, 300, 200]\n",
            "This is a set: {200, 100, 300}\n"
          ]
        }
      ],
      "source": [
        "my_list = [300, 200, 100, 300, 200]\n",
        "my_set = {300, 200, 100, 300, 200}\n",
        "\n",
        "print('This is a list:', my_list)\n",
        "print('This is a set:', my_set)"
      ]
    },
    {
      "cell_type": "markdown",
      "metadata": {
        "id": "4B6QWF1Ra16N"
      },
      "source": [
        "- เราสามารถทำลูปฟอร์ในเซ็ตได้เหมือนกับที่ทำในลิสต์เลยครับ แต่อยากให้สังเกตว่าลำดับของสมาชิกจะไม่เป็นไปตามที่เรากำหนดไว้แต่แรก นี่คือสิ่งที่ควรระวังเวลาที่เราทำลูปฟอร์ในเซ็ตครับ"
      ]
    },
    {
      "cell_type": "code",
      "execution_count": 88,
      "metadata": {
        "id": "i1X1fAona5iL"
      },
      "outputs": [
        {
          "name": "stdout",
          "output_type": "stream",
          "text": [
            "200\n",
            "100\n",
            "300\n"
          ]
        }
      ],
      "source": [
        "for member in my_set:\n",
        "    print(member)"
      ]
    },
    {
      "cell_type": "markdown",
      "metadata": {
        "id": "WrqmY30XcV9p"
      },
      "source": [
        "- และเราก็สามารถตรวจสอบได้ว่า ค่าค่านี้เป็นสมาชิกของเซ็ตหรือเปล่า ด้วยคำสั่ง `in`"
      ]
    },
    {
      "cell_type": "code",
      "execution_count": 89,
      "metadata": {
        "id": "7LG5RytscdvQ"
      },
      "outputs": [
        {
          "name": "stdout",
          "output_type": "stream",
          "text": [
            "200 in my_set is True\n",
            "400 in my_set is False\n"
          ]
        }
      ],
      "source": [
        "print('200 in my_set is', 200 in my_set)\n",
        "print('400 in my_set is', 400 in my_set)"
      ]
    },
    {
      "cell_type": "markdown",
      "metadata": {
        "id": "EyUKYB4RLI77"
      },
      "source": [
        "- หากเราต้องการสร้างตัวแปรสำหรับเซ็ตว่าง ∅ เราสามารถใช้คำสั่ง `set()` ได้"
      ]
    },
    {
      "cell_type": "code",
      "execution_count": 90,
      "metadata": {
        "id": "ZOTgyLHPLUBd"
      },
      "outputs": [
        {
          "name": "stdout",
          "output_type": "stream",
          "text": [
            "set()\n"
          ]
        }
      ],
      "source": [
        "my_empty_set = set()\n",
        "print(my_empty_set)"
      ]
    },
    {
      "cell_type": "markdown",
      "metadata": {
        "id": "odqups5f1aor"
      },
      "source": [
        "### การเพิ่มสมาชิกในเซ็ตด้วยคำสั่ง `add` และ `update`"
      ]
    },
    {
      "cell_type": "markdown",
      "metadata": {
        "id": "7urJQgIL1g1A"
      },
      "source": [
        "- เราสามารถเพิ่มสมาชิกในเซ็ตได้ 2 วิธี\n",
        "  - เพิ่มสมาชิกทีละตัวด้วยคำสั่ง `เซ็ต.add(` $e$ `)` เมื่อ $e$ คือสมาชิกตัวที่เราจะเพิ่มเข้าไปในเซ็ต\n",
        "  - เพิ่มสมาชิกทีละหลายตัวด้วยคำสั่ง `เซ็ตปลายทาง.update(ลิสต์หรือเซ็ตต้นทาง)` โดยคำสั่งนี้จะเพิ่มสมาชิกทุกตัวในลิสต์หรือเซ็ตต้นทางเข้าไปในเซ็ตปลายทางนั่นเอง"
      ]
    },
    {
      "cell_type": "code",
      "execution_count": 91,
      "metadata": {
        "id": "cHk8o--32c4u"
      },
      "outputs": [
        {
          "name": "stdout",
          "output_type": "stream",
          "text": [
            "my_set = {200, 100, 300}\n",
            "\n",
            "Adding 400\n",
            "my_set = {200, 100, 300, 400}\n",
            "\n",
            "Adding 200\n",
            "my_set = {200, 100, 300, 400}\n",
            "\n",
            "Updating with [400, 500, 600]\n",
            "my_set = {100, 200, 300, 400, 500, 600}\n"
          ]
        }
      ],
      "source": [
        "my_set = {300, 200, 100}\n",
        "print('my_set =', my_set, end='\\n\\n')\n",
        "\n",
        "print('Adding 400')\n",
        "my_set.add(400)\n",
        "print('my_set =', my_set, end='\\n\\n')\n",
        "\n",
        "print('Adding 200')\n",
        "my_set.add(200)\n",
        "print('my_set =', my_set, end='\\n\\n')\n",
        "\n",
        "print('Updating with [400, 500, 600]')\n",
        "my_set.update([300, 400, 500, 600])\n",
        "print('my_set =', my_set)"
      ]
    },
    {
      "cell_type": "markdown",
      "metadata": {
        "id": "R8QFd-4JUsRT"
      },
      "source": [
        "### แบบฝึกหัด 11.1"
      ]
    },
    {
      "cell_type": "markdown",
      "metadata": {
        "id": "CY8dlW3fUt02"
      },
      "source": [
        "จงหาเซ็ตของชื่อนักเรียนจากในรายการคะแนนนักเรียนดังต่อไปนี้"
      ]
    },
    {
      "cell_type": "code",
      "execution_count": 92,
      "metadata": {
        "id": "6PNGperEUxny"
      },
      "outputs": [
        {
          "name": "stdout",
          "output_type": "stream",
          "text": [
            "['John', 'Mary', 'Cindy', 'Sean', 'Barry', 'Mark', 'Eugene', 'Bob']\n"
          ]
        }
      ],
      "source": [
        "student_scores = [\n",
        "    ('John', 35.5), ('Mary', 73.0), ('Cindy', 83.5), ('Sean', 65.0),\n",
        "    ('Barry', 81.0), ('Mark', 79.5), ('Eugene', 87.0), ('Bob', 49.5)\n",
        "]\n",
        "\n",
        "# สร้างตัวแปร students เพื่อเก็บเซ็ตว่าง\n",
        "students = []                             # แก้โค้ดที่นี่\n",
        "\n",
        "# ไล่ลูปฟอร์เพื่อเติมชื่อนักเรียนลงในเซ็ต students\n",
        "for (name, score) in student_scores:      # แก้โค้ดที่นี่\n",
        "    students.append(name)                 # แก้โค้ดที่นี่\n",
        "\n",
        "print(students)"
      ]
    },
    {
      "cell_type": "markdown",
      "metadata": {
        "id": "O0pR8Q2i1OtL"
      },
      "source": [
        "### ตัวดำเนินการบนเซ็ต"
      ]
    },
    {
      "cell_type": "markdown",
      "metadata": {
        "id": "9ioJw6Fu1X3P"
      },
      "source": [
        "- นอกจากนี้เรายังสามารถใช้ตัวดำเนินการบนเซ็ตได้อีกด้วย\n",
        "\n",
        "|        ตัวดำเนินการ        | ภาษา Python |                 ความหมาย                |\n",
        "|:------------------------:|:-----------:|:---------------------------------------:|\n",
        "|         Union (∪)        |  `s1 ⏐ s2`  |          นำสมาชิกทั้งสองเซ็ตมารวมกัน         |\n",
        "|     Intersection (∩)     |  `s1 & s2`  |          เลือกสมาชิกที่อยู่ในทั้งสองเซ็ต         |\n",
        "|      Difference (-)      |  `s1 - s2`  | เลือกเฉพาะสมาชิกที่อยู่ในเซ็ตแรกแต่ไม่อยู่ในเซ็ตสอง |\n",
        "| Symmetric difference (∆) |  `s1 ^ s2`  |   เลือกเฉพาะสมาชิกที่อยู่ในเซ็ตใดเซ็ตหนึ่งเท่านั้น   |\n",
        "|      Membership (∈)      |   `e in s`  |          $e$ อยู่ในเซ็ต $s$ หรือไม่          |\n",
        "|        Subset (⊆)        |  `s1 <= s2` |     เซ็ต `s1` เป็นสับเซ็ตของ `s2` หรือไม่     |\n",
        "|       Superset (⊇)       |  `s1 >= s2` |    เซ็ต `s1` เป็นซูเปอร์เซ็ตของ `s2` หรือไม่   |\n",
        "\n",
        "- ในกรณีที่เป็นสับเซ็ตแท้หรือซูเปอร์เซ็ตแท้ เราสามารถตัดเครื่องหมาย `=` ออกไปได้ครับ"
      ]
    },
    {
      "cell_type": "code",
      "execution_count": 93,
      "metadata": {
        "id": "pg6H7_8mZTL7"
      },
      "outputs": [
        {
          "name": "stdout",
          "output_type": "stream",
          "text": [
            "s1 = {1, 2, 3}\n",
            "s2 = {2, 3, 4}\n",
            "\n",
            "Union:                    s1 ∪ s2 = {1, 2, 3, 4}\n",
            "Intersection:             s1 ∩ s2 = {2, 3}\n",
            "Difference:               s1 - s2 = {1}\n",
            "                          s2 - s1 = {4}\n",
            "Symmetric difference:     s1 ∆ s2 = {1, 4}\n",
            "Membership:                3 ∈ s1 = True\n",
            "Subset:               {2, 3} ⊆ s1 = True\n",
            "                   {1, 2, 3} ⊆ s1 = True\n",
            "Pure subset:          {2, 3} ⊂ s1 = True\n",
            "                   {1, 2, 3} ⊂ s1 = False\n",
            "Superset:          s1 ⊇ {2, 3}    = True\n",
            "                   s1 ⊇ {1, 2, 3} = True\n",
            "Pure superset:     s1 ⊃ {2, 3}    = True\n",
            "                   s1 ⊃ {1, 2, 3} = False\n"
          ]
        }
      ],
      "source": [
        "s1 = {1, 2, 3   }\n",
        "s2 = {   2, 3, 4}\n",
        "print('s1 =', s1)\n",
        "print('s2 =', s2, end='\\n\\n')\n",
        "\n",
        "print('Union:                    s1 ∪ s2 =', s1 | s2)\n",
        "print('Intersection:             s1 ∩ s2 =', s1 & s2)\n",
        "print('Difference:               s1 - s2 =', s1 - s2)\n",
        "print('                          s2 - s1 =', s2 - s1)\n",
        "print('Symmetric difference:     s1 ∆ s2 =', s1 ^ s2)\n",
        "print('Membership:                3 ∈ s1 =', 3 in s1)\n",
        "print('Subset:               {2, 3} ⊆ s1 =', {2, 3} <= s1)\n",
        "print('                   {1, 2, 3} ⊆ s1 =', {1, 2, 3} <= s1)\n",
        "print('Pure subset:          {2, 3} ⊂ s1 =', {2, 3} < s1)\n",
        "print('                   {1, 2, 3} ⊂ s1 =', {1, 2, 3} < s1)\n",
        "print('Superset:          s1 ⊇ {2, 3}    =', s1 >= {2, 3})\n",
        "print('                   s1 ⊇ {1, 2, 3} =', s1 >= {1, 2, 3})\n",
        "print('Pure superset:     s1 ⊃ {2, 3}    =', s1 > {2, 3})\n",
        "print('                   s1 ⊃ {1, 2, 3} =', s1 > {1, 2, 3})"
      ]
    },
    {
      "cell_type": "markdown",
      "metadata": {
        "id": "vI-QZQETJsdy"
      },
      "source": [
        "### แบบฝึกหัด 11.2"
      ]
    },
    {
      "cell_type": "markdown",
      "metadata": {
        "id": "JxAKkTiIJvmG"
      },
      "source": [
        "จงเขียนโปรแกรมเพื่อหาเซ็ตของนักเรียนที่มีคุณสมบัติดังต่อไปนี้\n",
        "\n",
        "- เซ็ตของชื่อนักเรียนยอดเยี่ยม `excellent_students` ซึ่งจะมีคะแนนตั้งแต่ 80 คะแนนขึ้นไป\n",
        "\n",
        "- เซ็ตของชื่อนักเรียนเรียนดี `good_students` ซึ่งมีคะแนนตั้งแต่ 70 คะแนนจนถึง 85 คะแนน\n",
        "\n",
        "หลังจากนั้นให้คำนวณเซ็ตดังต่อไปนี้\n",
        "\n",
        "1. นักเรียนที่เป็นทั้งยอดเยี่ยม<u>**และ**</u>เรียนดีในเวลาเดียวกัน คือจะเป็นเฉพาะยอดเยี่ยมหรือเรียนดีอย่างเดียวไม่ได้\n",
        "\n",
        "2. นักเรียนที่เป็นยอดเยี่ยม<u>**เท่านั้น**</u> ไม่ได้เป็นเรียนดี\n",
        "\n",
        "3. นักเรียนที่เป็นเรียนดี<u>**เท่านั้น**</u> ไม่ได้เป็นยอดเยี่ยม\n",
        "\n",
        "4. นักเรียนที่ได้เป็นยอดเยี่ยมหรือได้เป็นเรียนดี <u>**อย่างใดอย่างหนึ่งเท่านั้น**</u>"
      ]
    },
    {
      "cell_type": "code",
      "execution_count": 94,
      "metadata": {
        "id": "SsvjEY8nwVeG"
      },
      "outputs": [
        {
          "name": "stdout",
          "output_type": "stream",
          "text": [
            "นักเรียนยอดเยี่ยม: {'Barry', 'Cindy', 'Eugene'}\n",
            "นักเรียนเรียนดี: {'Barry', 'Mary', 'Mark', 'Cindy'}\n",
            "\n",
            "นักเรียนยอดเยี่ยมและเรียนดี: {'Barry', 'Cindy'}\n",
            "นักเรียนยอดเยี่ยมแต่ไม่ได้เรียนดี: {'Eugene'}\n",
            "นักเรียนเรียนดีแต่ไม่ได้ยอดเยี่ยม: {'Mary', 'Mark'}\n",
            "นักเรียนเรียนดีหรือยอดเยี่ยม อย่างใดอย่างหนึ่ง: {'Mary', 'Mark', 'Eugene'}\n"
          ]
        }
      ],
      "source": [
        "student_scores = [\n",
        "    ('John', 35.5), ('Mary', 73.0), ('Cindy', 83.5), ('Sean', 65.0),\n",
        "    ('Barry', 81.0), ('Mark', 79.5), ('Eugene', 87.0), ('Bob', 49.5)\n",
        "]\n",
        "\n",
        "# เซ็ตของชื่อนักเรียนยอดเยี่ยม\n",
        "excellent_students = set()\n",
        "\n",
        "# เซ็ตของชื่อนักเรียนเรียนดี\n",
        "good_students = set()\n",
        "\n",
        "for (name, score) in student_scores:\n",
        "    \n",
        "    # กรณีนักเรียนยอดเยี่ยม ให้นำเฉพาะชื่อนักเรียนใส่เซ็ต excellent_students ไว้\n",
        "    if score >= 80:\n",
        "        excellent_students.add(name)\n",
        "        \n",
        "    # กรณีนักเรียนเรียนดี ให้นำเฉพาะชื่อนักเรียนใส่เซ็ต good_students ไว้\n",
        "    if score >= 70 and score < 85:\n",
        "        good_students.add(name)\n",
        "        \n",
        "print('นักเรียนยอดเยี่ยม:', excellent_students)\n",
        "print('นักเรียนเรียนดี:', good_students, end='\\n\\n')\n",
        "\n",
        "print('นักเรียนยอดเยี่ยมและเรียนดี:', excellent_students & good_students)\n",
        "print('นักเรียนยอดเยี่ยมแต่ไม่ได้เรียนดี:', excellent_students - good_students)\n",
        "print('นักเรียนเรียนดีแต่ไม่ได้ยอดเยี่ยม:', good_students - excellent_students)\n",
        "print('นักเรียนเรียนดีหรือยอดเยี่ยม อย่างใดอย่างหนึ่ง:', excellent_students ^ good_students)"
      ]
    },
    {
      "cell_type": "markdown",
      "metadata": {
        "id": "uZrRpgCmWw2D"
      },
      "source": [
        "-----"
      ]
    },
    {
      "cell_type": "markdown",
      "metadata": {
        "id": "su9oSrG1dQyg"
      },
      "source": [
        "## กิจกรรม 12: ดิกชันนารี (dictionary)"
      ]
    },
    {
      "cell_type": "markdown",
      "metadata": {
        "id": "q_b6i61edVve"
      },
      "source": [
        "- ดิกชันนารี (dictionary) คือโครงสร้างข้อมูลที่เชื่อมโยงคีย์ (key) ไปยังค่า (value) ที่เก็บเอาไว้ในคีย์นั้น\n",
        "\n",
        "- คีย์ของดิกชันนารีอาจจะเป็นตัวเลข สตริง หรือแม้แต่ทูเพิลก็ได้ และค่าที่เก็บไว้ในคีย์นั้นจะเป็นชนิดใดก็ได้\n",
        "\n",
        "- ดิกชันนารีแตกต่างจากลิสต์และทูเพิลตรงที่\n",
        "  - ลิสต์และทูเพิลจะเข้าถึงสมาชิกภายในได้ด้วยการใช้ค่า index ซึ่งเป็นจำนวนเต็ม\n",
        "  - ในขณะที่ในดิกชันนารี เราจะเข้าถึงค่าภายในได้ด้วยการใช้คีย์ที่อาจเป็นข้อมูลชนิดอื่นก็ได้นั่นเองครับ"
      ]
    },
    {
      "cell_type": "markdown",
      "metadata": {
        "id": "CeZbJlMFSTTS"
      },
      "source": [
        "### การสร้างดิกชันนารี"
      ]
    },
    {
      "cell_type": "markdown",
      "metadata": {
        "id": "MfFA3QNuSRa3"
      },
      "source": [
        "- เราสามารถสร้างดิกชันนารีได้ 2 วิธีครับ\n",
        "  - เราสร้างดิกชันนารีเปล่าได้ด้วยคำสั่ง `{}` \n",
        "  - หรือเราสามารถสร้างดิกชันนารีที่มีค่าเริ่มต้นได้ด้วยคำสั่ง `{` $k_1$ `:` $v_1$ `,` $k_2$ `:` $v_2$ `,` $k_3$ `:` $v_3$ `,` ... `}` โดยจะมีคู่ของคีย์ $k_i$ และค่า $v_i$ เรียงกันไป คั่นด้วยเครื่องหมายคอมมา `,`"
      ]
    },
    {
      "cell_type": "code",
      "execution_count": 95,
      "metadata": {
        "id": "lNCj1IonV6M0"
      },
      "outputs": [
        {
          "name": "stdout",
          "output_type": "stream",
          "text": [
            "{}\n",
            "{'John': 35.5, 'Mary': 73.0, 'Cindy': 83.5, 'Sean': 65.0, 'Barry': 81.0, 'Mark': 79.5, 'Eugene': 87.0, 'Bob': 49.5}\n"
          ]
        }
      ],
      "source": [
        "# ดิกชันนารีเปล่า\n",
        "my_empty_dict = {}\n",
        "\n",
        "# ดิกชันนารีที่มีค่าเริ่มต้น\n",
        "student_dict = {\n",
        "    'John': 35.5, 'Mary': 73.0, 'Cindy': 83.5, 'Sean': 65.0,\n",
        "    'Barry': 81.0, 'Mark': 79.5, 'Eugene': 87.0, 'Bob': 49.5\n",
        "}\n",
        "\n",
        "print(my_empty_dict)\n",
        "\n",
        "print(student_dict)"
      ]
    },
    {
      "cell_type": "markdown",
      "metadata": {
        "id": "TqfIXiT_V8PZ"
      },
      "source": [
        "### แบบฝึกหัด 12.1"
      ]
    },
    {
      "cell_type": "markdown",
      "metadata": {
        "id": "t82KFHDjV-Vo"
      },
      "source": [
        "จงสร้างดิกชันนารี `phone_dir` ซึ่งมีค่าเริ่มต้นดังต่อไปนี้\n",
        "\n",
        "- คีย์ `'Prachya'` มีค่า `'533-7855'`\n",
        "- คีย์ `'Methas'` มีค่า `'536-2313'`\n",
        "- คีย์ `'Pahol'` มีค่า `'524-0935'`"
      ]
    },
    {
      "cell_type": "code",
      "execution_count": 96,
      "metadata": {
        "id": "wufLXzjeWvIp"
      },
      "outputs": [],
      "source": [
        "phone_dir = {\n",
        "  \"Prachya\": '533-7855',\n",
        "  \"Methas\": '536-2313',\n",
        "  \"Pahol\": '524-0935'\n",
        "}"
      ]
    },
    {
      "cell_type": "markdown",
      "metadata": {
        "id": "tHWhyutYW15-"
      },
      "source": [
        "### แบบฝึกหัด 12.2"
      ]
    },
    {
      "cell_type": "markdown",
      "metadata": {
        "id": "T-lQsNvBW4Li"
      },
      "source": [
        "จงเขียนโปรแกรมรับชื่อและเบอร์โทรศัพท์จากผู้ใช้ หลังจากนั้นให้สร้างดิกชันนารี `phone_entry` ที่มีโครงสร้างดังนี้\n",
        "\n",
        "- คีย์ `'first_name'` เก็บชื่อ\n",
        "- คีย์ `'last_name'` เก็บนามสกุล\n",
        "- คีย์ `'tel_no'` เก็บเบอร์โทรศัพท์\n",
        "\n",
        "หลังจากนั้นจึงแสดงดิกชันนารีนี้ออกทางหน้าจอ"
      ]
    },
    {
      "cell_type": "code",
      "execution_count": 97,
      "metadata": {
        "id": "ysswrrT8XZzD"
      },
      "outputs": [
        {
          "name": "stdout",
          "output_type": "stream",
          "text": [
            "{'first_name': 'F', 'last_name': 'L', 'tel_no': 'L'}\n"
          ]
        }
      ],
      "source": [
        "first_name = input('Enter first name: ')\n",
        "last_name = input('Enter last name: ')\n",
        "tel_no = input('Enter tel no: ')\n",
        "\n",
        "phone_entry = { 'first_name': first_name, 'last_name': last_name, 'tel_no': last_name }       # แก้ไขโค้ดที่นี่\n",
        "\n",
        "print(phone_entry)"
      ]
    },
    {
      "cell_type": "markdown",
      "metadata": {
        "id": "T06j59kdYkP9"
      },
      "source": [
        "### แบบฝึกหัด 12.3"
      ]
    },
    {
      "cell_type": "markdown",
      "metadata": {
        "id": "dqcTA__fYo2m"
      },
      "source": [
        "จงเขียนโปรแกรมทยอยรับชื่อและเบอร์โทรศัพท์จากผู้ใช้ สร้างดิกชันนารี `phone_entry` ที่มีโครงสร้างดังนี้\n",
        "\n",
        "- คีย์ `'first_name'` เก็บชื่อ\n",
        "- คีย์ `'last_name'` เก็บนามสกุล\n",
        "- คีย์ `'tel_no'` เก็บเบอร์โทรศัพท์\n",
        "\n",
        "แล้วนำดิกชันนารีนี้ไปต่อท้ายในลิสต์ `phone_database` ซึ่งเก็บฐานข้อมูลของผู้ใช้โทรศัพท์\n",
        "\n",
        "โปรแกรมนี้จะหยุดรับค่าจากผู้ใช้หากว่า ชื่อ นามสกุล หรือเบอร์โทรศัพท์ที่รับมาจากผู้ใช้ เป็นสตริงว่าง\n",
        "\n",
        "เมื่อโปรแกรมหยุดรับค่าจากผู้ใช้ ให้โปรแกรมไล่แสดงผลดิกชันนารีที่เก็บในลิสต์ `phone_database` ออกมาทีละอันจนกว่าจะหมด"
      ]
    },
    {
      "cell_type": "code",
      "execution_count": 98,
      "metadata": {
        "id": "Qd5rLpzmZTpo"
      },
      "outputs": [
        {
          "name": "stdout",
          "output_type": "stream",
          "text": [
            "Name: G N\n"
          ]
        }
      ],
      "source": [
        "# ลิสต์สำหรับฐานข้อมูลผู้ใช้โทรศัพท์\n",
        "phone_database = []\n",
        "\n",
        "# วนลูปตลอดไป\n",
        "while True:\n",
        "    \n",
        "    # รับชื่อ นามสกุล และเบอร์โทรศัพท์จากผู้ใช้\n",
        "    first_name = input('Enter first name: ')\n",
        "    last_name = input('Enter last name: ')\n",
        "    tel_no = input('Enter tel no: ')\n",
        "    \n",
        "    # ถ้าหากชื่อ นามสกุล หรือเบอร์โทรศัพท์เป็นสตริงว่าง ให้หยุดการทำงานของลูปนี้ด้วย break\n",
        "    if first_name == '' or last_name == '':\n",
        "        break\n",
        "\n",
        "    # นำชื่อ นามสกุล และเบอร์โทรศัพท์ มาสร้างดิกชันนารี\n",
        "    phone_entry = { 'fn': first_name, 'ln': last_name }       # แก้ไขโค้ดที่นี่\n",
        "    \n",
        "    # นำดิกชันนารีนี้ไปต่อท้าย phone_database\n",
        "    phone_database.append(phone_entry)       # แก้ไขโค้ดที่นี่\n",
        "\n",
        "# แสดงผลดิกชันนารีใน phone_database ทีละอัน\n",
        "for entry in phone_database:\n",
        "    print(f\"Name: {entry['fn']} {entry['ln']}\")       # แก้ไขโค้ดที่นี่"
      ]
    },
    {
      "cell_type": "markdown",
      "metadata": {
        "id": "vEIeGMz8gqMz"
      },
      "source": [
        "### การเข้าถึงค่าในคีย์"
      ]
    },
    {
      "cell_type": "markdown",
      "metadata": {
        "id": "P4yMVsr-hg1u"
      },
      "source": [
        "- เราสามารถเข้าถึงค่าที่อยู่ในคีย์ได้ด้วยการใช้คำสั่ง indexing `[ ]` เหมือนกับลิสต์และทูเพิลเลยครับ"
      ]
    },
    {
      "cell_type": "code",
      "execution_count": 99,
      "metadata": {
        "id": "b2gPSIpuhsGO"
      },
      "outputs": [
        {
          "name": "stdout",
          "output_type": "stream",
          "text": [
            "73.0\n",
            "87.0\n"
          ]
        }
      ],
      "source": [
        "student_dict = {\n",
        "    'John': 35.5, 'Mary': 73.0, 'Cindy': 83.5, 'Sean': 65.0,\n",
        "    'Barry': 81.0, 'Mark': 79.5, 'Eugene': 87.0, 'Bob': 49.5\n",
        "}\n",
        "\n",
        "print(student_dict['Mary'])\n",
        "print(student_dict['Eugene'])"
      ]
    },
    {
      "cell_type": "markdown",
      "metadata": {
        "id": "6OhSP6qTbWfE"
      },
      "source": [
        "- หากเราพยายามอ่านค่าในคีย์ซึ่งไม่มีในดิกชันนารี คอมพิวเตอร์จะฟ้องด้วยข้อความว่า `KeyError` ซึ่งแปลว่า หาคีย์ไม่เจอ นั่นเองครับ"
      ]
    },
    {
      "cell_type": "code",
      "execution_count": 100,
      "metadata": {
        "id": "nsP28TO2bilD"
      },
      "outputs": [
        {
          "ename": "KeyError",
          "evalue": "'Lucy'",
          "output_type": "error",
          "traceback": [
            "\u001b[0;31m---------------------------------------------------------------------------\u001b[0m",
            "\u001b[0;31mKeyError\u001b[0m                                  Traceback (most recent call last)",
            "\u001b[0;32m/tmp/ipykernel_8133/1927303255.py\u001b[0m in \u001b[0;36m<module>\u001b[0;34m\u001b[0m\n\u001b[0;32m----> 1\u001b[0;31m \u001b[0mprint\u001b[0m\u001b[0;34m(\u001b[0m\u001b[0mstudent_dict\u001b[0m\u001b[0;34m[\u001b[0m\u001b[0;34m'Lucy'\u001b[0m\u001b[0;34m]\u001b[0m\u001b[0;34m)\u001b[0m\u001b[0;34m\u001b[0m\u001b[0;34m\u001b[0m\u001b[0m\n\u001b[0m",
            "\u001b[0;31mKeyError\u001b[0m: 'Lucy'"
          ]
        }
      ],
      "source": [
        "print(student_dict['Lucy'])"
      ]
    },
    {
      "cell_type": "markdown",
      "metadata": {
        "id": "gI-n4L5vbmp_"
      },
      "source": [
        "- ดังนั้นเพื่อป้องกันไม่ให้เกิดเหตุการณ์แบบนี้ เราจึงจำเป็นต้องตรวจสอบความเป็นสมาชิกของคีย์เสียก่อน\n",
        "\n",
        "- เราสามารถตรวจสอบความเป็นสมาชิกของคีย์ในดิกชันนารีได้ด้วยคำสั่ง `in` ครับ"
      ]
    },
    {
      "cell_type": "code",
      "execution_count": null,
      "metadata": {
        "id": "mr2VxS-ib7jF"
      },
      "outputs": [
        {
          "name": "stdout",
          "output_type": "stream",
          "text": [
            "False\n",
            "True\n"
          ]
        }
      ],
      "source": [
        "print('Lucy' in student_dict)\n",
        "print('Mary' in student_dict)"
      ]
    },
    {
      "cell_type": "markdown",
      "metadata": {
        "id": "IzZa8ibqUxGI"
      },
      "source": [
        "### การเพิ่มและแทนที่คีย์ในดิกชันนารี"
      ]
    },
    {
      "cell_type": "markdown",
      "metadata": {
        "id": "fmJ_OcR5h8ia"
      },
      "source": [
        "- เราสามารถเติมคีย์ใหม่เข้าไปในดิกชันนารีได้ด้วยคำสั่ง indexing เช่นกัน"
      ]
    },
    {
      "cell_type": "code",
      "execution_count": null,
      "metadata": {
        "id": "RUycx5YSh3DN"
      },
      "outputs": [
        {
          "name": "stdout",
          "output_type": "stream",
          "text": [
            "{'John': 35.5, 'Mary': 73.0, 'Cindy': 83.5, 'Sean': 65.0, 'Barry': 81.0, 'Mark': 79.5, 'Eugene': 87.0, 'Bob': 49.5, 'Rupert': 91.0}\n"
          ]
        }
      ],
      "source": [
        "student_dict = {\n",
        "    'John': 35.5, 'Mary': 73.0, 'Cindy': 83.5, 'Sean': 65.0,\n",
        "    'Barry': 81.0, 'Mark': 79.5, 'Eugene': 87.0, 'Bob': 49.5\n",
        "}\n",
        "\n",
        "student_dict['Rupert'] = 91.0\n",
        "\n",
        "print(student_dict)"
      ]
    },
    {
      "cell_type": "markdown",
      "metadata": {
        "id": "tPGVxOCniP25"
      },
      "source": [
        "- หากเราพยายามเติมคีย์ใหม่ด้วยคำสั่ง indexing แต่ปรากฏว่าคีย์ตัวนั้นมีอยู่แล้ว ค่าของคีย์นั้นจะถูกทับไปด้วยค่าใหม่"
      ]
    },
    {
      "cell_type": "code",
      "execution_count": null,
      "metadata": {
        "id": "6W6OYxwBiLDI"
      },
      "outputs": [
        {
          "name": "stdout",
          "output_type": "stream",
          "text": [
            "{'John': 35.5, 'Mary': 89.0, 'Cindy': 83.5, 'Sean': 65.0, 'Barry': 86.0, 'Mark': 79.5, 'Eugene': 87.0, 'Bob': 49.5}\n"
          ]
        }
      ],
      "source": [
        "student_dict = {\n",
        "    'John': 35.5, 'Mary': 73.0, 'Cindy': 83.5, 'Sean': 65.0,\n",
        "    'Barry': 81.0, 'Mark': 79.5, 'Eugene': 87.0, 'Bob': 49.5\n",
        "}\n",
        "\n",
        "student_dict['Mary'] = 89.0\n",
        "\n",
        "student_dict['Barry'] = student_dict['Barry'] + 5\n",
        "\n",
        "print(student_dict)"
      ]
    },
    {
      "cell_type": "markdown",
      "metadata": {
        "id": "6fxnt_BdcZe0"
      },
      "source": [
        "### แบบฝึกหัด 12.4"
      ]
    },
    {
      "cell_type": "markdown",
      "metadata": {
        "id": "04Xd1l_HccjR"
      },
      "source": [
        "จงเขียนโปรแกรมเพื่อเก็บคะแนนสอบของนักเรียนลงในดิกชันนารี `student_dict` โดยโปรแกรมจะถามหาชื่อของนักเรียน\n",
        "\n",
        "1. หากชื่อนั้นมีอยู่ใน `student_dict` อยู่แล้ว ก็ให้แสดงคะแนนที่เคยกรอกไว้แล้วออกมา\n",
        "  \n",
        "2. ไม่เช่นนั้นก็ให้คอมพิวเตอร์ถามคะแนนจากผู้ใช้เป็นจำนวนจริง (แปลงด้วยคำสั่ง `float`) แล้วเก็บลงในดิกชันนารีดังกล่าว\n",
        "\n",
        "โปรแกรมจะถามหาชื่อนักเรียนไปเรื่อยๆ จนกว่าผู้ใช้จะกรอกสตริงว่างลงในชื่อของนักเรียน จนจะหยุดการทำงานของโปรแกรม\n",
        "\n",
        "สุดท้ายโปรแกรมจะแสดงดิกชันนารี `student_dict` ออกทางหน้าจอ"
      ]
    },
    {
      "cell_type": "code",
      "execution_count": null,
      "metadata": {
        "id": "ZJaToLykdEjP"
      },
      "outputs": [
        {
          "name": "stdout",
          "output_type": "stream",
          "text": [
            "Score = 79.5\n",
            "Score = 73.0\n",
            "Score = 49.5\n",
            "Score = 49.5\n",
            "Score = 87.0\n",
            "{'John': 35.5, 'Mary': 73.0, 'Cindy': 83.5, 'Sean': 65.0, 'Barry': 81.0, 'Mark': 79.5, 'Eugene': 87.0, 'Bob': 49.5, 'Man': 90.0}\n"
          ]
        }
      ],
      "source": [
        "# ดิกชันนารีเก็บคะแนนสอบของนักเรียน\n",
        "student_dict = {\n",
        "    'John': 35.5, 'Mary': 73.0, 'Cindy': 83.5, 'Sean': 65.0,\n",
        "    'Barry': 81.0, 'Mark': 79.5, 'Eugene': 87.0, 'Bob': 49.5\n",
        "}\n",
        "\n",
        "\n",
        "# วนลูปตลอดไป\n",
        "while True:\n",
        "    \n",
        "    # รับชื่อนักเรียนจากผู้ใช้\n",
        "    name = input('Enter student name: ')\n",
        "    \n",
        "    # ถ้าชื่อเป็นสตริงว่าง ให้หยุดการทำงานด้วยคำสั่ง break\n",
        "    if name == '':\n",
        "        break       # แก้ไขโค้ดที่นี่\n",
        "       \n",
        "    # ถ้าหากชื่อของนักเรียนมีอยู่ใน student_dict อยู่แล้ว\n",
        "    if name in student_dict:\n",
        "        # ให้แสดงคะแนนของนักเรียนคนนั้นออกทางหน้าจอ\n",
        "        print('Score =', student_dict[name] )       # แก้ไขโค้ดที่นี่\n",
        "        \n",
        "    # ไม่เช่นนั้น\n",
        "    else:\n",
        "        # รับค่าคะแนนจากผู้ใช้\n",
        "        score = float(input('Enter score: '))\n",
        "        # บันทึกคะแนนของนักเรียน โดยใช้ name เป็นคีย์ในการบันทึกลงในดิกชันนารี\n",
        "        student_dict[name] = score       # แก้ไขโค้ดที่นี่\n",
        "        \n",
        "    # print()\n",
        "        \n",
        "print(student_dict)"
      ]
    },
    {
      "cell_type": "markdown",
      "metadata": {
        "id": "WlORbIobVOer"
      },
      "source": [
        "### การลบคีย์ในดิกชันนารี"
      ]
    },
    {
      "cell_type": "markdown",
      "metadata": {
        "id": "YjGZS1HRjbGx"
      },
      "source": [
        "- เราสามารถลบคีย์ออกจากดิกชันนารีด้วยคำสั่ง `del` ครับ"
      ]
    },
    {
      "cell_type": "code",
      "execution_count": null,
      "metadata": {
        "id": "rKXXEAUeiqMI"
      },
      "outputs": [
        {
          "name": "stdout",
          "output_type": "stream",
          "text": [
            "{'John': 35.5, 'Mary': 73.0, 'Cindy': 83.5, 'Sean': 65.0, 'Mark': 79.5, 'Eugene': 87.0, 'Bob': 49.5}\n"
          ]
        }
      ],
      "source": [
        "student_dict = {\n",
        "    'John': 35.5, 'Mary': 73.0, 'Cindy': 83.5, 'Sean': 65.0,\n",
        "    'Barry': 81.0, 'Mark': 79.5, 'Eugene': 87.0, 'Bob': 49.5\n",
        "}\n",
        "\n",
        "del student_dict['Barry']\n",
        "print(student_dict)"
      ]
    },
    {
      "cell_type": "markdown",
      "metadata": {
        "id": "5JeToxdQQn0g"
      },
      "source": [
        "### การวนลูปกับดิกชันนารี"
      ]
    },
    {
      "cell_type": "markdown",
      "metadata": {
        "id": "9VATWD_lQ40N"
      },
      "source": [
        "- เราสามารถวนลูปบนดิกชันนารีได้ 2 วิธี\n",
        "\n",
        "- <u>**วิธีที่ 1:**</u> ใช้ลูปฟอร์ ซึ่งจะวนลูปทุกๆ คีย์ในดิกชันนารีนั้น\n",
        "```python\n",
        "    for <คีย์> in <ดิกชันนารี> :\n",
        "        <กระบวนการ>\n",
        "```"
      ]
    },
    {
      "cell_type": "code",
      "execution_count": null,
      "metadata": {
        "id": "8BZeIi8DjhrM"
      },
      "outputs": [
        {
          "name": "stdout",
          "output_type": "stream",
          "text": [
            "John : 35.5\n",
            "Mary : 73.0\n",
            "Cindy : 83.5\n",
            "Sean : 65.0\n",
            "Barry : 81.0\n",
            "Mark : 79.5\n",
            "Eugene : 87.0\n",
            "Bob : 49.5\n"
          ]
        }
      ],
      "source": [
        "student_dict = {\n",
        "    'John': 35.5, 'Mary': 73.0, 'Cindy': 83.5, 'Sean': 65.0,\n",
        "    'Barry': 81.0, 'Mark': 79.5, 'Eugene': 87.0, 'Bob': 49.5\n",
        "}\n",
        "\n",
        "for name in student_dict:\n",
        "    print(name, ':', student_dict[name])"
      ]
    },
    {
      "cell_type": "markdown",
      "metadata": {
        "id": "WTmEiQBPlrE8"
      },
      "source": [
        "- ในวิธีที่ 1 เรายังสามารถเรียงลำดับค่าคีย์ของดิกชันนารีด้วยคำสั่ง `sorted` ได้อีกด้วยครับ"
      ]
    },
    {
      "cell_type": "code",
      "execution_count": null,
      "metadata": {
        "id": "qcXTI9zOlwE-"
      },
      "outputs": [
        {
          "name": "stdout",
          "output_type": "stream",
          "text": [
            "Barry : 81.0\n",
            "Bob : 49.5\n",
            "Cindy : 83.5\n",
            "Eugene : 87.0\n",
            "John : 35.5\n",
            "Mark : 79.5\n",
            "Mary : 73.0\n",
            "Sean : 65.0\n"
          ]
        }
      ],
      "source": [
        "student_dict = {\n",
        "    'John': 35.5, 'Mary': 73.0, 'Cindy': 83.5, 'Sean': 65.0,\n",
        "    'Barry': 81.0, 'Mark': 79.5, 'Eugene': 87.0, 'Bob': 49.5\n",
        "}\n",
        "\n",
        "for name in sorted(student_dict):\n",
        "    print(name, ':', student_dict[name])"
      ]
    },
    {
      "cell_type": "markdown",
      "metadata": {
        "id": "xzAASeOJTAbp"
      },
      "source": [
        "- <u>**วิธีที่ 2:**</u> ใช้ลูปฟอร์คู่กับคำสั่ง `ดิกชันนารี.items()` ซึ่งวิธีหลังนี้จะประหยัดเวลากว่า ถ้าหากเราอยากใช้ทั้งคีย์และค่าในคีย์ในกระบวนการนั้นครับ\n",
        "```python\n",
        "    for <คีย์>, <ค่าในคีย์> in <ดิกชันนารี>.items():\n",
        "        <กระบวนการ>\n",
        "```"
      ]
    },
    {
      "cell_type": "code",
      "execution_count": null,
      "metadata": {
        "id": "z3AI0p1nRnTP"
      },
      "outputs": [
        {
          "name": "stdout",
          "output_type": "stream",
          "text": [
            "John : 35.5\n",
            "Mary : 73.0\n",
            "Cindy : 83.5\n",
            "Sean : 65.0\n",
            "Barry : 81.0\n",
            "Mark : 79.5\n",
            "Eugene : 87.0\n",
            "Bob : 49.5\n"
          ]
        }
      ],
      "source": [
        "student_dict = {\n",
        "    'John': 35.5, 'Mary': 73.0, 'Cindy': 83.5, 'Sean': 65.0,\n",
        "    'Barry': 81.0, 'Mark': 79.5, 'Eugene': 87.0, 'Bob': 49.5\n",
        "}\n",
        "\n",
        "for name, score in student_dict.items():\n",
        "    print(name, ':', score)"
      ]
    },
    {
      "cell_type": "markdown",
      "metadata": {
        "id": "SDkLcPs0jOkF"
      },
      "source": [
        "- <u>**คำเตือน**</u>: ในขณะที่ทำลูปฟอร์ ห้ามเพิ่มหรือลบคีย์ในดิกชันนารีโดยเด็ดขาด เพราะลูปฟอร์จะบังคับให้ดิกชันนารีต้องมีขนาดคงที่เสมอ\n",
        "\n",
        "- เช่น ถ้ารันโปรแกรมด้านล่างนี้ เครื่องจะฟ้องว่าขนาดของดิกชันนารีมีการเปลี่ยนแปลงในลูปฟอร์นั่นเอง"
      ]
    },
    {
      "cell_type": "code",
      "execution_count": null,
      "metadata": {
        "id": "U5TNjuMKjvZT"
      },
      "outputs": [
        {
          "ename": "RuntimeError",
          "evalue": "dictionary changed size during iteration",
          "output_type": "error",
          "traceback": [
            "\u001b[0;31m---------------------------------------------------------------------------\u001b[0m",
            "\u001b[0;31mRuntimeError\u001b[0m                              Traceback (most recent call last)",
            "\u001b[0;32m/tmp/ipykernel_533/4054559271.py\u001b[0m in \u001b[0;36m<module>\u001b[0;34m\u001b[0m\n\u001b[1;32m      4\u001b[0m }\n\u001b[1;32m      5\u001b[0m \u001b[0;34m\u001b[0m\u001b[0m\n\u001b[0;32m----> 6\u001b[0;31m \u001b[0;32mfor\u001b[0m \u001b[0mname\u001b[0m \u001b[0;32min\u001b[0m \u001b[0mstudent_dict\u001b[0m\u001b[0;34m:\u001b[0m\u001b[0;34m\u001b[0m\u001b[0;34m\u001b[0m\u001b[0m\n\u001b[0m\u001b[1;32m      7\u001b[0m     \u001b[0;32mdel\u001b[0m \u001b[0mstudent_dict\u001b[0m\u001b[0;34m[\u001b[0m\u001b[0mname\u001b[0m\u001b[0;34m]\u001b[0m\u001b[0;34m\u001b[0m\u001b[0;34m\u001b[0m\u001b[0m\n",
            "\u001b[0;31mRuntimeError\u001b[0m: dictionary changed size during iteration"
          ]
        }
      ],
      "source": [
        "student_dict = {\n",
        "    'John': 35.5, 'Mary': 73.0, 'Cindy': 83.5, 'Sean': 65.0,\n",
        "    'Barry': 81.0, 'Mark': 79.5, 'Eugene': 87.0, 'Bob': 49.5\n",
        "}\n",
        "\n",
        "for name in student_dict:\n",
        "    del student_dict[name]"
      ]
    },
    {
      "cell_type": "markdown",
      "metadata": {
        "id": "yX05GNxuhyLp"
      },
      "source": [
        "### แบบฝึกหัด 12.5"
      ]
    },
    {
      "cell_type": "markdown",
      "metadata": {
        "id": "NA6nuVedh1sv"
      },
      "source": [
        "จงเขียนโปรแกรมเพื่อแจ้งว่า นักเรียนคนใดในดิกชันนารี `student_dict` อยู่ในภาวะน่าเป็นห่วง (probation) โดยจะมีคะแนนน้อยกว่า 50 คะแนน และให้โปรแกรมเรียงลำดับชื่อตามตัวอักษรด้วย"
      ]
    },
    {
      "cell_type": "code",
      "execution_count": null,
      "metadata": {
        "id": "05Hnu-sYTZFi"
      },
      "outputs": [
        {
          "name": "stdout",
          "output_type": "stream",
          "text": [
            "Bob is on probation.\n",
            "John is on probation.\n"
          ]
        }
      ],
      "source": [
        "# ดิกชันนารีเก็บคะแนนสอบของนักเรียน\n",
        "student_dict = {\n",
        "    'John': 35.5, 'Mary': 73.0, 'Cindy': 83.5, 'Sean': 65.0,\n",
        "    'Barry': 81.0, 'Mark': 79.5, 'Eugene': 87.0, 'Bob': 49.5\n",
        "}\n",
        "\n",
        "# ใช้ลูปฟอร์ไล่คีย์และค่าในคีย์ โดยเรียงลำดับชื่อตามตัวอักษร\n",
        "for name in sorted(student_dict):\n",
        "    # ถ้าหากคะแนนต่ำกว่า 50 คะแนน แสดงว่าอยู่ในภาวะน่าเป็นห่วง\n",
        "    if student_dict[name] < 50:\n",
        "        print( name , 'is on probation.')"
      ]
    },
    {
      "cell_type": "markdown",
      "metadata": {
        "id": "SGv8NvFxryH6"
      },
      "source": [
        "### แบบฝึกหัด 12.6"
      ]
    },
    {
      "cell_type": "markdown",
      "metadata": {
        "id": "vTsyTJpyr0Z6"
      },
      "source": [
        "จงเขียนโปรแกรมให้รับชื่อของนักเรียน หากชื่อของนักเรียนปรากฏอยู่ในดิกชันนารี `student_dict` ให้นับจำนวนมาว่า มีนักเรียนกี่คนที่มีคะแนนน้อยกว่านักเรียนคนนี้ แต่ถ้าหากไม่มี ให้ตอบว่ามี 0 คน"
      ]
    },
    {
      "cell_type": "code",
      "execution_count": null,
      "metadata": {
        "id": "d5im5Cgqh-VY"
      },
      "outputs": [
        {
          "name": "stdout",
          "output_type": "stream",
          "text": [
            "Number of students with lower score = 3\n"
          ]
        }
      ],
      "source": [
        "# ดิกชันนารีเก็บคะแนนสอบของนักเรียน\n",
        "student_dict = {\n",
        "    'John': 35.5, 'Mary': 73.0, 'Cindy': 83.5, 'Sean': 65.0,\n",
        "    'Barry': 81.0, 'Mark': 79.5, 'Eugene': 87.0, 'Bob': 49.5\n",
        "}\n",
        "\n",
        "# ชื่อนักเรียน\n",
        "name = input('Enter student name: ')\n",
        "\n",
        "# ตัวนับจำนวนนักเรียนที่มีคะแนนน้อยกว่า\n",
        "count = 0\n",
        "\n",
        "# หากมีชื่อนักเรียนคนนี้ในดิกชันนารี student_dict\n",
        "if name in student_dict:\n",
        "    # ให้วนลูปฟอร์นักเรียนที่มีใน student_dict\n",
        "    for index in student_dict:              # แก้ไขโค้ดที่นี่\n",
        "        # ถ้าหากคะแนนต่ำกว่าคะแนนของนักเรียนที่ผู้ใช้ระบุ\n",
        "        if student_dict[index] < student_dict[name]:           # แก้ไขโค้ดที่นี่\n",
        "            count = count + 1\n",
        "            \n",
        "print('Number of students with lower score =', count)"
      ]
    },
    {
      "cell_type": "markdown",
      "metadata": {
        "id": "neBM4xCStrbL"
      },
      "source": [
        "-----"
      ]
    },
    {
      "cell_type": "markdown",
      "metadata": {
        "id": "PtaIybjmtuE8"
      },
      "source": [
        "## กิจกรรม 13: การจัดฟอร์แมตของสตริง"
      ]
    },
    {
      "cell_type": "markdown",
      "metadata": {
        "id": "sxJiBP4Y3iKO"
      },
      "source": [
        "- ที่จริงแล้วเราสามารถจัดรูปแบบของสตริงก่อนที่จะแสดงผลได้ครับ\n",
        "\n",
        "- วิธีการคือ เราจะใช้สัญลักษณ์ `f` นำหน้าสตริงที่เราต้องการจะให้จัดรูปแบบ ซึ่งสัญลักษณ์ `f` ย่อมาจากคำว่า format (รูปแบบ) นั่นเอง\n",
        "\n",
        "- ข้อดีของการใช้สัญลักษณ์ `f` นำหน้าสตริงก็คือ เราสามารถแทรกค่าตัวแปรลงไปตำแหน่งใดของสตริงก็ได้ เพียงแค่ครอบตัวแปรด้วยปีกกา `{ }` เท่านั้น นับว่าสะดวกมากครับ"
      ]
    },
    {
      "cell_type": "code",
      "execution_count": null,
      "metadata": {
        "id": "1kkkFJdMsjr4"
      },
      "outputs": [
        {
          "name": "stdout",
          "output_type": "stream",
          "text": [
            "My name is Prachya and I am 37 years old. I am still a high-school student and my phone number is 533-7855.\n"
          ]
        }
      ],
      "source": [
        "name = 'Prachya'\n",
        "telno = '533-7855'\n",
        "age = 37\n",
        "degree = 'high-school'\n",
        "\n",
        "print(f'My name is {name} and I am {age} years old. I am still a {degree} student and my phone number is {telno}.')"
      ]
    },
    {
      "cell_type": "markdown",
      "metadata": {
        "id": "XoYOrqACAEDY"
      },
      "source": [
        "- นอกจากนี้เรายังสามารถกำหนดวิธีการแสดงผลตัวแปรในเครื่องหมายปีกกาแต่ละตำแหน่งได้อีกด้วย"
      ]
    },
    {
      "cell_type": "markdown",
      "metadata": {
        "id": "cbmMj9yHAFd-"
      },
      "source": [
        "### การกำหนดความกว้างของสตริง"
      ]
    },
    {
      "cell_type": "markdown",
      "metadata": {
        "id": "Kj7aung258-l"
      },
      "source": [
        "- ในกรณีของสตริง เราสามารถระบุความกว้างสูงสุดของสตริงได้ด้วยคำสั่ง `{ตัวแปรสตริง:ความกว้าง}` โดยสตริงจะถูกแสดงผลแบบชิดซ้าย\n",
        "\n",
        "- การกำหนดความกว้างของสตริงได้ ทำให้เราสามารถพิมพ์ตารางออกมาได้สะดวกมากครับ โดยจะจัดชิดซ้ายเสมอครับ"
      ]
    },
    {
      "cell_type": "code",
      "execution_count": null,
      "metadata": {
        "id": "AOw64INU7MXp"
      },
      "outputs": [
        {
          "name": "stdout",
          "output_type": "stream",
          "text": [
            "------------------------------------------------------------\n",
            "| Prachya              | 533-7855        | high-school     |\n",
            "| Methas               | 536-2313        | university      |\n",
            "| Pahol                | 524-0935        | university      |\n",
            "------------------------------------------------------------\n"
          ]
        }
      ],
      "source": [
        "user_database = [\n",
        "    ('Prachya', '533-7855', 37, 'high-school'),\n",
        "    ('Methas', '536-2313', 36, 'university'),\n",
        "    ('Pahol', '524-0935', 38, 'university')\n",
        "]\n",
        "\n",
        "print(60 * '-')\n",
        "for name, telno, age, degree in user_database:\n",
        "    print(f'| {name:20} | {telno:15} | {degree:15} |')\n",
        "print(60 * '-')"
      ]
    },
    {
      "cell_type": "markdown",
      "metadata": {
        "id": "kzENY0X8ALGG"
      },
      "source": [
        "### การจัดสตริงไปทางซ้าย กลาง หรือขวา"
      ]
    },
    {
      "cell_type": "markdown",
      "metadata": {
        "id": "ly16vc6Q9vyZ"
      },
      "source": [
        "- เราสามารถกำหนดให้จัดสตริงไปทางซ้าย กลาง หรือขวาได้ ด้วยออพชั่น `<`, `^`, และ `>` ที่ด้านหน้าความกว้างของสตริงครับ"
      ]
    },
    {
      "cell_type": "code",
      "execution_count": null,
      "metadata": {
        "id": "qIeM-prt7Ttq"
      },
      "outputs": [
        {
          "name": "stdout",
          "output_type": "stream",
          "text": [
            "------------------------------------------------------------\n",
            "| Prachya         |    533-7855     |     high-school |\n",
            "| Methas          |    536-2313     |      university |\n",
            "| Pahol           |    524-0935     |      university |\n",
            "------------------------------------------------------------\n"
          ]
        }
      ],
      "source": [
        "print(60 * '-')\n",
        "for name, telno, age, degree in user_database:\n",
        "    print(f'| {name:<15} | {telno:^15} | {degree:>15} |')\n",
        "print(60 * '-')"
      ]
    },
    {
      "cell_type": "markdown",
      "metadata": {
        "id": "qPyTVt_nOcxw"
      },
      "source": [
        "### แบบฝึกหัด 13.1"
      ]
    },
    {
      "cell_type": "markdown",
      "metadata": {
        "id": "WcEQHJiyOfL2"
      },
      "source": [
        "จงแสดงตารางการจัดคู่เปรียบเทียบคะแนนของนักเรียนแต่ละคน โดยกำหนดฟอร์แมตไว้ดังนี้\n",
        "\n",
        "1. นักเรียนคนที่ 1 จะมีความกว้าง 10 ตัวอักษร ชิดขวา\n",
        "2. นักเรียนคนที่ 2 จะมีความกว้าง 10 ตัวอักษรเหมือนกัน แต่ชิดซ้าย\n",
        "3. นักเรียนที่เป็นผู้ชนะ จะมีความกว้าง 10 ตัวอักษรเหมือนกัน แต่ว่าจัดกลาง\n",
        "4. ในกรณีที่คะแนนเสมอกัน ให้พิมพ์ว่า `--DUE--` แบบจัดกลาง ลงในช่องของชื่อผู้ชนะแทน"
      ]
    },
    {
      "cell_type": "code",
      "execution_count": null,
      "metadata": {
        "id": "Sr4hyA3hO4C_"
      },
      "outputs": [
        {
          "name": "stdout",
          "output_type": "stream",
          "text": [
            "------------------------------------------\n",
            "|       Score Battles       |  Winners   |\n",
            "------------------------------------------\n",
            "|       John vs. Mary       |    Mary    |\n",
            "|       John vs. Cindy      |   Cindy    |\n",
            "|       John vs. Barry      |   Barry    |\n",
            "|       John vs. Mark       |    Mark    |\n",
            "|       John vs. Eugene     |   Eugene   |\n",
            "|       John vs. Rupert     |   Rupert   |\n",
            "------------------------------------------\n",
            "|       Mary vs. John       |    Mary    |\n",
            "|       Mary vs. Cindy      |   Cindy    |\n",
            "|       Mary vs. Barry      |   Barry    |\n",
            "|       Mary vs. Mark       |    Mark    |\n",
            "|       Mary vs. Eugene     |   Eugene   |\n",
            "|       Mary vs. Rupert     |   Rupert   |\n",
            "------------------------------------------\n",
            "|      Cindy vs. John       |   Cindy    |\n",
            "|      Cindy vs. Mary       |   Cindy    |\n",
            "|      Cindy vs. Barry      |   Cindy    |\n",
            "|      Cindy vs. Mark       |   Cindy    |\n",
            "|      Cindy vs. Eugene     |   Eugene   |\n",
            "|      Cindy vs. Rupert     |   Cindy    |\n",
            "------------------------------------------\n",
            "|      Barry vs. John       |   Barry    |\n",
            "|      Barry vs. Mary       |   Barry    |\n",
            "|      Barry vs. Cindy      |   Cindy    |\n",
            "|      Barry vs. Mark       |   Barry    |\n",
            "|      Barry vs. Eugene     |   Eugene   |\n",
            "|      Barry vs. Rupert     |  --DUE--   |\n",
            "------------------------------------------\n",
            "|       Mark vs. John       |    Mark    |\n",
            "|       Mark vs. Mary       |    Mark    |\n",
            "|       Mark vs. Cindy      |   Cindy    |\n",
            "|       Mark vs. Barry      |   Barry    |\n",
            "|       Mark vs. Eugene     |   Eugene   |\n",
            "|       Mark vs. Rupert     |   Rupert   |\n",
            "------------------------------------------\n",
            "|     Eugene vs. John       |   Eugene   |\n",
            "|     Eugene vs. Mary       |   Eugene   |\n",
            "|     Eugene vs. Cindy      |   Eugene   |\n",
            "|     Eugene vs. Barry      |   Eugene   |\n",
            "|     Eugene vs. Mark       |   Eugene   |\n",
            "|     Eugene vs. Rupert     |   Eugene   |\n",
            "------------------------------------------\n",
            "|     Rupert vs. John       |   Rupert   |\n",
            "|     Rupert vs. Mary       |   Rupert   |\n",
            "|     Rupert vs. Cindy      |   Cindy    |\n",
            "|     Rupert vs. Barry      |  --DUE--   |\n",
            "|     Rupert vs. Mark       |   Rupert   |\n",
            "|     Rupert vs. Eugene     |   Eugene   |\n",
            "------------------------------------------\n"
          ]
        }
      ],
      "source": [
        "student_scores = [\n",
        "    ('John', 35.5), ('Mary', 73.0), ('Cindy', 83.5),\n",
        "    ('Barry', 81.0), ('Mark', 79.5), ('Eugene', 87.0), ('Rupert', 81.0)\n",
        "]\n",
        "\n",
        "# พิมพ์หัวตาราง\n",
        "print(42 * '-')\n",
        "print(f'| {\"Score Battles\":^25} | {\"Winners\":^10} |')\n",
        "print(42 * '-')\n",
        "\n",
        "for student1, score1 in student_scores:\n",
        "    for student2, score2 in student_scores:\n",
        "        if student1 != student2:\n",
        "            \n",
        "            # พิมพ์ชื่อของนักเรียนคนที่ 1 (student1) และนักเรียนคนที่ 2 (student2)\n",
        "            print(f'| {student1:>10} vs. {student2:<10} ', end='')\n",
        "            \n",
        "            # หาผู้ชนะคะแนน แล้วพิมพ์ชื่อผู้ชนะออกมา\n",
        "            if score1 > score2:\n",
        "                print(f'| {student1:^10} |')\n",
        "            elif score1 < score2:\n",
        "                print(f'| {student2:^10} |')\n",
        "            # กรณีที่คะแนนเสมอกัน\n",
        "            else:\n",
        "                print(f'| {\"--DUE--\":^10} |')\n",
        "                \n",
        "    print(42 * '-')"
      ]
    },
    {
      "cell_type": "markdown",
      "metadata": {
        "id": "-yibAnoWDKsT"
      },
      "source": [
        "### การเข้าถึงดิกชันนารีและลิสต์"
      ]
    },
    {
      "cell_type": "markdown",
      "metadata": {
        "id": "SvDZ2O81_Rt7"
      },
      "source": [
        "- หากกรณีที่ค่าที่เราจะแสดงเป็นค่าที่ต้องเข้าถึงด้วยคีย์หรือ index เราก็สามารถใช้เครื่องหมาย indexing `[ ]` ได้ตามปกติเลยครับ\n",
        "\n",
        "- อย่างไรก็ตามโปรดสังเกตว่า หากคีย์ที่ใช้จำเป็นต้องมีเครื่องหมายคำพูดเดี่ยว (single quote) ให้เราเปลี่ยนเครื่องหมายนั้นเป็นเครื่องหมายคำพูดคู่ (double quote) `\" \"` แทนนะครับ ไม่งั้นเดี๋ยวจะซ้ำกับเครื่องหมายคำพูดเดี่ยวที่ครอบอยู่ด้านนอก คอมพิวเตอร์จะงงเอาได้ครับ"
      ]
    },
    {
      "cell_type": "code",
      "execution_count": null,
      "metadata": {
        "id": "AyqJzMyn9_ur"
      },
      "outputs": [
        {
          "name": "stdout",
          "output_type": "stream",
          "text": [
            "------------------------------------------------------------\n",
            "| Prachya              |    533-7855     |     high-school |\n",
            "| Methas               |    536-2313     |      university |\n",
            "| Pahol                |    524-0935     |      university |\n",
            "------------------------------------------------------------\n"
          ]
        }
      ],
      "source": [
        "user_database = [\n",
        "    {'name': 'Prachya', 'telno': '533-7855', 'age': 37, 'degree': 'high-school'},\n",
        "    {'name': 'Methas', 'telno': '536-2313', 'age': 36, 'degree': 'university'},\n",
        "    {'name': 'Pahol', 'telno': '524-0935', 'age': 38, 'degree': 'university'}\n",
        "]\n",
        "\n",
        "print(60 * '-')\n",
        "for user in user_database:\n",
        "    print(f'| {user[\"name\"]:<20} | {user[\"telno\"]:^15} | {user[\"degree\"]:>15} |')\n",
        "print(60 * '-')"
      ]
    },
    {
      "cell_type": "markdown",
      "metadata": {
        "id": "-3oAJwhjJ5ME"
      },
      "source": [
        "### การจัดฟอร์แมตให้ตัวเลข"
      ]
    },
    {
      "cell_type": "markdown",
      "metadata": {
        "id": "o596pD4JKAds"
      },
      "source": [
        "- ในการจัดฟอร์แมตให้ตัวเลข เราสามารถระบุชนิดของตัวเลขได้ที่หลังความกว้างของสตริง\n",
        "  - ตัวเลขจำนวนเต็มจะใช้ออพชั่น `d` ตามหลังตัวเลข\n",
        "  - ตัวเลขจำนวนจริงจะใช้ออพชั่น `f` ตามหลังตัวเลข\n",
        "  \n",
        "- เช่น เราสามารถจัดฟอร์แมตให้ตัวเลขใน `user['age']` มีความกว้าง 3 ตัวอักษรและชิดขวาได้ดังนี้ครับ"
      ]
    },
    {
      "cell_type": "code",
      "execution_count": null,
      "metadata": {
        "id": "WdUMMJj1-9GO"
      },
      "outputs": [
        {
          "name": "stdout",
          "output_type": "stream",
          "text": [
            "------------------------------------------------------------------\n",
            "| Prachya              |    533-7855     |  37 |     high-school |\n",
            "| Methas               |    536-2313     |  36 |      university |\n",
            "| Pahol                |    524-0935     |  38 |      university |\n",
            "------------------------------------------------------------------\n"
          ]
        }
      ],
      "source": [
        "user_database = [\n",
        "    {'name': 'Prachya', 'telno': '533-7855', 'age': 37, 'degree': 'high-school'},\n",
        "    {'name': 'Methas', 'telno': '536-2313', 'age': 36, 'degree': 'university'},\n",
        "    {'name': 'Pahol', 'telno': '524-0935', 'age': 38, 'degree': 'university'}\n",
        "]\n",
        "\n",
        "print(66 * '-')\n",
        "for user in user_database:\n",
        "    print(f'| {user[\"name\"]:<20} | {user[\"telno\"]:^15} | {user[\"age\"]:>3d} | {user[\"degree\"]:>15} |')\n",
        "print(66 * '-')"
      ]
    },
    {
      "cell_type": "markdown",
      "metadata": {
        "id": "cfGopSzNLsmU"
      },
      "source": [
        "- ในกรณีที่เป็นตัวเลขจำนวนจริง เราสามารถระบุได้ทั้งความกว้างและจำนวนหลักทศนิยม โดยใช้รูปแบบเป็น `ความกว้าง.จำนวนหลักทศนิยมf`\n",
        "\n",
        "- <u>**ข้อควรระวัง:**</u> ความกว้างตรงนี้เป็นความกว้างทั้งหมด ซึ่งรวมเอาจุดทศนิยมและหลักทศนิยมเข้าไปแล้ว ท่านจึงควรระมัดระวังตอนกำหนดความกว้างทั้งหมดให้ดีนะครับ\n",
        "\n",
        "- เช่น เราสามารถแสดงคะแนนของนักเรียน `score` ให้มีความกว้าง 8 ตัวอักษร และมีทศนิยม 2 ตำแหน่งได้โดยใช้ฟอร์แมต `{score:8.2f}` "
      ]
    },
    {
      "cell_type": "code",
      "execution_count": null,
      "metadata": {
        "id": "Gj89tB0UKhcT"
      },
      "outputs": [
        {
          "name": "stdout",
          "output_type": "stream",
          "text": [
            "-----------------------------------\n",
            "| John                 |    35.50 |\n",
            "| Mary                 |    73.00 |\n",
            "| Cindy                |    83.50 |\n",
            "| Sean                 |    65.00 |\n",
            "| Barry                |    81.00 |\n",
            "| Mark                 |    79.50 |\n",
            "| Eugene               |    87.00 |\n",
            "| Bob                  |    49.50 |\n",
            "-----------------------------------\n"
          ]
        }
      ],
      "source": [
        "student_dict = {\n",
        "    'John': 35.5, 'Mary': 73.0, 'Cindy': 83.5, 'Sean': 65.0,\n",
        "    'Barry': 81.0, 'Mark': 79.5, 'Eugene': 87.0, 'Bob': 49.5\n",
        "}\n",
        "\n",
        "print(35 * '-')\n",
        "for name, score in student_dict.items():\n",
        "    print(f'| {name:<20} | {score:>8.2f} |')\n",
        "print(35 * '-')"
      ]
    },
    {
      "cell_type": "markdown",
      "metadata": {
        "id": "nEmcxP3zTmCW"
      },
      "source": [
        "### แบบฝึกหัด 13.2"
      ]
    },
    {
      "cell_type": "markdown",
      "metadata": {
        "id": "IQwKzDxcTn7z"
      },
      "source": [
        "ก็อปปี้บางส่วนของโปรแกรมในแบบฝึกหัด 13.1 มาแก้ไข โดยเพิ่มอีก 1 คอลัมน์เข้าไปในตาราง\n",
        "\n",
        "- คอลัมน์ใหม่นี้คือผลต่างของคะแนน (score difference) มีความกว้าง 8 ตัวอักษร ทศนิยม 2 หลัก\n",
        "- หากผลต่างของคะแนนเป็น 0 ให้เว้นช่องนี้เป็นช่องว่างไว้"
      ]
    },
    {
      "cell_type": "code",
      "execution_count": null,
      "metadata": {
        "id": "t3Uzj7EsLQD-"
      },
      "outputs": [
        {
          "name": "stdout",
          "output_type": "stream",
          "text": [
            "-----------------------------------------------------\n",
            "|       Score Battles       |  Winners   |     Diff |\n",
            "-----------------------------------------------------\n",
            "|       John vs. Mary       |    Mary    |    37.50 |\n",
            "|       John vs. Cindy      |   Cindy    |    48.00 |\n",
            "|       John vs. Barry      |   Barry    |    45.50 |\n",
            "|       John vs. Mark       |    Mark    |    44.00 |\n",
            "|       John vs. Eugene     |   Eugene   |    51.50 |\n",
            "|       John vs. Rupert     |   Rupert   |    45.50 |\n",
            "-----------------------------------------------------\n",
            "|       Mary vs. John       |    Mary    |    37.50 |\n",
            "|       Mary vs. Cindy      |   Cindy    |    10.50 |\n",
            "|       Mary vs. Barry      |   Barry    |     8.00 |\n",
            "|       Mary vs. Mark       |    Mark    |     6.50 |\n",
            "|       Mary vs. Eugene     |   Eugene   |    14.00 |\n",
            "|       Mary vs. Rupert     |   Rupert   |     8.00 |\n",
            "-----------------------------------------------------\n",
            "|      Cindy vs. John       |   Cindy    |    48.00 |\n",
            "|      Cindy vs. Mary       |   Cindy    |    10.50 |\n",
            "|      Cindy vs. Barry      |   Cindy    |     2.50 |\n",
            "|      Cindy vs. Mark       |   Cindy    |     4.00 |\n",
            "|      Cindy vs. Eugene     |   Eugene   |     3.50 |\n",
            "|      Cindy vs. Rupert     |   Cindy    |     2.50 |\n",
            "-----------------------------------------------------\n",
            "|      Barry vs. John       |   Barry    |    45.50 |\n",
            "|      Barry vs. Mary       |   Barry    |     8.00 |\n",
            "|      Barry vs. Cindy      |   Cindy    |     2.50 |\n",
            "|      Barry vs. Mark       |   Barry    |     1.50 |\n",
            "|      Barry vs. Eugene     |   Eugene   |     6.00 |\n",
            "|      Barry vs. Rupert     |  --DUE--   |          |\n",
            "-----------------------------------------------------\n",
            "|       Mark vs. John       |    Mark    |    44.00 |\n",
            "|       Mark vs. Mary       |    Mark    |     6.50 |\n",
            "|       Mark vs. Cindy      |   Cindy    |     4.00 |\n",
            "|       Mark vs. Barry      |   Barry    |     1.50 |\n",
            "|       Mark vs. Eugene     |   Eugene   |     7.50 |\n",
            "|       Mark vs. Rupert     |   Rupert   |     1.50 |\n",
            "-----------------------------------------------------\n",
            "|     Eugene vs. John       |   Eugene   |    51.50 |\n",
            "|     Eugene vs. Mary       |   Eugene   |    14.00 |\n",
            "|     Eugene vs. Cindy      |   Eugene   |     3.50 |\n",
            "|     Eugene vs. Barry      |   Eugene   |     6.00 |\n",
            "|     Eugene vs. Mark       |   Eugene   |     7.50 |\n",
            "|     Eugene vs. Rupert     |   Eugene   |     6.00 |\n",
            "-----------------------------------------------------\n",
            "|     Rupert vs. John       |   Rupert   |    45.50 |\n",
            "|     Rupert vs. Mary       |   Rupert   |     8.00 |\n",
            "|     Rupert vs. Cindy      |   Cindy    |     2.50 |\n",
            "|     Rupert vs. Barry      |  --DUE--   |          |\n",
            "|     Rupert vs. Mark       |   Rupert   |     1.50 |\n",
            "|     Rupert vs. Eugene     |   Eugene   |     6.00 |\n",
            "-----------------------------------------------------\n"
          ]
        }
      ],
      "source": [
        "student_scores = [\n",
        "    ('John', 35.5), ('Mary', 73.0), ('Cindy', 83.5),\n",
        "    ('Barry', 81.0), ('Mark', 79.5), ('Eugene', 87.0), ('Rupert', 81.0)\n",
        "]\n",
        "\n",
        "# พิมพ์หัวตาราง\n",
        "print(53 * '-')\n",
        "print(f'| {\"Score Battles\":^25} | {\"Winners\":^10} | {\"Diff\":>8} |')\n",
        "print(53 * '-')\n",
        "\n",
        "for student1, score1 in student_scores:\n",
        "    for student2, score2 in student_scores:\n",
        "        if student1 != student2:\n",
        "            \n",
        "            # พิมพ์ชื่อของนักเรียนคนที่ 1 (student1) และนักเรียนคนที่ 2 (student2)\n",
        "            print(f'| {student1:>10} vs. {student2:<10} ', end='')\n",
        "            \n",
        "            # หาผู้ชนะคะแนน แล้วพิมพ์ชื่อผู้ชนะออกมา\n",
        "            if score1 > score2:\n",
        "                score_diff = score1 - score2\n",
        "                print(f'| {student1:^10} ', end='')\n",
        "            elif score1 < score2:\n",
        "                score_diff = score2 - score1\n",
        "                print(f'| {student2:^10} ', end='')\n",
        "            # กรณีที่คะแนนเสมอกัน\n",
        "            else:\n",
        "                score_diff = 0\n",
        "                print(f'| {\"--DUE--\":^10} ', end='')\n",
        "                \n",
        "            # พิมพ์ผลต่างของคะแนน score_diff หรือไม่ก็เว้นว่างหากเป็น 0\n",
        "            if score_diff > 0.0:\n",
        "                print(f'| {score_diff:8.2f} |')\n",
        "            else:\n",
        "                print('|          |')\n",
        "                \n",
        "    print(53 * '-')"
      ]
    },
    {
      "cell_type": "markdown",
      "metadata": {
        "id": "ZYSrXYZrfAHO"
      },
      "source": [
        "-----"
      ]
    },
    {
      "cell_type": "markdown",
      "metadata": {
        "id": "Ug0QElV8fDPM"
      },
      "source": [
        "## กิจกรรม 14: การอ่านและเขียนไฟล์"
      ]
    },
    {
      "cell_type": "markdown",
      "metadata": {
        "id": "0JcfpZX0fKUn"
      },
      "source": [
        "### การเปิดไฟล์และปิดไฟล์"
      ]
    },
    {
      "cell_type": "markdown",
      "metadata": {
        "id": "BbNIXwNlfOrY"
      },
      "source": [
        "- เราสามารถเปิดไฟล์ได้โดยใช้คำสั่ง `open(ชื่อไฟล์, ข้ออนุญาต)` โดยเราจะต้องนำตัวแปร 1 ตัว (ซึ่งเรียกว่า file handler) มารับตัวแทนไฟล์นั้นเอาไว้ เราจะได้นำไฟล์ไปใช้งานต่อได้\n",
        "\n",
        "- ข้ออนุญาตในการใช้ไฟล์ที่ใช้กันทั่วไป มีอยู่ด้วยกัน 3 ประเภท\n",
        "  - ข้ออนุญาตประเภท `'r'` คืออ่านข้อมูลอย่างเดียวเท่านั้น\n",
        "  - ข้ออนุญาตประเภท `'w'` คือเขียนข้อมูลทับอย่างเดียวเท่านั้น\n",
        "  - ข้ออนุญาตประเภท `'a'` คือเขียนข้อมูลต่อท้ายอย่างเดียวเท่านั้น\n",
        "  \n",
        "- เมื่อใช้ไฟล์เสร็จแล้ว เราควรสั่งปิดไฟล์ได้ด้วยคำสั่ง `ไฟล์.close()` ครับ\n",
        "- <u>**ข้อควรระวัง:**</u> ถ้าไม่ปิดไฟล์หลังใช้งานเสร็จ ข้อมูลที่เราสั่งเขียนลงไปอาจจะหายไปหมดก็ได้"
      ]
    },
    {
      "cell_type": "code",
      "execution_count": null,
      "metadata": {
        "id": "QuuCWZFFg_D6"
      },
      "outputs": [],
      "source": [
        "fhdl = open('test_file_1.txt', 'w')         # fhdl ย่อมาจากคำว่า file handler\n",
        "fhdl.close()"
      ]
    },
    {
      "cell_type": "markdown",
      "metadata": {
        "id": "88lDt9CviKbC"
      },
      "source": [
        "### การเขียนข้อมูลลงไฟล์"
      ]
    },
    {
      "cell_type": "markdown",
      "metadata": {
        "id": "nluIpj0_iM-V"
      },
      "source": [
        "- เราสามารถเขียนข้อมูลลงไฟล์ได้ด้วยคำสั่ง `ไฟล์.write(สตริง)`\n",
        "- โปรดสังเกตว่า ข้อมูลที่เขียนลงไฟล์จะต้องอยู่ในรูปแบบของสตริงเสมอ\n",
        "- หากเราต้องการเขียนข้อมูลลงไฟล์ 1 บรรทัด เราต้องใส่เครื่องหมายขึ้นบรรทัดใหม่ `\\n` เองด้วย"
      ]
    },
    {
      "cell_type": "code",
      "execution_count": null,
      "metadata": {
        "id": "-oc8mJS2iyon"
      },
      "outputs": [],
      "source": [
        "fhdl = open('test_file_1.txt', 'w')\n",
        "\n",
        "for i in range(1, 11):\n",
        "    fhdl.write(f'{10 * i}\\n')\n",
        "\n",
        "fhdl.close()"
      ]
    },
    {
      "cell_type": "markdown",
      "metadata": {
        "id": "xJxT-VAwjInZ"
      },
      "source": [
        "### การอ่านข้อมูลทีละ 1 บรรทัดจากไฟล์"
      ]
    },
    {
      "cell_type": "markdown",
      "metadata": {
        "id": "clsaeCVSjMGm"
      },
      "source": [
        "- เราสามารถอ่านข้อมูลทีละ 1 บรรทัดจากไฟล์ได้ด้วยการวนลูปฟอร์ครับ\n",
        "```python\n",
        "    for <บรรทัด> in <ไฟล์> :\n",
        "        <กระบวนการ>\n",
        "```\n",
        "\n",
        "- จะสังเกตได้ว่า ทุกบรรทัดที่อ่านออกมาจากไฟล์ด้วยลูปฟอร์ จะมีเครื่องหมายขึ้นบรรทัด `\\n` ติดมาด้วยเสมอ"
      ]
    },
    {
      "cell_type": "code",
      "execution_count": null,
      "metadata": {
        "id": "xzGqlkDUjbpG"
      },
      "outputs": [
        {
          "name": "stdout",
          "output_type": "stream",
          "text": [
            "10\n",
            "\n",
            "20\n",
            "\n",
            "30\n",
            "\n",
            "40\n",
            "\n",
            "50\n",
            "\n",
            "60\n",
            "\n",
            "70\n",
            "\n",
            "80\n",
            "\n",
            "90\n",
            "\n",
            "100\n",
            "\n"
          ]
        }
      ],
      "source": [
        "fhdl = open('test_file_1.txt', 'r')\n",
        "\n",
        "for line in fhdl:\n",
        "    print(line)\n",
        "\n",
        "fhdl.close()"
      ]
    },
    {
      "cell_type": "markdown",
      "metadata": {
        "id": "asU0aXpvj9Z6"
      },
      "source": [
        "- ดังนั้นปกติแล้ว เราจะสั่ง `สตริง.strip()` แต่ละบรรทัดด้วย เพื่อกำจัดเครื่องหมายเว้นวรรคและขึ้นบรรทัดใหม่ที่ด้านซ้ายและขวาออกไปครับ\n",
        "\n",
        "- เช่น ถ้าเราต้องการจะอ่านตัวเลขในไฟล์ `test_file_1.txt` ออกมาแล้วหาผลรวม เราจะเขียนโปรแกรมได้ดังนี้"
      ]
    },
    {
      "cell_type": "code",
      "execution_count": null,
      "metadata": {
        "id": "mKHvlLc7kNSg"
      },
      "outputs": [
        {
          "name": "stdout",
          "output_type": "stream",
          "text": [
            "550\n"
          ]
        }
      ],
      "source": [
        "fhdl = open('test_file_1.txt', 'r')\n",
        "\n",
        "my_sum = 0\n",
        "\n",
        "for line in fhdl:\n",
        "    numstr = line.strip()       # กำจัดเว้นวรรคและขึ้นบรรทัดใหม่ซ้ายขวาทิ้งไป\n",
        "    my_sum = my_sum + int(numstr)\n",
        "\n",
        "fhdl.close()\n",
        "\n",
        "print(my_sum)"
      ]
    },
    {
      "cell_type": "markdown",
      "metadata": {
        "id": "6wO6qRRNliXR"
      },
      "source": [
        "### การอ่านไฟล์ทุกบรรทัดในคราวเดียว"
      ]
    },
    {
      "cell_type": "markdown",
      "metadata": {
        "id": "2Rol2-5OlmHs"
      },
      "source": [
        "- นอกจากนี้เรายังสามารถอ่านไฟล์ทุกบรรทัดได้ในคราวเดียวด้วยคำสั่ง `ไฟล์.readlines()`\n",
        "\n",
        "- จะสังเกตได้ว่า ทุกบรรทัดก็ยังคงติดเครื่องหมายขึ้นบรรทัดใหม่เอาไว้ โปรดระมัดระวังการใช้งานข้อมูลแต่ละบรรทัดด้วยนะครับ\n",
        "- ทั้งนี้ เราสามารถกำจัดเครื่องหมายเว้นวรรคและขึ้นบรรทัดใหม่ที่อยู่ด้านซ้ายและขวาในแต่ละบรรทัดได้ด้วยคำสั่ง `strip()` เช่นเคย"
      ]
    },
    {
      "cell_type": "code",
      "execution_count": null,
      "metadata": {
        "id": "t-gURIs4lvMs"
      },
      "outputs": [
        {
          "name": "stdout",
          "output_type": "stream",
          "text": [
            "['10\\n', '20\\n', '30\\n', '40\\n', '50\\n', '60\\n', '70\\n', '80\\n', '90\\n', '100\\n']\n",
            "['10', '20', '30', '40', '50', '60', '70', '80', '90', '100']\n"
          ]
        }
      ],
      "source": [
        "fhdl = open('test_file_1.txt', 'r')\n",
        "lines = fhdl.readlines()\n",
        "fhdl.close()\n",
        "print(lines)\n",
        "\n",
        "for i in range(len(lines)):\n",
        "    lines[i] = lines[i].strip()\n",
        "\n",
        "print(lines)"
      ]
    },
    {
      "cell_type": "markdown",
      "metadata": {
        "id": "r1wFjDSnmuB-"
      },
      "source": [
        "### แบบฝึกหัด 14.1"
      ]
    },
    {
      "cell_type": "markdown",
      "metadata": {
        "id": "Qs6lmHPJnBMr"
      },
      "source": [
        "จงอ่านข้อมูลจากไฟล์ `test_file_1.txt` แล้วเขียนข้อมูลลงไปในไฟล์ `test_file_2.txt` โดยจะต้องกลับลำดับการเขียนด้วย ดังนั้นในไฟล์ `test_file_2.txt` จะต้องมีข้อมูลที่สลับลำดับบรรทัดกับไฟล์ `test_file_1.txt` ที่เป็นอินพุต"
      ]
    },
    {
      "cell_type": "code",
      "execution_count": null,
      "metadata": {
        "id": "XWjOce33nqD2"
      },
      "outputs": [],
      "source": [
        "# เปิดไฟล์ test_file_1.txt แบบอ่านอย่างเดียว\n",
        "ifhdl = open('test_file_1.txt', 'r')\n",
        "\n",
        "# อ่านทุกบรรทัดของไฟล์ ifhdl ใส่ตัวแปร lines\n",
        "lines = ifhdl.readlines()\n",
        "\n",
        "# ปิดไฟล์ทันทีที่ใช้เสร็จ\n",
        "ifhdl.close()\n",
        "\n",
        "\n",
        "# กลับลำดับของสมาชิกในลิสต์ lines\n",
        "lines.reverse()\n",
        "\n",
        "\n",
        "# เปิดไฟล์ test_file_2.txt แบบเขียนทับอย่างเดียว\n",
        "ofhdl = open('test_file_2.txt', 'w')\n",
        "\n",
        "# วนลูปตามบรรทัด\n",
        "for i in range(len(lines)):\n",
        "    # เขียนบรรทัดดังกล่าวลงในไฟล์ ofhdl\n",
        "    ofhdl.write(lines[i])\n",
        "\n",
        "# ปิดไฟล์ทันทีที่ใช้เสร็จ\n",
        "ofhdl.close()"
      ]
    },
    {
      "cell_type": "markdown",
      "metadata": {
        "id": "yBj3MaQ9Wo8z"
      },
      "source": [
        "### การแตกสตริง (tokenization)"
      ]
    },
    {
      "cell_type": "markdown",
      "metadata": {
        "id": "giSb3dG4WwYC"
      },
      "source": [
        "- เราสามารถแบ่งสตริงออกเป็นลิสต์ของคำด้วยเครื่องหมายเว้นวรรคได้ด้วยคำสั่ง `สตริง.split()` ครับ"
      ]
    },
    {
      "cell_type": "code",
      "execution_count": null,
      "metadata": {
        "id": "evKb7I86UTmE"
      },
      "outputs": [
        {
          "name": "stdout",
          "output_type": "stream",
          "text": [
            "['hello', 'this', 'is', 'prachya', 'and', 'i', 'am', 'glad', 'to', 'be', 'here']\n"
          ]
        }
      ],
      "source": [
        "tokens = 'hello this is prachya and i am glad to be here'.split()\n",
        "print(tokens)"
      ]
    },
    {
      "cell_type": "markdown",
      "metadata": {
        "id": "F9zBFTwWXST3"
      },
      "source": [
        "- ไม่ว่าจะเว้นวรรคสักกี่ครั้ง คำสั่ง `split()` ก็ยังสามารถแบ่งสตริงออกเป็นลิสต์ของคำได้"
      ]
    },
    {
      "cell_type": "code",
      "execution_count": null,
      "metadata": {
        "id": "Ww4_tp1AXO_R"
      },
      "outputs": [
        {
          "name": "stdout",
          "output_type": "stream",
          "text": [
            "['hello', 'this', 'is', 'prachya', 'and', 'i', 'am', 'glad', 'to', 'be', 'here']\n"
          ]
        }
      ],
      "source": [
        "tokens = '   hello    this is    prachya  and i    am glad    to be   here   '.split()\n",
        "print(tokens)"
      ]
    },
    {
      "cell_type": "markdown",
      "metadata": {
        "id": "W2Z2TQMrXqef"
      },
      "source": [
        "- นอกจากนี้เรายังสามารถระบุเครื่องหมายตัดสตริง (delimiter) ได้อีกด้วย\n",
        "- เช่น หากเราต้องการตัดสตริงด้วยเครื่องหมาย `,` เราจะใช้คำสั่งดังนี้ครับ"
      ]
    },
    {
      "cell_type": "code",
      "execution_count": null,
      "metadata": {
        "id": "kB6S4ParXcwi"
      },
      "outputs": [
        {
          "name": "stdout",
          "output_type": "stream",
          "text": [
            "['533-7855', '536-2313', '524-7306']\n"
          ]
        }
      ],
      "source": [
        "tokens = '533-7855,536-2313,524-7306'.split(',')\n",
        "print(tokens)"
      ]
    },
    {
      "cell_type": "markdown",
      "metadata": {
        "id": "XfmWiByLYGji"
      },
      "source": [
        "- แต่หากระบุเครื่องหมายตัดสตริง คำสั่ง `split()` จะยอมปล่อยให้มีสตริงว่างเกิดขึ้นได้ด้วย หากว่ามีเครื่องหมายตัดสตริงปรากฏขึ้นติดกันหลายครั้ง"
      ]
    },
    {
      "cell_type": "code",
      "execution_count": null,
      "metadata": {
        "id": "vxZJMJ2aYFRh"
      },
      "outputs": [
        {
          "name": "stdout",
          "output_type": "stream",
          "text": [
            "['533-7855', '', '536-2313', '', '', '', '524-7306']\n"
          ]
        }
      ],
      "source": [
        "tokens = '533-7855,,536-2313,,,,524-7306'.split(',')\n",
        "print(tokens)"
      ]
    },
    {
      "cell_type": "markdown",
      "metadata": {
        "id": "IaMoLUDEZ3Gy"
      },
      "source": [
        "### การเชื่อมลิสต์ของสตริง"
      ]
    },
    {
      "cell_type": "markdown",
      "metadata": {
        "id": "kYSZb20gZ833"
      },
      "source": [
        "- เราสามารถเชื่อมลิสต์ของสตริงเข้าด้วยกันโดยใช้คำสั่ง `สตริงเชื่อม.join(ลิสต์ของสตริง)` ครับ"
      ]
    },
    {
      "cell_type": "code",
      "execution_count": null,
      "metadata": {
        "id": "QQw8sqm9YU5c"
      },
      "outputs": [
        {
          "name": "stdout",
          "output_type": "stream",
          "text": [
            "hello this is prachya and i am glad to be here\n"
          ]
        }
      ],
      "source": [
        "words = ['hello', 'this', 'is', 'prachya', 'and', 'i', 'am', 'glad', 'to', 'be', 'here']\n",
        "print(' '.join(words))"
      ]
    },
    {
      "cell_type": "markdown",
      "metadata": {
        "id": "OBbs9f7NaSjw"
      },
      "source": [
        "- หากเราเชื่อมลิสต์ของสตริงด้วยสตริงว่าง ผลที่ได้คือทุกสตริงในลิสต์จะเชื่อมติดกันหมด"
      ]
    },
    {
      "cell_type": "code",
      "execution_count": null,
      "metadata": {
        "id": "ezHbtK4xYdEC"
      },
      "outputs": [
        {
          "name": "stdout",
          "output_type": "stream",
          "text": [
            "hellothisisprachyaandiamgladtobehere\n"
          ]
        }
      ],
      "source": [
        "words = ['hello', 'this', 'is', 'prachya', 'and', 'i', 'am', 'glad', 'to', 'be', 'here']\n",
        "print(''.join(words))"
      ]
    },
    {
      "cell_type": "markdown",
      "metadata": {
        "id": "qkiOE_cYasto"
      },
      "source": [
        "### การกำจัดช่องว่างที่ด้านซ้ายและขวาของสตริง"
      ]
    },
    {
      "cell_type": "markdown",
      "metadata": {
        "id": "mnz_rDETawUx"
      },
      "source": [
        "- เราสามารถกำจัดช่องว่างที่อยู่ด้านซ้ายและขวาของสตริงได้ด้วยคำสั่ง `สตริง.strip()`"
      ]
    },
    {
      "cell_type": "code",
      "execution_count": null,
      "metadata": {
        "id": "nqzHtyXuaYjn"
      },
      "outputs": [
        {
          "name": "stdout",
          "output_type": "stream",
          "text": [
            "|     In the beginning, there was darkness.      |\n",
            "|In the beginning, there was darkness.|\n"
          ]
        }
      ],
      "source": [
        "text = '     In the beginning, there was darkness.      '\n",
        "print(f'|{text}|')\n",
        "print(f'|{text.strip()}|')"
      ]
    },
    {
      "cell_type": "markdown",
      "metadata": {
        "id": "kFnydllCcRx4"
      },
      "source": [
        "- คำสั่งนี้จะมีประโยชน์มาก เวลาที่เราแตกสตริง แล้วนำแต่ละคำที่ได้มาแปลงเป็นตัวเลข ในกรณีนี้เราต้องกำจัดช่องว่างซ้ายขวาด้วย `strip()` ก่อนเสมอ ไม่เช่นนั้นเราจะไม่สามารถแปลงแต่ละคำเป็นตัวเลขได้เลย\n",
        "\n",
        "- เช่น เราจะหาผลรวมของตัวเลขจำนวนเต็มที่อยู่ในสตริง `number_text`"
      ]
    },
    {
      "cell_type": "code",
      "execution_count": null,
      "metadata": {
        "id": "TZmNyG3EbDev"
      },
      "outputs": [
        {
          "name": "stdout",
          "output_type": "stream",
          "text": [
            "150\n"
          ]
        }
      ],
      "source": [
        "number_text = '   10   ,    20   ,    30  ,    40  ,    50    '\n",
        "tokens = number_text.split(',')\n",
        "\n",
        "my_sum = 0\n",
        "\n",
        "for token in tokens:\n",
        "    num = token.strip()\n",
        "    my_sum = my_sum + int(num)\n",
        "    \n",
        "print(my_sum)"
      ]
    },
    {
      "cell_type": "markdown",
      "metadata": {
        "id": "Ua2mWP24qi_k"
      },
      "source": [
        "### แบบฝึกหัด 14.2"
      ]
    },
    {
      "cell_type": "markdown",
      "metadata": {
        "id": "HBOpbdeoqm45"
      },
      "source": [
        "จงรับตัวเลข 1 ตัวจากผู้ใช้ แล้วสร้างไฟล์ `test_file_3.txt` ดังตัวอย่างต่อไปนี้\n",
        "\n",
        "```\n",
        "Enter n: 5\n",
        "```\n",
        "\n",
        "ส่วนตรงนี้คือเนื้อหาของไฟล์ที่ได้จากค่าอินพุต `n`\n",
        "```\n",
        "50      40      30      20      10      \n",
        "40      30      20      10      \n",
        "30      20      10      \n",
        "20      10      \n",
        "10      \n",
        "```\n",
        "โดยตัวเลขทุกตัวจะต้องมีความกว้าง 10 ตัวอักษรชิดซ้าย"
      ]
    },
    {
      "cell_type": "code",
      "execution_count": 101,
      "metadata": {
        "id": "sSDfuCRBdFDO"
      },
      "outputs": [],
      "source": [
        "n = 5 or int(input('Enter n: '))\n",
        "\n",
        "ofhdl = open('test_file_3.txt', 'w')\n",
        "\n",
        "for i in range(n, 0, -1):\n",
        "    for j in range(i, 0, -1):\n",
        "        ofhdl.write(f'{j*10:<10}')\n",
        "    ofhdl.write('\\n')\n",
        "\n",
        "ofhdl.close()"
      ]
    },
    {
      "cell_type": "markdown",
      "metadata": {
        "id": "6O0vXHUotjEO"
      },
      "source": [
        "ท่านสามารถตรวจสอบผลลัพธ์ได้จากการรันโปรแกรมด้านล่างนี้"
      ]
    },
    {
      "cell_type": "code",
      "execution_count": 102,
      "metadata": {
        "id": "4jyLsDSysG85"
      },
      "outputs": [
        {
          "name": "stdout",
          "output_type": "stream",
          "text": [
            "50        40        30        20        10\n",
            "40        30        20        10\n",
            "30        20        10\n",
            "20        10\n",
            "10\n"
          ]
        }
      ],
      "source": [
        "ifhdl = open('test_file_3.txt', 'r')\n",
        "for line in ifhdl:\n",
        "    print(line.strip())\n",
        "ifhdl.close()"
      ]
    },
    {
      "cell_type": "markdown",
      "metadata": {
        "id": "xReulzuRuIEI"
      },
      "source": [
        "### แบบฝึกหัด 14.3"
      ]
    },
    {
      "cell_type": "markdown",
      "metadata": {
        "id": "SZbI6eDSuK4A"
      },
      "source": [
        "จงอ่านไฟล์ `test_file_3.txt` จากแบบฝึกหัด 14.2 แล้วหาผลรวมของตัวเลขในแต่ละบรรทัด เช่น ถ้าไฟล์ `test_file_3.txt` มีเนื้อหาเป็นดังนี้\n",
        "```\n",
        "50      40      30      20      10      \n",
        "40      30      20      10      \n",
        "30      20      10      \n",
        "20      10      \n",
        "10      \n",
        "```\n",
        "เราจะได้ผลลัพธ์ดังต่อไปนี้\n",
        "```\n",
        "150\n",
        "100\n",
        "60\n",
        "30\n",
        "10\n",
        "```"
      ]
    },
    {
      "cell_type": "code",
      "execution_count": null,
      "metadata": {
        "id": "V54V9SaQsOag"
      },
      "outputs": [
        {
          "name": "stdout",
          "output_type": "stream",
          "text": [
            "150\n",
            "100\n",
            "60\n",
            "30\n",
            "10\n"
          ]
        }
      ],
      "source": [
        "ifhdl = open('test_file_3.txt', 'r')\n",
        "\n",
        "# วนลูปแต่ละบรรทัดในไฟล์ ifhdl\n",
        "for line in ifhdl.readlines():\n",
        "    \n",
        "    # แตกบรรทัดออกเป็น token ด้วยคำสั่ง split\n",
        "    tokens = line.strip().split()\n",
        "    \n",
        "    # ตัวแปรเก็บผลรวมรายบรรทัด\n",
        "    my_sum = 0\n",
        "    \n",
        "    for token in tokens:\n",
        "        \n",
        "        # แปลงแต่ละคำให้กลายเป็นตัวเลขจำนวนเต็ม\n",
        "        num = int(token)\n",
        "        \n",
        "        # คำนวณผลรวมของบรรทัดนั้น\n",
        "        my_sum = my_sum + num\n",
        "        \n",
        "    print(my_sum)\n",
        "\n",
        "ifhdl.close()"
      ]
    },
    {
      "cell_type": "markdown",
      "metadata": {
        "id": "BPikTEkwv2DT"
      },
      "source": [
        "-----"
      ]
    },
    {
      "cell_type": "markdown",
      "metadata": {
        "id": "zrnz5gnsv29o"
      },
      "source": [
        "## กิจกรรม 15: ฟังก์ชัน"
      ]
    },
    {
      "cell_type": "markdown",
      "metadata": {
        "id": "tNvjq__3v5t9"
      },
      "source": [
        "- ในบางครั้งเราจำเป็นต้องทำกระบวนการบางอย่างซ้ำๆ กัน แต่ว่าเปลี่ยนค่าตัวแปรที่ควบคุมกระบวนการ (ซึ่งเรียกว่า *พารามิเตอร์* – parameter) เหล่านั้นไปตามสถานการณ์ ทำให้เราต้องก็อปปี้แปะโค้ดและแก้โค้ดซ้ำไปซ้ำมา\n",
        "\n",
        "- การกระทำดังกล่าวอาจก่อบั๊ก (bug) ได้ในภายหลัง\n",
        "  - หากเราต้องแก้ไขกระบวนการหนึ่งจุด เราจะต้องไล่ตามไปแก้ไขทุกจุดที่เราก็อปปี้แปะเอาไว้ให้หมด ไม่เช่นนั้นโปรแกรมก็จะทำงานไม่เหมือนกัน ปัญหานี้เรียกว่า *ปัญหาความไม่เป็นหน่วยเดียวกัน* (modularity issue)\n",
        "  - กระบวนการที่เราก็อปปี้แปะมานั้น มักจะต่อยาวกันเป็นพรืด หากมาอ่านโค้ดเองในภายหลัง ก็อาจจะลืมไปแล้วว่าโค้ดส่วนนี้ทำหน้าที่อะไร ปัญหานี้เรียกว่า *ปัญหาการอ่านโค้ดไม่ออก* (code readability issue)\n",
        "  - การก็อปปี้แปะโค้ดซ้ำไปซ้ำมา ทำให้ไม่สามารถเรียกตัวเองซ้ำแบบเวียนเกิดได้ ปัญหานี้เรียกว่า *ปัญหาการเรียกตัวเองซ้ำ* (self-callability issue)\n",
        "  \n",
        "- เพื่อแก้ปัญหาดังกล่าว เราจะนำกระบวนการที่ต้องทำซ้ำๆ แต่เปลี่ยนค่าตัวแปรที่ควบคุมกระบวนการเหล่านั้น มารวมกลุ่มเป็น<u>**ฟังก์ชัน**</u> (function)"
      ]
    },
    {
      "cell_type": "markdown",
      "metadata": {
        "id": "fUgDz0p-TGVI"
      },
      "source": [
        "### การนิยามฟังก์ชัน"
      ]
    },
    {
      "cell_type": "markdown",
      "metadata": {
        "id": "JRtMKZ51RJYa"
      },
      "source": [
        "- เราสามารถนิยามฟังก์ชันได้ด้วยคำสั่ง `def` (ย่อมาจากคำว่า define) ดังนี้ครับ\n",
        "```python\n",
        "    def <ชื่อฟังก์ชัน> ( <รายการพารามิเตอร์> ) :\n",
        "        <กระบวนการ>\n",
        "```\n",
        "\n",
        "- เช่น เราสามารถนิยามฟังก์ชันสำหรับรับพารามิเตอร์ ได้แก่ ชื่อนักเรียน อายุ และความสูง แล้วแสดงผลออกหน้าจอ ได้ดังนี้"
      ]
    },
    {
      "cell_type": "code",
      "execution_count": null,
      "metadata": {
        "id": "udYRWf_Pu_LV"
      },
      "outputs": [],
      "source": [
        "def print_student(name, age, height):\n",
        "    print(f'Name   : {name}')\n",
        "    print(f'Age    : {age:d} y/o')\n",
        "    print(f'Height : {height:6.2f} cm')\n",
        "    print()"
      ]
    },
    {
      "cell_type": "markdown",
      "metadata": {
        "id": "oTGjCuqkRqI1"
      },
      "source": [
        "- เมื่อเรานิยามฟังก์ชันแล้ว เราก็สามารถเรียกฟังก์ชันนั้นได้ทันทีครับ"
      ]
    },
    {
      "cell_type": "code",
      "execution_count": null,
      "metadata": {
        "colab": {
          "base_uri": "https://localhost:8080/",
          "height": 248
        },
        "id": "rJYExNvRRoSD",
        "outputId": "e20270fd-30a1-427e-e6f4-748e74e8b8f1"
      },
      "outputs": [
        {
          "name": "stdout",
          "output_type": "stream",
          "text": [
            "Name   : John\n",
            "Age    : 13 y/o\n",
            "Height : 165.50 cm\n",
            "\n",
            "Name   : Mary\n",
            "Age    : 14 y/o\n",
            "Height : 173.00 cm\n",
            "\n",
            "Name   : Cindy\n",
            "Age    : 12 y/o\n",
            "Height : 163.50 cm\n",
            "\n"
          ]
        }
      ],
      "source": [
        "student_scores = [\n",
        "    ('John', 13, 165.5), ('Mary', 14, 173.0), ('Cindy', 12, 163.5)\n",
        "]\n",
        "\n",
        "for name, age, height in student_scores:\n",
        "    print_student(name, age, height)"
      ]
    },
    {
      "cell_type": "markdown",
      "metadata": {
        "id": "WwakE4DJTLRL"
      },
      "source": [
        "### แบบฝึกหัด 15.1: การรวบรวมเป็นหน่วยด้วยฟังก์ชัน"
      ]
    },
    {
      "cell_type": "markdown",
      "metadata": {
        "id": "kV-IUDgmTO-L"
      },
      "source": [
        "ในแบบฝึกหัดนี้ เราจะมาหัดแยกแยะพารามิเตอร์ออกจากกระบวนการ เพื่อมานิยามฟังก์ชันกันครับ "
      ]
    },
    {
      "cell_type": "markdown",
      "metadata": {
        "id": "CXZvrgOmXa-8"
      },
      "source": [
        "1. ลองสังเกตโค้ดดังต่อไปนี้ แล้วแยกแยะพารามิเตอร์ออกมาจากโค้ดที่ซ้ำกันอยู่"
      ]
    },
    {
      "cell_type": "code",
      "execution_count": null,
      "metadata": {
        "id": "QH6l-9scSKsV"
      },
      "outputs": [
        {
          "name": "stdout",
          "output_type": "stream",
          "text": [
            "---------------------------------------------------------\n",
            "| Salary                    |                  60000.00 |\n",
            "| Food                      | -10000.00                 |\n",
            "| House mortgage            | -20000.00                 |\n",
            "| Consultancy               |                  20000.00 |\n",
            "| Credit card               | -10000.00                 |\n",
            "---------------------------------------------------------\n",
            "\n",
            "---------------------------------------------------------\n",
            "| Flour                     | -2000.00                  |\n",
            "| Cake sales                |                  30000.00 |\n",
            "| Tea sales                 |                  10000.00 |\n",
            "| Staff salary              | -15000.00                 |\n",
            "| Electricity               | -3000.00                  |\n",
            "---------------------------------------------------------\n",
            "\n"
          ]
        }
      ],
      "source": [
        "house_transactions = [\n",
        "    ('Salary', +60000.0),\n",
        "    ('Food', -10000.0),\n",
        "    ('House mortgage', -20000.0),\n",
        "    ('Consultancy', +20000.0),\n",
        "    ('Credit card', -10000.0)\n",
        "]\n",
        "\n",
        "patisserie_transactions = [\n",
        "    ('Flour', -2000.0),\n",
        "    ('Cake sales', +30000.0),\n",
        "    ('Tea sales', +10000.0),\n",
        "    ('Staff salary', -15000.0),\n",
        "    ('Electricity', -3000.0)\n",
        "]\n",
        "\n",
        "print_data(house_transactions)\n",
        "print_data(patisserie_transactions)"
      ]
    },
    {
      "cell_type": "markdown",
      "metadata": {
        "id": "VS9rCQW4XnTk"
      },
      "source": [
        "2. แยกโค้ดที่ซ้ำกันออกมานิยามเป็นฟังก์ชันใหม่ ตั้งชื่อว่า `print_transactions`"
      ]
    },
    {
      "cell_type": "code",
      "execution_count": null,
      "metadata": {
        "id": "2NQDhJ8CWc6g"
      },
      "outputs": [],
      "source": [
        "def print_transactions(transactions):\n",
        "    print(57 * '-')\n",
        "    for item, income in transactions:\n",
        "        if income > 0:\n",
        "            print(f'| {item:25} | {income:>25.2f} |')\n",
        "        else:\n",
        "            print(f'| {item:25} | {income:<25.2f} |')\n",
        "    print(57 * '-')\n",
        "    print()"
      ]
    },
    {
      "cell_type": "markdown",
      "metadata": {
        "id": "KwjnPuuRX76W"
      },
      "source": [
        "3. ปรับปรุงโค้ดในข้อ 1 ให้เรียกใช้ฟังก์ชัน `print_transactions` แทน"
      ]
    },
    {
      "cell_type": "code",
      "execution_count": null,
      "metadata": {
        "id": "iSOExISsYG-U"
      },
      "outputs": [
        {
          "name": "stdout",
          "output_type": "stream",
          "text": [
            "---------------------------------------------------------\n",
            "| Salary                    |                  60000.00 |\n",
            "| Food                      | -10000.00                 |\n",
            "| House mortgage            | -20000.00                 |\n",
            "| Consultancy               |                  20000.00 |\n",
            "| Credit card               | -10000.00                 |\n",
            "---------------------------------------------------------\n",
            "\n",
            "---------------------------------------------------------\n",
            "| Flour                     | -2000.00                  |\n",
            "| Cake sales                |                  30000.00 |\n",
            "| Tea sales                 |                  10000.00 |\n",
            "| Staff salary              | -15000.00                 |\n",
            "| Electricity               | -3000.00                  |\n",
            "---------------------------------------------------------\n",
            "\n"
          ]
        }
      ],
      "source": [
        "house_transactions = [\n",
        "    ('Salary', +60000.0),\n",
        "    ('Food', -10000.0),\n",
        "    ('House mortgage', -20000.0),\n",
        "    ('Consultancy', +20000.0),\n",
        "    ('Credit card', -10000.0)\n",
        "]\n",
        "\n",
        "patisserie_transactions = [\n",
        "    ('Flour', -2000.0),\n",
        "    ('Cake sales', +30000.0),\n",
        "    ('Tea sales', +10000.0),\n",
        "    ('Staff salary', -15000.0),\n",
        "    ('Electricity', -3000.0)\n",
        "]\n",
        "\n",
        "print_transactions(house_transactions) # เติมโค้ดที่นี่\n",
        "print_transactions(patisserie_transactions) # เติมโค้ดที่นี่"
      ]
    },
    {
      "cell_type": "markdown",
      "metadata": {
        "id": "jw1U3_pXfsLU"
      },
      "source": [
        "### การคืนค่าจากฟังก์ชันด้วยคำสั่ง `return`"
      ]
    },
    {
      "cell_type": "markdown",
      "metadata": {
        "id": "QjE7ofI4fzgp"
      },
      "source": [
        "- นอกจากฟังก์ชันจะรวบรวมกระบวนการให้เป็นหน่วยเดียวได้แล้ว เรายังสามารถกำหนดให้ฟังก์ชันทำการคำนวณบางอย่างในกระบวนการ แล้วคืนค่าผลลัพธ์กลับออกมาได้อีกด้วย\n",
        "\n",
        "- เราสามารถสั่งให้ฟังก์ชันหยุดการทำงานและคืนค่ากลับออกมาได้ด้วยคำสั่ง `return` โดยมีรูปแบบคือ\n",
        "```python\n",
        "    return <ค่าที่คืนกลับไป>\n",
        "```\n",
        "\n",
        "- เช่น เราสามารถเขียนฟังก์ชันให้คำนวณค่าเฉลี่ย (average) ของสมาชิกในลิสต์ แล้วคืนค่าเฉลี่ยนั้นกลับออกไปได้ดังนี้ครับ"
      ]
    },
    {
      "cell_type": "code",
      "execution_count": null,
      "metadata": {
        "id": "kwoid2Rtgqha"
      },
      "outputs": [],
      "source": [
        "def average(items):\n",
        "    my_sum = 0.0\n",
        "    for item in items:\n",
        "        my_sum = my_sum + item\n",
        "    return my_sum / len(items)"
      ]
    },
    {
      "cell_type": "markdown",
      "metadata": {
        "id": "AXo8ndwPgzG7"
      },
      "source": [
        "- เราสามารถนำค่าที่ฟังก์ชันคืนกลับออกมาไปใช้ต่อได้ทันที"
      ]
    },
    {
      "cell_type": "code",
      "execution_count": null,
      "metadata": {
        "colab": {
          "base_uri": "https://localhost:8080/",
          "height": 56
        },
        "id": "Rx5ryZgcg8kS",
        "outputId": "17882591-32bd-4b75-db9f-0def122b0f40"
      },
      "outputs": [
        {
          "name": "stdout",
          "output_type": "stream",
          "text": [
            "The average of student heights is   162.35.\n"
          ]
        }
      ],
      "source": [
        "student_heights = [163.5, 150.0, 167.0, 161.25, 170.0]\n",
        "\n",
        "avg = average(student_heights)\n",
        "\n",
        "print(f'The average of student heights is {avg:8.2f}.')"
      ]
    },
    {
      "cell_type": "markdown",
      "metadata": {
        "id": "JdACrGiohrRV"
      },
      "source": [
        "### แบบฝึกหัด 15.2"
      ]
    },
    {
      "cell_type": "markdown",
      "metadata": {
        "id": "JOdH_bwwh1In"
      },
      "source": [
        "ค่าความแปรปรวน (variance) เป็นมาตรวัดทางสถิติเพื่อบอกว่า ข้อมูลของเรากระจัดกระจายมากแค่ไหน โดยเทียบจากผลรวมของ*ระยะห่าง*ระหว่างข้อมูลแต่ละตัวกับค่าเฉลี่ย ระยะห่างตัวนี้คำนวณได้จากการนำข้อมูลกับค่าเฉลี่ยมาลบกันแล้วยกกำลัง 2 นั่นเองครับ\n",
        "\n",
        "จงนิยามฟังก์ชันที่คำนวณค่าความแปรปรวนของข้อมูล $x_1, x_2, x_3, \\ldots, x_N$ ซึ่งการคำนวณจะเป็นไปตามสูตรต่อไปนี้\n",
        "\n",
        "$$\n",
        "\\mathrm{Var}(x_1, x_2, x_3, \\ldots, x_N) = \\frac{1}{N - 1} \\sum_{k = 1}^{N} \\left( x_k - \\bar{x} \\right)^2\n",
        "$$\n",
        "\n",
        "เมื่อ $\\bar{x}$ คือค่าเฉลี่ยของข้อมูล ซึ่งสามารถคำนวณได้จากฟังก์ชัน `average` ซึ่งได้เตรียมไว้ให้แล้วครับ\n",
        "\n",
        "<u>**คำเตือน:**</u> เมื่อคำนวณค่าความแปรปรวนได้แล้ว อย่าลืมใช้คำสั่ง `return` เพื่อคืนผลลัพธ์ออกไปด้วยนะครับ"
      ]
    },
    {
      "cell_type": "code",
      "execution_count": null,
      "metadata": {
        "id": "_gxD-7Kxi_34"
      },
      "outputs": [],
      "source": [
        "# ฟังก์ชันสำหรับคำนวณค่าเฉลี่ย\n",
        "def average(items):\n",
        "    my_sum = 0.0\n",
        "    for item in items:\n",
        "        my_sum = my_sum + item\n",
        "    return my_sum / len(items)\n",
        "\n",
        "# ฟังก์ชันสำหรับคำนวณค่าความแปรปรวน\n",
        "def variance(items):\n",
        "    return (1/len(items)) * sum([(item - average(items))**2 for item in items])"
      ]
    },
    {
      "cell_type": "markdown",
      "metadata": {
        "id": "-XET9FzYjlpF"
      },
      "source": [
        "เมื่อเขียนโปรแกรมเสร็จแล้ว ท่านสามารถทดสอบโปรแกรมได้ตรงนี้ครับ"
      ]
    },
    {
      "cell_type": "code",
      "execution_count": null,
      "metadata": {
        "id": "4zItbQx1jqNF"
      },
      "outputs": [
        {
          "name": "stdout",
          "output_type": "stream",
          "text": [
            "The average of student heights is   162.35.\n",
            "The variance of student heights is    47.04.\n"
          ]
        }
      ],
      "source": [
        "student_heights = [163.5, 150.0, 167.0, 161.25, 170.0]\n",
        "\n",
        "avg = average(student_heights)\n",
        "var = variance(student_heights)\n",
        "\n",
        "print(f'The average of student heights is {avg:8.2f}.')\n",
        "print(f'The variance of student heights is {var:8.2f}.')"
      ]
    },
    {
      "cell_type": "markdown",
      "metadata": {
        "id": "b13erL1JmDA5"
      },
      "source": [
        "### การหยุดการทำงานของฟังก์ชันด้วยคำสั่ง `return`"
      ]
    },
    {
      "cell_type": "markdown",
      "metadata": {
        "id": "A89hgqVSmGoS"
      },
      "source": [
        "- เราสามารถหยุดการทำงานของฟังก์ชันกลางคันได้ ด้วยคำสั่ง `return` โดยโปรแกรมจะออกจากฟังก์ชันทันทีครับ\n",
        "\n",
        "- จริงๆ แล้วในคำสั่ง `return` นี้เราอาจจะใส่ค่าที่คืนกลับไปก็ได้ หรือไม่ใส่ลงไปก็ได้\n",
        "  - หากไม่ใส่ค่าคืนกลับ โปรแกรมก็เพียงหยุดการทำงานของฟังก์ชัน แล้วย้อนกลับไปที่จุดเดิมที่เรียกฟังก์ชันนั้น\n",
        "  - แต่ถ้าหากใส่ค่าคืนกลับ โปรแกรมก็จะหยุดการทำงานของฟังก์ชัน แล้วย้อนกลับไปที่จุดเดิมพร้อมกับใส่ค่าคืนกลับที่ตำแหน่งของฟังก์ชันนั้น"
      ]
    },
    {
      "cell_type": "markdown",
      "metadata": {
        "id": "J2jqGiEmoWSO"
      },
      "source": [
        "- เรามาลองสังเกตฟังก์ชันดังต่อไปนี้กัน ฟังก์ชันนี้จะคำนวณค่า factorial ของจำนวนเต็ม $ n $ ซึ่งแทนด้วยสัญลักษณ์ $ n! $ โดยสูตรการคำนวณจะเป็นดังนี้\n",
        "\n",
        "$$\n",
        "\\begin{eqnarray}\n",
        "0! & = & 1 \\\\\n",
        "1! & = & 1 \\\\\n",
        "n! & = & 1 \\times 2 \\times 3 \\times \\ldots \\times n \\qquad \\textrm{เมื่อ $n > 1$}\n",
        "\\end{eqnarray}\n",
        "$$\n",
        "\n",
        "- หากเราใส่พารามิเตอร์ `n` เป็น 0 หรือ 1 ฟังก์ชันนี้จะคืนค่า 1 ออกไปแล้วหยุดทำงานทันทีครับ"
      ]
    },
    {
      "cell_type": "code",
      "execution_count": null,
      "metadata": {
        "id": "Ozi0X0NfnWv-"
      },
      "outputs": [],
      "source": [
        "# คำนวณค่า factorial ของจำนวนเต็ม n\n",
        "def factorial(n):\n",
        "    \n",
        "    # หากค่า n เป็น 0 หรือ 1\n",
        "    if n in [0, 1]:\n",
        "        # ให้คืนค่า 1 กลับไป แล้วหยุดการทำงานทันที\n",
        "        return 1\n",
        "    \n",
        "    # วนลูปคูณเลข\n",
        "    result = 1.0\n",
        "    for i in range(2, n + 1):\n",
        "        result = result * i\n",
        "        \n",
        "    # คืนผลลัพธ์กลับออกไป\n",
        "    return result"
      ]
    },
    {
      "cell_type": "markdown",
      "metadata": {
        "id": "5bHzODHlpI3O"
      },
      "source": [
        "- เรามาลองทดสอบฟังก์ชัน `factorial` กันครับ"
      ]
    },
    {
      "cell_type": "code",
      "execution_count": null,
      "metadata": {
        "colab": {
          "base_uri": "https://localhost:8080/",
          "height": 73
        },
        "id": "5Awz4T1_oji4",
        "outputId": "cd2672a7-8546-42c5-8f24-37a69cf8f929"
      },
      "outputs": [
        {
          "name": "stdout",
          "output_type": "stream",
          "text": [
            "1\n",
            "2.43290200817664e+18\n"
          ]
        }
      ],
      "source": [
        "print(factorial(0))\n",
        "print(factorial(20))"
      ]
    },
    {
      "cell_type": "markdown",
      "metadata": {
        "id": "MLLw-HqlpVBt"
      },
      "source": [
        "- ในกรณีที่ฟังก์ชันเป็นเพียงการรวบรวมกระบวนการให้เป็นหน่วย ไม่ได้มีจุดประสงค์จะคืนค่ากลับออกไป เราก็ยังสามารถใช้คำสั่ง `return` ได้ด้วย เพียงแต่เราไม่ต้องระบุค่าคืนกลับเท่านั้นเองครับ\n",
        "\n",
        "- ในฟังก์ชันด้านล่างนี้ ถ้าหากพารามิเตอร์ `age` มีค่า 60 ขึ้นไป ฟังก์ชันจะพิมพ์ข้อความ `--Senior--` แล้วจบการทำงานทันที"
      ]
    },
    {
      "cell_type": "code",
      "execution_count": null,
      "metadata": {
        "id": "QzoxeyY-qSb-"
      },
      "outputs": [],
      "source": [
        "def print_student(name, age, height):\n",
        "    \n",
        "    # หาก age มีค่า 60 ขึ้นไป\n",
        "    if age >= 60:\n",
        "        print('--Senior--')\n",
        "        print()\n",
        "        \n",
        "        # หยุดการทำงานของฟังก์ชัน\n",
        "        return\n",
        "    \n",
        "    print(f'Name   : {name}')\n",
        "    print(f'Age    : {age:d} y/o')\n",
        "    print(f'Height : {height:6.2f} cm')\n",
        "    print()"
      ]
    },
    {
      "cell_type": "code",
      "execution_count": null,
      "metadata": {
        "colab": {
          "base_uri": "https://localhost:8080/",
          "height": 425
        },
        "id": "5N-g_bOztc5r",
        "outputId": "7ef30597-33b2-4699-dbb1-e5b90a49ead1"
      },
      "outputs": [
        {
          "name": "stdout",
          "output_type": "stream",
          "text": [
            "Name   : John\n",
            "Age    : 13 y/o\n",
            "Height : 165.50 cm\n",
            "\n",
            "Name   : Mary\n",
            "Age    : 14 y/o\n",
            "Height : 173.00 cm\n",
            "\n",
            "Name   : Cindy\n",
            "Age    : 12 y/o\n",
            "Height : 163.50 cm\n",
            "\n",
            "--Senior--\n",
            "\n",
            "Name   : Eugene\n",
            "Age    : 15 y/o\n",
            "Height : 177.00 cm\n",
            "\n",
            "Name   : Rupert\n",
            "Age    : 12 y/o\n",
            "Height : 153.50 cm\n",
            "\n"
          ]
        }
      ],
      "source": [
        "student_scores = [\n",
        "    ('John', 13, 165.5), ('Mary', 14, 173.0), ('Cindy', 12, 163.5),\n",
        "    ('Magdalene', 65, 165.5), ('Eugene', 15, 177.0), ('Rupert', 12, 153.5)\n",
        "]\n",
        "\n",
        "for name, age, height in student_scores:\n",
        "    print_student(name, age, height)"
      ]
    },
    {
      "cell_type": "markdown",
      "metadata": {
        "id": "qNwtUIL-YujD"
      },
      "source": [
        "### การทำให้โค้ดอ่านง่ายขึ้น"
      ]
    },
    {
      "cell_type": "markdown",
      "metadata": {
        "id": "1EObV3J6YxiY"
      },
      "source": [
        "- โปรแกรมเมอร์ที่ดีจะมีความสามารถที่จะทำให้โปรแกรมเมอร์คนอื่นสามารถอ่านโค้ดของเขารู้เรื่องได้ในภายหลัง\n",
        "\n",
        "- การที่จะทำอย่างนั้นได้ เราควรเขียนโค้ดตามคำแนะนำดังต่อไปนี้ครับ\n",
        "  1. พยายามรวมกระบวนการที่ก็อปปี้แปะซ้ำๆ กัน ให้กลายเป็นฟังก์ชัน การกระทำเช่นนี้เรียกว่า *การรวบรวมเป็นหน่วย* (modularization)\n",
        "  2. พยายามตั้งชื่อตัวแปร ค่าคงที่ พารามิเตอร์ และชื่อฟังก์ชันต่างๆ ให้สื่อความหมายและสะท้อนหน้าที่ของมัน การกระทำเช่นนี้เรียกว่า *การตั้งชื่อให้สื่อความหมาย* (meaningful naming)\n",
        "  3. หากฟังก์ชันมีรายการพารามิเตอร์ยาวผิดปกติ หรือฟังก์ชันมีความยาวผิดปกติ ให้ลองแยกฟังก์ชันให้กลายเป็นฟังก์ชันย่อย แล้วเรียกใช้ฟังก์ชันเหล่านั้นแทน การกระทำเช่นนี้เรียกว่า *การรีแฟคเตอร์โค้ด* (code refactoring)\n",
        "  4. พยายามใส่หมายเหตุลงในโค้ด การกระทำเช่นนี้เรียกว่า *การใส่หมายเหตุที่สมเหตุผล* (appropriate commentation)\n",
        "  5. อย่าเพิ่งพยายามปรับโค้ดให้เร็วขึ้นในตอนต้น ขอให้เขียนโค้ดให้ทำงานตรงตามความคิดเสียก่อน\n",
        "  \n",
        "- สิ่งที่ใส่ในหมายเหตุได้มีอะไรบ้าง\n",
        "  - ภาพรวมของกระบวนการ ซึ่งสามารถอธิบายให้คนทั่วไปเข้าใจได้ด้วยภาษามนุษย์\n",
        "  - ชื่อเต็มของตัวแปร ค่าคงที่ พารามิเตอร์ และฟังก์ชัน ในกรณีที่ชื่อเหล่านี้เป็นตัวย่อหรือมีความหมายพิเศษที่ต้องการคำอธิบายเพิ่มเติม\n",
        "  - วิธีการใช้งานฟังก์ชัน หากว่าฟังก์ชันนั้นมีรายการพารามิเตอร์ที่ค่อนข้างสลับซับซ้อน\n",
        "  - เคล็ดลับแม่บ้าน (procedural protocols) ทั้งหลาย\n",
        "  - ชื่อของผู้พัฒนา และไลเซนส์ของโค้ด"
      ]
    },
    {
      "cell_type": "markdown",
      "metadata": {
        "id": "96iTb45tdFJK"
      },
      "source": [
        "### แบบฝึกหัด 15.4: การตั้งชื่อให้สื่อความหมาย"
      ]
    },
    {
      "cell_type": "markdown",
      "metadata": {
        "id": "kFVNxyXge0MR"
      },
      "source": [
        "สมมติว่าเราได้รับหน้าที่ให้วิเคราะห์และทำให้โค้ดดังต่อไปนี้อ่านง่ายขึ้น เมื่อเราอ่านโค้ด เราก็จะพบว่าโปรแกรมเมอร์ที่เขียนโค้ดนี้ขึ้นมา ตั้งชื่อตัวแปร พารามิเตอร์ และฟังก์ชันไม่สื่อความหมายเลย นั่นคือแต่ละชื่อไม่ได้สะท้อนหน้าที่การทำงานของมันเลย\n",
        "\n",
        "จงวิเคราะห์โค้ด และแก้ไขชื่อตัวแปร พารามิเตอร์ และฟังก์ชันให้สื่อความหมายตามที่คอมเมนต์ไว้ครับ"
      ]
    },
    {
      "cell_type": "code",
      "execution_count": null,
      "metadata": {
        "id": "3sP6kMj1fXPs"
      },
      "outputs": [],
      "source": [
        "# คำนวณค่าเฉลี่ยของข้อมูล\n",
        "def average(items):\n",
        "    \n",
        "    # ผลรวมของข้อมูล\n",
        "    summation = 0.0\n",
        "    \n",
        "    # ไล่ลูปข้อมูลแต่ละตัว\n",
        "    for num in items:\n",
        "        summation = summation + num\n",
        "        \n",
        "    return summation / len(items)\n",
        "\n",
        "\n",
        "\n",
        "# คำนวณค่าความแปรปรวนของข้อมูล\n",
        "def variance(xs):\n",
        "    \n",
        "    # ถ้าข้อมูลมีแค่ตัวเดียวหรือไม่มีเลย ให้ตอบ 0\n",
        "    if len(xs) <= 1:\n",
        "        return 0.0\n",
        "    \n",
        "    # ค่าเฉลี่ยของข้อมูล\n",
        "    a = average(xs)\n",
        "    \n",
        "    # ผลรวมของระยะทาง\n",
        "    s = 0.0\n",
        "    \n",
        "    # ไล่ลูปข้อมูลแต่ละตัว\n",
        "    for x in xs:\n",
        "        s = s + (x - a)**2\n",
        "        \n",
        "    return s / (len(xs) - 1)"
      ]
    },
    {
      "cell_type": "markdown",
      "metadata": {
        "id": "KvpNYaGXv6c2"
      },
      "source": [
        "เมื่อท่านได้แก้ไขชื่อต่างๆ เรียบร้อยแล้ว ท่านสามารถทดสอบโปรแกรมของท่านได้ตรงนี้ครับ"
      ]
    },
    {
      "cell_type": "code",
      "execution_count": null,
      "metadata": {
        "id": "_TBgrioBvuiH"
      },
      "outputs": [
        {
          "name": "stdout",
          "output_type": "stream",
          "text": [
            "Student heights = [163.5, 150.0, 167.0, 161.25, 170.0]\n",
            "The average is    162.35.\n",
            "The variance is    58.80.\n"
          ]
        }
      ],
      "source": [
        "student_heights = [163.5, 150.0, 167.0, 161.25, 170.0]\n",
        "\n",
        "# ค่าเฉลี่ยของความสูง\n",
        "avg = average(student_heights)\n",
        "\n",
        "# ค่าความแปรปรวนของความสูง\n",
        "var = variance(student_heights)\n",
        "\n",
        "print(f'Student heights = {student_heights}')\n",
        "print(f'The average is {avg:9.2f}.')\n",
        "print(f'The variance is {var:8.2f}.')"
      ]
    },
    {
      "cell_type": "markdown",
      "metadata": {
        "id": "kkiHQSr4yuHE"
      },
      "source": [
        "### การรีแฟคเตอร์โค้ด"
      ]
    },
    {
      "cell_type": "markdown",
      "metadata": {
        "id": "VOOFbTFxyv-g"
      },
      "source": [
        "- หากเราพบว่าฟังก์ชันใดมีจำนวนพารามิเตอร์เยอะๆ (เช่น เกิน 5 ตัว) ให้เราลองสังเกตความสัมพันธ์ของพารามิเตอร์และการทำงานของโค้ดดูก่อนครับ\n",
        "\n",
        "- หากเราสามารถจัดกลุ่มพารามิเตอร์และโค้ดที่เกี่ยวข้องได้ ให้เราพิจารณาที่จะแยกทั้งกลุ่มนี้ไปตั้งเป็นฟังก์ชันใหม่แล้วเรียกใช้ฟังก์ชันนี้แทน โค้ดที่ได้น่าจะอ่านง่ายขึ้นเยอะครับ"
      ]
    },
    {
      "cell_type": "markdown",
      "metadata": {
        "id": "UVe0s6ACxwPT"
      },
      "source": [
        "### แบบฝึกหัด 15.5: การรีแฟคเตอร์โค้ด"
      ]
    },
    {
      "cell_type": "markdown",
      "metadata": {
        "id": "7HgXBd53x1QM"
      },
      "source": [
        "ถ้าเราสังเกตฟังก์ชัน `print_students` ด้านล่างนี้ จะพบว่าฟังก์ชันนี้มีพารามิเตอร์ 9 ตัว ในแบบฝึกหัดนี้ เราจะมาหัดปรับโค้ดที่มีพารามิเตอร์เยอะๆ ให้อ่านง่ายขึ้นด้วยการรีแฟคเตอร์โค้ดกันครับ\n",
        "\n",
        "พารามิเตอร์ในโค้ดที่ด้านล่างนี้สามารถแบ่งกลุ่มได้เป็นกี่กลุ่มครับ?"
      ]
    },
    {
      "cell_type": "code",
      "execution_count": null,
      "metadata": {
        "id": "zOzGxXAZy9qk"
      },
      "outputs": [],
      "source": [
        "def print_students(name1, name2, name3, age1, age2, age3, height1, height2, height3):\n",
        "    print(f'Name   : {name1}')\n",
        "    print(f'Age    : {age1:d} y/o')\n",
        "    print(f'Height : {height1:6.2f} cm')\n",
        "    print()\n",
        "    print(f'Name   : {name2}')\n",
        "    print(f'Age    : {age2:d} y/o')\n",
        "    print(f'Height : {height2:6.2f} cm')\n",
        "    print()\n",
        "    print(f'Name   : {name3}')\n",
        "    print(f'Age    : {age3:d} y/o')\n",
        "    print(f'Height : {height3:6.2f} cm')\n",
        "    print()"
      ]
    },
    {
      "cell_type": "markdown",
      "metadata": {
        "id": "fDmKOIUr0Qal"
      },
      "source": [
        "ท่านลองยุบฟังก์ชัน `print_students` ที่ด้านบนให้กลายเป็นฟังก์ชัน `print_student` ที่รับข้อมูลของนักเรียนเพียงคนเดียวดูครับ"
      ]
    },
    {
      "cell_type": "code",
      "execution_count": null,
      "metadata": {
        "id": "nPYEk0AGvwKM"
      },
      "outputs": [],
      "source": [
        "def print_student(name, age, height):\n",
        "    print(f'Name   : {name}')\n",
        "    print(f'Age    : {age:d} y/o')\n",
        "    print(f'Height : {height:6.2f} cm')\n",
        "    print()"
      ]
    },
    {
      "cell_type": "markdown",
      "metadata": {
        "id": "uHVYLQCg380y"
      },
      "source": [
        "-----"
      ]
    },
    {
      "cell_type": "markdown",
      "metadata": {
        "id": "lfG0B1Qd380z"
      },
      "source": [
        "## กิจกรรม 16: การโปรแกรมเชิงวัตถุ"
      ]
    },
    {
      "cell_type": "markdown",
      "metadata": {
        "id": "SsK06oq0380z"
      },
      "source": [
        "- ในกิจกรรมที่แล้ว เราได้เรียนรู้การรวบรวมกระบวนการให้เป็นหน่วยด้วยฟังก์ชัน นั่นคือเราพยายามออกแบบโปรแกรมโดยเน้นที่กระบวนการของการกระทำ\n",
        "\n",
        "- แต่ในบางกรณี การออกแบบโปรแกรมโดยเน้นกระบวนการอาจจะทำให้การเขียนโปรแกรมยุ่งยากมากขึ้น\n",
        "\n",
        "- เช่น เราต้องการเขียนโปรแกรมเพื่อจัดการกับรูปทรงต่างๆ เช่น สามเหลี่ยม สี่เหลี่ยมจัตุรัส ฯลฯ โดยมีการกระทำดังต่อไปนี้\n",
        "  1. หาพื้นที่ได้\n",
        "  2. หาเส้นรอบวงได้\n",
        "  3. หาสีของรูปทรงได้\n",
        "  4. เปลี่ยนข้อมูลจำเพาะของรูปทรงได้ เช่น รัศมี ความกว้าง ความยาว ฯลฯ\n",
        "  5. เปลี่ยนสีของรูปทรงได้\n",
        "  \n",
        "- ถ้าเราเขียนโปรแกรมด้วยฟังก์ชันทั้งหมด เราจะเขียนโปรแกรมได้ดังนี้ครับ"
      ]
    },
    {
      "cell_type": "code",
      "execution_count": null,
      "metadata": {
        "id": "IjTlUQR-380z"
      },
      "outputs": [],
      "source": [
        "pi = 3.1415926\n",
        "\n",
        "# คำนวณพื้นที่วงกลม\n",
        "def area_circle(circle):\n",
        "    return pi * circle['radius']**2\n",
        "\n",
        "# คำนวณเส้นรอบวงของวงกลม\n",
        "def circumference_circle(circle):\n",
        "    return 2 * pi * circle['radius']\n",
        "\n",
        "# หาค่าสีของวงกลม\n",
        "def color_circle(circle):\n",
        "    return circle['color']\n",
        "\n",
        "# คำนวณพื้นที่จัตุรัส\n",
        "def area_square(square):\n",
        "    return square['side']**2\n",
        "\n",
        "# คำนวณเส้นรอบวงจัตุรัส\n",
        "def circumference_square(square):\n",
        "    return 4 * square['side']\n",
        "\n",
        "# หาค่าสีของจัตุรัส\n",
        "def color_square(square):\n",
        "    return square['color']"
      ]
    },
    {
      "cell_type": "markdown",
      "metadata": {
        "id": "_TEqVSdV3800"
      },
      "source": [
        "- จะสังเกตได้ว่า เรายังต้องเขียนฟังก์ชันซ้ำกันอยู่หลายอัน แม้ว่าฟังก์ชันเหล่านี้จะทำงานคล้ายคลึงกันก็ตาม เช่น `color_circle` กับ `color_square`\n",
        "\n",
        "- นอกจากนี้ เวลาที่เราจะสร้างวัตถุใหม่ขึ้นมา เราจะสร้างด้วยดิกชันนารี และเราก็จะต้องก็อปปี้โครงสร้างของดิกชันนารีให้เหมือนเปี๊ยบด้วย มิเช่นนั้นโปรแกรมก็อาจจะทำงานผิดพลาดได้ เพราะอ้างผิดคีย์หรืออ้างคีย์ไม่ครบ เช่น"
      ]
    },
    {
      "cell_type": "code",
      "execution_count": null,
      "metadata": {
        "id": "fAyGJwWt3800"
      },
      "outputs": [
        {
          "name": "stdout",
          "output_type": "stream",
          "text": [
            "Area of circle1 = 2827.43334\n",
            "Circumference of circle2 = 97.3893706\n",
            "Color of circle3 = blue\n",
            "\n",
            "Area of square1 = 100.0\n",
            "Circumference of square2 = 60.0\n",
            "Color of square3 = pink\n"
          ]
        }
      ],
      "source": [
        "circle1 = {'radius': 30.0, 'color': 'red'}\n",
        "circle2 = {'radius': 15.5, 'color': 'green'}\n",
        "circle3 = {'radius': 10.0, 'color': 'blue'}\n",
        "\n",
        "square1 = {'side': 10.0, 'color': 'yellow'}\n",
        "square2 = {'side': 15.0, 'color': 'orange'}\n",
        "square3 = {'side': 5.75, 'color': 'pink'}\n",
        "\n",
        "print(f'Area of circle1 = {area_circle(circle1)}')\n",
        "print(f'Circumference of circle2 = {circumference_circle(circle2)}')\n",
        "print(f'Color of circle3 = {color_circle(circle3)}')\n",
        "print()\n",
        "\n",
        "print(f'Area of square1 = {area_square(square1)}')\n",
        "print(f'Circumference of square2 = {circumference_square(square2)}')\n",
        "print(f'Color of square3 = {color_square(square3)}')"
      ]
    },
    {
      "cell_type": "markdown",
      "metadata": {
        "id": "iQmzR-vw3801"
      },
      "source": [
        "### คลาส (class)"
      ]
    },
    {
      "cell_type": "markdown",
      "metadata": {
        "id": "JzzrX-4k3801"
      },
      "source": [
        "- เพื่อให้อ่านโค้ดได้ง่ายขึ้น เรายังสามารถรวบรวมกระบวนการตามชนิดของวัตถุได้อีกด้วย โดยวัตถุแต่ละชนิดจะมีฟังก์ชันหน้าตาเหมือนกัน แต่ไส้ในของแต่ละฟังก์ชันจะแตกต่างกันไปตามชนิดของวัตถุ\n",
        "\n",
        "- การรวบรวมกระบวนการตามชนิดของวัตถุนี้ เราเรียกว่า **การโปรแกรมเชิงวัตถุ** (object-oriented programming หรือ OOP)\n",
        "\n",
        "- ในภาษา Python เราสามารถสร้างวัตถุชนิดใหม่ได้ด้วยคำสั่ง `class` ดังรูปแบบต่อไปนี้\n",
        "```python\n",
        "    class <ชื่อคลาส> :\n",
        "        <รายการฟังก์ชัน>\n",
        "```\n",
        "\n",
        "- เราสามารถนิยามฟังก์ชันภายในคลาสได้ด้วยคำสั่ง `def` เหมือนกับฟังก์ชันปกติเลยครับ ฟังก์ชันภายในคลาสนี้มีชื่อเรียกอย่างเป็นทางการว่า **เมธอด** (method)\n",
        "\n",
        "- เมธอดสำคัญของคลาสคือ **คอนสตรักเตอร์** (constructor) มีไว้สำหรับสร้างวัตถุ (object) จากคลาส โดยคอนสตรักเตอร์จะใช้ชื่อเมธอดว่า `__init__` (โปรดสังเกตว่าชื่อ `init` จะมีขีดเส้นใต้ 2 อันที่ด้านหน้าและด้านหลัง)\n",
        "\n",
        "- คอนสตรักเตอร์จะรับพารามิเตอร์ 2 ชุด \n",
        "  - `self` สำหรับอ้างถึงวัตถุที่เรากำลังจะสร้าง\n",
        "  - พารามิเตอร์ที่จะใส่ในวัตถุนั้น\n",
        "  \n",
        "- เช่น เราสามารถนิยามคลาส `Circle` และคอนสตรักเตอร์ของคลาสนี้ได้ดังนี้"
      ]
    },
    {
      "cell_type": "code",
      "execution_count": null,
      "metadata": {
        "id": "cvJTALLM3801"
      },
      "outputs": [],
      "source": [
        "class Circle:\n",
        "    def __init__(self, color, radius):\n",
        "        self.color = color\n",
        "        self.radius = radius"
      ]
    },
    {
      "cell_type": "markdown",
      "metadata": {
        "id": "2SWkd0wC3802"
      },
      "source": [
        "- คอนสตรักเตอร์ของคลาส `Circle` จะรับพารามิเตอร์สำหรับคลาส 2 ตัวคือ `color` และ `radius`\n",
        "\n",
        "- เมื่อเรารับพารามิเตอร์เหล่านี้มาแล้ว เราก็จะนำมาใส่เป็น**คุณสมบัติ** (property) ของคลาส โดยเราจะกำหนดคุณสมบัติของคลาสด้วยการอ้างถึงตัวแปร `self` เช่น\n",
        "```python\n",
        "    def __init__(self, color, radius):\n",
        "        self.color = color\n",
        "        self.radius = radius\n",
        "```\n",
        "\n",
        "- นอกจากนี้เรายังสามารถนิยามเมธอดอื่นๆ สำหรับวัตถุของคลาส `Circle` ได้อีกด้วย ในตัวอย่างข้างล่างนี่ เราจะนิยามฟังก์ชันเพิ่มอีก 3 ตัว ได้แก่ `area`, `circumference`, และ `get_color`"
      ]
    },
    {
      "cell_type": "code",
      "execution_count": null,
      "metadata": {
        "id": "a-X-T2Lj3802"
      },
      "outputs": [],
      "source": [
        "pi = 3.1415926\n",
        "\n",
        "class Circle:\n",
        "    \n",
        "    # คอนสตรักเตอร์\n",
        "    def __init__(self, color, radius):\n",
        "        \n",
        "        # กำหนดสีจากพารามิเตอร์\n",
        "        self.color = color\n",
        "        \n",
        "        # กำหนดรัศมีจากพารามิเตอร์\n",
        "        self.radius = radius\n",
        "        \n",
        "    # คำนวณพื้นที่\n",
        "    def area(self):\n",
        "        return pi * self.radius**2\n",
        "    \n",
        "    # คำนวณเส้นรอบวง\n",
        "    def circumference(self):\n",
        "        return 2 * pi * self.radius\n",
        "    \n",
        "    # หาค่าสี\n",
        "    def get_color(self):\n",
        "        return self.color"
      ]
    },
    {
      "cell_type": "markdown",
      "metadata": {
        "id": "bCYuTlZY3803"
      },
      "source": [
        "- เราสามารถประกาศวัตถุของคลาสได้โดยเรียกชื่อคลาส ตามด้วยพารามิเตอร์ในคอนสตรักเตอร์\n",
        "\n",
        "- ในตัวอย่างด้านล่างนี้ เราประกาศวัตถุของคลาส `Circle` ออกมา 3 ตัว สังเกตว่าคราวนี้เราจะสร้างวัตถุได้ง่ายกว่าการสร้างดิกชันนารีเองมากครับ\n",
        "\n",
        "- จริงๆ แล้วการสร้างคลาสเปรียบเสมือนการสร้างแม่พิมพ์ (template) เพื่อปั๊มป์วัตถุจำนวนมากๆ ที่มีหน้าตาคล้ายคลึงกันออกมา"
      ]
    },
    {
      "cell_type": "code",
      "execution_count": null,
      "metadata": {
        "id": "iHvi1bMV3803"
      },
      "outputs": [],
      "source": [
        "circle1 = Circle('red', 30.0)\n",
        "circle2 = Circle('green', 15.5)\n",
        "circle3 = Circle('blue', 10.0)"
      ]
    },
    {
      "cell_type": "markdown",
      "metadata": {
        "id": "fm-q1ktt3804"
      },
      "source": [
        "- และเราก็สามารถเรียกเมธอดของวัตถุนี้ได้ตามรูปแบบ `<วัตถุ>.<เมธอด>(<พารามิเตอร์>)` ครับ"
      ]
    },
    {
      "cell_type": "code",
      "execution_count": null,
      "metadata": {
        "colab": {
          "base_uri": "https://localhost:8080/",
          "height": 92
        },
        "id": "mE0mYpK93804",
        "outputId": "e8075703-629c-4d0d-8560-2abf77bfb295"
      },
      "outputs": [
        {
          "name": "stdout",
          "output_type": "stream",
          "text": [
            "Area of circle1 = 2827.43334\n",
            "Circumference of circle2 = 97.3893706\n",
            "Color of circle3 = blue\n"
          ]
        }
      ],
      "source": [
        "print('Area of circle1 =', circle1.area())\n",
        "print('Circumference of circle2 =', circle2.circumference())\n",
        "print('Color of circle3 =', circle3.get_color())"
      ]
    },
    {
      "cell_type": "markdown",
      "metadata": {
        "id": "6GhsEgwz3805"
      },
      "source": [
        "### แบบฝึกหัด 16.1"
      ]
    },
    {
      "cell_type": "markdown",
      "metadata": {
        "id": "oeP9HZvL3805"
      },
      "source": [
        "คราวนี้เราจะมานิยามคลาส `Square` กันบ้างนะครับ คลาส `Square` จะมีคุณสมบัติ 2 ตัว คือ `side` (ความยาวด้าน) และ `color` (สี) และมีเมธอด 3 ตัว คือ `area` (คำนวณพื้นที่), `circumference` (คำนวณเส้นรอบวง), และ `get_color` (หาค่าสี) ครับ"
      ]
    },
    {
      "cell_type": "code",
      "execution_count": null,
      "metadata": {
        "id": "Dln89QzT3805"
      },
      "outputs": [],
      "source": [
        "class Square:\n",
        "    \n",
        "    # คอนสตรักเตอร์\n",
        "    def __init__(self, color, side):\n",
        "        \n",
        "        # กำหนดค่าสี\n",
        "        self.color = color\n",
        "        \n",
        "        # กำหนดความยาวด้าน\n",
        "        self.side = int(side)\n",
        "        \n",
        "    # คำนวณพื้นที่\n",
        "    def area(self):\n",
        "        return self.side ** 2\n",
        "        \n",
        "    # คำนวณเส้นรอบวง\n",
        "    def circumference(self):\n",
        "        return self.side * 4\n",
        "        \n",
        "    # หาค่าสี\n",
        "    def get_color(self):\n",
        "        return self.color"
      ]
    },
    {
      "cell_type": "markdown",
      "metadata": {
        "id": "3U4nmaN-3806"
      },
      "source": [
        "จากนั้นเราจะมาลองสร้างวัตถุจากคลาส `Square` กันดูบ้างครับ"
      ]
    },
    {
      "cell_type": "code",
      "execution_count": null,
      "metadata": {
        "id": "Bd7Lq3fM3806"
      },
      "outputs": [],
      "source": [
        "square1 = Square('red', 10.0)\n",
        "square2 = Square('green', 15.0)\n",
        "square3 = Square('blue', 5.75)"
      ]
    },
    {
      "cell_type": "markdown",
      "metadata": {
        "id": "5I7b-ZdM3807"
      },
      "source": [
        "และมาลองเรียกเมธอดของ `Square` กันดูครับ"
      ]
    },
    {
      "cell_type": "code",
      "execution_count": null,
      "metadata": {
        "id": "_sIzenFW3807"
      },
      "outputs": [
        {
          "name": "stdout",
          "output_type": "stream",
          "text": [
            "Area of square1 = 100\n",
            "Circumference of square2 = 60\n",
            "Color of square3 = blue\n"
          ]
        }
      ],
      "source": [
        "print('Area of square1 =', square1.area())\n",
        "print('Circumference of square2 =', square2.circumference())\n",
        "print('Color of square3 =', square3.get_color())"
      ]
    },
    {
      "cell_type": "markdown",
      "metadata": {
        "id": "ZFy1Zm2E3807"
      },
      "source": [
        "### การถ่ายทอดคุณสมบัติของคลาส (Inheritance)"
      ]
    },
    {
      "cell_type": "markdown",
      "metadata": {
        "id": "gv7wi7TJ3808"
      },
      "source": [
        "- ข้อดีอีกข้อหนึ่งของการสร้างคลาสก็คือ เราสามารถถ่ายทอดคุณสมบัติของคลาสให้กับคลาสลูกหลานได้อีกด้วย\n",
        "\n",
        "- เช่น ถ้าเราสังเกตคลาส `Circle` และ `Square` ให้ดี เราจะพบว่าทั้งสองคลาสนี้มีคุณสมบัติร่วมกันคือ มี `color` (สี) เหมือนกัน และมีเมธอดร่วมกันคือ `get_color` (หาค่าสี)\n",
        "\n",
        "- ที่เป็นเช่นนี้ก็เพราะว่า จริงๆ แล้วคลาส `Circle` (วงกลม) และ `Square` (สี่เหลี่ยมจัตุรัส) ต่างก็เป็นรูปทรงด้วยกันทั้งสิ้น เราจึงมองได้ว่าทั้งสองคลาสนี้เป็นคลาสลูกของคลาส `Shape` ด้วยกันทั้งสิ้น"
      ]
    },
    {
      "cell_type": "code",
      "execution_count": null,
      "metadata": {
        "id": "3jTx8vlO3808"
      },
      "outputs": [],
      "source": [
        "class Shape:\n",
        "    \n",
        "    def __init__(self, color):\n",
        "        self.color = color\n",
        "        \n",
        "    # หาค่าสี\n",
        "    def get_color(self):\n",
        "        return self.color"
      ]
    },
    {
      "cell_type": "markdown",
      "metadata": {
        "id": "7nePQ3sr3809"
      },
      "source": [
        "- หากเราต้องการนิยามคลาสใหม่ให้เป็นคลาสลูก เราสามารถใช้คำสั่ง `class` ได้ตามรูปแบบนี้ครับ\n",
        "```python\n",
        "    class <คลาสลูก> ( <คลาสแม่> ) :\n",
        "        <รายการเมธอด>\n",
        "```\n",
        "\n",
        "- เมื่อเราประกาศคลาสลูกขึ้นมาแล้ว เราจะต้องนิยามคอนสตรักเตอร์ให้เรียกใช้คอนสตรักเตอร์ของคลาสแม่ด้วยครับ\n",
        "\n",
        "- วิธีการเรียกใช้คอนสตรักเตอร์ของคลาสแม่คือใช้คำสั่ง `super(<คลาสลูก>, self).__init__(<พารามิเตอร์สำหรับคลาสแม่>)`\n",
        "\n",
        "- เช่น เราสามารถนิยามคลาส `Circle` ให้เป็นคลาสลูกของ `Shape` ได้ดังนี้"
      ]
    },
    {
      "cell_type": "code",
      "execution_count": null,
      "metadata": {
        "id": "P2IMJhjP3809"
      },
      "outputs": [],
      "source": [
        "class Circle(Shape):\n",
        "    \n",
        "    def __init__(self, color, radius):\n",
        "        \n",
        "        # นี่คือวิธีการเรียกคอนสตรักเตอร์ของคลาสแม่ โดยเราจะต้องป้อนพารามิเตอร์ที่จำเป็นสำหรับคลาสแม่เข้าไปด้วย\n",
        "        super(Circle, self).__init__(color)\n",
        "        \n",
        "        # หลังจากนั้นให้เรากำหนดคุณสมบัติของคลาสลูกตามปกติ\n",
        "        self.radius = radius\n",
        "        \n",
        "    # คำนวณพื้นที่\n",
        "    def area(self):\n",
        "        return pi * self.radius**2\n",
        "    \n",
        "    # คำนวณเส้นรอบวง\n",
        "    def circumference(self):\n",
        "        return 2 * pi * self.radius"
      ]
    },
    {
      "cell_type": "markdown",
      "metadata": {
        "id": "jIRJ4F_A3809"
      },
      "source": [
        "- จะสังเกตว่า คราวนี้เราจะไม่ต้องนิยามฟังก์ชัน `get_color` อีกแล้ว เพราะฟังก์ชันนี้ได้รับการถ่ายทอดมาจากคลาส `Shape` อยู่แล้วนั่นเองครับ"
      ]
    },
    {
      "cell_type": "code",
      "execution_count": null,
      "metadata": {
        "id": "gXtExMAh380-"
      },
      "outputs": [
        {
          "name": "stdout",
          "output_type": "stream",
          "text": [
            "Area = 2827.43334\n",
            "Circumference = 188.495556\n",
            "Color = red\n"
          ]
        }
      ],
      "source": [
        "my_circle = Circle('red', 30.0)\n",
        "print('Area =', my_circle.area())\n",
        "print('Circumference =', my_circle.circumference())\n",
        "print('Color =', my_circle.get_color())"
      ]
    },
    {
      "cell_type": "markdown",
      "metadata": {
        "id": "JHdAzJkd380-"
      },
      "source": [
        "### แบบฝึกหัด 16.2"
      ]
    },
    {
      "cell_type": "markdown",
      "metadata": {
        "id": "C1HP3sva380_"
      },
      "source": [
        "จงออกแบบคลาส `Square` ให้เป็นคลาสลูกของ `Shape` โดยเลียนแบบจากแบบฝึกหัด 16.1"
      ]
    },
    {
      "cell_type": "code",
      "execution_count": null,
      "metadata": {
        "id": "pSxig5_k380_"
      },
      "outputs": [],
      "source": [
        "class Square(Shape):\n",
        "    \n",
        "    def __init__(self, color, side):\n",
        "        \n",
        "        # เรียกใช้คอนสตรักเตอร์ของคลาสแม่ อย่าลืมป้อนพารามิเตอร์ที่จำเป็นเข้าไปด้วย\n",
        "        super().__init__(color)\n",
        "        \n",
        "        # กำหนดคุณสมบัติของคลาสลูกตามปกติ\n",
        "        self.side = int(side)\n",
        "        \n",
        "    # คำนวณพื้นที่\n",
        "    def area(self):\n",
        "        return self.side ** 2\n",
        "        \n",
        "    # คำนวณเส้นรอบวง\n",
        "    def circumference(self):\n",
        "        return self.side * 4"
      ]
    },
    {
      "cell_type": "markdown",
      "metadata": {
        "id": "SqunQRQk381A"
      },
      "source": [
        "อย่าลืมทดสอบนะครับว่า โค้ดนี้ใช้งานได้จริงหรือเปล่า"
      ]
    },
    {
      "cell_type": "code",
      "execution_count": null,
      "metadata": {
        "id": "Kh9Hv0ay381A"
      },
      "outputs": [
        {
          "name": "stdout",
          "output_type": "stream",
          "text": [
            "Area = 100\n",
            "Circumference = 40\n",
            "Color = red\n"
          ]
        }
      ],
      "source": [
        "my_square = Square('red', 10.0)\n",
        "print('Area =', my_square.area())\n",
        "print('Circumference =', my_square.circumference())\n",
        "print('Color =', my_square.get_color())"
      ]
    },
    {
      "cell_type": "markdown",
      "metadata": {
        "id": "sLmlS9ax381A"
      },
      "source": [
        "### แบบฝึกหัด 16.3"
      ]
    },
    {
      "cell_type": "markdown",
      "metadata": {
        "id": "ks11MPA6381B"
      },
      "source": [
        "สมมติว่าเราต้องการออกแบบคลาสสำหรับรีโมทคอนโทรล หน้าที่หลักของรีโมทคอนโทรลคือ เปิด/ปิด อุปกรณ์ไฟฟ้า แต่รีโมทคอนโทรลสำหรับอุปกรณ์ไฟฟ้าแต่ละชนิดก็จะมีหน้าที่เฉพาะแตกต่างกันออกไป เช่น\n",
        "\n",
        "- รีโมทโทรทัศน์ก็จะมีฟังก์ชันสำหรับเปลี่ยนช่อง เพิ่ม/ลดเสียง และปรับสีและความสว่าง\n",
        "\n",
        "- ในขณะที่รีโมทแอร์ก็จะมีฟังก์ชันในการลด/เพิ่มอุณหภูมิ และปรับการสวิงใบพัด เป็นต้น\n",
        "\n",
        "ในโจทย์ข้อนี้ เราจะให้ท่านออกแบบคลาสทั้งหมด 3 คลาสด้วยกัน โดยมีคลาสแม่คือคลาสรีโมทคอนโทรล `RemoteControl` และมีคลาสลูกอีก 2 คลาสคือ คลาสรีโมทโทรทัศน์ `TVRemoteControl` และคลาสรีโมทแอร์ `ACRemoteControl`"
      ]
    },
    {
      "cell_type": "markdown",
      "metadata": {
        "id": "R2lUxq8O381B"
      },
      "source": [
        "#### 16.3.1 คลาสแม่ `RemoteControl`"
      ]
    },
    {
      "cell_type": "markdown",
      "metadata": {
        "id": "AHU0TmfH381B"
      },
      "source": [
        "คลาสแม่สามารถเปิดและปิดสวิตช์ได้ โดยจะสลับค่าของคุณสมบัติ `power`"
      ]
    },
    {
      "cell_type": "code",
      "execution_count": null,
      "metadata": {
        "id": "gQ_UDSlJ381B"
      },
      "outputs": [],
      "source": [
        "class RemoteControl:\n",
        "    \n",
        "    def __init__(self):\n",
        "        \n",
        "        # ปิดสวิตช์ของอุปกรณ์ไฟฟ้าไว้ก่อน\n",
        "        self.power = False\n",
        "        \n",
        "    # สลับสวิตช์เปิด/ปิด\n",
        "    def toggle_power(self):\n",
        "\n",
        "        print(f'Toggle power: {self.power} -> ', end='')\n",
        "        \n",
        "        # สลับค่าของคุณสมบัติ power (คำใบ้: คำสั่ง not)\n",
        "        self.power = not self.power\n",
        "        \n",
        "        print(f'{self.power}')"
      ]
    },
    {
      "cell_type": "markdown",
      "metadata": {
        "id": "bDEzhMZC381C"
      },
      "source": [
        "ทดสอบกันนิดนึงว่า คลาสนี้ใช้ได้หรือเปล่า"
      ]
    },
    {
      "cell_type": "code",
      "execution_count": null,
      "metadata": {
        "id": "9j14jTVr381C"
      },
      "outputs": [
        {
          "name": "stdout",
          "output_type": "stream",
          "text": [
            "Toggle power: False -> True\n",
            "Toggle power: True -> False\n",
            "Toggle power: False -> True\n"
          ]
        }
      ],
      "source": [
        "rctrl = RemoteControl()\n",
        "\n",
        "# ค่าสวิตช์ควรจะสลับไปสลับมา\n",
        "rctrl.toggle_power()\n",
        "rctrl.toggle_power()\n",
        "rctrl.toggle_power()"
      ]
    },
    {
      "cell_type": "markdown",
      "metadata": {
        "id": "CFsn5-Vf381D"
      },
      "source": [
        "#### 16.3.2 คลาสลูก `TVRemoteControl`: รีโมทโทรทัศน์"
      ]
    },
    {
      "cell_type": "markdown",
      "metadata": {
        "id": "iIbpyoVV381D"
      },
      "source": [
        "คลาส `TVRemoteControl` จะเปลี่ยนช่องได้ เพิ่มเสียงได้ และลดเสียงได้ โดย\n",
        "\n",
        "- ช่องจะต้องเป็นจำนวนเต็มตั้งแต่ 1 จนถึง 9 \n",
        "\n",
        "- ระดับเสียงจะมีค่าตั้งแต่ 0 จนถึง 10 หากลดเสียงหรือเพิ่มเสียงจนเกินจากค่านี้ ค่าก็จะไม่เปลี่ยนแปลงอีก"
      ]
    },
    {
      "cell_type": "code",
      "execution_count": null,
      "metadata": {
        "id": "xAyLRl8b381D"
      },
      "outputs": [],
      "source": [
        "class TVRemoteControl(RemoteControl):\n",
        "    \n",
        "    def __init__(self):\n",
        "        \n",
        "        # เรียกคอนสตรักเตอร์ของคลาสแม่\n",
        "        super().__init__()\n",
        "        \n",
        "        # กำหนดคุณสมบัติเฉพาะของคลาสลูก\n",
        "        self.channel = 0\n",
        "        self.volume = 5\n",
        "        \n",
        "    # เปลี่ยนช่องให้เป็นช่องใหม่ที่กำหนด\n",
        "    def change_channel(self, new_channel):\n",
        "        \n",
        "        print(f'Change channel: {self.channel} -> ', end='')\n",
        "        \n",
        "        # เปลี่ยนช่อง โดยช่องจะต้องเป็นจำนวนเต็มอยู่ในช่วง 0 ถึง 9 ไม่เช่นนั้นก็จะไม่เปลี่ยนช่อง\n",
        "        if 0 <= new_channel <= 9:\n",
        "            self.channel = new_channel\n",
        "        \n",
        "        print(f'{self.channel}')\n",
        "        \n",
        "    # เพิ่มเสียง\n",
        "    def increase_volume(self):\n",
        "        \n",
        "        print(f'Increase volume: {self.volume} -> ', end='')\n",
        "        \n",
        "        # เพิ่มเสียง โดยค่าระดับเสียงต้องไม่เกิน 10\n",
        "        if self.volume < 10:\n",
        "            self.volume += 1\n",
        "        \n",
        "        print(f'{self.volume}')\n",
        "        \n",
        "    # ลดเสียง\n",
        "    def decrease_volume(self):\n",
        "        \n",
        "        print(f'Decrease volume: {self.volume} -> ', end='')\n",
        "        \n",
        "        # ลดเสียง โดยค่าระดับเสียงต้องไม่ต่ำกว่า 0\n",
        "        if self.volume > 0:\n",
        "            self.volume -= 1\n",
        "        \n",
        "        print(f'{self.volume}')"
      ]
    },
    {
      "cell_type": "markdown",
      "metadata": {
        "id": "PdYicg9j381E"
      },
      "source": [
        "ทดสอบโค้ดกันหน่อยครับ"
      ]
    },
    {
      "cell_type": "code",
      "execution_count": null,
      "metadata": {
        "id": "IO9dsDtw381E"
      },
      "outputs": [
        {
          "name": "stdout",
          "output_type": "stream",
          "text": [
            "Change channel: 0 -> 1\n",
            "Change channel: 1 -> 2\n",
            "\n",
            "Change channel: 2 -> 2\n",
            "Change channel: 2 -> 2\n",
            "\n",
            "Increase volume: 5 -> 6\n",
            "Increase volume: 6 -> 7\n",
            "Increase volume: 7 -> 8\n",
            "Increase volume: 8 -> 9\n",
            "Increase volume: 9 -> 10\n",
            "Increase volume: 10 -> 10\n",
            "Increase volume: 10 -> 10\n",
            "Increase volume: 10 -> 10\n",
            "Increase volume: 10 -> 10\n",
            "Increase volume: 10 -> 10\n",
            "Increase volume: 10 -> 10\n",
            "\n",
            "Decrease volume: 10 -> 9\n",
            "Decrease volume: 9 -> 8\n",
            "Decrease volume: 8 -> 7\n",
            "Decrease volume: 7 -> 6\n",
            "Decrease volume: 6 -> 5\n",
            "Decrease volume: 5 -> 4\n",
            "Decrease volume: 4 -> 3\n",
            "Decrease volume: 3 -> 2\n",
            "Decrease volume: 2 -> 1\n",
            "Decrease volume: 1 -> 0\n",
            "Decrease volume: 0 -> 0\n"
          ]
        }
      ],
      "source": [
        "tvremote = TVRemoteControl()\n",
        "\n",
        "# ลองเปลี่ยนช่องตามปกติ\n",
        "tvremote.change_channel(1)\n",
        "tvremote.change_channel(2)\n",
        "print()\n",
        "\n",
        "# ลองเปลี่ยนช่องที่เป็นไปไม่ได้ ช่องไม่ควรจะเปลี่ยน\n",
        "tvremote.change_channel(-1)\n",
        "tvremote.change_channel(11)\n",
        "print()\n",
        "\n",
        "# ลองเพิ่มเสียงจนหลุดช่วง ระดับเสียงไม่ควรจะเพิ่มอีก\n",
        "for i in range(11):\n",
        "    tvremote.increase_volume()\n",
        "print()\n",
        "    \n",
        "# ลองลดเสียงไปจนหลุดช่วง ระดับเสียงไม่ควรจะลดอีก\n",
        "for i in range(11):\n",
        "    tvremote.decrease_volume()"
      ]
    },
    {
      "cell_type": "markdown",
      "metadata": {
        "id": "qzGSgQEg381E"
      },
      "source": [
        "#### 16.3.3 คลาสลูก `ACRemoteControl`: รีโมทแอร์"
      ]
    },
    {
      "cell_type": "markdown",
      "metadata": {
        "id": "a7ssLkn7381F"
      },
      "source": [
        "คลาส `ACRemoteControl` จะเพิ่มระดับอุณหภูมิได้ ลดระดับอุณหภูมิได้ และเปิด/ปิดการสวิงใบพัดได้ ทั้งนี้อุณหภูมิจะต้องอยู่ในช่วง 15-35 องศาเซลเซียสเท่านั้น"
      ]
    },
    {
      "cell_type": "code",
      "execution_count": null,
      "metadata": {
        "id": "x9C4WCfr381F"
      },
      "outputs": [],
      "source": [
        "class ACRemoteControl(RemoteControl):\n",
        "    \n",
        "    def __init__(self):\n",
        "        \n",
        "        # เรียกคอนสตรักเตอร์ของคลาสแม่\n",
        "        super().__init__()\n",
        "        \n",
        "        # กำหนดคุณสมบัติเฉพาะของคลาสลูก\n",
        "        self.temperature = 25\n",
        "        self.fan_swing = True\n",
        "        \n",
        "    # เพิ่มอุณหภูมิ\n",
        "    def increase_temperature(self):\n",
        "        \n",
        "        print(f'Increase temperature: {self.temperature} -> ', end='')\n",
        "        \n",
        "        # เพิ่มอุณหภูมิ โดยค่าระดับอุณหภูมิต้องไม่เกิน 35\n",
        "        if self.temperature < 35:\n",
        "            self.temperature += 1\n",
        "        \n",
        "        print(f'{self.temperature}')\n",
        "        \n",
        "    # ลดอุณหภูมิ\n",
        "    def decrease_temperature(self):\n",
        "        \n",
        "        print(f'Decrease temperature: {self.temperature} -> ', end='')\n",
        "        \n",
        "        # ลดอุณหภูมิ โดยค่าระดับเสียงต้องไม่ต่ำกว่า 15\n",
        "        if self.temperature > 15:\n",
        "            self.temperature -= 1\n",
        "        \n",
        "        print(f'{self.temperature}')\n",
        "        \n",
        "    # สลับการเปิด/ปิดสวิงใบพัด\n",
        "    def toggle_fan_swing(self):\n",
        "        \n",
        "        print(f'Toggle fan swing: {self.fan_swing} -> ', end='')\n",
        "        \n",
        "        # สลับการเปิด/ปิดสวิงใบพัด (คำใบ้: คำสั่ง not)\n",
        "        self.fan_swing = not self.fan_swing\n",
        "        \n",
        "        print(f'{self.fan_swing}')"
      ]
    },
    {
      "cell_type": "markdown",
      "metadata": {
        "id": "_dKhcbba381G"
      },
      "source": [
        "ลองทดสอบโค้ดด้านบนดูนะครับ ว่าทำงานได้หรือเปล่า"
      ]
    },
    {
      "cell_type": "code",
      "execution_count": null,
      "metadata": {
        "id": "H1CT6MUW381G"
      },
      "outputs": [
        {
          "name": "stdout",
          "output_type": "stream",
          "text": [
            "Toggle fan swing: True -> False\n",
            "Toggle fan swing: False -> True\n",
            "Toggle fan swing: True -> False\n",
            "\n",
            "Increase temperature: 25 -> 26\n",
            "Increase temperature: 26 -> 27\n",
            "Increase temperature: 27 -> 28\n",
            "Increase temperature: 28 -> 29\n",
            "Increase temperature: 29 -> 30\n",
            "Increase temperature: 30 -> 31\n",
            "Increase temperature: 31 -> 32\n",
            "Increase temperature: 32 -> 33\n",
            "Increase temperature: 33 -> 34\n",
            "Increase temperature: 34 -> 35\n",
            "Increase temperature: 35 -> 35\n",
            "Increase temperature: 35 -> 35\n",
            "\n",
            "Decrease temperature: 20 -> 19\n",
            "Decrease temperature: 19 -> 18\n",
            "Decrease temperature: 18 -> 17\n",
            "Decrease temperature: 17 -> 16\n",
            "Decrease temperature: 16 -> 15\n",
            "Decrease temperature: 15 -> 15\n",
            "Decrease temperature: 15 -> 15\n",
            "Decrease temperature: 15 -> 15\n",
            "Decrease temperature: 15 -> 15\n",
            "Decrease temperature: 15 -> 15\n",
            "Decrease temperature: 15 -> 15\n",
            "Decrease temperature: 15 -> 15\n"
          ]
        }
      ],
      "source": [
        "acremote = ACRemoteControl()\n",
        "\n",
        "# ลองสลับสวิตช์การสวิงพัดลม\n",
        "acremote.toggle_fan_swing()\n",
        "acremote.toggle_fan_swing()\n",
        "acremote.toggle_fan_swing()\n",
        "print()\n",
        "\n",
        "# ลองเพิ่มอุณหภูมิจนหลุดช่วง ระดับอุณหภูมิไม่ควรจะเพิ่มอีก\n",
        "for i in range(12):\n",
        "    acremote.increase_temperature()\n",
        "print()\n",
        "    \n",
        "# ลองลดอุณหภูมิไปจนหลุดช่วง ระดับอุณหภูมิไม่ควรจะลดอีก\n",
        "acremote.temperature = 20\n",
        "for i in range(12):\n",
        "    acremote.decrease_temperature()"
      ]
    },
    {
      "cell_type": "markdown",
      "metadata": {
        "id": "xjFKKIks09Mr"
      },
      "source": [
        "-----"
      ]
    },
    {
      "cell_type": "markdown",
      "metadata": {
        "id": "gFlT0HospJCu"
      },
      "source": [
        "## กิจกรรม 17: การเวียนเกิด (Recursion)"
      ]
    },
    {
      "cell_type": "markdown",
      "metadata": {
        "id": "LiSNVnyKtDB9"
      },
      "source": [
        "### ฟังก์ชันเวียนเกิด (recursive function)"
      ]
    },
    {
      "cell_type": "markdown",
      "metadata": {
        "id": "X1hcr5Q4pbpP"
      },
      "source": [
        "- **ฟังก์ชันเวียนเกิด** (recursive function) คือฟังก์ชันที่มีการเรียกตัวเองซ้ำไปซ้ำมา\n",
        "\n",
        "- เช่น ฟังก์ชันคำนวณค่าแฟคทอเรียล (factorial) $ n! = 1 \\times 2 \\times 3 \\times \\ldots \\times n $ สามารถเขียนให้อยู่ในรูปฟังก์ชันเวียนเกิดได้ดังนี้\n",
        "\n",
        "$$\n",
        "    \\mathrm{factorial}(n) =\n",
        "    \\begin{cases}\n",
        "        n \\times \\mathrm{factorial}(n - 1) & \\textrm{เมื่อ } n > 0 \\\\\n",
        "        1 & \\textrm{มิฉะนั้น}\n",
        "    \\end{cases}\n",
        "$$\n",
        "\n",
        "- ฟังก์ชันเวียนเกิดจะมีองค์ประกอบ 2 ส่วน คือ\n",
        "  1. **ส่วนเวียนเกิด** (recursive part) เป็นส่วนของฟังก์ชันที่มีการเรียกตัวเองซ้ำ\n",
        "  2. **เงื่อนไขการหยุดทำงาน** (termination condition) เป็นเงื่อนไขที่ทำให้ฟังก์ชันเวียนเกิดหยุดทำงาน ในส่วนนี้จะไม่มีการเรียกตัวเองซ้ำอีก\n",
        "\n",
        "- ยกตัวอย่างเช่น เวลาที่เราจะคำนวณค่า $ \\mathrm{factorial}(5) $ เราจะทำตามส่วนเวียนเกิดและเงื่อนไขการหยุดทำงานดังต่อไปนี้\n",
        "\n",
        "$$\n",
        "    \\mathrm{factorial}(5) = 5 \\times \\mathrm{factorial}(4) \\\\\n",
        "    = 5 \\times 4 \\times \\mathrm{factorial}(3) \\\\\n",
        "    = 5 \\times 4 \\times 3 \\times \\mathrm{factorial}(2) \\\\\n",
        "    = 5 \\times 4 \\times 3 \\times 2 \\times \\mathrm{factorial}(1) \\\\\n",
        "    = 5 \\times 4 \\times 3 \\times 2 \\times 1 \\times \\underline{\\mathrm{factorial}(0)} \\\\\n",
        "    = 5 \\times 4 \\times 3 \\times 2 \\times 1 \\times 1\n",
        "$$"
      ]
    },
    {
      "cell_type": "markdown",
      "metadata": {
        "id": "qe9WGAkbr3oo"
      },
      "source": [
        "- ฟังก์ชันแฟคทอเรียลนี้สามารถเขียนเป็นโปรแกรมภาษา Python ได้ดังนี้"
      ]
    },
    {
      "cell_type": "code",
      "execution_count": null,
      "metadata": {
        "id": "tW2KgN6fqRLN"
      },
      "outputs": [],
      "source": [
        "# ฟังก์ชันแฟคทอเรียล\n",
        "def factorial(n):\n",
        "    # เงื่อนไขการหยุดทำงาน\n",
        "    if n == 0:\n",
        "        return 1\n",
        "    # ส่วนเวียนเกิด\n",
        "    else:\n",
        "        return n * factorial(n - 1)     # สังเกตว่าจะมีการเรียกฟังก์ชัน factorial ซ้ำที่ตรงนี้"
      ]
    },
    {
      "cell_type": "code",
      "execution_count": null,
      "metadata": {
        "id": "pRVHcYbFqbHo"
      },
      "outputs": [
        {
          "data": {
            "text/plain": [
              "3628800"
            ]
          },
          "execution_count": 215,
          "metadata": {},
          "output_type": "execute_result"
        }
      ],
      "source": [
        "factorial(10)"
      ]
    },
    {
      "cell_type": "markdown",
      "metadata": {
        "id": "J7VCcgdks7Gq"
      },
      "source": [
        "### การจดจำรายทาง (memoization)"
      ]
    },
    {
      "cell_type": "markdown",
      "metadata": {
        "id": "blOTJddutPDc"
      },
      "source": [
        "- ในบางครั้งการคำนวณฟังก์ชันเวียนเกิดจะมีสิ่งที่ต้องคำนวณซ้ำกันด้วย\n",
        "\n",
        "- เช่น อนุกรมของฟิโบนัชชีจะเป็นดังนี้ครับ\n",
        "$$\n",
        "0, 1, 1, 2, 3, 5, 8, 13, 21, \\ldots\n",
        "$$\n",
        "โดยตัวเลขถัดไปจะเกิดจากการเอาตัวเลข 2 ตัวก่อนหน้ามาบวกกัน\n",
        "\n",
        "- ฟังก์ชัน Fibonacci (ฟิโบนัชชี) จะมีนิยามดังนี้ครับ\n",
        "\n",
        "$$\n",
        "    \\mathrm{fibonacci}(n) =\n",
        "    \\begin{cases}\n",
        "        \\mathrm{fibonacci}(n - 1) + \\mathrm{fibonacci}(n - 2) & n > 1 \\\\\n",
        "        0 & n = 0 \\\\\n",
        "        1 & n = 1\n",
        "    \\end{cases}\n",
        "$$\n",
        "\n",
        "- สมมติว่า เราจะคำนวณค่า $ \\mathrm{fibonacci}(4) $ เราจะต้องทำดังนี้\n",
        "\n",
        "$$\n",
        "    \\mathrm{fibonacci}(4) = \\mathrm{fibonacci}(3) + \\mathrm{fibonacci}(2) \\\\\n",
        "    = \\left[ \\mathrm{fibonacci}(2) + \\mathrm{fibonacci}(1) \\right] + \\left[ \\mathrm{fibonacci}(0) + \\mathrm{fibonacci}(1) \\right] \\\\\n",
        "    = \\left[ \\left[ \\mathrm{fibonacci}(1) + \\mathrm{fibonacci}(0) \\right] + \\mathrm{fibonacci}(1) \\right] + \\left[ \\mathrm{fibonacci}(0) + \\mathrm{fibonacci}(1) \\right] \\\\\n",
        "    = ((1 + 0) + 1) + (0 + 1) \\\\\n",
        "    = 3\n",
        "$$\n",
        "\n",
        "- ฟังก์ชันฟิโบนัชชีสามารถเขียนด้วย Python ได้ดังนี้ครับ"
      ]
    },
    {
      "cell_type": "code",
      "execution_count": null,
      "metadata": {
        "id": "2YfzCO5kvZTL"
      },
      "outputs": [],
      "source": [
        "def fibonacci(n):\n",
        "    if n == 0 or n == 1:\n",
        "        return n\n",
        "    else:\n",
        "        return fibonacci(n - 1) + fibonacci(n - 2)"
      ]
    },
    {
      "cell_type": "code",
      "execution_count": null,
      "metadata": {
        "id": "-qEwEuaZvgoi"
      },
      "outputs": [
        {
          "data": {
            "text/plain": [
              "3"
            ]
          },
          "execution_count": 217,
          "metadata": {},
          "output_type": "execute_result"
        }
      ],
      "source": [
        "fibonacci(4)"
      ]
    },
    {
      "cell_type": "markdown",
      "metadata": {
        "id": "wKRKRxHPvk8-"
      },
      "source": [
        "- อย่างไรก็ตาม ในการคำนวณค่า $\\mathrm{fibonacci}(4)$ เราต้องคำนวณค่าของ $ \\mathrm{fibonacci}(2) $ ซ้ำสองรอบ\n",
        "\n",
        "- เราไม่จำเป็นต้องคำนวณสิ่งที่เคยคำนวณไปแล้วก็ได้ครับ เราควรจะบันทึกสิ่งที่เราเคยคำนวณไว้แล้วเก็บไว้ในหน่วยความจำ เราเรียกกระบวนการนี้ว่า **การจดจำรายทาง** (memoization)\n",
        "\n",
        "- ในตัวอย่างด้านล่างนี้เราใช้การจดจำรายทางคำตอบของฟังก์ชันฟิโบนัชชีด้วยการเก็บลงดิกชันนารีครับ"
      ]
    },
    {
      "cell_type": "code",
      "execution_count": null,
      "metadata": {
        "id": "kzjjIMaswFjF"
      },
      "outputs": [],
      "source": [
        "fibonacci_memory = {}\n",
        "\n",
        "def fibonacci_memo(n):\n",
        "    if n not in fibonacci_memory:\n",
        "        if n == 0 or n == 1:\n",
        "            fibonacci_memory[n] = n\n",
        "        else:\n",
        "            fibonacci_memory[n] = fibonacci_memo(n - 1) + fibonacci_memo(n - 2)\n",
        "    return fibonacci_memory[n]"
      ]
    },
    {
      "cell_type": "code",
      "execution_count": null,
      "metadata": {
        "id": "KJWvu0RQwqjc"
      },
      "outputs": [
        {
          "data": {
            "text/plain": [
              "3"
            ]
          },
          "execution_count": 219,
          "metadata": {},
          "output_type": "execute_result"
        }
      ],
      "source": [
        "fibonacci_memo(4)"
      ]
    },
    {
      "cell_type": "code",
      "execution_count": null,
      "metadata": {
        "id": "gAQ-sMjRwx4F"
      },
      "outputs": [
        {
          "data": {
            "text/plain": [
              "43466557686937456435688527675040625802564660517371780402481729089536555417949051890403879840079255169295922593080322634775209689623239873322471161642996440906533187938298969649928516003704476137795166849228875"
            ]
          },
          "execution_count": 223,
          "metadata": {},
          "output_type": "execute_result"
        }
      ],
      "source": [
        "fibonacci_memo(1000)"
      ]
    },
    {
      "cell_type": "code",
      "execution_count": null,
      "metadata": {},
      "outputs": [
        {
          "name": "stdout",
          "output_type": "stream",
          "text": [
            "0\n",
            "1\n",
            "1\n",
            "2\n",
            "3\n",
            "5\n"
          ]
        }
      ],
      "source": [
        "fibonacci_memory.clear()\n",
        "for i in range(len(fibonacci_memory)):\n",
        "    print(fibonacci_memory[i])\n",
        "fibonacci_memo(5)\n",
        "for i in range(len(fibonacci_memory)):\n",
        "    print(fibonacci_memory[i])"
      ]
    },
    {
      "cell_type": "markdown",
      "metadata": {
        "id": "4UugmDqRw7S1"
      },
      "source": [
        "- การจดจำรายทางจะช่วยให้เราสามารถคำนวณฟังก์ชันเวียนเกิดได้รวดเร็วขึ้นมากครับ"
      ]
    },
    {
      "cell_type": "markdown",
      "metadata": {
        "id": "cCUoR0iIpU5P"
      },
      "source": [
        "-----"
      ]
    },
    {
      "cell_type": "markdown",
      "metadata": {
        "id": "_2zvYcUr06Wa"
      },
      "source": [
        "## กิจกรรม 18: โจทย์เสริมทักษะ"
      ]
    },
    {
      "cell_type": "markdown",
      "metadata": {
        "id": "yeVvNGsZ1DQC"
      },
      "source": [
        "1. จงเขียนโปรแกรมที่คำนวณตัวเลข Fibonacci $ F(n) $ ซึ่งเป็นตามนิยามต่อไปนี้\n",
        "$$\n",
        "    F(n) =\n",
        "    \\begin{cases}\n",
        "        F(n - 1) + F(n - 2) & n \\geq 2 \\\\\n",
        "        n &  \\\\\n",
        "    \\end{cases}\n",
        "$$\n",
        "แล้วทดลองพิมพ์ค่าของ $F(5)$ ออกมา\n",
        "\n",
        "<u>**คำใบ้:**</u> ขอแนะนำให้ใช้การจดจำรายทาง (memoization) เพื่อความรวดเร็วในการคำนวณ"
      ]
    },
    {
      "cell_type": "code",
      "execution_count": null,
      "metadata": {
        "id": "MxxjCN7-2eCV"
      },
      "outputs": [],
      "source": [
        "memory_fibonacci = {}    # สำหรับท่านที่เลือกใช้วิธีการจดจำรายทาง (memoization)\n",
        "\n",
        "def fibonacci(n):\n",
        "    if n not in memory_fibonacci:\n",
        "        if n == 0 or n == 1:\n",
        "            memory_fibonacci[n] = n\n",
        "        else:\n",
        "            memory_fibonacci[n] = fibonacci(n - 1) + fibonacci(n - 2)\n",
        "    # print(memory_fibonacci)\n",
        "    return memory_fibonacci[n]"
      ]
    },
    {
      "cell_type": "code",
      "execution_count": null,
      "metadata": {
        "id": "Vt5MfFEw381I"
      },
      "outputs": [
        {
          "data": {
            "text/plain": [
              "34"
            ]
          },
          "execution_count": 234,
          "metadata": {},
          "output_type": "execute_result"
        }
      ],
      "source": [
        "fibonacci(9)"
      ]
    },
    {
      "cell_type": "markdown",
      "metadata": {
        "id": "0hd-htWv2fwG"
      },
      "source": [
        "2. จงเขียนโปรแกรมเพื่อคำนวณฟังก์ชันของ Ackermann $ A(m, n) $ เมื่อ\n",
        "$$\n",
        "    A(m, n) =\n",
        "    \\begin{cases}\n",
        "        n + 1 & \\textrm{เมื่อ } m = 0 \\\\\n",
        "        A(m - 1, 1) & \\textrm{เมื่อ } m > 0 \\textrm{ และ } n = 0 \\\\\n",
        "        A(m - 1, A(m, n - 1)) & \\textrm{มิฉะนั้น}\n",
        "    \\end{cases}\n",
        "$$\n",
        "แล้วทดลองพิมพ์ค่าของ $A(1, 2)$ ออกมา\n",
        "\n",
        "<u>**คำใบ้:**</u> ขอแนะนำให้ใช้การจดจำรายทาง (memoization) เพื่อความรวดเร็วในการคำนวณ"
      ]
    },
    {
      "cell_type": "code",
      "execution_count": null,
      "metadata": {
        "id": "09VgzGxf3Ukh"
      },
      "outputs": [],
      "source": [
        "memory_ackermann = {}    # สำหรับท่านที่เลือกใช้วิธีการจดจำรายทาง (memoization)\n",
        "\n",
        "def ackermann(m, n):\n",
        "    if (m, n) not in memory_ackermann:\n",
        "        if m == 0:\n",
        "            memory_ackermann[(m, n)] = n + 1\n",
        "        elif m > 0 and n == 0:\n",
        "            memory_ackermann[(m, n)] = ackermann(m - 1, 1)\n",
        "        elif m > 0 and n > 0:\n",
        "            memory_ackermann[(m, n)] = ackermann(m - 1, ackermann(m, n - 1))\n",
        "    # print(memory_ackermann)\n",
        "    return memory_ackermann[(m, n)]"
      ]
    },
    {
      "cell_type": "code",
      "execution_count": null,
      "metadata": {
        "id": "lhY0qLEf381L"
      },
      "outputs": [
        {
          "data": {
            "text/plain": [
              "253"
            ]
          },
          "execution_count": 243,
          "metadata": {},
          "output_type": "execute_result"
        }
      ],
      "source": [
        "ackermann(3, 5)"
      ]
    },
    {
      "cell_type": "markdown",
      "metadata": {
        "id": "Je2Menr9381M"
      },
      "source": [
        "3. จงเขียนโปรแกรมเพื่อหาความถี่ของตัวอักษรแต่ละตัวที่อยู่ในสตริง `gettysburg_address`"
      ]
    },
    {
      "cell_type": "code",
      "execution_count": null,
      "metadata": {
        "id": "_gcojsLW381M"
      },
      "outputs": [
        {
          "name": "stdout",
          "output_type": "stream",
          "text": [
            "{'F': 1, 'o': 93, 'u': 21, 'r': 79, ' ': 277, 's': 44, 'c': 31, 'e': 165, 'a': 102, 'n': 76, 'd': 58, 'v': 24, 'y': 10, 'g': 27, 'f': 26, 't': 124, 'h': 80, 'b': 13, 'i': 65, ',': 22, 'w': 26, 'L': 1, 'p': 15, 'l': 41, 'm': 13, 'q': 1, '.': 10, 'N': 1, 'W': 2, '-': 15, 'I': 3, 'B': 1, 'T': 2, 'k': 3, 'G': 1}\n"
          ]
        }
      ],
      "source": [
        "gettysburg_address = 'Four score and seven years ago our fathers brought forth on this continent, a new nation, conceived in Liberty, and dedicated to the proposition that all men are created equal. Now we are engaged in a great civil war, testing whether that nation, or any nation so conceived and so dedicated, can long endure. We are met on a great battle-field of that war. We have come to dedicate a portion of that field, as a final resting place for those who here gave their lives that that nation might live. It is altogether fitting and proper that we should do this. But, in a larger sense, we can not dedicate -- we can not consecrate -- we can not hallow -- this ground. The brave men, living and dead, who struggled here, have consecrated it, far above our poor power to add or detract. The world will little note, nor long remember what we say here, but it can never forget what they did here. It is for us the living, rather, to be dedicated here to the unfinished work which they who fought here have thus far so nobly advanced. It is rather for us to be here dedicated to the great task remaining before us -- that from these honored dead we take increased devotion to that cause for which they gave the last full measure of devotion -- that we here highly resolve that these dead shall not have died in vain -- that this nation, under God, shall have a new birth of freedom -- and that government of the people, by the people, for the people, shall not perish from the earth.'\n",
        "charfreq = {}\n",
        "\n",
        "# นับความถี่ของแต่ละตัวอักษร เก็บค่าความถี่ลงในดิกชันนารี charfreq\n",
        "for char in gettysburg_address:\n",
        "    if char not in charfreq:\n",
        "        charfreq[char] = 1\n",
        "    else:\n",
        "        charfreq[char] += 1\n",
        "\n",
        "# พิมพ์ดิกชันนารีนั้นออกหน้าจอ\n",
        "print(charfreq)"
      ]
    },
    {
      "cell_type": "markdown",
      "metadata": {
        "id": "gLukR21I381N"
      },
      "source": [
        "4. ถ้าวันที่ 23 ธันวาคม 2018 เป็นวันเสาร์ จงเขียนโปรแกรมเพื่อรับวันที่ 2 ชุดในรูปแบบของ ddmmyyyy (เช่น `23122018` สำหรับวันที่ 23 ธันวาคม 2018) แล้วคำนวณว่าในระหว่างนั้นมีวันเสาร์กี่วัน\n",
        "  - คำใบ้ 1: อย่าลืมคำนึงถึงปีอธิกสุรทิน (leap year) ซึ่งเป็นปีที่มี 366 วันด้วย\n",
        "  - คำใบ้ 2: ปีอธิกสุรทินคือปี ค.ศ. ที่หาร 4 ลงตัว แต่หาร 100 ไม่ลงตัว\n",
        "  - คำใบ้ 3: การตรวจสอบว่าหารลงตัวหรือไม่ ให้ใช้ตัวดำเนินการคณิตศาสตร์ `%` (modulo) เช่น `4 % 3 = 1` ในขณะที่ `4 % 2 = 0` เป็นต้น"
      ]
    },
    {
      "cell_type": "code",
      "execution_count": 21,
      "metadata": {
        "id": "kopUu9rs381O"
      },
      "outputs": [
        {
          "name": "stdout",
          "output_type": "stream",
          "text": [
            "104\n"
          ]
        }
      ],
      "source": [
        "import datetime\n",
        "import math\n",
        "from_date=\"20122018\"\n",
        "to_date=\"23122020\"\n",
        "\n",
        "def calc_number_of_saturdays(fromdate, todate):\n",
        "  index_date=\"23122018\"\n",
        "  date0=datetime.datetime.strptime(index_date, \"%d%m%Y\")\n",
        "  date1=datetime.datetime.strptime(from_date, \"%d%m%Y\")\n",
        "  date2=datetime.datetime.strptime(to_date, \"%d%m%Y\")\n",
        "  return (abs((date0-date1).days)+abs((date0-date2).days))//7\n",
        "print(calc_number_of_saturdays(from_date, to_date))"
      ]
    },
    {
      "cell_type": "markdown",
      "metadata": {
        "id": "PlCSVGzl381P"
      },
      "source": [
        "5. สมมติว่ามีแผนที่เขาวงกตซึ่งเขียนอยู่ในรูปของ list ของ list ซึ่งมีรูปร่างเป็นสี่เหลี่ยมผืนผ้าหรือสี่เหลี่ยมจัตุรัส เช่น\n",
        "```python\n",
        "    chaosmap1 = [\n",
        "        '*******',\n",
        "        '*     *',\n",
        "        '* *** *',\n",
        "        '* *** *',\n",
        "        '* *** *',\n",
        "        '*S***G*'\n",
        "    ]\n",
        "```\n",
        "my answer = \n",
        "\n",
        "(5, 1)\n",
        "(4, 1)\n",
        "(3, 1)\n",
        "(2, 1)\n",
        "(1, 1)\n",
        "(1, 2)\n",
        "(1, 3)\n",
        "(1, 4)\n",
        "(1, 5)\n",
        "(2, 5)\n",
        "(3, 5)\n",
        "(4, 5)\n",
        "(5, 5)\n",
        "\n",
        "โดยตัวอักษรแต่ละตัวจะมีความหมายดังนี้\n",
        "  - ` ` แทนเส้นทางที่เดินได้\n",
        "  - `*` แทนเส้นทางที่เดินไปไม่ได้\n",
        "  - `S` แทนจุดเริ่มต้น (start)\n",
        "  - `G` แทนจุดเส้นชัย (goal)\n",
        "\n",
        "ให้เขียนโปรแกรมเพื่อหา<u>**เส้นทางที่สั้นที่สุด**</u> จากจุดเริ่มต้นไปยังเส้นชัย เช่น เส้นทางสั้นที่สุดของ `chaosmap1` จะเป็นดังนี้\n",
        "```\n",
        "    Route:\n",
        "    (5, 1) <START>\n",
        "    (4, 1)\n",
        "    (3, 1)\n",
        "    (2, 1)\n",
        "    (1, 1)\n",
        "    (1, 1)\n",
        "    (1, 2)\n",
        "    (1, 3)\n",
        "    (1, 4)\n",
        "    (1, 5)\n",
        "    (2, 5)\n",
        "    (3, 5)\n",
        "    (4, 5)\n",
        "    (5, 5) <GOAL>\n",
        "```\n",
        "\n",
        "<u>**คำใบ้:**</u> ขอแนะนำให้ใช้วิธีการจดจำรายทาง (memoization) เพื่อความรวดเร็วในการคำนวณ"
      ]
    },
    {
      "cell_type": "code",
      "execution_count": 105,
      "metadata": {},
      "outputs": [],
      "source": [
        "chaosmap1 = [\n",
        "    '*******',\n",
        "    '*     *',\n",
        "    '* *** *',\n",
        "    '* *** *',\n",
        "    '* *** *',\n",
        "    '*S***G*'\n",
        " ]\n",
        "\n",
        "chaosmap2 = [\n",
        "    '*************S*******',\n",
        "    '*             *     *',\n",
        "    '* * *** ******* * * *',\n",
        "    '* * *   *       * * *',\n",
        "    '* * ***** ******* * *',\n",
        "    '* *     *   *   * * *',\n",
        "    '******* *** * *** ***',\n",
        "    '*         * *   *   *',\n",
        "    '* * ******* * * *** *',\n",
        "    '* * *       * * *   *',\n",
        "    '* *** ********* * * *',\n",
        "    '*   *           * * *',\n",
        "    '* * *** ********* * *',\n",
        "    '* *   * *       * * *',\n",
        "    '*** * * * ***** * ***',\n",
        "    '*   * * * *   * *   *',\n",
        "    '* ***** * * *** *** *',\n",
        "    '*       * * *   *   *',\n",
        "    '* ******* * * *** * *',\n",
        "    '*   *     *       * *',\n",
        "    '*****G***************'\n",
        "]\n"
      ]
    },
    {
      "cell_type": "code",
      "execution_count": 106,
      "metadata": {
        "id": "Dc-KGo_J381P"
      },
      "outputs": [],
      "source": [
        "\n",
        "memory_traverse = {}\n",
        "best_path = []\n",
        "\n",
        "# A* search algorithm\n",
        "def traverse(chaosmap, show_result=True):\n",
        "    memory_traverse.clear()\n",
        "    best_path.clear()\n",
        "    start_pos = None\n",
        "    goal_pos = None\n",
        "    for y in range(len(chaosmap)):\n",
        "        for x in range(len(chaosmap[y])):\n",
        "            if chaosmap[y][x] == 'S':\n",
        "                start_pos = (x, y)\n",
        "                memory_traverse[(x, y)] = 0\n",
        "            elif chaosmap[y][x] == 'G':\n",
        "                goal_pos = (x, y)\n",
        "    if start_pos is None or goal_pos is None:\n",
        "        return False\n",
        "    queues = []\n",
        "    queues.append(start_pos)\n",
        "    while len(queues) > 0:\n",
        "        cur_pos = queues.pop(0)\n",
        "        if cur_pos == goal_pos:\n",
        "            break\n",
        "        for direction in [(-1, 0), (1, 0), (0, -1), (0, 1)]:\n",
        "            new_pos = (cur_pos[0] + direction[0], cur_pos[1] + direction[1])\n",
        "            if new_pos[0] < 0 or new_pos[0] >= len(chaosmap[0]) or new_pos[1] < 0 or new_pos[1] >= len(chaosmap):\n",
        "                continue\n",
        "            if chaosmap[new_pos[1]][new_pos[0]] == '*':\n",
        "                continue\n",
        "            if new_pos in memory_traverse:\n",
        "                continue\n",
        "            memory_traverse[new_pos] = memory_traverse[cur_pos] + 1\n",
        "            queues.append(new_pos)\n",
        "    # select best path in memory_traverse\n",
        "    cur_pos = goal_pos\n",
        "    while cur_pos != start_pos:\n",
        "        best_path.append(cur_pos)\n",
        "        for direction in [(-1, 0), (1, 0), (0, -1), (0, 1)]:\n",
        "            new_pos = (cur_pos[0] + direction[0], cur_pos[1] + direction[1])\n",
        "            if new_pos in memory_traverse and memory_traverse[new_pos] == memory_traverse[cur_pos] - 1:\n",
        "                cur_pos = new_pos\n",
        "                break\n",
        "    best_path.append(start_pos)\n",
        "    best_path.reverse()\n",
        "    show_result and print('Route:\\n'+'\\n'.join([f'{str((x, y))}{\" <START>\" if best_path.index((x,y)) == 0 else \"\"}{\" <GOAL>\" if best_path.index((x,y)) == len(best_path) - 1 else \"\"}' for x, y in best_path]))\n",
        "\n",
        "class Checker:\n",
        "    \"\"\"\n",
        "    Checking if the path is valid\n",
        "    \"\"\"\n",
        "    def __init__(self, **kwargs) -> None:\n",
        "        \"\"\"Initialize the checker\"\"\"\n",
        "        self.name = kwargs.get('name', 'Untitled')\n",
        "        self.chaosmap = kwargs.get('chaosmap', [])\n",
        "        self.memory_traverse = kwargs.get('memory_traverse', {})\n",
        "        self.best_path = kwargs.get('best_path', [])\n",
        "        self.wall = '*'\n",
        "        self.start = 'S'\n",
        "        self.goal = 'G'\n",
        "        self.walkpath = ' '\n",
        "        self.draw_wall = '████'\n",
        "        self.draw_walkpath = '    '\n",
        "        self.draw_walkpath_walked = '░░░░'\n",
        "        self.draw_start = 'SSSS'\n",
        "        self.draw_goal = 'GGGG'\n",
        "        self.width = len(self.draw_wall)\n",
        "    def __str__(self) -> str:\n",
        "        \"\"\"Return visualized chaosmap without any path.\n",
        "\n",
        "        Returns:\n",
        "            str: visualized chaosmap without any path.\n",
        "        \"\"\"\n",
        "        return self.__draw()\n",
        "    def __draw(self, **kwargs) -> str:\n",
        "        \"\"\"Return visualized chaosmap with path.\n",
        "        \n",
        "        Args:\n",
        "            **kwargs:\n",
        "                path (list): Best path list.\n",
        "                start (tuple): start character marker.\n",
        "                goal (tuple): goal character marker.\n",
        "                wall (str): wall character maker.\n",
        "                walkpath (str): walkpath character marker.\n",
        "                draw_wall (str): wall character to be show when needed.\n",
        "                draw_walkpath (str): walkpath character to be show when needed.\n",
        "                draw_start (str): start character to be show when needed.\n",
        "                draw_goal (str): goal character to be show when needed.\n",
        "                blank (str): show instead of unknown charater.\n",
        "        Returns:\n",
        "            str: visualized chaosmap with path customized.\n",
        "        \"\"\"\n",
        "        wall = kwargs.get('wall', self.wall)\n",
        "        draw_wall = kwargs.get('draw_wall', self.draw_wall)\n",
        "        start = kwargs.get('start', self.start)\n",
        "        draw_start = kwargs.get('draw_start', self.draw_start)\n",
        "        goal = kwargs.get('goal', self.goal)\n",
        "        draw_goal = kwargs.get('draw_goal', self.draw_goal)\n",
        "        walkpath = kwargs.get('walkpath', self.walkpath)\n",
        "        draw_walkpath = kwargs.get('draw_walkpath', self.draw_walkpath)\n",
        "        draw_walkpath_walked = kwargs.get('draw_walkpath_walked', self.draw_walkpath_walked)\n",
        "        blank = kwargs.get('blank', '    ')\n",
        "        ret = f'Name: {self.name}\\n' + ''.join([f'{str(num):^4}' for num in range(len(self.chaosmap[0]))] + ['\\n'])\n",
        "        for y in range(len(self.chaosmap)):\n",
        "            for x in range(len(self.chaosmap[y])):\n",
        "                curr_char = self.chaosmap[y][x]\n",
        "                coord = {'x': x, 'y': y, 'step': self.memory_traverse[(x, y)] if (x,y) in self.memory_traverse else 0}\n",
        "                if (x, y) in self.best_path and self.chaosmap[y][x] not in [wall, start, goal]:\n",
        "                    ret += draw_walkpath_walked.format_map(coord)\n",
        "                elif curr_char == wall:\n",
        "                    ret += draw_wall.format_map(coord)\n",
        "                elif curr_char == start:\n",
        "                    ret += draw_start.format_map(coord)\n",
        "                elif curr_char == goal:\n",
        "                    ret += draw_goal.format_map(coord)\n",
        "                elif curr_char == walkpath:\n",
        "                    ret += draw_walkpath.format_map(coord)\n",
        "                else:\n",
        "                    ret += blank.format_map(coord)\n",
        "            ret += f'{y:^4}' + '\\n'\n",
        "        return ret\n",
        "    def draw_trace(self,**kwargs) -> None:\n",
        "        print(self.__draw(draw_walkpath_walked='{step:>4}', draw_walkpath='    '))\n",
        "    def draw(self):\n",
        "        print(self.__draw())"
      ]
    },
    {
      "cell_type": "code",
      "execution_count": 107,
      "metadata": {},
      "outputs": [
        {
          "name": "stdout",
          "output_type": "stream",
          "text": [
            "Name: Random Maze\n",
            " 0   1   2   3   4   5   6   7   8   9   10  11  12  13  14  15  16  17  18  19  20 \n",
            "//////////////////////////////////////////////////// SS //////////////////////////// 0  \n",
            "////        ░░░░░░░░░░░░░░░░░░░░░░░░░░░░░░░░░░░░░░░░░░░░////░░░░░░░░░░░░        //// 1  \n",
            "////    ////░░░░////////////    ////////////////////////////░░░░////░░░░////    //// 2  \n",
            "////    ////░░░░////            ////░░░░░░░░░░░░░░░░░░░░░░░░░░░░////░░░░////    //// 3  \n",
            "////    ////░░░░////////////////////░░░░////////////////////////////░░░░////    //// 4  \n",
            "////    ////░░░░░░░░░░░░░░░░░░░░////░░░░░░░░░░░░////            ////░░░░////    //// 5  \n",
            "////////////////////////////░░░░////////////░░░░////    ////////////░░░░//////////// 6  \n",
            "////░░░░░░░░░░░░░░░░░░░░░░░░░░░░        ////░░░░////            ////░░░░░░░░░░░░//// 7  \n",
            "////░░░░////    ////////////////////////////░░░░////    ////    ////////////░░░░//// 8  \n",
            "////░░░░////    ////░░░░░░░░░░░░░░░░░░░░░░░░░░░░////    ////    ////░░░░░░░░░░░░//// 9  \n",
            "////░░░░////////////░░░░////////////////////////////////////    ////░░░░////    //// 10 \n",
            "////░░░░░░░░░░░░////░░░░░░░░░░░░                                ////░░░░////    //// 11 \n",
            "////    ////░░░░////////////░░░░////////////////////////////////////░░░░////    //// 12 \n",
            "////    ////░░░░        ////░░░░////░░░░░░░░░░░░░░░░░░░░░░░░░░░░////░░░░////    //// 13 \n",
            "////////////░░░░////    ////░░░░////░░░░////////////////////░░░░////░░░░//////////// 14 \n",
            "////░░░░░░░░░░░░////    ////░░░░////░░░░////            ////░░░░////░░░░░░░░░░░░//// 15 \n",
            "////░░░░////////////////////░░░░////░░░░////    ////////////░░░░////////////░░░░//// 16 \n",
            "////░░░░░░░░░░░░░░░░░░░░░░░░░░░░////░░░░////    ////░░░░░░░░░░░░////░░░░░░░░░░░░//// 17 \n",
            "////    ////////////////////////////░░░░////    ////░░░░////////////░░░░////    //// 18 \n",
            "////            ////░░░░░░░░░░░░░░░░░░░░////        ░░░░░░░░░░░░░░░░░░░░////    //// 19 \n",
            "//////////////////// GG //////////////////////////////////////////////////////////// 20 \n",
            "\n"
          ]
        }
      ],
      "source": [
        "_maze = chaosmap2\n",
        "checking = {\n",
        "    'name': 'Random Maze',\n",
        "    'chaosmap': _maze,\n",
        "    'memory_traverse': memory_traverse,\n",
        "    'best_path': best_path,\n",
        "}\n",
        "traverse(_maze, show_result=False)\n",
        "map = Checker(**checking)\n",
        "map.draw_walkpath_walked = '░░░░'\n",
        "map.draw_walkpath = '    '\n",
        "map.draw_goal = ' GG '\n",
        "map.draw_start = ' SS '\n",
        "map.draw_wall = '////'\n",
        "map.draw()"
      ]
    }
  ],
  "metadata": {
    "colab": {
      "collapsed_sections": [],
      "name": "Advanced Data Structures in Python (Thai).ipynb",
      "provenance": []
    },
    "kernelspec": {
      "display_name": "Python 3",
      "language": "python",
      "name": "python3"
    },
    "language_info": {
      "codemirror_mode": {
        "name": "ipython",
        "version": 3
      },
      "file_extension": ".py",
      "mimetype": "text/x-python",
      "name": "python",
      "nbconvert_exporter": "python",
      "pygments_lexer": "ipython3",
      "version": "3.8.10"
    }
  },
  "nbformat": 4,
  "nbformat_minor": 0
}
