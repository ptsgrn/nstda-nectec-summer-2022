{
  "nbformat": 4,
  "nbformat_minor": 0,
  "metadata": {
    "colab": {
      "name": "Man-wikidata-lab01.ipynb",
      "provenance": [],
      "collapsed_sections": [],
      "authorship_tag": "ABX9TyMBN3WC5geyKxewIVf38p4+",
      "include_colab_link": true
    },
    "kernelspec": {
      "name": "python3",
      "display_name": "Python 3"
    },
    "language_info": {
      "name": "python"
    }
  },
  "cells": [
    {
      "cell_type": "markdown",
      "metadata": {
        "id": "view-in-github",
        "colab_type": "text"
      },
      "source": [
        "<a href=\"https://colab.research.google.com/github/ptsgrn/nstda-nectec-summer-2022/blob/main/labs/Man_wikidata_lab01.ipynb\" target=\"_parent\"><img src=\"https://colab.research.google.com/assets/colab-badge.svg\" alt=\"Open In Colab\"/></a>"
      ]
    },
    {
      "cell_type": "code",
      "source": [
        "!pip install pycrfsuite\n",
        "!pip install --upgrade pythainlp\n",
        "!pip install python-crfsuite"
      ],
      "metadata": {
        "id": "9xln3fDKTcqW"
      },
      "execution_count": null,
      "outputs": []
    },
    {
      "cell_type": "code",
      "source": [
        "import pythainlp as nlp\n",
        "from pprint import pprint\n",
        "import re"
      ],
      "metadata": {
        "id": "GnbMJHsxOKVn"
      },
      "execution_count": null,
      "outputs": []
    },
    {
      "cell_type": "code",
      "execution_count": null,
      "metadata": {
        "cellView": "form",
        "id": "AGzJ7G7MK3yV"
      },
      "outputs": [],
      "source": [
        "#@title ข้อวามที่จะแยก\n",
        "# source: https://thai.tourismthailand.org/Attraction/วัดพระศรีรัตนศาสดาราม-วัดพระแก้ว\n",
        "texts = []\n",
        "text1 = \"\\u0E27\\u0E31\\u0E14\\u0E1E\\u0E23\\u0E30\\u0E28\\u0E23\\u0E35\\u0E23\\u0E31\\u0E15\\u0E19\\u0E28\\u0E32\\u0E2A\\u0E14\\u0E32\\u0E23\\u0E32\\u0E21 \\u0E2B\\u0E23\\u0E37\\u0E2D\\u0E17\\u0E35\\u0E48\\u0E40\\u0E23\\u0E35\\u0E22\\u0E01\\u0E01\\u0E31\\u0E19\\u0E17\\u0E31\\u0E48\\u0E27\\u0E44\\u0E1B\\u0E27\\u0E48\\u0E32 \\u0E27\\u0E31\\u0E14\\u0E1E\\u0E23\\u0E30\\u0E41\\u0E01\\u0E49\\u0E27 \\u0E40\\u0E1B\\u0E47\\u0E19\\u0E27\\u0E31\\u0E14\\u0E17\\u0E35\\u0E48\\u0E1E\\u0E23\\u0E30\\u0E1A\\u0E32\\u0E17\\u0E2A\\u0E21\\u0E40\\u0E14\\u0E47\\u0E08\\u0E1E\\u0E23\\u0E30\\u0E1E\\u0E38\\u0E17\\u0E18\\u0E22\\u0E2D\\u0E14\\u0E1F\\u0E49\\u0E32\\u0E08\\u0E38\\u0E2C\\u0E32\\u0E42\\u0E25\\u0E01\\u0E21\\u0E2B\\u0E32\\u0E23\\u0E32\\u0E0A \\u0E42\\u0E1B\\u0E23\\u0E14\\u0E40\\u0E01\\u0E25\\u0E49\\u0E32\\u0E2F \\u0E43\\u0E2B\\u0E49\\u0E2A\\u0E23\\u0E49\\u0E32\\u0E07\\u0E02\\u0E36\\u0E49\\u0E19\\u0E43\\u0E19\\u0E1E\\u0E23\\u0E49\\u0E2D\\u0E21\\u0E01\\u0E31\\u0E1A\\u0E01\\u0E32\\u0E23\\u0E2A\\u0E16\\u0E32\\u0E1B\\u0E19\\u0E32\\u0E01\\u0E23\\u0E38\\u0E07\\u0E23\\u0E31\\u0E15\\u0E19\\u0E42\\u0E01\\u0E2A\\u0E34\\u0E19\\u0E17\\u0E23\\u0E4C \\u0E1E.\\u0E28. 2325\" #@param {type:\"string\"}\n",
        "text2 = \"\\u0E27\\u0E31\\u0E14\\u0E1E\\u0E23\\u0E30\\u0E18\\u0E23\\u0E23\\u0E21\\u0E01\\u0E32\\u0E22 \\u0E40\\u0E1B\\u0E47\\u0E19\\u0E27\\u0E31\\u0E14\\u0E43\\u0E19\\u0E2A\\u0E31\\u0E07\\u0E01\\u0E31\\u0E14\\u0E21\\u0E2B\\u0E32\\u0E19\\u0E34\\u0E01\\u0E32\\u0E22 \\u0E01\\u0E48\\u0E2D\\u0E15\\u0E31\\u0E49\\u0E07\\u0E40\\u0E21\\u0E37\\u0E48\\u0E2D 20 \\u0E01\\u0E38\\u0E21\\u0E20\\u0E32\\u0E1E\\u0E31\\u0E19\\u0E18\\u0E4C \\u0E1E.\\u0E28. 2513 \\u0E15\\u0E31\\u0E49\\u0E07\\u0E2D\\u0E22\\u0E39\\u0E48 \\u0E13 \\u0E15\\u0E33\\u0E1A\\u0E25\\u0E04\\u0E25\\u0E2D\\u0E07\\u0E2A\\u0E32\\u0E21 \\u0E2D\\u0E33\\u0E40\\u0E20\\u0E2D\\u0E04\\u0E25\\u0E2D\\u0E07\\u0E2B\\u0E25\\u0E27\\u0E07 \\u0E08\\u0E31\\u0E07\\u0E2B\\u0E27\\u0E31\\u0E14\\u0E1B\\u0E17\\u0E38\\u0E21\\u0E18\\u0E32\\u0E19\\u0E35  \\u0E27\\u0E31\\u0E14\\u0E1E\\u0E23\\u0E30\\u0E18\\u0E23\\u0E23\\u0E21\\u0E01\\u0E32\\u0E22\\u0E40\\u0E1B\\u0E47\\u0E19\\u0E17\\u0E35\\u0E48\\u0E40\\u0E04\\u0E25\\u0E37\\u0E2D\\u0E1A\\u0E41\\u0E04\\u0E25\\u0E07\\u0E2A\\u0E07\\u0E2A\\u0E31\\u0E22\\u0E02\\u0E2D\\u0E07\\u0E1B\\u0E23\\u0E30\\u0E0A\\u0E32\\u0E0A\\u0E19 \\u0E41\\u0E25\\u0E30\\u0E40\\u0E1B\\u0E47\\u0E19\\u0E17\\u0E35\\u0E48\\u0E27\\u0E34\\u0E1E\\u0E32\\u0E01\\u0E29\\u0E4C\\u0E27\\u0E34\\u0E08\\u0E32\\u0E23\\u0E13\\u0E4C\\u0E43\\u0E19\\u0E2A\\u0E37\\u0E48\\u0E2D\\u0E21\\u0E27\\u0E25\\u0E0A\\u0E19\\u0E2D\\u0E22\\u0E48\\u0E32\\u0E07\\u0E15\\u0E48\\u0E2D\\u0E40\\u0E19\\u0E37\\u0E48\\u0E2D\\u0E07 \\u0E41\\u0E15\\u0E48\\u0E2A\\u0E37\\u0E48\\u0E2D\\u0E21\\u0E27\\u0E25\\u0E0A\\u0E19\\u0E08\\u0E33\\u0E19\\u0E27\\u0E19\\u0E2B\\u0E19\\u0E36\\u0E48\\u0E07\\u0E44\\u0E14\\u0E49\\u0E02\\u0E2D\\u0E02\\u0E21\\u0E32\\u0E43\\u0E19\\u0E20\\u0E32\\u0E22\\u0E2B\\u0E25\\u0E31\\u0E07 \\u0E2D\\u0E22\\u0E48\\u0E32\\u0E07\\u0E44\\u0E23\\u0E01\\u0E47\\u0E14\\u0E35 \\u0E2A\\u0E20\\u0E32\\u0E23\\u0E31\\u0E01\\u0E29\\u0E32\\u0E04\\u0E27\\u0E32\\u0E21\\u0E2A\\u0E07\\u0E1A\\u0E40\\u0E23\\u0E35\\u0E22\\u0E1A\\u0E23\\u0E49\\u0E2D\\u0E22\\u0E41\\u0E2B\\u0E48\\u0E07\\u0E0A\\u0E32\\u0E15\\u0E34\\u0E44\\u0E14\\u0E49\\u0E02\\u0E36\\u0E49\\u0E19\\u0E27\\u0E31\\u0E14\\u0E1E\\u0E23\\u0E30\\u0E18\\u0E23\\u0E23\\u0E21\\u0E01\\u0E32\\u0E22\\u0E44\\u0E27\\u0E49\\u0E43\\u0E19\\u0E1A\\u0E31\\u0E0D\\u0E0A\\u0E35\\u0E14\\u0E33\\u0E10\\u0E32\\u0E19\\u0E40\\u0E02\\u0E49\\u0E32\\u0E02\\u0E48\\u0E32\\u0E22\\u0E40\\u0E1B\\u0E47\\u0E19\\u0E20\\u0E31\\u0E22\\u0E15\\u0E48\\u0E2D\\u0E04\\u0E27\\u0E32\\u0E21\\u0E21\\u0E31\\u0E48\\u0E19\\u0E04\\u0E07\\u0E41\\u0E2B\\u0E48\\u0E07\\u0E0A\\u0E32\\u0E15\\u0E34  \\u0E27\\u0E31\\u0E19\\u0E17\\u0E35\\u0E48 16 \\u0E01\\u0E38\\u0E21\\u0E20\\u0E32\\u0E1E\\u0E31\\u0E19\\u0E18\\u0E4C \\u0E1E.\\u0E28. 2560 \\u0E04\\u0E13\\u0E30\\u0E23\\u0E31\\u0E01\\u0E29\\u0E32\\u0E04\\u0E27\\u0E32\\u0E21\\u0E2A\\u0E07\\u0E1A\\u0E41\\u0E2B\\u0E48\\u0E07\\u0E0A\\u0E32\\u0E15\\u0E34\\u0E43\\u0E2B\\u0E49\\u0E27\\u0E31\\u0E14\\u0E1E\\u0E23\\u0E30\\u0E18\\u0E23\\u0E23\\u0E21\\u0E01\\u0E32\\u0E22\\u0E40\\u0E1B\\u0E47\\u0E19\\u0E40\\u0E02\\u0E15\\u0E1E\\u0E37\\u0E49\\u0E19\\u0E17\\u0E35\\u0E48\\u0E04\\u0E27\\u0E1A\\u0E04\\u0E38\\u0E21\\u0E1E\\u0E34\\u0E40\\u0E28\\u0E29 \\u0E40\\u0E1E\\u0E37\\u0E48\\u0E2D\\u0E08\\u0E31\\u0E1A\\u0E01\\u0E38\\u0E21\\u0E1E\\u0E23\\u0E30\\u0E18\\u0E31\\u0E21\\u0E21\\u0E0A\\u0E42\\u0E22\"  #@param {type:\"string\"}\n",
        "text = text2 #@param [\"text1\", \"text2\"] {type:\"raw\"}"
      ]
    },
    {
      "cell_type": "code",
      "source": [
        "text = nlp.util.normalize(text)\n",
        "sent_tokens = nlp.tokenize.sent_tokenize(text)\n",
        "words_token = nlp.tokenize.word_tokenize(text=text)"
      ],
      "metadata": {
        "id": "TDT0kb-TUb7B"
      },
      "execution_count": null,
      "outputs": []
    },
    {
      "cell_type": "markdown",
      "source": [
        "### ทดลองการทำ NER\n",
        "ใช้`pythainlp.tag.NER()`"
      ],
      "metadata": {
        "id": "yi-EthONlBAR"
      }
    },
    {
      "cell_type": "code",
      "source": [
        "NER = nlp.tag.NER(engine='thainer')\n",
        "ner = NER.tag(text, tag=True)\n",
        "print(ner)"
      ],
      "metadata": {
        "colab": {
          "base_uri": "https://localhost:8080/"
        },
        "id": "qxFfPKVkSM3S",
        "outputId": "ed99df72-edac-4d84-e4b2-2c1971527ceb"
      },
      "execution_count": null,
      "outputs": [
        {
          "output_type": "stream",
          "name": "stdout",
          "text": [
            "<LOCATION>วัดพระธรรมกาย</LOCATION> เป็นวัดในสังกัดมหานิกาย ก่อตั้งเมื่อ <DATE>20 กุมภาพันธ์ พ.ศ. 2513</DATE> ตั้งอยู่ ณ <LOCATION>ตำบลคลองสาม</LOCATION> <LOCATION>อำเภอคลองหลวง</LOCATION> <LOCATION>จังหวัดปทุมธานี</LOCATION> <ORGANIZATION>วัดพระธรรมกายเป็นที่เคลือบแคลง</ORGANIZATION>สงสัยของประชาชน และเป็นที่วิพากษ์วิจารณ์ในสื่อมวลชนอย่างต่อเนื่อง แต่สื่อมวลชนจำนวนหนึ่งได้ขอขมาในภายหลัง อย่างไรก็ดี <ORGANIZATION>สภารักษาความสงบเรียบร้อยแห่งชาติ</ORGANIZATION>ได้ขึ้น<ORGANIZATION>วัดพระธรรมกายไว้ในบัญชีดำฐานเข้าข่ายเป็นภัยต่อความมั่นคงแห่งชาติ</ORGANIZATION> วันที่ <DATE>16 กุมภาพันธ์ พ.ศ. 2560</DATE> <ORGANIZATION>คณะรักษาความสงบแห่งชาติ</ORGANIZATION>ให้<ORGANIZATION>วัดพระธรรมกายเป็นเขตพื้นที่ควบคุมพิเศษ เพื่อจับกุมพระธัมมชโย</ORGANIZATION>\n"
          ]
        }
      ]
    },
    {
      "cell_type": "markdown",
      "source": [
        "ปัญหา:\n",
        "1. ใน `text1` ดันมีคำว่า*โปรดเกล้าฯ*เข้าไปด้วย\n",
        "  1. วิธีแก้: แก้ด้วยการแปลงโปรดเกล้าเป็นคำอย่างง่ายอื่น ๆ เช่น text simplification? ผมลองลบคำนี้ออกเลยซึ่งก็ยังใช้ได้อยู่\n"
      ],
      "metadata": {
        "id": "SovU3ant8fHI"
      }
    },
    {
      "cell_type": "code",
      "source": [
        "text = text.replace(\"โปรดเกล้าฯ\",\"\")\n",
        "text = nlp.util.normalize(text)\n",
        "ner = NER.tag(text, tag=True)\n",
        "print(ner)"
      ],
      "metadata": {
        "colab": {
          "base_uri": "https://localhost:8080/"
        },
        "id": "nvsMCIMcRywz",
        "outputId": "c313bceb-cd26-4762-8843-155bf84e263c"
      },
      "execution_count": null,
      "outputs": [
        {
          "output_type": "stream",
          "name": "stdout",
          "text": [
            "<LOCATION>วัดพระธรรมกาย</LOCATION> เป็นวัดในสังกัดมหานิกาย ก่อตั้งเมื่อ <DATE>20 กุมภาพันธ์ พ.ศ. 2513</DATE> ตั้งอยู่ ณ <LOCATION>ตำบลคลองสาม</LOCATION> <LOCATION>อำเภอคลองหลวง</LOCATION> <LOCATION>จังหวัดปทุมธานี</LOCATION> <ORGANIZATION>วัดพระธรรมกายเป็นที่เคลือบแคลง</ORGANIZATION>สงสัยของประชาชน และเป็นที่วิพากษ์วิจารณ์ในสื่อมวลชนอย่างต่อเนื่อง แต่สื่อมวลชนจำนวนหนึ่งได้ขอขมาในภายหลัง อย่างไรก็ดี <ORGANIZATION>สภารักษาความสงบเรียบร้อยแห่งชาติ</ORGANIZATION>ได้ขึ้น<ORGANIZATION>วัดพระธรรมกายไว้ในบัญชีดำฐานเข้าข่ายเป็นภัยต่อความมั่นคงแห่งชาติ</ORGANIZATION> วันที่ <DATE>16 กุมภาพันธ์ พ.ศ. 2560</DATE> <ORGANIZATION>คณะรักษาความสงบแห่งชาติ</ORGANIZATION>ให้<ORGANIZATION>วัดพระธรรมกายเป็นเขตพื้นที่ควบคุมพิเศษ เพื่อจับกุมพระธัมมชโย</ORGANIZATION>\n"
          ]
        }
      ]
    },
    {
      "cell_type": "markdown",
      "source": [
        "ตรงนี้น่าจะสามารถจับ Tag ต่าง ๆ สำหรับการเป็น Value ได้ แต่ทำยังไง ;-;"
      ],
      "metadata": {
        "id": "UvDHj4C3s4pG"
      }
    },
    {
      "cell_type": "code",
      "source": [
        "LOCATION = '<LOCATION>(.+?)</LOCATION>'\n",
        "PERSON = '<PERSON>(.+?)</PERSON>'\n",
        "ALL_ENTITY = [\n",
        "  \"DATE\",\n",
        "  \"TIME\",\n",
        "  \"EMAIL\",\n",
        "  \"LEN\",\n",
        "  \"LOCATION\",\n",
        "  \"ORGANIZATION\",\n",
        "  \"PERSON\",\n",
        "  \"PHONE\",\n",
        "  \"URL\",\n",
        "  \"ZIP\",\n",
        "  \"MONEY\",\n",
        "  \"LAW\",\n",
        "]\n",
        "\n",
        "for entity in ALL_ENTITY:\n",
        "  try:\n",
        "    p = re.compile(f'<{entity}>(.+?)</{entity}>')\n",
        "    result = p.findall(ner)\n",
        "  except AttributeError:\n",
        "    result = ''\n",
        "  print(entity, ':', result)"
      ],
      "metadata": {
        "colab": {
          "base_uri": "https://localhost:8080/"
        },
        "id": "O2C5Wv3vaYse",
        "outputId": "a898bc69-b7e4-4f01-c76c-8f89c93fa79a"
      },
      "execution_count": null,
      "outputs": [
        {
          "output_type": "stream",
          "name": "stdout",
          "text": [
            "DATE : ['20 กุมภาพันธ์ พ.ศ. 2513', '16 กุมภาพันธ์ พ.ศ. 2560']\n",
            "TIME : []\n",
            "EMAIL : []\n",
            "LEN : []\n",
            "LOCATION : ['วัดพระธรรมกาย', 'ตำบลคลองสาม', 'อำเภอคลองหลวง', 'จังหวัดปทุมธานี']\n",
            "ORGANIZATION : ['วัดพระธรรมกายเป็นที่เคลือบแคลง', 'สภารักษาความสงบเรียบร้อยแห่งชาติ', 'วัดพระธรรมกายไว้ในบัญชีดำฐานเข้าข่ายเป็นภัยต่อความมั่นคงแห่งชาติ', 'คณะรักษาความสงบแห่งชาติ', 'วัดพระธรรมกายเป็นเขตพื้นที่ควบคุมพิเศษ เพื่อจับกุมพระธัมมชโย']\n",
            "PERSON : []\n",
            "PHONE : []\n",
            "URL : []\n",
            "ZIP : []\n",
            "MONEY : []\n",
            "LAW : []\n"
          ]
        }
      ]
    }
  ]
}