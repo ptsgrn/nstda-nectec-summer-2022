{
 "cells": [
  {
   "cell_type": "markdown",
   "metadata": {
    "id": "TejuwdZO7NRx"
   },
   "source": [
    "# \u0e42\u0e04\u0e23\u0e07\u0e2a\u0e23\u0e49\u0e32\u0e07\u0e02\u0e49\u0e2d\u0e21\u0e39\u0e25\u0e43\u0e19\u0e20\u0e32\u0e29\u0e32 Python \u2014 https://tinyurl.com/ybn763lq"
   ]
  },
  {
   "cell_type": "markdown",
   "metadata": {
    "id": "-zrb03T5-qU9"
   },
   "source": [
    "\u0e1b\u0e23\u0e31\u0e0a\u0e0d\u0e32 \u0e1a\u0e38\u0e0d\u0e02\u0e27\u0e31\u0e0d\n",
    "\n",
    "Email: `prachya.boonkwan@nectec.or.th`\n",
    "\n",
    "(C) December 2018"
   ]
  },
  {
   "cell_type": "markdown",
   "metadata": {
    "id": "pUVUZRP27TtA"
   },
   "source": [
    "- \u0e2a\u0e27\u0e31\u0e2a\u0e14\u0e35\u0e04\u0e23\u0e31\u0e1a \u0e40\u0e23\u0e32\u0e01\u0e25\u0e31\u0e1a\u0e21\u0e32\u0e40\u0e08\u0e2d\u0e01\u0e31\u0e19\u0e2d\u0e35\u0e01\u0e41\u0e25\u0e49\u0e27\u0e19\u0e30\u0e04\u0e23\u0e31\u0e1a \u0e43\u0e19\u0e04\u0e23\u0e32\u0e27\u0e19\u0e35\u0e49\u0e40\u0e23\u0e32\u0e08\u0e30\u0e21\u0e32\u0e40\u0e23\u0e35\u0e22\u0e19\u0e23\u0e39\u0e49\u0e40\u0e23\u0e37\u0e48\u0e2d\u0e07\u0e01\u0e32\u0e23\u0e43\u0e0a\u0e49\u0e42\u0e04\u0e23\u0e07\u0e2a\u0e23\u0e49\u0e32\u0e07\u0e02\u0e49\u0e2d\u0e21\u0e39\u0e25\u0e43\u0e19\u0e20\u0e32\u0e29\u0e32 Python \u0e01\u0e31\u0e19\u0e04\u0e23\u0e31\u0e1a\n",
    "- \u0e2b\u0e31\u0e27\u0e02\u0e49\u0e2d\u0e17\u0e35\u0e48\u0e40\u0e23\u0e32\u0e08\u0e30\u0e40\u0e23\u0e35\u0e22\u0e19\u0e01\u0e31\u0e19\u0e21\u0e35\u0e14\u0e31\u0e07\u0e19\u0e35\u0e49\u0e04\u0e23\u0e31\u0e1a\n",
    "  1. \u0e01\u0e32\u0e23\u0e43\u0e0a\u0e49\u0e25\u0e34\u0e2a\u0e15\u0e4c (list)\n",
    "  2. \u0e25\u0e39\u0e1b\u0e44\u0e27\u0e25\u0e4c (while-loop)\n",
    "  3. \u0e01\u0e32\u0e23\u0e43\u0e0a\u0e49\u0e40\u0e0b\u0e47\u0e15 (set)\n",
    "  4. \u0e01\u0e32\u0e23\u0e43\u0e0a\u0e49\u0e14\u0e34\u0e01\u0e0a\u0e31\u0e19\u0e19\u0e32\u0e23\u0e35 (dictionary)\n",
    "  5. \u0e01\u0e32\u0e23\u0e08\u0e31\u0e14\u0e1f\u0e2d\u0e23\u0e4c\u0e41\u0e21\u0e15\u0e02\u0e2d\u0e07\u0e2a\u0e15\u0e23\u0e34\u0e07 (string formatting)\n",
    "  6. \u0e01\u0e32\u0e23\u0e2d\u0e48\u0e32\u0e19\u0e41\u0e25\u0e30\u0e40\u0e02\u0e35\u0e22\u0e19\u0e44\u0e1f\u0e25\u0e4c (file)\n",
    "  7. \u0e1f\u0e31\u0e07\u0e01\u0e4c\u0e0a\u0e31\u0e19 (function)\n",
    "  8. \u0e04\u0e25\u0e32\u0e2a\u0e41\u0e25\u0e30\u0e01\u0e32\u0e23\u0e42\u0e1b\u0e23\u0e41\u0e01\u0e23\u0e21\u0e40\u0e0a\u0e34\u0e07\u0e27\u0e31\u0e15\u0e16\u0e38 (class and object-oriented programming)\n",
    "  9. \u0e01\u0e32\u0e23\u0e40\u0e27\u0e35\u0e22\u0e19\u0e40\u0e01\u0e34\u0e14 (recursion)\n",
    "  \n",
    "- \u0e01\u0e15\u0e34\u0e01\u0e32\u0e02\u0e2d\u0e07\u0e40\u0e23\u0e32\u0e22\u0e31\u0e07\u0e04\u0e07\u0e40\u0e2b\u0e21\u0e37\u0e2d\u0e19\u0e40\u0e14\u0e34\u0e21\u0e04\u0e23\u0e31\u0e1a \u0e40\u0e23\u0e32\u0e08\u0e30\u0e43\u0e0a\u0e49\u0e01\u0e32\u0e23\u0e40\u0e23\u0e35\u0e22\u0e19\u0e23\u0e39\u0e49\u0e41\u0e1a\u0e1a\u0e2a\u0e30\u0e17\u0e49\u0e2d\u0e19\u0e01\u0e25\u0e31\u0e1a (reflective learning)\n",
    "  - \u0e17\u0e48\u0e32\u0e19\u0e2a\u0e32\u0e21\u0e32\u0e23\u0e16\u0e40\u0e25\u0e37\u0e2d\u0e01\u0e27\u0e34\u0e18\u0e35\u0e01\u0e32\u0e23\u0e40\u0e23\u0e35\u0e22\u0e19\u0e23\u0e39\u0e49\u0e44\u0e14\u0e49\u0e2b\u0e25\u0e32\u0e01\u0e2b\u0e25\u0e32\u0e22 \u0e17\u0e31\u0e49\u0e07\u0e08\u0e32\u0e01\u0e04\u0e33\u0e1a\u0e23\u0e23\u0e22\u0e32\u0e22\u0e43\u0e19\u0e41\u0e1a\u0e1a\u0e40\u0e23\u0e35\u0e22\u0e19\u0e19\u0e35\u0e49 \u0e08\u0e32\u0e01\u0e2b\u0e19\u0e31\u0e07\u0e2a\u0e37\u0e2d\u0e41\u0e1a\u0e1a\u0e40\u0e23\u0e35\u0e22\u0e19 \u0e08\u0e32\u0e01\u0e01\u0e32\u0e23\u0e40\u0e23\u0e35\u0e22\u0e19\u0e23\u0e39\u0e49\u0e14\u0e49\u0e27\u0e22\u0e15\u0e31\u0e27\u0e40\u0e2d\u0e07\u0e1c\u0e48\u0e32\u0e19\u0e41\u0e1a\u0e1a\u0e1d\u0e36\u0e01\u0e2b\u0e31\u0e14\u0e15\u0e32\u0e21\u0e41\u0e1a\u0e1a\u0e40\u0e23\u0e35\u0e22\u0e19\u0e19\u0e35\u0e49 \u0e42\u0e14\u0e22\u0e40\u0e23\u0e32\u0e44\u0e14\u0e49\u0e40\u0e15\u0e23\u0e35\u0e22\u0e21\u0e1c\u0e39\u0e49\u0e0a\u0e48\u0e27\u0e22\u0e2a\u0e2d\u0e19\u0e44\u0e27\u0e49\u0e04\u0e2d\u0e22\u0e15\u0e2d\u0e1a\u0e04\u0e33\u0e16\u0e32\u0e21\u0e02\u0e2d\u0e07\u0e17\u0e48\u0e32\u0e19\u0e44\u0e27\u0e49\u0e41\u0e25\u0e49\u0e27\u0e04\u0e23\u0e31\u0e1a\n",
    "  - \u0e43\u0e19\u0e41\u0e15\u0e48\u0e25\u0e30\u0e01\u0e34\u0e08\u0e01\u0e23\u0e23\u0e21 \u0e08\u0e30\u0e21\u0e35\u0e41\u0e1a\u0e1a\u0e17\u0e14\u0e2a\u0e2d\u0e1a\u0e43\u0e2b\u0e49\u0e17\u0e48\u0e32\u0e19\u0e25\u0e2d\u0e07\u0e17\u0e33\u0e40\u0e1b\u0e47\u0e19\u0e23\u0e30\u0e22\u0e30\u0e46 \u0e14\u0e49\u0e27\u0e22 \u0e40\u0e1e\u0e37\u0e48\u0e2d\u0e15\u0e23\u0e27\u0e08\u0e2a\u0e2d\u0e1a\u0e04\u0e27\u0e32\u0e21\u0e40\u0e02\u0e49\u0e32\u0e43\u0e08\u0e02\u0e2d\u0e07\u0e17\u0e48\u0e32\u0e19\n",
    "  - \u0e2b\u0e32\u0e01\u0e17\u0e48\u0e32\u0e19\u0e22\u0e31\u0e07\u0e44\u0e21\u0e48\u0e40\u0e02\u0e49\u0e32\u0e43\u0e08 \u0e2d\u0e22\u0e48\u0e32\u0e40\u0e1e\u0e34\u0e48\u0e07\u0e44\u0e1b\u0e40\u0e04\u0e23\u0e35\u0e22\u0e14\u0e04\u0e23\u0e31\u0e1a \u0e17\u0e48\u0e32\u0e19\u0e2a\u0e32\u0e21\u0e32\u0e23\u0e16\u0e40\u0e1b\u0e25\u0e35\u0e48\u0e22\u0e19\u0e27\u0e34\u0e18\u0e35\u0e01\u0e32\u0e23\u0e40\u0e23\u0e35\u0e22\u0e19\u0e23\u0e39\u0e49\u0e43\u0e2b\u0e49\u0e15\u0e23\u0e07\u0e01\u0e31\u0e1a\u0e08\u0e23\u0e34\u0e15\u0e02\u0e2d\u0e07\u0e17\u0e48\u0e32\u0e19\u0e44\u0e14\u0e49\u0e15\u0e25\u0e2d\u0e14\u0e40\u0e27\u0e25\u0e32\u0e04\u0e23\u0e31\u0e1a\n",
    "  - \u0e41\u0e25\u0e30\u0e2a\u0e33\u0e2b\u0e23\u0e31\u0e1a\u0e17\u0e48\u0e32\u0e19\u0e17\u0e35\u0e48\u0e40\u0e04\u0e22\u0e21\u0e35\u0e1b\u0e23\u0e30\u0e2a\u0e1a\u0e01\u0e32\u0e23\u0e13\u0e4c\u0e01\u0e31\u0e1a\u0e20\u0e32\u0e29\u0e32 Python \u0e21\u0e32\u0e01\u0e48\u0e2d\u0e19 \u0e17\u0e48\u0e32\u0e19\u0e2a\u0e32\u0e21\u0e32\u0e23\u0e16\u0e17\u0e14\u0e25\u0e2d\u0e07\u0e17\u0e33\u0e41\u0e1a\u0e1a\u0e1d\u0e36\u0e01\u0e2b\u0e31\u0e14\u0e40\u0e2a\u0e23\u0e34\u0e21\u0e17\u0e31\u0e01\u0e29\u0e30\u0e17\u0e35\u0e48\u0e17\u0e49\u0e32\u0e22 workshop \u0e44\u0e14\u0e49\u0e40\u0e25\u0e22\u0e19\u0e30\u0e04\u0e23\u0e31\u0e1a ;) \n",
    "\n",
    "- \u0e27\u0e34\u0e18\u0e35\u0e01\u0e32\u0e23\u0e43\u0e0a\u0e49 Google Colab \u0e2d\u0e22\u0e48\u0e32\u0e07\u0e07\u0e48\u0e32\u0e22\n",
    "  - \u0e01\u0e25\u0e48\u0e2d\u0e07\u0e04\u0e33\u0e2a\u0e31\u0e48\u0e07\u0e08\u0e30\u0e40\u0e1b\u0e47\u0e19\u0e2a\u0e35\u0e40\u0e17\u0e32 \u0e40\u0e23\u0e32\u0e2a\u0e32\u0e21\u0e32\u0e23\u0e16\u0e40\u0e02\u0e35\u0e22\u0e19\u0e42\u0e1b\u0e23\u0e41\u0e01\u0e23\u0e21\u0e20\u0e32\u0e29\u0e32 Python \u0e25\u0e07\u0e43\u0e19\u0e01\u0e25\u0e48\u0e2d\u0e07\u0e04\u0e33\u0e2a\u0e31\u0e48\u0e07\u0e19\u0e35\u0e49\u0e44\u0e14\u0e49\n",
    "  - **\u0e27\u0e34\u0e18\u0e35\u0e23\u0e31\u0e19 (run):** \u0e40\u0e21\u0e37\u0e48\u0e2d\u0e40\u0e02\u0e35\u0e22\u0e19\u0e42\u0e1b\u0e23\u0e41\u0e01\u0e23\u0e21\u0e25\u0e07\u0e44\u0e1b\u0e41\u0e25\u0e49\u0e27 \u0e40\u0e23\u0e32\u0e2a\u0e32\u0e21\u0e32\u0e23\u0e16\u0e2a\u0e31\u0e48\u0e07\u0e23\u0e31\u0e19\u0e44\u0e14\u0e49\u0e42\u0e14\u0e22\u0e01\u0e32\u0e23\u0e01\u0e14\u0e1b\u0e38\u0e48\u0e21\u0e40\u0e1e\u0e25\u0e22\u0e4c \u25b6\ufe0f \u0e17\u0e35\u0e48\u0e2d\u0e22\u0e39\u0e48\u0e2b\u0e19\u0e49\u0e32\u0e01\u0e25\u0e48\u0e2d\u0e07\u0e04\u0e33\u0e2a\u0e31\u0e48\u0e07 \u0e2b\u0e23\u0e37\u0e2d\u0e01\u0e14\u0e1b\u0e38\u0e48\u0e21 Shift+Enter \u0e01\u0e47\u0e44\u0e14\u0e49\u0e04\u0e23\u0e31\u0e1a\n",
    "  - \u0e2b\u0e32\u0e01\u0e22\u0e31\u0e07\u0e44\u0e21\u0e48\u0e40\u0e2b\u0e47\u0e19\u0e1b\u0e38\u0e48\u0e21\u0e40\u0e1e\u0e25\u0e22\u0e4c \u0e43\u0e2b\u0e49\u0e40\u0e2d\u0e32\u0e40\u0e21\u0e49\u0e32\u0e2a\u0e4c\u0e44\u0e1b\u0e04\u0e25\u0e34\u0e01\u0e17\u0e35\u0e48\u0e01\u0e25\u0e48\u0e2d\u0e07\u0e04\u0e33\u0e2a\u0e31\u0e48\u0e07\u0e01\u0e48\u0e2d\u0e19 \u0e1b\u0e38\u0e48\u0e21\u0e40\u0e1e\u0e25\u0e22\u0e4c\u0e01\u0e47\u0e08\u0e30\u0e1b\u0e23\u0e32\u0e01\u0e0f\u0e02\u0e36\u0e49\u0e19\u0e21\u0e32\u0e04\u0e23\u0e31\u0e1a"
   ]
  },
  {
   "cell_type": "markdown",
   "metadata": {
    "id": "zTTFWIsE890N"
   },
   "source": [
    "-----"
   ]
  },
  {
   "cell_type": "markdown",
   "metadata": {
    "id": "eCg5EtC48-re"
   },
   "source": [
    "## \u0e01\u0e34\u0e08\u0e01\u0e23\u0e23\u0e21 9: \u0e25\u0e34\u0e2a\u0e15\u0e4c (List)"
   ]
  },
  {
   "cell_type": "markdown",
   "metadata": {
    "id": "c3hLdy_T9CRN"
   },
   "source": [
    "### \u0e17\u0e1a\u0e17\u0e27\u0e19\n",
    "\n",
    "- \u0e25\u0e34\u0e2a\u0e15\u0e4c (list) \u0e04\u0e37\u0e2d\u0e23\u0e32\u0e22\u0e01\u0e32\u0e23\u0e2a\u0e34\u0e48\u0e07\u0e02\u0e2d\u0e07\u0e17\u0e35\u0e48\u0e40\u0e23\u0e32\u0e2a\u0e32\u0e21\u0e32\u0e23\u0e16\u0e1b\u0e23\u0e31\u0e1a\u0e40\u0e1b\u0e25\u0e35\u0e48\u0e22\u0e19\u0e23\u0e32\u0e22\u0e01\u0e32\u0e23\u0e44\u0e14\u0e49\u0e15\u0e25\u0e2d\u0e14\u0e40\u0e27\u0e25\u0e32\u0e04\u0e23\u0e31\u0e1a\n",
    "\n",
    "- \u0e25\u0e34\u0e2a\u0e15\u0e4c\u0e43\u0e0a\u0e49\u0e2a\u0e31\u0e0d\u0e25\u0e31\u0e01\u0e29\u0e13\u0e4c `[ ]` \u0e04\u0e31\u0e48\u0e19\u0e14\u0e49\u0e27\u0e22\u0e40\u0e04\u0e23\u0e37\u0e48\u0e2d\u0e07\u0e2b\u0e21\u0e32\u0e22\u0e04\u0e2d\u0e21\u0e21\u0e32 `,`\n",
    "\n",
    "- **\u0e04\u0e33\u0e2a\u0e31\u0e48\u0e07\u0e40\u0e02\u0e49\u0e32\u0e16\u0e36\u0e07\u0e2a\u0e21\u0e32\u0e0a\u0e34\u0e01 (indexing):** \u0e40\u0e23\u0e32\u0e2a\u0e32\u0e21\u0e32\u0e23\u0e16\u0e40\u0e02\u0e49\u0e32\u0e16\u0e36\u0e07\u0e2a\u0e21\u0e32\u0e0a\u0e34\u0e01\u0e41\u0e15\u0e48\u0e25\u0e30\u0e15\u0e31\u0e27\u0e43\u0e19\u0e25\u0e34\u0e2a\u0e15\u0e4c\u0e14\u0e49\u0e27\u0e22\u0e01\u0e32\u0e23\u0e23\u0e30\u0e1a\u0e38\u0e15\u0e33\u0e41\u0e2b\u0e19\u0e48\u0e07\u0e02\u0e2d\u0e07\u0e2a\u0e21\u0e32\u0e0a\u0e34\u0e01\u0e17\u0e35\u0e48\u0e40\u0e23\u0e32\u0e15\u0e49\u0e2d\u0e07\u0e01\u0e32\u0e23 \u0e14\u0e49\u0e27\u0e22\u0e04\u0e33\u0e2a\u0e31\u0e48\u0e07 `[` $i$ `]` \u0e40\u0e21\u0e37\u0e48\u0e2d $i$ \u0e04\u0e37\u0e2d index \u0e17\u0e35\u0e48\u0e40\u0e23\u0e32\u0e15\u0e49\u0e2d\u0e07\u0e01\u0e32\u0e23\u0e40\u0e02\u0e49\u0e32\u0e16\u0e36\u0e07 *\u0e0b\u0e36\u0e48\u0e07\u0e40\u0e23\u0e34\u0e48\u0e21\u0e19\u0e31\u0e1a\u0e08\u0e32\u0e01 0 \u0e40\u0e2a\u0e21\u0e2d*\n",
    "\n",
    "- **\u0e04\u0e33\u0e2a\u0e31\u0e48\u0e07\u0e40\u0e25\u0e37\u0e2d\u0e01\u0e1a\u0e32\u0e07\u0e2a\u0e48\u0e27\u0e19 (slicing):** `\u0e25\u0e34\u0e2a\u0e15\u0e4c[` $a$ `:` $b$ `]` \u0e08\u0e30\u0e40\u0e25\u0e37\u0e2d\u0e01\u0e2a\u0e21\u0e32\u0e0a\u0e34\u0e01\u0e15\u0e31\u0e49\u0e07\u0e41\u0e15\u0e48 index \u0e17\u0e35\u0e48 $a$ \u0e08\u0e19\u0e16\u0e36\u0e07 index \u0e17\u0e35\u0e48 $b - 1$"
   ]
  },
  {
   "cell_type": "markdown",
   "metadata": {
    "id": "prVBAXfGHbxo"
   },
   "source": [
    "- \u0e15\u0e31\u0e27\u0e2d\u0e22\u0e48\u0e32\u0e07: \u0e2b\u0e32\u0e01\u0e40\u0e23\u0e32\u0e21\u0e35\u0e25\u0e34\u0e2a\u0e15\u0e4c\u0e02\u0e2d\u0e07\u0e04\u0e30\u0e41\u0e19\u0e19\u0e2a\u0e2d\u0e1a\u0e19\u0e31\u0e01\u0e40\u0e23\u0e35\u0e22\u0e19 `scores` \u0e40\u0e23\u0e32\u0e2a\u0e32\u0e21\u0e32\u0e23\u0e16\u0e2b\u0e32\u0e0a\u0e48\u0e27\u0e07\u0e02\u0e2d\u0e07\u0e04\u0e30\u0e41\u0e19\u0e19 \u0e15\u0e31\u0e49\u0e07\u0e41\u0e15\u0e48\u0e04\u0e30\u0e41\u0e19\u0e19\u0e2a\u0e39\u0e07\u0e01\u0e27\u0e48\u0e32 80 \u0e04\u0e30\u0e41\u0e19\u0e19\u0e15\u0e33\u0e41\u0e2b\u0e19\u0e48\u0e07\u0e41\u0e23\u0e01 \u0e08\u0e19\u0e16\u0e36\u0e07\u0e04\u0e30\u0e41\u0e19\u0e19\u0e2a\u0e39\u0e07\u0e01\u0e27\u0e48\u0e32 80 \u0e04\u0e30\u0e41\u0e19\u0e19\u0e15\u0e33\u0e41\u0e2b\u0e19\u0e48\u0e07\u0e2a\u0e38\u0e14\u0e17\u0e49\u0e32\u0e22\u0e44\u0e14\u0e49\u0e14\u0e49\u0e27\u0e22\u0e42\u0e1b\u0e23\u0e41\u0e01\u0e23\u0e21\u0e19\u0e35\u0e49"
   ]
  },
  {
   "cell_type": "code",
   "execution_count": 1,
   "metadata": {
    "id": "QNptsMxY7Lzq"
   },
   "outputs": [
    {
     "name": "stdout",
     "output_type": "stream",
     "text": [
      "[35.5, 73.0, 83.5, 65.0, 81.0, 79.5, 87.0, 49.5]\n",
      "\n",
      "Finding the first high-score...\n",
      "Score: 35.5\n",
      "Score: 73.0\n",
      "Score: 83.5\n",
      "First high-score index: 2\n",
      "\n",
      "Finding the last high-score...\n",
      "Score: 49.5\n",
      "Score: 87.0\n",
      "Last high-score index: 6\n",
      "\n",
      "Score slice: [83.5, 65.0, 81.0, 79.5, 87.0]\n"
     ]
    }
   ],
   "source": [
    "scores = [35.5, 73.0, 83.5, 65.0, 81.0, 79.5, 87.0, 49.5]\n",
    "print(scores, end='\\n\\n')\n",
    "\n",
    "print('Finding the first high-score...')\n",
    "begidx = 0\n",
    "for i in range(len(scores)):\n",
    "    print('Score:', scores[i])\n",
    "    if scores[i] > 80.0:\n",
    "        begidx = i\n",
    "        break\n",
    "print('First high-score index:', begidx, end='\\n\\n')\n",
    "\n",
    "print('Finding the last high-score...')\n",
    "endidx = len(scores)\n",
    "for i in range(len(scores) - 1, -1, -1):\n",
    "    print('Score:', scores[i])\n",
    "    if scores[i] > 80.0:\n",
    "        endidx = i\n",
    "        break\n",
    "print('Last high-score index:', endidx, end='\\n\\n')\n",
    "\n",
    "print('Score slice:', scores[begidx : endidx + 1])"
   ]
  },
  {
   "cell_type": "markdown",
   "metadata": {
    "id": "MasP7w2025Qt"
   },
   "source": [
    "- \u0e43\u0e19\u0e04\u0e23\u0e32\u0e27\u0e19\u0e35\u0e49\u0e40\u0e23\u0e32\u0e08\u0e30\u0e21\u0e32\u0e40\u0e23\u0e35\u0e22\u0e19\u0e23\u0e39\u0e49\u0e27\u0e34\u0e18\u0e35\u0e01\u0e32\u0e23\u0e40\u0e1e\u0e34\u0e48\u0e21\u0e2a\u0e21\u0e32\u0e0a\u0e34\u0e01 \u0e25\u0e1a\u0e2a\u0e21\u0e32\u0e0a\u0e34\u0e01 \u0e41\u0e25\u0e30\u0e01\u0e32\u0e23\u0e40\u0e23\u0e35\u0e22\u0e07\u0e25\u0e33\u0e14\u0e31\u0e1a\u0e2a\u0e21\u0e32\u0e0a\u0e34\u0e01\u0e43\u0e19\u0e25\u0e34\u0e2a\u0e15\u0e4c\u0e01\u0e31\u0e19\u0e04\u0e23\u0e31\u0e1a\n",
    "  - \u0e40\u0e23\u0e32\u0e08\u0e30\u0e40\u0e1e\u0e34\u0e48\u0e21\u0e2a\u0e21\u0e32\u0e0a\u0e34\u0e01\u0e43\u0e2b\u0e21\u0e48\u0e40\u0e02\u0e49\u0e32\u0e44\u0e1b\u0e43\u0e19\u0e25\u0e34\u0e2a\u0e15\u0e4c\u0e14\u0e49\u0e27\u0e22\u0e04\u0e33\u0e2a\u0e31\u0e48\u0e07 `append` \u0e04\u0e33\u0e2a\u0e31\u0e48\u0e07 `insert` \u0e41\u0e25\u0e30\u0e04\u0e33\u0e2a\u0e31\u0e48\u0e07 `extend`\n",
    "  - \u0e40\u0e23\u0e32\u0e08\u0e30\u0e25\u0e1a\u0e2a\u0e21\u0e32\u0e0a\u0e34\u0e01\u0e2d\u0e2d\u0e01\u0e08\u0e32\u0e01\u0e25\u0e34\u0e2a\u0e15\u0e4c\u0e14\u0e49\u0e27\u0e22\u0e04\u0e33\u0e2a\u0e31\u0e48\u0e07 `del`\n",
    "  - \u0e40\u0e23\u0e32\u0e08\u0e30\u0e40\u0e23\u0e35\u0e22\u0e07\u0e25\u0e33\u0e14\u0e31\u0e1a\u0e2a\u0e21\u0e32\u0e0a\u0e34\u0e01\u0e43\u0e19\u0e25\u0e34\u0e2a\u0e15\u0e4c\u0e14\u0e49\u0e27\u0e22\u0e04\u0e33\u0e2a\u0e31\u0e48\u0e07 `sort` \u0e41\u0e25\u0e30 `sorted`"
   ]
  },
  {
   "cell_type": "markdown",
   "metadata": {
    "id": "SOzbaYmSIict"
   },
   "source": [
    "### \u0e01\u0e32\u0e23\u0e40\u0e1e\u0e34\u0e48\u0e21\u0e2a\u0e21\u0e32\u0e0a\u0e34\u0e01\u0e43\u0e19\u0e25\u0e34\u0e2a\u0e15\u0e4c\u0e14\u0e49\u0e27\u0e22\u0e04\u0e33\u0e2a\u0e31\u0e48\u0e07 `append`"
   ]
  },
  {
   "cell_type": "markdown",
   "metadata": {
    "id": "P2dVPaoUImu_"
   },
   "source": [
    "- **\u0e04\u0e33\u0e2a\u0e31\u0e48\u0e07 `append`:** \u0e40\u0e23\u0e32\u0e08\u0e30\u0e19\u0e33\u0e2a\u0e21\u0e32\u0e0a\u0e34\u0e01\u0e43\u0e2b\u0e21\u0e48\u0e15\u0e48\u0e2d\u0e17\u0e49\u0e32\u0e22\u0e25\u0e34\u0e2a\u0e15\u0e4c\u0e14\u0e49\u0e27\u0e22\u0e04\u0e33\u0e2a\u0e31\u0e48\u0e07 `\u0e25\u0e34\u0e2a\u0e15\u0e4c.append(` $e$ `)` \u0e40\u0e21\u0e37\u0e48\u0e2d $e$ \u0e04\u0e37\u0e2d\u0e2a\u0e21\u0e32\u0e0a\u0e34\u0e01\u0e43\u0e2b\u0e21\u0e48\u0e15\u0e31\u0e27\u0e19\u0e31\u0e49\u0e19\n",
    "- \u0e40\u0e0a\u0e48\u0e19 \u0e40\u0e23\u0e32\u0e2a\u0e32\u0e21\u0e32\u0e23\u0e16\u0e15\u0e48\u0e2d\u0e17\u0e49\u0e32\u0e22\u0e15\u0e31\u0e27\u0e40\u0e25\u0e02 1 \u0e16\u0e36\u0e07 5 \u0e17\u0e35\u0e48\u0e17\u0e49\u0e32\u0e22\u0e25\u0e34\u0e2a\u0e15\u0e4c `my_numbers` \u0e44\u0e14\u0e49\u0e14\u0e31\u0e07\u0e19\u0e35\u0e49"
   ]
  },
  {
   "cell_type": "code",
   "execution_count": 2,
   "metadata": {
    "id": "1k9xXS1OG2sn"
   },
   "outputs": [
    {
     "name": "stdout",
     "output_type": "stream",
     "text": [
      "[11, 12, 13, 14, 15, 1, 2, 3, 4, 5]\n"
     ]
    }
   ],
   "source": [
    "my_numbers = [11, 12, 13, 14, 15]\n",
    "\n",
    "for i in range(1, 6):\n",
    "    my_numbers.append(i)\n",
    "    \n",
    "print(my_numbers)"
   ]
  },
  {
   "cell_type": "markdown",
   "metadata": {
    "id": "_FAWwLLqOW27"
   },
   "source": [
    "### \u0e41\u0e1a\u0e1a\u0e1d\u0e36\u0e01\u0e2b\u0e31\u0e14 9.1\n",
    "\n",
    "\u0e08\u0e07\u0e19\u0e33\u0e2a\u0e21\u0e32\u0e0a\u0e34\u0e01\u0e41\u0e15\u0e48\u0e25\u0e30\u0e15\u0e31\u0e27\u0e43\u0e19\u0e25\u0e34\u0e2a\u0e15\u0e4c `new_numbers` \u0e44\u0e1b\u0e15\u0e48\u0e2d\u0e17\u0e49\u0e32\u0e22\u0e25\u0e34\u0e2a\u0e15\u0e4c `my_numbers` \u0e14\u0e49\u0e27\u0e22\u0e04\u0e33\u0e2a\u0e31\u0e48\u0e07 `append` \u0e41\u0e25\u0e30\u0e41\u0e2a\u0e14\u0e07\u0e25\u0e34\u0e2a\u0e15\u0e4c `my_numbers` \u0e2d\u0e2d\u0e01\u0e2b\u0e19\u0e49\u0e32\u0e08\u0e2d"
   ]
  },
  {
   "cell_type": "code",
   "execution_count": 3,
   "metadata": {
    "id": "eu8dCe54OPPG"
   },
   "outputs": [
    {
     "name": "stdout",
     "output_type": "stream",
     "text": [
      "[1, 2, 3, 4, 5, 11, 12, 13, 14, 15]\n"
     ]
    }
   ],
   "source": [
    "my_numbers = [1, 2, 3, 4, 5]\n",
    "new_numbers = [11, 12, 13, 14, 15]\n",
    "\n",
    "for element in new_numbers:\n",
    "    my_numbers.append(element)      # \u0e41\u0e01\u0e49\u0e44\u0e02\u0e42\u0e04\u0e49\u0e14\u0e17\u0e35\u0e48\u0e19\u0e35\u0e48\n",
    "    \n",
    "print(my_numbers)"
   ]
  },
  {
   "cell_type": "markdown",
   "metadata": {
    "id": "XjjPm9M13EdP"
   },
   "source": [
    "### \u0e01\u0e32\u0e23\u0e40\u0e1e\u0e34\u0e48\u0e21\u0e2a\u0e21\u0e32\u0e0a\u0e34\u0e01\u0e43\u0e19\u0e25\u0e34\u0e2a\u0e15\u0e4c\u0e14\u0e49\u0e27\u0e22\u0e04\u0e33\u0e2a\u0e31\u0e48\u0e07 `insert`"
   ]
  },
  {
   "cell_type": "markdown",
   "metadata": {
    "id": "09IZyaCTKQ8a"
   },
   "source": [
    "- **\u0e04\u0e33\u0e2a\u0e31\u0e48\u0e07 `insert`:** \u0e40\u0e23\u0e32\u0e08\u0e30\u0e41\u0e17\u0e23\u0e01\u0e2a\u0e21\u0e32\u0e0a\u0e34\u0e01\u0e43\u0e2b\u0e21\u0e48\u0e40\u0e02\u0e49\u0e32\u0e44\u0e1b\u0e43\u0e19 index \u0e17\u0e35\u0e48\u0e01\u0e33\u0e2b\u0e19\u0e14\u0e14\u0e49\u0e27\u0e22\u0e04\u0e33\u0e2a\u0e31\u0e48\u0e07 `\u0e25\u0e34\u0e2a\u0e15\u0e4c.insert(` $i$ `,` $e$ `)` \u0e40\u0e21\u0e37\u0e48\u0e2d $i$ \u0e04\u0e37\u0e2d index \u0e17\u0e35\u0e48\u0e40\u0e23\u0e32\u0e08\u0e30\u0e41\u0e17\u0e23\u0e01\u0e2a\u0e21\u0e32\u0e0a\u0e34\u0e01\u0e43\u0e2b\u0e21\u0e48\u0e25\u0e07\u0e44\u0e1b \u0e41\u0e25\u0e30 $e$ \u0e04\u0e37\u0e2d\u0e2a\u0e21\u0e32\u0e0a\u0e34\u0e01\u0e43\u0e2b\u0e21\u0e48\u0e15\u0e31\u0e27\u0e19\u0e31\u0e49\u0e19"
   ]
  },
  {
   "cell_type": "code",
   "execution_count": 4,
   "metadata": {
    "id": "C5AMxC88KFH-"
   },
   "outputs": [
    {
     "name": "stdout",
     "output_type": "stream",
     "text": [
      "[20, 40, 70, 60, 80, 100]\n"
     ]
    }
   ],
   "source": [
    "my_numbers = [20, 40, 60, 80, 100]\n",
    "my_numbers.insert(2, 70)\n",
    "print(my_numbers)"
   ]
  },
  {
   "cell_type": "markdown",
   "metadata": {
    "id": "JFYhTawxQWIf"
   },
   "source": [
    "### \u0e41\u0e1a\u0e1a\u0e1d\u0e36\u0e01\u0e2b\u0e31\u0e14 9.2\n",
    "\n",
    "\u0e08\u0e07\u0e40\u0e1e\u0e34\u0e48\u0e21\u0e2a\u0e21\u0e32\u0e0a\u0e34\u0e01\u0e43\u0e2b\u0e21\u0e48\u0e25\u0e07\u0e43\u0e19\u0e25\u0e34\u0e2a\u0e15\u0e4c `my_numbers` \u0e15\u0e32\u0e21\u0e23\u0e32\u0e22\u0e01\u0e32\u0e23\u0e14\u0e31\u0e07\u0e15\u0e48\u0e2d\u0e44\u0e1b\u0e19\u0e35\u0e49\n",
    "\n",
    "1. \u0e40\u0e25\u0e02 50 \u0e17\u0e35\u0e48 index 1\n",
    "2. \u0e40\u0e25\u0e02 70 \u0e17\u0e35\u0e48 index 3\n",
    "3. \u0e40\u0e25\u0e02 90 \u0e17\u0e35\u0e48 index 5\n",
    "\n",
    "\u0e41\u0e25\u0e49\u0e27\u0e08\u0e36\u0e07\u0e41\u0e2a\u0e14\u0e07\u0e25\u0e34\u0e2a\u0e15\u0e4c `my_numbers` \u0e2d\u0e2d\u0e01\u0e17\u0e35\u0e48\u0e2b\u0e19\u0e49\u0e32\u0e08\u0e2d"
   ]
  },
  {
   "cell_type": "code",
   "execution_count": 5,
   "metadata": {
    "id": "bScVxd9WRXIs"
   },
   "outputs": [
    {
     "name": "stdout",
     "output_type": "stream",
     "text": [
      "[20, 50, 40, 70, 60, 90, 80, 100]\n"
     ]
    }
   ],
   "source": [
    "my_numbers = [20, 40, 60, 80, 100]\n",
    "\n",
    "# \u0e41\u0e17\u0e23\u0e01\u0e40\u0e25\u0e02 50 \u0e17\u0e35\u0e48 index 1\n",
    "my_numbers.insert(1, 50)      # \u0e41\u0e01\u0e49\u0e42\u0e04\u0e49\u0e14\u0e17\u0e35\u0e48\u0e19\u0e35\u0e48\n",
    "\n",
    "# \u0e41\u0e17\u0e23\u0e01\u0e40\u0e25\u0e02 70 \u0e17\u0e35\u0e48 index 3\n",
    "my_numbers.insert(3,70)      # \u0e41\u0e01\u0e49\u0e42\u0e04\u0e49\u0e14\u0e17\u0e35\u0e48\u0e19\u0e35\u0e48\n",
    "\n",
    "# \u0e41\u0e17\u0e23\u0e01\u0e40\u0e25\u0e02 90 \u0e17\u0e35\u0e48 index 5\n",
    "my_numbers.insert(5,90)      # \u0e41\u0e01\u0e49\u0e42\u0e04\u0e49\u0e14\u0e17\u0e35\u0e48\u0e19\u0e35\u0e48\n",
    "\n",
    "print(my_numbers)"
   ]
  },
  {
   "cell_type": "markdown",
   "metadata": {
    "id": "uJFLpqdbSLmk"
   },
   "source": [
    "\u0e1c\u0e25\u0e25\u0e31\u0e1e\u0e18\u0e4c\u0e17\u0e35\u0e48\u0e44\u0e14\u0e49\u0e04\u0e27\u0e23\u0e08\u0e30\u0e40\u0e1b\u0e47\u0e19 `[20, 50, 40, 70, 60, 90, 80, 100]` \u0e19\u0e30\u0e04\u0e23\u0e31\u0e1a"
   ]
  },
  {
   "cell_type": "markdown",
   "metadata": {
    "id": "2qVg4PxJLWo9"
   },
   "source": [
    "### \u0e41\u0e1a\u0e1a\u0e1d\u0e36\u0e01\u0e2b\u0e31\u0e14 9.3\n",
    "\n",
    "\u0e2b\u0e32\u0e01\u0e40\u0e23\u0e32\u0e41\u0e17\u0e23\u0e01\u0e15\u0e31\u0e27\u0e40\u0e25\u0e02 11 \u0e16\u0e36\u0e07 15 \u0e40\u0e02\u0e49\u0e32\u0e44\u0e1b\u0e17\u0e35\u0e48\u0e15\u0e49\u0e19\u0e25\u0e34\u0e2a\u0e15\u0e4c `my_numbers` (\u0e04\u0e37\u0e2d index \u0e17\u0e35\u0e48 0) \u0e40\u0e23\u0e32\u0e08\u0e30\u0e44\u0e14\u0e49\u0e1c\u0e25\u0e25\u0e31\u0e1e\u0e18\u0e4c\u0e14\u0e31\u0e07\u0e19\u0e35\u0e49"
   ]
  },
  {
   "cell_type": "code",
   "execution_count": 6,
   "metadata": {
    "id": "-b8OdcGZPEL4"
   },
   "outputs": [
    {
     "name": "stdout",
     "output_type": "stream",
     "text": [
      "[15, 14, 13, 12, 11, 1, 2, 3, 4, 5]\n"
     ]
    }
   ],
   "source": [
    "my_numbers = [1, 2, 3, 4, 5]\n",
    "new_numbers = [11, 12, 13, 14, 15]\n",
    "\n",
    "for i in new_numbers:\n",
    "    my_numbers.insert(0, i)\n",
    "    \n",
    "print(my_numbers)"
   ]
  },
  {
   "cell_type": "markdown",
   "metadata": {
    "id": "c-KvsW5OPI1O"
   },
   "source": [
    "\u0e08\u0e30\u0e2a\u0e31\u0e07\u0e40\u0e01\u0e15\u0e44\u0e14\u0e49\u0e27\u0e48\u0e32 \u0e15\u0e31\u0e27\u0e40\u0e25\u0e02 11 \u0e16\u0e36\u0e07 15 \u0e17\u0e35\u0e48\u0e14\u0e49\u0e32\u0e19\u0e1a\u0e19\u0e22\u0e31\u0e07\u0e04\u0e07\u0e40\u0e23\u0e35\u0e22\u0e07\u0e25\u0e33\u0e14\u0e31\u0e1a\u0e08\u0e32\u0e01\u0e21\u0e32\u0e01\u0e44\u0e1b\u0e19\u0e49\u0e2d\u0e22\u0e2d\u0e22\u0e39\u0e48 \u0e40\u0e23\u0e32\u0e21\u0e32\u0e41\u0e01\u0e49\u0e44\u0e02\u0e42\u0e1b\u0e23\u0e41\u0e01\u0e23\u0e21\u0e14\u0e49\u0e32\u0e19\u0e1a\u0e19\u0e40\u0e1e\u0e37\u0e48\u0e2d\u0e43\u0e2b\u0e49\u0e15\u0e31\u0e27\u0e40\u0e25\u0e02 11 \u0e16\u0e36\u0e07 15 \u0e40\u0e23\u0e35\u0e22\u0e07\u0e25\u0e33\u0e14\u0e31\u0e1a\u0e08\u0e32\u0e01\u0e19\u0e49\u0e2d\u0e22\u0e44\u0e1b\u0e21\u0e32\u0e01\u0e01\u0e31\u0e19\u0e14\u0e35\u0e01\u0e27\u0e48\u0e32\u0e04\u0e23\u0e31\u0e1a"
   ]
  },
  {
   "cell_type": "code",
   "execution_count": 7,
   "metadata": {
    "id": "zQ5tXL7cLBnA"
   },
   "outputs": [
    {
     "name": "stdout",
     "output_type": "stream",
     "text": [
      "[11, 12, 13, 14, 15, 1, 2, 3, 4, 5]\n"
     ]
    }
   ],
   "source": [
    "my_numbers = [1, 2, 3, 4, 5]\n",
    "new_numbers = [11, 12, 13, 14, 15]\n",
    "\n",
    "for i in range(len(new_numbers)):\n",
    "    my_numbers.insert(i, new_numbers[i])      # \u0e41\u0e01\u0e49\u0e44\u0e02\u0e42\u0e04\u0e49\u0e14\u0e17\u0e35\u0e48\u0e19\u0e35\u0e48\n",
    "    \n",
    "print(my_numbers)"
   ]
  },
  {
   "cell_type": "markdown",
   "metadata": {
    "id": "zaLymp5FNRHb"
   },
   "source": [
    "\u0e1c\u0e25\u0e25\u0e31\u0e1e\u0e18\u0e4c\u0e17\u0e35\u0e48\u0e44\u0e14\u0e49\u0e04\u0e27\u0e23\u0e08\u0e30\u0e40\u0e1b\u0e47\u0e19\u0e14\u0e31\u0e07\u0e19\u0e35\u0e49\u0e04\u0e23\u0e31\u0e1a `[11, 12, 13, 14, 15, 1, 2, 3, 4, 5]`"
   ]
  },
  {
   "cell_type": "markdown",
   "metadata": {
    "id": "meYuc0n_ScVP"
   },
   "source": [
    "### \u0e41\u0e1a\u0e1a\u0e1d\u0e36\u0e01\u0e2b\u0e31\u0e14 9.4: Insertion Sort\n",
    "\n",
    "\u0e08\u0e07\u0e40\u0e02\u0e35\u0e22\u0e19\u0e42\u0e1b\u0e23\u0e41\u0e01\u0e23\u0e21\u0e40\u0e1e\u0e37\u0e48\u0e2d\u0e40\u0e23\u0e35\u0e22\u0e07\u0e25\u0e33\u0e14\u0e31\u0e1a\u0e02\u0e49\u0e2d\u0e21\u0e39\u0e25\u0e14\u0e49\u0e27\u0e22\u0e41\u0e2d\u0e25\u0e01\u0e2d\u0e23\u0e34\u0e18\u0e36\u0e21 Insertion Sort \n",
    "\n",
    "\u0e2b\u0e25\u0e31\u0e01\u0e01\u0e32\u0e23\u0e02\u0e2d\u0e07 insertion sort \u0e40\u0e1b\u0e23\u0e35\u0e22\u0e1a\u0e40\u0e2a\u0e21\u0e37\u0e2d\u0e19\u0e01\u0e32\u0e23\u0e40\u0e23\u0e35\u0e22\u0e07\u0e44\u0e1e\u0e48\u0e43\u0e19\u0e21\u0e37\u0e2d \u0e40\u0e27\u0e25\u0e32\u0e17\u0e35\u0e48\u0e40\u0e23\u0e32\u0e40\u0e25\u0e48\u0e19\u0e44\u0e1e\u0e48 \u0e2b\u0e25\u0e31\u0e07\u0e08\u0e32\u0e01\u0e17\u0e35\u0e48\u0e40\u0e23\u0e32\u0e08\u0e31\u0e48\u0e27\u0e44\u0e1e\u0e48\u0e02\u0e36\u0e49\u0e19\u0e21\u0e32 \u0e40\u0e23\u0e32\u0e08\u0e30\u0e19\u0e33\u0e44\u0e1e\u0e48\u0e43\u0e1a\u0e19\u0e31\u0e49\u0e19\u0e21\u0e32\u0e40\u0e17\u0e35\u0e22\u0e1a\u0e01\u0e31\u0e1a\u0e44\u0e1e\u0e48\u0e41\u0e15\u0e48\u0e25\u0e30\u0e43\u0e1a\u0e43\u0e19\u0e21\u0e37\u0e2d \u0e2b\u0e32\u0e01\u0e44\u0e1e\u0e48\u0e17\u0e35\u0e48\u0e08\u0e31\u0e48\u0e27\u0e44\u0e14\u0e49\u0e21\u0e32\u0e21\u0e35\u0e04\u0e48\u0e32\u0e19\u0e49\u0e2d\u0e22\u0e01\u0e27\u0e48\u0e32\u0e44\u0e1e\u0e48\u0e43\u0e1a\u0e44\u0e2b\u0e19\u0e43\u0e19\u0e21\u0e37\u0e2d \u0e40\u0e23\u0e32\u0e01\u0e47\u0e08\u0e30\u0e19\u0e33\u0e44\u0e1e\u0e48\u0e43\u0e1a\u0e43\u0e2b\u0e21\u0e48\u0e44\u0e1b\u0e41\u0e17\u0e23\u0e01\u0e17\u0e35\u0e48\u0e15\u0e33\u0e41\u0e2b\u0e19\u0e48\u0e07\u0e19\u0e31\u0e49\u0e19\n",
    "\n",
    "\u0e40\u0e23\u0e32\u0e08\u0e30\u0e08\u0e31\u0e48\u0e27\u0e44\u0e1e\u0e48\u0e41\u0e1a\u0e1a\u0e19\u0e35\u0e49\u0e44\u0e1b\u0e40\u0e23\u0e37\u0e48\u0e2d\u0e22\u0e46 \u0e08\u0e19\u0e01\u0e27\u0e48\u0e32\u0e44\u0e1e\u0e48\u0e08\u0e30\u0e2b\u0e21\u0e14\u0e01\u0e2d\u0e07 \u0e2a\u0e34\u0e48\u0e07\u0e17\u0e35\u0e48\u0e44\u0e14\u0e49\u0e04\u0e37\u0e2d\u0e44\u0e1e\u0e48\u0e43\u0e19\u0e21\u0e37\u0e2d\u0e02\u0e2d\u0e07\u0e40\u0e23\u0e32\u0e08\u0e30\u0e40\u0e23\u0e35\u0e22\u0e07\u0e25\u0e33\u0e14\u0e31\u0e1a\u0e15\u0e32\u0e21\u0e2b\u0e19\u0e49\u0e32\u0e44\u0e1e\u0e48\u0e04\u0e23\u0e31\u0e1a\n",
    "\n",
    "\u0e43\u0e19\u0e41\u0e1a\u0e1a\u0e1d\u0e36\u0e01\u0e2b\u0e31\u0e14\u0e19\u0e35\u0e49\u0e40\u0e23\u0e32\u0e08\u0e30\u0e21\u0e32\u0e40\u0e02\u0e35\u0e22\u0e19\u0e42\u0e1b\u0e23\u0e41\u0e01\u0e23\u0e21\u0e40\u0e23\u0e35\u0e22\u0e07\u0e25\u0e33\u0e14\u0e31\u0e1a\u0e15\u0e31\u0e27\u0e40\u0e25\u0e02 \u0e42\u0e14\u0e22\u0e43\u0e0a\u0e49\u0e2b\u0e25\u0e31\u0e01\u0e01\u0e32\u0e23\u0e40\u0e14\u0e35\u0e22\u0e27\u0e01\u0e31\u0e19\u0e01\u0e32\u0e23\u0e40\u0e23\u0e35\u0e22\u0e07\u0e44\u0e1e\u0e48\u0e43\u0e19\u0e21\u0e37\u0e2d\u0e19\u0e30\u0e04\u0e23\u0e31\u0e1a"
   ]
  },
  {
   "cell_type": "code",
   "execution_count": 8,
   "metadata": {
    "id": "ihDGffbqNDA9"
   },
   "outputs": [
    {
     "name": "stdout",
     "output_type": "stream",
     "text": [
      "[1, 2, 3, 3, 4, 5, 6, 7, 8, 8, 9, 10]\n"
     ]
    }
   ],
   "source": [
    "# \u0e01\u0e2d\u0e07\u0e44\u0e1e\u0e48\n",
    "items = [3, 8, 5, 10, 2, 9, 7, 6, 3, 8, 1, 4]\n",
    "\n",
    "# \u0e44\u0e1e\u0e48\u0e17\u0e35\u0e48\u0e2d\u0e22\u0e39\u0e48\u0e43\u0e19\u0e21\u0e37\u0e2d\n",
    "result = []\n",
    "\n",
    "# \u0e08\u0e31\u0e48\u0e27\u0e44\u0e1e\u0e48\u0e08\u0e32\u0e01\u0e01\u0e2d\u0e07\u0e2d\u0e2d\u0e01\u0e21\u0e32\u0e17\u0e35\u0e25\u0e30\u0e43\u0e1a\n",
    "for new_item in items:\n",
    "    \n",
    "    # \u0e15\u0e31\u0e27\u0e41\u0e1b\u0e23\u0e19\u0e35\u0e49\u0e21\u0e35\u0e44\u0e27\u0e49\u0e15\u0e23\u0e27\u0e08\u0e2a\u0e2d\u0e1a\u0e27\u0e48\u0e32 \u0e40\u0e23\u0e32\u0e41\u0e17\u0e23\u0e01\u0e44\u0e1e\u0e48\u0e17\u0e35\u0e48\u0e08\u0e31\u0e48\u0e27\u0e21\u0e32\u0e25\u0e07\u0e43\u0e19\u0e21\u0e37\u0e2d\u0e44\u0e14\u0e49\u0e2b\u0e23\u0e37\u0e2d\u0e22\u0e31\u0e07\n",
    "    is_inserted = False\n",
    "    \n",
    "    # \u0e44\u0e25\u0e48\u0e40\u0e17\u0e35\u0e22\u0e1a\u0e44\u0e1e\u0e48\u0e17\u0e35\u0e48\u0e08\u0e31\u0e48\u0e27\u0e44\u0e14\u0e49\u0e01\u0e31\u0e1a\u0e44\u0e1e\u0e48\u0e41\u0e15\u0e48\u0e25\u0e30\u0e43\u0e1a\u0e43\u0e19\u0e21\u0e37\u0e2d \u0e42\u0e14\u0e22\u0e15\u0e31\u0e27\u0e41\u0e1b\u0e23 j \u0e08\u0e30\u0e41\u0e17\u0e19\u0e15\u0e33\u0e41\u0e2b\u0e19\u0e48\u0e07\u0e44\u0e1e\u0e48\u0e41\u0e15\u0e48\u0e25\u0e30\u0e43\u0e1a\u0e43\u0e19\u0e21\u0e37\u0e2d\n",
    "    for j in range(len(result)):\n",
    "        \n",
    "        # \u0e16\u0e49\u0e32\u0e44\u0e1e\u0e48\u0e17\u0e35\u0e48\u0e08\u0e31\u0e48\u0e27\u0e44\u0e14\u0e49\u0e21\u0e35\u0e2b\u0e19\u0e49\u0e32\u0e44\u0e1e\u0e48\u0e19\u0e49\u0e2d\u0e22\u0e01\u0e27\u0e48\u0e32\u0e2b\u0e23\u0e37\u0e2d\u0e40\u0e17\u0e48\u0e32\u0e01\u0e31\u0e1a\u0e44\u0e1e\u0e48\u0e43\u0e19\u0e21\u0e37\u0e2d\n",
    "        if new_item < result[j]:                          # \u0e41\u0e01\u0e49\u0e44\u0e02\u0e42\u0e04\u0e49\u0e14\u0e17\u0e35\u0e48\u0e19\u0e35\u0e48\n",
    "            \n",
    "            # \u0e43\u0e2b\u0e49\u0e41\u0e17\u0e23\u0e01\u0e44\u0e1e\u0e48\u0e17\u0e35\u0e48\u0e08\u0e31\u0e48\u0e27\u0e44\u0e14\u0e49\u0e25\u0e07\u0e44\u0e1b\u0e17\u0e35\u0e48\u0e15\u0e33\u0e41\u0e2b\u0e19\u0e48\u0e07\u0e14\u0e31\u0e07\u0e01\u0e25\u0e48\u0e32\u0e27 \u0e41\u0e25\u0e49\u0e27\u0e1a\u0e31\u0e19\u0e17\u0e36\u0e01\u0e44\u0e27\u0e49\u0e27\u0e48\u0e32\u0e41\u0e17\u0e23\u0e01\u0e44\u0e1e\u0e48\u0e44\u0e14\u0e49\u0e41\u0e25\u0e49\u0e27\n",
    "            result.insert(j, new_item)          # \u0e41\u0e01\u0e49\u0e44\u0e02\u0e42\u0e04\u0e49\u0e14\u0e17\u0e35\u0e48\u0e19\u0e35\u0e48\n",
    "            is_inserted = True\n",
    "            break\n",
    "\n",
    "    # \u0e16\u0e49\u0e32\u0e2b\u0e32\u0e01\u0e40\u0e17\u0e35\u0e22\u0e1a\u0e08\u0e19\u0e04\u0e23\u0e1a\u0e17\u0e38\u0e01\u0e43\u0e1a\u0e43\u0e19\u0e21\u0e37\u0e2d\u0e41\u0e25\u0e49\u0e27 \u0e22\u0e31\u0e07\u0e41\u0e17\u0e23\u0e01\u0e44\u0e1e\u0e48\u0e44\u0e21\u0e48\u0e44\u0e14\u0e49\u0e40\u0e25\u0e22\n",
    "    if not is_inserted:\n",
    "        \n",
    "        # \u0e43\u0e2b\u0e49\u0e19\u0e33\u0e44\u0e1e\u0e48\u0e17\u0e35\u0e48\u0e08\u0e31\u0e48\u0e27\u0e44\u0e14\u0e49\u0e44\u0e1b\u0e15\u0e48\u0e2d\u0e17\u0e49\u0e32\u0e22\u0e44\u0e1e\u0e48\u0e17\u0e35\u0e48\u0e2d\u0e22\u0e39\u0e48\u0e43\u0e19\u0e21\u0e37\u0e2d\u0e41\u0e17\u0e19\n",
    "        result.append(new_item)              # \u0e41\u0e01\u0e49\u0e44\u0e02\u0e42\u0e04\u0e49\u0e14\u0e17\u0e35\u0e48\u0e19\u0e35\u0e48\n",
    "            \n",
    "print(result)"
   ]
  },
  {
   "cell_type": "markdown",
   "metadata": {
    "id": "_stu3ePIwyQ0"
   },
   "source": [
    "### \u0e01\u0e32\u0e23\u0e40\u0e1e\u0e34\u0e48\u0e21\u0e2a\u0e21\u0e32\u0e0a\u0e34\u0e01\u0e43\u0e19\u0e25\u0e34\u0e2a\u0e15\u0e4c\u0e14\u0e49\u0e27\u0e22\u0e04\u0e33\u0e2a\u0e31\u0e48\u0e07 `extend`"
   ]
  },
  {
   "cell_type": "markdown",
   "metadata": {
    "id": "MHbaPuYIw120"
   },
   "source": [
    "- \u0e19\u0e2d\u0e01\u0e08\u0e32\u0e01\u0e19\u0e35\u0e49\u0e40\u0e23\u0e32\u0e22\u0e31\u0e07\u0e2a\u0e32\u0e21\u0e32\u0e23\u0e16\u0e40\u0e1e\u0e34\u0e48\u0e21\u0e40\u0e15\u0e34\u0e21\u0e2a\u0e21\u0e32\u0e0a\u0e34\u0e01\u0e08\u0e32\u0e01\u0e25\u0e34\u0e2a\u0e15\u0e4c\u0e2d\u0e37\u0e48\u0e19\u0e40\u0e02\u0e49\u0e32\u0e44\u0e1b\u0e15\u0e48\u0e2d\u0e17\u0e49\u0e32\u0e22\u0e25\u0e34\u0e2a\u0e15\u0e4c\u0e17\u0e35\u0e48\u0e40\u0e23\u0e32\u0e2a\u0e19\u0e43\u0e08\u0e44\u0e14\u0e49\u0e14\u0e49\u0e27\u0e22\u0e04\u0e33\u0e2a\u0e31\u0e48\u0e07 `\u0e25\u0e34\u0e2a\u0e15\u0e4c\u0e1b\u0e25\u0e32\u0e22\u0e17\u0e32\u0e07.extend(\u0e25\u0e34\u0e2a\u0e15\u0e4c\u0e15\u0e49\u0e19\u0e17\u0e32\u0e07)`\n",
    "- \u0e02\u0e49\u0e2d\u0e41\u0e15\u0e01\u0e15\u0e48\u0e32\u0e07\u0e2a\u0e33\u0e04\u0e31\u0e0d\u0e23\u0e30\u0e2b\u0e27\u0e48\u0e32\u0e07 `extend` \u0e01\u0e31\u0e1a `append` \u0e01\u0e47\u0e04\u0e37\u0e2d `extend` \u0e08\u0e30\u0e19\u0e33\u0e2a\u0e21\u0e32\u0e0a\u0e34\u0e01\u0e17\u0e38\u0e01\u0e15\u0e31\u0e27\u0e43\u0e19\u0e25\u0e34\u0e2a\u0e15\u0e4c\u0e15\u0e49\u0e19\u0e17\u0e32\u0e07\u0e21\u0e32\u0e15\u0e48\u0e2d\u0e17\u0e49\u0e32\u0e22\u0e25\u0e34\u0e2a\u0e15\u0e4c\u0e1b\u0e25\u0e32\u0e22\u0e17\u0e32\u0e07 \u0e2a\u0e48\u0e27\u0e19 `append` \u0e08\u0e30\u0e19\u0e33\u0e2a\u0e21\u0e32\u0e0a\u0e34\u0e01\u0e2b\u0e19\u0e36\u0e48\u0e07\u0e15\u0e31\u0e27\u0e21\u0e32\u0e15\u0e48\u0e2d\u0e17\u0e49\u0e32\u0e22\u0e25\u0e34\u0e2a\u0e15\u0e4c\u0e04\u0e23\u0e31\u0e1a\n",
    "- \u0e40\u0e0a\u0e48\u0e19 \u0e40\u0e23\u0e32\u0e2a\u0e32\u0e21\u0e32\u0e23\u0e16\u0e40\u0e1e\u0e34\u0e48\u0e21\u0e2a\u0e21\u0e32\u0e0a\u0e34\u0e01\u0e08\u0e32\u0e01\u0e25\u0e34\u0e2a\u0e15\u0e4c `[11, 12, 13, 14, 15]` \u0e44\u0e1b\u0e15\u0e48\u0e2d\u0e17\u0e49\u0e32\u0e22\u0e25\u0e34\u0e2a\u0e15\u0e4c `my_list` \u0e44\u0e14\u0e49\u0e14\u0e49\u0e27\u0e22\u0e42\u0e1b\u0e23\u0e41\u0e01\u0e23\u0e21\u0e19\u0e35\u0e49\u0e04\u0e23\u0e31\u0e1a"
   ]
  },
  {
   "cell_type": "code",
   "execution_count": 9,
   "metadata": {
    "id": "3wYLXPA6xP0t"
   },
   "outputs": [
    {
     "name": "stdout",
     "output_type": "stream",
     "text": [
      "[1, 2, 3, 4, 5, 11, 12, 13, 14, 15]\n"
     ]
    }
   ],
   "source": [
    "my_list = [1, 2, 3, 4, 5]\n",
    "new_list = [11, 12, 13, 14, 15]\n",
    "\n",
    "my_list.extend(new_list)\n",
    "print(my_list)"
   ]
  },
  {
   "cell_type": "markdown",
   "metadata": {
    "id": "-4OlMza-x2yU"
   },
   "source": [
    "### \u0e41\u0e1a\u0e1a\u0e1d\u0e36\u0e01\u0e2b\u0e31\u0e14 9.5"
   ]
  },
  {
   "cell_type": "markdown",
   "metadata": {
    "id": "5qieWwSSx561"
   },
   "source": [
    "\u0e08\u0e07\u0e19\u0e33\u0e2a\u0e21\u0e32\u0e0a\u0e34\u0e01\u0e02\u0e2d\u0e07\u0e25\u0e34\u0e2a\u0e15\u0e4c `new_list_1`, `new_list_2`, `new_list_3`, \u0e41\u0e25\u0e30 `new_list_4` \u0e21\u0e32\u0e15\u0e48\u0e2d\u0e17\u0e49\u0e32\u0e22\u0e25\u0e34\u0e2a\u0e15\u0e4c `my_list` \u0e40\u0e1e\u0e37\u0e48\u0e2d\u0e43\u0e2b\u0e49\u0e44\u0e14\u0e49\u0e1c\u0e25\u0e25\u0e31\u0e1e\u0e18\u0e4c\u0e14\u0e31\u0e07\u0e19\u0e35\u0e49\n",
    "\n",
    "`[10, 11, 12, 4, 5, 6, 7, 8, 9, 1, 2, 3]`"
   ]
  },
  {
   "cell_type": "code",
   "execution_count": 10,
   "metadata": {
    "id": "6P6U8IYHzKKl"
   },
   "outputs": [
    {
     "name": "stdout",
     "output_type": "stream",
     "text": [
      "[10, 11, 12, 4, 5, 6, 7, 8, 9, 1, 2, 3]\n"
     ]
    }
   ],
   "source": [
    "my_list = []\n",
    "new_list_1 = [1, 2, 3]\n",
    "new_list_2 = [4, 5, 6]\n",
    "new_list_3 = [7, 8, 9]\n",
    "new_list_4 = [10, 11, 12]\n",
    "\n",
    "# \u0e15\u0e48\u0e2d\u0e25\u0e34\u0e2a\u0e15\u0e4c my_list \u0e14\u0e49\u0e27\u0e22\u0e04\u0e33\u0e2a\u0e31\u0e48\u0e07 extend\n",
    "my_list.extend(new_list_4)\n",
    "my_list.extend(new_list_2)\n",
    "my_list.extend(new_list_3)\n",
    "my_list.extend(new_list_1)\n",
    "\n",
    "print(my_list)"
   ]
  },
  {
   "cell_type": "markdown",
   "metadata": {
    "id": "exPzS5c2y1NS"
   },
   "source": [
    "### \u0e01\u0e32\u0e23\u0e25\u0e1a\u0e2a\u0e21\u0e32\u0e0a\u0e34\u0e01\u0e43\u0e19\u0e25\u0e34\u0e2a\u0e15\u0e4c\u0e14\u0e49\u0e27\u0e22\u0e04\u0e33\u0e2a\u0e31\u0e48\u0e07 `del`"
   ]
  },
  {
   "cell_type": "markdown",
   "metadata": {
    "id": "dAlipUaMy9Yo"
   },
   "source": [
    "- \u0e40\u0e23\u0e32\u0e2a\u0e32\u0e21\u0e32\u0e23\u0e16\u0e25\u0e1a\u0e2a\u0e21\u0e32\u0e0a\u0e34\u0e01\u0e43\u0e19\u0e25\u0e34\u0e2a\u0e15\u0e4c\u0e44\u0e14\u0e49\u0e14\u0e49\u0e27\u0e22\u0e04\u0e33\u0e2a\u0e31\u0e48\u0e07 `del` \u0e04\u0e23\u0e31\u0e1a\n",
    "- \u0e40\u0e0a\u0e48\u0e19 \u0e40\u0e23\u0e32\u0e2a\u0e32\u0e21\u0e32\u0e23\u0e16\u0e25\u0e1a\u0e2a\u0e21\u0e32\u0e0a\u0e34\u0e01\u0e17\u0e35\u0e48 index \u0e17\u0e35\u0e48 2 \u0e2d\u0e2d\u0e01\u0e08\u0e32\u0e01\u0e25\u0e34\u0e2a\u0e15\u0e4c `my_numbers` \u0e44\u0e14\u0e49\u0e14\u0e49\u0e27\u0e22\u0e04\u0e33\u0e2a\u0e31\u0e48\u0e07 `del my_numbers[2]` \u0e14\u0e31\u0e07\u0e19\u0e35\u0e49"
   ]
  },
  {
   "cell_type": "code",
   "execution_count": 11,
   "metadata": {
    "id": "z5AH00qjsl0U"
   },
   "outputs": [
    {
     "name": "stdout",
     "output_type": "stream",
     "text": [
      "[11, 12, 14, 15]\n"
     ]
    }
   ],
   "source": [
    "my_numbers = [11, 12, 13, 14, 15]\n",
    "del my_numbers[2]\n",
    "print(my_numbers)"
   ]
  },
  {
   "cell_type": "markdown",
   "metadata": {
    "id": "nbGb93yXzyS7"
   },
   "source": [
    "### \u0e41\u0e1a\u0e1a\u0e1d\u0e36\u0e01\u0e2b\u0e31\u0e14 9.6"
   ]
  },
  {
   "cell_type": "markdown",
   "metadata": {
    "id": "Dn8UB4JXz7-b"
   },
   "source": [
    "\u0e08\u0e07\u0e25\u0e1a\u0e2a\u0e21\u0e32\u0e0a\u0e34\u0e01\u0e2d\u0e2d\u0e01\u0e08\u0e32\u0e01\u0e25\u0e34\u0e2a\u0e15\u0e4c `my_numbers` \u0e15\u0e32\u0e21\u0e23\u0e32\u0e22\u0e01\u0e32\u0e23\u0e14\u0e31\u0e07\u0e15\u0e48\u0e2d\u0e44\u0e1b\u0e19\u0e35\u0e49\n",
    "\n",
    "1. index \u0e17\u0e35\u0e48 1\n",
    "2. index \u0e17\u0e35\u0e48 2\n",
    "3. index \u0e17\u0e35\u0e48 3\n",
    "\n",
    "\u0e41\u0e25\u0e49\u0e27\u0e08\u0e36\u0e07\u0e41\u0e2a\u0e14\u0e07\u0e25\u0e34\u0e2a\u0e15\u0e4c `my_numbers` \u0e2d\u0e2d\u0e01\u0e17\u0e35\u0e48\u0e2b\u0e19\u0e49\u0e32\u0e08\u0e2d"
   ]
  },
  {
   "cell_type": "code",
   "execution_count": 12,
   "metadata": {
    "id": "HKUMospoze-e"
   },
   "outputs": [
    {
     "name": "stdout",
     "output_type": "stream",
     "text": [
      "[20, 40, 60, 80, 100]\n"
     ]
    }
   ],
   "source": [
    "my_numbers = [20, 50, 40, 70, 60, 90, 80, 100]\n",
    "\n",
    "# \u0e25\u0e1a\u0e2a\u0e21\u0e32\u0e0a\u0e34\u0e01\u0e17\u0e35\u0e48 index 1\n",
    "del my_numbers[1]\n",
    "\n",
    "# \u0e25\u0e1a\u0e2a\u0e21\u0e32\u0e0a\u0e34\u0e01\u0e17\u0e35\u0e48 index 2\n",
    "del my_numbers[2]\n",
    "\n",
    "# \u0e25\u0e1a\u0e2a\u0e21\u0e32\u0e0a\u0e34\u0e01\u0e17\u0e35\u0e48 index 3\n",
    "del my_numbers[3]\n",
    "\n",
    "print(my_numbers)"
   ]
  },
  {
   "cell_type": "markdown",
   "metadata": {
    "id": "34tbI-0H1KPM"
   },
   "source": [
    "- \u0e19\u0e2d\u0e01\u0e08\u0e32\u0e01\u0e19\u0e35\u0e49\u0e40\u0e23\u0e32\u0e22\u0e31\u0e07\u0e2a\u0e32\u0e21\u0e32\u0e23\u0e16\u0e25\u0e1a\u0e2a\u0e21\u0e32\u0e0a\u0e34\u0e01\u0e2d\u0e2d\u0e01\u0e08\u0e32\u0e01\u0e25\u0e34\u0e2a\u0e15\u0e4c\u0e41\u0e1a\u0e1a\u0e40\u0e1b\u0e47\u0e19\u0e0a\u0e48\u0e27\u0e07\u0e46 \u0e44\u0e14\u0e49\u0e14\u0e49\u0e27\u0e22\u0e04\u0e23\u0e31\u0e1a\n",
    "- \u0e40\u0e0a\u0e48\u0e19 \u0e40\u0e23\u0e32\u0e2a\u0e32\u0e21\u0e32\u0e23\u0e16\u0e25\u0e1a\u0e2a\u0e21\u0e32\u0e0a\u0e34\u0e01 index \u0e17\u0e35\u0e48 1 \u0e16\u0e36\u0e07 3 \u0e2d\u0e2d\u0e01\u0e08\u0e32\u0e01\u0e25\u0e34\u0e2a\u0e15\u0e4c `my_numbers` \u0e44\u0e14\u0e49\u0e14\u0e31\u0e07\u0e19\u0e35\u0e49"
   ]
  },
  {
   "cell_type": "code",
   "execution_count": 13,
   "metadata": {
    "id": "4ACxrHuV0KES"
   },
   "outputs": [
    {
     "name": "stdout",
     "output_type": "stream",
     "text": [
      "[11, 15]\n"
     ]
    }
   ],
   "source": [
    "my_numbers = [11, 12, 13, 14, 15]\n",
    "del my_numbers[1:4]\n",
    "print(my_numbers)"
   ]
  },
  {
   "cell_type": "markdown",
   "metadata": {
    "id": "dbAFA2pu7GBz"
   },
   "source": [
    "### \u0e41\u0e1a\u0e1a\u0e1d\u0e36\u0e01\u0e2b\u0e31\u0e14 9.7"
   ]
  },
  {
   "cell_type": "markdown",
   "metadata": {
    "id": "CWfXPcCZ7MNK"
   },
   "source": [
    "\u0e08\u0e07\u0e25\u0e1a\u0e2a\u0e21\u0e32\u0e0a\u0e34\u0e01\u0e43\u0e19\u0e0a\u0e48\u0e27\u0e07 index \u0e17\u0e35\u0e48\u0e01\u0e33\u0e2b\u0e19\u0e14\u0e2d\u0e2d\u0e01\u0e08\u0e32\u0e01\u0e25\u0e34\u0e2a\u0e15\u0e4c `my_numbers`\n",
    "\n",
    "1. index \u0e17\u0e35\u0e48 5 \u0e16\u0e36\u0e07 10\n",
    "2. index \u0e17\u0e35\u0e48 15 \u0e16\u0e36\u0e07 20"
   ]
  },
  {
   "cell_type": "code",
   "execution_count": 14,
   "metadata": {
    "id": "dHi8V9471vKa"
   },
   "outputs": [
    {
     "name": "stdout",
     "output_type": "stream",
     "text": [
      "[0, 1, 2, 3, 4, 10, 11, 12, 13, 14, 15, 16, 17, 18, 19, 25, 26, 27, 28, 29, 30, 31, 32, 33, 34, 35, 36, 37, 38, 39]\n"
     ]
    }
   ],
   "source": [
    "# \u0e2a\u0e23\u0e49\u0e32\u0e07\u0e25\u0e34\u0e2a\u0e15\u0e4c\u0e08\u0e32\u0e01\u0e0a\u0e48\u0e27\u0e07\u0e08\u0e33\u0e19\u0e27\u0e19 0 \u0e16\u0e36\u0e07 39\n",
    "my_numbers = list(range(40))\n",
    "\n",
    "# \u0e25\u0e1a\u0e2a\u0e21\u0e32\u0e0a\u0e34\u0e01 index \u0e17\u0e35\u0e48 5 \u0e16\u0e36\u0e07 10\n",
    "del my_numbers[5:10]\n",
    "\n",
    "# \u0e25\u0e1a\u0e2a\u0e21\u0e32\u0e0a\u0e34\u0e01 index \u0e17\u0e35\u0e48 15 \u0e16\u0e36\u0e07 20\n",
    "del my_numbers[15:20]\n",
    "\n",
    "print(my_numbers)"
   ]
  },
  {
   "cell_type": "markdown",
   "metadata": {
    "id": "1dHzdqlc9Gmq"
   },
   "source": [
    "### \u0e01\u0e32\u0e23\u0e40\u0e23\u0e35\u0e22\u0e07\u0e25\u0e33\u0e14\u0e31\u0e1a\u0e2a\u0e21\u0e32\u0e0a\u0e34\u0e01\u0e43\u0e19\u0e25\u0e34\u0e2a\u0e15\u0e4c"
   ]
  },
  {
   "cell_type": "markdown",
   "metadata": {
    "id": "LDAj0PH29MIQ"
   },
   "source": [
    "- \u0e43\u0e19\u0e20\u0e32\u0e29\u0e32 Python \u0e08\u0e30\u0e21\u0e35\u0e04\u0e33\u0e2a\u0e31\u0e48\u0e07\u0e2a\u0e33\u0e2b\u0e23\u0e31\u0e1a\u0e40\u0e23\u0e35\u0e22\u0e07\u0e25\u0e33\u0e14\u0e31\u0e1a\u0e2a\u0e21\u0e32\u0e0a\u0e34\u0e01\u0e43\u0e19\u0e25\u0e34\u0e2a\u0e15\u0e4c\u0e2d\u0e22\u0e39\u0e48 2 \u0e04\u0e33\u0e2a\u0e31\u0e48\u0e07\u0e04\u0e37\u0e2d `sort` \u0e41\u0e25\u0e30 `sorted`\n",
    "- **\u0e04\u0e33\u0e2a\u0e31\u0e48\u0e07 `\u0e25\u0e34\u0e2a\u0e15\u0e4c.sort()`** \u0e08\u0e30\u0e40\u0e23\u0e35\u0e22\u0e07\u0e25\u0e33\u0e14\u0e31\u0e1a\u0e2a\u0e21\u0e32\u0e0a\u0e34\u0e01\u0e20\u0e32\u0e22\u0e43\u0e19\u0e25\u0e34\u0e2a\u0e15\u0e4c\u0e42\u0e14\u0e22\u0e08\u0e30\u0e17\u0e31\u0e1a\u0e25\u0e34\u0e2a\u0e15\u0e4c\u0e15\u0e31\u0e27\u0e40\u0e14\u0e34\u0e21\u0e44\u0e1b\u0e40\u0e25\u0e22\u0e04\u0e23\u0e31\u0e1a\n",
    "- \u0e17\u0e31\u0e49\u0e07\u0e19\u0e35\u0e49\u0e42\u0e1b\u0e23\u0e14\u0e2a\u0e31\u0e07\u0e40\u0e01\u0e15\u0e27\u0e48\u0e32 \u0e40\u0e23\u0e32\u0e08\u0e30\u0e43\u0e0a\u0e49\u0e04\u0e33\u0e2a\u0e31\u0e48\u0e07 `sort` \u0e19\u0e35\u0e49\u0e15\u0e48\u0e2d\u0e17\u0e49\u0e32\u0e22\u0e25\u0e34\u0e2a\u0e15\u0e4c\u0e17\u0e35\u0e48\u0e40\u0e23\u0e32\u0e15\u0e49\u0e2d\u0e07\u0e01\u0e32\u0e23"
   ]
  },
  {
   "cell_type": "code",
   "execution_count": 15,
   "metadata": {
    "id": "JFW-b1ad7czL"
   },
   "outputs": [
    {
     "name": "stdout",
     "output_type": "stream",
     "text": [
      "[1, 2, 3, 3, 4, 5, 6, 7, 8, 8, 9, 10]\n"
     ]
    }
   ],
   "source": [
    "items = [3, 8, 5, 10, 2, 9, 7, 6, 3, 8, 1, 4]\n",
    "items.sort()\n",
    "print(items)"
   ]
  },
  {
   "cell_type": "markdown",
   "metadata": {
    "id": "ZlqE1RyL9uM2"
   },
   "source": [
    "- \u0e43\u0e19\u0e02\u0e13\u0e30\u0e17\u0e35\u0e48 **\u0e04\u0e33\u0e2a\u0e31\u0e48\u0e07 `sorted()`** \u0e08\u0e30\u0e2a\u0e23\u0e49\u0e32\u0e07\u0e25\u0e34\u0e2a\u0e15\u0e4c\u0e43\u0e2b\u0e21\u0e48\u0e17\u0e35\u0e48\u0e40\u0e1b\u0e47\u0e19\u0e1c\u0e25\u0e25\u0e31\u0e1e\u0e18\u0e4c\u0e08\u0e32\u0e01\u0e01\u0e32\u0e23\u0e40\u0e23\u0e35\u0e22\u0e07\u0e25\u0e33\u0e14\u0e31\u0e1a\u0e2a\u0e21\u0e32\u0e0a\u0e34\u0e01\u0e43\u0e19\u0e25\u0e34\u0e2a\u0e15\u0e4c\u0e15\u0e31\u0e27\u0e40\u0e14\u0e34\u0e21\n",
    "- \u0e17\u0e31\u0e49\u0e07\u0e19\u0e35\u0e49\u0e42\u0e1b\u0e23\u0e14\u0e2a\u0e31\u0e07\u0e40\u0e01\u0e15\u0e27\u0e48\u0e32 \u0e40\u0e23\u0e32\u0e08\u0e30\u0e43\u0e0a\u0e49\u0e04\u0e33\u0e2a\u0e31\u0e48\u0e07 `sorted` \u0e04\u0e23\u0e48\u0e2d\u0e21\u0e25\u0e34\u0e2a\u0e15\u0e4c\u0e17\u0e35\u0e48\u0e40\u0e23\u0e32\u0e15\u0e49\u0e2d\u0e07\u0e01\u0e32\u0e23"
   ]
  },
  {
   "cell_type": "code",
   "execution_count": 16,
   "metadata": {
    "id": "gXMq5Y239sZd"
   },
   "outputs": [
    {
     "name": "stdout",
     "output_type": "stream",
     "text": [
      "Old items: [3, 8, 5, 10, 2, 9, 7, 6, 3, 8, 1, 4]\n",
      "New items: [1, 2, 3, 3, 4, 5, 6, 7, 8, 8, 9, 10]\n"
     ]
    }
   ],
   "source": [
    "old_items = [3, 8, 5, 10, 2, 9, 7, 6, 3, 8, 1, 4]\n",
    "new_items = sorted(old_items)\n",
    "print('Old items:', old_items)\n",
    "print('New items:', new_items)"
   ]
  },
  {
   "cell_type": "markdown",
   "metadata": {
    "id": "YuccXK_S-2Xk"
   },
   "source": [
    "- \u0e40\u0e23\u0e32\u0e2a\u0e32\u0e21\u0e32\u0e23\u0e16\u0e23\u0e30\u0e1a\u0e38\u0e17\u0e34\u0e28\u0e17\u0e32\u0e07\u0e02\u0e2d\u0e07\u0e01\u0e32\u0e23\u0e40\u0e23\u0e35\u0e22\u0e07\u0e25\u0e33\u0e14\u0e31\u0e1a\u0e2a\u0e21\u0e32\u0e0a\u0e34\u0e01\u0e43\u0e2b\u0e49\u0e40\u0e23\u0e35\u0e22\u0e07\u0e22\u0e49\u0e2d\u0e19\u0e2b\u0e25\u0e31\u0e07\u0e44\u0e14\u0e49\u0e14\u0e49\u0e27\u0e22\u0e2d\u0e2d\u0e1e\u0e0a\u0e31\u0e48\u0e19 `reverse=True` \u0e04\u0e23\u0e31\u0e1a"
   ]
  },
  {
   "cell_type": "code",
   "execution_count": 17,
   "metadata": {
    "id": "JNtEJXAN99wo"
   },
   "outputs": [
    {
     "name": "stdout",
     "output_type": "stream",
     "text": [
      "[10, 9, 8, 8, 7, 6, 5, 4, 3, 3, 2, 1]\n"
     ]
    }
   ],
   "source": [
    "items = [3, 8, 5, 10, 2, 9, 7, 6, 3, 8, 1, 4]\n",
    "items.sort(reverse=True)\n",
    "print(items)"
   ]
  },
  {
   "cell_type": "code",
   "execution_count": 18,
   "metadata": {
    "id": "eXu4Fh5d_NDb"
   },
   "outputs": [
    {
     "name": "stdout",
     "output_type": "stream",
     "text": [
      "Old items: [3, 8, 5, 10, 2, 9, 7, 6, 3, 8, 1, 4]\n",
      "New items: [10, 9, 8, 8, 7, 6, 5, 4, 3, 3, 2, 1]\n"
     ]
    }
   ],
   "source": [
    "old_items = [3, 8, 5, 10, 2, 9, 7, 6, 3, 8, 1, 4]\n",
    "new_items = sorted(old_items, reverse=True)\n",
    "print('Old items:', old_items)\n",
    "print('New items:', new_items)"
   ]
  },
  {
   "cell_type": "markdown",
   "metadata": {
    "id": "-om1xe1i_WTK"
   },
   "source": [
    "- \u0e04\u0e33\u0e2a\u0e31\u0e48\u0e07 `sorted` \u0e19\u0e35\u0e49\u0e08\u0e30\u0e21\u0e35\u0e1b\u0e23\u0e30\u0e42\u0e22\u0e0a\u0e19\u0e4c\u0e21\u0e32\u0e01\u0e43\u0e19\u0e01\u0e32\u0e23\u0e27\u0e19\u0e25\u0e39\u0e1b\u0e15\u0e32\u0e21\u0e01\u0e32\u0e23\u0e40\u0e23\u0e35\u0e22\u0e07\u0e25\u0e33\u0e14\u0e31\u0e1a\u0e02\u0e2d\u0e07\u0e2a\u0e21\u0e32\u0e0a\u0e34\u0e01\u0e20\u0e32\u0e22\u0e43\u0e19\u0e25\u0e34\u0e2a\u0e15\u0e4c \u0e42\u0e14\u0e22\u0e17\u0e35\u0e48\u0e44\u0e21\u0e48\u0e2a\u0e48\u0e07\u0e1c\u0e25\u0e02\u0e49\u0e32\u0e07\u0e40\u0e04\u0e35\u0e22\u0e07\u0e01\u0e31\u0e1a\u0e25\u0e34\u0e2a\u0e15\u0e4c\u0e14\u0e31\u0e07\u0e01\u0e25\u0e48\u0e32\u0e27\u0e04\u0e23\u0e31\u0e1a"
   ]
  },
  {
   "cell_type": "code",
   "execution_count": 19,
   "metadata": {
    "id": "NKGR_V5c_PjX"
   },
   "outputs": [
    {
     "name": "stdout",
     "output_type": "stream",
     "text": [
      "The item list is: [3, 8, 5, 10, 2, 9, 7, 6, 3, 8, 1, 4]\n",
      "\n",
      "Sort and print\n",
      "Item = 1\n",
      "Item = 2\n",
      "Item = 3\n",
      "Item = 3\n",
      "Item = 4\n",
      "Item = 5\n",
      "Item = 6\n",
      "Item = 7\n",
      "Item = 8\n",
      "Item = 8\n",
      "Item = 9\n",
      "Item = 10\n",
      "\n",
      "Reversed sort and print\n",
      "Item = 10\n",
      "Item = 9\n",
      "Item = 8\n",
      "Item = 8\n",
      "Item = 7\n",
      "Item = 6\n",
      "Item = 5\n",
      "Item = 4\n",
      "Item = 3\n",
      "Item = 3\n",
      "Item = 2\n",
      "Item = 1\n",
      "\n",
      "The item list is still the same: [3, 8, 5, 10, 2, 9, 7, 6, 3, 8, 1, 4]\n"
     ]
    }
   ],
   "source": [
    "items = [3, 8, 5, 10, 2, 9, 7, 6, 3, 8, 1, 4]\n",
    "print('The item list is:', items)\n",
    "print()\n",
    "\n",
    "print('Sort and print')\n",
    "for item in sorted(items):\n",
    "    print('Item =', item)\n",
    "print()\n",
    "\n",
    "print('Reversed sort and print')\n",
    "for item in sorted(items, reverse=True):\n",
    "    print('Item =', item)\n",
    "print()\n",
    "\n",
    "print('The item list is still the same:', items)"
   ]
  },
  {
   "cell_type": "markdown",
   "metadata": {
    "id": "fT76-vpUI4wc"
   },
   "source": [
    "### \u0e41\u0e1a\u0e1a\u0e1d\u0e36\u0e01\u0e2b\u0e31\u0e14 9.8"
   ]
  },
  {
   "cell_type": "markdown",
   "metadata": {
    "id": "zBdMzXfFI7rw"
   },
   "source": [
    "\u0e08\u0e07\u0e41\u0e2a\u0e14\u0e07\u0e04\u0e27\u0e32\u0e21\u0e2a\u0e39\u0e07\u0e02\u0e2d\u0e07\u0e19\u0e31\u0e01\u0e40\u0e23\u0e35\u0e22\u0e19\u0e2d\u0e2d\u0e01\u0e2b\u0e19\u0e49\u0e32\u0e08\u0e2d \u0e42\u0e14\u0e22\u0e44\u0e25\u0e48\u0e25\u0e33\u0e14\u0e31\u0e1a\u0e08\u0e32\u0e01\u0e2b\u0e31\u0e27\u0e41\u0e16\u0e27\u0e0b\u0e36\u0e48\u0e07\u0e2a\u0e39\u0e07\u0e17\u0e35\u0e48\u0e2a\u0e38\u0e14 \u0e44\u0e1b\u0e2b\u0e32\u0e17\u0e49\u0e32\u0e22\u0e41\u0e16\u0e27\u0e0b\u0e36\u0e48\u0e07\u0e40\u0e15\u0e35\u0e49\u0e22\u0e17\u0e35\u0e48\u0e2a\u0e38\u0e14 \u0e41\u0e25\u0e30\u0e41\u0e1b\u0e25\u0e07\u0e2b\u0e19\u0e48\u0e27\u0e22\u0e02\u0e2d\u0e07\u0e04\u0e27\u0e32\u0e21\u0e2a\u0e39\u0e07\u0e08\u0e32\u0e01\u0e2b\u0e19\u0e48\u0e27\u0e22\u0e40\u0e0b\u0e19\u0e15\u0e34\u0e40\u0e21\u0e15\u0e23\u0e40\u0e1b\u0e47\u0e19\u0e2b\u0e19\u0e48\u0e27\u0e22\u0e40\u0e21\u0e15\u0e23 \u0e17\u0e31\u0e49\u0e07\u0e19\u0e35\u0e49\u0e02\u0e2d\u0e01\u0e33\u0e2b\u0e19\u0e14\u0e43\u0e2b\u0e49\u0e43\u0e0a\u0e49\u0e04\u0e33\u0e2a\u0e31\u0e48\u0e07 `sorted` \u0e43\u0e19\u0e01\u0e32\u0e23\u0e08\u0e31\u0e14\u0e25\u0e33\u0e14\u0e31\u0e1a\u0e04\u0e27\u0e32\u0e21\u0e2a\u0e39\u0e07\u0e02\u0e2d\u0e07\u0e19\u0e31\u0e01\u0e40\u0e23\u0e35\u0e22\u0e19"
   ]
  },
  {
   "cell_type": "code",
   "execution_count": 20,
   "metadata": {
    "id": "tx-szqfo_4a6"
   },
   "outputs": [
    {
     "name": "stdout",
     "output_type": "stream",
     "text": [
      "[1.7, 1.67, 1.635, 1.6125, 1.5]\n"
     ]
    }
   ],
   "source": [
    "student_heights = [163.5, 150.0, 167.0, 161.25, 170.0]\n",
    "\n",
    "print([i * 0.01 for i in sorted(student_heights, reverse=True)])"
   ]
  },
  {
   "cell_type": "markdown",
   "metadata": {
    "id": "q7s7Ud51Ne-5"
   },
   "source": [
    "### \u0e01\u0e32\u0e23\u0e15\u0e23\u0e27\u0e08\u0e2a\u0e2d\u0e1a\u0e01\u0e32\u0e23\u0e40\u0e1b\u0e47\u0e19\u0e2a\u0e21\u0e32\u0e0a\u0e34\u0e01"
   ]
  },
  {
   "cell_type": "markdown",
   "metadata": {
    "id": "PqGGWHMCNiY_"
   },
   "source": [
    "- \u0e40\u0e23\u0e32\u0e2a\u0e32\u0e21\u0e32\u0e23\u0e16\u0e15\u0e23\u0e27\u0e08\u0e2a\u0e2d\u0e1a\u0e01\u0e32\u0e23\u0e40\u0e1b\u0e47\u0e19\u0e2a\u0e21\u0e32\u0e0a\u0e34\u0e01\u0e02\u0e2d\u0e07\u0e25\u0e34\u0e2a\u0e15\u0e4c\u0e14\u0e49\u0e27\u0e22\u0e04\u0e33\u0e2a\u0e31\u0e48\u0e07 `in`\n",
    "- \u0e40\u0e0a\u0e48\u0e19 \u0e2b\u0e32\u0e01\u0e40\u0e23\u0e32\u0e15\u0e49\u0e2d\u0e07\u0e01\u0e32\u0e23\u0e15\u0e23\u0e27\u0e08\u0e2a\u0e2d\u0e1a\u0e27\u0e48\u0e32 \u0e21\u0e35\u0e2a\u0e15\u0e23\u0e34\u0e07 `'name'` \u0e2d\u0e22\u0e39\u0e48\u0e43\u0e19\u0e25\u0e34\u0e2a\u0e15\u0e4c `my_list` \u0e2b\u0e23\u0e37\u0e2d\u0e44\u0e21\u0e48 \u0e40\u0e23\u0e32\u0e2a\u0e32\u0e21\u0e32\u0e23\u0e16\u0e43\u0e0a\u0e49\u0e04\u0e33\u0e2a\u0e31\u0e48\u0e07\u0e27\u0e48\u0e32 `'name' in my_list` \u0e44\u0e14\u0e49\u0e14\u0e31\u0e07\u0e15\u0e31\u0e27\u0e2d\u0e22\u0e48\u0e32\u0e07\u0e14\u0e49\u0e32\u0e19\u0e25\u0e48\u0e32\u0e07\u0e04\u0e23\u0e31\u0e1a"
   ]
  },
  {
   "cell_type": "code",
   "execution_count": 21,
   "metadata": {
    "id": "cEePwXgiQCZ8"
   },
   "outputs": [
    {
     "name": "stdout",
     "output_type": "stream",
     "text": [
      "It is in the list!\n"
     ]
    }
   ],
   "source": [
    "my_list = ['hello', 'my', 'name', 'is', 'prachya']\n",
    "if 'name' in my_list:\n",
    "    print('It is in the list!')\n",
    "else:\n",
    "    print('It is not in the list.')"
   ]
  },
  {
   "cell_type": "markdown",
   "metadata": {
    "id": "NzNdnGUMS8Ed"
   },
   "source": [
    "- \u0e2a\u0e48\u0e27\u0e19\u0e01\u0e32\u0e23\u0e15\u0e23\u0e27\u0e08\u0e2a\u0e2d\u0e1a\u0e01\u0e32\u0e23\u0e44\u0e21\u0e48\u0e40\u0e1b\u0e47\u0e19\u0e2a\u0e21\u0e32\u0e0a\u0e34\u0e01 \u0e2a\u0e32\u0e21\u0e32\u0e23\u0e16\u0e17\u0e33\u0e44\u0e14\u0e49\u0e42\u0e14\u0e22\u0e43\u0e0a\u0e49\u0e04\u0e33\u0e2a\u0e31\u0e48\u0e07 `not in` \n",
    "- \u0e40\u0e0a\u0e48\u0e19 \u0e2b\u0e32\u0e01\u0e40\u0e23\u0e32\u0e15\u0e49\u0e2d\u0e07\u0e01\u0e32\u0e23\u0e15\u0e23\u0e27\u0e08\u0e2a\u0e2d\u0e1a\u0e27\u0e48\u0e32 `'doraemon'` \u0e2d\u0e22\u0e39\u0e48\u0e43\u0e19\u0e25\u0e34\u0e2a\u0e15\u0e4c `my_list` \u0e2b\u0e23\u0e37\u0e2d\u0e44\u0e21\u0e48 \u0e40\u0e23\u0e32\u0e01\u0e47\u0e43\u0e0a\u0e49\u0e04\u0e33\u0e2a\u0e31\u0e48\u0e07 `'doraemon' not in my_list` \u0e44\u0e14\u0e49\u0e14\u0e31\u0e07\u0e15\u0e31\u0e27\u0e2d\u0e22\u0e48\u0e32\u0e07\u0e14\u0e49\u0e32\u0e19\u0e25\u0e48\u0e32\u0e07\u0e04\u0e23\u0e31\u0e1a"
   ]
  },
  {
   "cell_type": "code",
   "execution_count": 22,
   "metadata": {
    "id": "ISr5M1vCTHDv"
   },
   "outputs": [
    {
     "name": "stdout",
     "output_type": "stream",
     "text": [
      "It is not in the list!\n"
     ]
    }
   ],
   "source": [
    "my_list = ['hello', 'my', 'name', 'is', 'prachya']\n",
    "if 'doraemon' not in my_list:\n",
    "    print('It is not in the list!')\n",
    "else:\n",
    "    print('It is in the list.')"
   ]
  },
  {
   "cell_type": "markdown",
   "metadata": {
    "id": "Es7cyQUhSaLZ"
   },
   "source": [
    "### \u0e41\u0e1a\u0e1a\u0e1d\u0e36\u0e01\u0e2b\u0e31\u0e14 9.9"
   ]
  },
  {
   "cell_type": "markdown",
   "metadata": {
    "id": "PNk7IgUzSdjy"
   },
   "source": [
    "\u0e08\u0e07\u0e19\u0e33\u0e2a\u0e21\u0e32\u0e0a\u0e34\u0e01\u0e08\u0e32\u0e01\u0e25\u0e34\u0e2a\u0e15\u0e4c `my_list` \u0e21\u0e32\u0e2a\u0e23\u0e49\u0e32\u0e07\u0e25\u0e34\u0e2a\u0e15\u0e4c\u0e43\u0e2b\u0e21\u0e48\u0e0a\u0e37\u0e48\u0e2d\u0e27\u0e48\u0e32 `new_list` \u0e42\u0e14\u0e22\u0e25\u0e1a\u0e2a\u0e21\u0e32\u0e0a\u0e34\u0e01\u0e17\u0e35\u0e48\u0e21\u0e35\u0e0b\u0e49\u0e33\u0e01\u0e31\u0e19\u0e2d\u0e2d\u0e01\u0e44\u0e1b"
   ]
  },
  {
   "cell_type": "code",
   "execution_count": 23,
   "metadata": {
    "id": "srHdDSQrSvQN"
   },
   "outputs": [
    {
     "name": "stdout",
     "output_type": "stream",
     "text": [
      "[3, 8, 5, 10, 2, 9, 7, 6, 1, 4]\n"
     ]
    }
   ],
   "source": [
    "my_list = [3, 8, 5, 10, 2, 9, 7, 6, 3, 8, 1, 4]\n",
    "new_list = []\n",
    "\n",
    "for element in my_list:\n",
    "    if element not in new_list:\n",
    "        new_list.append(element)\n",
    "\n",
    "print(new_list)"
   ]
  },
  {
   "cell_type": "markdown",
   "metadata": {
    "id": "WEwzqLSgLwyp"
   },
   "source": [
    "### \u0e17\u0e39\u0e40\u0e1e\u0e34\u0e25 (tuple)"
   ]
  },
  {
   "cell_type": "markdown",
   "metadata": {
    "id": "mjHvOjE8LzS7"
   },
   "source": [
    "- \u0e17\u0e39\u0e40\u0e1e\u0e34\u0e25 (tuple) \u0e04\u0e37\u0e2d\u0e25\u0e34\u0e2a\u0e15\u0e4c\u0e17\u0e35\u0e48\u0e21\u0e35\u0e02\u0e19\u0e32\u0e14\u0e04\u0e07\u0e17\u0e35\u0e48 \u0e44\u0e21\u0e48\u0e2a\u0e32\u0e21\u0e32\u0e23\u0e16\u0e40\u0e1e\u0e34\u0e48\u0e21\u0e2b\u0e23\u0e37\u0e2d\u0e25\u0e14\u0e2a\u0e21\u0e32\u0e0a\u0e34\u0e01\u0e44\u0e14\u0e49\u0e2d\u0e35\u0e01\n",
    "- \u0e17\u0e39\u0e40\u0e1e\u0e34\u0e25\u0e43\u0e0a\u0e49\u0e2a\u0e31\u0e0d\u0e25\u0e31\u0e01\u0e29\u0e13\u0e4c `( )` \u0e41\u0e25\u0e30\u0e04\u0e31\u0e48\u0e19\u0e14\u0e49\u0e27\u0e22\u0e40\u0e04\u0e23\u0e37\u0e48\u0e2d\u0e07\u0e2b\u0e21\u0e32\u0e22\u0e04\u0e2d\u0e21\u0e21\u0e32 `,`"
   ]
  },
  {
   "cell_type": "code",
   "execution_count": 24,
   "metadata": {
    "id": "zeXUrAlzMWeh"
   },
   "outputs": [
    {
     "name": "stdout",
     "output_type": "stream",
     "text": [
      "(3, 5)\n",
      "(4, 7)\n",
      "(3, 8, 5, 10, 2, 9, 7, 6, 3, 8, 1, 4)\n"
     ]
    }
   ],
   "source": [
    "# \u0e04\u0e39\u0e48\u0e25\u0e33\u0e14\u0e31\u0e1a\u0e40\u0e1b\u0e47\u0e19 tuple \u0e17\u0e35\u0e48\u0e21\u0e35\u0e2a\u0e21\u0e32\u0e0a\u0e34\u0e01 2 \u0e15\u0e31\u0e27\n",
    "coor1 = (3, 5)\n",
    "coor2 = (4, 7)\n",
    "print(coor1)\n",
    "print(coor2)\n",
    "\n",
    "# \u0e04\u0e39\u0e48\u0e25\u0e33\u0e14\u0e31\u0e1a\u0e2a\u0e32\u0e21\u0e32\u0e23\u0e16\u0e21\u0e35\u0e2a\u0e21\u0e32\u0e0a\u0e34\u0e01\u0e44\u0e14\u0e49\u0e2b\u0e25\u0e32\u0e22\u0e15\u0e31\u0e27\n",
    "my_tuple = (3, 8, 5, 10, 2, 9, 7, 6, 3, 8, 1, 4)\n",
    "print(my_tuple)"
   ]
  },
  {
   "cell_type": "markdown",
   "metadata": {
    "id": "ClSbKF37M2hl"
   },
   "source": [
    "- \u0e40\u0e23\u0e32\u0e2a\u0e32\u0e21\u0e32\u0e23\u0e16\u0e43\u0e0a\u0e49\u0e15\u0e31\u0e27\u0e14\u0e33\u0e40\u0e19\u0e34\u0e19\u0e01\u0e32\u0e23 `len` \u0e40\u0e1e\u0e37\u0e48\u0e2d\u0e2b\u0e32\u0e02\u0e19\u0e32\u0e14\u0e02\u0e2d\u0e07\u0e17\u0e39\u0e40\u0e1e\u0e34\u0e25\u0e44\u0e14\u0e49"
   ]
  },
  {
   "cell_type": "code",
   "execution_count": 25,
   "metadata": {
    "id": "ZkTWeb5TMtMK"
   },
   "outputs": [
    {
     "data": {
      "text/plain": [
       "12"
      ]
     },
     "execution_count": 25,
     "metadata": {},
     "output_type": "execute_result"
    }
   ],
   "source": [
    "len(my_tuple)"
   ]
  },
  {
   "cell_type": "markdown",
   "metadata": {
    "id": "ryunconwmvPi"
   },
   "source": [
    "- \u0e40\u0e23\u0e32\u0e2a\u0e32\u0e21\u0e32\u0e23\u0e16\u0e19\u0e33\u0e04\u0e48\u0e32\u0e41\u0e15\u0e48\u0e25\u0e30\u0e15\u0e31\u0e27\u0e43\u0e19\u0e17\u0e39\u0e40\u0e1e\u0e34\u0e25\u0e21\u0e32\u0e43\u0e2a\u0e48\u0e15\u0e31\u0e27\u0e41\u0e1b\u0e23\u0e44\u0e14\u0e49\u0e2d\u0e35\u0e01\u0e14\u0e49\u0e27\u0e22 \u0e42\u0e14\u0e22\u0e15\u0e31\u0e27\u0e41\u0e1b\u0e23\u0e17\u0e35\u0e48\u0e19\u0e33\u0e21\u0e32\u0e23\u0e31\u0e1a\u0e04\u0e48\u0e32 \u0e15\u0e49\u0e2d\u0e07\u0e21\u0e35\u0e08\u0e33\u0e19\u0e27\u0e19\u0e40\u0e17\u0e48\u0e32\u0e01\u0e31\u0e1a\u0e08\u0e33\u0e19\u0e27\u0e19\u0e2a\u0e21\u0e32\u0e0a\u0e34\u0e01\u0e43\u0e19\u0e17\u0e39\u0e40\u0e1e\u0e34\u0e25\u0e19\u0e31\u0e49\u0e19\u0e46"
   ]
  },
  {
   "cell_type": "code",
   "execution_count": 26,
   "metadata": {
    "id": "xwtPbsajm8aY"
   },
   "outputs": [
    {
     "name": "stdout",
     "output_type": "stream",
     "text": [
      "3 5\n",
      "1 2 3\n"
     ]
    }
   ],
   "source": [
    "coor_2d = (3, 5)\n",
    "coor_3d = (1, 2, 3)\n",
    "\n",
    "x1, y1 = coor_2d\n",
    "x2, y2, z2 = coor_3d\n",
    "\n",
    "print(x1, y1)\n",
    "print(x2, y2, z2)"
   ]
  },
  {
   "cell_type": "markdown",
   "metadata": {
    "id": "T3EyucoyNeCU"
   },
   "source": [
    "- \u0e19\u0e2d\u0e01\u0e08\u0e32\u0e01\u0e19\u0e35\u0e49 \u0e40\u0e23\u0e32\u0e22\u0e31\u0e07\u0e43\u0e0a\u0e49 indexing \u0e40\u0e1e\u0e37\u0e48\u0e2d\u0e40\u0e02\u0e49\u0e32\u0e16\u0e36\u0e07\u0e2a\u0e21\u0e32\u0e0a\u0e34\u0e01\u0e43\u0e19\u0e17\u0e39\u0e40\u0e1e\u0e34\u0e25\u0e44\u0e14\u0e49\u0e2d\u0e35\u0e01\u0e14\u0e49\u0e27\u0e22 \u0e42\u0e14\u0e22\u0e16\u0e49\u0e32\u0e40\u0e23\u0e32\u0e17\u0e33 slicing \u0e1c\u0e25\u0e25\u0e31\u0e1e\u0e18\u0e4c\u0e01\u0e47\u0e08\u0e30\u0e2d\u0e2d\u0e01\u0e21\u0e32\u0e40\u0e1b\u0e47\u0e19\u0e17\u0e39\u0e40\u0e1e\u0e34\u0e25\u0e14\u0e49\u0e27\u0e22"
   ]
  },
  {
   "cell_type": "code",
   "execution_count": 27,
   "metadata": {
    "id": "qQuXE-GwNXdI"
   },
   "outputs": [
    {
     "data": {
      "text/plain": [
       "(5, 10, 2, 9, 7)"
      ]
     },
     "execution_count": 27,
     "metadata": {},
     "output_type": "execute_result"
    }
   ],
   "source": [
    "my_tuple[2:7]"
   ]
  },
  {
   "cell_type": "markdown",
   "metadata": {
    "id": "yA-qotKoPC0E"
   },
   "source": [
    "- \u0e40\u0e23\u0e32\u0e2a\u0e32\u0e21\u0e32\u0e23\u0e16\u0e40\u0e1b\u0e23\u0e35\u0e22\u0e1a\u0e40\u0e17\u0e35\u0e22\u0e1a\u0e17\u0e39\u0e40\u0e1e\u0e34\u0e25\u0e44\u0e14\u0e49 \u0e42\u0e14\u0e22\u0e04\u0e2d\u0e21\u0e1e\u0e34\u0e27\u0e40\u0e15\u0e2d\u0e23\u0e4c\u0e08\u0e30\u0e40\u0e23\u0e34\u0e48\u0e21\u0e40\u0e1b\u0e23\u0e35\u0e22\u0e1a\u0e40\u0e17\u0e35\u0e22\u0e1a\u0e08\u0e32\u0e01\u0e2a\u0e21\u0e32\u0e0a\u0e34\u0e01\u0e17\u0e35\u0e25\u0e30\u0e04\u0e39\u0e48 \u0e2b\u0e32\u0e01\u0e27\u0e48\u0e32\u0e2a\u0e21\u0e32\u0e0a\u0e34\u0e01\u0e04\u0e39\u0e48\u0e19\u0e31\u0e49\u0e19\u0e22\u0e31\u0e07\u0e40\u0e17\u0e48\u0e32\u0e01\u0e31\u0e19 \u0e01\u0e47\u0e08\u0e30\u0e40\u0e1b\u0e23\u0e35\u0e22\u0e1a\u0e40\u0e17\u0e35\u0e22\u0e1a\u0e2a\u0e21\u0e32\u0e0a\u0e34\u0e01\u0e15\u0e31\u0e27\u0e2d\u0e37\u0e48\u0e19\u0e15\u0e48\u0e2d\u0e44\u0e1b\u0e40\u0e23\u0e37\u0e48\u0e2d\u0e22\u0e46"
   ]
  },
  {
   "cell_type": "code",
   "execution_count": 28,
   "metadata": {
    "id": "YxiI93QfP-mV"
   },
   "outputs": [
    {
     "data": {
      "text/plain": [
       "True"
      ]
     },
     "execution_count": 28,
     "metadata": {},
     "output_type": "execute_result"
    }
   ],
   "source": [
    "(1, 2, 3) < (1, 2, 4)        # \u0e17\u0e39\u0e40\u0e1e\u0e34\u0e25\u0e41\u0e23\u0e01\u0e19\u0e49\u0e2d\u0e22\u0e01\u0e27\u0e48\u0e32\u0e17\u0e39\u0e40\u0e1e\u0e34\u0e25\u0e2b\u0e25\u0e31\u0e07 \u0e40\u0e1e\u0e23\u0e32\u0e30\u0e40\u0e1b\u0e23\u0e35\u0e22\u0e1a\u0e40\u0e17\u0e35\u0e22\u0e1a\u0e17\u0e35\u0e25\u0e30\u0e04\u0e39\u0e48\u0e08\u0e19\u0e44\u0e1b\u0e40\u0e08\u0e2d\u0e27\u0e48\u0e32 3 < 4"
   ]
  },
  {
   "cell_type": "code",
   "execution_count": 29,
   "metadata": {
    "id": "mXyxWHWgQEEN"
   },
   "outputs": [
    {
     "data": {
      "text/plain": [
       "True"
      ]
     },
     "execution_count": 29,
     "metadata": {},
     "output_type": "execute_result"
    }
   ],
   "source": [
    "(1, 2, 3) < (1, 2, 3, 0)     # \u0e17\u0e39\u0e40\u0e1e\u0e34\u0e25\u0e41\u0e23\u0e01\u0e19\u0e49\u0e2d\u0e22\u0e01\u0e27\u0e48\u0e32\u0e17\u0e39\u0e40\u0e1e\u0e34\u0e25\u0e2b\u0e25\u0e31\u0e07 \u0e40\u0e1e\u0e23\u0e32\u0e30\u0e17\u0e39\u0e40\u0e1e\u0e34\u0e25\u0e41\u0e23\u0e01\u0e2b\u0e21\u0e14\u0e2a\u0e21\u0e32\u0e0a\u0e34\u0e01\u0e01\u0e48\u0e2d\u0e19"
   ]
  },
  {
   "cell_type": "markdown",
   "metadata": {
    "id": "dn5vlGByR4ns"
   },
   "source": [
    "- \u0e19\u0e2d\u0e01\u0e08\u0e32\u0e01\u0e19\u0e35\u0e49 \u0e40\u0e23\u0e32\u0e22\u0e31\u0e07\u0e2a\u0e32\u0e21\u0e32\u0e23\u0e16\u0e19\u0e33\u0e17\u0e39\u0e40\u0e1e\u0e34\u0e25\u0e21\u0e32\u0e40\u0e1b\u0e47\u0e19\u0e2a\u0e21\u0e32\u0e0a\u0e34\u0e01\u0e02\u0e2d\u0e07\u0e25\u0e34\u0e2a\u0e15\u0e4c \u0e41\u0e25\u0e30\u0e2a\u0e32\u0e21\u0e32\u0e23\u0e16\u0e44\u0e25\u0e48\u0e25\u0e39\u0e1b\u0e44\u0e14\u0e49\u0e2d\u0e35\u0e01\u0e14\u0e49\u0e27\u0e22"
   ]
  },
  {
   "cell_type": "code",
   "execution_count": 30,
   "metadata": {
    "id": "p6vIjLSYSDgX"
   },
   "outputs": [
    {
     "name": "stdout",
     "output_type": "stream",
     "text": [
      "John : 35.5\n",
      "Mary : 73.0\n",
      "Cindy : 83.5\n",
      "Sean : 65.0\n",
      "Barry : 81.0\n",
      "Mark : 79.5\n",
      "Eugene : 87.0\n",
      "Bob : 49.5\n"
     ]
    }
   ],
   "source": [
    "student_scores = [\n",
    "    ('John', 35.5), ('Mary', 73.0), ('Cindy', 83.5), ('Sean', 65.0),\n",
    "    ('Barry', 81.0), ('Mark', 79.5), ('Eugene', 87.0), ('Bob', 49.5)\n",
    "]\n",
    "\n",
    "for (name, score) in student_scores:\n",
    "    print(name, ':', score)"
   ]
  },
  {
   "cell_type": "markdown",
   "metadata": {
    "id": "YRbvUe7zTRPP"
   },
   "source": [
    "- \u0e2b\u0e32\u0e01\u0e40\u0e23\u0e32\u0e15\u0e49\u0e2d\u0e07\u0e01\u0e32\u0e23\u0e40\u0e15\u0e34\u0e21\u0e2a\u0e21\u0e32\u0e0a\u0e34\u0e01\u0e17\u0e35\u0e48\u0e40\u0e1b\u0e47\u0e19\u0e17\u0e39\u0e40\u0e1e\u0e34\u0e25\u0e25\u0e07\u0e43\u0e19\u0e25\u0e34\u0e2a\u0e15\u0e4c\u0e14\u0e49\u0e27\u0e22\u0e04\u0e33\u0e2a\u0e31\u0e48\u0e07 append \u0e40\u0e23\u0e32\u0e15\u0e49\u0e2d\u0e07\u0e43\u0e2a\u0e48\u0e27\u0e07\u0e40\u0e25\u0e47\u0e1a\u0e40\u0e1e\u0e34\u0e48\u0e21\u0e2d\u0e35\u0e01 1 \u0e04\u0e39\u0e48 \u0e40\u0e1e\u0e37\u0e48\u0e2d\u0e43\u0e2b\u0e49\u0e04\u0e2d\u0e21\u0e1e\u0e34\u0e27\u0e40\u0e15\u0e2d\u0e23\u0e4c\u0e23\u0e39\u0e49\u0e27\u0e48\u0e32\u0e2a\u0e34\u0e48\u0e07\u0e40\u0e23\u0e32\u0e01\u0e33\u0e25\u0e31\u0e07\u0e08\u0e30\u0e43\u0e2a\u0e48\u0e19\u0e31\u0e49\u0e19\u0e40\u0e1b\u0e47\u0e19\u0e17\u0e39\u0e40\u0e1e\u0e34\u0e25"
   ]
  },
  {
   "cell_type": "code",
   "execution_count": 31,
   "metadata": {
    "id": "WA-sRDJkTcoF"
   },
   "outputs": [],
   "source": [
    "student_scores = [\n",
    "    ('John', 35.5), ('Mary', 73.0), ('Cindy', 83.5), ('Sean', 65.0),\n",
    "    ('Barry', 81.0), ('Mark', 79.5), ('Eugene', 87.0), ('Bob', 49.5)\n",
    "]\n",
    "\n",
    "student_scores.append( ('Peter', 90.0) )     # \u0e42\u0e1b\u0e23\u0e14\u0e2a\u0e31\u0e07\u0e40\u0e01\u0e15\u0e27\u0e48\u0e32\u0e08\u0e30\u0e21\u0e35\u0e27\u0e07\u0e40\u0e25\u0e47\u0e1a\u0e04\u0e23\u0e2d\u0e1a\u0e17\u0e39\u0e40\u0e1e\u0e34\u0e25\u0e14\u0e49\u0e27\u0e22"
   ]
  },
  {
   "cell_type": "markdown",
   "metadata": {
    "id": "acHJo4CDQcBS"
   },
   "source": [
    "### \u0e41\u0e1a\u0e1a\u0e1d\u0e36\u0e01\u0e2b\u0e31\u0e14 9.10"
   ]
  },
  {
   "cell_type": "markdown",
   "metadata": {
    "id": "HVeEsnwNQiSD"
   },
   "source": [
    "1. \u0e08\u0e07\u0e41\u0e2a\u0e14\u0e07\u0e0a\u0e37\u0e48\u0e2d\u0e41\u0e25\u0e30\u0e04\u0e30\u0e41\u0e19\u0e19\u0e02\u0e2d\u0e07\u0e19\u0e31\u0e01\u0e40\u0e23\u0e35\u0e22\u0e19\u0e08\u0e32\u0e01\u0e43\u0e19\u0e25\u0e34\u0e2a\u0e15\u0e4c `student_scores` \u0e0b\u0e36\u0e48\u0e07\u0e44\u0e14\u0e49\u0e04\u0e30\u0e41\u0e19\u0e19\u0e2a\u0e2d\u0e1a\u0e21\u0e32\u0e01\u0e01\u0e27\u0e48\u0e32 70 \u0e04\u0e30\u0e41\u0e19\u0e19"
   ]
  },
  {
   "cell_type": "code",
   "execution_count": 32,
   "metadata": {
    "id": "LA_4tQv3RDsy"
   },
   "outputs": [
    {
     "name": "stdout",
     "output_type": "stream",
     "text": [
      "Mary\n",
      "Cindy\n",
      "Barry\n",
      "Mark\n",
      "Eugene\n"
     ]
    }
   ],
   "source": [
    "student_scores = [\n",
    "    ('John', 35.5), ('Mary', 73.0), ('Cindy', 83.5), ('Sean', 65.0),\n",
    "    ('Barry', 81.0), ('Mark', 79.5), ('Eugene', 87.0), ('Bob', 49.5)\n",
    "]\n",
    "\n",
    "for (name, score) in student_scores:\n",
    "    if score > 70:\n",
    "        print(name)"
   ]
  },
  {
   "cell_type": "markdown",
   "metadata": {
    "id": "ZgtqoI7oSfNj"
   },
   "source": [
    "2. \u0e08\u0e07\u0e41\u0e2a\u0e14\u0e07\u0e0a\u0e37\u0e48\u0e2d\u0e41\u0e25\u0e30\u0e04\u0e30\u0e41\u0e19\u0e19\u0e02\u0e2d\u0e07\u0e19\u0e31\u0e01\u0e40\u0e23\u0e35\u0e22\u0e19\u0e43\u0e19\u0e25\u0e34\u0e2a\u0e15\u0e4c `student_scores` \u0e42\u0e14\u0e22\u0e40\u0e23\u0e35\u0e22\u0e07\u0e25\u0e33\u0e14\u0e31\u0e1a\u0e15\u0e32\u0e21\u0e04\u0e30\u0e41\u0e19\u0e19\u0e08\u0e32\u0e01\u0e21\u0e32\u0e01\u0e44\u0e1b\u0e2b\u0e32\u0e19\u0e49\u0e2d\u0e22"
   ]
  },
  {
   "cell_type": "code",
   "execution_count": 33,
   "metadata": {
    "id": "OW7RueAZS39L"
   },
   "outputs": [
    {
     "name": "stdout",
     "output_type": "stream",
     "text": [
      "Eugene : 87.0\n",
      "Cindy : 83.5\n",
      "Barry : 81.0\n",
      "Mark : 79.5\n",
      "Mary : 73.0\n",
      "Sean : 65.0\n",
      "Bob : 49.5\n",
      "John : 35.5\n"
     ]
    }
   ],
   "source": [
    "student_scores = [\n",
    "    ('John', 35.5), ('Mary', 73.0), ('Cindy', 83.5), ('Sean', 65.0),\n",
    "    ('Barry', 81.0), ('Mark', 79.5), ('Eugene', 87.0), ('Bob', 49.5)\n",
    "]\n",
    "\n",
    "inv_scores = []\n",
    "\n",
    "# \u0e01\u0e25\u0e31\u0e1a\u0e25\u0e33\u0e14\u0e31\u0e1a\u0e02\u0e2d\u0e07\u0e17\u0e39\u0e40\u0e1e\u0e34\u0e25\u0e43\u0e19\u0e25\u0e34\u0e2a\u0e15\u0e4c student_scores \u0e43\u0e2b\u0e49\u0e01\u0e25\u0e32\u0e22\u0e40\u0e1b\u0e47\u0e19 (\u0e04\u0e30\u0e41\u0e19\u0e19, \u0e0a\u0e37\u0e48\u0e2d) \u0e41\u0e25\u0e49\u0e27\u0e40\u0e01\u0e47\u0e1a\u0e25\u0e07\u0e43\u0e19 inv_scores\n",
    "for (nm,sc) in student_scores:          # \u0e41\u0e01\u0e49\u0e42\u0e04\u0e49\u0e14\u0e17\u0e35\u0e48\u0e19\u0e35\u0e48\n",
    "    inv_scores.append((sc,nm))        # \u0e41\u0e01\u0e49\u0e42\u0e04\u0e49\u0e14\u0e17\u0e35\u0e48\u0e19\u0e35\u0e48\n",
    "\n",
    "# \u0e40\u0e23\u0e35\u0e22\u0e07\u0e25\u0e33\u0e14\u0e31\u0e1a\u0e02\u0e49\u0e2d\u0e21\u0e39\u0e25\u0e43\u0e19 inv_scores \u0e14\u0e49\u0e27\u0e22\u0e04\u0e33\u0e2a\u0e31\u0e48\u0e07 sort \u0e42\u0e14\u0e22\u0e40\u0e23\u0e35\u0e22\u0e07\u0e08\u0e32\u0e01\u0e21\u0e32\u0e01\u0e44\u0e1b\u0e19\u0e49\u0e2d\u0e22\n",
    "inv_scores.sort(reverse=True)        # \u0e41\u0e01\u0e49\u0e42\u0e04\u0e49\u0e14\u0e17\u0e35\u0e48\u0e19\u0e35\u0e48\n",
    "\n",
    "# \u0e41\u0e2a\u0e14\u0e07\u0e0a\u0e37\u0e48\u0e2d\u0e41\u0e25\u0e30\u0e04\u0e30\u0e41\u0e19\u0e19\u0e02\u0e2d\u0e07\u0e19\u0e31\u0e01\u0e40\u0e23\u0e35\u0e22\u0e19\u0e43\u0e19\u0e25\u0e34\u0e2a\u0e15\u0e4c inv_scores \u0e2d\u0e2d\u0e01\u0e21\u0e32\n",
    "for (score, name) in inv_scores:\n",
    "    print(name, ':', score)"
   ]
  },
  {
   "cell_type": "markdown",
   "metadata": {
    "id": "QfA8CpwTKGWO"
   },
   "source": [
    "-----"
   ]
  },
  {
   "cell_type": "markdown",
   "metadata": {
    "id": "wTCvYS5AKHbm"
   },
   "source": [
    "## \u0e01\u0e34\u0e08\u0e01\u0e23\u0e23\u0e21 10: \u0e01\u0e32\u0e23\u0e27\u0e19\u0e0b\u0e49\u0e33\u0e41\u0e1a\u0e1a\u0e01\u0e33\u0e2b\u0e19\u0e14\u0e40\u0e07\u0e37\u0e48\u0e2d\u0e19\u0e44\u0e02"
   ]
  },
  {
   "cell_type": "markdown",
   "metadata": {
    "id": "mLmwcZjAKPAP"
   },
   "source": [
    "- \u0e02\u0e49\u0e2d\u0e08\u0e33\u0e01\u0e31\u0e14\u0e2a\u0e33\u0e04\u0e31\u0e0d\u0e02\u0e2d\u0e07\u0e25\u0e39\u0e1b\u0e1f\u0e2d\u0e23\u0e4c\u0e04\u0e37\u0e2d \u0e21\u0e31\u0e19\u0e08\u0e30\u0e44\u0e25\u0e48\u0e25\u0e39\u0e1b\u0e2a\u0e21\u0e32\u0e0a\u0e34\u0e01\u0e43\u0e19\u0e25\u0e34\u0e2a\u0e15\u0e4c\u0e40\u0e17\u0e48\u0e32\u0e19\u0e31\u0e49\u0e19 \u0e17\u0e33\u0e43\u0e2b\u0e49\u0e1a\u0e32\u0e07\u0e04\u0e23\u0e31\u0e49\u0e07\u0e01\u0e47\u0e44\u0e21\u0e48\u0e2a\u0e30\u0e14\u0e27\u0e01 \u0e2b\u0e32\u0e01\u0e40\u0e23\u0e32\u0e15\u0e49\u0e2d\u0e07\u0e17\u0e33\u0e0b\u0e49\u0e33\u0e01\u0e23\u0e30\u0e1a\u0e27\u0e19\u0e01\u0e32\u0e23\u0e1a\u0e19\u0e2a\u0e21\u0e32\u0e0a\u0e34\u0e01\u0e15\u0e31\u0e27\u0e40\u0e14\u0e34\u0e21\u0e43\u0e19\u0e25\u0e34\u0e2a\u0e15\u0e4c\u0e15\u0e32\u0e21\u0e40\u0e07\u0e37\u0e48\u0e2d\u0e19\u0e44\u0e02\u0e17\u0e35\u0e48\u0e01\u0e33\u0e2b\u0e19\u0e14"
   ]
  },
  {
   "cell_type": "markdown",
   "metadata": {
    "id": "LQLMHPpZLyJl"
   },
   "source": [
    "### \u0e25\u0e39\u0e1b\u0e44\u0e27\u0e25\u0e4c (while-loop)"
   ]
  },
  {
   "cell_type": "markdown",
   "metadata": {
    "id": "2Ii-zbOsL0y-"
   },
   "source": [
    "- \u0e04\u0e33\u0e2a\u0e31\u0e48\u0e07\u0e25\u0e39\u0e1b\u0e44\u0e27\u0e25\u0e4c (while-loop) \u0e08\u0e30\u0e15\u0e23\u0e27\u0e08\u0e2a\u0e2d\u0e1a\u0e40\u0e07\u0e37\u0e48\u0e2d\u0e19\u0e44\u0e02\u0e17\u0e35\u0e48\u0e01\u0e33\u0e2b\u0e19\u0e14 \u0e2b\u0e32\u0e01\u0e40\u0e1b\u0e47\u0e19\u0e44\u0e1b\u0e15\u0e32\u0e21\u0e40\u0e07\u0e37\u0e48\u0e2d\u0e19\u0e44\u0e02 \u0e01\u0e47\u0e08\u0e30\u0e17\u0e33\u0e0b\u0e49\u0e33\u0e01\u0e23\u0e30\u0e1a\u0e27\u0e19\u0e01\u0e32\u0e23\u0e19\u0e31\u0e49\u0e19\u0e44\u0e1b\u0e40\u0e23\u0e37\u0e48\u0e2d\u0e22\u0e46 \u0e08\u0e19\u0e01\u0e27\u0e48\u0e32\u0e40\u0e07\u0e37\u0e48\u0e2d\u0e19\u0e44\u0e02\u0e19\u0e31\u0e49\u0e19\u0e08\u0e30\u0e44\u0e21\u0e48\u0e40\u0e1b\u0e47\u0e19\u0e08\u0e23\u0e34\u0e07\n",
    "  - \u0e23\u0e39\u0e1b\u0e41\u0e1a\u0e1a\u0e02\u0e2d\u0e07\u0e25\u0e39\u0e1b\u0e44\u0e27\u0e25\u0e4c\u0e40\u0e1b\u0e47\u0e19\u0e14\u0e31\u0e07\u0e19\u0e35\u0e49\n",
    "```python\n",
    "    while <\u0e40\u0e07\u0e37\u0e48\u0e2d\u0e19\u0e44\u0e02> :\n",
    "        <\u0e01\u0e23\u0e30\u0e1a\u0e27\u0e19\u0e01\u0e32\u0e23>\n",
    "```\n",
    "  - \u0e04\u0e27\u0e32\u0e21\u0e2b\u0e21\u0e32\u0e22\u0e02\u0e2d\u0e07\u0e04\u0e33\u0e2a\u0e31\u0e48\u0e07\u0e19\u0e35\u0e49\u0e04\u0e37\u0e2d <u>**\u0e15\u0e23\u0e32\u0e1a\u0e40\u0e17\u0e48\u0e32\u0e17\u0e35\u0e48**</u> \u0e40\u0e07\u0e37\u0e48\u0e2d\u0e19\u0e44\u0e02\u0e19\u0e35\u0e49\u0e40\u0e1b\u0e47\u0e19\u0e08\u0e23\u0e34\u0e07 \u0e01\u0e47\u0e43\u0e2b\u0e49\u0e17\u0e33\u0e01\u0e23\u0e30\u0e1a\u0e27\u0e19\u0e01\u0e32\u0e23\u0e19\u0e35\u0e49\u0e44\u0e1b\u0e40\u0e23\u0e37\u0e48\u0e2d\u0e22\u0e46 \u0e19\u0e31\u0e48\u0e19\u0e40\u0e2d\u0e07"
   ]
  },
  {
   "cell_type": "markdown",
   "metadata": {
    "id": "pPnyfw6RTvMe"
   },
   "source": [
    "- \u0e40\u0e0a\u0e48\u0e19 \u0e2b\u0e32\u0e01\u0e40\u0e23\u0e32\u0e15\u0e49\u0e2d\u0e07\u0e01\u0e32\u0e23\u0e2b\u0e32\u0e1c\u0e25\u0e23\u0e27\u0e21\u0e02\u0e2d\u0e07\u0e08\u0e33\u0e19\u0e27\u0e19\u0e17\u0e35\u0e48 index \u0e17\u0e35\u0e48 0, 2, 4, ... \u0e44\u0e1b\u0e40\u0e23\u0e37\u0e48\u0e2d\u0e22\u0e46 \u0e15\u0e23\u0e32\u0e1a\u0e40\u0e17\u0e48\u0e32\u0e17\u0e35\u0e48\u0e08\u0e33\u0e19\u0e27\u0e19\u0e19\u0e31\u0e49\u0e19\u0e44\u0e21\u0e48\u0e40\u0e17\u0e48\u0e32\u0e01\u0e31\u0e1a 7 \u0e40\u0e23\u0e32\u0e08\u0e30\u0e40\u0e02\u0e35\u0e22\u0e19\u0e42\u0e1b\u0e23\u0e41\u0e01\u0e23\u0e21\u0e44\u0e14\u0e49\u0e14\u0e31\u0e07\u0e19\u0e35\u0e49\u0e04\u0e23\u0e31\u0e1a"
   ]
  },
  {
   "cell_type": "code",
   "execution_count": 34,
   "metadata": {
    "id": "t8kuacAdMF-a"
   },
   "outputs": [
    {
     "name": "stdout",
     "output_type": "stream",
     "text": [
      "Adding 3\n",
      "Adding 5\n",
      "Adding 2\n",
      "The jumping sum is 10\n"
     ]
    }
   ],
   "source": [
    "items = [3, 8, 5, 10, 2, 9, 7, 6, 3, 8, 1, 4]\n",
    "idx = 0\n",
    "jumping_sum = 0\n",
    "\n",
    "while idx < len(items) and items[idx] != 7:\n",
    "    print('Adding', items[idx])\n",
    "    jumping_sum = jumping_sum + items[idx]\n",
    "    idx = idx + 2\n",
    "    \n",
    "print('The jumping sum is', jumping_sum)"
   ]
  },
  {
   "cell_type": "markdown",
   "metadata": {
    "id": "H0jifwc8UXB8"
   },
   "source": [
    "- \u0e40\u0e23\u0e32\u0e2a\u0e32\u0e21\u0e32\u0e23\u0e16\u0e2d\u0e2d\u0e01\u0e08\u0e32\u0e01\u0e25\u0e39\u0e1b\u0e44\u0e27\u0e25\u0e4c\u0e44\u0e14\u0e49\u0e14\u0e49\u0e27\u0e22\u0e04\u0e33\u0e2a\u0e31\u0e48\u0e07 `break` \u0e04\u0e23\u0e31\u0e1a\n",
    "- \u0e40\u0e0a\u0e48\u0e19 \u0e2b\u0e32\u0e01\u0e40\u0e23\u0e32\u0e15\u0e49\u0e2d\u0e07\u0e01\u0e32\u0e23\u0e2b\u0e32\u0e1c\u0e25\u0e23\u0e27\u0e21\u0e02\u0e2d\u0e07\u0e08\u0e33\u0e19\u0e27\u0e19\u0e43\u0e19\u0e25\u0e34\u0e2a\u0e15\u0e4c `items` \u0e08\u0e32\u0e01\u0e15\u0e31\u0e27\u0e41\u0e23\u0e01\u0e44\u0e1b\u0e40\u0e23\u0e37\u0e48\u0e2d\u0e22\u0e46 *\u0e08\u0e19\u0e01\u0e27\u0e48\u0e32* \u0e08\u0e33\u0e19\u0e27\u0e19\u0e19\u0e31\u0e49\u0e19\u0e08\u0e30\u0e19\u0e49\u0e2d\u0e22\u0e01\u0e27\u0e48\u0e32\u0e2b\u0e23\u0e37\u0e2d\u0e40\u0e17\u0e48\u0e32\u0e01\u0e31\u0e1a 2 \u0e40\u0e23\u0e32\u0e08\u0e30\u0e40\u0e02\u0e35\u0e22\u0e19\u0e42\u0e1b\u0e23\u0e41\u0e01\u0e23\u0e21\u0e44\u0e14\u0e49\u0e14\u0e31\u0e07\u0e19\u0e35\u0e49"
   ]
  },
  {
   "cell_type": "code",
   "execution_count": 35,
   "metadata": {
    "id": "xdXyS6vCMVA0"
   },
   "outputs": [
    {
     "name": "stdout",
     "output_type": "stream",
     "text": [
      "Adding 3\n",
      "Adding 8\n",
      "Adding 5\n",
      "Adding 10\n",
      "Adding 2\n",
      "28\n"
     ]
    }
   ],
   "source": [
    "items = [3, 8, 5, 10, 2, 9, 7, 6, 3, 8, 1, 4]\n",
    "idx = 0\n",
    "my_sum = 0\n",
    "\n",
    "while idx < len(items):\n",
    "    print('Adding', items[idx])\n",
    "    my_sum = my_sum + items[idx]\n",
    "    \n",
    "    # \u0e2a\u0e31\u0e07\u0e40\u0e01\u0e15\u0e27\u0e48\u0e32\u0e04\u0e33\u0e2a\u0e31\u0e48\u0e07 break \u0e08\u0e30\u0e17\u0e33\u0e07\u0e32\u0e19\u0e2b\u0e25\u0e31\u0e07\u0e08\u0e32\u0e01\u0e17\u0e35\u0e48\u0e44\u0e14\u0e49\u0e1a\u0e27\u0e01\u0e1c\u0e25\u0e23\u0e27\u0e21\u0e40\u0e23\u0e35\u0e22\u0e1a\u0e23\u0e49\u0e2d\u0e22\u0e41\u0e25\u0e49\u0e27\n",
    "    if items[idx] <= 2:\n",
    "        break\n",
    "        \n",
    "    idx = idx + 1\n",
    "    \n",
    "print(my_sum)"
   ]
  },
  {
   "cell_type": "markdown",
   "metadata": {
    "id": "QJvaNjEuV2-C"
   },
   "source": [
    "- \u0e08\u0e32\u0e01\u0e15\u0e31\u0e27\u0e2d\u0e22\u0e48\u0e32\u0e07\u0e14\u0e49\u0e32\u0e19\u0e1a\u0e19 \u0e08\u0e30\u0e2a\u0e31\u0e07\u0e40\u0e01\u0e15\u0e27\u0e48\u0e32\u0e04\u0e33\u0e2a\u0e31\u0e48\u0e07 break \u0e08\u0e30\u0e17\u0e33\u0e07\u0e32\u0e19\u0e2b\u0e25\u0e31\u0e07\u0e08\u0e32\u0e01\u0e17\u0e35\u0e48\u0e44\u0e14\u0e49\u0e1a\u0e27\u0e01\u0e1c\u0e25\u0e23\u0e27\u0e21\u0e40\u0e23\u0e35\u0e22\u0e1a\u0e23\u0e49\u0e2d\u0e22\u0e41\u0e25\u0e49\u0e27"
   ]
  },
  {
   "cell_type": "markdown",
   "metadata": {
    "id": "swIbbo-dV-qK"
   },
   "source": [
    "### \u0e41\u0e1a\u0e1a\u0e1d\u0e36\u0e01\u0e2b\u0e31\u0e14 10.1"
   ]
  },
  {
   "cell_type": "markdown",
   "metadata": {
    "id": "6udiA85JWCs_"
   },
   "source": [
    "\u0e08\u0e07\u0e40\u0e01\u0e47\u0e1a\u0e23\u0e27\u0e1a\u0e23\u0e27\u0e21\u0e02\u0e2d\u0e07\u0e15\u0e31\u0e27\u0e40\u0e25\u0e02\u0e08\u0e33\u0e19\u0e27\u0e19\u0e40\u0e15\u0e47\u0e21\u0e17\u0e38\u0e01\u0e15\u0e31\u0e27\u0e17\u0e35\u0e48\u0e1c\u0e39\u0e49\u0e43\u0e0a\u0e49\u0e1e\u0e34\u0e21\u0e1e\u0e4c\u0e40\u0e02\u0e49\u0e32\u0e21\u0e32\u0e41\u0e25\u0e49\u0e27\u0e40\u0e23\u0e35\u0e22\u0e07\u0e25\u0e33\u0e14\u0e31\u0e1a\u0e08\u0e32\u0e01\u0e21\u0e32\u0e01\u0e44\u0e1b\u0e19\u0e49\u0e2d\u0e22\n",
    "\n",
    "\u0e15\u0e23\u0e32\u0e1a\u0e43\u0e14\u0e17\u0e35\u0e48\u0e1c\u0e39\u0e49\u0e43\u0e0a\u0e49\u0e22\u0e31\u0e07\u0e1e\u0e34\u0e21\u0e1e\u0e4c\u0e15\u0e31\u0e27\u0e40\u0e25\u0e02\u0e17\u0e35\u0e48\u0e44\u0e21\u0e48\u0e43\u0e0a\u0e48\u0e40\u0e25\u0e02 0 \u0e40\u0e02\u0e49\u0e32\u0e21\u0e32 \u0e01\u0e47\u0e43\u0e2b\u0e49\u0e23\u0e31\u0e1a\u0e04\u0e48\u0e32\u0e15\u0e31\u0e27\u0e40\u0e25\u0e02\u0e21\u0e32\u0e40\u0e23\u0e37\u0e48\u0e2d\u0e22\u0e46 \u0e41\u0e25\u0e49\u0e27\u0e40\u0e01\u0e47\u0e1a\u0e44\u0e27\u0e49\u0e43\u0e19\u0e25\u0e34\u0e2a\u0e15\u0e4c `my_numbers` \u0e2b\u0e32\u0e01\u0e40\u0e08\u0e2d\u0e40\u0e25\u0e02 0 \u0e43\u0e2b\u0e49\u0e2b\u0e22\u0e38\u0e14\u0e25\u0e39\u0e1b\u0e17\u0e31\u0e19\u0e17\u0e35 \u0e08\u0e32\u0e01\u0e19\u0e31\u0e49\u0e19\u0e43\u0e2b\u0e49\u0e08\u0e31\u0e14\u0e40\u0e23\u0e35\u0e22\u0e07\u0e2a\u0e21\u0e32\u0e0a\u0e34\u0e01\u0e15\u0e32\u0e21\u0e25\u0e33\u0e14\u0e31\u0e1a\u0e08\u0e32\u0e01\u0e21\u0e32\u0e01\u0e44\u0e1b\u0e19\u0e49\u0e2d\u0e22 \u0e41\u0e25\u0e49\u0e27\u0e41\u0e2a\u0e14\u0e07\u0e1c\u0e25\u0e25\u0e34\u0e2a\u0e15\u0e4c\u0e19\u0e31\u0e49\u0e19\u0e2d\u0e2d\u0e01\u0e21\u0e32"
   ]
  },
  {
   "cell_type": "code",
   "execution_count": 36,
   "metadata": {
    "id": "Xe4H0RtXVjex"
   },
   "outputs": [
    {
     "name": "stdout",
     "output_type": "stream",
     "text": [
      "[1, 2, 5, 5, 5, 5]\n"
     ]
    }
   ],
   "source": [
    "my_numbers = []\n",
    "\n",
    "# \u0e27\u0e19\u0e25\u0e39\u0e1b\u0e15\u0e25\u0e2d\u0e14\u0e44\u0e1b\u0e08\u0e19\u0e01\u0e27\u0e48\u0e32\u0e08\u0e30\u0e16\u0e39\u0e01\u0e2a\u0e31\u0e48\u0e07 break\n",
    "while True:\n",
    "    num = int(input('Enter an integer: '))\n",
    "    \n",
    "    # \u0e2b\u0e32\u0e01\u0e04\u0e48\u0e32 num \u0e40\u0e1b\u0e47\u0e19 0 \u0e43\u0e2b\u0e49\u0e2d\u0e2d\u0e01\u0e08\u0e32\u0e01\u0e25\u0e39\u0e1b\u0e14\u0e49\u0e27\u0e22\u0e04\u0e33\u0e2a\u0e31\u0e48\u0e07 break\n",
    "    if num == 0:\n",
    "        break\n",
    "        \n",
    "    # \u0e19\u0e33\u0e04\u0e48\u0e32 num \u0e44\u0e1b\u0e15\u0e48\u0e2d\u0e17\u0e49\u0e32\u0e22\u0e25\u0e34\u0e2a\u0e15\u0e4c my_numbers\n",
    "    my_numbers.append(num)\n",
    "\n",
    "# \u0e40\u0e23\u0e35\u0e22\u0e07\u0e25\u0e33\u0e14\u0e31\u0e1a\u0e2a\u0e21\u0e32\u0e0a\u0e34\u0e01\u0e43\u0e19\u0e25\u0e34\u0e2a\u0e15\u0e4c my_numbers \u0e08\u0e32\u0e01\u0e21\u0e32\u0e01\u0e44\u0e1b\u0e19\u0e49\u0e2d\u0e22\u0e14\u0e49\u0e27\u0e22\u0e04\u0e33\u0e2a\u0e31\u0e48\u0e07 sort\n",
    "my_numbers.sort()\n",
    "    \n",
    "print(my_numbers)"
   ]
  },
  {
   "cell_type": "markdown",
   "metadata": {
    "id": "ozG5EUgpYOkW"
   },
   "source": [
    "- \u0e2a\u0e31\u0e07\u0e40\u0e01\u0e15\u0e27\u0e48\u0e32\u0e04\u0e33\u0e2a\u0e31\u0e48\u0e07 `while True` \u0e08\u0e30\u0e43\u0e0a\u0e49\u0e43\u0e19\u0e01\u0e32\u0e23\u0e27\u0e19\u0e25\u0e39\u0e1b\u0e15\u0e25\u0e2d\u0e14\u0e44\u0e1b (forever loop) \u0e0b\u0e36\u0e48\u0e07\u0e08\u0e30\u0e21\u0e35\u0e1b\u0e23\u0e30\u0e42\u0e22\u0e0a\u0e19\u0e4c\u0e43\u0e19\u0e01\u0e23\u0e13\u0e35\u0e17\u0e35\u0e48\u0e08\u0e33\u0e40\u0e1b\u0e47\u0e19\u0e15\u0e49\u0e2d\u0e07\u0e15\u0e23\u0e27\u0e08\u0e2a\u0e2d\u0e1a\u0e40\u0e07\u0e37\u0e48\u0e2d\u0e19\u0e44\u0e02\u0e43\u0e19\u0e02\u0e13\u0e30\u0e17\u0e33\u0e01\u0e23\u0e30\u0e1a\u0e27\u0e19\u0e01\u0e32\u0e23\u0e19\u0e31\u0e48\u0e19\u0e40\u0e2d\u0e07"
   ]
  },
  {
   "cell_type": "markdown",
   "metadata": {
    "id": "kPwcH_WVY65s"
   },
   "source": [
    "-----"
   ]
  },
  {
   "cell_type": "markdown",
   "metadata": {
    "id": "zaTrOFcuY7xt"
   },
   "source": [
    "## \u0e01\u0e34\u0e08\u0e01\u0e23\u0e23\u0e21 11: \u0e40\u0e0b\u0e47\u0e15 (set)"
   ]
  },
  {
   "cell_type": "markdown",
   "metadata": {
    "id": "GIVWxRc1ZEJS"
   },
   "source": [
    "- \u0e20\u0e32\u0e29\u0e32 Python \u0e22\u0e31\u0e07\u0e21\u0e35\u0e42\u0e04\u0e23\u0e07\u0e2a\u0e23\u0e49\u0e32\u0e07\u0e02\u0e49\u0e2d\u0e21\u0e39\u0e25\u0e2d\u0e35\u0e01\u0e0a\u0e19\u0e34\u0e14\u0e2b\u0e19\u0e36\u0e48\u0e07\u0e0b\u0e36\u0e48\u0e07\u0e17\u0e33\u0e2b\u0e19\u0e49\u0e32\u0e17\u0e35\u0e48\u0e40\u0e2b\u0e21\u0e37\u0e2d\u0e19\u0e01\u0e31\u0e1a\u0e40\u0e0b\u0e47\u0e15\u0e43\u0e19\u0e17\u0e32\u0e07\u0e04\u0e13\u0e34\u0e15\u0e28\u0e32\u0e2a\u0e15\u0e23\u0e4c \u0e42\u0e04\u0e23\u0e07\u0e2a\u0e23\u0e49\u0e32\u0e07\u0e19\u0e35\u0e49\u0e01\u0e47\u0e40\u0e23\u0e35\u0e22\u0e01\u0e27\u0e48\u0e32 **\u0e40\u0e0b\u0e47\u0e15 (set)** \u0e19\u0e31\u0e48\u0e19\u0e40\u0e2d\u0e07\u0e04\u0e23\u0e31\u0e1a\n",
    "\n",
    "- \u0e40\u0e0b\u0e47\u0e15\u0e08\u0e30\u0e43\u0e0a\u0e49\u0e2a\u0e31\u0e0d\u0e25\u0e31\u0e01\u0e29\u0e13\u0e4c `{ }` \u0e2a\u0e21\u0e32\u0e0a\u0e34\u0e01\u0e41\u0e15\u0e48\u0e25\u0e30\u0e15\u0e31\u0e27\u0e08\u0e30\u0e04\u0e31\u0e48\u0e19\u0e14\u0e49\u0e27\u0e22\u0e40\u0e04\u0e23\u0e37\u0e48\u0e2d\u0e07\u0e2b\u0e21\u0e32\u0e22\u0e04\u0e2d\u0e21\u0e21\u0e32 `,`\n",
    "\n",
    "- \u0e02\u0e49\u0e2d\u0e41\u0e15\u0e01\u0e15\u0e48\u0e32\u0e07\u0e23\u0e30\u0e2b\u0e27\u0e48\u0e32\u0e07\u0e40\u0e0b\u0e47\u0e15\u0e01\u0e31\u0e1a\u0e25\u0e34\u0e2a\u0e15\u0e4c\u0e01\u0e47\u0e04\u0e37\u0e2d \u0e40\u0e0b\u0e47\u0e15\u0e08\u0e30\u0e40\u0e01\u0e47\u0e1a\u0e2a\u0e21\u0e32\u0e0a\u0e34\u0e01\u0e40\u0e09\u0e1e\u0e32\u0e30\u0e15\u0e31\u0e27\u0e17\u0e35\u0e48\u0e44\u0e21\u0e48\u0e0b\u0e49\u0e33\u0e41\u0e25\u0e30\u0e44\u0e21\u0e48\u0e08\u0e33\u0e40\u0e1b\u0e47\u0e19\u0e27\u0e48\u0e32\u0e08\u0e30\u0e15\u0e49\u0e2d\u0e07\u0e40\u0e23\u0e35\u0e22\u0e07\u0e25\u0e33\u0e14\u0e31\u0e1a\u0e15\u0e32\u0e21\u0e01\u0e32\u0e23\u0e40\u0e1e\u0e34\u0e48\u0e21\u0e2a\u0e21\u0e32\u0e0a\u0e34\u0e01 \u0e43\u0e19\u0e02\u0e13\u0e30\u0e17\u0e35\u0e48\u0e25\u0e34\u0e2a\u0e15\u0e4c\u0e08\u0e30\u0e40\u0e01\u0e47\u0e1a\u0e2a\u0e21\u0e32\u0e0a\u0e34\u0e01\u0e17\u0e38\u0e01\u0e15\u0e31\u0e27\u0e41\u0e25\u0e30\u0e40\u0e23\u0e35\u0e22\u0e07\u0e25\u0e33\u0e14\u0e31\u0e1a\u0e15\u0e32\u0e21\u0e01\u0e32\u0e23\u0e40\u0e1e\u0e34\u0e48\u0e21\u0e2a\u0e21\u0e32\u0e0a\u0e34\u0e01"
   ]
  },
  {
   "cell_type": "code",
   "execution_count": 37,
   "metadata": {
    "id": "vMjCqiXXXRtQ"
   },
   "outputs": [
    {
     "name": "stdout",
     "output_type": "stream",
     "text": [
      "This is a list: [300, 200, 100, 300, 200]\n",
      "This is a set: {200, 100, 300}\n"
     ]
    }
   ],
   "source": [
    "my_list = [300, 200, 100, 300, 200]\n",
    "my_set = {300, 200, 100, 300, 200}\n",
    "\n",
    "print('This is a list:', my_list)\n",
    "print('This is a set:', my_set)"
   ]
  },
  {
   "cell_type": "markdown",
   "metadata": {
    "id": "4B6QWF1Ra16N"
   },
   "source": [
    "- \u0e40\u0e23\u0e32\u0e2a\u0e32\u0e21\u0e32\u0e23\u0e16\u0e17\u0e33\u0e25\u0e39\u0e1b\u0e1f\u0e2d\u0e23\u0e4c\u0e43\u0e19\u0e40\u0e0b\u0e47\u0e15\u0e44\u0e14\u0e49\u0e40\u0e2b\u0e21\u0e37\u0e2d\u0e19\u0e01\u0e31\u0e1a\u0e17\u0e35\u0e48\u0e17\u0e33\u0e43\u0e19\u0e25\u0e34\u0e2a\u0e15\u0e4c\u0e40\u0e25\u0e22\u0e04\u0e23\u0e31\u0e1a \u0e41\u0e15\u0e48\u0e2d\u0e22\u0e32\u0e01\u0e43\u0e2b\u0e49\u0e2a\u0e31\u0e07\u0e40\u0e01\u0e15\u0e27\u0e48\u0e32\u0e25\u0e33\u0e14\u0e31\u0e1a\u0e02\u0e2d\u0e07\u0e2a\u0e21\u0e32\u0e0a\u0e34\u0e01\u0e08\u0e30\u0e44\u0e21\u0e48\u0e40\u0e1b\u0e47\u0e19\u0e44\u0e1b\u0e15\u0e32\u0e21\u0e17\u0e35\u0e48\u0e40\u0e23\u0e32\u0e01\u0e33\u0e2b\u0e19\u0e14\u0e44\u0e27\u0e49\u0e41\u0e15\u0e48\u0e41\u0e23\u0e01 \u0e19\u0e35\u0e48\u0e04\u0e37\u0e2d\u0e2a\u0e34\u0e48\u0e07\u0e17\u0e35\u0e48\u0e04\u0e27\u0e23\u0e23\u0e30\u0e27\u0e31\u0e07\u0e40\u0e27\u0e25\u0e32\u0e17\u0e35\u0e48\u0e40\u0e23\u0e32\u0e17\u0e33\u0e25\u0e39\u0e1b\u0e1f\u0e2d\u0e23\u0e4c\u0e43\u0e19\u0e40\u0e0b\u0e47\u0e15\u0e04\u0e23\u0e31\u0e1a"
   ]
  },
  {
   "cell_type": "code",
   "execution_count": 38,
   "metadata": {
    "id": "i1X1fAona5iL"
   },
   "outputs": [
    {
     "name": "stdout",
     "output_type": "stream",
     "text": [
      "200\n",
      "100\n",
      "300\n"
     ]
    }
   ],
   "source": [
    "for member in my_set:\n",
    "    print(member)"
   ]
  },
  {
   "cell_type": "markdown",
   "metadata": {
    "id": "WrqmY30XcV9p"
   },
   "source": [
    "- \u0e41\u0e25\u0e30\u0e40\u0e23\u0e32\u0e01\u0e47\u0e2a\u0e32\u0e21\u0e32\u0e23\u0e16\u0e15\u0e23\u0e27\u0e08\u0e2a\u0e2d\u0e1a\u0e44\u0e14\u0e49\u0e27\u0e48\u0e32 \u0e04\u0e48\u0e32\u0e04\u0e48\u0e32\u0e19\u0e35\u0e49\u0e40\u0e1b\u0e47\u0e19\u0e2a\u0e21\u0e32\u0e0a\u0e34\u0e01\u0e02\u0e2d\u0e07\u0e40\u0e0b\u0e47\u0e15\u0e2b\u0e23\u0e37\u0e2d\u0e40\u0e1b\u0e25\u0e48\u0e32 \u0e14\u0e49\u0e27\u0e22\u0e04\u0e33\u0e2a\u0e31\u0e48\u0e07 `in`"
   ]
  },
  {
   "cell_type": "code",
   "execution_count": 39,
   "metadata": {
    "id": "7LG5RytscdvQ"
   },
   "outputs": [
    {
     "name": "stdout",
     "output_type": "stream",
     "text": [
      "200 in my_set is True\n",
      "400 in my_set is False\n"
     ]
    }
   ],
   "source": [
    "print('200 in my_set is', 200 in my_set)\n",
    "print('400 in my_set is', 400 in my_set)"
   ]
  },
  {
   "cell_type": "markdown",
   "metadata": {
    "id": "EyUKYB4RLI77"
   },
   "source": [
    "- \u0e2b\u0e32\u0e01\u0e40\u0e23\u0e32\u0e15\u0e49\u0e2d\u0e07\u0e01\u0e32\u0e23\u0e2a\u0e23\u0e49\u0e32\u0e07\u0e15\u0e31\u0e27\u0e41\u0e1b\u0e23\u0e2a\u0e33\u0e2b\u0e23\u0e31\u0e1a\u0e40\u0e0b\u0e47\u0e15\u0e27\u0e48\u0e32\u0e07 \u2205 \u0e40\u0e23\u0e32\u0e2a\u0e32\u0e21\u0e32\u0e23\u0e16\u0e43\u0e0a\u0e49\u0e04\u0e33\u0e2a\u0e31\u0e48\u0e07 `set()` \u0e44\u0e14\u0e49"
   ]
  },
  {
   "cell_type": "code",
   "execution_count": 40,
   "metadata": {
    "id": "ZOTgyLHPLUBd"
   },
   "outputs": [
    {
     "name": "stdout",
     "output_type": "stream",
     "text": [
      "set()\n"
     ]
    }
   ],
   "source": [
    "my_empty_set = set()\n",
    "print(my_empty_set)"
   ]
  },
  {
   "cell_type": "markdown",
   "metadata": {
    "id": "odqups5f1aor"
   },
   "source": [
    "### \u0e01\u0e32\u0e23\u0e40\u0e1e\u0e34\u0e48\u0e21\u0e2a\u0e21\u0e32\u0e0a\u0e34\u0e01\u0e43\u0e19\u0e40\u0e0b\u0e47\u0e15\u0e14\u0e49\u0e27\u0e22\u0e04\u0e33\u0e2a\u0e31\u0e48\u0e07 `add` \u0e41\u0e25\u0e30 `update`"
   ]
  },
  {
   "cell_type": "markdown",
   "metadata": {
    "id": "7urJQgIL1g1A"
   },
   "source": [
    "- \u0e40\u0e23\u0e32\u0e2a\u0e32\u0e21\u0e32\u0e23\u0e16\u0e40\u0e1e\u0e34\u0e48\u0e21\u0e2a\u0e21\u0e32\u0e0a\u0e34\u0e01\u0e43\u0e19\u0e40\u0e0b\u0e47\u0e15\u0e44\u0e14\u0e49 2 \u0e27\u0e34\u0e18\u0e35\n",
    "  - \u0e40\u0e1e\u0e34\u0e48\u0e21\u0e2a\u0e21\u0e32\u0e0a\u0e34\u0e01\u0e17\u0e35\u0e25\u0e30\u0e15\u0e31\u0e27\u0e14\u0e49\u0e27\u0e22\u0e04\u0e33\u0e2a\u0e31\u0e48\u0e07 `\u0e40\u0e0b\u0e47\u0e15.add(` $e$ `)` \u0e40\u0e21\u0e37\u0e48\u0e2d $e$ \u0e04\u0e37\u0e2d\u0e2a\u0e21\u0e32\u0e0a\u0e34\u0e01\u0e15\u0e31\u0e27\u0e17\u0e35\u0e48\u0e40\u0e23\u0e32\u0e08\u0e30\u0e40\u0e1e\u0e34\u0e48\u0e21\u0e40\u0e02\u0e49\u0e32\u0e44\u0e1b\u0e43\u0e19\u0e40\u0e0b\u0e47\u0e15\n",
    "  - \u0e40\u0e1e\u0e34\u0e48\u0e21\u0e2a\u0e21\u0e32\u0e0a\u0e34\u0e01\u0e17\u0e35\u0e25\u0e30\u0e2b\u0e25\u0e32\u0e22\u0e15\u0e31\u0e27\u0e14\u0e49\u0e27\u0e22\u0e04\u0e33\u0e2a\u0e31\u0e48\u0e07 `\u0e40\u0e0b\u0e47\u0e15\u0e1b\u0e25\u0e32\u0e22\u0e17\u0e32\u0e07.update(\u0e25\u0e34\u0e2a\u0e15\u0e4c\u0e2b\u0e23\u0e37\u0e2d\u0e40\u0e0b\u0e47\u0e15\u0e15\u0e49\u0e19\u0e17\u0e32\u0e07)` \u0e42\u0e14\u0e22\u0e04\u0e33\u0e2a\u0e31\u0e48\u0e07\u0e19\u0e35\u0e49\u0e08\u0e30\u0e40\u0e1e\u0e34\u0e48\u0e21\u0e2a\u0e21\u0e32\u0e0a\u0e34\u0e01\u0e17\u0e38\u0e01\u0e15\u0e31\u0e27\u0e43\u0e19\u0e25\u0e34\u0e2a\u0e15\u0e4c\u0e2b\u0e23\u0e37\u0e2d\u0e40\u0e0b\u0e47\u0e15\u0e15\u0e49\u0e19\u0e17\u0e32\u0e07\u0e40\u0e02\u0e49\u0e32\u0e44\u0e1b\u0e43\u0e19\u0e40\u0e0b\u0e47\u0e15\u0e1b\u0e25\u0e32\u0e22\u0e17\u0e32\u0e07\u0e19\u0e31\u0e48\u0e19\u0e40\u0e2d\u0e07"
   ]
  },
  {
   "cell_type": "code",
   "execution_count": 41,
   "metadata": {
    "id": "cHk8o--32c4u"
   },
   "outputs": [
    {
     "name": "stdout",
     "output_type": "stream",
     "text": [
      "my_set = {200, 100, 300}\n",
      "\n",
      "Adding 400\n",
      "my_set = {200, 100, 300, 400}\n",
      "\n",
      "Adding 200\n",
      "my_set = {200, 100, 300, 400}\n",
      "\n",
      "Updating with [400, 500, 600]\n",
      "my_set = {100, 200, 300, 400, 500, 600}\n"
     ]
    }
   ],
   "source": [
    "my_set = {300, 200, 100}\n",
    "print('my_set =', my_set, end='\\n\\n')\n",
    "\n",
    "print('Adding 400')\n",
    "my_set.add(400)\n",
    "print('my_set =', my_set, end='\\n\\n')\n",
    "\n",
    "print('Adding 200')\n",
    "my_set.add(200)\n",
    "print('my_set =', my_set, end='\\n\\n')\n",
    "\n",
    "print('Updating with [400, 500, 600]')\n",
    "my_set.update([300, 400, 500, 600])\n",
    "print('my_set =', my_set)"
   ]
  },
  {
   "cell_type": "markdown",
   "metadata": {
    "id": "R8QFd-4JUsRT"
   },
   "source": [
    "### \u0e41\u0e1a\u0e1a\u0e1d\u0e36\u0e01\u0e2b\u0e31\u0e14 11.1"
   ]
  },
  {
   "cell_type": "markdown",
   "metadata": {
    "id": "CY8dlW3fUt02"
   },
   "source": [
    "\u0e08\u0e07\u0e2b\u0e32\u0e40\u0e0b\u0e47\u0e15\u0e02\u0e2d\u0e07\u0e0a\u0e37\u0e48\u0e2d\u0e19\u0e31\u0e01\u0e40\u0e23\u0e35\u0e22\u0e19\u0e08\u0e32\u0e01\u0e43\u0e19\u0e23\u0e32\u0e22\u0e01\u0e32\u0e23\u0e04\u0e30\u0e41\u0e19\u0e19\u0e19\u0e31\u0e01\u0e40\u0e23\u0e35\u0e22\u0e19\u0e14\u0e31\u0e07\u0e15\u0e48\u0e2d\u0e44\u0e1b\u0e19\u0e35\u0e49"
   ]
  },
  {
   "cell_type": "code",
   "execution_count": 42,
   "metadata": {
    "id": "6PNGperEUxny"
   },
   "outputs": [
    {
     "name": "stdout",
     "output_type": "stream",
     "text": [
      "['John', 'Mary', 'Cindy', 'Sean', 'Barry', 'Mark', 'Eugene', 'Bob']\n"
     ]
    }
   ],
   "source": [
    "student_scores = [\n",
    "    ('John', 35.5), ('Mary', 73.0), ('Cindy', 83.5), ('Sean', 65.0),\n",
    "    ('Barry', 81.0), ('Mark', 79.5), ('Eugene', 87.0), ('Bob', 49.5)\n",
    "]\n",
    "\n",
    "# \u0e2a\u0e23\u0e49\u0e32\u0e07\u0e15\u0e31\u0e27\u0e41\u0e1b\u0e23 students \u0e40\u0e1e\u0e37\u0e48\u0e2d\u0e40\u0e01\u0e47\u0e1a\u0e40\u0e0b\u0e47\u0e15\u0e27\u0e48\u0e32\u0e07\n",
    "students = []                             # \u0e41\u0e01\u0e49\u0e42\u0e04\u0e49\u0e14\u0e17\u0e35\u0e48\u0e19\u0e35\u0e48\n",
    "\n",
    "# \u0e44\u0e25\u0e48\u0e25\u0e39\u0e1b\u0e1f\u0e2d\u0e23\u0e4c\u0e40\u0e1e\u0e37\u0e48\u0e2d\u0e40\u0e15\u0e34\u0e21\u0e0a\u0e37\u0e48\u0e2d\u0e19\u0e31\u0e01\u0e40\u0e23\u0e35\u0e22\u0e19\u0e25\u0e07\u0e43\u0e19\u0e40\u0e0b\u0e47\u0e15 students\n",
    "for (name, score) in student_scores:      # \u0e41\u0e01\u0e49\u0e42\u0e04\u0e49\u0e14\u0e17\u0e35\u0e48\u0e19\u0e35\u0e48\n",
    "    students.append(name)                 # \u0e41\u0e01\u0e49\u0e42\u0e04\u0e49\u0e14\u0e17\u0e35\u0e48\u0e19\u0e35\u0e48\n",
    "\n",
    "print(students)"
   ]
  },
  {
   "cell_type": "markdown",
   "metadata": {
    "id": "O0pR8Q2i1OtL"
   },
   "source": [
    "### \u0e15\u0e31\u0e27\u0e14\u0e33\u0e40\u0e19\u0e34\u0e19\u0e01\u0e32\u0e23\u0e1a\u0e19\u0e40\u0e0b\u0e47\u0e15"
   ]
  },
  {
   "cell_type": "markdown",
   "metadata": {
    "id": "9ioJw6Fu1X3P"
   },
   "source": [
    "- \u0e19\u0e2d\u0e01\u0e08\u0e32\u0e01\u0e19\u0e35\u0e49\u0e40\u0e23\u0e32\u0e22\u0e31\u0e07\u0e2a\u0e32\u0e21\u0e32\u0e23\u0e16\u0e43\u0e0a\u0e49\u0e15\u0e31\u0e27\u0e14\u0e33\u0e40\u0e19\u0e34\u0e19\u0e01\u0e32\u0e23\u0e1a\u0e19\u0e40\u0e0b\u0e47\u0e15\u0e44\u0e14\u0e49\u0e2d\u0e35\u0e01\u0e14\u0e49\u0e27\u0e22\n",
    "\n",
    "|        \u0e15\u0e31\u0e27\u0e14\u0e33\u0e40\u0e19\u0e34\u0e19\u0e01\u0e32\u0e23        | \u0e20\u0e32\u0e29\u0e32 Python |                 \u0e04\u0e27\u0e32\u0e21\u0e2b\u0e21\u0e32\u0e22                |\n",
    "|:------------------------:|:-----------:|:---------------------------------------:|\n",
    "|         Union (\u222a)        |  `s1 \u23d0 s2`  |          \u0e19\u0e33\u0e2a\u0e21\u0e32\u0e0a\u0e34\u0e01\u0e17\u0e31\u0e49\u0e07\u0e2a\u0e2d\u0e07\u0e40\u0e0b\u0e47\u0e15\u0e21\u0e32\u0e23\u0e27\u0e21\u0e01\u0e31\u0e19         |\n",
    "|     Intersection (\u2229)     |  `s1 & s2`  |          \u0e40\u0e25\u0e37\u0e2d\u0e01\u0e2a\u0e21\u0e32\u0e0a\u0e34\u0e01\u0e17\u0e35\u0e48\u0e2d\u0e22\u0e39\u0e48\u0e43\u0e19\u0e17\u0e31\u0e49\u0e07\u0e2a\u0e2d\u0e07\u0e40\u0e0b\u0e47\u0e15         |\n",
    "|      Difference (-)      |  `s1 - s2`  | \u0e40\u0e25\u0e37\u0e2d\u0e01\u0e40\u0e09\u0e1e\u0e32\u0e30\u0e2a\u0e21\u0e32\u0e0a\u0e34\u0e01\u0e17\u0e35\u0e48\u0e2d\u0e22\u0e39\u0e48\u0e43\u0e19\u0e40\u0e0b\u0e47\u0e15\u0e41\u0e23\u0e01\u0e41\u0e15\u0e48\u0e44\u0e21\u0e48\u0e2d\u0e22\u0e39\u0e48\u0e43\u0e19\u0e40\u0e0b\u0e47\u0e15\u0e2a\u0e2d\u0e07 |\n",
    "| Symmetric difference (\u2206) |  `s1 ^ s2`  |   \u0e40\u0e25\u0e37\u0e2d\u0e01\u0e40\u0e09\u0e1e\u0e32\u0e30\u0e2a\u0e21\u0e32\u0e0a\u0e34\u0e01\u0e17\u0e35\u0e48\u0e2d\u0e22\u0e39\u0e48\u0e43\u0e19\u0e40\u0e0b\u0e47\u0e15\u0e43\u0e14\u0e40\u0e0b\u0e47\u0e15\u0e2b\u0e19\u0e36\u0e48\u0e07\u0e40\u0e17\u0e48\u0e32\u0e19\u0e31\u0e49\u0e19   |\n",
    "|      Membership (\u2208)      |   `e in s`  |          $e$ \u0e2d\u0e22\u0e39\u0e48\u0e43\u0e19\u0e40\u0e0b\u0e47\u0e15 $s$ \u0e2b\u0e23\u0e37\u0e2d\u0e44\u0e21\u0e48          |\n",
    "|        Subset (\u2286)        |  `s1 <= s2` |     \u0e40\u0e0b\u0e47\u0e15 `s1` \u0e40\u0e1b\u0e47\u0e19\u0e2a\u0e31\u0e1a\u0e40\u0e0b\u0e47\u0e15\u0e02\u0e2d\u0e07 `s2` \u0e2b\u0e23\u0e37\u0e2d\u0e44\u0e21\u0e48     |\n",
    "|       Superset (\u2287)       |  `s1 >= s2` |    \u0e40\u0e0b\u0e47\u0e15 `s1` \u0e40\u0e1b\u0e47\u0e19\u0e0b\u0e39\u0e40\u0e1b\u0e2d\u0e23\u0e4c\u0e40\u0e0b\u0e47\u0e15\u0e02\u0e2d\u0e07 `s2` \u0e2b\u0e23\u0e37\u0e2d\u0e44\u0e21\u0e48   |\n",
    "\n",
    "- \u0e43\u0e19\u0e01\u0e23\u0e13\u0e35\u0e17\u0e35\u0e48\u0e40\u0e1b\u0e47\u0e19\u0e2a\u0e31\u0e1a\u0e40\u0e0b\u0e47\u0e15\u0e41\u0e17\u0e49\u0e2b\u0e23\u0e37\u0e2d\u0e0b\u0e39\u0e40\u0e1b\u0e2d\u0e23\u0e4c\u0e40\u0e0b\u0e47\u0e15\u0e41\u0e17\u0e49 \u0e40\u0e23\u0e32\u0e2a\u0e32\u0e21\u0e32\u0e23\u0e16\u0e15\u0e31\u0e14\u0e40\u0e04\u0e23\u0e37\u0e48\u0e2d\u0e07\u0e2b\u0e21\u0e32\u0e22 `=` \u0e2d\u0e2d\u0e01\u0e44\u0e1b\u0e44\u0e14\u0e49\u0e04\u0e23\u0e31\u0e1a"
   ]
  },
  {
   "cell_type": "code",
   "execution_count": 43,
   "metadata": {
    "id": "pg6H7_8mZTL7"
   },
   "outputs": [
    {
     "name": "stdout",
     "output_type": "stream",
     "text": [
      "s1 = {1, 2, 3}\n",
      "s2 = {2, 3, 4}\n",
      "\n",
      "Union:                    s1 \u222a s2 = {1, 2, 3, 4}\n",
      "Intersection:             s1 \u2229 s2 = {2, 3}\n",
      "Difference:               s1 - s2 = {1}\n",
      "                          s2 - s1 = {4}\n",
      "Symmetric difference:     s1 \u2206 s2 = {1, 4}\n",
      "Membership:                3 \u2208 s1 = True\n",
      "Subset:               {2, 3} \u2286 s1 = True\n",
      "                   {1, 2, 3} \u2286 s1 = True\n",
      "Pure subset:          {2, 3} \u2282 s1 = True\n",
      "                   {1, 2, 3} \u2282 s1 = False\n",
      "Superset:          s1 \u2287 {2, 3}    = True\n",
      "                   s1 \u2287 {1, 2, 3} = True\n",
      "Pure superset:     s1 \u2283 {2, 3}    = True\n",
      "                   s1 \u2283 {1, 2, 3} = False\n"
     ]
    }
   ],
   "source": [
    "s1 = {1, 2, 3   }\n",
    "s2 = {   2, 3, 4}\n",
    "print('s1 =', s1)\n",
    "print('s2 =', s2, end='\\n\\n')\n",
    "\n",
    "print('Union:                    s1 \u222a s2 =', s1 | s2)\n",
    "print('Intersection:             s1 \u2229 s2 =', s1 & s2)\n",
    "print('Difference:               s1 - s2 =', s1 - s2)\n",
    "print('                          s2 - s1 =', s2 - s1)\n",
    "print('Symmetric difference:     s1 \u2206 s2 =', s1 ^ s2)\n",
    "print('Membership:                3 \u2208 s1 =', 3 in s1)\n",
    "print('Subset:               {2, 3} \u2286 s1 =', {2, 3} <= s1)\n",
    "print('                   {1, 2, 3} \u2286 s1 =', {1, 2, 3} <= s1)\n",
    "print('Pure subset:          {2, 3} \u2282 s1 =', {2, 3} < s1)\n",
    "print('                   {1, 2, 3} \u2282 s1 =', {1, 2, 3} < s1)\n",
    "print('Superset:          s1 \u2287 {2, 3}    =', s1 >= {2, 3})\n",
    "print('                   s1 \u2287 {1, 2, 3} =', s1 >= {1, 2, 3})\n",
    "print('Pure superset:     s1 \u2283 {2, 3}    =', s1 > {2, 3})\n",
    "print('                   s1 \u2283 {1, 2, 3} =', s1 > {1, 2, 3})"
   ]
  },
  {
   "cell_type": "markdown",
   "metadata": {
    "id": "vI-QZQETJsdy"
   },
   "source": [
    "### \u0e41\u0e1a\u0e1a\u0e1d\u0e36\u0e01\u0e2b\u0e31\u0e14 11.2"
   ]
  },
  {
   "cell_type": "markdown",
   "metadata": {
    "id": "JxAKkTiIJvmG"
   },
   "source": [
    "\u0e08\u0e07\u0e40\u0e02\u0e35\u0e22\u0e19\u0e42\u0e1b\u0e23\u0e41\u0e01\u0e23\u0e21\u0e40\u0e1e\u0e37\u0e48\u0e2d\u0e2b\u0e32\u0e40\u0e0b\u0e47\u0e15\u0e02\u0e2d\u0e07\u0e19\u0e31\u0e01\u0e40\u0e23\u0e35\u0e22\u0e19\u0e17\u0e35\u0e48\u0e21\u0e35\u0e04\u0e38\u0e13\u0e2a\u0e21\u0e1a\u0e31\u0e15\u0e34\u0e14\u0e31\u0e07\u0e15\u0e48\u0e2d\u0e44\u0e1b\u0e19\u0e35\u0e49\n",
    "\n",
    "- \u0e40\u0e0b\u0e47\u0e15\u0e02\u0e2d\u0e07\u0e0a\u0e37\u0e48\u0e2d\u0e19\u0e31\u0e01\u0e40\u0e23\u0e35\u0e22\u0e19\u0e22\u0e2d\u0e14\u0e40\u0e22\u0e35\u0e48\u0e22\u0e21 `excellent_students` \u0e0b\u0e36\u0e48\u0e07\u0e08\u0e30\u0e21\u0e35\u0e04\u0e30\u0e41\u0e19\u0e19\u0e15\u0e31\u0e49\u0e07\u0e41\u0e15\u0e48 80 \u0e04\u0e30\u0e41\u0e19\u0e19\u0e02\u0e36\u0e49\u0e19\u0e44\u0e1b\n",
    "\n",
    "- \u0e40\u0e0b\u0e47\u0e15\u0e02\u0e2d\u0e07\u0e0a\u0e37\u0e48\u0e2d\u0e19\u0e31\u0e01\u0e40\u0e23\u0e35\u0e22\u0e19\u0e40\u0e23\u0e35\u0e22\u0e19\u0e14\u0e35 `good_students` \u0e0b\u0e36\u0e48\u0e07\u0e21\u0e35\u0e04\u0e30\u0e41\u0e19\u0e19\u0e15\u0e31\u0e49\u0e07\u0e41\u0e15\u0e48 70 \u0e04\u0e30\u0e41\u0e19\u0e19\u0e08\u0e19\u0e16\u0e36\u0e07 85 \u0e04\u0e30\u0e41\u0e19\u0e19\n",
    "\n",
    "\u0e2b\u0e25\u0e31\u0e07\u0e08\u0e32\u0e01\u0e19\u0e31\u0e49\u0e19\u0e43\u0e2b\u0e49\u0e04\u0e33\u0e19\u0e27\u0e13\u0e40\u0e0b\u0e47\u0e15\u0e14\u0e31\u0e07\u0e15\u0e48\u0e2d\u0e44\u0e1b\u0e19\u0e35\u0e49\n",
    "\n",
    "1. \u0e19\u0e31\u0e01\u0e40\u0e23\u0e35\u0e22\u0e19\u0e17\u0e35\u0e48\u0e40\u0e1b\u0e47\u0e19\u0e17\u0e31\u0e49\u0e07\u0e22\u0e2d\u0e14\u0e40\u0e22\u0e35\u0e48\u0e22\u0e21<u>**\u0e41\u0e25\u0e30**</u>\u0e40\u0e23\u0e35\u0e22\u0e19\u0e14\u0e35\u0e43\u0e19\u0e40\u0e27\u0e25\u0e32\u0e40\u0e14\u0e35\u0e22\u0e27\u0e01\u0e31\u0e19 \u0e04\u0e37\u0e2d\u0e08\u0e30\u0e40\u0e1b\u0e47\u0e19\u0e40\u0e09\u0e1e\u0e32\u0e30\u0e22\u0e2d\u0e14\u0e40\u0e22\u0e35\u0e48\u0e22\u0e21\u0e2b\u0e23\u0e37\u0e2d\u0e40\u0e23\u0e35\u0e22\u0e19\u0e14\u0e35\u0e2d\u0e22\u0e48\u0e32\u0e07\u0e40\u0e14\u0e35\u0e22\u0e27\u0e44\u0e21\u0e48\u0e44\u0e14\u0e49\n",
    "\n",
    "2. \u0e19\u0e31\u0e01\u0e40\u0e23\u0e35\u0e22\u0e19\u0e17\u0e35\u0e48\u0e40\u0e1b\u0e47\u0e19\u0e22\u0e2d\u0e14\u0e40\u0e22\u0e35\u0e48\u0e22\u0e21<u>**\u0e40\u0e17\u0e48\u0e32\u0e19\u0e31\u0e49\u0e19**</u> \u0e44\u0e21\u0e48\u0e44\u0e14\u0e49\u0e40\u0e1b\u0e47\u0e19\u0e40\u0e23\u0e35\u0e22\u0e19\u0e14\u0e35\n",
    "\n",
    "3. \u0e19\u0e31\u0e01\u0e40\u0e23\u0e35\u0e22\u0e19\u0e17\u0e35\u0e48\u0e40\u0e1b\u0e47\u0e19\u0e40\u0e23\u0e35\u0e22\u0e19\u0e14\u0e35<u>**\u0e40\u0e17\u0e48\u0e32\u0e19\u0e31\u0e49\u0e19**</u> \u0e44\u0e21\u0e48\u0e44\u0e14\u0e49\u0e40\u0e1b\u0e47\u0e19\u0e22\u0e2d\u0e14\u0e40\u0e22\u0e35\u0e48\u0e22\u0e21\n",
    "\n",
    "4. \u0e19\u0e31\u0e01\u0e40\u0e23\u0e35\u0e22\u0e19\u0e17\u0e35\u0e48\u0e44\u0e14\u0e49\u0e40\u0e1b\u0e47\u0e19\u0e22\u0e2d\u0e14\u0e40\u0e22\u0e35\u0e48\u0e22\u0e21\u0e2b\u0e23\u0e37\u0e2d\u0e44\u0e14\u0e49\u0e40\u0e1b\u0e47\u0e19\u0e40\u0e23\u0e35\u0e22\u0e19\u0e14\u0e35 <u>**\u0e2d\u0e22\u0e48\u0e32\u0e07\u0e43\u0e14\u0e2d\u0e22\u0e48\u0e32\u0e07\u0e2b\u0e19\u0e36\u0e48\u0e07\u0e40\u0e17\u0e48\u0e32\u0e19\u0e31\u0e49\u0e19**</u>"
   ]
  },
  {
   "cell_type": "code",
   "execution_count": 44,
   "metadata": {
    "id": "SsvjEY8nwVeG"
   },
   "outputs": [
    {
     "name": "stdout",
     "output_type": "stream",
     "text": [
      "\u0e19\u0e31\u0e01\u0e40\u0e23\u0e35\u0e22\u0e19\u0e22\u0e2d\u0e14\u0e40\u0e22\u0e35\u0e48\u0e22\u0e21: {'Cindy', 'Eugene', 'Barry'}\n",
      "\u0e19\u0e31\u0e01\u0e40\u0e23\u0e35\u0e22\u0e19\u0e40\u0e23\u0e35\u0e22\u0e19\u0e14\u0e35: {'Mark', 'Cindy', 'Mary', 'Barry'}\n",
      "\n",
      "\u0e19\u0e31\u0e01\u0e40\u0e23\u0e35\u0e22\u0e19\u0e22\u0e2d\u0e14\u0e40\u0e22\u0e35\u0e48\u0e22\u0e21\u0e41\u0e25\u0e30\u0e40\u0e23\u0e35\u0e22\u0e19\u0e14\u0e35: {'Cindy', 'Barry'}\n",
      "\u0e19\u0e31\u0e01\u0e40\u0e23\u0e35\u0e22\u0e19\u0e22\u0e2d\u0e14\u0e40\u0e22\u0e35\u0e48\u0e22\u0e21\u0e41\u0e15\u0e48\u0e44\u0e21\u0e48\u0e44\u0e14\u0e49\u0e40\u0e23\u0e35\u0e22\u0e19\u0e14\u0e35: {'Eugene'}\n",
      "\u0e19\u0e31\u0e01\u0e40\u0e23\u0e35\u0e22\u0e19\u0e40\u0e23\u0e35\u0e22\u0e19\u0e14\u0e35\u0e41\u0e15\u0e48\u0e44\u0e21\u0e48\u0e44\u0e14\u0e49\u0e22\u0e2d\u0e14\u0e40\u0e22\u0e35\u0e48\u0e22\u0e21: {'Mark', 'Mary'}\n",
      "\u0e19\u0e31\u0e01\u0e40\u0e23\u0e35\u0e22\u0e19\u0e40\u0e23\u0e35\u0e22\u0e19\u0e14\u0e35\u0e2b\u0e23\u0e37\u0e2d\u0e22\u0e2d\u0e14\u0e40\u0e22\u0e35\u0e48\u0e22\u0e21 \u0e2d\u0e22\u0e48\u0e32\u0e07\u0e43\u0e14\u0e2d\u0e22\u0e48\u0e32\u0e07\u0e2b\u0e19\u0e36\u0e48\u0e07: {'Mary', 'Eugene', 'Mark'}\n"
     ]
    }
   ],
   "source": [
    "student_scores = [\n",
    "    ('John', 35.5), ('Mary', 73.0), ('Cindy', 83.5), ('Sean', 65.0),\n",
    "    ('Barry', 81.0), ('Mark', 79.5), ('Eugene', 87.0), ('Bob', 49.5)\n",
    "]\n",
    "\n",
    "# \u0e40\u0e0b\u0e47\u0e15\u0e02\u0e2d\u0e07\u0e0a\u0e37\u0e48\u0e2d\u0e19\u0e31\u0e01\u0e40\u0e23\u0e35\u0e22\u0e19\u0e22\u0e2d\u0e14\u0e40\u0e22\u0e35\u0e48\u0e22\u0e21\n",
    "excellent_students = set()\n",
    "\n",
    "# \u0e40\u0e0b\u0e47\u0e15\u0e02\u0e2d\u0e07\u0e0a\u0e37\u0e48\u0e2d\u0e19\u0e31\u0e01\u0e40\u0e23\u0e35\u0e22\u0e19\u0e40\u0e23\u0e35\u0e22\u0e19\u0e14\u0e35\n",
    "good_students = set()\n",
    "\n",
    "for (name, score) in student_scores:\n",
    "    \n",
    "    # \u0e01\u0e23\u0e13\u0e35\u0e19\u0e31\u0e01\u0e40\u0e23\u0e35\u0e22\u0e19\u0e22\u0e2d\u0e14\u0e40\u0e22\u0e35\u0e48\u0e22\u0e21 \u0e43\u0e2b\u0e49\u0e19\u0e33\u0e40\u0e09\u0e1e\u0e32\u0e30\u0e0a\u0e37\u0e48\u0e2d\u0e19\u0e31\u0e01\u0e40\u0e23\u0e35\u0e22\u0e19\u0e43\u0e2a\u0e48\u0e40\u0e0b\u0e47\u0e15 excellent_students \u0e44\u0e27\u0e49\n",
    "    if score >= 80:\n",
    "        excellent_students.add(name)\n",
    "        \n",
    "    # \u0e01\u0e23\u0e13\u0e35\u0e19\u0e31\u0e01\u0e40\u0e23\u0e35\u0e22\u0e19\u0e40\u0e23\u0e35\u0e22\u0e19\u0e14\u0e35 \u0e43\u0e2b\u0e49\u0e19\u0e33\u0e40\u0e09\u0e1e\u0e32\u0e30\u0e0a\u0e37\u0e48\u0e2d\u0e19\u0e31\u0e01\u0e40\u0e23\u0e35\u0e22\u0e19\u0e43\u0e2a\u0e48\u0e40\u0e0b\u0e47\u0e15 good_students \u0e44\u0e27\u0e49\n",
    "    if score >= 70 and score < 85:\n",
    "        good_students.add(name)\n",
    "        \n",
    "print('\u0e19\u0e31\u0e01\u0e40\u0e23\u0e35\u0e22\u0e19\u0e22\u0e2d\u0e14\u0e40\u0e22\u0e35\u0e48\u0e22\u0e21:', excellent_students)\n",
    "print('\u0e19\u0e31\u0e01\u0e40\u0e23\u0e35\u0e22\u0e19\u0e40\u0e23\u0e35\u0e22\u0e19\u0e14\u0e35:', good_students, end='\\n\\n')\n",
    "\n",
    "print('\u0e19\u0e31\u0e01\u0e40\u0e23\u0e35\u0e22\u0e19\u0e22\u0e2d\u0e14\u0e40\u0e22\u0e35\u0e48\u0e22\u0e21\u0e41\u0e25\u0e30\u0e40\u0e23\u0e35\u0e22\u0e19\u0e14\u0e35:', excellent_students & good_students)\n",
    "print('\u0e19\u0e31\u0e01\u0e40\u0e23\u0e35\u0e22\u0e19\u0e22\u0e2d\u0e14\u0e40\u0e22\u0e35\u0e48\u0e22\u0e21\u0e41\u0e15\u0e48\u0e44\u0e21\u0e48\u0e44\u0e14\u0e49\u0e40\u0e23\u0e35\u0e22\u0e19\u0e14\u0e35:', excellent_students - good_students)\n",
    "print('\u0e19\u0e31\u0e01\u0e40\u0e23\u0e35\u0e22\u0e19\u0e40\u0e23\u0e35\u0e22\u0e19\u0e14\u0e35\u0e41\u0e15\u0e48\u0e44\u0e21\u0e48\u0e44\u0e14\u0e49\u0e22\u0e2d\u0e14\u0e40\u0e22\u0e35\u0e48\u0e22\u0e21:', good_students - excellent_students)\n",
    "print('\u0e19\u0e31\u0e01\u0e40\u0e23\u0e35\u0e22\u0e19\u0e40\u0e23\u0e35\u0e22\u0e19\u0e14\u0e35\u0e2b\u0e23\u0e37\u0e2d\u0e22\u0e2d\u0e14\u0e40\u0e22\u0e35\u0e48\u0e22\u0e21 \u0e2d\u0e22\u0e48\u0e32\u0e07\u0e43\u0e14\u0e2d\u0e22\u0e48\u0e32\u0e07\u0e2b\u0e19\u0e36\u0e48\u0e07:', excellent_students ^ good_students)"
   ]
  },
  {
   "cell_type": "markdown",
   "metadata": {
    "id": "uZrRpgCmWw2D"
   },
   "source": [
    "-----"
   ]
  },
  {
   "cell_type": "markdown",
   "metadata": {
    "id": "su9oSrG1dQyg"
   },
   "source": [
    "## \u0e01\u0e34\u0e08\u0e01\u0e23\u0e23\u0e21 12: \u0e14\u0e34\u0e01\u0e0a\u0e31\u0e19\u0e19\u0e32\u0e23\u0e35 (dictionary)"
   ]
  },
  {
   "cell_type": "markdown",
   "metadata": {
    "id": "q_b6i61edVve"
   },
   "source": [
    "- \u0e14\u0e34\u0e01\u0e0a\u0e31\u0e19\u0e19\u0e32\u0e23\u0e35 (dictionary) \u0e04\u0e37\u0e2d\u0e42\u0e04\u0e23\u0e07\u0e2a\u0e23\u0e49\u0e32\u0e07\u0e02\u0e49\u0e2d\u0e21\u0e39\u0e25\u0e17\u0e35\u0e48\u0e40\u0e0a\u0e37\u0e48\u0e2d\u0e21\u0e42\u0e22\u0e07\u0e04\u0e35\u0e22\u0e4c (key) \u0e44\u0e1b\u0e22\u0e31\u0e07\u0e04\u0e48\u0e32 (value) \u0e17\u0e35\u0e48\u0e40\u0e01\u0e47\u0e1a\u0e40\u0e2d\u0e32\u0e44\u0e27\u0e49\u0e43\u0e19\u0e04\u0e35\u0e22\u0e4c\u0e19\u0e31\u0e49\u0e19\n",
    "\n",
    "- \u0e04\u0e35\u0e22\u0e4c\u0e02\u0e2d\u0e07\u0e14\u0e34\u0e01\u0e0a\u0e31\u0e19\u0e19\u0e32\u0e23\u0e35\u0e2d\u0e32\u0e08\u0e08\u0e30\u0e40\u0e1b\u0e47\u0e19\u0e15\u0e31\u0e27\u0e40\u0e25\u0e02 \u0e2a\u0e15\u0e23\u0e34\u0e07 \u0e2b\u0e23\u0e37\u0e2d\u0e41\u0e21\u0e49\u0e41\u0e15\u0e48\u0e17\u0e39\u0e40\u0e1e\u0e34\u0e25\u0e01\u0e47\u0e44\u0e14\u0e49 \u0e41\u0e25\u0e30\u0e04\u0e48\u0e32\u0e17\u0e35\u0e48\u0e40\u0e01\u0e47\u0e1a\u0e44\u0e27\u0e49\u0e43\u0e19\u0e04\u0e35\u0e22\u0e4c\u0e19\u0e31\u0e49\u0e19\u0e08\u0e30\u0e40\u0e1b\u0e47\u0e19\u0e0a\u0e19\u0e34\u0e14\u0e43\u0e14\u0e01\u0e47\u0e44\u0e14\u0e49\n",
    "\n",
    "- \u0e14\u0e34\u0e01\u0e0a\u0e31\u0e19\u0e19\u0e32\u0e23\u0e35\u0e41\u0e15\u0e01\u0e15\u0e48\u0e32\u0e07\u0e08\u0e32\u0e01\u0e25\u0e34\u0e2a\u0e15\u0e4c\u0e41\u0e25\u0e30\u0e17\u0e39\u0e40\u0e1e\u0e34\u0e25\u0e15\u0e23\u0e07\u0e17\u0e35\u0e48\n",
    "  - \u0e25\u0e34\u0e2a\u0e15\u0e4c\u0e41\u0e25\u0e30\u0e17\u0e39\u0e40\u0e1e\u0e34\u0e25\u0e08\u0e30\u0e40\u0e02\u0e49\u0e32\u0e16\u0e36\u0e07\u0e2a\u0e21\u0e32\u0e0a\u0e34\u0e01\u0e20\u0e32\u0e22\u0e43\u0e19\u0e44\u0e14\u0e49\u0e14\u0e49\u0e27\u0e22\u0e01\u0e32\u0e23\u0e43\u0e0a\u0e49\u0e04\u0e48\u0e32 index \u0e0b\u0e36\u0e48\u0e07\u0e40\u0e1b\u0e47\u0e19\u0e08\u0e33\u0e19\u0e27\u0e19\u0e40\u0e15\u0e47\u0e21\n",
    "  - \u0e43\u0e19\u0e02\u0e13\u0e30\u0e17\u0e35\u0e48\u0e43\u0e19\u0e14\u0e34\u0e01\u0e0a\u0e31\u0e19\u0e19\u0e32\u0e23\u0e35 \u0e40\u0e23\u0e32\u0e08\u0e30\u0e40\u0e02\u0e49\u0e32\u0e16\u0e36\u0e07\u0e04\u0e48\u0e32\u0e20\u0e32\u0e22\u0e43\u0e19\u0e44\u0e14\u0e49\u0e14\u0e49\u0e27\u0e22\u0e01\u0e32\u0e23\u0e43\u0e0a\u0e49\u0e04\u0e35\u0e22\u0e4c\u0e17\u0e35\u0e48\u0e2d\u0e32\u0e08\u0e40\u0e1b\u0e47\u0e19\u0e02\u0e49\u0e2d\u0e21\u0e39\u0e25\u0e0a\u0e19\u0e34\u0e14\u0e2d\u0e37\u0e48\u0e19\u0e01\u0e47\u0e44\u0e14\u0e49\u0e19\u0e31\u0e48\u0e19\u0e40\u0e2d\u0e07\u0e04\u0e23\u0e31\u0e1a"
   ]
  },
  {
   "cell_type": "markdown",
   "metadata": {
    "id": "CeZbJlMFSTTS"
   },
   "source": [
    "### \u0e01\u0e32\u0e23\u0e2a\u0e23\u0e49\u0e32\u0e07\u0e14\u0e34\u0e01\u0e0a\u0e31\u0e19\u0e19\u0e32\u0e23\u0e35"
   ]
  },
  {
   "cell_type": "markdown",
   "metadata": {
    "id": "MfFA3QNuSRa3"
   },
   "source": [
    "- \u0e40\u0e23\u0e32\u0e2a\u0e32\u0e21\u0e32\u0e23\u0e16\u0e2a\u0e23\u0e49\u0e32\u0e07\u0e14\u0e34\u0e01\u0e0a\u0e31\u0e19\u0e19\u0e32\u0e23\u0e35\u0e44\u0e14\u0e49 2 \u0e27\u0e34\u0e18\u0e35\u0e04\u0e23\u0e31\u0e1a\n",
    "  - \u0e40\u0e23\u0e32\u0e2a\u0e23\u0e49\u0e32\u0e07\u0e14\u0e34\u0e01\u0e0a\u0e31\u0e19\u0e19\u0e32\u0e23\u0e35\u0e40\u0e1b\u0e25\u0e48\u0e32\u0e44\u0e14\u0e49\u0e14\u0e49\u0e27\u0e22\u0e04\u0e33\u0e2a\u0e31\u0e48\u0e07 `{}` \n",
    "  - \u0e2b\u0e23\u0e37\u0e2d\u0e40\u0e23\u0e32\u0e2a\u0e32\u0e21\u0e32\u0e23\u0e16\u0e2a\u0e23\u0e49\u0e32\u0e07\u0e14\u0e34\u0e01\u0e0a\u0e31\u0e19\u0e19\u0e32\u0e23\u0e35\u0e17\u0e35\u0e48\u0e21\u0e35\u0e04\u0e48\u0e32\u0e40\u0e23\u0e34\u0e48\u0e21\u0e15\u0e49\u0e19\u0e44\u0e14\u0e49\u0e14\u0e49\u0e27\u0e22\u0e04\u0e33\u0e2a\u0e31\u0e48\u0e07 `{` $k_1$ `:` $v_1$ `,` $k_2$ `:` $v_2$ `,` $k_3$ `:` $v_3$ `,` ... `}` \u0e42\u0e14\u0e22\u0e08\u0e30\u0e21\u0e35\u0e04\u0e39\u0e48\u0e02\u0e2d\u0e07\u0e04\u0e35\u0e22\u0e4c $k_i$ \u0e41\u0e25\u0e30\u0e04\u0e48\u0e32 $v_i$ \u0e40\u0e23\u0e35\u0e22\u0e07\u0e01\u0e31\u0e19\u0e44\u0e1b \u0e04\u0e31\u0e48\u0e19\u0e14\u0e49\u0e27\u0e22\u0e40\u0e04\u0e23\u0e37\u0e48\u0e2d\u0e07\u0e2b\u0e21\u0e32\u0e22\u0e04\u0e2d\u0e21\u0e21\u0e32 `,`"
   ]
  },
  {
   "cell_type": "code",
   "execution_count": 45,
   "metadata": {
    "id": "lNCj1IonV6M0"
   },
   "outputs": [
    {
     "name": "stdout",
     "output_type": "stream",
     "text": [
      "{}\n",
      "{'John': 35.5, 'Mary': 73.0, 'Cindy': 83.5, 'Sean': 65.0, 'Barry': 81.0, 'Mark': 79.5, 'Eugene': 87.0, 'Bob': 49.5}\n"
     ]
    }
   ],
   "source": [
    "# \u0e14\u0e34\u0e01\u0e0a\u0e31\u0e19\u0e19\u0e32\u0e23\u0e35\u0e40\u0e1b\u0e25\u0e48\u0e32\n",
    "my_empty_dict = {}\n",
    "\n",
    "# \u0e14\u0e34\u0e01\u0e0a\u0e31\u0e19\u0e19\u0e32\u0e23\u0e35\u0e17\u0e35\u0e48\u0e21\u0e35\u0e04\u0e48\u0e32\u0e40\u0e23\u0e34\u0e48\u0e21\u0e15\u0e49\u0e19\n",
    "student_dict = {\n",
    "    'John': 35.5, 'Mary': 73.0, 'Cindy': 83.5, 'Sean': 65.0,\n",
    "    'Barry': 81.0, 'Mark': 79.5, 'Eugene': 87.0, 'Bob': 49.5\n",
    "}\n",
    "\n",
    "print(my_empty_dict)\n",
    "\n",
    "print(student_dict)"
   ]
  },
  {
   "cell_type": "markdown",
   "metadata": {
    "id": "TqfIXiT_V8PZ"
   },
   "source": [
    "### \u0e41\u0e1a\u0e1a\u0e1d\u0e36\u0e01\u0e2b\u0e31\u0e14 12.1"
   ]
  },
  {
   "cell_type": "markdown",
   "metadata": {
    "id": "t82KFHDjV-Vo"
   },
   "source": [
    "\u0e08\u0e07\u0e2a\u0e23\u0e49\u0e32\u0e07\u0e14\u0e34\u0e01\u0e0a\u0e31\u0e19\u0e19\u0e32\u0e23\u0e35 `phone_dir` \u0e0b\u0e36\u0e48\u0e07\u0e21\u0e35\u0e04\u0e48\u0e32\u0e40\u0e23\u0e34\u0e48\u0e21\u0e15\u0e49\u0e19\u0e14\u0e31\u0e07\u0e15\u0e48\u0e2d\u0e44\u0e1b\u0e19\u0e35\u0e49\n",
    "\n",
    "- \u0e04\u0e35\u0e22\u0e4c `'Prachya'` \u0e21\u0e35\u0e04\u0e48\u0e32 `'533-7855'`\n",
    "- \u0e04\u0e35\u0e22\u0e4c `'Methas'` \u0e21\u0e35\u0e04\u0e48\u0e32 `'536-2313'`\n",
    "- \u0e04\u0e35\u0e22\u0e4c `'Pahol'` \u0e21\u0e35\u0e04\u0e48\u0e32 `'524-0935'`"
   ]
  },
  {
   "cell_type": "code",
   "execution_count": 46,
   "metadata": {
    "id": "wufLXzjeWvIp"
   },
   "outputs": [],
   "source": [
    "phone_dir = {\n",
    "  \"Prachya\": '533-7855',\n",
    "  \"Methas\": '536-2313',\n",
    "  \"Pahol\": '524-0935'\n",
    "}"
   ]
  },
  {
   "cell_type": "markdown",
   "metadata": {
    "id": "tHWhyutYW15-"
   },
   "source": [
    "### \u0e41\u0e1a\u0e1a\u0e1d\u0e36\u0e01\u0e2b\u0e31\u0e14 12.2"
   ]
  },
  {
   "cell_type": "markdown",
   "metadata": {
    "id": "T-lQsNvBW4Li"
   },
   "source": [
    "\u0e08\u0e07\u0e40\u0e02\u0e35\u0e22\u0e19\u0e42\u0e1b\u0e23\u0e41\u0e01\u0e23\u0e21\u0e23\u0e31\u0e1a\u0e0a\u0e37\u0e48\u0e2d\u0e41\u0e25\u0e30\u0e40\u0e1a\u0e2d\u0e23\u0e4c\u0e42\u0e17\u0e23\u0e28\u0e31\u0e1e\u0e17\u0e4c\u0e08\u0e32\u0e01\u0e1c\u0e39\u0e49\u0e43\u0e0a\u0e49 \u0e2b\u0e25\u0e31\u0e07\u0e08\u0e32\u0e01\u0e19\u0e31\u0e49\u0e19\u0e43\u0e2b\u0e49\u0e2a\u0e23\u0e49\u0e32\u0e07\u0e14\u0e34\u0e01\u0e0a\u0e31\u0e19\u0e19\u0e32\u0e23\u0e35 `phone_entry` \u0e17\u0e35\u0e48\u0e21\u0e35\u0e42\u0e04\u0e23\u0e07\u0e2a\u0e23\u0e49\u0e32\u0e07\u0e14\u0e31\u0e07\u0e19\u0e35\u0e49\n",
    "\n",
    "- \u0e04\u0e35\u0e22\u0e4c `'first_name'` \u0e40\u0e01\u0e47\u0e1a\u0e0a\u0e37\u0e48\u0e2d\n",
    "- \u0e04\u0e35\u0e22\u0e4c `'last_name'` \u0e40\u0e01\u0e47\u0e1a\u0e19\u0e32\u0e21\u0e2a\u0e01\u0e38\u0e25\n",
    "- \u0e04\u0e35\u0e22\u0e4c `'tel_no'` \u0e40\u0e01\u0e47\u0e1a\u0e40\u0e1a\u0e2d\u0e23\u0e4c\u0e42\u0e17\u0e23\u0e28\u0e31\u0e1e\u0e17\u0e4c\n",
    "\n",
    "\u0e2b\u0e25\u0e31\u0e07\u0e08\u0e32\u0e01\u0e19\u0e31\u0e49\u0e19\u0e08\u0e36\u0e07\u0e41\u0e2a\u0e14\u0e07\u0e14\u0e34\u0e01\u0e0a\u0e31\u0e19\u0e19\u0e32\u0e23\u0e35\u0e19\u0e35\u0e49\u0e2d\u0e2d\u0e01\u0e17\u0e32\u0e07\u0e2b\u0e19\u0e49\u0e32\u0e08\u0e2d"
   ]
  },
  {
   "cell_type": "code",
   "execution_count": 47,
   "metadata": {
    "id": "ysswrrT8XZzD"
   },
   "outputs": [
    {
     "name": "stdout",
     "output_type": "stream",
     "text": [
      "{'first_name': 'Jane', 'last_name': 'Smith', 'tel_no': 'Smith'}\n"
     ]
    }
   ],
   "source": [
    "first_name = input('Enter first name: ')\n",
    "last_name = input('Enter last name: ')\n",
    "tel_no = input('Enter tel no: ')\n",
    "\n",
    "phone_entry = { 'first_name': first_name, 'last_name': last_name, 'tel_no': last_name }       # \u0e41\u0e01\u0e49\u0e44\u0e02\u0e42\u0e04\u0e49\u0e14\u0e17\u0e35\u0e48\u0e19\u0e35\u0e48\n",
    "\n",
    "print(phone_entry)"
   ]
  },
  {
   "cell_type": "markdown",
   "metadata": {
    "id": "T06j59kdYkP9"
   },
   "source": [
    "### \u0e41\u0e1a\u0e1a\u0e1d\u0e36\u0e01\u0e2b\u0e31\u0e14 12.3"
   ]
  },
  {
   "cell_type": "markdown",
   "metadata": {
    "id": "dqcTA__fYo2m"
   },
   "source": [
    "\u0e08\u0e07\u0e40\u0e02\u0e35\u0e22\u0e19\u0e42\u0e1b\u0e23\u0e41\u0e01\u0e23\u0e21\u0e17\u0e22\u0e2d\u0e22\u0e23\u0e31\u0e1a\u0e0a\u0e37\u0e48\u0e2d\u0e41\u0e25\u0e30\u0e40\u0e1a\u0e2d\u0e23\u0e4c\u0e42\u0e17\u0e23\u0e28\u0e31\u0e1e\u0e17\u0e4c\u0e08\u0e32\u0e01\u0e1c\u0e39\u0e49\u0e43\u0e0a\u0e49 \u0e2a\u0e23\u0e49\u0e32\u0e07\u0e14\u0e34\u0e01\u0e0a\u0e31\u0e19\u0e19\u0e32\u0e23\u0e35 `phone_entry` \u0e17\u0e35\u0e48\u0e21\u0e35\u0e42\u0e04\u0e23\u0e07\u0e2a\u0e23\u0e49\u0e32\u0e07\u0e14\u0e31\u0e07\u0e19\u0e35\u0e49\n",
    "\n",
    "- \u0e04\u0e35\u0e22\u0e4c `'first_name'` \u0e40\u0e01\u0e47\u0e1a\u0e0a\u0e37\u0e48\u0e2d\n",
    "- \u0e04\u0e35\u0e22\u0e4c `'last_name'` \u0e40\u0e01\u0e47\u0e1a\u0e19\u0e32\u0e21\u0e2a\u0e01\u0e38\u0e25\n",
    "- \u0e04\u0e35\u0e22\u0e4c `'tel_no'` \u0e40\u0e01\u0e47\u0e1a\u0e40\u0e1a\u0e2d\u0e23\u0e4c\u0e42\u0e17\u0e23\u0e28\u0e31\u0e1e\u0e17\u0e4c\n",
    "\n",
    "\u0e41\u0e25\u0e49\u0e27\u0e19\u0e33\u0e14\u0e34\u0e01\u0e0a\u0e31\u0e19\u0e19\u0e32\u0e23\u0e35\u0e19\u0e35\u0e49\u0e44\u0e1b\u0e15\u0e48\u0e2d\u0e17\u0e49\u0e32\u0e22\u0e43\u0e19\u0e25\u0e34\u0e2a\u0e15\u0e4c `phone_database` \u0e0b\u0e36\u0e48\u0e07\u0e40\u0e01\u0e47\u0e1a\u0e10\u0e32\u0e19\u0e02\u0e49\u0e2d\u0e21\u0e39\u0e25\u0e02\u0e2d\u0e07\u0e1c\u0e39\u0e49\u0e43\u0e0a\u0e49\u0e42\u0e17\u0e23\u0e28\u0e31\u0e1e\u0e17\u0e4c\n",
    "\n",
    "\u0e42\u0e1b\u0e23\u0e41\u0e01\u0e23\u0e21\u0e19\u0e35\u0e49\u0e08\u0e30\u0e2b\u0e22\u0e38\u0e14\u0e23\u0e31\u0e1a\u0e04\u0e48\u0e32\u0e08\u0e32\u0e01\u0e1c\u0e39\u0e49\u0e43\u0e0a\u0e49\u0e2b\u0e32\u0e01\u0e27\u0e48\u0e32 \u0e0a\u0e37\u0e48\u0e2d \u0e19\u0e32\u0e21\u0e2a\u0e01\u0e38\u0e25 \u0e2b\u0e23\u0e37\u0e2d\u0e40\u0e1a\u0e2d\u0e23\u0e4c\u0e42\u0e17\u0e23\u0e28\u0e31\u0e1e\u0e17\u0e4c\u0e17\u0e35\u0e48\u0e23\u0e31\u0e1a\u0e21\u0e32\u0e08\u0e32\u0e01\u0e1c\u0e39\u0e49\u0e43\u0e0a\u0e49 \u0e40\u0e1b\u0e47\u0e19\u0e2a\u0e15\u0e23\u0e34\u0e07\u0e27\u0e48\u0e32\u0e07\n",
    "\n",
    "\u0e40\u0e21\u0e37\u0e48\u0e2d\u0e42\u0e1b\u0e23\u0e41\u0e01\u0e23\u0e21\u0e2b\u0e22\u0e38\u0e14\u0e23\u0e31\u0e1a\u0e04\u0e48\u0e32\u0e08\u0e32\u0e01\u0e1c\u0e39\u0e49\u0e43\u0e0a\u0e49 \u0e43\u0e2b\u0e49\u0e42\u0e1b\u0e23\u0e41\u0e01\u0e23\u0e21\u0e44\u0e25\u0e48\u0e41\u0e2a\u0e14\u0e07\u0e1c\u0e25\u0e14\u0e34\u0e01\u0e0a\u0e31\u0e19\u0e19\u0e32\u0e23\u0e35\u0e17\u0e35\u0e48\u0e40\u0e01\u0e47\u0e1a\u0e43\u0e19\u0e25\u0e34\u0e2a\u0e15\u0e4c `phone_database` \u0e2d\u0e2d\u0e01\u0e21\u0e32\u0e17\u0e35\u0e25\u0e30\u0e2d\u0e31\u0e19\u0e08\u0e19\u0e01\u0e27\u0e48\u0e32\u0e08\u0e30\u0e2b\u0e21\u0e14"
   ]
  },
  {
   "cell_type": "code",
   "execution_count": 48,
   "metadata": {
    "id": "Qd5rLpzmZTpo"
   },
   "outputs": [
    {
     "name": "stdout",
     "output_type": "stream",
     "text": [
      "Name: John Smith\n"
     ]
    }
   ],
   "source": [
    "# \u0e25\u0e34\u0e2a\u0e15\u0e4c\u0e2a\u0e33\u0e2b\u0e23\u0e31\u0e1a\u0e10\u0e32\u0e19\u0e02\u0e49\u0e2d\u0e21\u0e39\u0e25\u0e1c\u0e39\u0e49\u0e43\u0e0a\u0e49\u0e42\u0e17\u0e23\u0e28\u0e31\u0e1e\u0e17\u0e4c\n",
    "phone_database = []\n",
    "\n",
    "# \u0e27\u0e19\u0e25\u0e39\u0e1b\u0e15\u0e25\u0e2d\u0e14\u0e44\u0e1b\n",
    "while True:\n",
    "    \n",
    "    # \u0e23\u0e31\u0e1a\u0e0a\u0e37\u0e48\u0e2d \u0e19\u0e32\u0e21\u0e2a\u0e01\u0e38\u0e25 \u0e41\u0e25\u0e30\u0e40\u0e1a\u0e2d\u0e23\u0e4c\u0e42\u0e17\u0e23\u0e28\u0e31\u0e1e\u0e17\u0e4c\u0e08\u0e32\u0e01\u0e1c\u0e39\u0e49\u0e43\u0e0a\u0e49\n",
    "    first_name = input('Enter first name: ')\n",
    "    last_name = input('Enter last name: ')\n",
    "    tel_no = input('Enter tel no: ')\n",
    "    \n",
    "    # \u0e16\u0e49\u0e32\u0e2b\u0e32\u0e01\u0e0a\u0e37\u0e48\u0e2d \u0e19\u0e32\u0e21\u0e2a\u0e01\u0e38\u0e25 \u0e2b\u0e23\u0e37\u0e2d\u0e40\u0e1a\u0e2d\u0e23\u0e4c\u0e42\u0e17\u0e23\u0e28\u0e31\u0e1e\u0e17\u0e4c\u0e40\u0e1b\u0e47\u0e19\u0e2a\u0e15\u0e23\u0e34\u0e07\u0e27\u0e48\u0e32\u0e07 \u0e43\u0e2b\u0e49\u0e2b\u0e22\u0e38\u0e14\u0e01\u0e32\u0e23\u0e17\u0e33\u0e07\u0e32\u0e19\u0e02\u0e2d\u0e07\u0e25\u0e39\u0e1b\u0e19\u0e35\u0e49\u0e14\u0e49\u0e27\u0e22 break\n",
    "    if first_name == '' or last_name == '':\n",
    "        break\n",
    "\n",
    "    # \u0e19\u0e33\u0e0a\u0e37\u0e48\u0e2d \u0e19\u0e32\u0e21\u0e2a\u0e01\u0e38\u0e25 \u0e41\u0e25\u0e30\u0e40\u0e1a\u0e2d\u0e23\u0e4c\u0e42\u0e17\u0e23\u0e28\u0e31\u0e1e\u0e17\u0e4c \u0e21\u0e32\u0e2a\u0e23\u0e49\u0e32\u0e07\u0e14\u0e34\u0e01\u0e0a\u0e31\u0e19\u0e19\u0e32\u0e23\u0e35\n",
    "    phone_entry = { 'fn': first_name, 'ln': last_name }       # \u0e41\u0e01\u0e49\u0e44\u0e02\u0e42\u0e04\u0e49\u0e14\u0e17\u0e35\u0e48\u0e19\u0e35\u0e48\n",
    "    \n",
    "    # \u0e19\u0e33\u0e14\u0e34\u0e01\u0e0a\u0e31\u0e19\u0e19\u0e32\u0e23\u0e35\u0e19\u0e35\u0e49\u0e44\u0e1b\u0e15\u0e48\u0e2d\u0e17\u0e49\u0e32\u0e22 phone_database\n",
    "    phone_database.append(phone_entry)       # \u0e41\u0e01\u0e49\u0e44\u0e02\u0e42\u0e04\u0e49\u0e14\u0e17\u0e35\u0e48\u0e19\u0e35\u0e48\n",
    "\n",
    "# \u0e41\u0e2a\u0e14\u0e07\u0e1c\u0e25\u0e14\u0e34\u0e01\u0e0a\u0e31\u0e19\u0e19\u0e32\u0e23\u0e35\u0e43\u0e19 phone_database \u0e17\u0e35\u0e25\u0e30\u0e2d\u0e31\u0e19\n",
    "for entry in phone_database:\n",
    "    print(f\"Name: {entry['fn']} {entry['ln']}\")       # \u0e41\u0e01\u0e49\u0e44\u0e02\u0e42\u0e04\u0e49\u0e14\u0e17\u0e35\u0e48\u0e19\u0e35\u0e48"
   ]
  },
  {
   "cell_type": "markdown",
   "metadata": {
    "id": "vEIeGMz8gqMz"
   },
   "source": [
    "### \u0e01\u0e32\u0e23\u0e40\u0e02\u0e49\u0e32\u0e16\u0e36\u0e07\u0e04\u0e48\u0e32\u0e43\u0e19\u0e04\u0e35\u0e22\u0e4c"
   ]
  },
  {
   "cell_type": "markdown",
   "metadata": {
    "id": "P4yMVsr-hg1u"
   },
   "source": [
    "- \u0e40\u0e23\u0e32\u0e2a\u0e32\u0e21\u0e32\u0e23\u0e16\u0e40\u0e02\u0e49\u0e32\u0e16\u0e36\u0e07\u0e04\u0e48\u0e32\u0e17\u0e35\u0e48\u0e2d\u0e22\u0e39\u0e48\u0e43\u0e19\u0e04\u0e35\u0e22\u0e4c\u0e44\u0e14\u0e49\u0e14\u0e49\u0e27\u0e22\u0e01\u0e32\u0e23\u0e43\u0e0a\u0e49\u0e04\u0e33\u0e2a\u0e31\u0e48\u0e07 indexing `[ ]` \u0e40\u0e2b\u0e21\u0e37\u0e2d\u0e19\u0e01\u0e31\u0e1a\u0e25\u0e34\u0e2a\u0e15\u0e4c\u0e41\u0e25\u0e30\u0e17\u0e39\u0e40\u0e1e\u0e34\u0e25\u0e40\u0e25\u0e22\u0e04\u0e23\u0e31\u0e1a"
   ]
  },
  {
   "cell_type": "code",
   "execution_count": 49,
   "metadata": {
    "id": "b2gPSIpuhsGO"
   },
   "outputs": [
    {
     "name": "stdout",
     "output_type": "stream",
     "text": [
      "73.0\n",
      "87.0\n"
     ]
    }
   ],
   "source": [
    "student_dict = {\n",
    "    'John': 35.5, 'Mary': 73.0, 'Cindy': 83.5, 'Sean': 65.0,\n",
    "    'Barry': 81.0, 'Mark': 79.5, 'Eugene': 87.0, 'Bob': 49.5\n",
    "}\n",
    "\n",
    "print(student_dict['Mary'])\n",
    "print(student_dict['Eugene'])"
   ]
  },
  {
   "cell_type": "markdown",
   "metadata": {
    "id": "6OhSP6qTbWfE"
   },
   "source": [
    "- \u0e2b\u0e32\u0e01\u0e40\u0e23\u0e32\u0e1e\u0e22\u0e32\u0e22\u0e32\u0e21\u0e2d\u0e48\u0e32\u0e19\u0e04\u0e48\u0e32\u0e43\u0e19\u0e04\u0e35\u0e22\u0e4c\u0e0b\u0e36\u0e48\u0e07\u0e44\u0e21\u0e48\u0e21\u0e35\u0e43\u0e19\u0e14\u0e34\u0e01\u0e0a\u0e31\u0e19\u0e19\u0e32\u0e23\u0e35 \u0e04\u0e2d\u0e21\u0e1e\u0e34\u0e27\u0e40\u0e15\u0e2d\u0e23\u0e4c\u0e08\u0e30\u0e1f\u0e49\u0e2d\u0e07\u0e14\u0e49\u0e27\u0e22\u0e02\u0e49\u0e2d\u0e04\u0e27\u0e32\u0e21\u0e27\u0e48\u0e32 `KeyError` \u0e0b\u0e36\u0e48\u0e07\u0e41\u0e1b\u0e25\u0e27\u0e48\u0e32 \u0e2b\u0e32\u0e04\u0e35\u0e22\u0e4c\u0e44\u0e21\u0e48\u0e40\u0e08\u0e2d \u0e19\u0e31\u0e48\u0e19\u0e40\u0e2d\u0e07\u0e04\u0e23\u0e31\u0e1a"
   ]
  },
  {
   "cell_type": "code",
   "execution_count": 50,
   "metadata": {
    "id": "nsP28TO2bilD"
   },
   "outputs": [
    {
     "ename": "KeyError",
     "evalue": "'Lucy'",
     "output_type": "error",
     "traceback": [
      "\u001b[0;31m---------------------------------------------------------------------------\u001b[0m",
      "\u001b[0;31mKeyError\u001b[0m                                  Traceback (most recent call last)",
      "\u001b[0;32m/tmp/ipykernel_4316/1927303255.py\u001b[0m in \u001b[0;36m<module>\u001b[0;34m\u001b[0m\n\u001b[0;32m----> 1\u001b[0;31m \u001b[0mprint\u001b[0m\u001b[0;34m(\u001b[0m\u001b[0mstudent_dict\u001b[0m\u001b[0;34m[\u001b[0m\u001b[0;34m'Lucy'\u001b[0m\u001b[0;34m]\u001b[0m\u001b[0;34m)\u001b[0m\u001b[0;34m\u001b[0m\u001b[0;34m\u001b[0m\u001b[0m\n\u001b[0m",
      "\u001b[0;31mKeyError\u001b[0m: 'Lucy'"
     ]
    }
   ],
   "source": [
    "print(student_dict['Lucy'])"
   ]
  },
  {
   "cell_type": "markdown",
   "metadata": {
    "id": "gI-n4L5vbmp_"
   },
   "source": [
    "- \u0e14\u0e31\u0e07\u0e19\u0e31\u0e49\u0e19\u0e40\u0e1e\u0e37\u0e48\u0e2d\u0e1b\u0e49\u0e2d\u0e07\u0e01\u0e31\u0e19\u0e44\u0e21\u0e48\u0e43\u0e2b\u0e49\u0e40\u0e01\u0e34\u0e14\u0e40\u0e2b\u0e15\u0e38\u0e01\u0e32\u0e23\u0e13\u0e4c\u0e41\u0e1a\u0e1a\u0e19\u0e35\u0e49 \u0e40\u0e23\u0e32\u0e08\u0e36\u0e07\u0e08\u0e33\u0e40\u0e1b\u0e47\u0e19\u0e15\u0e49\u0e2d\u0e07\u0e15\u0e23\u0e27\u0e08\u0e2a\u0e2d\u0e1a\u0e04\u0e27\u0e32\u0e21\u0e40\u0e1b\u0e47\u0e19\u0e2a\u0e21\u0e32\u0e0a\u0e34\u0e01\u0e02\u0e2d\u0e07\u0e04\u0e35\u0e22\u0e4c\u0e40\u0e2a\u0e35\u0e22\u0e01\u0e48\u0e2d\u0e19\n",
    "\n",
    "- \u0e40\u0e23\u0e32\u0e2a\u0e32\u0e21\u0e32\u0e23\u0e16\u0e15\u0e23\u0e27\u0e08\u0e2a\u0e2d\u0e1a\u0e04\u0e27\u0e32\u0e21\u0e40\u0e1b\u0e47\u0e19\u0e2a\u0e21\u0e32\u0e0a\u0e34\u0e01\u0e02\u0e2d\u0e07\u0e04\u0e35\u0e22\u0e4c\u0e43\u0e19\u0e14\u0e34\u0e01\u0e0a\u0e31\u0e19\u0e19\u0e32\u0e23\u0e35\u0e44\u0e14\u0e49\u0e14\u0e49\u0e27\u0e22\u0e04\u0e33\u0e2a\u0e31\u0e48\u0e07 `in` \u0e04\u0e23\u0e31\u0e1a"
   ]
  },
  {
   "cell_type": "code",
   "execution_count": 51,
   "metadata": {
    "id": "mr2VxS-ib7jF"
   },
   "outputs": [
    {
     "name": "stdout",
     "output_type": "stream",
     "text": [
      "False\n",
      "True\n"
     ]
    }
   ],
   "source": [
    "print('Lucy' in student_dict)\n",
    "print('Mary' in student_dict)"
   ]
  },
  {
   "cell_type": "markdown",
   "metadata": {
    "id": "IzZa8ibqUxGI"
   },
   "source": [
    "### \u0e01\u0e32\u0e23\u0e40\u0e1e\u0e34\u0e48\u0e21\u0e41\u0e25\u0e30\u0e41\u0e17\u0e19\u0e17\u0e35\u0e48\u0e04\u0e35\u0e22\u0e4c\u0e43\u0e19\u0e14\u0e34\u0e01\u0e0a\u0e31\u0e19\u0e19\u0e32\u0e23\u0e35"
   ]
  },
  {
   "cell_type": "markdown",
   "metadata": {
    "id": "fmJ_OcR5h8ia"
   },
   "source": [
    "- \u0e40\u0e23\u0e32\u0e2a\u0e32\u0e21\u0e32\u0e23\u0e16\u0e40\u0e15\u0e34\u0e21\u0e04\u0e35\u0e22\u0e4c\u0e43\u0e2b\u0e21\u0e48\u0e40\u0e02\u0e49\u0e32\u0e44\u0e1b\u0e43\u0e19\u0e14\u0e34\u0e01\u0e0a\u0e31\u0e19\u0e19\u0e32\u0e23\u0e35\u0e44\u0e14\u0e49\u0e14\u0e49\u0e27\u0e22\u0e04\u0e33\u0e2a\u0e31\u0e48\u0e07 indexing \u0e40\u0e0a\u0e48\u0e19\u0e01\u0e31\u0e19"
   ]
  },
  {
   "cell_type": "code",
   "execution_count": 52,
   "metadata": {
    "id": "RUycx5YSh3DN"
   },
   "outputs": [
    {
     "name": "stdout",
     "output_type": "stream",
     "text": [
      "{'John': 35.5, 'Mary': 73.0, 'Cindy': 83.5, 'Sean': 65.0, 'Barry': 81.0, 'Mark': 79.5, 'Eugene': 87.0, 'Bob': 49.5, 'Rupert': 91.0}\n"
     ]
    }
   ],
   "source": [
    "student_dict = {\n",
    "    'John': 35.5, 'Mary': 73.0, 'Cindy': 83.5, 'Sean': 65.0,\n",
    "    'Barry': 81.0, 'Mark': 79.5, 'Eugene': 87.0, 'Bob': 49.5\n",
    "}\n",
    "\n",
    "student_dict['Rupert'] = 91.0\n",
    "\n",
    "print(student_dict)"
   ]
  },
  {
   "cell_type": "markdown",
   "metadata": {
    "id": "tPGVxOCniP25"
   },
   "source": [
    "- \u0e2b\u0e32\u0e01\u0e40\u0e23\u0e32\u0e1e\u0e22\u0e32\u0e22\u0e32\u0e21\u0e40\u0e15\u0e34\u0e21\u0e04\u0e35\u0e22\u0e4c\u0e43\u0e2b\u0e21\u0e48\u0e14\u0e49\u0e27\u0e22\u0e04\u0e33\u0e2a\u0e31\u0e48\u0e07 indexing \u0e41\u0e15\u0e48\u0e1b\u0e23\u0e32\u0e01\u0e0f\u0e27\u0e48\u0e32\u0e04\u0e35\u0e22\u0e4c\u0e15\u0e31\u0e27\u0e19\u0e31\u0e49\u0e19\u0e21\u0e35\u0e2d\u0e22\u0e39\u0e48\u0e41\u0e25\u0e49\u0e27 \u0e04\u0e48\u0e32\u0e02\u0e2d\u0e07\u0e04\u0e35\u0e22\u0e4c\u0e19\u0e31\u0e49\u0e19\u0e08\u0e30\u0e16\u0e39\u0e01\u0e17\u0e31\u0e1a\u0e44\u0e1b\u0e14\u0e49\u0e27\u0e22\u0e04\u0e48\u0e32\u0e43\u0e2b\u0e21\u0e48"
   ]
  },
  {
   "cell_type": "code",
   "execution_count": 53,
   "metadata": {
    "id": "6W6OYxwBiLDI"
   },
   "outputs": [
    {
     "name": "stdout",
     "output_type": "stream",
     "text": [
      "{'John': 35.5, 'Mary': 89.0, 'Cindy': 83.5, 'Sean': 65.0, 'Barry': 86.0, 'Mark': 79.5, 'Eugene': 87.0, 'Bob': 49.5}\n"
     ]
    }
   ],
   "source": [
    "student_dict = {\n",
    "    'John': 35.5, 'Mary': 73.0, 'Cindy': 83.5, 'Sean': 65.0,\n",
    "    'Barry': 81.0, 'Mark': 79.5, 'Eugene': 87.0, 'Bob': 49.5\n",
    "}\n",
    "\n",
    "student_dict['Mary'] = 89.0\n",
    "\n",
    "student_dict['Barry'] = student_dict['Barry'] + 5\n",
    "\n",
    "print(student_dict)"
   ]
  },
  {
   "cell_type": "markdown",
   "metadata": {
    "id": "6fxnt_BdcZe0"
   },
   "source": [
    "### \u0e41\u0e1a\u0e1a\u0e1d\u0e36\u0e01\u0e2b\u0e31\u0e14 12.4"
   ]
  },
  {
   "cell_type": "markdown",
   "metadata": {
    "id": "04Xd1l_HccjR"
   },
   "source": [
    "\u0e08\u0e07\u0e40\u0e02\u0e35\u0e22\u0e19\u0e42\u0e1b\u0e23\u0e41\u0e01\u0e23\u0e21\u0e40\u0e1e\u0e37\u0e48\u0e2d\u0e40\u0e01\u0e47\u0e1a\u0e04\u0e30\u0e41\u0e19\u0e19\u0e2a\u0e2d\u0e1a\u0e02\u0e2d\u0e07\u0e19\u0e31\u0e01\u0e40\u0e23\u0e35\u0e22\u0e19\u0e25\u0e07\u0e43\u0e19\u0e14\u0e34\u0e01\u0e0a\u0e31\u0e19\u0e19\u0e32\u0e23\u0e35 `student_dict` \u0e42\u0e14\u0e22\u0e42\u0e1b\u0e23\u0e41\u0e01\u0e23\u0e21\u0e08\u0e30\u0e16\u0e32\u0e21\u0e2b\u0e32\u0e0a\u0e37\u0e48\u0e2d\u0e02\u0e2d\u0e07\u0e19\u0e31\u0e01\u0e40\u0e23\u0e35\u0e22\u0e19\n",
    "\n",
    "1. \u0e2b\u0e32\u0e01\u0e0a\u0e37\u0e48\u0e2d\u0e19\u0e31\u0e49\u0e19\u0e21\u0e35\u0e2d\u0e22\u0e39\u0e48\u0e43\u0e19 `student_dict` \u0e2d\u0e22\u0e39\u0e48\u0e41\u0e25\u0e49\u0e27 \u0e01\u0e47\u0e43\u0e2b\u0e49\u0e41\u0e2a\u0e14\u0e07\u0e04\u0e30\u0e41\u0e19\u0e19\u0e17\u0e35\u0e48\u0e40\u0e04\u0e22\u0e01\u0e23\u0e2d\u0e01\u0e44\u0e27\u0e49\u0e41\u0e25\u0e49\u0e27\u0e2d\u0e2d\u0e01\u0e21\u0e32\n",
    "  \n",
    "2. \u0e44\u0e21\u0e48\u0e40\u0e0a\u0e48\u0e19\u0e19\u0e31\u0e49\u0e19\u0e01\u0e47\u0e43\u0e2b\u0e49\u0e04\u0e2d\u0e21\u0e1e\u0e34\u0e27\u0e40\u0e15\u0e2d\u0e23\u0e4c\u0e16\u0e32\u0e21\u0e04\u0e30\u0e41\u0e19\u0e19\u0e08\u0e32\u0e01\u0e1c\u0e39\u0e49\u0e43\u0e0a\u0e49\u0e40\u0e1b\u0e47\u0e19\u0e08\u0e33\u0e19\u0e27\u0e19\u0e08\u0e23\u0e34\u0e07 (\u0e41\u0e1b\u0e25\u0e07\u0e14\u0e49\u0e27\u0e22\u0e04\u0e33\u0e2a\u0e31\u0e48\u0e07 `float`) \u0e41\u0e25\u0e49\u0e27\u0e40\u0e01\u0e47\u0e1a\u0e25\u0e07\u0e43\u0e19\u0e14\u0e34\u0e01\u0e0a\u0e31\u0e19\u0e19\u0e32\u0e23\u0e35\u0e14\u0e31\u0e07\u0e01\u0e25\u0e48\u0e32\u0e27\n",
    "\n",
    "\u0e42\u0e1b\u0e23\u0e41\u0e01\u0e23\u0e21\u0e08\u0e30\u0e16\u0e32\u0e21\u0e2b\u0e32\u0e0a\u0e37\u0e48\u0e2d\u0e19\u0e31\u0e01\u0e40\u0e23\u0e35\u0e22\u0e19\u0e44\u0e1b\u0e40\u0e23\u0e37\u0e48\u0e2d\u0e22\u0e46 \u0e08\u0e19\u0e01\u0e27\u0e48\u0e32\u0e1c\u0e39\u0e49\u0e43\u0e0a\u0e49\u0e08\u0e30\u0e01\u0e23\u0e2d\u0e01\u0e2a\u0e15\u0e23\u0e34\u0e07\u0e27\u0e48\u0e32\u0e07\u0e25\u0e07\u0e43\u0e19\u0e0a\u0e37\u0e48\u0e2d\u0e02\u0e2d\u0e07\u0e19\u0e31\u0e01\u0e40\u0e23\u0e35\u0e22\u0e19 \u0e08\u0e19\u0e08\u0e30\u0e2b\u0e22\u0e38\u0e14\u0e01\u0e32\u0e23\u0e17\u0e33\u0e07\u0e32\u0e19\u0e02\u0e2d\u0e07\u0e42\u0e1b\u0e23\u0e41\u0e01\u0e23\u0e21\n",
    "\n",
    "\u0e2a\u0e38\u0e14\u0e17\u0e49\u0e32\u0e22\u0e42\u0e1b\u0e23\u0e41\u0e01\u0e23\u0e21\u0e08\u0e30\u0e41\u0e2a\u0e14\u0e07\u0e14\u0e34\u0e01\u0e0a\u0e31\u0e19\u0e19\u0e32\u0e23\u0e35 `student_dict` \u0e2d\u0e2d\u0e01\u0e17\u0e32\u0e07\u0e2b\u0e19\u0e49\u0e32\u0e08\u0e2d"
   ]
  },
  {
   "cell_type": "code",
   "execution_count": 54,
   "metadata": {
    "id": "ZJaToLykdEjP"
   },
   "outputs": [
    {
     "name": "stdout",
     "output_type": "stream",
     "text": [
      "Score = 73.0\n",
      "Score = 79.5\n",
      "{'John': 35.5, 'Mary': 73.0, 'Cindy': 83.5, 'Sean': 65.0, 'Barry': 81.0, 'Mark': 79.5, 'Eugene': 87.0, 'Bob': 49.5}\n"
     ]
    }
   ],
   "source": [
    "# \u0e14\u0e34\u0e01\u0e0a\u0e31\u0e19\u0e19\u0e32\u0e23\u0e35\u0e40\u0e01\u0e47\u0e1a\u0e04\u0e30\u0e41\u0e19\u0e19\u0e2a\u0e2d\u0e1a\u0e02\u0e2d\u0e07\u0e19\u0e31\u0e01\u0e40\u0e23\u0e35\u0e22\u0e19\n",
    "student_dict = {\n",
    "    'John': 35.5, 'Mary': 73.0, 'Cindy': 83.5, 'Sean': 65.0,\n",
    "    'Barry': 81.0, 'Mark': 79.5, 'Eugene': 87.0, 'Bob': 49.5\n",
    "}\n",
    "\n",
    "\n",
    "# \u0e27\u0e19\u0e25\u0e39\u0e1b\u0e15\u0e25\u0e2d\u0e14\u0e44\u0e1b\n",
    "while True:\n",
    "    \n",
    "    # \u0e23\u0e31\u0e1a\u0e0a\u0e37\u0e48\u0e2d\u0e19\u0e31\u0e01\u0e40\u0e23\u0e35\u0e22\u0e19\u0e08\u0e32\u0e01\u0e1c\u0e39\u0e49\u0e43\u0e0a\u0e49\n",
    "    name = input('Enter student name: ')\n",
    "    \n",
    "    # \u0e16\u0e49\u0e32\u0e0a\u0e37\u0e48\u0e2d\u0e40\u0e1b\u0e47\u0e19\u0e2a\u0e15\u0e23\u0e34\u0e07\u0e27\u0e48\u0e32\u0e07 \u0e43\u0e2b\u0e49\u0e2b\u0e22\u0e38\u0e14\u0e01\u0e32\u0e23\u0e17\u0e33\u0e07\u0e32\u0e19\u0e14\u0e49\u0e27\u0e22\u0e04\u0e33\u0e2a\u0e31\u0e48\u0e07 break\n",
    "    if name == '':\n",
    "        break       # \u0e41\u0e01\u0e49\u0e44\u0e02\u0e42\u0e04\u0e49\u0e14\u0e17\u0e35\u0e48\u0e19\u0e35\u0e48\n",
    "       \n",
    "    # \u0e16\u0e49\u0e32\u0e2b\u0e32\u0e01\u0e0a\u0e37\u0e48\u0e2d\u0e02\u0e2d\u0e07\u0e19\u0e31\u0e01\u0e40\u0e23\u0e35\u0e22\u0e19\u0e21\u0e35\u0e2d\u0e22\u0e39\u0e48\u0e43\u0e19 student_dict \u0e2d\u0e22\u0e39\u0e48\u0e41\u0e25\u0e49\u0e27\n",
    "    if name in student_dict:\n",
    "        # \u0e43\u0e2b\u0e49\u0e41\u0e2a\u0e14\u0e07\u0e04\u0e30\u0e41\u0e19\u0e19\u0e02\u0e2d\u0e07\u0e19\u0e31\u0e01\u0e40\u0e23\u0e35\u0e22\u0e19\u0e04\u0e19\u0e19\u0e31\u0e49\u0e19\u0e2d\u0e2d\u0e01\u0e17\u0e32\u0e07\u0e2b\u0e19\u0e49\u0e32\u0e08\u0e2d\n",
    "        print('Score =', student_dict[name] )       # \u0e41\u0e01\u0e49\u0e44\u0e02\u0e42\u0e04\u0e49\u0e14\u0e17\u0e35\u0e48\u0e19\u0e35\u0e48\n",
    "        \n",
    "    # \u0e44\u0e21\u0e48\u0e40\u0e0a\u0e48\u0e19\u0e19\u0e31\u0e49\u0e19\n",
    "    else:\n",
    "        # \u0e23\u0e31\u0e1a\u0e04\u0e48\u0e32\u0e04\u0e30\u0e41\u0e19\u0e19\u0e08\u0e32\u0e01\u0e1c\u0e39\u0e49\u0e43\u0e0a\u0e49\n",
    "        score = float(input('Enter score: '))\n",
    "        # \u0e1a\u0e31\u0e19\u0e17\u0e36\u0e01\u0e04\u0e30\u0e41\u0e19\u0e19\u0e02\u0e2d\u0e07\u0e19\u0e31\u0e01\u0e40\u0e23\u0e35\u0e22\u0e19 \u0e42\u0e14\u0e22\u0e43\u0e0a\u0e49 name \u0e40\u0e1b\u0e47\u0e19\u0e04\u0e35\u0e22\u0e4c\u0e43\u0e19\u0e01\u0e32\u0e23\u0e1a\u0e31\u0e19\u0e17\u0e36\u0e01\u0e25\u0e07\u0e43\u0e19\u0e14\u0e34\u0e01\u0e0a\u0e31\u0e19\u0e19\u0e32\u0e23\u0e35\n",
    "        student_dict[name] = score       # \u0e41\u0e01\u0e49\u0e44\u0e02\u0e42\u0e04\u0e49\u0e14\u0e17\u0e35\u0e48\u0e19\u0e35\u0e48\n",
    "        \n",
    "    # print()\n",
    "        \n",
    "print(student_dict)"
   ]
  },
  {
   "cell_type": "markdown",
   "metadata": {
    "id": "WlORbIobVOer"
   },
   "source": [
    "### \u0e01\u0e32\u0e23\u0e25\u0e1a\u0e04\u0e35\u0e22\u0e4c\u0e43\u0e19\u0e14\u0e34\u0e01\u0e0a\u0e31\u0e19\u0e19\u0e32\u0e23\u0e35"
   ]
  },
  {
   "cell_type": "markdown",
   "metadata": {
    "id": "YjGZS1HRjbGx"
   },
   "source": [
    "- \u0e40\u0e23\u0e32\u0e2a\u0e32\u0e21\u0e32\u0e23\u0e16\u0e25\u0e1a\u0e04\u0e35\u0e22\u0e4c\u0e2d\u0e2d\u0e01\u0e08\u0e32\u0e01\u0e14\u0e34\u0e01\u0e0a\u0e31\u0e19\u0e19\u0e32\u0e23\u0e35\u0e14\u0e49\u0e27\u0e22\u0e04\u0e33\u0e2a\u0e31\u0e48\u0e07 `del` \u0e04\u0e23\u0e31\u0e1a"
   ]
  },
  {
   "cell_type": "code",
   "execution_count": 55,
   "metadata": {
    "id": "rKXXEAUeiqMI"
   },
   "outputs": [
    {
     "name": "stdout",
     "output_type": "stream",
     "text": [
      "{'John': 35.5, 'Mary': 73.0, 'Cindy': 83.5, 'Sean': 65.0, 'Mark': 79.5, 'Eugene': 87.0, 'Bob': 49.5}\n"
     ]
    }
   ],
   "source": [
    "student_dict = {\n",
    "    'John': 35.5, 'Mary': 73.0, 'Cindy': 83.5, 'Sean': 65.0,\n",
    "    'Barry': 81.0, 'Mark': 79.5, 'Eugene': 87.0, 'Bob': 49.5\n",
    "}\n",
    "\n",
    "del student_dict['Barry']\n",
    "print(student_dict)"
   ]
  },
  {
   "cell_type": "markdown",
   "metadata": {
    "id": "5JeToxdQQn0g"
   },
   "source": [
    "### \u0e01\u0e32\u0e23\u0e27\u0e19\u0e25\u0e39\u0e1b\u0e01\u0e31\u0e1a\u0e14\u0e34\u0e01\u0e0a\u0e31\u0e19\u0e19\u0e32\u0e23\u0e35"
   ]
  },
  {
   "cell_type": "markdown",
   "metadata": {
    "id": "9VATWD_lQ40N"
   },
   "source": [
    "- \u0e40\u0e23\u0e32\u0e2a\u0e32\u0e21\u0e32\u0e23\u0e16\u0e27\u0e19\u0e25\u0e39\u0e1b\u0e1a\u0e19\u0e14\u0e34\u0e01\u0e0a\u0e31\u0e19\u0e19\u0e32\u0e23\u0e35\u0e44\u0e14\u0e49 2 \u0e27\u0e34\u0e18\u0e35\n",
    "\n",
    "- <u>**\u0e27\u0e34\u0e18\u0e35\u0e17\u0e35\u0e48 1:**</u> \u0e43\u0e0a\u0e49\u0e25\u0e39\u0e1b\u0e1f\u0e2d\u0e23\u0e4c \u0e0b\u0e36\u0e48\u0e07\u0e08\u0e30\u0e27\u0e19\u0e25\u0e39\u0e1b\u0e17\u0e38\u0e01\u0e46 \u0e04\u0e35\u0e22\u0e4c\u0e43\u0e19\u0e14\u0e34\u0e01\u0e0a\u0e31\u0e19\u0e19\u0e32\u0e23\u0e35\u0e19\u0e31\u0e49\u0e19\n",
    "```python\n",
    "    for <\u0e04\u0e35\u0e22\u0e4c> in <\u0e14\u0e34\u0e01\u0e0a\u0e31\u0e19\u0e19\u0e32\u0e23\u0e35> :\n",
    "        <\u0e01\u0e23\u0e30\u0e1a\u0e27\u0e19\u0e01\u0e32\u0e23>\n",
    "```"
   ]
  },
  {
   "cell_type": "code",
   "execution_count": 56,
   "metadata": {
    "id": "8BZeIi8DjhrM"
   },
   "outputs": [
    {
     "name": "stdout",
     "output_type": "stream",
     "text": [
      "John : 35.5\n",
      "Mary : 73.0\n",
      "Cindy : 83.5\n",
      "Sean : 65.0\n",
      "Barry : 81.0\n",
      "Mark : 79.5\n",
      "Eugene : 87.0\n",
      "Bob : 49.5\n"
     ]
    }
   ],
   "source": [
    "student_dict = {\n",
    "    'John': 35.5, 'Mary': 73.0, 'Cindy': 83.5, 'Sean': 65.0,\n",
    "    'Barry': 81.0, 'Mark': 79.5, 'Eugene': 87.0, 'Bob': 49.5\n",
    "}\n",
    "\n",
    "for name in student_dict:\n",
    "    print(name, ':', student_dict[name])"
   ]
  },
  {
   "cell_type": "markdown",
   "metadata": {
    "id": "WTmEiQBPlrE8"
   },
   "source": [
    "- \u0e43\u0e19\u0e27\u0e34\u0e18\u0e35\u0e17\u0e35\u0e48 1 \u0e40\u0e23\u0e32\u0e22\u0e31\u0e07\u0e2a\u0e32\u0e21\u0e32\u0e23\u0e16\u0e40\u0e23\u0e35\u0e22\u0e07\u0e25\u0e33\u0e14\u0e31\u0e1a\u0e04\u0e48\u0e32\u0e04\u0e35\u0e22\u0e4c\u0e02\u0e2d\u0e07\u0e14\u0e34\u0e01\u0e0a\u0e31\u0e19\u0e19\u0e32\u0e23\u0e35\u0e14\u0e49\u0e27\u0e22\u0e04\u0e33\u0e2a\u0e31\u0e48\u0e07 `sorted` \u0e44\u0e14\u0e49\u0e2d\u0e35\u0e01\u0e14\u0e49\u0e27\u0e22\u0e04\u0e23\u0e31\u0e1a"
   ]
  },
  {
   "cell_type": "code",
   "execution_count": 57,
   "metadata": {
    "id": "qcXTI9zOlwE-"
   },
   "outputs": [
    {
     "name": "stdout",
     "output_type": "stream",
     "text": [
      "Barry : 81.0\n",
      "Bob : 49.5\n",
      "Cindy : 83.5\n",
      "Eugene : 87.0\n",
      "John : 35.5\n",
      "Mark : 79.5\n",
      "Mary : 73.0\n",
      "Sean : 65.0\n"
     ]
    }
   ],
   "source": [
    "student_dict = {\n",
    "    'John': 35.5, 'Mary': 73.0, 'Cindy': 83.5, 'Sean': 65.0,\n",
    "    'Barry': 81.0, 'Mark': 79.5, 'Eugene': 87.0, 'Bob': 49.5\n",
    "}\n",
    "\n",
    "for name in sorted(student_dict):\n",
    "    print(name, ':', student_dict[name])"
   ]
  },
  {
   "cell_type": "markdown",
   "metadata": {
    "id": "xzAASeOJTAbp"
   },
   "source": [
    "- <u>**\u0e27\u0e34\u0e18\u0e35\u0e17\u0e35\u0e48 2:**</u> \u0e43\u0e0a\u0e49\u0e25\u0e39\u0e1b\u0e1f\u0e2d\u0e23\u0e4c\u0e04\u0e39\u0e48\u0e01\u0e31\u0e1a\u0e04\u0e33\u0e2a\u0e31\u0e48\u0e07 `\u0e14\u0e34\u0e01\u0e0a\u0e31\u0e19\u0e19\u0e32\u0e23\u0e35.items()` \u0e0b\u0e36\u0e48\u0e07\u0e27\u0e34\u0e18\u0e35\u0e2b\u0e25\u0e31\u0e07\u0e19\u0e35\u0e49\u0e08\u0e30\u0e1b\u0e23\u0e30\u0e2b\u0e22\u0e31\u0e14\u0e40\u0e27\u0e25\u0e32\u0e01\u0e27\u0e48\u0e32 \u0e16\u0e49\u0e32\u0e2b\u0e32\u0e01\u0e40\u0e23\u0e32\u0e2d\u0e22\u0e32\u0e01\u0e43\u0e0a\u0e49\u0e17\u0e31\u0e49\u0e07\u0e04\u0e35\u0e22\u0e4c\u0e41\u0e25\u0e30\u0e04\u0e48\u0e32\u0e43\u0e19\u0e04\u0e35\u0e22\u0e4c\u0e43\u0e19\u0e01\u0e23\u0e30\u0e1a\u0e27\u0e19\u0e01\u0e32\u0e23\u0e19\u0e31\u0e49\u0e19\u0e04\u0e23\u0e31\u0e1a\n",
    "```python\n",
    "    for <\u0e04\u0e35\u0e22\u0e4c>, <\u0e04\u0e48\u0e32\u0e43\u0e19\u0e04\u0e35\u0e22\u0e4c> in <\u0e14\u0e34\u0e01\u0e0a\u0e31\u0e19\u0e19\u0e32\u0e23\u0e35>.items():\n",
    "        <\u0e01\u0e23\u0e30\u0e1a\u0e27\u0e19\u0e01\u0e32\u0e23>\n",
    "```"
   ]
  },
  {
   "cell_type": "code",
   "execution_count": 58,
   "metadata": {
    "id": "z3AI0p1nRnTP"
   },
   "outputs": [
    {
     "name": "stdout",
     "output_type": "stream",
     "text": [
      "John : 35.5\n",
      "Mary : 73.0\n",
      "Cindy : 83.5\n",
      "Sean : 65.0\n",
      "Barry : 81.0\n",
      "Mark : 79.5\n",
      "Eugene : 87.0\n",
      "Bob : 49.5\n"
     ]
    }
   ],
   "source": [
    "student_dict = {\n",
    "    'John': 35.5, 'Mary': 73.0, 'Cindy': 83.5, 'Sean': 65.0,\n",
    "    'Barry': 81.0, 'Mark': 79.5, 'Eugene': 87.0, 'Bob': 49.5\n",
    "}\n",
    "\n",
    "for name, score in student_dict.items():\n",
    "    print(name, ':', score)"
   ]
  },
  {
   "cell_type": "markdown",
   "metadata": {
    "id": "SDkLcPs0jOkF"
   },
   "source": [
    "- <u>**\u0e04\u0e33\u0e40\u0e15\u0e37\u0e2d\u0e19**</u>: \u0e43\u0e19\u0e02\u0e13\u0e30\u0e17\u0e35\u0e48\u0e17\u0e33\u0e25\u0e39\u0e1b\u0e1f\u0e2d\u0e23\u0e4c \u0e2b\u0e49\u0e32\u0e21\u0e40\u0e1e\u0e34\u0e48\u0e21\u0e2b\u0e23\u0e37\u0e2d\u0e25\u0e1a\u0e04\u0e35\u0e22\u0e4c\u0e43\u0e19\u0e14\u0e34\u0e01\u0e0a\u0e31\u0e19\u0e19\u0e32\u0e23\u0e35\u0e42\u0e14\u0e22\u0e40\u0e14\u0e47\u0e14\u0e02\u0e32\u0e14 \u0e40\u0e1e\u0e23\u0e32\u0e30\u0e25\u0e39\u0e1b\u0e1f\u0e2d\u0e23\u0e4c\u0e08\u0e30\u0e1a\u0e31\u0e07\u0e04\u0e31\u0e1a\u0e43\u0e2b\u0e49\u0e14\u0e34\u0e01\u0e0a\u0e31\u0e19\u0e19\u0e32\u0e23\u0e35\u0e15\u0e49\u0e2d\u0e07\u0e21\u0e35\u0e02\u0e19\u0e32\u0e14\u0e04\u0e07\u0e17\u0e35\u0e48\u0e40\u0e2a\u0e21\u0e2d\n",
    "\n",
    "- \u0e40\u0e0a\u0e48\u0e19 \u0e16\u0e49\u0e32\u0e23\u0e31\u0e19\u0e42\u0e1b\u0e23\u0e41\u0e01\u0e23\u0e21\u0e14\u0e49\u0e32\u0e19\u0e25\u0e48\u0e32\u0e07\u0e19\u0e35\u0e49 \u0e40\u0e04\u0e23\u0e37\u0e48\u0e2d\u0e07\u0e08\u0e30\u0e1f\u0e49\u0e2d\u0e07\u0e27\u0e48\u0e32\u0e02\u0e19\u0e32\u0e14\u0e02\u0e2d\u0e07\u0e14\u0e34\u0e01\u0e0a\u0e31\u0e19\u0e19\u0e32\u0e23\u0e35\u0e21\u0e35\u0e01\u0e32\u0e23\u0e40\u0e1b\u0e25\u0e35\u0e48\u0e22\u0e19\u0e41\u0e1b\u0e25\u0e07\u0e43\u0e19\u0e25\u0e39\u0e1b\u0e1f\u0e2d\u0e23\u0e4c\u0e19\u0e31\u0e48\u0e19\u0e40\u0e2d\u0e07"
   ]
  },
  {
   "cell_type": "code",
   "execution_count": 59,
   "metadata": {
    "id": "U5TNjuMKjvZT"
   },
   "outputs": [
    {
     "ename": "RuntimeError",
     "evalue": "dictionary changed size during iteration",
     "output_type": "error",
     "traceback": [
      "\u001b[0;31m---------------------------------------------------------------------------\u001b[0m",
      "\u001b[0;31mRuntimeError\u001b[0m                              Traceback (most recent call last)",
      "\u001b[0;32m/tmp/ipykernel_4316/4054559271.py\u001b[0m in \u001b[0;36m<module>\u001b[0;34m\u001b[0m\n\u001b[1;32m      4\u001b[0m }\n\u001b[1;32m      5\u001b[0m \u001b[0;34m\u001b[0m\u001b[0m\n\u001b[0;32m----> 6\u001b[0;31m \u001b[0;32mfor\u001b[0m \u001b[0mname\u001b[0m \u001b[0;32min\u001b[0m \u001b[0mstudent_dict\u001b[0m\u001b[0;34m:\u001b[0m\u001b[0;34m\u001b[0m\u001b[0;34m\u001b[0m\u001b[0m\n\u001b[0m\u001b[1;32m      7\u001b[0m     \u001b[0;32mdel\u001b[0m \u001b[0mstudent_dict\u001b[0m\u001b[0;34m[\u001b[0m\u001b[0mname\u001b[0m\u001b[0;34m]\u001b[0m\u001b[0;34m\u001b[0m\u001b[0;34m\u001b[0m\u001b[0m\n",
      "\u001b[0;31mRuntimeError\u001b[0m: dictionary changed size during iteration"
     ]
    }
   ],
   "source": [
    "student_dict = {\n",
    "    'John': 35.5, 'Mary': 73.0, 'Cindy': 83.5, 'Sean': 65.0,\n",
    "    'Barry': 81.0, 'Mark': 79.5, 'Eugene': 87.0, 'Bob': 49.5\n",
    "}\n",
    "\n",
    "for name in student_dict:\n",
    "    del student_dict[name]"
   ]
  },
  {
   "cell_type": "markdown",
   "metadata": {
    "id": "yX05GNxuhyLp"
   },
   "source": [
    "### \u0e41\u0e1a\u0e1a\u0e1d\u0e36\u0e01\u0e2b\u0e31\u0e14 12.5"
   ]
  },
  {
   "cell_type": "markdown",
   "metadata": {
    "id": "NA6nuVedh1sv"
   },
   "source": [
    "\u0e08\u0e07\u0e40\u0e02\u0e35\u0e22\u0e19\u0e42\u0e1b\u0e23\u0e41\u0e01\u0e23\u0e21\u0e40\u0e1e\u0e37\u0e48\u0e2d\u0e41\u0e08\u0e49\u0e07\u0e27\u0e48\u0e32 \u0e19\u0e31\u0e01\u0e40\u0e23\u0e35\u0e22\u0e19\u0e04\u0e19\u0e43\u0e14\u0e43\u0e19\u0e14\u0e34\u0e01\u0e0a\u0e31\u0e19\u0e19\u0e32\u0e23\u0e35 `student_dict` \u0e2d\u0e22\u0e39\u0e48\u0e43\u0e19\u0e20\u0e32\u0e27\u0e30\u0e19\u0e48\u0e32\u0e40\u0e1b\u0e47\u0e19\u0e2b\u0e48\u0e27\u0e07 (probation) \u0e42\u0e14\u0e22\u0e08\u0e30\u0e21\u0e35\u0e04\u0e30\u0e41\u0e19\u0e19\u0e19\u0e49\u0e2d\u0e22\u0e01\u0e27\u0e48\u0e32 50 \u0e04\u0e30\u0e41\u0e19\u0e19 \u0e41\u0e25\u0e30\u0e43\u0e2b\u0e49\u0e42\u0e1b\u0e23\u0e41\u0e01\u0e23\u0e21\u0e40\u0e23\u0e35\u0e22\u0e07\u0e25\u0e33\u0e14\u0e31\u0e1a\u0e0a\u0e37\u0e48\u0e2d\u0e15\u0e32\u0e21\u0e15\u0e31\u0e27\u0e2d\u0e31\u0e01\u0e29\u0e23\u0e14\u0e49\u0e27\u0e22"
   ]
  },
  {
   "cell_type": "code",
   "execution_count": 60,
   "metadata": {
    "id": "05Hnu-sYTZFi"
   },
   "outputs": [
    {
     "name": "stdout",
     "output_type": "stream",
     "text": [
      "Bob is on probation.\n",
      "John is on probation.\n"
     ]
    }
   ],
   "source": [
    "# \u0e14\u0e34\u0e01\u0e0a\u0e31\u0e19\u0e19\u0e32\u0e23\u0e35\u0e40\u0e01\u0e47\u0e1a\u0e04\u0e30\u0e41\u0e19\u0e19\u0e2a\u0e2d\u0e1a\u0e02\u0e2d\u0e07\u0e19\u0e31\u0e01\u0e40\u0e23\u0e35\u0e22\u0e19\n",
    "student_dict = {\n",
    "    'John': 35.5, 'Mary': 73.0, 'Cindy': 83.5, 'Sean': 65.0,\n",
    "    'Barry': 81.0, 'Mark': 79.5, 'Eugene': 87.0, 'Bob': 49.5\n",
    "}\n",
    "\n",
    "# \u0e43\u0e0a\u0e49\u0e25\u0e39\u0e1b\u0e1f\u0e2d\u0e23\u0e4c\u0e44\u0e25\u0e48\u0e04\u0e35\u0e22\u0e4c\u0e41\u0e25\u0e30\u0e04\u0e48\u0e32\u0e43\u0e19\u0e04\u0e35\u0e22\u0e4c \u0e42\u0e14\u0e22\u0e40\u0e23\u0e35\u0e22\u0e07\u0e25\u0e33\u0e14\u0e31\u0e1a\u0e0a\u0e37\u0e48\u0e2d\u0e15\u0e32\u0e21\u0e15\u0e31\u0e27\u0e2d\u0e31\u0e01\u0e29\u0e23\n",
    "for name in sorted(student_dict):\n",
    "    # \u0e16\u0e49\u0e32\u0e2b\u0e32\u0e01\u0e04\u0e30\u0e41\u0e19\u0e19\u0e15\u0e48\u0e33\u0e01\u0e27\u0e48\u0e32 50 \u0e04\u0e30\u0e41\u0e19\u0e19 \u0e41\u0e2a\u0e14\u0e07\u0e27\u0e48\u0e32\u0e2d\u0e22\u0e39\u0e48\u0e43\u0e19\u0e20\u0e32\u0e27\u0e30\u0e19\u0e48\u0e32\u0e40\u0e1b\u0e47\u0e19\u0e2b\u0e48\u0e27\u0e07\n",
    "    if student_dict[name] < 50:\n",
    "        print( name , 'is on probation.')"
   ]
  },
  {
   "cell_type": "markdown",
   "metadata": {
    "id": "SGv8NvFxryH6"
   },
   "source": [
    "### \u0e41\u0e1a\u0e1a\u0e1d\u0e36\u0e01\u0e2b\u0e31\u0e14 12.6"
   ]
  },
  {
   "cell_type": "markdown",
   "metadata": {
    "id": "vTsyTJpyr0Z6"
   },
   "source": [
    "\u0e08\u0e07\u0e40\u0e02\u0e35\u0e22\u0e19\u0e42\u0e1b\u0e23\u0e41\u0e01\u0e23\u0e21\u0e43\u0e2b\u0e49\u0e23\u0e31\u0e1a\u0e0a\u0e37\u0e48\u0e2d\u0e02\u0e2d\u0e07\u0e19\u0e31\u0e01\u0e40\u0e23\u0e35\u0e22\u0e19 \u0e2b\u0e32\u0e01\u0e0a\u0e37\u0e48\u0e2d\u0e02\u0e2d\u0e07\u0e19\u0e31\u0e01\u0e40\u0e23\u0e35\u0e22\u0e19\u0e1b\u0e23\u0e32\u0e01\u0e0f\u0e2d\u0e22\u0e39\u0e48\u0e43\u0e19\u0e14\u0e34\u0e01\u0e0a\u0e31\u0e19\u0e19\u0e32\u0e23\u0e35 `student_dict` \u0e43\u0e2b\u0e49\u0e19\u0e31\u0e1a\u0e08\u0e33\u0e19\u0e27\u0e19\u0e21\u0e32\u0e27\u0e48\u0e32 \u0e21\u0e35\u0e19\u0e31\u0e01\u0e40\u0e23\u0e35\u0e22\u0e19\u0e01\u0e35\u0e48\u0e04\u0e19\u0e17\u0e35\u0e48\u0e21\u0e35\u0e04\u0e30\u0e41\u0e19\u0e19\u0e19\u0e49\u0e2d\u0e22\u0e01\u0e27\u0e48\u0e32\u0e19\u0e31\u0e01\u0e40\u0e23\u0e35\u0e22\u0e19\u0e04\u0e19\u0e19\u0e35\u0e49 \u0e41\u0e15\u0e48\u0e16\u0e49\u0e32\u0e2b\u0e32\u0e01\u0e44\u0e21\u0e48\u0e21\u0e35 \u0e43\u0e2b\u0e49\u0e15\u0e2d\u0e1a\u0e27\u0e48\u0e32\u0e21\u0e35 0 \u0e04\u0e19"
   ]
  },
  {
   "cell_type": "code",
   "execution_count": 61,
   "metadata": {
    "id": "d5im5Cgqh-VY"
   },
   "outputs": [
    {
     "name": "stdout",
     "output_type": "stream",
     "text": [
      "Number of students with lower score = 0\n"
     ]
    }
   ],
   "source": [
    "# \u0e14\u0e34\u0e01\u0e0a\u0e31\u0e19\u0e19\u0e32\u0e23\u0e35\u0e40\u0e01\u0e47\u0e1a\u0e04\u0e30\u0e41\u0e19\u0e19\u0e2a\u0e2d\u0e1a\u0e02\u0e2d\u0e07\u0e19\u0e31\u0e01\u0e40\u0e23\u0e35\u0e22\u0e19\n",
    "student_dict = {\n",
    "    'John': 35.5, 'Mary': 73.0, 'Cindy': 83.5, 'Sean': 65.0,\n",
    "    'Barry': 81.0, 'Mark': 79.5, 'Eugene': 87.0, 'Bob': 49.5\n",
    "}\n",
    "\n",
    "# \u0e0a\u0e37\u0e48\u0e2d\u0e19\u0e31\u0e01\u0e40\u0e23\u0e35\u0e22\u0e19\n",
    "name = input('Enter student name: ')\n",
    "\n",
    "# \u0e15\u0e31\u0e27\u0e19\u0e31\u0e1a\u0e08\u0e33\u0e19\u0e27\u0e19\u0e19\u0e31\u0e01\u0e40\u0e23\u0e35\u0e22\u0e19\u0e17\u0e35\u0e48\u0e21\u0e35\u0e04\u0e30\u0e41\u0e19\u0e19\u0e19\u0e49\u0e2d\u0e22\u0e01\u0e27\u0e48\u0e32\n",
    "count = 0\n",
    "\n",
    "# \u0e2b\u0e32\u0e01\u0e21\u0e35\u0e0a\u0e37\u0e48\u0e2d\u0e19\u0e31\u0e01\u0e40\u0e23\u0e35\u0e22\u0e19\u0e04\u0e19\u0e19\u0e35\u0e49\u0e43\u0e19\u0e14\u0e34\u0e01\u0e0a\u0e31\u0e19\u0e19\u0e32\u0e23\u0e35 student_dict\n",
    "if name in student_dict:\n",
    "    # \u0e43\u0e2b\u0e49\u0e27\u0e19\u0e25\u0e39\u0e1b\u0e1f\u0e2d\u0e23\u0e4c\u0e19\u0e31\u0e01\u0e40\u0e23\u0e35\u0e22\u0e19\u0e17\u0e35\u0e48\u0e21\u0e35\u0e43\u0e19 student_dict\n",
    "    for index in student_dict:              # \u0e41\u0e01\u0e49\u0e44\u0e02\u0e42\u0e04\u0e49\u0e14\u0e17\u0e35\u0e48\u0e19\u0e35\u0e48\n",
    "        # \u0e16\u0e49\u0e32\u0e2b\u0e32\u0e01\u0e04\u0e30\u0e41\u0e19\u0e19\u0e15\u0e48\u0e33\u0e01\u0e27\u0e48\u0e32\u0e04\u0e30\u0e41\u0e19\u0e19\u0e02\u0e2d\u0e07\u0e19\u0e31\u0e01\u0e40\u0e23\u0e35\u0e22\u0e19\u0e17\u0e35\u0e48\u0e1c\u0e39\u0e49\u0e43\u0e0a\u0e49\u0e23\u0e30\u0e1a\u0e38\n",
    "        if student_dict[index] < student_dict[name]:           # \u0e41\u0e01\u0e49\u0e44\u0e02\u0e42\u0e04\u0e49\u0e14\u0e17\u0e35\u0e48\u0e19\u0e35\u0e48\n",
    "            count = count + 1\n",
    "            \n",
    "print('Number of students with lower score =', count)"
   ]
  },
  {
   "cell_type": "markdown",
   "metadata": {
    "id": "neBM4xCStrbL"
   },
   "source": [
    "-----"
   ]
  },
  {
   "cell_type": "markdown",
   "metadata": {
    "id": "PtaIybjmtuE8"
   },
   "source": [
    "## \u0e01\u0e34\u0e08\u0e01\u0e23\u0e23\u0e21 13: \u0e01\u0e32\u0e23\u0e08\u0e31\u0e14\u0e1f\u0e2d\u0e23\u0e4c\u0e41\u0e21\u0e15\u0e02\u0e2d\u0e07\u0e2a\u0e15\u0e23\u0e34\u0e07"
   ]
  },
  {
   "cell_type": "markdown",
   "metadata": {
    "id": "sxJiBP4Y3iKO"
   },
   "source": [
    "- \u0e17\u0e35\u0e48\u0e08\u0e23\u0e34\u0e07\u0e41\u0e25\u0e49\u0e27\u0e40\u0e23\u0e32\u0e2a\u0e32\u0e21\u0e32\u0e23\u0e16\u0e08\u0e31\u0e14\u0e23\u0e39\u0e1b\u0e41\u0e1a\u0e1a\u0e02\u0e2d\u0e07\u0e2a\u0e15\u0e23\u0e34\u0e07\u0e01\u0e48\u0e2d\u0e19\u0e17\u0e35\u0e48\u0e08\u0e30\u0e41\u0e2a\u0e14\u0e07\u0e1c\u0e25\u0e44\u0e14\u0e49\u0e04\u0e23\u0e31\u0e1a\n",
    "\n",
    "- \u0e27\u0e34\u0e18\u0e35\u0e01\u0e32\u0e23\u0e04\u0e37\u0e2d \u0e40\u0e23\u0e32\u0e08\u0e30\u0e43\u0e0a\u0e49\u0e2a\u0e31\u0e0d\u0e25\u0e31\u0e01\u0e29\u0e13\u0e4c `f` \u0e19\u0e33\u0e2b\u0e19\u0e49\u0e32\u0e2a\u0e15\u0e23\u0e34\u0e07\u0e17\u0e35\u0e48\u0e40\u0e23\u0e32\u0e15\u0e49\u0e2d\u0e07\u0e01\u0e32\u0e23\u0e08\u0e30\u0e43\u0e2b\u0e49\u0e08\u0e31\u0e14\u0e23\u0e39\u0e1b\u0e41\u0e1a\u0e1a \u0e0b\u0e36\u0e48\u0e07\u0e2a\u0e31\u0e0d\u0e25\u0e31\u0e01\u0e29\u0e13\u0e4c `f` \u0e22\u0e48\u0e2d\u0e21\u0e32\u0e08\u0e32\u0e01\u0e04\u0e33\u0e27\u0e48\u0e32 format (\u0e23\u0e39\u0e1b\u0e41\u0e1a\u0e1a) \u0e19\u0e31\u0e48\u0e19\u0e40\u0e2d\u0e07\n",
    "\n",
    "- \u0e02\u0e49\u0e2d\u0e14\u0e35\u0e02\u0e2d\u0e07\u0e01\u0e32\u0e23\u0e43\u0e0a\u0e49\u0e2a\u0e31\u0e0d\u0e25\u0e31\u0e01\u0e29\u0e13\u0e4c `f` \u0e19\u0e33\u0e2b\u0e19\u0e49\u0e32\u0e2a\u0e15\u0e23\u0e34\u0e07\u0e01\u0e47\u0e04\u0e37\u0e2d \u0e40\u0e23\u0e32\u0e2a\u0e32\u0e21\u0e32\u0e23\u0e16\u0e41\u0e17\u0e23\u0e01\u0e04\u0e48\u0e32\u0e15\u0e31\u0e27\u0e41\u0e1b\u0e23\u0e25\u0e07\u0e44\u0e1b\u0e15\u0e33\u0e41\u0e2b\u0e19\u0e48\u0e07\u0e43\u0e14\u0e02\u0e2d\u0e07\u0e2a\u0e15\u0e23\u0e34\u0e07\u0e01\u0e47\u0e44\u0e14\u0e49 \u0e40\u0e1e\u0e35\u0e22\u0e07\u0e41\u0e04\u0e48\u0e04\u0e23\u0e2d\u0e1a\u0e15\u0e31\u0e27\u0e41\u0e1b\u0e23\u0e14\u0e49\u0e27\u0e22\u0e1b\u0e35\u0e01\u0e01\u0e32 `{ }` \u0e40\u0e17\u0e48\u0e32\u0e19\u0e31\u0e49\u0e19 \u0e19\u0e31\u0e1a\u0e27\u0e48\u0e32\u0e2a\u0e30\u0e14\u0e27\u0e01\u0e21\u0e32\u0e01\u0e04\u0e23\u0e31\u0e1a"
   ]
  },
  {
   "cell_type": "code",
   "execution_count": 62,
   "metadata": {
    "id": "1kkkFJdMsjr4"
   },
   "outputs": [
    {
     "name": "stdout",
     "output_type": "stream",
     "text": [
      "My name is Prachya and I am 37 years old. I am still a high-school student and my phone number is 533-7855.\n"
     ]
    }
   ],
   "source": [
    "name = 'Prachya'\n",
    "telno = '533-7855'\n",
    "age = 37\n",
    "degree = 'high-school'\n",
    "\n",
    "print(f'My name is {name} and I am {age} years old. I am still a {degree} student and my phone number is {telno}.')"
   ]
  },
  {
   "cell_type": "markdown",
   "metadata": {
    "id": "XoYOrqACAEDY"
   },
   "source": [
    "- \u0e19\u0e2d\u0e01\u0e08\u0e32\u0e01\u0e19\u0e35\u0e49\u0e40\u0e23\u0e32\u0e22\u0e31\u0e07\u0e2a\u0e32\u0e21\u0e32\u0e23\u0e16\u0e01\u0e33\u0e2b\u0e19\u0e14\u0e27\u0e34\u0e18\u0e35\u0e01\u0e32\u0e23\u0e41\u0e2a\u0e14\u0e07\u0e1c\u0e25\u0e15\u0e31\u0e27\u0e41\u0e1b\u0e23\u0e43\u0e19\u0e40\u0e04\u0e23\u0e37\u0e48\u0e2d\u0e07\u0e2b\u0e21\u0e32\u0e22\u0e1b\u0e35\u0e01\u0e01\u0e32\u0e41\u0e15\u0e48\u0e25\u0e30\u0e15\u0e33\u0e41\u0e2b\u0e19\u0e48\u0e07\u0e44\u0e14\u0e49\u0e2d\u0e35\u0e01\u0e14\u0e49\u0e27\u0e22"
   ]
  },
  {
   "cell_type": "markdown",
   "metadata": {
    "id": "cbmMj9yHAFd-"
   },
   "source": [
    "### \u0e01\u0e32\u0e23\u0e01\u0e33\u0e2b\u0e19\u0e14\u0e04\u0e27\u0e32\u0e21\u0e01\u0e27\u0e49\u0e32\u0e07\u0e02\u0e2d\u0e07\u0e2a\u0e15\u0e23\u0e34\u0e07"
   ]
  },
  {
   "cell_type": "markdown",
   "metadata": {
    "id": "Kj7aung258-l"
   },
   "source": [
    "- \u0e43\u0e19\u0e01\u0e23\u0e13\u0e35\u0e02\u0e2d\u0e07\u0e2a\u0e15\u0e23\u0e34\u0e07 \u0e40\u0e23\u0e32\u0e2a\u0e32\u0e21\u0e32\u0e23\u0e16\u0e23\u0e30\u0e1a\u0e38\u0e04\u0e27\u0e32\u0e21\u0e01\u0e27\u0e49\u0e32\u0e07\u0e2a\u0e39\u0e07\u0e2a\u0e38\u0e14\u0e02\u0e2d\u0e07\u0e2a\u0e15\u0e23\u0e34\u0e07\u0e44\u0e14\u0e49\u0e14\u0e49\u0e27\u0e22\u0e04\u0e33\u0e2a\u0e31\u0e48\u0e07 `{\u0e15\u0e31\u0e27\u0e41\u0e1b\u0e23\u0e2a\u0e15\u0e23\u0e34\u0e07:\u0e04\u0e27\u0e32\u0e21\u0e01\u0e27\u0e49\u0e32\u0e07}` \u0e42\u0e14\u0e22\u0e2a\u0e15\u0e23\u0e34\u0e07\u0e08\u0e30\u0e16\u0e39\u0e01\u0e41\u0e2a\u0e14\u0e07\u0e1c\u0e25\u0e41\u0e1a\u0e1a\u0e0a\u0e34\u0e14\u0e0b\u0e49\u0e32\u0e22\n",
    "\n",
    "- \u0e01\u0e32\u0e23\u0e01\u0e33\u0e2b\u0e19\u0e14\u0e04\u0e27\u0e32\u0e21\u0e01\u0e27\u0e49\u0e32\u0e07\u0e02\u0e2d\u0e07\u0e2a\u0e15\u0e23\u0e34\u0e07\u0e44\u0e14\u0e49 \u0e17\u0e33\u0e43\u0e2b\u0e49\u0e40\u0e23\u0e32\u0e2a\u0e32\u0e21\u0e32\u0e23\u0e16\u0e1e\u0e34\u0e21\u0e1e\u0e4c\u0e15\u0e32\u0e23\u0e32\u0e07\u0e2d\u0e2d\u0e01\u0e21\u0e32\u0e44\u0e14\u0e49\u0e2a\u0e30\u0e14\u0e27\u0e01\u0e21\u0e32\u0e01\u0e04\u0e23\u0e31\u0e1a \u0e42\u0e14\u0e22\u0e08\u0e30\u0e08\u0e31\u0e14\u0e0a\u0e34\u0e14\u0e0b\u0e49\u0e32\u0e22\u0e40\u0e2a\u0e21\u0e2d\u0e04\u0e23\u0e31\u0e1a"
   ]
  },
  {
   "cell_type": "code",
   "execution_count": 63,
   "metadata": {
    "id": "AOw64INU7MXp"
   },
   "outputs": [
    {
     "name": "stdout",
     "output_type": "stream",
     "text": [
      "------------------------------------------------------------\n",
      "| Prachya              | 533-7855        | high-school     |\n",
      "| Methas               | 536-2313        | university      |\n",
      "| Pahol                | 524-0935        | university      |\n",
      "------------------------------------------------------------\n"
     ]
    }
   ],
   "source": [
    "user_database = [\n",
    "    ('Prachya', '533-7855', 37, 'high-school'),\n",
    "    ('Methas', '536-2313', 36, 'university'),\n",
    "    ('Pahol', '524-0935', 38, 'university')\n",
    "]\n",
    "\n",
    "print(60 * '-')\n",
    "for name, telno, age, degree in user_database:\n",
    "    print(f'| {name:20} | {telno:15} | {degree:15} |')\n",
    "print(60 * '-')"
   ]
  },
  {
   "cell_type": "markdown",
   "metadata": {
    "id": "kzENY0X8ALGG"
   },
   "source": [
    "### \u0e01\u0e32\u0e23\u0e08\u0e31\u0e14\u0e2a\u0e15\u0e23\u0e34\u0e07\u0e44\u0e1b\u0e17\u0e32\u0e07\u0e0b\u0e49\u0e32\u0e22 \u0e01\u0e25\u0e32\u0e07 \u0e2b\u0e23\u0e37\u0e2d\u0e02\u0e27\u0e32"
   ]
  },
  {
   "cell_type": "markdown",
   "metadata": {
    "id": "ly16vc6Q9vyZ"
   },
   "source": [
    "- \u0e40\u0e23\u0e32\u0e2a\u0e32\u0e21\u0e32\u0e23\u0e16\u0e01\u0e33\u0e2b\u0e19\u0e14\u0e43\u0e2b\u0e49\u0e08\u0e31\u0e14\u0e2a\u0e15\u0e23\u0e34\u0e07\u0e44\u0e1b\u0e17\u0e32\u0e07\u0e0b\u0e49\u0e32\u0e22 \u0e01\u0e25\u0e32\u0e07 \u0e2b\u0e23\u0e37\u0e2d\u0e02\u0e27\u0e32\u0e44\u0e14\u0e49 \u0e14\u0e49\u0e27\u0e22\u0e2d\u0e2d\u0e1e\u0e0a\u0e31\u0e48\u0e19 `<`, `^`, \u0e41\u0e25\u0e30 `>` \u0e17\u0e35\u0e48\u0e14\u0e49\u0e32\u0e19\u0e2b\u0e19\u0e49\u0e32\u0e04\u0e27\u0e32\u0e21\u0e01\u0e27\u0e49\u0e32\u0e07\u0e02\u0e2d\u0e07\u0e2a\u0e15\u0e23\u0e34\u0e07\u0e04\u0e23\u0e31\u0e1a"
   ]
  },
  {
   "cell_type": "code",
   "execution_count": 64,
   "metadata": {
    "id": "qIeM-prt7Ttq"
   },
   "outputs": [
    {
     "name": "stdout",
     "output_type": "stream",
     "text": [
      "------------------------------------------------------------\n",
      "| Prachya         |    533-7855     |     high-school |\n",
      "| Methas          |    536-2313     |      university |\n",
      "| Pahol           |    524-0935     |      university |\n",
      "------------------------------------------------------------\n"
     ]
    }
   ],
   "source": [
    "print(60 * '-')\n",
    "for name, telno, age, degree in user_database:\n",
    "    print(f'| {name:<15} | {telno:^15} | {degree:>15} |')\n",
    "print(60 * '-')"
   ]
  },
  {
   "cell_type": "markdown",
   "metadata": {
    "id": "qPyTVt_nOcxw"
   },
   "source": [
    "### \u0e41\u0e1a\u0e1a\u0e1d\u0e36\u0e01\u0e2b\u0e31\u0e14 13.1"
   ]
  },
  {
   "cell_type": "markdown",
   "metadata": {
    "id": "WcEQHJiyOfL2"
   },
   "source": [
    "\u0e08\u0e07\u0e41\u0e2a\u0e14\u0e07\u0e15\u0e32\u0e23\u0e32\u0e07\u0e01\u0e32\u0e23\u0e08\u0e31\u0e14\u0e04\u0e39\u0e48\u0e40\u0e1b\u0e23\u0e35\u0e22\u0e1a\u0e40\u0e17\u0e35\u0e22\u0e1a\u0e04\u0e30\u0e41\u0e19\u0e19\u0e02\u0e2d\u0e07\u0e19\u0e31\u0e01\u0e40\u0e23\u0e35\u0e22\u0e19\u0e41\u0e15\u0e48\u0e25\u0e30\u0e04\u0e19 \u0e42\u0e14\u0e22\u0e01\u0e33\u0e2b\u0e19\u0e14\u0e1f\u0e2d\u0e23\u0e4c\u0e41\u0e21\u0e15\u0e44\u0e27\u0e49\u0e14\u0e31\u0e07\u0e19\u0e35\u0e49\n",
    "\n",
    "1. \u0e19\u0e31\u0e01\u0e40\u0e23\u0e35\u0e22\u0e19\u0e04\u0e19\u0e17\u0e35\u0e48 1 \u0e08\u0e30\u0e21\u0e35\u0e04\u0e27\u0e32\u0e21\u0e01\u0e27\u0e49\u0e32\u0e07 10 \u0e15\u0e31\u0e27\u0e2d\u0e31\u0e01\u0e29\u0e23 \u0e0a\u0e34\u0e14\u0e02\u0e27\u0e32\n",
    "2. \u0e19\u0e31\u0e01\u0e40\u0e23\u0e35\u0e22\u0e19\u0e04\u0e19\u0e17\u0e35\u0e48 2 \u0e08\u0e30\u0e21\u0e35\u0e04\u0e27\u0e32\u0e21\u0e01\u0e27\u0e49\u0e32\u0e07 10 \u0e15\u0e31\u0e27\u0e2d\u0e31\u0e01\u0e29\u0e23\u0e40\u0e2b\u0e21\u0e37\u0e2d\u0e19\u0e01\u0e31\u0e19 \u0e41\u0e15\u0e48\u0e0a\u0e34\u0e14\u0e0b\u0e49\u0e32\u0e22\n",
    "3. \u0e19\u0e31\u0e01\u0e40\u0e23\u0e35\u0e22\u0e19\u0e17\u0e35\u0e48\u0e40\u0e1b\u0e47\u0e19\u0e1c\u0e39\u0e49\u0e0a\u0e19\u0e30 \u0e08\u0e30\u0e21\u0e35\u0e04\u0e27\u0e32\u0e21\u0e01\u0e27\u0e49\u0e32\u0e07 10 \u0e15\u0e31\u0e27\u0e2d\u0e31\u0e01\u0e29\u0e23\u0e40\u0e2b\u0e21\u0e37\u0e2d\u0e19\u0e01\u0e31\u0e19 \u0e41\u0e15\u0e48\u0e27\u0e48\u0e32\u0e08\u0e31\u0e14\u0e01\u0e25\u0e32\u0e07\n",
    "4. \u0e43\u0e19\u0e01\u0e23\u0e13\u0e35\u0e17\u0e35\u0e48\u0e04\u0e30\u0e41\u0e19\u0e19\u0e40\u0e2a\u0e21\u0e2d\u0e01\u0e31\u0e19 \u0e43\u0e2b\u0e49\u0e1e\u0e34\u0e21\u0e1e\u0e4c\u0e27\u0e48\u0e32 `--DUE--` \u0e41\u0e1a\u0e1a\u0e08\u0e31\u0e14\u0e01\u0e25\u0e32\u0e07 \u0e25\u0e07\u0e43\u0e19\u0e0a\u0e48\u0e2d\u0e07\u0e02\u0e2d\u0e07\u0e0a\u0e37\u0e48\u0e2d\u0e1c\u0e39\u0e49\u0e0a\u0e19\u0e30\u0e41\u0e17\u0e19"
   ]
  },
  {
   "cell_type": "code",
   "execution_count": 65,
   "metadata": {
    "id": "Sr4hyA3hO4C_"
   },
   "outputs": [
    {
     "name": "stdout",
     "output_type": "stream",
     "text": [
      "------------------------------------------\n",
      "|       Score Battles       |  Winners   |\n",
      "------------------------------------------\n",
      "|       John vs. Mary       |    Mary    |\n",
      "|       John vs. Cindy      |   Cindy    |\n",
      "|       John vs. Barry      |   Barry    |\n",
      "|       John vs. Mark       |    Mark    |\n",
      "|       John vs. Eugene     |   Eugene   |\n",
      "|       John vs. Rupert     |   Rupert   |\n",
      "------------------------------------------\n",
      "|       Mary vs. John       |    Mary    |\n",
      "|       Mary vs. Cindy      |   Cindy    |\n",
      "|       Mary vs. Barry      |   Barry    |\n",
      "|       Mary vs. Mark       |    Mark    |\n",
      "|       Mary vs. Eugene     |   Eugene   |\n",
      "|       Mary vs. Rupert     |   Rupert   |\n",
      "------------------------------------------\n",
      "|      Cindy vs. John       |   Cindy    |\n",
      "|      Cindy vs. Mary       |   Cindy    |\n",
      "|      Cindy vs. Barry      |   Cindy    |\n",
      "|      Cindy vs. Mark       |   Cindy    |\n",
      "|      Cindy vs. Eugene     |   Eugene   |\n",
      "|      Cindy vs. Rupert     |   Cindy    |\n",
      "------------------------------------------\n",
      "|      Barry vs. John       |   Barry    |\n",
      "|      Barry vs. Mary       |   Barry    |\n",
      "|      Barry vs. Cindy      |   Cindy    |\n",
      "|      Barry vs. Mark       |   Barry    |\n",
      "|      Barry vs. Eugene     |   Eugene   |\n",
      "|      Barry vs. Rupert     |  --DUE--   |\n",
      "------------------------------------------\n",
      "|       Mark vs. John       |    Mark    |\n",
      "|       Mark vs. Mary       |    Mark    |\n",
      "|       Mark vs. Cindy      |   Cindy    |\n",
      "|       Mark vs. Barry      |   Barry    |\n",
      "|       Mark vs. Eugene     |   Eugene   |\n",
      "|       Mark vs. Rupert     |   Rupert   |\n",
      "------------------------------------------\n",
      "|     Eugene vs. John       |   Eugene   |\n",
      "|     Eugene vs. Mary       |   Eugene   |\n",
      "|     Eugene vs. Cindy      |   Eugene   |\n",
      "|     Eugene vs. Barry      |   Eugene   |\n",
      "|     Eugene vs. Mark       |   Eugene   |\n",
      "|     Eugene vs. Rupert     |   Eugene   |\n",
      "------------------------------------------\n",
      "|     Rupert vs. John       |   Rupert   |\n",
      "|     Rupert vs. Mary       |   Rupert   |\n",
      "|     Rupert vs. Cindy      |   Cindy    |\n",
      "|     Rupert vs. Barry      |  --DUE--   |\n",
      "|     Rupert vs. Mark       |   Rupert   |\n",
      "|     Rupert vs. Eugene     |   Eugene   |\n",
      "------------------------------------------\n"
     ]
    }
   ],
   "source": [
    "student_scores = [\n",
    "    ('John', 35.5), ('Mary', 73.0), ('Cindy', 83.5),\n",
    "    ('Barry', 81.0), ('Mark', 79.5), ('Eugene', 87.0), ('Rupert', 81.0)\n",
    "]\n",
    "\n",
    "# \u0e1e\u0e34\u0e21\u0e1e\u0e4c\u0e2b\u0e31\u0e27\u0e15\u0e32\u0e23\u0e32\u0e07\n",
    "print(42 * '-')\n",
    "print(f'| {\"Score Battles\":^25} | {\"Winners\":^10} |')\n",
    "print(42 * '-')\n",
    "\n",
    "for student1, score1 in student_scores:\n",
    "    for student2, score2 in student_scores:\n",
    "        if student1 != student2:\n",
    "            \n",
    "            # \u0e1e\u0e34\u0e21\u0e1e\u0e4c\u0e0a\u0e37\u0e48\u0e2d\u0e02\u0e2d\u0e07\u0e19\u0e31\u0e01\u0e40\u0e23\u0e35\u0e22\u0e19\u0e04\u0e19\u0e17\u0e35\u0e48 1 (student1) \u0e41\u0e25\u0e30\u0e19\u0e31\u0e01\u0e40\u0e23\u0e35\u0e22\u0e19\u0e04\u0e19\u0e17\u0e35\u0e48 2 (student2)\n",
    "            print(f'| {student1:>10} vs. {student2:<10} ', end='')\n",
    "            \n",
    "            # \u0e2b\u0e32\u0e1c\u0e39\u0e49\u0e0a\u0e19\u0e30\u0e04\u0e30\u0e41\u0e19\u0e19 \u0e41\u0e25\u0e49\u0e27\u0e1e\u0e34\u0e21\u0e1e\u0e4c\u0e0a\u0e37\u0e48\u0e2d\u0e1c\u0e39\u0e49\u0e0a\u0e19\u0e30\u0e2d\u0e2d\u0e01\u0e21\u0e32\n",
    "            if score1 > score2:\n",
    "                print(f'| {student1:^10} |')\n",
    "            elif score1 < score2:\n",
    "                print(f'| {student2:^10} |')\n",
    "            # \u0e01\u0e23\u0e13\u0e35\u0e17\u0e35\u0e48\u0e04\u0e30\u0e41\u0e19\u0e19\u0e40\u0e2a\u0e21\u0e2d\u0e01\u0e31\u0e19\n",
    "            else:\n",
    "                print(f'| {\"--DUE--\":^10} |')\n",
    "                \n",
    "    print(42 * '-')"
   ]
  },
  {
   "cell_type": "markdown",
   "metadata": {
    "id": "-yibAnoWDKsT"
   },
   "source": [
    "### \u0e01\u0e32\u0e23\u0e40\u0e02\u0e49\u0e32\u0e16\u0e36\u0e07\u0e14\u0e34\u0e01\u0e0a\u0e31\u0e19\u0e19\u0e32\u0e23\u0e35\u0e41\u0e25\u0e30\u0e25\u0e34\u0e2a\u0e15\u0e4c"
   ]
  },
  {
   "cell_type": "markdown",
   "metadata": {
    "id": "SvDZ2O81_Rt7"
   },
   "source": [
    "- \u0e2b\u0e32\u0e01\u0e01\u0e23\u0e13\u0e35\u0e17\u0e35\u0e48\u0e04\u0e48\u0e32\u0e17\u0e35\u0e48\u0e40\u0e23\u0e32\u0e08\u0e30\u0e41\u0e2a\u0e14\u0e07\u0e40\u0e1b\u0e47\u0e19\u0e04\u0e48\u0e32\u0e17\u0e35\u0e48\u0e15\u0e49\u0e2d\u0e07\u0e40\u0e02\u0e49\u0e32\u0e16\u0e36\u0e07\u0e14\u0e49\u0e27\u0e22\u0e04\u0e35\u0e22\u0e4c\u0e2b\u0e23\u0e37\u0e2d index \u0e40\u0e23\u0e32\u0e01\u0e47\u0e2a\u0e32\u0e21\u0e32\u0e23\u0e16\u0e43\u0e0a\u0e49\u0e40\u0e04\u0e23\u0e37\u0e48\u0e2d\u0e07\u0e2b\u0e21\u0e32\u0e22 indexing `[ ]` \u0e44\u0e14\u0e49\u0e15\u0e32\u0e21\u0e1b\u0e01\u0e15\u0e34\u0e40\u0e25\u0e22\u0e04\u0e23\u0e31\u0e1a\n",
    "\n",
    "- \u0e2d\u0e22\u0e48\u0e32\u0e07\u0e44\u0e23\u0e01\u0e47\u0e15\u0e32\u0e21\u0e42\u0e1b\u0e23\u0e14\u0e2a\u0e31\u0e07\u0e40\u0e01\u0e15\u0e27\u0e48\u0e32 \u0e2b\u0e32\u0e01\u0e04\u0e35\u0e22\u0e4c\u0e17\u0e35\u0e48\u0e43\u0e0a\u0e49\u0e08\u0e33\u0e40\u0e1b\u0e47\u0e19\u0e15\u0e49\u0e2d\u0e07\u0e21\u0e35\u0e40\u0e04\u0e23\u0e37\u0e48\u0e2d\u0e07\u0e2b\u0e21\u0e32\u0e22\u0e04\u0e33\u0e1e\u0e39\u0e14\u0e40\u0e14\u0e35\u0e48\u0e22\u0e27 (single quote) \u0e43\u0e2b\u0e49\u0e40\u0e23\u0e32\u0e40\u0e1b\u0e25\u0e35\u0e48\u0e22\u0e19\u0e40\u0e04\u0e23\u0e37\u0e48\u0e2d\u0e07\u0e2b\u0e21\u0e32\u0e22\u0e19\u0e31\u0e49\u0e19\u0e40\u0e1b\u0e47\u0e19\u0e40\u0e04\u0e23\u0e37\u0e48\u0e2d\u0e07\u0e2b\u0e21\u0e32\u0e22\u0e04\u0e33\u0e1e\u0e39\u0e14\u0e04\u0e39\u0e48 (double quote) `\" \"` \u0e41\u0e17\u0e19\u0e19\u0e30\u0e04\u0e23\u0e31\u0e1a \u0e44\u0e21\u0e48\u0e07\u0e31\u0e49\u0e19\u0e40\u0e14\u0e35\u0e4b\u0e22\u0e27\u0e08\u0e30\u0e0b\u0e49\u0e33\u0e01\u0e31\u0e1a\u0e40\u0e04\u0e23\u0e37\u0e48\u0e2d\u0e07\u0e2b\u0e21\u0e32\u0e22\u0e04\u0e33\u0e1e\u0e39\u0e14\u0e40\u0e14\u0e35\u0e48\u0e22\u0e27\u0e17\u0e35\u0e48\u0e04\u0e23\u0e2d\u0e1a\u0e2d\u0e22\u0e39\u0e48\u0e14\u0e49\u0e32\u0e19\u0e19\u0e2d\u0e01 \u0e04\u0e2d\u0e21\u0e1e\u0e34\u0e27\u0e40\u0e15\u0e2d\u0e23\u0e4c\u0e08\u0e30\u0e07\u0e07\u0e40\u0e2d\u0e32\u0e44\u0e14\u0e49\u0e04\u0e23\u0e31\u0e1a"
   ]
  },
  {
   "cell_type": "code",
   "execution_count": 66,
   "metadata": {
    "id": "AyqJzMyn9_ur"
   },
   "outputs": [
    {
     "name": "stdout",
     "output_type": "stream",
     "text": [
      "------------------------------------------------------------\n",
      "| Prachya              |    533-7855     |     high-school |\n",
      "| Methas               |    536-2313     |      university |\n",
      "| Pahol                |    524-0935     |      university |\n",
      "------------------------------------------------------------\n"
     ]
    }
   ],
   "source": [
    "user_database = [\n",
    "    {'name': 'Prachya', 'telno': '533-7855', 'age': 37, 'degree': 'high-school'},\n",
    "    {'name': 'Methas', 'telno': '536-2313', 'age': 36, 'degree': 'university'},\n",
    "    {'name': 'Pahol', 'telno': '524-0935', 'age': 38, 'degree': 'university'}\n",
    "]\n",
    "\n",
    "print(60 * '-')\n",
    "for user in user_database:\n",
    "    print(f'| {user[\"name\"]:<20} | {user[\"telno\"]:^15} | {user[\"degree\"]:>15} |')\n",
    "print(60 * '-')"
   ]
  },
  {
   "cell_type": "markdown",
   "metadata": {
    "id": "-3oAJwhjJ5ME"
   },
   "source": [
    "### \u0e01\u0e32\u0e23\u0e08\u0e31\u0e14\u0e1f\u0e2d\u0e23\u0e4c\u0e41\u0e21\u0e15\u0e43\u0e2b\u0e49\u0e15\u0e31\u0e27\u0e40\u0e25\u0e02"
   ]
  },
  {
   "cell_type": "markdown",
   "metadata": {
    "id": "o596pD4JKAds"
   },
   "source": [
    "- \u0e43\u0e19\u0e01\u0e32\u0e23\u0e08\u0e31\u0e14\u0e1f\u0e2d\u0e23\u0e4c\u0e41\u0e21\u0e15\u0e43\u0e2b\u0e49\u0e15\u0e31\u0e27\u0e40\u0e25\u0e02 \u0e40\u0e23\u0e32\u0e2a\u0e32\u0e21\u0e32\u0e23\u0e16\u0e23\u0e30\u0e1a\u0e38\u0e0a\u0e19\u0e34\u0e14\u0e02\u0e2d\u0e07\u0e15\u0e31\u0e27\u0e40\u0e25\u0e02\u0e44\u0e14\u0e49\u0e17\u0e35\u0e48\u0e2b\u0e25\u0e31\u0e07\u0e04\u0e27\u0e32\u0e21\u0e01\u0e27\u0e49\u0e32\u0e07\u0e02\u0e2d\u0e07\u0e2a\u0e15\u0e23\u0e34\u0e07\n",
    "  - \u0e15\u0e31\u0e27\u0e40\u0e25\u0e02\u0e08\u0e33\u0e19\u0e27\u0e19\u0e40\u0e15\u0e47\u0e21\u0e08\u0e30\u0e43\u0e0a\u0e49\u0e2d\u0e2d\u0e1e\u0e0a\u0e31\u0e48\u0e19 `d` \u0e15\u0e32\u0e21\u0e2b\u0e25\u0e31\u0e07\u0e15\u0e31\u0e27\u0e40\u0e25\u0e02\n",
    "  - \u0e15\u0e31\u0e27\u0e40\u0e25\u0e02\u0e08\u0e33\u0e19\u0e27\u0e19\u0e08\u0e23\u0e34\u0e07\u0e08\u0e30\u0e43\u0e0a\u0e49\u0e2d\u0e2d\u0e1e\u0e0a\u0e31\u0e48\u0e19 `f` \u0e15\u0e32\u0e21\u0e2b\u0e25\u0e31\u0e07\u0e15\u0e31\u0e27\u0e40\u0e25\u0e02\n",
    "  \n",
    "- \u0e40\u0e0a\u0e48\u0e19 \u0e40\u0e23\u0e32\u0e2a\u0e32\u0e21\u0e32\u0e23\u0e16\u0e08\u0e31\u0e14\u0e1f\u0e2d\u0e23\u0e4c\u0e41\u0e21\u0e15\u0e43\u0e2b\u0e49\u0e15\u0e31\u0e27\u0e40\u0e25\u0e02\u0e43\u0e19 `user['age']` \u0e21\u0e35\u0e04\u0e27\u0e32\u0e21\u0e01\u0e27\u0e49\u0e32\u0e07 3 \u0e15\u0e31\u0e27\u0e2d\u0e31\u0e01\u0e29\u0e23\u0e41\u0e25\u0e30\u0e0a\u0e34\u0e14\u0e02\u0e27\u0e32\u0e44\u0e14\u0e49\u0e14\u0e31\u0e07\u0e19\u0e35\u0e49\u0e04\u0e23\u0e31\u0e1a"
   ]
  },
  {
   "cell_type": "code",
   "execution_count": 67,
   "metadata": {
    "id": "WdUMMJj1-9GO"
   },
   "outputs": [
    {
     "name": "stdout",
     "output_type": "stream",
     "text": [
      "------------------------------------------------------------------\n",
      "| Prachya              |    533-7855     |  37 |     high-school |\n",
      "| Methas               |    536-2313     |  36 |      university |\n",
      "| Pahol                |    524-0935     |  38 |      university |\n",
      "------------------------------------------------------------------\n"
     ]
    }
   ],
   "source": [
    "user_database = [\n",
    "    {'name': 'Prachya', 'telno': '533-7855', 'age': 37, 'degree': 'high-school'},\n",
    "    {'name': 'Methas', 'telno': '536-2313', 'age': 36, 'degree': 'university'},\n",
    "    {'name': 'Pahol', 'telno': '524-0935', 'age': 38, 'degree': 'university'}\n",
    "]\n",
    "\n",
    "print(66 * '-')\n",
    "for user in user_database:\n",
    "    print(f'| {user[\"name\"]:<20} | {user[\"telno\"]:^15} | {user[\"age\"]:>3d} | {user[\"degree\"]:>15} |')\n",
    "print(66 * '-')"
   ]
  },
  {
   "cell_type": "markdown",
   "metadata": {
    "id": "cfGopSzNLsmU"
   },
   "source": [
    "- \u0e43\u0e19\u0e01\u0e23\u0e13\u0e35\u0e17\u0e35\u0e48\u0e40\u0e1b\u0e47\u0e19\u0e15\u0e31\u0e27\u0e40\u0e25\u0e02\u0e08\u0e33\u0e19\u0e27\u0e19\u0e08\u0e23\u0e34\u0e07 \u0e40\u0e23\u0e32\u0e2a\u0e32\u0e21\u0e32\u0e23\u0e16\u0e23\u0e30\u0e1a\u0e38\u0e44\u0e14\u0e49\u0e17\u0e31\u0e49\u0e07\u0e04\u0e27\u0e32\u0e21\u0e01\u0e27\u0e49\u0e32\u0e07\u0e41\u0e25\u0e30\u0e08\u0e33\u0e19\u0e27\u0e19\u0e2b\u0e25\u0e31\u0e01\u0e17\u0e28\u0e19\u0e34\u0e22\u0e21 \u0e42\u0e14\u0e22\u0e43\u0e0a\u0e49\u0e23\u0e39\u0e1b\u0e41\u0e1a\u0e1a\u0e40\u0e1b\u0e47\u0e19 `\u0e04\u0e27\u0e32\u0e21\u0e01\u0e27\u0e49\u0e32\u0e07.\u0e08\u0e33\u0e19\u0e27\u0e19\u0e2b\u0e25\u0e31\u0e01\u0e17\u0e28\u0e19\u0e34\u0e22\u0e21f`\n",
    "\n",
    "- <u>**\u0e02\u0e49\u0e2d\u0e04\u0e27\u0e23\u0e23\u0e30\u0e27\u0e31\u0e07:**</u> \u0e04\u0e27\u0e32\u0e21\u0e01\u0e27\u0e49\u0e32\u0e07\u0e15\u0e23\u0e07\u0e19\u0e35\u0e49\u0e40\u0e1b\u0e47\u0e19\u0e04\u0e27\u0e32\u0e21\u0e01\u0e27\u0e49\u0e32\u0e07\u0e17\u0e31\u0e49\u0e07\u0e2b\u0e21\u0e14 \u0e0b\u0e36\u0e48\u0e07\u0e23\u0e27\u0e21\u0e40\u0e2d\u0e32\u0e08\u0e38\u0e14\u0e17\u0e28\u0e19\u0e34\u0e22\u0e21\u0e41\u0e25\u0e30\u0e2b\u0e25\u0e31\u0e01\u0e17\u0e28\u0e19\u0e34\u0e22\u0e21\u0e40\u0e02\u0e49\u0e32\u0e44\u0e1b\u0e41\u0e25\u0e49\u0e27 \u0e17\u0e48\u0e32\u0e19\u0e08\u0e36\u0e07\u0e04\u0e27\u0e23\u0e23\u0e30\u0e21\u0e31\u0e14\u0e23\u0e30\u0e27\u0e31\u0e07\u0e15\u0e2d\u0e19\u0e01\u0e33\u0e2b\u0e19\u0e14\u0e04\u0e27\u0e32\u0e21\u0e01\u0e27\u0e49\u0e32\u0e07\u0e17\u0e31\u0e49\u0e07\u0e2b\u0e21\u0e14\u0e43\u0e2b\u0e49\u0e14\u0e35\u0e19\u0e30\u0e04\u0e23\u0e31\u0e1a\n",
    "\n",
    "- \u0e40\u0e0a\u0e48\u0e19 \u0e40\u0e23\u0e32\u0e2a\u0e32\u0e21\u0e32\u0e23\u0e16\u0e41\u0e2a\u0e14\u0e07\u0e04\u0e30\u0e41\u0e19\u0e19\u0e02\u0e2d\u0e07\u0e19\u0e31\u0e01\u0e40\u0e23\u0e35\u0e22\u0e19 `score` \u0e43\u0e2b\u0e49\u0e21\u0e35\u0e04\u0e27\u0e32\u0e21\u0e01\u0e27\u0e49\u0e32\u0e07 8 \u0e15\u0e31\u0e27\u0e2d\u0e31\u0e01\u0e29\u0e23 \u0e41\u0e25\u0e30\u0e21\u0e35\u0e17\u0e28\u0e19\u0e34\u0e22\u0e21 2 \u0e15\u0e33\u0e41\u0e2b\u0e19\u0e48\u0e07\u0e44\u0e14\u0e49\u0e42\u0e14\u0e22\u0e43\u0e0a\u0e49\u0e1f\u0e2d\u0e23\u0e4c\u0e41\u0e21\u0e15 `{score:8.2f}` "
   ]
  },
  {
   "cell_type": "code",
   "execution_count": 68,
   "metadata": {
    "id": "Gj89tB0UKhcT"
   },
   "outputs": [
    {
     "name": "stdout",
     "output_type": "stream",
     "text": [
      "-----------------------------------\n",
      "| John                 |    35.50 |\n",
      "| Mary                 |    73.00 |\n",
      "| Cindy                |    83.50 |\n",
      "| Sean                 |    65.00 |\n",
      "| Barry                |    81.00 |\n",
      "| Mark                 |    79.50 |\n",
      "| Eugene               |    87.00 |\n",
      "| Bob                  |    49.50 |\n",
      "-----------------------------------\n"
     ]
    }
   ],
   "source": [
    "student_dict = {\n",
    "    'John': 35.5, 'Mary': 73.0, 'Cindy': 83.5, 'Sean': 65.0,\n",
    "    'Barry': 81.0, 'Mark': 79.5, 'Eugene': 87.0, 'Bob': 49.5\n",
    "}\n",
    "\n",
    "print(35 * '-')\n",
    "for name, score in student_dict.items():\n",
    "    print(f'| {name:<20} | {score:>8.2f} |')\n",
    "print(35 * '-')"
   ]
  },
  {
   "cell_type": "markdown",
   "metadata": {
    "id": "nEmcxP3zTmCW"
   },
   "source": [
    "### \u0e41\u0e1a\u0e1a\u0e1d\u0e36\u0e01\u0e2b\u0e31\u0e14 13.2"
   ]
  },
  {
   "cell_type": "markdown",
   "metadata": {
    "id": "IQwKzDxcTn7z"
   },
   "source": [
    "\u0e01\u0e47\u0e2d\u0e1b\u0e1b\u0e35\u0e49\u0e1a\u0e32\u0e07\u0e2a\u0e48\u0e27\u0e19\u0e02\u0e2d\u0e07\u0e42\u0e1b\u0e23\u0e41\u0e01\u0e23\u0e21\u0e43\u0e19\u0e41\u0e1a\u0e1a\u0e1d\u0e36\u0e01\u0e2b\u0e31\u0e14 13.1 \u0e21\u0e32\u0e41\u0e01\u0e49\u0e44\u0e02 \u0e42\u0e14\u0e22\u0e40\u0e1e\u0e34\u0e48\u0e21\u0e2d\u0e35\u0e01 1 \u0e04\u0e2d\u0e25\u0e31\u0e21\u0e19\u0e4c\u0e40\u0e02\u0e49\u0e32\u0e44\u0e1b\u0e43\u0e19\u0e15\u0e32\u0e23\u0e32\u0e07\n",
    "\n",
    "- \u0e04\u0e2d\u0e25\u0e31\u0e21\u0e19\u0e4c\u0e43\u0e2b\u0e21\u0e48\u0e19\u0e35\u0e49\u0e04\u0e37\u0e2d\u0e1c\u0e25\u0e15\u0e48\u0e32\u0e07\u0e02\u0e2d\u0e07\u0e04\u0e30\u0e41\u0e19\u0e19 (score difference) \u0e21\u0e35\u0e04\u0e27\u0e32\u0e21\u0e01\u0e27\u0e49\u0e32\u0e07 8 \u0e15\u0e31\u0e27\u0e2d\u0e31\u0e01\u0e29\u0e23 \u0e17\u0e28\u0e19\u0e34\u0e22\u0e21 2 \u0e2b\u0e25\u0e31\u0e01\n",
    "- \u0e2b\u0e32\u0e01\u0e1c\u0e25\u0e15\u0e48\u0e32\u0e07\u0e02\u0e2d\u0e07\u0e04\u0e30\u0e41\u0e19\u0e19\u0e40\u0e1b\u0e47\u0e19 0 \u0e43\u0e2b\u0e49\u0e40\u0e27\u0e49\u0e19\u0e0a\u0e48\u0e2d\u0e07\u0e19\u0e35\u0e49\u0e40\u0e1b\u0e47\u0e19\u0e0a\u0e48\u0e2d\u0e07\u0e27\u0e48\u0e32\u0e07\u0e44\u0e27\u0e49"
   ]
  },
  {
   "cell_type": "code",
   "execution_count": 69,
   "metadata": {
    "id": "t3Uzj7EsLQD-"
   },
   "outputs": [
    {
     "name": "stdout",
     "output_type": "stream",
     "text": [
      "-----------------------------------------------------\n",
      "|       Score Battles       |  Winners   |     Diff |\n",
      "-----------------------------------------------------\n",
      "|       John vs. Mary       |    Mary    |    37.50 |\n",
      "|       John vs. Cindy      |   Cindy    |    48.00 |\n",
      "|       John vs. Barry      |   Barry    |    45.50 |\n",
      "|       John vs. Mark       |    Mark    |    44.00 |\n",
      "|       John vs. Eugene     |   Eugene   |    51.50 |\n",
      "|       John vs. Rupert     |   Rupert   |    45.50 |\n",
      "-----------------------------------------------------\n",
      "|       Mary vs. John       |    Mary    |    37.50 |\n",
      "|       Mary vs. Cindy      |   Cindy    |    10.50 |\n",
      "|       Mary vs. Barry      |   Barry    |     8.00 |\n",
      "|       Mary vs. Mark       |    Mark    |     6.50 |\n",
      "|       Mary vs. Eugene     |   Eugene   |    14.00 |\n",
      "|       Mary vs. Rupert     |   Rupert   |     8.00 |\n",
      "-----------------------------------------------------\n",
      "|      Cindy vs. John       |   Cindy    |    48.00 |\n",
      "|      Cindy vs. Mary       |   Cindy    |    10.50 |\n",
      "|      Cindy vs. Barry      |   Cindy    |     2.50 |\n",
      "|      Cindy vs. Mark       |   Cindy    |     4.00 |\n",
      "|      Cindy vs. Eugene     |   Eugene   |     3.50 |\n",
      "|      Cindy vs. Rupert     |   Cindy    |     2.50 |\n",
      "-----------------------------------------------------\n",
      "|      Barry vs. John       |   Barry    |    45.50 |\n",
      "|      Barry vs. Mary       |   Barry    |     8.00 |\n",
      "|      Barry vs. Cindy      |   Cindy    |     2.50 |\n",
      "|      Barry vs. Mark       |   Barry    |     1.50 |\n",
      "|      Barry vs. Eugene     |   Eugene   |     6.00 |\n",
      "|      Barry vs. Rupert     |  --DUE--   |          |\n",
      "-----------------------------------------------------\n",
      "|       Mark vs. John       |    Mark    |    44.00 |\n",
      "|       Mark vs. Mary       |    Mark    |     6.50 |\n",
      "|       Mark vs. Cindy      |   Cindy    |     4.00 |\n",
      "|       Mark vs. Barry      |   Barry    |     1.50 |\n",
      "|       Mark vs. Eugene     |   Eugene   |     7.50 |\n",
      "|       Mark vs. Rupert     |   Rupert   |     1.50 |\n",
      "-----------------------------------------------------\n",
      "|     Eugene vs. John       |   Eugene   |    51.50 |\n",
      "|     Eugene vs. Mary       |   Eugene   |    14.00 |\n",
      "|     Eugene vs. Cindy      |   Eugene   |     3.50 |\n",
      "|     Eugene vs. Barry      |   Eugene   |     6.00 |\n",
      "|     Eugene vs. Mark       |   Eugene   |     7.50 |\n",
      "|     Eugene vs. Rupert     |   Eugene   |     6.00 |\n",
      "-----------------------------------------------------\n",
      "|     Rupert vs. John       |   Rupert   |    45.50 |\n",
      "|     Rupert vs. Mary       |   Rupert   |     8.00 |\n",
      "|     Rupert vs. Cindy      |   Cindy    |     2.50 |\n",
      "|     Rupert vs. Barry      |  --DUE--   |          |\n",
      "|     Rupert vs. Mark       |   Rupert   |     1.50 |\n",
      "|     Rupert vs. Eugene     |   Eugene   |     6.00 |\n",
      "-----------------------------------------------------\n"
     ]
    }
   ],
   "source": [
    "student_scores = [\n",
    "    ('John', 35.5), ('Mary', 73.0), ('Cindy', 83.5),\n",
    "    ('Barry', 81.0), ('Mark', 79.5), ('Eugene', 87.0), ('Rupert', 81.0)\n",
    "]\n",
    "\n",
    "# \u0e1e\u0e34\u0e21\u0e1e\u0e4c\u0e2b\u0e31\u0e27\u0e15\u0e32\u0e23\u0e32\u0e07\n",
    "print(53 * '-')\n",
    "print(f'| {\"Score Battles\":^25} | {\"Winners\":^10} | {\"Diff\":>8} |')\n",
    "print(53 * '-')\n",
    "\n",
    "for student1, score1 in student_scores:\n",
    "    for student2, score2 in student_scores:\n",
    "        if student1 != student2:\n",
    "            \n",
    "            # \u0e1e\u0e34\u0e21\u0e1e\u0e4c\u0e0a\u0e37\u0e48\u0e2d\u0e02\u0e2d\u0e07\u0e19\u0e31\u0e01\u0e40\u0e23\u0e35\u0e22\u0e19\u0e04\u0e19\u0e17\u0e35\u0e48 1 (student1) \u0e41\u0e25\u0e30\u0e19\u0e31\u0e01\u0e40\u0e23\u0e35\u0e22\u0e19\u0e04\u0e19\u0e17\u0e35\u0e48 2 (student2)\n",
    "            print(f'| {student1:>10} vs. {student2:<10} ', end='')\n",
    "            \n",
    "            # \u0e2b\u0e32\u0e1c\u0e39\u0e49\u0e0a\u0e19\u0e30\u0e04\u0e30\u0e41\u0e19\u0e19 \u0e41\u0e25\u0e49\u0e27\u0e1e\u0e34\u0e21\u0e1e\u0e4c\u0e0a\u0e37\u0e48\u0e2d\u0e1c\u0e39\u0e49\u0e0a\u0e19\u0e30\u0e2d\u0e2d\u0e01\u0e21\u0e32\n",
    "            if score1 > score2:\n",
    "                score_diff = score1 - score2\n",
    "                print(f'| {student1:^10} ', end='')\n",
    "            elif score1 < score2:\n",
    "                score_diff = score2 - score1\n",
    "                print(f'| {student2:^10} ', end='')\n",
    "            # \u0e01\u0e23\u0e13\u0e35\u0e17\u0e35\u0e48\u0e04\u0e30\u0e41\u0e19\u0e19\u0e40\u0e2a\u0e21\u0e2d\u0e01\u0e31\u0e19\n",
    "            else:\n",
    "                score_diff = 0\n",
    "                print(f'| {\"--DUE--\":^10} ', end='')\n",
    "                \n",
    "            # \u0e1e\u0e34\u0e21\u0e1e\u0e4c\u0e1c\u0e25\u0e15\u0e48\u0e32\u0e07\u0e02\u0e2d\u0e07\u0e04\u0e30\u0e41\u0e19\u0e19 score_diff \u0e2b\u0e23\u0e37\u0e2d\u0e44\u0e21\u0e48\u0e01\u0e47\u0e40\u0e27\u0e49\u0e19\u0e27\u0e48\u0e32\u0e07\u0e2b\u0e32\u0e01\u0e40\u0e1b\u0e47\u0e19 0\n",
    "            if score_diff > 0.0:\n",
    "                print(f'| {score_diff:8.2f} |')\n",
    "            else:\n",
    "                print('|          |')\n",
    "                \n",
    "    print(53 * '-')"
   ]
  },
  {
   "cell_type": "markdown",
   "metadata": {
    "id": "ZYSrXYZrfAHO"
   },
   "source": [
    "-----"
   ]
  },
  {
   "cell_type": "markdown",
   "metadata": {
    "id": "Ug0QElV8fDPM"
   },
   "source": [
    "## \u0e01\u0e34\u0e08\u0e01\u0e23\u0e23\u0e21 14: \u0e01\u0e32\u0e23\u0e2d\u0e48\u0e32\u0e19\u0e41\u0e25\u0e30\u0e40\u0e02\u0e35\u0e22\u0e19\u0e44\u0e1f\u0e25\u0e4c"
   ]
  },
  {
   "cell_type": "markdown",
   "metadata": {
    "id": "0JcfpZX0fKUn"
   },
   "source": [
    "### \u0e01\u0e32\u0e23\u0e40\u0e1b\u0e34\u0e14\u0e44\u0e1f\u0e25\u0e4c\u0e41\u0e25\u0e30\u0e1b\u0e34\u0e14\u0e44\u0e1f\u0e25\u0e4c"
   ]
  },
  {
   "cell_type": "markdown",
   "metadata": {
    "id": "BbNIXwNlfOrY"
   },
   "source": [
    "- \u0e40\u0e23\u0e32\u0e2a\u0e32\u0e21\u0e32\u0e23\u0e16\u0e40\u0e1b\u0e34\u0e14\u0e44\u0e1f\u0e25\u0e4c\u0e44\u0e14\u0e49\u0e42\u0e14\u0e22\u0e43\u0e0a\u0e49\u0e04\u0e33\u0e2a\u0e31\u0e48\u0e07 `open(\u0e0a\u0e37\u0e48\u0e2d\u0e44\u0e1f\u0e25\u0e4c, \u0e02\u0e49\u0e2d\u0e2d\u0e19\u0e38\u0e0d\u0e32\u0e15)` \u0e42\u0e14\u0e22\u0e40\u0e23\u0e32\u0e08\u0e30\u0e15\u0e49\u0e2d\u0e07\u0e19\u0e33\u0e15\u0e31\u0e27\u0e41\u0e1b\u0e23 1 \u0e15\u0e31\u0e27 (\u0e0b\u0e36\u0e48\u0e07\u0e40\u0e23\u0e35\u0e22\u0e01\u0e27\u0e48\u0e32 file handler) \u0e21\u0e32\u0e23\u0e31\u0e1a\u0e15\u0e31\u0e27\u0e41\u0e17\u0e19\u0e44\u0e1f\u0e25\u0e4c\u0e19\u0e31\u0e49\u0e19\u0e40\u0e2d\u0e32\u0e44\u0e27\u0e49 \u0e40\u0e23\u0e32\u0e08\u0e30\u0e44\u0e14\u0e49\u0e19\u0e33\u0e44\u0e1f\u0e25\u0e4c\u0e44\u0e1b\u0e43\u0e0a\u0e49\u0e07\u0e32\u0e19\u0e15\u0e48\u0e2d\u0e44\u0e14\u0e49\n",
    "\n",
    "- \u0e02\u0e49\u0e2d\u0e2d\u0e19\u0e38\u0e0d\u0e32\u0e15\u0e43\u0e19\u0e01\u0e32\u0e23\u0e43\u0e0a\u0e49\u0e44\u0e1f\u0e25\u0e4c\u0e17\u0e35\u0e48\u0e43\u0e0a\u0e49\u0e01\u0e31\u0e19\u0e17\u0e31\u0e48\u0e27\u0e44\u0e1b \u0e21\u0e35\u0e2d\u0e22\u0e39\u0e48\u0e14\u0e49\u0e27\u0e22\u0e01\u0e31\u0e19 3 \u0e1b\u0e23\u0e30\u0e40\u0e20\u0e17\n",
    "  - \u0e02\u0e49\u0e2d\u0e2d\u0e19\u0e38\u0e0d\u0e32\u0e15\u0e1b\u0e23\u0e30\u0e40\u0e20\u0e17 `'r'` \u0e04\u0e37\u0e2d\u0e2d\u0e48\u0e32\u0e19\u0e02\u0e49\u0e2d\u0e21\u0e39\u0e25\u0e2d\u0e22\u0e48\u0e32\u0e07\u0e40\u0e14\u0e35\u0e22\u0e27\u0e40\u0e17\u0e48\u0e32\u0e19\u0e31\u0e49\u0e19\n",
    "  - \u0e02\u0e49\u0e2d\u0e2d\u0e19\u0e38\u0e0d\u0e32\u0e15\u0e1b\u0e23\u0e30\u0e40\u0e20\u0e17 `'w'` \u0e04\u0e37\u0e2d\u0e40\u0e02\u0e35\u0e22\u0e19\u0e02\u0e49\u0e2d\u0e21\u0e39\u0e25\u0e17\u0e31\u0e1a\u0e2d\u0e22\u0e48\u0e32\u0e07\u0e40\u0e14\u0e35\u0e22\u0e27\u0e40\u0e17\u0e48\u0e32\u0e19\u0e31\u0e49\u0e19\n",
    "  - \u0e02\u0e49\u0e2d\u0e2d\u0e19\u0e38\u0e0d\u0e32\u0e15\u0e1b\u0e23\u0e30\u0e40\u0e20\u0e17 `'a'` \u0e04\u0e37\u0e2d\u0e40\u0e02\u0e35\u0e22\u0e19\u0e02\u0e49\u0e2d\u0e21\u0e39\u0e25\u0e15\u0e48\u0e2d\u0e17\u0e49\u0e32\u0e22\u0e2d\u0e22\u0e48\u0e32\u0e07\u0e40\u0e14\u0e35\u0e22\u0e27\u0e40\u0e17\u0e48\u0e32\u0e19\u0e31\u0e49\u0e19\n",
    "  \n",
    "- \u0e40\u0e21\u0e37\u0e48\u0e2d\u0e43\u0e0a\u0e49\u0e44\u0e1f\u0e25\u0e4c\u0e40\u0e2a\u0e23\u0e47\u0e08\u0e41\u0e25\u0e49\u0e27 \u0e40\u0e23\u0e32\u0e04\u0e27\u0e23\u0e2a\u0e31\u0e48\u0e07\u0e1b\u0e34\u0e14\u0e44\u0e1f\u0e25\u0e4c\u0e44\u0e14\u0e49\u0e14\u0e49\u0e27\u0e22\u0e04\u0e33\u0e2a\u0e31\u0e48\u0e07 `\u0e44\u0e1f\u0e25\u0e4c.close()` \u0e04\u0e23\u0e31\u0e1a\n",
    "- <u>**\u0e02\u0e49\u0e2d\u0e04\u0e27\u0e23\u0e23\u0e30\u0e27\u0e31\u0e07:**</u> \u0e16\u0e49\u0e32\u0e44\u0e21\u0e48\u0e1b\u0e34\u0e14\u0e44\u0e1f\u0e25\u0e4c\u0e2b\u0e25\u0e31\u0e07\u0e43\u0e0a\u0e49\u0e07\u0e32\u0e19\u0e40\u0e2a\u0e23\u0e47\u0e08 \u0e02\u0e49\u0e2d\u0e21\u0e39\u0e25\u0e17\u0e35\u0e48\u0e40\u0e23\u0e32\u0e2a\u0e31\u0e48\u0e07\u0e40\u0e02\u0e35\u0e22\u0e19\u0e25\u0e07\u0e44\u0e1b\u0e2d\u0e32\u0e08\u0e08\u0e30\u0e2b\u0e32\u0e22\u0e44\u0e1b\u0e2b\u0e21\u0e14\u0e01\u0e47\u0e44\u0e14\u0e49"
   ]
  },
  {
   "cell_type": "code",
   "execution_count": 70,
   "metadata": {
    "id": "QuuCWZFFg_D6"
   },
   "outputs": [],
   "source": [
    "fhdl = open('test_file_1.txt', 'w')         # fhdl \u0e22\u0e48\u0e2d\u0e21\u0e32\u0e08\u0e32\u0e01\u0e04\u0e33\u0e27\u0e48\u0e32 file handler\n",
    "fhdl.close()"
   ]
  },
  {
   "cell_type": "markdown",
   "metadata": {
    "id": "88lDt9CviKbC"
   },
   "source": [
    "### \u0e01\u0e32\u0e23\u0e40\u0e02\u0e35\u0e22\u0e19\u0e02\u0e49\u0e2d\u0e21\u0e39\u0e25\u0e25\u0e07\u0e44\u0e1f\u0e25\u0e4c"
   ]
  },
  {
   "cell_type": "markdown",
   "metadata": {
    "id": "nluIpj0_iM-V"
   },
   "source": [
    "- \u0e40\u0e23\u0e32\u0e2a\u0e32\u0e21\u0e32\u0e23\u0e16\u0e40\u0e02\u0e35\u0e22\u0e19\u0e02\u0e49\u0e2d\u0e21\u0e39\u0e25\u0e25\u0e07\u0e44\u0e1f\u0e25\u0e4c\u0e44\u0e14\u0e49\u0e14\u0e49\u0e27\u0e22\u0e04\u0e33\u0e2a\u0e31\u0e48\u0e07 `\u0e44\u0e1f\u0e25\u0e4c.write(\u0e2a\u0e15\u0e23\u0e34\u0e07)`\n",
    "- \u0e42\u0e1b\u0e23\u0e14\u0e2a\u0e31\u0e07\u0e40\u0e01\u0e15\u0e27\u0e48\u0e32 \u0e02\u0e49\u0e2d\u0e21\u0e39\u0e25\u0e17\u0e35\u0e48\u0e40\u0e02\u0e35\u0e22\u0e19\u0e25\u0e07\u0e44\u0e1f\u0e25\u0e4c\u0e08\u0e30\u0e15\u0e49\u0e2d\u0e07\u0e2d\u0e22\u0e39\u0e48\u0e43\u0e19\u0e23\u0e39\u0e1b\u0e41\u0e1a\u0e1a\u0e02\u0e2d\u0e07\u0e2a\u0e15\u0e23\u0e34\u0e07\u0e40\u0e2a\u0e21\u0e2d\n",
    "- \u0e2b\u0e32\u0e01\u0e40\u0e23\u0e32\u0e15\u0e49\u0e2d\u0e07\u0e01\u0e32\u0e23\u0e40\u0e02\u0e35\u0e22\u0e19\u0e02\u0e49\u0e2d\u0e21\u0e39\u0e25\u0e25\u0e07\u0e44\u0e1f\u0e25\u0e4c 1 \u0e1a\u0e23\u0e23\u0e17\u0e31\u0e14 \u0e40\u0e23\u0e32\u0e15\u0e49\u0e2d\u0e07\u0e43\u0e2a\u0e48\u0e40\u0e04\u0e23\u0e37\u0e48\u0e2d\u0e07\u0e2b\u0e21\u0e32\u0e22\u0e02\u0e36\u0e49\u0e19\u0e1a\u0e23\u0e23\u0e17\u0e31\u0e14\u0e43\u0e2b\u0e21\u0e48 `\\n` \u0e40\u0e2d\u0e07\u0e14\u0e49\u0e27\u0e22"
   ]
  },
  {
   "cell_type": "code",
   "execution_count": 71,
   "metadata": {
    "id": "-oc8mJS2iyon"
   },
   "outputs": [],
   "source": [
    "fhdl = open('test_file_1.txt', 'w')\n",
    "\n",
    "for i in range(1, 11):\n",
    "    fhdl.write(f'{10 * i}\\n')\n",
    "\n",
    "fhdl.close()"
   ]
  },
  {
   "cell_type": "markdown",
   "metadata": {
    "id": "xJxT-VAwjInZ"
   },
   "source": [
    "### \u0e01\u0e32\u0e23\u0e2d\u0e48\u0e32\u0e19\u0e02\u0e49\u0e2d\u0e21\u0e39\u0e25\u0e17\u0e35\u0e25\u0e30 1 \u0e1a\u0e23\u0e23\u0e17\u0e31\u0e14\u0e08\u0e32\u0e01\u0e44\u0e1f\u0e25\u0e4c"
   ]
  },
  {
   "cell_type": "markdown",
   "metadata": {
    "id": "clsaeCVSjMGm"
   },
   "source": [
    "- \u0e40\u0e23\u0e32\u0e2a\u0e32\u0e21\u0e32\u0e23\u0e16\u0e2d\u0e48\u0e32\u0e19\u0e02\u0e49\u0e2d\u0e21\u0e39\u0e25\u0e17\u0e35\u0e25\u0e30 1 \u0e1a\u0e23\u0e23\u0e17\u0e31\u0e14\u0e08\u0e32\u0e01\u0e44\u0e1f\u0e25\u0e4c\u0e44\u0e14\u0e49\u0e14\u0e49\u0e27\u0e22\u0e01\u0e32\u0e23\u0e27\u0e19\u0e25\u0e39\u0e1b\u0e1f\u0e2d\u0e23\u0e4c\u0e04\u0e23\u0e31\u0e1a\n",
    "```python\n",
    "    for <\u0e1a\u0e23\u0e23\u0e17\u0e31\u0e14> in <\u0e44\u0e1f\u0e25\u0e4c> :\n",
    "        <\u0e01\u0e23\u0e30\u0e1a\u0e27\u0e19\u0e01\u0e32\u0e23>\n",
    "```\n",
    "\n",
    "- \u0e08\u0e30\u0e2a\u0e31\u0e07\u0e40\u0e01\u0e15\u0e44\u0e14\u0e49\u0e27\u0e48\u0e32 \u0e17\u0e38\u0e01\u0e1a\u0e23\u0e23\u0e17\u0e31\u0e14\u0e17\u0e35\u0e48\u0e2d\u0e48\u0e32\u0e19\u0e2d\u0e2d\u0e01\u0e21\u0e32\u0e08\u0e32\u0e01\u0e44\u0e1f\u0e25\u0e4c\u0e14\u0e49\u0e27\u0e22\u0e25\u0e39\u0e1b\u0e1f\u0e2d\u0e23\u0e4c \u0e08\u0e30\u0e21\u0e35\u0e40\u0e04\u0e23\u0e37\u0e48\u0e2d\u0e07\u0e2b\u0e21\u0e32\u0e22\u0e02\u0e36\u0e49\u0e19\u0e1a\u0e23\u0e23\u0e17\u0e31\u0e14 `\\n` \u0e15\u0e34\u0e14\u0e21\u0e32\u0e14\u0e49\u0e27\u0e22\u0e40\u0e2a\u0e21\u0e2d"
   ]
  },
  {
   "cell_type": "code",
   "execution_count": 72,
   "metadata": {
    "id": "xzGqlkDUjbpG"
   },
   "outputs": [
    {
     "name": "stdout",
     "output_type": "stream",
     "text": [
      "10\n",
      "\n",
      "20\n",
      "\n",
      "30\n",
      "\n",
      "40\n",
      "\n",
      "50\n",
      "\n",
      "60\n",
      "\n",
      "70\n",
      "\n",
      "80\n",
      "\n",
      "90\n",
      "\n",
      "100\n",
      "\n"
     ]
    }
   ],
   "source": [
    "fhdl = open('test_file_1.txt', 'r')\n",
    "\n",
    "for line in fhdl:\n",
    "    print(line)\n",
    "\n",
    "fhdl.close()"
   ]
  },
  {
   "cell_type": "markdown",
   "metadata": {
    "id": "asU0aXpvj9Z6"
   },
   "source": [
    "- \u0e14\u0e31\u0e07\u0e19\u0e31\u0e49\u0e19\u0e1b\u0e01\u0e15\u0e34\u0e41\u0e25\u0e49\u0e27 \u0e40\u0e23\u0e32\u0e08\u0e30\u0e2a\u0e31\u0e48\u0e07 `\u0e2a\u0e15\u0e23\u0e34\u0e07.strip()` \u0e41\u0e15\u0e48\u0e25\u0e30\u0e1a\u0e23\u0e23\u0e17\u0e31\u0e14\u0e14\u0e49\u0e27\u0e22 \u0e40\u0e1e\u0e37\u0e48\u0e2d\u0e01\u0e33\u0e08\u0e31\u0e14\u0e40\u0e04\u0e23\u0e37\u0e48\u0e2d\u0e07\u0e2b\u0e21\u0e32\u0e22\u0e40\u0e27\u0e49\u0e19\u0e27\u0e23\u0e23\u0e04\u0e41\u0e25\u0e30\u0e02\u0e36\u0e49\u0e19\u0e1a\u0e23\u0e23\u0e17\u0e31\u0e14\u0e43\u0e2b\u0e21\u0e48\u0e17\u0e35\u0e48\u0e14\u0e49\u0e32\u0e19\u0e0b\u0e49\u0e32\u0e22\u0e41\u0e25\u0e30\u0e02\u0e27\u0e32\u0e2d\u0e2d\u0e01\u0e44\u0e1b\u0e04\u0e23\u0e31\u0e1a\n",
    "\n",
    "- \u0e40\u0e0a\u0e48\u0e19 \u0e16\u0e49\u0e32\u0e40\u0e23\u0e32\u0e15\u0e49\u0e2d\u0e07\u0e01\u0e32\u0e23\u0e08\u0e30\u0e2d\u0e48\u0e32\u0e19\u0e15\u0e31\u0e27\u0e40\u0e25\u0e02\u0e43\u0e19\u0e44\u0e1f\u0e25\u0e4c `test_file_1.txt` \u0e2d\u0e2d\u0e01\u0e21\u0e32\u0e41\u0e25\u0e49\u0e27\u0e2b\u0e32\u0e1c\u0e25\u0e23\u0e27\u0e21 \u0e40\u0e23\u0e32\u0e08\u0e30\u0e40\u0e02\u0e35\u0e22\u0e19\u0e42\u0e1b\u0e23\u0e41\u0e01\u0e23\u0e21\u0e44\u0e14\u0e49\u0e14\u0e31\u0e07\u0e19\u0e35\u0e49"
   ]
  },
  {
   "cell_type": "code",
   "execution_count": 73,
   "metadata": {
    "id": "mKHvlLc7kNSg"
   },
   "outputs": [
    {
     "name": "stdout",
     "output_type": "stream",
     "text": [
      "550\n"
     ]
    }
   ],
   "source": [
    "fhdl = open('test_file_1.txt', 'r')\n",
    "\n",
    "my_sum = 0\n",
    "\n",
    "for line in fhdl:\n",
    "    numstr = line.strip()       # \u0e01\u0e33\u0e08\u0e31\u0e14\u0e40\u0e27\u0e49\u0e19\u0e27\u0e23\u0e23\u0e04\u0e41\u0e25\u0e30\u0e02\u0e36\u0e49\u0e19\u0e1a\u0e23\u0e23\u0e17\u0e31\u0e14\u0e43\u0e2b\u0e21\u0e48\u0e0b\u0e49\u0e32\u0e22\u0e02\u0e27\u0e32\u0e17\u0e34\u0e49\u0e07\u0e44\u0e1b\n",
    "    my_sum = my_sum + int(numstr)\n",
    "\n",
    "fhdl.close()\n",
    "\n",
    "print(my_sum)"
   ]
  },
  {
   "cell_type": "markdown",
   "metadata": {
    "id": "6wO6qRRNliXR"
   },
   "source": [
    "### \u0e01\u0e32\u0e23\u0e2d\u0e48\u0e32\u0e19\u0e44\u0e1f\u0e25\u0e4c\u0e17\u0e38\u0e01\u0e1a\u0e23\u0e23\u0e17\u0e31\u0e14\u0e43\u0e19\u0e04\u0e23\u0e32\u0e27\u0e40\u0e14\u0e35\u0e22\u0e27"
   ]
  },
  {
   "cell_type": "markdown",
   "metadata": {
    "id": "2Rol2-5OlmHs"
   },
   "source": [
    "- \u0e19\u0e2d\u0e01\u0e08\u0e32\u0e01\u0e19\u0e35\u0e49\u0e40\u0e23\u0e32\u0e22\u0e31\u0e07\u0e2a\u0e32\u0e21\u0e32\u0e23\u0e16\u0e2d\u0e48\u0e32\u0e19\u0e44\u0e1f\u0e25\u0e4c\u0e17\u0e38\u0e01\u0e1a\u0e23\u0e23\u0e17\u0e31\u0e14\u0e44\u0e14\u0e49\u0e43\u0e19\u0e04\u0e23\u0e32\u0e27\u0e40\u0e14\u0e35\u0e22\u0e27\u0e14\u0e49\u0e27\u0e22\u0e04\u0e33\u0e2a\u0e31\u0e48\u0e07 `\u0e44\u0e1f\u0e25\u0e4c.readlines()`\n",
    "\n",
    "- \u0e08\u0e30\u0e2a\u0e31\u0e07\u0e40\u0e01\u0e15\u0e44\u0e14\u0e49\u0e27\u0e48\u0e32 \u0e17\u0e38\u0e01\u0e1a\u0e23\u0e23\u0e17\u0e31\u0e14\u0e01\u0e47\u0e22\u0e31\u0e07\u0e04\u0e07\u0e15\u0e34\u0e14\u0e40\u0e04\u0e23\u0e37\u0e48\u0e2d\u0e07\u0e2b\u0e21\u0e32\u0e22\u0e02\u0e36\u0e49\u0e19\u0e1a\u0e23\u0e23\u0e17\u0e31\u0e14\u0e43\u0e2b\u0e21\u0e48\u0e40\u0e2d\u0e32\u0e44\u0e27\u0e49 \u0e42\u0e1b\u0e23\u0e14\u0e23\u0e30\u0e21\u0e31\u0e14\u0e23\u0e30\u0e27\u0e31\u0e07\u0e01\u0e32\u0e23\u0e43\u0e0a\u0e49\u0e07\u0e32\u0e19\u0e02\u0e49\u0e2d\u0e21\u0e39\u0e25\u0e41\u0e15\u0e48\u0e25\u0e30\u0e1a\u0e23\u0e23\u0e17\u0e31\u0e14\u0e14\u0e49\u0e27\u0e22\u0e19\u0e30\u0e04\u0e23\u0e31\u0e1a\n",
    "- \u0e17\u0e31\u0e49\u0e07\u0e19\u0e35\u0e49 \u0e40\u0e23\u0e32\u0e2a\u0e32\u0e21\u0e32\u0e23\u0e16\u0e01\u0e33\u0e08\u0e31\u0e14\u0e40\u0e04\u0e23\u0e37\u0e48\u0e2d\u0e07\u0e2b\u0e21\u0e32\u0e22\u0e40\u0e27\u0e49\u0e19\u0e27\u0e23\u0e23\u0e04\u0e41\u0e25\u0e30\u0e02\u0e36\u0e49\u0e19\u0e1a\u0e23\u0e23\u0e17\u0e31\u0e14\u0e43\u0e2b\u0e21\u0e48\u0e17\u0e35\u0e48\u0e2d\u0e22\u0e39\u0e48\u0e14\u0e49\u0e32\u0e19\u0e0b\u0e49\u0e32\u0e22\u0e41\u0e25\u0e30\u0e02\u0e27\u0e32\u0e43\u0e19\u0e41\u0e15\u0e48\u0e25\u0e30\u0e1a\u0e23\u0e23\u0e17\u0e31\u0e14\u0e44\u0e14\u0e49\u0e14\u0e49\u0e27\u0e22\u0e04\u0e33\u0e2a\u0e31\u0e48\u0e07 `strip()` \u0e40\u0e0a\u0e48\u0e19\u0e40\u0e04\u0e22"
   ]
  },
  {
   "cell_type": "code",
   "execution_count": 74,
   "metadata": {
    "id": "t-gURIs4lvMs"
   },
   "outputs": [
    {
     "name": "stdout",
     "output_type": "stream",
     "text": [
      "['10\\n', '20\\n', '30\\n', '40\\n', '50\\n', '60\\n', '70\\n', '80\\n', '90\\n', '100\\n']\n",
      "['10', '20', '30', '40', '50', '60', '70', '80', '90', '100']\n"
     ]
    }
   ],
   "source": [
    "fhdl = open('test_file_1.txt', 'r')\n",
    "lines = fhdl.readlines()\n",
    "fhdl.close()\n",
    "print(lines)\n",
    "\n",
    "for i in range(len(lines)):\n",
    "    lines[i] = lines[i].strip()\n",
    "\n",
    "print(lines)"
   ]
  },
  {
   "cell_type": "markdown",
   "metadata": {
    "id": "r1wFjDSnmuB-"
   },
   "source": [
    "### \u0e41\u0e1a\u0e1a\u0e1d\u0e36\u0e01\u0e2b\u0e31\u0e14 14.1"
   ]
  },
  {
   "cell_type": "markdown",
   "metadata": {
    "id": "Qs6lmHPJnBMr"
   },
   "source": [
    "\u0e08\u0e07\u0e2d\u0e48\u0e32\u0e19\u0e02\u0e49\u0e2d\u0e21\u0e39\u0e25\u0e08\u0e32\u0e01\u0e44\u0e1f\u0e25\u0e4c `test_file_1.txt` \u0e41\u0e25\u0e49\u0e27\u0e40\u0e02\u0e35\u0e22\u0e19\u0e02\u0e49\u0e2d\u0e21\u0e39\u0e25\u0e25\u0e07\u0e44\u0e1b\u0e43\u0e19\u0e44\u0e1f\u0e25\u0e4c `test_file_2.txt` \u0e42\u0e14\u0e22\u0e08\u0e30\u0e15\u0e49\u0e2d\u0e07\u0e01\u0e25\u0e31\u0e1a\u0e25\u0e33\u0e14\u0e31\u0e1a\u0e01\u0e32\u0e23\u0e40\u0e02\u0e35\u0e22\u0e19\u0e14\u0e49\u0e27\u0e22 \u0e14\u0e31\u0e07\u0e19\u0e31\u0e49\u0e19\u0e43\u0e19\u0e44\u0e1f\u0e25\u0e4c `test_file_2.txt` \u0e08\u0e30\u0e15\u0e49\u0e2d\u0e07\u0e21\u0e35\u0e02\u0e49\u0e2d\u0e21\u0e39\u0e25\u0e17\u0e35\u0e48\u0e2a\u0e25\u0e31\u0e1a\u0e25\u0e33\u0e14\u0e31\u0e1a\u0e1a\u0e23\u0e23\u0e17\u0e31\u0e14\u0e01\u0e31\u0e1a\u0e44\u0e1f\u0e25\u0e4c `test_file_1.txt` \u0e17\u0e35\u0e48\u0e40\u0e1b\u0e47\u0e19\u0e2d\u0e34\u0e19\u0e1e\u0e38\u0e15"
   ]
  },
  {
   "cell_type": "code",
   "execution_count": 75,
   "metadata": {
    "id": "XWjOce33nqD2"
   },
   "outputs": [],
   "source": [
    "# \u0e40\u0e1b\u0e34\u0e14\u0e44\u0e1f\u0e25\u0e4c test_file_1.txt \u0e41\u0e1a\u0e1a\u0e2d\u0e48\u0e32\u0e19\u0e2d\u0e22\u0e48\u0e32\u0e07\u0e40\u0e14\u0e35\u0e22\u0e27\n",
    "ifhdl = open('test_file_1.txt', 'r')\n",
    "\n",
    "# \u0e2d\u0e48\u0e32\u0e19\u0e17\u0e38\u0e01\u0e1a\u0e23\u0e23\u0e17\u0e31\u0e14\u0e02\u0e2d\u0e07\u0e44\u0e1f\u0e25\u0e4c ifhdl \u0e43\u0e2a\u0e48\u0e15\u0e31\u0e27\u0e41\u0e1b\u0e23 lines\n",
    "lines = ifhdl.readlines()\n",
    "\n",
    "# \u0e1b\u0e34\u0e14\u0e44\u0e1f\u0e25\u0e4c\u0e17\u0e31\u0e19\u0e17\u0e35\u0e17\u0e35\u0e48\u0e43\u0e0a\u0e49\u0e40\u0e2a\u0e23\u0e47\u0e08\n",
    "ifhdl.close()\n",
    "\n",
    "\n",
    "# \u0e01\u0e25\u0e31\u0e1a\u0e25\u0e33\u0e14\u0e31\u0e1a\u0e02\u0e2d\u0e07\u0e2a\u0e21\u0e32\u0e0a\u0e34\u0e01\u0e43\u0e19\u0e25\u0e34\u0e2a\u0e15\u0e4c lines\n",
    "lines.reverse()\n",
    "\n",
    "\n",
    "# \u0e40\u0e1b\u0e34\u0e14\u0e44\u0e1f\u0e25\u0e4c test_file_2.txt \u0e41\u0e1a\u0e1a\u0e40\u0e02\u0e35\u0e22\u0e19\u0e17\u0e31\u0e1a\u0e2d\u0e22\u0e48\u0e32\u0e07\u0e40\u0e14\u0e35\u0e22\u0e27\n",
    "ofhdl = open('test_file_2.txt', 'w')\n",
    "\n",
    "# \u0e27\u0e19\u0e25\u0e39\u0e1b\u0e15\u0e32\u0e21\u0e1a\u0e23\u0e23\u0e17\u0e31\u0e14\n",
    "for i in range(len(lines)):\n",
    "    # \u0e40\u0e02\u0e35\u0e22\u0e19\u0e1a\u0e23\u0e23\u0e17\u0e31\u0e14\u0e14\u0e31\u0e07\u0e01\u0e25\u0e48\u0e32\u0e27\u0e25\u0e07\u0e43\u0e19\u0e44\u0e1f\u0e25\u0e4c ofhdl\n",
    "    ofhdl.write(lines[i])\n",
    "\n",
    "# \u0e1b\u0e34\u0e14\u0e44\u0e1f\u0e25\u0e4c\u0e17\u0e31\u0e19\u0e17\u0e35\u0e17\u0e35\u0e48\u0e43\u0e0a\u0e49\u0e40\u0e2a\u0e23\u0e47\u0e08\n",
    "ofhdl.close()"
   ]
  },
  {
   "cell_type": "markdown",
   "metadata": {
    "id": "yBj3MaQ9Wo8z"
   },
   "source": [
    "### \u0e01\u0e32\u0e23\u0e41\u0e15\u0e01\u0e2a\u0e15\u0e23\u0e34\u0e07 (tokenization)"
   ]
  },
  {
   "cell_type": "markdown",
   "metadata": {
    "id": "giSb3dG4WwYC"
   },
   "source": [
    "- \u0e40\u0e23\u0e32\u0e2a\u0e32\u0e21\u0e32\u0e23\u0e16\u0e41\u0e1a\u0e48\u0e07\u0e2a\u0e15\u0e23\u0e34\u0e07\u0e2d\u0e2d\u0e01\u0e40\u0e1b\u0e47\u0e19\u0e25\u0e34\u0e2a\u0e15\u0e4c\u0e02\u0e2d\u0e07\u0e04\u0e33\u0e14\u0e49\u0e27\u0e22\u0e40\u0e04\u0e23\u0e37\u0e48\u0e2d\u0e07\u0e2b\u0e21\u0e32\u0e22\u0e40\u0e27\u0e49\u0e19\u0e27\u0e23\u0e23\u0e04\u0e44\u0e14\u0e49\u0e14\u0e49\u0e27\u0e22\u0e04\u0e33\u0e2a\u0e31\u0e48\u0e07 `\u0e2a\u0e15\u0e23\u0e34\u0e07.split()` \u0e04\u0e23\u0e31\u0e1a"
   ]
  },
  {
   "cell_type": "code",
   "execution_count": 76,
   "metadata": {
    "id": "evKb7I86UTmE"
   },
   "outputs": [
    {
     "name": "stdout",
     "output_type": "stream",
     "text": [
      "['hello', 'this', 'is', 'prachya', 'and', 'i', 'am', 'glad', 'to', 'be', 'here']\n"
     ]
    }
   ],
   "source": [
    "tokens = 'hello this is prachya and i am glad to be here'.split()\n",
    "print(tokens)"
   ]
  },
  {
   "cell_type": "markdown",
   "metadata": {
    "id": "F9zBFTwWXST3"
   },
   "source": [
    "- \u0e44\u0e21\u0e48\u0e27\u0e48\u0e32\u0e08\u0e30\u0e40\u0e27\u0e49\u0e19\u0e27\u0e23\u0e23\u0e04\u0e2a\u0e31\u0e01\u0e01\u0e35\u0e48\u0e04\u0e23\u0e31\u0e49\u0e07 \u0e04\u0e33\u0e2a\u0e31\u0e48\u0e07 `split()` \u0e01\u0e47\u0e22\u0e31\u0e07\u0e2a\u0e32\u0e21\u0e32\u0e23\u0e16\u0e41\u0e1a\u0e48\u0e07\u0e2a\u0e15\u0e23\u0e34\u0e07\u0e2d\u0e2d\u0e01\u0e40\u0e1b\u0e47\u0e19\u0e25\u0e34\u0e2a\u0e15\u0e4c\u0e02\u0e2d\u0e07\u0e04\u0e33\u0e44\u0e14\u0e49"
   ]
  },
  {
   "cell_type": "code",
   "execution_count": 77,
   "metadata": {
    "id": "Ww4_tp1AXO_R"
   },
   "outputs": [
    {
     "name": "stdout",
     "output_type": "stream",
     "text": [
      "['hello', 'this', 'is', 'prachya', 'and', 'i', 'am', 'glad', 'to', 'be', 'here']\n"
     ]
    }
   ],
   "source": [
    "tokens = '   hello    this is    prachya  and i    am glad    to be   here   '.split()\n",
    "print(tokens)"
   ]
  },
  {
   "cell_type": "markdown",
   "metadata": {
    "id": "W2Z2TQMrXqef"
   },
   "source": [
    "- \u0e19\u0e2d\u0e01\u0e08\u0e32\u0e01\u0e19\u0e35\u0e49\u0e40\u0e23\u0e32\u0e22\u0e31\u0e07\u0e2a\u0e32\u0e21\u0e32\u0e23\u0e16\u0e23\u0e30\u0e1a\u0e38\u0e40\u0e04\u0e23\u0e37\u0e48\u0e2d\u0e07\u0e2b\u0e21\u0e32\u0e22\u0e15\u0e31\u0e14\u0e2a\u0e15\u0e23\u0e34\u0e07 (delimiter) \u0e44\u0e14\u0e49\u0e2d\u0e35\u0e01\u0e14\u0e49\u0e27\u0e22\n",
    "- \u0e40\u0e0a\u0e48\u0e19 \u0e2b\u0e32\u0e01\u0e40\u0e23\u0e32\u0e15\u0e49\u0e2d\u0e07\u0e01\u0e32\u0e23\u0e15\u0e31\u0e14\u0e2a\u0e15\u0e23\u0e34\u0e07\u0e14\u0e49\u0e27\u0e22\u0e40\u0e04\u0e23\u0e37\u0e48\u0e2d\u0e07\u0e2b\u0e21\u0e32\u0e22 `,` \u0e40\u0e23\u0e32\u0e08\u0e30\u0e43\u0e0a\u0e49\u0e04\u0e33\u0e2a\u0e31\u0e48\u0e07\u0e14\u0e31\u0e07\u0e19\u0e35\u0e49\u0e04\u0e23\u0e31\u0e1a"
   ]
  },
  {
   "cell_type": "code",
   "execution_count": 78,
   "metadata": {
    "id": "kB6S4ParXcwi"
   },
   "outputs": [
    {
     "name": "stdout",
     "output_type": "stream",
     "text": [
      "['533-7855', '536-2313', '524-7306']\n"
     ]
    }
   ],
   "source": [
    "tokens = '533-7855,536-2313,524-7306'.split(',')\n",
    "print(tokens)"
   ]
  },
  {
   "cell_type": "markdown",
   "metadata": {
    "id": "XfmWiByLYGji"
   },
   "source": [
    "- \u0e41\u0e15\u0e48\u0e2b\u0e32\u0e01\u0e23\u0e30\u0e1a\u0e38\u0e40\u0e04\u0e23\u0e37\u0e48\u0e2d\u0e07\u0e2b\u0e21\u0e32\u0e22\u0e15\u0e31\u0e14\u0e2a\u0e15\u0e23\u0e34\u0e07 \u0e04\u0e33\u0e2a\u0e31\u0e48\u0e07 `split()` \u0e08\u0e30\u0e22\u0e2d\u0e21\u0e1b\u0e25\u0e48\u0e2d\u0e22\u0e43\u0e2b\u0e49\u0e21\u0e35\u0e2a\u0e15\u0e23\u0e34\u0e07\u0e27\u0e48\u0e32\u0e07\u0e40\u0e01\u0e34\u0e14\u0e02\u0e36\u0e49\u0e19\u0e44\u0e14\u0e49\u0e14\u0e49\u0e27\u0e22 \u0e2b\u0e32\u0e01\u0e27\u0e48\u0e32\u0e21\u0e35\u0e40\u0e04\u0e23\u0e37\u0e48\u0e2d\u0e07\u0e2b\u0e21\u0e32\u0e22\u0e15\u0e31\u0e14\u0e2a\u0e15\u0e23\u0e34\u0e07\u0e1b\u0e23\u0e32\u0e01\u0e0f\u0e02\u0e36\u0e49\u0e19\u0e15\u0e34\u0e14\u0e01\u0e31\u0e19\u0e2b\u0e25\u0e32\u0e22\u0e04\u0e23\u0e31\u0e49\u0e07"
   ]
  },
  {
   "cell_type": "code",
   "execution_count": 79,
   "metadata": {
    "id": "vxZJMJ2aYFRh"
   },
   "outputs": [
    {
     "name": "stdout",
     "output_type": "stream",
     "text": [
      "['533-7855', '', '536-2313', '', '', '', '524-7306']\n"
     ]
    }
   ],
   "source": [
    "tokens = '533-7855,,536-2313,,,,524-7306'.split(',')\n",
    "print(tokens)"
   ]
  },
  {
   "cell_type": "markdown",
   "metadata": {
    "id": "IaMoLUDEZ3Gy"
   },
   "source": [
    "### \u0e01\u0e32\u0e23\u0e40\u0e0a\u0e37\u0e48\u0e2d\u0e21\u0e25\u0e34\u0e2a\u0e15\u0e4c\u0e02\u0e2d\u0e07\u0e2a\u0e15\u0e23\u0e34\u0e07"
   ]
  },
  {
   "cell_type": "markdown",
   "metadata": {
    "id": "kYSZb20gZ833"
   },
   "source": [
    "- \u0e40\u0e23\u0e32\u0e2a\u0e32\u0e21\u0e32\u0e23\u0e16\u0e40\u0e0a\u0e37\u0e48\u0e2d\u0e21\u0e25\u0e34\u0e2a\u0e15\u0e4c\u0e02\u0e2d\u0e07\u0e2a\u0e15\u0e23\u0e34\u0e07\u0e40\u0e02\u0e49\u0e32\u0e14\u0e49\u0e27\u0e22\u0e01\u0e31\u0e19\u0e42\u0e14\u0e22\u0e43\u0e0a\u0e49\u0e04\u0e33\u0e2a\u0e31\u0e48\u0e07 `\u0e2a\u0e15\u0e23\u0e34\u0e07\u0e40\u0e0a\u0e37\u0e48\u0e2d\u0e21.join(\u0e25\u0e34\u0e2a\u0e15\u0e4c\u0e02\u0e2d\u0e07\u0e2a\u0e15\u0e23\u0e34\u0e07)` \u0e04\u0e23\u0e31\u0e1a"
   ]
  },
  {
   "cell_type": "code",
   "execution_count": 80,
   "metadata": {
    "id": "QQw8sqm9YU5c"
   },
   "outputs": [
    {
     "name": "stdout",
     "output_type": "stream",
     "text": [
      "hello this is prachya and i am glad to be here\n"
     ]
    }
   ],
   "source": [
    "words = ['hello', 'this', 'is', 'prachya', 'and', 'i', 'am', 'glad', 'to', 'be', 'here']\n",
    "print(' '.join(words))"
   ]
  },
  {
   "cell_type": "markdown",
   "metadata": {
    "id": "OBbs9f7NaSjw"
   },
   "source": [
    "- \u0e2b\u0e32\u0e01\u0e40\u0e23\u0e32\u0e40\u0e0a\u0e37\u0e48\u0e2d\u0e21\u0e25\u0e34\u0e2a\u0e15\u0e4c\u0e02\u0e2d\u0e07\u0e2a\u0e15\u0e23\u0e34\u0e07\u0e14\u0e49\u0e27\u0e22\u0e2a\u0e15\u0e23\u0e34\u0e07\u0e27\u0e48\u0e32\u0e07 \u0e1c\u0e25\u0e17\u0e35\u0e48\u0e44\u0e14\u0e49\u0e04\u0e37\u0e2d\u0e17\u0e38\u0e01\u0e2a\u0e15\u0e23\u0e34\u0e07\u0e43\u0e19\u0e25\u0e34\u0e2a\u0e15\u0e4c\u0e08\u0e30\u0e40\u0e0a\u0e37\u0e48\u0e2d\u0e21\u0e15\u0e34\u0e14\u0e01\u0e31\u0e19\u0e2b\u0e21\u0e14"
   ]
  },
  {
   "cell_type": "code",
   "execution_count": 81,
   "metadata": {
    "id": "ezHbtK4xYdEC"
   },
   "outputs": [
    {
     "name": "stdout",
     "output_type": "stream",
     "text": [
      "hellothisisprachyaandiamgladtobehere\n"
     ]
    }
   ],
   "source": [
    "words = ['hello', 'this', 'is', 'prachya', 'and', 'i', 'am', 'glad', 'to', 'be', 'here']\n",
    "print(''.join(words))"
   ]
  },
  {
   "cell_type": "markdown",
   "metadata": {
    "id": "qkiOE_cYasto"
   },
   "source": [
    "### \u0e01\u0e32\u0e23\u0e01\u0e33\u0e08\u0e31\u0e14\u0e0a\u0e48\u0e2d\u0e07\u0e27\u0e48\u0e32\u0e07\u0e17\u0e35\u0e48\u0e14\u0e49\u0e32\u0e19\u0e0b\u0e49\u0e32\u0e22\u0e41\u0e25\u0e30\u0e02\u0e27\u0e32\u0e02\u0e2d\u0e07\u0e2a\u0e15\u0e23\u0e34\u0e07"
   ]
  },
  {
   "cell_type": "markdown",
   "metadata": {
    "id": "mnz_rDETawUx"
   },
   "source": [
    "- \u0e40\u0e23\u0e32\u0e2a\u0e32\u0e21\u0e32\u0e23\u0e16\u0e01\u0e33\u0e08\u0e31\u0e14\u0e0a\u0e48\u0e2d\u0e07\u0e27\u0e48\u0e32\u0e07\u0e17\u0e35\u0e48\u0e2d\u0e22\u0e39\u0e48\u0e14\u0e49\u0e32\u0e19\u0e0b\u0e49\u0e32\u0e22\u0e41\u0e25\u0e30\u0e02\u0e27\u0e32\u0e02\u0e2d\u0e07\u0e2a\u0e15\u0e23\u0e34\u0e07\u0e44\u0e14\u0e49\u0e14\u0e49\u0e27\u0e22\u0e04\u0e33\u0e2a\u0e31\u0e48\u0e07 `\u0e2a\u0e15\u0e23\u0e34\u0e07.strip()`"
   ]
  },
  {
   "cell_type": "code",
   "execution_count": 82,
   "metadata": {
    "id": "nqzHtyXuaYjn"
   },
   "outputs": [
    {
     "name": "stdout",
     "output_type": "stream",
     "text": [
      "|     In the beginning, there was darkness.      |\n",
      "|In the beginning, there was darkness.|\n"
     ]
    }
   ],
   "source": [
    "text = '     In the beginning, there was darkness.      '\n",
    "print(f'|{text}|')\n",
    "print(f'|{text.strip()}|')"
   ]
  },
  {
   "cell_type": "markdown",
   "metadata": {
    "id": "kFnydllCcRx4"
   },
   "source": [
    "- \u0e04\u0e33\u0e2a\u0e31\u0e48\u0e07\u0e19\u0e35\u0e49\u0e08\u0e30\u0e21\u0e35\u0e1b\u0e23\u0e30\u0e42\u0e22\u0e0a\u0e19\u0e4c\u0e21\u0e32\u0e01 \u0e40\u0e27\u0e25\u0e32\u0e17\u0e35\u0e48\u0e40\u0e23\u0e32\u0e41\u0e15\u0e01\u0e2a\u0e15\u0e23\u0e34\u0e07 \u0e41\u0e25\u0e49\u0e27\u0e19\u0e33\u0e41\u0e15\u0e48\u0e25\u0e30\u0e04\u0e33\u0e17\u0e35\u0e48\u0e44\u0e14\u0e49\u0e21\u0e32\u0e41\u0e1b\u0e25\u0e07\u0e40\u0e1b\u0e47\u0e19\u0e15\u0e31\u0e27\u0e40\u0e25\u0e02 \u0e43\u0e19\u0e01\u0e23\u0e13\u0e35\u0e19\u0e35\u0e49\u0e40\u0e23\u0e32\u0e15\u0e49\u0e2d\u0e07\u0e01\u0e33\u0e08\u0e31\u0e14\u0e0a\u0e48\u0e2d\u0e07\u0e27\u0e48\u0e32\u0e07\u0e0b\u0e49\u0e32\u0e22\u0e02\u0e27\u0e32\u0e14\u0e49\u0e27\u0e22 `strip()` \u0e01\u0e48\u0e2d\u0e19\u0e40\u0e2a\u0e21\u0e2d \u0e44\u0e21\u0e48\u0e40\u0e0a\u0e48\u0e19\u0e19\u0e31\u0e49\u0e19\u0e40\u0e23\u0e32\u0e08\u0e30\u0e44\u0e21\u0e48\u0e2a\u0e32\u0e21\u0e32\u0e23\u0e16\u0e41\u0e1b\u0e25\u0e07\u0e41\u0e15\u0e48\u0e25\u0e30\u0e04\u0e33\u0e40\u0e1b\u0e47\u0e19\u0e15\u0e31\u0e27\u0e40\u0e25\u0e02\u0e44\u0e14\u0e49\u0e40\u0e25\u0e22\n",
    "\n",
    "- \u0e40\u0e0a\u0e48\u0e19 \u0e40\u0e23\u0e32\u0e08\u0e30\u0e2b\u0e32\u0e1c\u0e25\u0e23\u0e27\u0e21\u0e02\u0e2d\u0e07\u0e15\u0e31\u0e27\u0e40\u0e25\u0e02\u0e08\u0e33\u0e19\u0e27\u0e19\u0e40\u0e15\u0e47\u0e21\u0e17\u0e35\u0e48\u0e2d\u0e22\u0e39\u0e48\u0e43\u0e19\u0e2a\u0e15\u0e23\u0e34\u0e07 `number_text`"
   ]
  },
  {
   "cell_type": "code",
   "execution_count": 83,
   "metadata": {
    "id": "TZmNyG3EbDev"
   },
   "outputs": [
    {
     "name": "stdout",
     "output_type": "stream",
     "text": [
      "150\n"
     ]
    }
   ],
   "source": [
    "number_text = '   10   ,    20   ,    30  ,    40  ,    50    '\n",
    "tokens = number_text.split(',')\n",
    "\n",
    "my_sum = 0\n",
    "\n",
    "for token in tokens:\n",
    "    num = token.strip()\n",
    "    my_sum = my_sum + int(num)\n",
    "    \n",
    "print(my_sum)"
   ]
  },
  {
   "cell_type": "markdown",
   "metadata": {
    "id": "Ua2mWP24qi_k"
   },
   "source": [
    "### \u0e41\u0e1a\u0e1a\u0e1d\u0e36\u0e01\u0e2b\u0e31\u0e14 14.2"
   ]
  },
  {
   "cell_type": "markdown",
   "metadata": {
    "id": "HBOpbdeoqm45"
   },
   "source": [
    "\u0e08\u0e07\u0e23\u0e31\u0e1a\u0e15\u0e31\u0e27\u0e40\u0e25\u0e02 1 \u0e15\u0e31\u0e27\u0e08\u0e32\u0e01\u0e1c\u0e39\u0e49\u0e43\u0e0a\u0e49 \u0e41\u0e25\u0e49\u0e27\u0e2a\u0e23\u0e49\u0e32\u0e07\u0e44\u0e1f\u0e25\u0e4c `test_file_3.txt` \u0e14\u0e31\u0e07\u0e15\u0e31\u0e27\u0e2d\u0e22\u0e48\u0e32\u0e07\u0e15\u0e48\u0e2d\u0e44\u0e1b\u0e19\u0e35\u0e49\n",
    "\n",
    "```\n",
    "Enter n: 5\n",
    "```\n",
    "\n",
    "\u0e2a\u0e48\u0e27\u0e19\u0e15\u0e23\u0e07\u0e19\u0e35\u0e49\u0e04\u0e37\u0e2d\u0e40\u0e19\u0e37\u0e49\u0e2d\u0e2b\u0e32\u0e02\u0e2d\u0e07\u0e44\u0e1f\u0e25\u0e4c\u0e17\u0e35\u0e48\u0e44\u0e14\u0e49\u0e08\u0e32\u0e01\u0e04\u0e48\u0e32\u0e2d\u0e34\u0e19\u0e1e\u0e38\u0e15 `n`\n",
    "```\n",
    "50      40      30      20      10      \n",
    "40      30      20      10      \n",
    "30      20      10      \n",
    "20      10      \n",
    "10      \n",
    "```\n",
    "\u0e42\u0e14\u0e22\u0e15\u0e31\u0e27\u0e40\u0e25\u0e02\u0e17\u0e38\u0e01\u0e15\u0e31\u0e27\u0e08\u0e30\u0e15\u0e49\u0e2d\u0e07\u0e21\u0e35\u0e04\u0e27\u0e32\u0e21\u0e01\u0e27\u0e49\u0e32\u0e07 10 \u0e15\u0e31\u0e27\u0e2d\u0e31\u0e01\u0e29\u0e23\u0e0a\u0e34\u0e14\u0e0b\u0e49\u0e32\u0e22"
   ]
  },
  {
   "cell_type": "code",
   "execution_count": 84,
   "metadata": {
    "id": "sSDfuCRBdFDO"
   },
   "outputs": [],
   "source": [
    "n = 5 or int(input('Enter n: '))\n",
    "\n",
    "ofhdl = open('test_file_3.txt', 'w')\n",
    "\n",
    "for i in range(n, 0, -1):\n",
    "    for j in range(i, 0, -1):\n",
    "        ofhdl.write(f'{j*10:<10}')\n",
    "    ofhdl.write('\\n')\n",
    "\n",
    "ofhdl.close()"
   ]
  },
  {
   "cell_type": "markdown",
   "metadata": {
    "id": "6O0vXHUotjEO"
   },
   "source": [
    "\u0e17\u0e48\u0e32\u0e19\u0e2a\u0e32\u0e21\u0e32\u0e23\u0e16\u0e15\u0e23\u0e27\u0e08\u0e2a\u0e2d\u0e1a\u0e1c\u0e25\u0e25\u0e31\u0e1e\u0e18\u0e4c\u0e44\u0e14\u0e49\u0e08\u0e32\u0e01\u0e01\u0e32\u0e23\u0e23\u0e31\u0e19\u0e42\u0e1b\u0e23\u0e41\u0e01\u0e23\u0e21\u0e14\u0e49\u0e32\u0e19\u0e25\u0e48\u0e32\u0e07\u0e19\u0e35\u0e49"
   ]
  },
  {
   "cell_type": "code",
   "execution_count": 85,
   "metadata": {
    "id": "4jyLsDSysG85"
   },
   "outputs": [
    {
     "name": "stdout",
     "output_type": "stream",
     "text": [
      "50        40        30        20        10\n",
      "40        30        20        10\n",
      "30        20        10\n",
      "20        10\n",
      "10\n"
     ]
    }
   ],
   "source": [
    "ifhdl = open('test_file_3.txt', 'r')\n",
    "for line in ifhdl:\n",
    "    print(line.strip())\n",
    "ifhdl.close()"
   ]
  },
  {
   "cell_type": "markdown",
   "metadata": {
    "id": "xReulzuRuIEI"
   },
   "source": [
    "### \u0e41\u0e1a\u0e1a\u0e1d\u0e36\u0e01\u0e2b\u0e31\u0e14 14.3"
   ]
  },
  {
   "cell_type": "markdown",
   "metadata": {
    "id": "SZbI6eDSuK4A"
   },
   "source": [
    "\u0e08\u0e07\u0e2d\u0e48\u0e32\u0e19\u0e44\u0e1f\u0e25\u0e4c `test_file_3.txt` \u0e08\u0e32\u0e01\u0e41\u0e1a\u0e1a\u0e1d\u0e36\u0e01\u0e2b\u0e31\u0e14 14.2 \u0e41\u0e25\u0e49\u0e27\u0e2b\u0e32\u0e1c\u0e25\u0e23\u0e27\u0e21\u0e02\u0e2d\u0e07\u0e15\u0e31\u0e27\u0e40\u0e25\u0e02\u0e43\u0e19\u0e41\u0e15\u0e48\u0e25\u0e30\u0e1a\u0e23\u0e23\u0e17\u0e31\u0e14 \u0e40\u0e0a\u0e48\u0e19 \u0e16\u0e49\u0e32\u0e44\u0e1f\u0e25\u0e4c `test_file_3.txt` \u0e21\u0e35\u0e40\u0e19\u0e37\u0e49\u0e2d\u0e2b\u0e32\u0e40\u0e1b\u0e47\u0e19\u0e14\u0e31\u0e07\u0e19\u0e35\u0e49\n",
    "```\n",
    "50      40      30      20      10      \n",
    "40      30      20      10      \n",
    "30      20      10      \n",
    "20      10      \n",
    "10      \n",
    "```\n",
    "\u0e40\u0e23\u0e32\u0e08\u0e30\u0e44\u0e14\u0e49\u0e1c\u0e25\u0e25\u0e31\u0e1e\u0e18\u0e4c\u0e14\u0e31\u0e07\u0e15\u0e48\u0e2d\u0e44\u0e1b\u0e19\u0e35\u0e49\n",
    "```\n",
    "150\n",
    "100\n",
    "60\n",
    "30\n",
    "10\n",
    "```"
   ]
  },
  {
   "cell_type": "code",
   "execution_count": 86,
   "metadata": {
    "id": "V54V9SaQsOag"
   },
   "outputs": [
    {
     "name": "stdout",
     "output_type": "stream",
     "text": [
      "150\n",
      "100\n",
      "60\n",
      "30\n",
      "10\n"
     ]
    }
   ],
   "source": [
    "ifhdl = open('test_file_3.txt', 'r')\n",
    "\n",
    "# \u0e27\u0e19\u0e25\u0e39\u0e1b\u0e41\u0e15\u0e48\u0e25\u0e30\u0e1a\u0e23\u0e23\u0e17\u0e31\u0e14\u0e43\u0e19\u0e44\u0e1f\u0e25\u0e4c ifhdl\n",
    "for line in ifhdl.readlines():\n",
    "    \n",
    "    # \u0e41\u0e15\u0e01\u0e1a\u0e23\u0e23\u0e17\u0e31\u0e14\u0e2d\u0e2d\u0e01\u0e40\u0e1b\u0e47\u0e19 token \u0e14\u0e49\u0e27\u0e22\u0e04\u0e33\u0e2a\u0e31\u0e48\u0e07 split\n",
    "    tokens = line.strip().split()\n",
    "    \n",
    "    # \u0e15\u0e31\u0e27\u0e41\u0e1b\u0e23\u0e40\u0e01\u0e47\u0e1a\u0e1c\u0e25\u0e23\u0e27\u0e21\u0e23\u0e32\u0e22\u0e1a\u0e23\u0e23\u0e17\u0e31\u0e14\n",
    "    my_sum = 0\n",
    "    \n",
    "    for token in tokens:\n",
    "        \n",
    "        # \u0e41\u0e1b\u0e25\u0e07\u0e41\u0e15\u0e48\u0e25\u0e30\u0e04\u0e33\u0e43\u0e2b\u0e49\u0e01\u0e25\u0e32\u0e22\u0e40\u0e1b\u0e47\u0e19\u0e15\u0e31\u0e27\u0e40\u0e25\u0e02\u0e08\u0e33\u0e19\u0e27\u0e19\u0e40\u0e15\u0e47\u0e21\n",
    "        num = int(token)\n",
    "        \n",
    "        # \u0e04\u0e33\u0e19\u0e27\u0e13\u0e1c\u0e25\u0e23\u0e27\u0e21\u0e02\u0e2d\u0e07\u0e1a\u0e23\u0e23\u0e17\u0e31\u0e14\u0e19\u0e31\u0e49\u0e19\n",
    "        my_sum = my_sum + num\n",
    "        \n",
    "    print(my_sum)\n",
    "\n",
    "ifhdl.close()"
   ]
  },
  {
   "cell_type": "markdown",
   "metadata": {
    "id": "BPikTEkwv2DT"
   },
   "source": [
    "-----"
   ]
  },
  {
   "cell_type": "markdown",
   "metadata": {
    "id": "zrnz5gnsv29o"
   },
   "source": [
    "## \u0e01\u0e34\u0e08\u0e01\u0e23\u0e23\u0e21 15: \u0e1f\u0e31\u0e07\u0e01\u0e4c\u0e0a\u0e31\u0e19"
   ]
  },
  {
   "cell_type": "markdown",
   "metadata": {
    "id": "tNvjq__3v5t9"
   },
   "source": [
    "- \u0e43\u0e19\u0e1a\u0e32\u0e07\u0e04\u0e23\u0e31\u0e49\u0e07\u0e40\u0e23\u0e32\u0e08\u0e33\u0e40\u0e1b\u0e47\u0e19\u0e15\u0e49\u0e2d\u0e07\u0e17\u0e33\u0e01\u0e23\u0e30\u0e1a\u0e27\u0e19\u0e01\u0e32\u0e23\u0e1a\u0e32\u0e07\u0e2d\u0e22\u0e48\u0e32\u0e07\u0e0b\u0e49\u0e33\u0e46 \u0e01\u0e31\u0e19 \u0e41\u0e15\u0e48\u0e27\u0e48\u0e32\u0e40\u0e1b\u0e25\u0e35\u0e48\u0e22\u0e19\u0e04\u0e48\u0e32\u0e15\u0e31\u0e27\u0e41\u0e1b\u0e23\u0e17\u0e35\u0e48\u0e04\u0e27\u0e1a\u0e04\u0e38\u0e21\u0e01\u0e23\u0e30\u0e1a\u0e27\u0e19\u0e01\u0e32\u0e23 (\u0e0b\u0e36\u0e48\u0e07\u0e40\u0e23\u0e35\u0e22\u0e01\u0e27\u0e48\u0e32 *\u0e1e\u0e32\u0e23\u0e32\u0e21\u0e34\u0e40\u0e15\u0e2d\u0e23\u0e4c* \u2013 parameter) \u0e40\u0e2b\u0e25\u0e48\u0e32\u0e19\u0e31\u0e49\u0e19\u0e44\u0e1b\u0e15\u0e32\u0e21\u0e2a\u0e16\u0e32\u0e19\u0e01\u0e32\u0e23\u0e13\u0e4c \u0e17\u0e33\u0e43\u0e2b\u0e49\u0e40\u0e23\u0e32\u0e15\u0e49\u0e2d\u0e07\u0e01\u0e47\u0e2d\u0e1b\u0e1b\u0e35\u0e49\u0e41\u0e1b\u0e30\u0e42\u0e04\u0e49\u0e14\u0e41\u0e25\u0e30\u0e41\u0e01\u0e49\u0e42\u0e04\u0e49\u0e14\u0e0b\u0e49\u0e33\u0e44\u0e1b\u0e0b\u0e49\u0e33\u0e21\u0e32\n",
    "\n",
    "- \u0e01\u0e32\u0e23\u0e01\u0e23\u0e30\u0e17\u0e33\u0e14\u0e31\u0e07\u0e01\u0e25\u0e48\u0e32\u0e27\u0e2d\u0e32\u0e08\u0e01\u0e48\u0e2d\u0e1a\u0e31\u0e4a\u0e01 (bug) \u0e44\u0e14\u0e49\u0e43\u0e19\u0e20\u0e32\u0e22\u0e2b\u0e25\u0e31\u0e07\n",
    "  - \u0e2b\u0e32\u0e01\u0e40\u0e23\u0e32\u0e15\u0e49\u0e2d\u0e07\u0e41\u0e01\u0e49\u0e44\u0e02\u0e01\u0e23\u0e30\u0e1a\u0e27\u0e19\u0e01\u0e32\u0e23\u0e2b\u0e19\u0e36\u0e48\u0e07\u0e08\u0e38\u0e14 \u0e40\u0e23\u0e32\u0e08\u0e30\u0e15\u0e49\u0e2d\u0e07\u0e44\u0e25\u0e48\u0e15\u0e32\u0e21\u0e44\u0e1b\u0e41\u0e01\u0e49\u0e44\u0e02\u0e17\u0e38\u0e01\u0e08\u0e38\u0e14\u0e17\u0e35\u0e48\u0e40\u0e23\u0e32\u0e01\u0e47\u0e2d\u0e1b\u0e1b\u0e35\u0e49\u0e41\u0e1b\u0e30\u0e40\u0e2d\u0e32\u0e44\u0e27\u0e49\u0e43\u0e2b\u0e49\u0e2b\u0e21\u0e14 \u0e44\u0e21\u0e48\u0e40\u0e0a\u0e48\u0e19\u0e19\u0e31\u0e49\u0e19\u0e42\u0e1b\u0e23\u0e41\u0e01\u0e23\u0e21\u0e01\u0e47\u0e08\u0e30\u0e17\u0e33\u0e07\u0e32\u0e19\u0e44\u0e21\u0e48\u0e40\u0e2b\u0e21\u0e37\u0e2d\u0e19\u0e01\u0e31\u0e19 \u0e1b\u0e31\u0e0d\u0e2b\u0e32\u0e19\u0e35\u0e49\u0e40\u0e23\u0e35\u0e22\u0e01\u0e27\u0e48\u0e32 *\u0e1b\u0e31\u0e0d\u0e2b\u0e32\u0e04\u0e27\u0e32\u0e21\u0e44\u0e21\u0e48\u0e40\u0e1b\u0e47\u0e19\u0e2b\u0e19\u0e48\u0e27\u0e22\u0e40\u0e14\u0e35\u0e22\u0e27\u0e01\u0e31\u0e19* (modularity issue)\n",
    "  - \u0e01\u0e23\u0e30\u0e1a\u0e27\u0e19\u0e01\u0e32\u0e23\u0e17\u0e35\u0e48\u0e40\u0e23\u0e32\u0e01\u0e47\u0e2d\u0e1b\u0e1b\u0e35\u0e49\u0e41\u0e1b\u0e30\u0e21\u0e32\u0e19\u0e31\u0e49\u0e19 \u0e21\u0e31\u0e01\u0e08\u0e30\u0e15\u0e48\u0e2d\u0e22\u0e32\u0e27\u0e01\u0e31\u0e19\u0e40\u0e1b\u0e47\u0e19\u0e1e\u0e23\u0e37\u0e14 \u0e2b\u0e32\u0e01\u0e21\u0e32\u0e2d\u0e48\u0e32\u0e19\u0e42\u0e04\u0e49\u0e14\u0e40\u0e2d\u0e07\u0e43\u0e19\u0e20\u0e32\u0e22\u0e2b\u0e25\u0e31\u0e07 \u0e01\u0e47\u0e2d\u0e32\u0e08\u0e08\u0e30\u0e25\u0e37\u0e21\u0e44\u0e1b\u0e41\u0e25\u0e49\u0e27\u0e27\u0e48\u0e32\u0e42\u0e04\u0e49\u0e14\u0e2a\u0e48\u0e27\u0e19\u0e19\u0e35\u0e49\u0e17\u0e33\u0e2b\u0e19\u0e49\u0e32\u0e17\u0e35\u0e48\u0e2d\u0e30\u0e44\u0e23 \u0e1b\u0e31\u0e0d\u0e2b\u0e32\u0e19\u0e35\u0e49\u0e40\u0e23\u0e35\u0e22\u0e01\u0e27\u0e48\u0e32 *\u0e1b\u0e31\u0e0d\u0e2b\u0e32\u0e01\u0e32\u0e23\u0e2d\u0e48\u0e32\u0e19\u0e42\u0e04\u0e49\u0e14\u0e44\u0e21\u0e48\u0e2d\u0e2d\u0e01* (code readability issue)\n",
    "  - \u0e01\u0e32\u0e23\u0e01\u0e47\u0e2d\u0e1b\u0e1b\u0e35\u0e49\u0e41\u0e1b\u0e30\u0e42\u0e04\u0e49\u0e14\u0e0b\u0e49\u0e33\u0e44\u0e1b\u0e0b\u0e49\u0e33\u0e21\u0e32 \u0e17\u0e33\u0e43\u0e2b\u0e49\u0e44\u0e21\u0e48\u0e2a\u0e32\u0e21\u0e32\u0e23\u0e16\u0e40\u0e23\u0e35\u0e22\u0e01\u0e15\u0e31\u0e27\u0e40\u0e2d\u0e07\u0e0b\u0e49\u0e33\u0e41\u0e1a\u0e1a\u0e40\u0e27\u0e35\u0e22\u0e19\u0e40\u0e01\u0e34\u0e14\u0e44\u0e14\u0e49 \u0e1b\u0e31\u0e0d\u0e2b\u0e32\u0e19\u0e35\u0e49\u0e40\u0e23\u0e35\u0e22\u0e01\u0e27\u0e48\u0e32 *\u0e1b\u0e31\u0e0d\u0e2b\u0e32\u0e01\u0e32\u0e23\u0e40\u0e23\u0e35\u0e22\u0e01\u0e15\u0e31\u0e27\u0e40\u0e2d\u0e07\u0e0b\u0e49\u0e33* (self-callability issue)\n",
    "  \n",
    "- \u0e40\u0e1e\u0e37\u0e48\u0e2d\u0e41\u0e01\u0e49\u0e1b\u0e31\u0e0d\u0e2b\u0e32\u0e14\u0e31\u0e07\u0e01\u0e25\u0e48\u0e32\u0e27 \u0e40\u0e23\u0e32\u0e08\u0e30\u0e19\u0e33\u0e01\u0e23\u0e30\u0e1a\u0e27\u0e19\u0e01\u0e32\u0e23\u0e17\u0e35\u0e48\u0e15\u0e49\u0e2d\u0e07\u0e17\u0e33\u0e0b\u0e49\u0e33\u0e46 \u0e41\u0e15\u0e48\u0e40\u0e1b\u0e25\u0e35\u0e48\u0e22\u0e19\u0e04\u0e48\u0e32\u0e15\u0e31\u0e27\u0e41\u0e1b\u0e23\u0e17\u0e35\u0e48\u0e04\u0e27\u0e1a\u0e04\u0e38\u0e21\u0e01\u0e23\u0e30\u0e1a\u0e27\u0e19\u0e01\u0e32\u0e23\u0e40\u0e2b\u0e25\u0e48\u0e32\u0e19\u0e31\u0e49\u0e19 \u0e21\u0e32\u0e23\u0e27\u0e21\u0e01\u0e25\u0e38\u0e48\u0e21\u0e40\u0e1b\u0e47\u0e19<u>**\u0e1f\u0e31\u0e07\u0e01\u0e4c\u0e0a\u0e31\u0e19**</u> (function)"
   ]
  },
  {
   "cell_type": "markdown",
   "metadata": {
    "id": "fUgDz0p-TGVI"
   },
   "source": [
    "### \u0e01\u0e32\u0e23\u0e19\u0e34\u0e22\u0e32\u0e21\u0e1f\u0e31\u0e07\u0e01\u0e4c\u0e0a\u0e31\u0e19"
   ]
  },
  {
   "cell_type": "markdown",
   "metadata": {
    "id": "JRtMKZ51RJYa"
   },
   "source": [
    "- \u0e40\u0e23\u0e32\u0e2a\u0e32\u0e21\u0e32\u0e23\u0e16\u0e19\u0e34\u0e22\u0e32\u0e21\u0e1f\u0e31\u0e07\u0e01\u0e4c\u0e0a\u0e31\u0e19\u0e44\u0e14\u0e49\u0e14\u0e49\u0e27\u0e22\u0e04\u0e33\u0e2a\u0e31\u0e48\u0e07 `def` (\u0e22\u0e48\u0e2d\u0e21\u0e32\u0e08\u0e32\u0e01\u0e04\u0e33\u0e27\u0e48\u0e32 define) \u0e14\u0e31\u0e07\u0e19\u0e35\u0e49\u0e04\u0e23\u0e31\u0e1a\n",
    "```python\n",
    "    def <\u0e0a\u0e37\u0e48\u0e2d\u0e1f\u0e31\u0e07\u0e01\u0e4c\u0e0a\u0e31\u0e19> ( <\u0e23\u0e32\u0e22\u0e01\u0e32\u0e23\u0e1e\u0e32\u0e23\u0e32\u0e21\u0e34\u0e40\u0e15\u0e2d\u0e23\u0e4c> ) :\n",
    "        <\u0e01\u0e23\u0e30\u0e1a\u0e27\u0e19\u0e01\u0e32\u0e23>\n",
    "```\n",
    "\n",
    "- \u0e40\u0e0a\u0e48\u0e19 \u0e40\u0e23\u0e32\u0e2a\u0e32\u0e21\u0e32\u0e23\u0e16\u0e19\u0e34\u0e22\u0e32\u0e21\u0e1f\u0e31\u0e07\u0e01\u0e4c\u0e0a\u0e31\u0e19\u0e2a\u0e33\u0e2b\u0e23\u0e31\u0e1a\u0e23\u0e31\u0e1a\u0e1e\u0e32\u0e23\u0e32\u0e21\u0e34\u0e40\u0e15\u0e2d\u0e23\u0e4c \u0e44\u0e14\u0e49\u0e41\u0e01\u0e48 \u0e0a\u0e37\u0e48\u0e2d\u0e19\u0e31\u0e01\u0e40\u0e23\u0e35\u0e22\u0e19 \u0e2d\u0e32\u0e22\u0e38 \u0e41\u0e25\u0e30\u0e04\u0e27\u0e32\u0e21\u0e2a\u0e39\u0e07 \u0e41\u0e25\u0e49\u0e27\u0e41\u0e2a\u0e14\u0e07\u0e1c\u0e25\u0e2d\u0e2d\u0e01\u0e2b\u0e19\u0e49\u0e32\u0e08\u0e2d \u0e44\u0e14\u0e49\u0e14\u0e31\u0e07\u0e19\u0e35\u0e49"
   ]
  },
  {
   "cell_type": "code",
   "execution_count": 87,
   "metadata": {
    "id": "udYRWf_Pu_LV"
   },
   "outputs": [],
   "source": [
    "def print_student(name, age, height):\n",
    "    print(f'Name   : {name}')\n",
    "    print(f'Age    : {age:d} y/o')\n",
    "    print(f'Height : {height:6.2f} cm')\n",
    "    print()"
   ]
  },
  {
   "cell_type": "markdown",
   "metadata": {
    "id": "oTGjCuqkRqI1"
   },
   "source": [
    "- \u0e40\u0e21\u0e37\u0e48\u0e2d\u0e40\u0e23\u0e32\u0e19\u0e34\u0e22\u0e32\u0e21\u0e1f\u0e31\u0e07\u0e01\u0e4c\u0e0a\u0e31\u0e19\u0e41\u0e25\u0e49\u0e27 \u0e40\u0e23\u0e32\u0e01\u0e47\u0e2a\u0e32\u0e21\u0e32\u0e23\u0e16\u0e40\u0e23\u0e35\u0e22\u0e01\u0e1f\u0e31\u0e07\u0e01\u0e4c\u0e0a\u0e31\u0e19\u0e19\u0e31\u0e49\u0e19\u0e44\u0e14\u0e49\u0e17\u0e31\u0e19\u0e17\u0e35\u0e04\u0e23\u0e31\u0e1a"
   ]
  },
  {
   "cell_type": "code",
   "execution_count": 88,
   "metadata": {
    "colab": {
     "base_uri": "https://localhost:8080/",
     "height": 248
    },
    "id": "rJYExNvRRoSD",
    "outputId": "e20270fd-30a1-427e-e6f4-748e74e8b8f1"
   },
   "outputs": [
    {
     "name": "stdout",
     "output_type": "stream",
     "text": [
      "Name   : John\n",
      "Age    : 13 y/o\n",
      "Height : 165.50 cm\n",
      "\n",
      "Name   : Mary\n",
      "Age    : 14 y/o\n",
      "Height : 173.00 cm\n",
      "\n",
      "Name   : Cindy\n",
      "Age    : 12 y/o\n",
      "Height : 163.50 cm\n",
      "\n"
     ]
    }
   ],
   "source": [
    "student_scores = [\n",
    "    ('John', 13, 165.5), ('Mary', 14, 173.0), ('Cindy', 12, 163.5)\n",
    "]\n",
    "\n",
    "for name, age, height in student_scores:\n",
    "    print_student(name, age, height)"
   ]
  },
  {
   "cell_type": "markdown",
   "metadata": {
    "id": "WwakE4DJTLRL"
   },
   "source": [
    "### \u0e41\u0e1a\u0e1a\u0e1d\u0e36\u0e01\u0e2b\u0e31\u0e14 15.1: \u0e01\u0e32\u0e23\u0e23\u0e27\u0e1a\u0e23\u0e27\u0e21\u0e40\u0e1b\u0e47\u0e19\u0e2b\u0e19\u0e48\u0e27\u0e22\u0e14\u0e49\u0e27\u0e22\u0e1f\u0e31\u0e07\u0e01\u0e4c\u0e0a\u0e31\u0e19"
   ]
  },
  {
   "cell_type": "markdown",
   "metadata": {
    "id": "kV-IUDgmTO-L"
   },
   "source": [
    "\u0e43\u0e19\u0e41\u0e1a\u0e1a\u0e1d\u0e36\u0e01\u0e2b\u0e31\u0e14\u0e19\u0e35\u0e49 \u0e40\u0e23\u0e32\u0e08\u0e30\u0e21\u0e32\u0e2b\u0e31\u0e14\u0e41\u0e22\u0e01\u0e41\u0e22\u0e30\u0e1e\u0e32\u0e23\u0e32\u0e21\u0e34\u0e40\u0e15\u0e2d\u0e23\u0e4c\u0e2d\u0e2d\u0e01\u0e08\u0e32\u0e01\u0e01\u0e23\u0e30\u0e1a\u0e27\u0e19\u0e01\u0e32\u0e23 \u0e40\u0e1e\u0e37\u0e48\u0e2d\u0e21\u0e32\u0e19\u0e34\u0e22\u0e32\u0e21\u0e1f\u0e31\u0e07\u0e01\u0e4c\u0e0a\u0e31\u0e19\u0e01\u0e31\u0e19\u0e04\u0e23\u0e31\u0e1a "
   ]
  },
  {
   "cell_type": "markdown",
   "metadata": {
    "id": "CXZvrgOmXa-8"
   },
   "source": [
    "1. \u0e25\u0e2d\u0e07\u0e2a\u0e31\u0e07\u0e40\u0e01\u0e15\u0e42\u0e04\u0e49\u0e14\u0e14\u0e31\u0e07\u0e15\u0e48\u0e2d\u0e44\u0e1b\u0e19\u0e35\u0e49 \u0e41\u0e25\u0e49\u0e27\u0e41\u0e22\u0e01\u0e41\u0e22\u0e30\u0e1e\u0e32\u0e23\u0e32\u0e21\u0e34\u0e40\u0e15\u0e2d\u0e23\u0e4c\u0e2d\u0e2d\u0e01\u0e21\u0e32\u0e08\u0e32\u0e01\u0e42\u0e04\u0e49\u0e14\u0e17\u0e35\u0e48\u0e0b\u0e49\u0e33\u0e01\u0e31\u0e19\u0e2d\u0e22\u0e39\u0e48"
   ]
  },
  {
   "cell_type": "code",
   "execution_count": 89,
   "metadata": {
    "id": "QH6l-9scSKsV"
   },
   "outputs": [
    {
     "name": "stdout",
     "output_type": "stream",
     "text": [
      "---------------------------------------------------------\n",
      "| Salary                    |                  60000.00 |\n",
      "| Food                      | -10000.00                 |\n",
      "| House mortgage            | -20000.00                 |\n",
      "| Consultancy               |                  20000.00 |\n",
      "| Credit card               | -10000.00                 |\n",
      "---------------------------------------------------------\n",
      "\n",
      "---------------------------------------------------------\n",
      "| Flour                     | -2000.00                  |\n",
      "| Cake sales                |                  30000.00 |\n",
      "| Tea sales                 |                  10000.00 |\n",
      "| Staff salary              | -15000.00                 |\n",
      "| Electricity               | -3000.00                  |\n",
      "---------------------------------------------------------\n",
      "\n"
     ]
    }
   ],
   "source": [
    "house_transactions = [\n",
    "    ('Salary', +60000.0),\n",
    "    ('Food', -10000.0),\n",
    "    ('House mortgage', -20000.0),\n",
    "    ('Consultancy', +20000.0),\n",
    "    ('Credit card', -10000.0)\n",
    "]\n",
    "\n",
    "patisserie_transactions = [\n",
    "    ('Flour', -2000.0),\n",
    "    ('Cake sales', +30000.0),\n",
    "    ('Tea sales', +10000.0),\n",
    "    ('Staff salary', -15000.0),\n",
    "    ('Electricity', -3000.0)\n",
    "]\n",
    "\n",
    "print(57 * '-')\n",
    "for house_item, house_income in house_transactions:\n",
    "    if house_income > 0:\n",
    "        print(f'| {house_item:25} | {house_income:>25.2f} |')\n",
    "    else:\n",
    "        print(f'| {house_item:25} | {house_income:<25.2f} |')\n",
    "print(57 * '-')\n",
    "print()\n",
    "\n",
    "print(57 * '-')\n",
    "for shop_item, shop_income in patisserie_transactions:\n",
    "    if shop_income > 0:\n",
    "        print(f'| {shop_item:25} | {shop_income:>25.2f} |')\n",
    "    else:\n",
    "        print(f'| {shop_item:25} | {shop_income:<25.2f} |')\n",
    "print(57 * '-')\n",
    "print()"
   ]
  },
  {
   "cell_type": "markdown",
   "metadata": {
    "id": "VS9rCQW4XnTk"
   },
   "source": [
    "2. \u0e41\u0e22\u0e01\u0e42\u0e04\u0e49\u0e14\u0e17\u0e35\u0e48\u0e0b\u0e49\u0e33\u0e01\u0e31\u0e19\u0e2d\u0e2d\u0e01\u0e21\u0e32\u0e19\u0e34\u0e22\u0e32\u0e21\u0e40\u0e1b\u0e47\u0e19\u0e1f\u0e31\u0e07\u0e01\u0e4c\u0e0a\u0e31\u0e19\u0e43\u0e2b\u0e21\u0e48 \u0e15\u0e31\u0e49\u0e07\u0e0a\u0e37\u0e48\u0e2d\u0e27\u0e48\u0e32 `print_transactions`"
   ]
  },
  {
   "cell_type": "code",
   "execution_count": 90,
   "metadata": {
    "id": "2NQDhJ8CWc6g"
   },
   "outputs": [],
   "source": [
    "def print_transactions(transactions):\n",
    "    print(57 * '-')\n",
    "    for item, income in transactions:\n",
    "        if income > 0:\n",
    "            print(f'| {item:25} | {income:>25.2f} |')\n",
    "        else:\n",
    "            print(f'| {item:25} | {income:<25.2f} |')\n",
    "    print(57 * '-')\n",
    "    print()"
   ]
  },
  {
   "cell_type": "markdown",
   "metadata": {
    "id": "KwjnPuuRX76W"
   },
   "source": [
    "3. \u0e1b\u0e23\u0e31\u0e1a\u0e1b\u0e23\u0e38\u0e07\u0e42\u0e04\u0e49\u0e14\u0e43\u0e19\u0e02\u0e49\u0e2d 1 \u0e43\u0e2b\u0e49\u0e40\u0e23\u0e35\u0e22\u0e01\u0e43\u0e0a\u0e49\u0e1f\u0e31\u0e07\u0e01\u0e4c\u0e0a\u0e31\u0e19 `print_transactions` \u0e41\u0e17\u0e19"
   ]
  },
  {
   "cell_type": "code",
   "execution_count": 91,
   "metadata": {
    "id": "iSOExISsYG-U"
   },
   "outputs": [
    {
     "name": "stdout",
     "output_type": "stream",
     "text": [
      "---------------------------------------------------------\n",
      "| Salary                    |                  60000.00 |\n",
      "| Food                      | -10000.00                 |\n",
      "| House mortgage            | -20000.00                 |\n",
      "| Consultancy               |                  20000.00 |\n",
      "| Credit card               | -10000.00                 |\n",
      "---------------------------------------------------------\n",
      "\n",
      "---------------------------------------------------------\n",
      "| Flour                     | -2000.00                  |\n",
      "| Cake sales                |                  30000.00 |\n",
      "| Tea sales                 |                  10000.00 |\n",
      "| Staff salary              | -15000.00                 |\n",
      "| Electricity               | -3000.00                  |\n",
      "---------------------------------------------------------\n",
      "\n"
     ]
    }
   ],
   "source": [
    "house_transactions = [\n",
    "    ('Salary', +60000.0),\n",
    "    ('Food', -10000.0),\n",
    "    ('House mortgage', -20000.0),\n",
    "    ('Consultancy', +20000.0),\n",
    "    ('Credit card', -10000.0)\n",
    "]\n",
    "\n",
    "patisserie_transactions = [\n",
    "    ('Flour', -2000.0),\n",
    "    ('Cake sales', +30000.0),\n",
    "    ('Tea sales', +10000.0),\n",
    "    ('Staff salary', -15000.0),\n",
    "    ('Electricity', -3000.0)\n",
    "]\n",
    "\n",
    "print_transactions(house_transactions) # \u0e40\u0e15\u0e34\u0e21\u0e42\u0e04\u0e49\u0e14\u0e17\u0e35\u0e48\u0e19\u0e35\u0e48\n",
    "print_transactions(patisserie_transactions) # \u0e40\u0e15\u0e34\u0e21\u0e42\u0e04\u0e49\u0e14\u0e17\u0e35\u0e48\u0e19\u0e35\u0e48"
   ]
  },
  {
   "cell_type": "markdown",
   "metadata": {
    "id": "jw1U3_pXfsLU"
   },
   "source": [
    "### \u0e01\u0e32\u0e23\u0e04\u0e37\u0e19\u0e04\u0e48\u0e32\u0e08\u0e32\u0e01\u0e1f\u0e31\u0e07\u0e01\u0e4c\u0e0a\u0e31\u0e19\u0e14\u0e49\u0e27\u0e22\u0e04\u0e33\u0e2a\u0e31\u0e48\u0e07 `return`"
   ]
  },
  {
   "cell_type": "markdown",
   "metadata": {
    "id": "QjE7ofI4fzgp"
   },
   "source": [
    "- \u0e19\u0e2d\u0e01\u0e08\u0e32\u0e01\u0e1f\u0e31\u0e07\u0e01\u0e4c\u0e0a\u0e31\u0e19\u0e08\u0e30\u0e23\u0e27\u0e1a\u0e23\u0e27\u0e21\u0e01\u0e23\u0e30\u0e1a\u0e27\u0e19\u0e01\u0e32\u0e23\u0e43\u0e2b\u0e49\u0e40\u0e1b\u0e47\u0e19\u0e2b\u0e19\u0e48\u0e27\u0e22\u0e40\u0e14\u0e35\u0e22\u0e27\u0e44\u0e14\u0e49\u0e41\u0e25\u0e49\u0e27 \u0e40\u0e23\u0e32\u0e22\u0e31\u0e07\u0e2a\u0e32\u0e21\u0e32\u0e23\u0e16\u0e01\u0e33\u0e2b\u0e19\u0e14\u0e43\u0e2b\u0e49\u0e1f\u0e31\u0e07\u0e01\u0e4c\u0e0a\u0e31\u0e19\u0e17\u0e33\u0e01\u0e32\u0e23\u0e04\u0e33\u0e19\u0e27\u0e13\u0e1a\u0e32\u0e07\u0e2d\u0e22\u0e48\u0e32\u0e07\u0e43\u0e19\u0e01\u0e23\u0e30\u0e1a\u0e27\u0e19\u0e01\u0e32\u0e23 \u0e41\u0e25\u0e49\u0e27\u0e04\u0e37\u0e19\u0e04\u0e48\u0e32\u0e1c\u0e25\u0e25\u0e31\u0e1e\u0e18\u0e4c\u0e01\u0e25\u0e31\u0e1a\u0e2d\u0e2d\u0e01\u0e21\u0e32\u0e44\u0e14\u0e49\u0e2d\u0e35\u0e01\u0e14\u0e49\u0e27\u0e22\n",
    "\n",
    "- \u0e40\u0e23\u0e32\u0e2a\u0e32\u0e21\u0e32\u0e23\u0e16\u0e2a\u0e31\u0e48\u0e07\u0e43\u0e2b\u0e49\u0e1f\u0e31\u0e07\u0e01\u0e4c\u0e0a\u0e31\u0e19\u0e2b\u0e22\u0e38\u0e14\u0e01\u0e32\u0e23\u0e17\u0e33\u0e07\u0e32\u0e19\u0e41\u0e25\u0e30\u0e04\u0e37\u0e19\u0e04\u0e48\u0e32\u0e01\u0e25\u0e31\u0e1a\u0e2d\u0e2d\u0e01\u0e21\u0e32\u0e44\u0e14\u0e49\u0e14\u0e49\u0e27\u0e22\u0e04\u0e33\u0e2a\u0e31\u0e48\u0e07 `return` \u0e42\u0e14\u0e22\u0e21\u0e35\u0e23\u0e39\u0e1b\u0e41\u0e1a\u0e1a\u0e04\u0e37\u0e2d\n",
    "```python\n",
    "    return <\u0e04\u0e48\u0e32\u0e17\u0e35\u0e48\u0e04\u0e37\u0e19\u0e01\u0e25\u0e31\u0e1a\u0e44\u0e1b>\n",
    "```\n",
    "\n",
    "- \u0e40\u0e0a\u0e48\u0e19 \u0e40\u0e23\u0e32\u0e2a\u0e32\u0e21\u0e32\u0e23\u0e16\u0e40\u0e02\u0e35\u0e22\u0e19\u0e1f\u0e31\u0e07\u0e01\u0e4c\u0e0a\u0e31\u0e19\u0e43\u0e2b\u0e49\u0e04\u0e33\u0e19\u0e27\u0e13\u0e04\u0e48\u0e32\u0e40\u0e09\u0e25\u0e35\u0e48\u0e22 (average) \u0e02\u0e2d\u0e07\u0e2a\u0e21\u0e32\u0e0a\u0e34\u0e01\u0e43\u0e19\u0e25\u0e34\u0e2a\u0e15\u0e4c \u0e41\u0e25\u0e49\u0e27\u0e04\u0e37\u0e19\u0e04\u0e48\u0e32\u0e40\u0e09\u0e25\u0e35\u0e48\u0e22\u0e19\u0e31\u0e49\u0e19\u0e01\u0e25\u0e31\u0e1a\u0e2d\u0e2d\u0e01\u0e44\u0e1b\u0e44\u0e14\u0e49\u0e14\u0e31\u0e07\u0e19\u0e35\u0e49\u0e04\u0e23\u0e31\u0e1a"
   ]
  },
  {
   "cell_type": "code",
   "execution_count": 92,
   "metadata": {
    "id": "kwoid2Rtgqha"
   },
   "outputs": [],
   "source": [
    "def average(items):\n",
    "    my_sum = 0.0\n",
    "    for item in items:\n",
    "        my_sum = my_sum + item\n",
    "    return my_sum / len(items)"
   ]
  },
  {
   "cell_type": "markdown",
   "metadata": {
    "id": "AXo8ndwPgzG7"
   },
   "source": [
    "- \u0e40\u0e23\u0e32\u0e2a\u0e32\u0e21\u0e32\u0e23\u0e16\u0e19\u0e33\u0e04\u0e48\u0e32\u0e17\u0e35\u0e48\u0e1f\u0e31\u0e07\u0e01\u0e4c\u0e0a\u0e31\u0e19\u0e04\u0e37\u0e19\u0e01\u0e25\u0e31\u0e1a\u0e2d\u0e2d\u0e01\u0e21\u0e32\u0e44\u0e1b\u0e43\u0e0a\u0e49\u0e15\u0e48\u0e2d\u0e44\u0e14\u0e49\u0e17\u0e31\u0e19\u0e17\u0e35"
   ]
  },
  {
   "cell_type": "code",
   "execution_count": 93,
   "metadata": {
    "colab": {
     "base_uri": "https://localhost:8080/",
     "height": 56
    },
    "id": "Rx5ryZgcg8kS",
    "outputId": "17882591-32bd-4b75-db9f-0def122b0f40"
   },
   "outputs": [
    {
     "name": "stdout",
     "output_type": "stream",
     "text": [
      "The average of student heights is   162.35.\n"
     ]
    }
   ],
   "source": [
    "student_heights = [163.5, 150.0, 167.0, 161.25, 170.0]\n",
    "\n",
    "avg = average(student_heights)\n",
    "\n",
    "print(f'The average of student heights is {avg:8.2f}.')"
   ]
  },
  {
   "cell_type": "markdown",
   "metadata": {
    "id": "JdACrGiohrRV"
   },
   "source": [
    "### \u0e41\u0e1a\u0e1a\u0e1d\u0e36\u0e01\u0e2b\u0e31\u0e14 15.2"
   ]
  },
  {
   "cell_type": "markdown",
   "metadata": {
    "id": "JOdH_bwwh1In"
   },
   "source": [
    "\u0e04\u0e48\u0e32\u0e04\u0e27\u0e32\u0e21\u0e41\u0e1b\u0e23\u0e1b\u0e23\u0e27\u0e19 (variance) \u0e40\u0e1b\u0e47\u0e19\u0e21\u0e32\u0e15\u0e23\u0e27\u0e31\u0e14\u0e17\u0e32\u0e07\u0e2a\u0e16\u0e34\u0e15\u0e34\u0e40\u0e1e\u0e37\u0e48\u0e2d\u0e1a\u0e2d\u0e01\u0e27\u0e48\u0e32 \u0e02\u0e49\u0e2d\u0e21\u0e39\u0e25\u0e02\u0e2d\u0e07\u0e40\u0e23\u0e32\u0e01\u0e23\u0e30\u0e08\u0e31\u0e14\u0e01\u0e23\u0e30\u0e08\u0e32\u0e22\u0e21\u0e32\u0e01\u0e41\u0e04\u0e48\u0e44\u0e2b\u0e19 \u0e42\u0e14\u0e22\u0e40\u0e17\u0e35\u0e22\u0e1a\u0e08\u0e32\u0e01\u0e1c\u0e25\u0e23\u0e27\u0e21\u0e02\u0e2d\u0e07*\u0e23\u0e30\u0e22\u0e30\u0e2b\u0e48\u0e32\u0e07*\u0e23\u0e30\u0e2b\u0e27\u0e48\u0e32\u0e07\u0e02\u0e49\u0e2d\u0e21\u0e39\u0e25\u0e41\u0e15\u0e48\u0e25\u0e30\u0e15\u0e31\u0e27\u0e01\u0e31\u0e1a\u0e04\u0e48\u0e32\u0e40\u0e09\u0e25\u0e35\u0e48\u0e22 \u0e23\u0e30\u0e22\u0e30\u0e2b\u0e48\u0e32\u0e07\u0e15\u0e31\u0e27\u0e19\u0e35\u0e49\u0e04\u0e33\u0e19\u0e27\u0e13\u0e44\u0e14\u0e49\u0e08\u0e32\u0e01\u0e01\u0e32\u0e23\u0e19\u0e33\u0e02\u0e49\u0e2d\u0e21\u0e39\u0e25\u0e01\u0e31\u0e1a\u0e04\u0e48\u0e32\u0e40\u0e09\u0e25\u0e35\u0e48\u0e22\u0e21\u0e32\u0e25\u0e1a\u0e01\u0e31\u0e19\u0e41\u0e25\u0e49\u0e27\u0e22\u0e01\u0e01\u0e33\u0e25\u0e31\u0e07 2 \u0e19\u0e31\u0e48\u0e19\u0e40\u0e2d\u0e07\u0e04\u0e23\u0e31\u0e1a\n",
    "\n",
    "\u0e08\u0e07\u0e19\u0e34\u0e22\u0e32\u0e21\u0e1f\u0e31\u0e07\u0e01\u0e4c\u0e0a\u0e31\u0e19\u0e17\u0e35\u0e48\u0e04\u0e33\u0e19\u0e27\u0e13\u0e04\u0e48\u0e32\u0e04\u0e27\u0e32\u0e21\u0e41\u0e1b\u0e23\u0e1b\u0e23\u0e27\u0e19\u0e02\u0e2d\u0e07\u0e02\u0e49\u0e2d\u0e21\u0e39\u0e25 $x_1, x_2, x_3, \\ldots, x_N$ \u0e0b\u0e36\u0e48\u0e07\u0e01\u0e32\u0e23\u0e04\u0e33\u0e19\u0e27\u0e13\u0e08\u0e30\u0e40\u0e1b\u0e47\u0e19\u0e44\u0e1b\u0e15\u0e32\u0e21\u0e2a\u0e39\u0e15\u0e23\u0e15\u0e48\u0e2d\u0e44\u0e1b\u0e19\u0e35\u0e49\n",
    "\n",
    "$$\n",
    "\\mathrm{Var}(x_1, x_2, x_3, \\ldots, x_N) = \\frac{1}{N - 1} \\sum_{k = 1}^{N} \\left( x_k - \\bar{x} \\right)^2\n",
    "$$\n",
    "\n",
    "\u0e40\u0e21\u0e37\u0e48\u0e2d $\\bar{x}$ \u0e04\u0e37\u0e2d\u0e04\u0e48\u0e32\u0e40\u0e09\u0e25\u0e35\u0e48\u0e22\u0e02\u0e2d\u0e07\u0e02\u0e49\u0e2d\u0e21\u0e39\u0e25 \u0e0b\u0e36\u0e48\u0e07\u0e2a\u0e32\u0e21\u0e32\u0e23\u0e16\u0e04\u0e33\u0e19\u0e27\u0e13\u0e44\u0e14\u0e49\u0e08\u0e32\u0e01\u0e1f\u0e31\u0e07\u0e01\u0e4c\u0e0a\u0e31\u0e19 `average` \u0e0b\u0e36\u0e48\u0e07\u0e44\u0e14\u0e49\u0e40\u0e15\u0e23\u0e35\u0e22\u0e21\u0e44\u0e27\u0e49\u0e43\u0e2b\u0e49\u0e41\u0e25\u0e49\u0e27\u0e04\u0e23\u0e31\u0e1a\n",
    "\n",
    "<u>**\u0e04\u0e33\u0e40\u0e15\u0e37\u0e2d\u0e19:**</u> \u0e40\u0e21\u0e37\u0e48\u0e2d\u0e04\u0e33\u0e19\u0e27\u0e13\u0e04\u0e48\u0e32\u0e04\u0e27\u0e32\u0e21\u0e41\u0e1b\u0e23\u0e1b\u0e23\u0e27\u0e19\u0e44\u0e14\u0e49\u0e41\u0e25\u0e49\u0e27 \u0e2d\u0e22\u0e48\u0e32\u0e25\u0e37\u0e21\u0e43\u0e0a\u0e49\u0e04\u0e33\u0e2a\u0e31\u0e48\u0e07 `return` \u0e40\u0e1e\u0e37\u0e48\u0e2d\u0e04\u0e37\u0e19\u0e1c\u0e25\u0e25\u0e31\u0e1e\u0e18\u0e4c\u0e2d\u0e2d\u0e01\u0e44\u0e1b\u0e14\u0e49\u0e27\u0e22\u0e19\u0e30\u0e04\u0e23\u0e31\u0e1a"
   ]
  },
  {
   "cell_type": "code",
   "execution_count": 94,
   "metadata": {
    "id": "_gxD-7Kxi_34"
   },
   "outputs": [],
   "source": [
    "# \u0e1f\u0e31\u0e07\u0e01\u0e4c\u0e0a\u0e31\u0e19\u0e2a\u0e33\u0e2b\u0e23\u0e31\u0e1a\u0e04\u0e33\u0e19\u0e27\u0e13\u0e04\u0e48\u0e32\u0e40\u0e09\u0e25\u0e35\u0e48\u0e22\n",
    "def average(items):\n",
    "    my_sum = 0.0\n",
    "    for item in items:\n",
    "        my_sum = my_sum + item\n",
    "    return my_sum / len(items)\n",
    "\n",
    "# \u0e1f\u0e31\u0e07\u0e01\u0e4c\u0e0a\u0e31\u0e19\u0e2a\u0e33\u0e2b\u0e23\u0e31\u0e1a\u0e04\u0e33\u0e19\u0e27\u0e13\u0e04\u0e48\u0e32\u0e04\u0e27\u0e32\u0e21\u0e41\u0e1b\u0e23\u0e1b\u0e23\u0e27\u0e19\n",
    "def variance(items):\n",
    "    return (1/len(items)) * sum([(item - average(items))**2 for item in items])"
   ]
  },
  {
   "cell_type": "markdown",
   "metadata": {
    "id": "-XET9FzYjlpF"
   },
   "source": [
    "\u0e40\u0e21\u0e37\u0e48\u0e2d\u0e40\u0e02\u0e35\u0e22\u0e19\u0e42\u0e1b\u0e23\u0e41\u0e01\u0e23\u0e21\u0e40\u0e2a\u0e23\u0e47\u0e08\u0e41\u0e25\u0e49\u0e27 \u0e17\u0e48\u0e32\u0e19\u0e2a\u0e32\u0e21\u0e32\u0e23\u0e16\u0e17\u0e14\u0e2a\u0e2d\u0e1a\u0e42\u0e1b\u0e23\u0e41\u0e01\u0e23\u0e21\u0e44\u0e14\u0e49\u0e15\u0e23\u0e07\u0e19\u0e35\u0e49\u0e04\u0e23\u0e31\u0e1a"
   ]
  },
  {
   "cell_type": "code",
   "execution_count": 95,
   "metadata": {
    "id": "4zItbQx1jqNF"
   },
   "outputs": [
    {
     "name": "stdout",
     "output_type": "stream",
     "text": [
      "The average of student heights is   162.35.\n",
      "The variance of student heights is    47.04.\n"
     ]
    }
   ],
   "source": [
    "student_heights = [163.5, 150.0, 167.0, 161.25, 170.0]\n",
    "\n",
    "avg = average(student_heights)\n",
    "var = variance(student_heights)\n",
    "\n",
    "print(f'The average of student heights is {avg:8.2f}.')\n",
    "print(f'The variance of student heights is {var:8.2f}.')"
   ]
  },
  {
   "cell_type": "markdown",
   "metadata": {
    "id": "b13erL1JmDA5"
   },
   "source": [
    "### \u0e01\u0e32\u0e23\u0e2b\u0e22\u0e38\u0e14\u0e01\u0e32\u0e23\u0e17\u0e33\u0e07\u0e32\u0e19\u0e02\u0e2d\u0e07\u0e1f\u0e31\u0e07\u0e01\u0e4c\u0e0a\u0e31\u0e19\u0e14\u0e49\u0e27\u0e22\u0e04\u0e33\u0e2a\u0e31\u0e48\u0e07 `return`"
   ]
  },
  {
   "cell_type": "markdown",
   "metadata": {
    "id": "A89hgqVSmGoS"
   },
   "source": [
    "- \u0e40\u0e23\u0e32\u0e2a\u0e32\u0e21\u0e32\u0e23\u0e16\u0e2b\u0e22\u0e38\u0e14\u0e01\u0e32\u0e23\u0e17\u0e33\u0e07\u0e32\u0e19\u0e02\u0e2d\u0e07\u0e1f\u0e31\u0e07\u0e01\u0e4c\u0e0a\u0e31\u0e19\u0e01\u0e25\u0e32\u0e07\u0e04\u0e31\u0e19\u0e44\u0e14\u0e49 \u0e14\u0e49\u0e27\u0e22\u0e04\u0e33\u0e2a\u0e31\u0e48\u0e07 `return` \u0e42\u0e14\u0e22\u0e42\u0e1b\u0e23\u0e41\u0e01\u0e23\u0e21\u0e08\u0e30\u0e2d\u0e2d\u0e01\u0e08\u0e32\u0e01\u0e1f\u0e31\u0e07\u0e01\u0e4c\u0e0a\u0e31\u0e19\u0e17\u0e31\u0e19\u0e17\u0e35\u0e04\u0e23\u0e31\u0e1a\n",
    "\n",
    "- \u0e08\u0e23\u0e34\u0e07\u0e46 \u0e41\u0e25\u0e49\u0e27\u0e43\u0e19\u0e04\u0e33\u0e2a\u0e31\u0e48\u0e07 `return` \u0e19\u0e35\u0e49\u0e40\u0e23\u0e32\u0e2d\u0e32\u0e08\u0e08\u0e30\u0e43\u0e2a\u0e48\u0e04\u0e48\u0e32\u0e17\u0e35\u0e48\u0e04\u0e37\u0e19\u0e01\u0e25\u0e31\u0e1a\u0e44\u0e1b\u0e01\u0e47\u0e44\u0e14\u0e49 \u0e2b\u0e23\u0e37\u0e2d\u0e44\u0e21\u0e48\u0e43\u0e2a\u0e48\u0e25\u0e07\u0e44\u0e1b\u0e01\u0e47\u0e44\u0e14\u0e49\n",
    "  - \u0e2b\u0e32\u0e01\u0e44\u0e21\u0e48\u0e43\u0e2a\u0e48\u0e04\u0e48\u0e32\u0e04\u0e37\u0e19\u0e01\u0e25\u0e31\u0e1a \u0e42\u0e1b\u0e23\u0e41\u0e01\u0e23\u0e21\u0e01\u0e47\u0e40\u0e1e\u0e35\u0e22\u0e07\u0e2b\u0e22\u0e38\u0e14\u0e01\u0e32\u0e23\u0e17\u0e33\u0e07\u0e32\u0e19\u0e02\u0e2d\u0e07\u0e1f\u0e31\u0e07\u0e01\u0e4c\u0e0a\u0e31\u0e19 \u0e41\u0e25\u0e49\u0e27\u0e22\u0e49\u0e2d\u0e19\u0e01\u0e25\u0e31\u0e1a\u0e44\u0e1b\u0e17\u0e35\u0e48\u0e08\u0e38\u0e14\u0e40\u0e14\u0e34\u0e21\u0e17\u0e35\u0e48\u0e40\u0e23\u0e35\u0e22\u0e01\u0e1f\u0e31\u0e07\u0e01\u0e4c\u0e0a\u0e31\u0e19\u0e19\u0e31\u0e49\u0e19\n",
    "  - \u0e41\u0e15\u0e48\u0e16\u0e49\u0e32\u0e2b\u0e32\u0e01\u0e43\u0e2a\u0e48\u0e04\u0e48\u0e32\u0e04\u0e37\u0e19\u0e01\u0e25\u0e31\u0e1a \u0e42\u0e1b\u0e23\u0e41\u0e01\u0e23\u0e21\u0e01\u0e47\u0e08\u0e30\u0e2b\u0e22\u0e38\u0e14\u0e01\u0e32\u0e23\u0e17\u0e33\u0e07\u0e32\u0e19\u0e02\u0e2d\u0e07\u0e1f\u0e31\u0e07\u0e01\u0e4c\u0e0a\u0e31\u0e19 \u0e41\u0e25\u0e49\u0e27\u0e22\u0e49\u0e2d\u0e19\u0e01\u0e25\u0e31\u0e1a\u0e44\u0e1b\u0e17\u0e35\u0e48\u0e08\u0e38\u0e14\u0e40\u0e14\u0e34\u0e21\u0e1e\u0e23\u0e49\u0e2d\u0e21\u0e01\u0e31\u0e1a\u0e43\u0e2a\u0e48\u0e04\u0e48\u0e32\u0e04\u0e37\u0e19\u0e01\u0e25\u0e31\u0e1a\u0e17\u0e35\u0e48\u0e15\u0e33\u0e41\u0e2b\u0e19\u0e48\u0e07\u0e02\u0e2d\u0e07\u0e1f\u0e31\u0e07\u0e01\u0e4c\u0e0a\u0e31\u0e19\u0e19\u0e31\u0e49\u0e19"
   ]
  },
  {
   "cell_type": "markdown",
   "metadata": {
    "id": "J2jqGiEmoWSO"
   },
   "source": [
    "- \u0e40\u0e23\u0e32\u0e21\u0e32\u0e25\u0e2d\u0e07\u0e2a\u0e31\u0e07\u0e40\u0e01\u0e15\u0e1f\u0e31\u0e07\u0e01\u0e4c\u0e0a\u0e31\u0e19\u0e14\u0e31\u0e07\u0e15\u0e48\u0e2d\u0e44\u0e1b\u0e19\u0e35\u0e49\u0e01\u0e31\u0e19 \u0e1f\u0e31\u0e07\u0e01\u0e4c\u0e0a\u0e31\u0e19\u0e19\u0e35\u0e49\u0e08\u0e30\u0e04\u0e33\u0e19\u0e27\u0e13\u0e04\u0e48\u0e32 factorial \u0e02\u0e2d\u0e07\u0e08\u0e33\u0e19\u0e27\u0e19\u0e40\u0e15\u0e47\u0e21 $ n $ \u0e0b\u0e36\u0e48\u0e07\u0e41\u0e17\u0e19\u0e14\u0e49\u0e27\u0e22\u0e2a\u0e31\u0e0d\u0e25\u0e31\u0e01\u0e29\u0e13\u0e4c $ n! $ \u0e42\u0e14\u0e22\u0e2a\u0e39\u0e15\u0e23\u0e01\u0e32\u0e23\u0e04\u0e33\u0e19\u0e27\u0e13\u0e08\u0e30\u0e40\u0e1b\u0e47\u0e19\u0e14\u0e31\u0e07\u0e19\u0e35\u0e49\n",
    "\n",
    "$$\n",
    "\\begin{eqnarray}\n",
    "0! & = & 1 \\\\\n",
    "1! & = & 1 \\\\\n",
    "n! & = & 1 \\times 2 \\times 3 \\times \\ldots \\times n \\qquad \\textrm{\u0e40\u0e21\u0e37\u0e48\u0e2d $n > 1$}\n",
    "\\end{eqnarray}\n",
    "$$\n",
    "\n",
    "- \u0e2b\u0e32\u0e01\u0e40\u0e23\u0e32\u0e43\u0e2a\u0e48\u0e1e\u0e32\u0e23\u0e32\u0e21\u0e34\u0e40\u0e15\u0e2d\u0e23\u0e4c `n` \u0e40\u0e1b\u0e47\u0e19 0 \u0e2b\u0e23\u0e37\u0e2d 1 \u0e1f\u0e31\u0e07\u0e01\u0e4c\u0e0a\u0e31\u0e19\u0e19\u0e35\u0e49\u0e08\u0e30\u0e04\u0e37\u0e19\u0e04\u0e48\u0e32 1 \u0e2d\u0e2d\u0e01\u0e44\u0e1b\u0e41\u0e25\u0e49\u0e27\u0e2b\u0e22\u0e38\u0e14\u0e17\u0e33\u0e07\u0e32\u0e19\u0e17\u0e31\u0e19\u0e17\u0e35\u0e04\u0e23\u0e31\u0e1a"
   ]
  },
  {
   "cell_type": "code",
   "execution_count": 96,
   "metadata": {
    "id": "Ozi0X0NfnWv-"
   },
   "outputs": [],
   "source": [
    "# \u0e04\u0e33\u0e19\u0e27\u0e13\u0e04\u0e48\u0e32 factorial \u0e02\u0e2d\u0e07\u0e08\u0e33\u0e19\u0e27\u0e19\u0e40\u0e15\u0e47\u0e21 n\n",
    "def factorial(n):\n",
    "    \n",
    "    # \u0e2b\u0e32\u0e01\u0e04\u0e48\u0e32 n \u0e40\u0e1b\u0e47\u0e19 0 \u0e2b\u0e23\u0e37\u0e2d 1\n",
    "    if n in [0, 1]:\n",
    "        # \u0e43\u0e2b\u0e49\u0e04\u0e37\u0e19\u0e04\u0e48\u0e32 1 \u0e01\u0e25\u0e31\u0e1a\u0e44\u0e1b \u0e41\u0e25\u0e49\u0e27\u0e2b\u0e22\u0e38\u0e14\u0e01\u0e32\u0e23\u0e17\u0e33\u0e07\u0e32\u0e19\u0e17\u0e31\u0e19\u0e17\u0e35\n",
    "        return 1\n",
    "    \n",
    "    # \u0e27\u0e19\u0e25\u0e39\u0e1b\u0e04\u0e39\u0e13\u0e40\u0e25\u0e02\n",
    "    result = 1.0\n",
    "    for i in range(2, n + 1):\n",
    "        result = result * i\n",
    "        \n",
    "    # \u0e04\u0e37\u0e19\u0e1c\u0e25\u0e25\u0e31\u0e1e\u0e18\u0e4c\u0e01\u0e25\u0e31\u0e1a\u0e2d\u0e2d\u0e01\u0e44\u0e1b\n",
    "    return result"
   ]
  },
  {
   "cell_type": "markdown",
   "metadata": {
    "id": "5bHzODHlpI3O"
   },
   "source": [
    "- \u0e40\u0e23\u0e32\u0e21\u0e32\u0e25\u0e2d\u0e07\u0e17\u0e14\u0e2a\u0e2d\u0e1a\u0e1f\u0e31\u0e07\u0e01\u0e4c\u0e0a\u0e31\u0e19 `factorial` \u0e01\u0e31\u0e19\u0e04\u0e23\u0e31\u0e1a"
   ]
  },
  {
   "cell_type": "code",
   "execution_count": 97,
   "metadata": {
    "colab": {
     "base_uri": "https://localhost:8080/",
     "height": 73
    },
    "id": "5Awz4T1_oji4",
    "outputId": "cd2672a7-8546-42c5-8f24-37a69cf8f929"
   },
   "outputs": [
    {
     "name": "stdout",
     "output_type": "stream",
     "text": [
      "1\n",
      "2.43290200817664e+18\n"
     ]
    }
   ],
   "source": [
    "print(factorial(0))\n",
    "print(factorial(20))"
   ]
  },
  {
   "cell_type": "markdown",
   "metadata": {
    "id": "MLLw-HqlpVBt"
   },
   "source": [
    "- \u0e43\u0e19\u0e01\u0e23\u0e13\u0e35\u0e17\u0e35\u0e48\u0e1f\u0e31\u0e07\u0e01\u0e4c\u0e0a\u0e31\u0e19\u0e40\u0e1b\u0e47\u0e19\u0e40\u0e1e\u0e35\u0e22\u0e07\u0e01\u0e32\u0e23\u0e23\u0e27\u0e1a\u0e23\u0e27\u0e21\u0e01\u0e23\u0e30\u0e1a\u0e27\u0e19\u0e01\u0e32\u0e23\u0e43\u0e2b\u0e49\u0e40\u0e1b\u0e47\u0e19\u0e2b\u0e19\u0e48\u0e27\u0e22 \u0e44\u0e21\u0e48\u0e44\u0e14\u0e49\u0e21\u0e35\u0e08\u0e38\u0e14\u0e1b\u0e23\u0e30\u0e2a\u0e07\u0e04\u0e4c\u0e08\u0e30\u0e04\u0e37\u0e19\u0e04\u0e48\u0e32\u0e01\u0e25\u0e31\u0e1a\u0e2d\u0e2d\u0e01\u0e44\u0e1b \u0e40\u0e23\u0e32\u0e01\u0e47\u0e22\u0e31\u0e07\u0e2a\u0e32\u0e21\u0e32\u0e23\u0e16\u0e43\u0e0a\u0e49\u0e04\u0e33\u0e2a\u0e31\u0e48\u0e07 `return` \u0e44\u0e14\u0e49\u0e14\u0e49\u0e27\u0e22 \u0e40\u0e1e\u0e35\u0e22\u0e07\u0e41\u0e15\u0e48\u0e40\u0e23\u0e32\u0e44\u0e21\u0e48\u0e15\u0e49\u0e2d\u0e07\u0e23\u0e30\u0e1a\u0e38\u0e04\u0e48\u0e32\u0e04\u0e37\u0e19\u0e01\u0e25\u0e31\u0e1a\u0e40\u0e17\u0e48\u0e32\u0e19\u0e31\u0e49\u0e19\u0e40\u0e2d\u0e07\u0e04\u0e23\u0e31\u0e1a\n",
    "\n",
    "- \u0e43\u0e19\u0e1f\u0e31\u0e07\u0e01\u0e4c\u0e0a\u0e31\u0e19\u0e14\u0e49\u0e32\u0e19\u0e25\u0e48\u0e32\u0e07\u0e19\u0e35\u0e49 \u0e16\u0e49\u0e32\u0e2b\u0e32\u0e01\u0e1e\u0e32\u0e23\u0e32\u0e21\u0e34\u0e40\u0e15\u0e2d\u0e23\u0e4c `age` \u0e21\u0e35\u0e04\u0e48\u0e32 60 \u0e02\u0e36\u0e49\u0e19\u0e44\u0e1b \u0e1f\u0e31\u0e07\u0e01\u0e4c\u0e0a\u0e31\u0e19\u0e08\u0e30\u0e1e\u0e34\u0e21\u0e1e\u0e4c\u0e02\u0e49\u0e2d\u0e04\u0e27\u0e32\u0e21 `--Senior--` \u0e41\u0e25\u0e49\u0e27\u0e08\u0e1a\u0e01\u0e32\u0e23\u0e17\u0e33\u0e07\u0e32\u0e19\u0e17\u0e31\u0e19\u0e17\u0e35"
   ]
  },
  {
   "cell_type": "code",
   "execution_count": 98,
   "metadata": {
    "id": "QzoxeyY-qSb-"
   },
   "outputs": [],
   "source": [
    "def print_student(name, age, height):\n",
    "    \n",
    "    # \u0e2b\u0e32\u0e01 age \u0e21\u0e35\u0e04\u0e48\u0e32 60 \u0e02\u0e36\u0e49\u0e19\u0e44\u0e1b\n",
    "    if age >= 60:\n",
    "        print('--Senior--')\n",
    "        print()\n",
    "        \n",
    "        # \u0e2b\u0e22\u0e38\u0e14\u0e01\u0e32\u0e23\u0e17\u0e33\u0e07\u0e32\u0e19\u0e02\u0e2d\u0e07\u0e1f\u0e31\u0e07\u0e01\u0e4c\u0e0a\u0e31\u0e19\n",
    "        return\n",
    "    \n",
    "    print(f'Name   : {name}')\n",
    "    print(f'Age    : {age:d} y/o')\n",
    "    print(f'Height : {height:6.2f} cm')\n",
    "    print()"
   ]
  },
  {
   "cell_type": "code",
   "execution_count": 99,
   "metadata": {
    "colab": {
     "base_uri": "https://localhost:8080/",
     "height": 425
    },
    "id": "5N-g_bOztc5r",
    "outputId": "7ef30597-33b2-4699-dbb1-e5b90a49ead1"
   },
   "outputs": [
    {
     "name": "stdout",
     "output_type": "stream",
     "text": [
      "Name   : John\n",
      "Age    : 13 y/o\n",
      "Height : 165.50 cm\n",
      "\n",
      "Name   : Mary\n",
      "Age    : 14 y/o\n",
      "Height : 173.00 cm\n",
      "\n",
      "Name   : Cindy\n",
      "Age    : 12 y/o\n",
      "Height : 163.50 cm\n",
      "\n",
      "--Senior--\n",
      "\n",
      "Name   : Eugene\n",
      "Age    : 15 y/o\n",
      "Height : 177.00 cm\n",
      "\n",
      "Name   : Rupert\n",
      "Age    : 12 y/o\n",
      "Height : 153.50 cm\n",
      "\n"
     ]
    }
   ],
   "source": [
    "student_scores = [\n",
    "    ('John', 13, 165.5), ('Mary', 14, 173.0), ('Cindy', 12, 163.5),\n",
    "    ('Magdalene', 65, 165.5), ('Eugene', 15, 177.0), ('Rupert', 12, 153.5)\n",
    "]\n",
    "\n",
    "for name, age, height in student_scores:\n",
    "    print_student(name, age, height)"
   ]
  },
  {
   "cell_type": "markdown",
   "metadata": {
    "id": "qNwtUIL-YujD"
   },
   "source": [
    "### \u0e01\u0e32\u0e23\u0e17\u0e33\u0e43\u0e2b\u0e49\u0e42\u0e04\u0e49\u0e14\u0e2d\u0e48\u0e32\u0e19\u0e07\u0e48\u0e32\u0e22\u0e02\u0e36\u0e49\u0e19"
   ]
  },
  {
   "cell_type": "markdown",
   "metadata": {
    "id": "1EObV3J6YxiY"
   },
   "source": [
    "- \u0e42\u0e1b\u0e23\u0e41\u0e01\u0e23\u0e21\u0e40\u0e21\u0e2d\u0e23\u0e4c\u0e17\u0e35\u0e48\u0e14\u0e35\u0e08\u0e30\u0e21\u0e35\u0e04\u0e27\u0e32\u0e21\u0e2a\u0e32\u0e21\u0e32\u0e23\u0e16\u0e17\u0e35\u0e48\u0e08\u0e30\u0e17\u0e33\u0e43\u0e2b\u0e49\u0e42\u0e1b\u0e23\u0e41\u0e01\u0e23\u0e21\u0e40\u0e21\u0e2d\u0e23\u0e4c\u0e04\u0e19\u0e2d\u0e37\u0e48\u0e19\u0e2a\u0e32\u0e21\u0e32\u0e23\u0e16\u0e2d\u0e48\u0e32\u0e19\u0e42\u0e04\u0e49\u0e14\u0e02\u0e2d\u0e07\u0e40\u0e02\u0e32\u0e23\u0e39\u0e49\u0e40\u0e23\u0e37\u0e48\u0e2d\u0e07\u0e44\u0e14\u0e49\u0e43\u0e19\u0e20\u0e32\u0e22\u0e2b\u0e25\u0e31\u0e07\n",
    "\n",
    "- \u0e01\u0e32\u0e23\u0e17\u0e35\u0e48\u0e08\u0e30\u0e17\u0e33\u0e2d\u0e22\u0e48\u0e32\u0e07\u0e19\u0e31\u0e49\u0e19\u0e44\u0e14\u0e49 \u0e40\u0e23\u0e32\u0e04\u0e27\u0e23\u0e40\u0e02\u0e35\u0e22\u0e19\u0e42\u0e04\u0e49\u0e14\u0e15\u0e32\u0e21\u0e04\u0e33\u0e41\u0e19\u0e30\u0e19\u0e33\u0e14\u0e31\u0e07\u0e15\u0e48\u0e2d\u0e44\u0e1b\u0e19\u0e35\u0e49\u0e04\u0e23\u0e31\u0e1a\n",
    "  1. \u0e1e\u0e22\u0e32\u0e22\u0e32\u0e21\u0e23\u0e27\u0e21\u0e01\u0e23\u0e30\u0e1a\u0e27\u0e19\u0e01\u0e32\u0e23\u0e17\u0e35\u0e48\u0e01\u0e47\u0e2d\u0e1b\u0e1b\u0e35\u0e49\u0e41\u0e1b\u0e30\u0e0b\u0e49\u0e33\u0e46 \u0e01\u0e31\u0e19 \u0e43\u0e2b\u0e49\u0e01\u0e25\u0e32\u0e22\u0e40\u0e1b\u0e47\u0e19\u0e1f\u0e31\u0e07\u0e01\u0e4c\u0e0a\u0e31\u0e19 \u0e01\u0e32\u0e23\u0e01\u0e23\u0e30\u0e17\u0e33\u0e40\u0e0a\u0e48\u0e19\u0e19\u0e35\u0e49\u0e40\u0e23\u0e35\u0e22\u0e01\u0e27\u0e48\u0e32 *\u0e01\u0e32\u0e23\u0e23\u0e27\u0e1a\u0e23\u0e27\u0e21\u0e40\u0e1b\u0e47\u0e19\u0e2b\u0e19\u0e48\u0e27\u0e22* (modularization)\n",
    "  2. \u0e1e\u0e22\u0e32\u0e22\u0e32\u0e21\u0e15\u0e31\u0e49\u0e07\u0e0a\u0e37\u0e48\u0e2d\u0e15\u0e31\u0e27\u0e41\u0e1b\u0e23 \u0e04\u0e48\u0e32\u0e04\u0e07\u0e17\u0e35\u0e48 \u0e1e\u0e32\u0e23\u0e32\u0e21\u0e34\u0e40\u0e15\u0e2d\u0e23\u0e4c \u0e41\u0e25\u0e30\u0e0a\u0e37\u0e48\u0e2d\u0e1f\u0e31\u0e07\u0e01\u0e4c\u0e0a\u0e31\u0e19\u0e15\u0e48\u0e32\u0e07\u0e46 \u0e43\u0e2b\u0e49\u0e2a\u0e37\u0e48\u0e2d\u0e04\u0e27\u0e32\u0e21\u0e2b\u0e21\u0e32\u0e22\u0e41\u0e25\u0e30\u0e2a\u0e30\u0e17\u0e49\u0e2d\u0e19\u0e2b\u0e19\u0e49\u0e32\u0e17\u0e35\u0e48\u0e02\u0e2d\u0e07\u0e21\u0e31\u0e19 \u0e01\u0e32\u0e23\u0e01\u0e23\u0e30\u0e17\u0e33\u0e40\u0e0a\u0e48\u0e19\u0e19\u0e35\u0e49\u0e40\u0e23\u0e35\u0e22\u0e01\u0e27\u0e48\u0e32 *\u0e01\u0e32\u0e23\u0e15\u0e31\u0e49\u0e07\u0e0a\u0e37\u0e48\u0e2d\u0e43\u0e2b\u0e49\u0e2a\u0e37\u0e48\u0e2d\u0e04\u0e27\u0e32\u0e21\u0e2b\u0e21\u0e32\u0e22* (meaningful naming)\n",
    "  3. \u0e2b\u0e32\u0e01\u0e1f\u0e31\u0e07\u0e01\u0e4c\u0e0a\u0e31\u0e19\u0e21\u0e35\u0e23\u0e32\u0e22\u0e01\u0e32\u0e23\u0e1e\u0e32\u0e23\u0e32\u0e21\u0e34\u0e40\u0e15\u0e2d\u0e23\u0e4c\u0e22\u0e32\u0e27\u0e1c\u0e34\u0e14\u0e1b\u0e01\u0e15\u0e34 \u0e2b\u0e23\u0e37\u0e2d\u0e1f\u0e31\u0e07\u0e01\u0e4c\u0e0a\u0e31\u0e19\u0e21\u0e35\u0e04\u0e27\u0e32\u0e21\u0e22\u0e32\u0e27\u0e1c\u0e34\u0e14\u0e1b\u0e01\u0e15\u0e34 \u0e43\u0e2b\u0e49\u0e25\u0e2d\u0e07\u0e41\u0e22\u0e01\u0e1f\u0e31\u0e07\u0e01\u0e4c\u0e0a\u0e31\u0e19\u0e43\u0e2b\u0e49\u0e01\u0e25\u0e32\u0e22\u0e40\u0e1b\u0e47\u0e19\u0e1f\u0e31\u0e07\u0e01\u0e4c\u0e0a\u0e31\u0e19\u0e22\u0e48\u0e2d\u0e22 \u0e41\u0e25\u0e49\u0e27\u0e40\u0e23\u0e35\u0e22\u0e01\u0e43\u0e0a\u0e49\u0e1f\u0e31\u0e07\u0e01\u0e4c\u0e0a\u0e31\u0e19\u0e40\u0e2b\u0e25\u0e48\u0e32\u0e19\u0e31\u0e49\u0e19\u0e41\u0e17\u0e19 \u0e01\u0e32\u0e23\u0e01\u0e23\u0e30\u0e17\u0e33\u0e40\u0e0a\u0e48\u0e19\u0e19\u0e35\u0e49\u0e40\u0e23\u0e35\u0e22\u0e01\u0e27\u0e48\u0e32 *\u0e01\u0e32\u0e23\u0e23\u0e35\u0e41\u0e1f\u0e04\u0e40\u0e15\u0e2d\u0e23\u0e4c\u0e42\u0e04\u0e49\u0e14* (code refactoring)\n",
    "  4. \u0e1e\u0e22\u0e32\u0e22\u0e32\u0e21\u0e43\u0e2a\u0e48\u0e2b\u0e21\u0e32\u0e22\u0e40\u0e2b\u0e15\u0e38\u0e25\u0e07\u0e43\u0e19\u0e42\u0e04\u0e49\u0e14 \u0e01\u0e32\u0e23\u0e01\u0e23\u0e30\u0e17\u0e33\u0e40\u0e0a\u0e48\u0e19\u0e19\u0e35\u0e49\u0e40\u0e23\u0e35\u0e22\u0e01\u0e27\u0e48\u0e32 *\u0e01\u0e32\u0e23\u0e43\u0e2a\u0e48\u0e2b\u0e21\u0e32\u0e22\u0e40\u0e2b\u0e15\u0e38\u0e17\u0e35\u0e48\u0e2a\u0e21\u0e40\u0e2b\u0e15\u0e38\u0e1c\u0e25* (appropriate commentation)\n",
    "  5. \u0e2d\u0e22\u0e48\u0e32\u0e40\u0e1e\u0e34\u0e48\u0e07\u0e1e\u0e22\u0e32\u0e22\u0e32\u0e21\u0e1b\u0e23\u0e31\u0e1a\u0e42\u0e04\u0e49\u0e14\u0e43\u0e2b\u0e49\u0e40\u0e23\u0e47\u0e27\u0e02\u0e36\u0e49\u0e19\u0e43\u0e19\u0e15\u0e2d\u0e19\u0e15\u0e49\u0e19 \u0e02\u0e2d\u0e43\u0e2b\u0e49\u0e40\u0e02\u0e35\u0e22\u0e19\u0e42\u0e04\u0e49\u0e14\u0e43\u0e2b\u0e49\u0e17\u0e33\u0e07\u0e32\u0e19\u0e15\u0e23\u0e07\u0e15\u0e32\u0e21\u0e04\u0e27\u0e32\u0e21\u0e04\u0e34\u0e14\u0e40\u0e2a\u0e35\u0e22\u0e01\u0e48\u0e2d\u0e19\n",
    "  \n",
    "- \u0e2a\u0e34\u0e48\u0e07\u0e17\u0e35\u0e48\u0e43\u0e2a\u0e48\u0e43\u0e19\u0e2b\u0e21\u0e32\u0e22\u0e40\u0e2b\u0e15\u0e38\u0e44\u0e14\u0e49\u0e21\u0e35\u0e2d\u0e30\u0e44\u0e23\u0e1a\u0e49\u0e32\u0e07\n",
    "  - \u0e20\u0e32\u0e1e\u0e23\u0e27\u0e21\u0e02\u0e2d\u0e07\u0e01\u0e23\u0e30\u0e1a\u0e27\u0e19\u0e01\u0e32\u0e23 \u0e0b\u0e36\u0e48\u0e07\u0e2a\u0e32\u0e21\u0e32\u0e23\u0e16\u0e2d\u0e18\u0e34\u0e1a\u0e32\u0e22\u0e43\u0e2b\u0e49\u0e04\u0e19\u0e17\u0e31\u0e48\u0e27\u0e44\u0e1b\u0e40\u0e02\u0e49\u0e32\u0e43\u0e08\u0e44\u0e14\u0e49\u0e14\u0e49\u0e27\u0e22\u0e20\u0e32\u0e29\u0e32\u0e21\u0e19\u0e38\u0e29\u0e22\u0e4c\n",
    "  - \u0e0a\u0e37\u0e48\u0e2d\u0e40\u0e15\u0e47\u0e21\u0e02\u0e2d\u0e07\u0e15\u0e31\u0e27\u0e41\u0e1b\u0e23 \u0e04\u0e48\u0e32\u0e04\u0e07\u0e17\u0e35\u0e48 \u0e1e\u0e32\u0e23\u0e32\u0e21\u0e34\u0e40\u0e15\u0e2d\u0e23\u0e4c \u0e41\u0e25\u0e30\u0e1f\u0e31\u0e07\u0e01\u0e4c\u0e0a\u0e31\u0e19 \u0e43\u0e19\u0e01\u0e23\u0e13\u0e35\u0e17\u0e35\u0e48\u0e0a\u0e37\u0e48\u0e2d\u0e40\u0e2b\u0e25\u0e48\u0e32\u0e19\u0e35\u0e49\u0e40\u0e1b\u0e47\u0e19\u0e15\u0e31\u0e27\u0e22\u0e48\u0e2d\u0e2b\u0e23\u0e37\u0e2d\u0e21\u0e35\u0e04\u0e27\u0e32\u0e21\u0e2b\u0e21\u0e32\u0e22\u0e1e\u0e34\u0e40\u0e28\u0e29\u0e17\u0e35\u0e48\u0e15\u0e49\u0e2d\u0e07\u0e01\u0e32\u0e23\u0e04\u0e33\u0e2d\u0e18\u0e34\u0e1a\u0e32\u0e22\u0e40\u0e1e\u0e34\u0e48\u0e21\u0e40\u0e15\u0e34\u0e21\n",
    "  - \u0e27\u0e34\u0e18\u0e35\u0e01\u0e32\u0e23\u0e43\u0e0a\u0e49\u0e07\u0e32\u0e19\u0e1f\u0e31\u0e07\u0e01\u0e4c\u0e0a\u0e31\u0e19 \u0e2b\u0e32\u0e01\u0e27\u0e48\u0e32\u0e1f\u0e31\u0e07\u0e01\u0e4c\u0e0a\u0e31\u0e19\u0e19\u0e31\u0e49\u0e19\u0e21\u0e35\u0e23\u0e32\u0e22\u0e01\u0e32\u0e23\u0e1e\u0e32\u0e23\u0e32\u0e21\u0e34\u0e40\u0e15\u0e2d\u0e23\u0e4c\u0e17\u0e35\u0e48\u0e04\u0e48\u0e2d\u0e19\u0e02\u0e49\u0e32\u0e07\u0e2a\u0e25\u0e31\u0e1a\u0e0b\u0e31\u0e1a\u0e0b\u0e49\u0e2d\u0e19\n",
    "  - \u0e40\u0e04\u0e25\u0e47\u0e14\u0e25\u0e31\u0e1a\u0e41\u0e21\u0e48\u0e1a\u0e49\u0e32\u0e19 (procedural protocols) \u0e17\u0e31\u0e49\u0e07\u0e2b\u0e25\u0e32\u0e22\n",
    "  - \u0e0a\u0e37\u0e48\u0e2d\u0e02\u0e2d\u0e07\u0e1c\u0e39\u0e49\u0e1e\u0e31\u0e12\u0e19\u0e32 \u0e41\u0e25\u0e30\u0e44\u0e25\u0e40\u0e0b\u0e19\u0e2a\u0e4c\u0e02\u0e2d\u0e07\u0e42\u0e04\u0e49\u0e14"
   ]
  },
  {
   "cell_type": "markdown",
   "metadata": {
    "id": "96iTb45tdFJK"
   },
   "source": [
    "### \u0e41\u0e1a\u0e1a\u0e1d\u0e36\u0e01\u0e2b\u0e31\u0e14 15.4: \u0e01\u0e32\u0e23\u0e15\u0e31\u0e49\u0e07\u0e0a\u0e37\u0e48\u0e2d\u0e43\u0e2b\u0e49\u0e2a\u0e37\u0e48\u0e2d\u0e04\u0e27\u0e32\u0e21\u0e2b\u0e21\u0e32\u0e22"
   ]
  },
  {
   "cell_type": "markdown",
   "metadata": {
    "id": "kFVNxyXge0MR"
   },
   "source": [
    "\u0e2a\u0e21\u0e21\u0e15\u0e34\u0e27\u0e48\u0e32\u0e40\u0e23\u0e32\u0e44\u0e14\u0e49\u0e23\u0e31\u0e1a\u0e2b\u0e19\u0e49\u0e32\u0e17\u0e35\u0e48\u0e43\u0e2b\u0e49\u0e27\u0e34\u0e40\u0e04\u0e23\u0e32\u0e30\u0e2b\u0e4c\u0e41\u0e25\u0e30\u0e17\u0e33\u0e43\u0e2b\u0e49\u0e42\u0e04\u0e49\u0e14\u0e14\u0e31\u0e07\u0e15\u0e48\u0e2d\u0e44\u0e1b\u0e19\u0e35\u0e49\u0e2d\u0e48\u0e32\u0e19\u0e07\u0e48\u0e32\u0e22\u0e02\u0e36\u0e49\u0e19 \u0e40\u0e21\u0e37\u0e48\u0e2d\u0e40\u0e23\u0e32\u0e2d\u0e48\u0e32\u0e19\u0e42\u0e04\u0e49\u0e14 \u0e40\u0e23\u0e32\u0e01\u0e47\u0e08\u0e30\u0e1e\u0e1a\u0e27\u0e48\u0e32\u0e42\u0e1b\u0e23\u0e41\u0e01\u0e23\u0e21\u0e40\u0e21\u0e2d\u0e23\u0e4c\u0e17\u0e35\u0e48\u0e40\u0e02\u0e35\u0e22\u0e19\u0e42\u0e04\u0e49\u0e14\u0e19\u0e35\u0e49\u0e02\u0e36\u0e49\u0e19\u0e21\u0e32 \u0e15\u0e31\u0e49\u0e07\u0e0a\u0e37\u0e48\u0e2d\u0e15\u0e31\u0e27\u0e41\u0e1b\u0e23 \u0e1e\u0e32\u0e23\u0e32\u0e21\u0e34\u0e40\u0e15\u0e2d\u0e23\u0e4c \u0e41\u0e25\u0e30\u0e1f\u0e31\u0e07\u0e01\u0e4c\u0e0a\u0e31\u0e19\u0e44\u0e21\u0e48\u0e2a\u0e37\u0e48\u0e2d\u0e04\u0e27\u0e32\u0e21\u0e2b\u0e21\u0e32\u0e22\u0e40\u0e25\u0e22 \u0e19\u0e31\u0e48\u0e19\u0e04\u0e37\u0e2d\u0e41\u0e15\u0e48\u0e25\u0e30\u0e0a\u0e37\u0e48\u0e2d\u0e44\u0e21\u0e48\u0e44\u0e14\u0e49\u0e2a\u0e30\u0e17\u0e49\u0e2d\u0e19\u0e2b\u0e19\u0e49\u0e32\u0e17\u0e35\u0e48\u0e01\u0e32\u0e23\u0e17\u0e33\u0e07\u0e32\u0e19\u0e02\u0e2d\u0e07\u0e21\u0e31\u0e19\u0e40\u0e25\u0e22\n",
    "\n",
    "\u0e08\u0e07\u0e27\u0e34\u0e40\u0e04\u0e23\u0e32\u0e30\u0e2b\u0e4c\u0e42\u0e04\u0e49\u0e14 \u0e41\u0e25\u0e30\u0e41\u0e01\u0e49\u0e44\u0e02\u0e0a\u0e37\u0e48\u0e2d\u0e15\u0e31\u0e27\u0e41\u0e1b\u0e23 \u0e1e\u0e32\u0e23\u0e32\u0e21\u0e34\u0e40\u0e15\u0e2d\u0e23\u0e4c \u0e41\u0e25\u0e30\u0e1f\u0e31\u0e07\u0e01\u0e4c\u0e0a\u0e31\u0e19\u0e43\u0e2b\u0e49\u0e2a\u0e37\u0e48\u0e2d\u0e04\u0e27\u0e32\u0e21\u0e2b\u0e21\u0e32\u0e22\u0e15\u0e32\u0e21\u0e17\u0e35\u0e48\u0e04\u0e2d\u0e21\u0e40\u0e21\u0e19\u0e15\u0e4c\u0e44\u0e27\u0e49\u0e04\u0e23\u0e31\u0e1a"
   ]
  },
  {
   "cell_type": "code",
   "execution_count": 100,
   "metadata": {
    "id": "3sP6kMj1fXPs"
   },
   "outputs": [],
   "source": [
    "# \u0e04\u0e33\u0e19\u0e27\u0e13\u0e04\u0e48\u0e32\u0e40\u0e09\u0e25\u0e35\u0e48\u0e22\u0e02\u0e2d\u0e07\u0e02\u0e49\u0e2d\u0e21\u0e39\u0e25\n",
    "def average(items):\n",
    "    \n",
    "    # \u0e1c\u0e25\u0e23\u0e27\u0e21\u0e02\u0e2d\u0e07\u0e02\u0e49\u0e2d\u0e21\u0e39\u0e25\n",
    "    summation = 0.0\n",
    "    \n",
    "    # \u0e44\u0e25\u0e48\u0e25\u0e39\u0e1b\u0e02\u0e49\u0e2d\u0e21\u0e39\u0e25\u0e41\u0e15\u0e48\u0e25\u0e30\u0e15\u0e31\u0e27\n",
    "    for num in items:\n",
    "        summation = summation + num\n",
    "        \n",
    "    return summation / len(items)\n",
    "\n",
    "\n",
    "\n",
    "# \u0e04\u0e33\u0e19\u0e27\u0e13\u0e04\u0e48\u0e32\u0e04\u0e27\u0e32\u0e21\u0e41\u0e1b\u0e23\u0e1b\u0e23\u0e27\u0e19\u0e02\u0e2d\u0e07\u0e02\u0e49\u0e2d\u0e21\u0e39\u0e25\n",
    "def variance(xs):\n",
    "    \n",
    "    # \u0e16\u0e49\u0e32\u0e02\u0e49\u0e2d\u0e21\u0e39\u0e25\u0e21\u0e35\u0e41\u0e04\u0e48\u0e15\u0e31\u0e27\u0e40\u0e14\u0e35\u0e22\u0e27\u0e2b\u0e23\u0e37\u0e2d\u0e44\u0e21\u0e48\u0e21\u0e35\u0e40\u0e25\u0e22 \u0e43\u0e2b\u0e49\u0e15\u0e2d\u0e1a 0\n",
    "    if len(xs) <= 1:\n",
    "        return 0.0\n",
    "    \n",
    "    # \u0e04\u0e48\u0e32\u0e40\u0e09\u0e25\u0e35\u0e48\u0e22\u0e02\u0e2d\u0e07\u0e02\u0e49\u0e2d\u0e21\u0e39\u0e25\n",
    "    a = average(xs)\n",
    "    \n",
    "    # \u0e1c\u0e25\u0e23\u0e27\u0e21\u0e02\u0e2d\u0e07\u0e23\u0e30\u0e22\u0e30\u0e17\u0e32\u0e07\n",
    "    s = 0.0\n",
    "    \n",
    "    # \u0e44\u0e25\u0e48\u0e25\u0e39\u0e1b\u0e02\u0e49\u0e2d\u0e21\u0e39\u0e25\u0e41\u0e15\u0e48\u0e25\u0e30\u0e15\u0e31\u0e27\n",
    "    for x in xs:\n",
    "        s = s + (x - a)**2\n",
    "        \n",
    "    return s / (len(xs) - 1)"
   ]
  },
  {
   "cell_type": "markdown",
   "metadata": {
    "id": "KvpNYaGXv6c2"
   },
   "source": [
    "\u0e40\u0e21\u0e37\u0e48\u0e2d\u0e17\u0e48\u0e32\u0e19\u0e44\u0e14\u0e49\u0e41\u0e01\u0e49\u0e44\u0e02\u0e0a\u0e37\u0e48\u0e2d\u0e15\u0e48\u0e32\u0e07\u0e46 \u0e40\u0e23\u0e35\u0e22\u0e1a\u0e23\u0e49\u0e2d\u0e22\u0e41\u0e25\u0e49\u0e27 \u0e17\u0e48\u0e32\u0e19\u0e2a\u0e32\u0e21\u0e32\u0e23\u0e16\u0e17\u0e14\u0e2a\u0e2d\u0e1a\u0e42\u0e1b\u0e23\u0e41\u0e01\u0e23\u0e21\u0e02\u0e2d\u0e07\u0e17\u0e48\u0e32\u0e19\u0e44\u0e14\u0e49\u0e15\u0e23\u0e07\u0e19\u0e35\u0e49\u0e04\u0e23\u0e31\u0e1a"
   ]
  },
  {
   "cell_type": "code",
   "execution_count": 101,
   "metadata": {
    "id": "_TBgrioBvuiH"
   },
   "outputs": [
    {
     "name": "stdout",
     "output_type": "stream",
     "text": [
      "Student heights = [163.5, 150.0, 167.0, 161.25, 170.0]\n",
      "The average is    162.35.\n",
      "The variance is    58.80.\n"
     ]
    }
   ],
   "source": [
    "student_heights = [163.5, 150.0, 167.0, 161.25, 170.0]\n",
    "\n",
    "# \u0e04\u0e48\u0e32\u0e40\u0e09\u0e25\u0e35\u0e48\u0e22\u0e02\u0e2d\u0e07\u0e04\u0e27\u0e32\u0e21\u0e2a\u0e39\u0e07\n",
    "avg = average(student_heights)\n",
    "\n",
    "# \u0e04\u0e48\u0e32\u0e04\u0e27\u0e32\u0e21\u0e41\u0e1b\u0e23\u0e1b\u0e23\u0e27\u0e19\u0e02\u0e2d\u0e07\u0e04\u0e27\u0e32\u0e21\u0e2a\u0e39\u0e07\n",
    "var = variance(student_heights)\n",
    "\n",
    "print(f'Student heights = {student_heights}')\n",
    "print(f'The average is {avg:9.2f}.')\n",
    "print(f'The variance is {var:8.2f}.')"
   ]
  },
  {
   "cell_type": "markdown",
   "metadata": {
    "id": "kkiHQSr4yuHE"
   },
   "source": [
    "### \u0e01\u0e32\u0e23\u0e23\u0e35\u0e41\u0e1f\u0e04\u0e40\u0e15\u0e2d\u0e23\u0e4c\u0e42\u0e04\u0e49\u0e14"
   ]
  },
  {
   "cell_type": "markdown",
   "metadata": {
    "id": "VOOFbTFxyv-g"
   },
   "source": [
    "- \u0e2b\u0e32\u0e01\u0e40\u0e23\u0e32\u0e1e\u0e1a\u0e27\u0e48\u0e32\u0e1f\u0e31\u0e07\u0e01\u0e4c\u0e0a\u0e31\u0e19\u0e43\u0e14\u0e21\u0e35\u0e08\u0e33\u0e19\u0e27\u0e19\u0e1e\u0e32\u0e23\u0e32\u0e21\u0e34\u0e40\u0e15\u0e2d\u0e23\u0e4c\u0e40\u0e22\u0e2d\u0e30\u0e46 (\u0e40\u0e0a\u0e48\u0e19 \u0e40\u0e01\u0e34\u0e19 5 \u0e15\u0e31\u0e27) \u0e43\u0e2b\u0e49\u0e40\u0e23\u0e32\u0e25\u0e2d\u0e07\u0e2a\u0e31\u0e07\u0e40\u0e01\u0e15\u0e04\u0e27\u0e32\u0e21\u0e2a\u0e31\u0e21\u0e1e\u0e31\u0e19\u0e18\u0e4c\u0e02\u0e2d\u0e07\u0e1e\u0e32\u0e23\u0e32\u0e21\u0e34\u0e40\u0e15\u0e2d\u0e23\u0e4c\u0e41\u0e25\u0e30\u0e01\u0e32\u0e23\u0e17\u0e33\u0e07\u0e32\u0e19\u0e02\u0e2d\u0e07\u0e42\u0e04\u0e49\u0e14\u0e14\u0e39\u0e01\u0e48\u0e2d\u0e19\u0e04\u0e23\u0e31\u0e1a\n",
    "\n",
    "- \u0e2b\u0e32\u0e01\u0e40\u0e23\u0e32\u0e2a\u0e32\u0e21\u0e32\u0e23\u0e16\u0e08\u0e31\u0e14\u0e01\u0e25\u0e38\u0e48\u0e21\u0e1e\u0e32\u0e23\u0e32\u0e21\u0e34\u0e40\u0e15\u0e2d\u0e23\u0e4c\u0e41\u0e25\u0e30\u0e42\u0e04\u0e49\u0e14\u0e17\u0e35\u0e48\u0e40\u0e01\u0e35\u0e48\u0e22\u0e27\u0e02\u0e49\u0e2d\u0e07\u0e44\u0e14\u0e49 \u0e43\u0e2b\u0e49\u0e40\u0e23\u0e32\u0e1e\u0e34\u0e08\u0e32\u0e23\u0e13\u0e32\u0e17\u0e35\u0e48\u0e08\u0e30\u0e41\u0e22\u0e01\u0e17\u0e31\u0e49\u0e07\u0e01\u0e25\u0e38\u0e48\u0e21\u0e19\u0e35\u0e49\u0e44\u0e1b\u0e15\u0e31\u0e49\u0e07\u0e40\u0e1b\u0e47\u0e19\u0e1f\u0e31\u0e07\u0e01\u0e4c\u0e0a\u0e31\u0e19\u0e43\u0e2b\u0e21\u0e48\u0e41\u0e25\u0e49\u0e27\u0e40\u0e23\u0e35\u0e22\u0e01\u0e43\u0e0a\u0e49\u0e1f\u0e31\u0e07\u0e01\u0e4c\u0e0a\u0e31\u0e19\u0e19\u0e35\u0e49\u0e41\u0e17\u0e19 \u0e42\u0e04\u0e49\u0e14\u0e17\u0e35\u0e48\u0e44\u0e14\u0e49\u0e19\u0e48\u0e32\u0e08\u0e30\u0e2d\u0e48\u0e32\u0e19\u0e07\u0e48\u0e32\u0e22\u0e02\u0e36\u0e49\u0e19\u0e40\u0e22\u0e2d\u0e30\u0e04\u0e23\u0e31\u0e1a"
   ]
  },
  {
   "cell_type": "markdown",
   "metadata": {
    "id": "UVe0s6ACxwPT"
   },
   "source": [
    "### \u0e41\u0e1a\u0e1a\u0e1d\u0e36\u0e01\u0e2b\u0e31\u0e14 15.5: \u0e01\u0e32\u0e23\u0e23\u0e35\u0e41\u0e1f\u0e04\u0e40\u0e15\u0e2d\u0e23\u0e4c\u0e42\u0e04\u0e49\u0e14"
   ]
  },
  {
   "cell_type": "markdown",
   "metadata": {
    "id": "7HgXBd53x1QM"
   },
   "source": [
    "\u0e16\u0e49\u0e32\u0e40\u0e23\u0e32\u0e2a\u0e31\u0e07\u0e40\u0e01\u0e15\u0e1f\u0e31\u0e07\u0e01\u0e4c\u0e0a\u0e31\u0e19 `print_students` \u0e14\u0e49\u0e32\u0e19\u0e25\u0e48\u0e32\u0e07\u0e19\u0e35\u0e49 \u0e08\u0e30\u0e1e\u0e1a\u0e27\u0e48\u0e32\u0e1f\u0e31\u0e07\u0e01\u0e4c\u0e0a\u0e31\u0e19\u0e19\u0e35\u0e49\u0e21\u0e35\u0e1e\u0e32\u0e23\u0e32\u0e21\u0e34\u0e40\u0e15\u0e2d\u0e23\u0e4c 9 \u0e15\u0e31\u0e27 \u0e43\u0e19\u0e41\u0e1a\u0e1a\u0e1d\u0e36\u0e01\u0e2b\u0e31\u0e14\u0e19\u0e35\u0e49 \u0e40\u0e23\u0e32\u0e08\u0e30\u0e21\u0e32\u0e2b\u0e31\u0e14\u0e1b\u0e23\u0e31\u0e1a\u0e42\u0e04\u0e49\u0e14\u0e17\u0e35\u0e48\u0e21\u0e35\u0e1e\u0e32\u0e23\u0e32\u0e21\u0e34\u0e40\u0e15\u0e2d\u0e23\u0e4c\u0e40\u0e22\u0e2d\u0e30\u0e46 \u0e43\u0e2b\u0e49\u0e2d\u0e48\u0e32\u0e19\u0e07\u0e48\u0e32\u0e22\u0e02\u0e36\u0e49\u0e19\u0e14\u0e49\u0e27\u0e22\u0e01\u0e32\u0e23\u0e23\u0e35\u0e41\u0e1f\u0e04\u0e40\u0e15\u0e2d\u0e23\u0e4c\u0e42\u0e04\u0e49\u0e14\u0e01\u0e31\u0e19\u0e04\u0e23\u0e31\u0e1a\n",
    "\n",
    "\u0e1e\u0e32\u0e23\u0e32\u0e21\u0e34\u0e40\u0e15\u0e2d\u0e23\u0e4c\u0e43\u0e19\u0e42\u0e04\u0e49\u0e14\u0e17\u0e35\u0e48\u0e14\u0e49\u0e32\u0e19\u0e25\u0e48\u0e32\u0e07\u0e19\u0e35\u0e49\u0e2a\u0e32\u0e21\u0e32\u0e23\u0e16\u0e41\u0e1a\u0e48\u0e07\u0e01\u0e25\u0e38\u0e48\u0e21\u0e44\u0e14\u0e49\u0e40\u0e1b\u0e47\u0e19\u0e01\u0e35\u0e48\u0e01\u0e25\u0e38\u0e48\u0e21\u0e04\u0e23\u0e31\u0e1a?"
   ]
  },
  {
   "cell_type": "code",
   "execution_count": 102,
   "metadata": {
    "id": "zOzGxXAZy9qk"
   },
   "outputs": [],
   "source": [
    "def print_students(name1, name2, name3, age1, age2, age3, height1, height2, height3):\n",
    "    print(f'Name   : {name1}')\n",
    "    print(f'Age    : {age1:d} y/o')\n",
    "    print(f'Height : {height1:6.2f} cm')\n",
    "    print()\n",
    "    print(f'Name   : {name2}')\n",
    "    print(f'Age    : {age2:d} y/o')\n",
    "    print(f'Height : {height2:6.2f} cm')\n",
    "    print()\n",
    "    print(f'Name   : {name3}')\n",
    "    print(f'Age    : {age3:d} y/o')\n",
    "    print(f'Height : {height3:6.2f} cm')\n",
    "    print()"
   ]
  },
  {
   "cell_type": "markdown",
   "metadata": {
    "id": "fDmKOIUr0Qal"
   },
   "source": [
    "\u0e17\u0e48\u0e32\u0e19\u0e25\u0e2d\u0e07\u0e22\u0e38\u0e1a\u0e1f\u0e31\u0e07\u0e01\u0e4c\u0e0a\u0e31\u0e19 `print_students` \u0e17\u0e35\u0e48\u0e14\u0e49\u0e32\u0e19\u0e1a\u0e19\u0e43\u0e2b\u0e49\u0e01\u0e25\u0e32\u0e22\u0e40\u0e1b\u0e47\u0e19\u0e1f\u0e31\u0e07\u0e01\u0e4c\u0e0a\u0e31\u0e19 `print_student` \u0e17\u0e35\u0e48\u0e23\u0e31\u0e1a\u0e02\u0e49\u0e2d\u0e21\u0e39\u0e25\u0e02\u0e2d\u0e07\u0e19\u0e31\u0e01\u0e40\u0e23\u0e35\u0e22\u0e19\u0e40\u0e1e\u0e35\u0e22\u0e07\u0e04\u0e19\u0e40\u0e14\u0e35\u0e22\u0e27\u0e14\u0e39\u0e04\u0e23\u0e31\u0e1a"
   ]
  },
  {
   "cell_type": "code",
   "execution_count": 103,
   "metadata": {
    "id": "nPYEk0AGvwKM"
   },
   "outputs": [],
   "source": [
    "def print_student(name, age, height):\n",
    "    print(f'Name   : {name}')\n",
    "    print(f'Age    : {age:d} y/o')\n",
    "    print(f'Height : {height:6.2f} cm')\n",
    "    print()"
   ]
  },
  {
   "cell_type": "markdown",
   "metadata": {
    "id": "uHVYLQCg380y"
   },
   "source": [
    "-----"
   ]
  },
  {
   "cell_type": "markdown",
   "metadata": {
    "id": "lfG0B1Qd380z"
   },
   "source": [
    "## \u0e01\u0e34\u0e08\u0e01\u0e23\u0e23\u0e21 16: \u0e01\u0e32\u0e23\u0e42\u0e1b\u0e23\u0e41\u0e01\u0e23\u0e21\u0e40\u0e0a\u0e34\u0e07\u0e27\u0e31\u0e15\u0e16\u0e38"
   ]
  },
  {
   "cell_type": "markdown",
   "metadata": {
    "id": "SsK06oq0380z"
   },
   "source": [
    "- \u0e43\u0e19\u0e01\u0e34\u0e08\u0e01\u0e23\u0e23\u0e21\u0e17\u0e35\u0e48\u0e41\u0e25\u0e49\u0e27 \u0e40\u0e23\u0e32\u0e44\u0e14\u0e49\u0e40\u0e23\u0e35\u0e22\u0e19\u0e23\u0e39\u0e49\u0e01\u0e32\u0e23\u0e23\u0e27\u0e1a\u0e23\u0e27\u0e21\u0e01\u0e23\u0e30\u0e1a\u0e27\u0e19\u0e01\u0e32\u0e23\u0e43\u0e2b\u0e49\u0e40\u0e1b\u0e47\u0e19\u0e2b\u0e19\u0e48\u0e27\u0e22\u0e14\u0e49\u0e27\u0e22\u0e1f\u0e31\u0e07\u0e01\u0e4c\u0e0a\u0e31\u0e19 \u0e19\u0e31\u0e48\u0e19\u0e04\u0e37\u0e2d\u0e40\u0e23\u0e32\u0e1e\u0e22\u0e32\u0e22\u0e32\u0e21\u0e2d\u0e2d\u0e01\u0e41\u0e1a\u0e1a\u0e42\u0e1b\u0e23\u0e41\u0e01\u0e23\u0e21\u0e42\u0e14\u0e22\u0e40\u0e19\u0e49\u0e19\u0e17\u0e35\u0e48\u0e01\u0e23\u0e30\u0e1a\u0e27\u0e19\u0e01\u0e32\u0e23\u0e02\u0e2d\u0e07\u0e01\u0e32\u0e23\u0e01\u0e23\u0e30\u0e17\u0e33\n",
    "\n",
    "- \u0e41\u0e15\u0e48\u0e43\u0e19\u0e1a\u0e32\u0e07\u0e01\u0e23\u0e13\u0e35 \u0e01\u0e32\u0e23\u0e2d\u0e2d\u0e01\u0e41\u0e1a\u0e1a\u0e42\u0e1b\u0e23\u0e41\u0e01\u0e23\u0e21\u0e42\u0e14\u0e22\u0e40\u0e19\u0e49\u0e19\u0e01\u0e23\u0e30\u0e1a\u0e27\u0e19\u0e01\u0e32\u0e23\u0e2d\u0e32\u0e08\u0e08\u0e30\u0e17\u0e33\u0e43\u0e2b\u0e49\u0e01\u0e32\u0e23\u0e40\u0e02\u0e35\u0e22\u0e19\u0e42\u0e1b\u0e23\u0e41\u0e01\u0e23\u0e21\u0e22\u0e38\u0e48\u0e07\u0e22\u0e32\u0e01\u0e21\u0e32\u0e01\u0e02\u0e36\u0e49\u0e19\n",
    "\n",
    "- \u0e40\u0e0a\u0e48\u0e19 \u0e40\u0e23\u0e32\u0e15\u0e49\u0e2d\u0e07\u0e01\u0e32\u0e23\u0e40\u0e02\u0e35\u0e22\u0e19\u0e42\u0e1b\u0e23\u0e41\u0e01\u0e23\u0e21\u0e40\u0e1e\u0e37\u0e48\u0e2d\u0e08\u0e31\u0e14\u0e01\u0e32\u0e23\u0e01\u0e31\u0e1a\u0e23\u0e39\u0e1b\u0e17\u0e23\u0e07\u0e15\u0e48\u0e32\u0e07\u0e46 \u0e40\u0e0a\u0e48\u0e19 \u0e2a\u0e32\u0e21\u0e40\u0e2b\u0e25\u0e35\u0e48\u0e22\u0e21 \u0e2a\u0e35\u0e48\u0e40\u0e2b\u0e25\u0e35\u0e48\u0e22\u0e21\u0e08\u0e31\u0e15\u0e38\u0e23\u0e31\u0e2a \u0e2f\u0e25\u0e2f \u0e42\u0e14\u0e22\u0e21\u0e35\u0e01\u0e32\u0e23\u0e01\u0e23\u0e30\u0e17\u0e33\u0e14\u0e31\u0e07\u0e15\u0e48\u0e2d\u0e44\u0e1b\u0e19\u0e35\u0e49\n",
    "  1. \u0e2b\u0e32\u0e1e\u0e37\u0e49\u0e19\u0e17\u0e35\u0e48\u0e44\u0e14\u0e49\n",
    "  2. \u0e2b\u0e32\u0e40\u0e2a\u0e49\u0e19\u0e23\u0e2d\u0e1a\u0e27\u0e07\u0e44\u0e14\u0e49\n",
    "  3. \u0e2b\u0e32\u0e2a\u0e35\u0e02\u0e2d\u0e07\u0e23\u0e39\u0e1b\u0e17\u0e23\u0e07\u0e44\u0e14\u0e49\n",
    "  4. \u0e40\u0e1b\u0e25\u0e35\u0e48\u0e22\u0e19\u0e02\u0e49\u0e2d\u0e21\u0e39\u0e25\u0e08\u0e33\u0e40\u0e1e\u0e32\u0e30\u0e02\u0e2d\u0e07\u0e23\u0e39\u0e1b\u0e17\u0e23\u0e07\u0e44\u0e14\u0e49 \u0e40\u0e0a\u0e48\u0e19 \u0e23\u0e31\u0e28\u0e21\u0e35 \u0e04\u0e27\u0e32\u0e21\u0e01\u0e27\u0e49\u0e32\u0e07 \u0e04\u0e27\u0e32\u0e21\u0e22\u0e32\u0e27 \u0e2f\u0e25\u0e2f\n",
    "  5. \u0e40\u0e1b\u0e25\u0e35\u0e48\u0e22\u0e19\u0e2a\u0e35\u0e02\u0e2d\u0e07\u0e23\u0e39\u0e1b\u0e17\u0e23\u0e07\u0e44\u0e14\u0e49\n",
    "  \n",
    "- \u0e16\u0e49\u0e32\u0e40\u0e23\u0e32\u0e40\u0e02\u0e35\u0e22\u0e19\u0e42\u0e1b\u0e23\u0e41\u0e01\u0e23\u0e21\u0e14\u0e49\u0e27\u0e22\u0e1f\u0e31\u0e07\u0e01\u0e4c\u0e0a\u0e31\u0e19\u0e17\u0e31\u0e49\u0e07\u0e2b\u0e21\u0e14 \u0e40\u0e23\u0e32\u0e08\u0e30\u0e40\u0e02\u0e35\u0e22\u0e19\u0e42\u0e1b\u0e23\u0e41\u0e01\u0e23\u0e21\u0e44\u0e14\u0e49\u0e14\u0e31\u0e07\u0e19\u0e35\u0e49\u0e04\u0e23\u0e31\u0e1a"
   ]
  },
  {
   "cell_type": "code",
   "execution_count": 104,
   "metadata": {
    "id": "IjTlUQR-380z"
   },
   "outputs": [],
   "source": [
    "pi = 3.1415926\n",
    "\n",
    "# \u0e04\u0e33\u0e19\u0e27\u0e13\u0e1e\u0e37\u0e49\u0e19\u0e17\u0e35\u0e48\u0e27\u0e07\u0e01\u0e25\u0e21\n",
    "def area_circle(circle):\n",
    "    return pi * circle['radius']**2\n",
    "\n",
    "# \u0e04\u0e33\u0e19\u0e27\u0e13\u0e40\u0e2a\u0e49\u0e19\u0e23\u0e2d\u0e1a\u0e27\u0e07\u0e02\u0e2d\u0e07\u0e27\u0e07\u0e01\u0e25\u0e21\n",
    "def circumference_circle(circle):\n",
    "    return 2 * pi * circle['radius']\n",
    "\n",
    "# \u0e2b\u0e32\u0e04\u0e48\u0e32\u0e2a\u0e35\u0e02\u0e2d\u0e07\u0e27\u0e07\u0e01\u0e25\u0e21\n",
    "def color_circle(circle):\n",
    "    return circle['color']\n",
    "\n",
    "# \u0e04\u0e33\u0e19\u0e27\u0e13\u0e1e\u0e37\u0e49\u0e19\u0e17\u0e35\u0e48\u0e08\u0e31\u0e15\u0e38\u0e23\u0e31\u0e2a\n",
    "def area_square(square):\n",
    "    return square['side']**2\n",
    "\n",
    "# \u0e04\u0e33\u0e19\u0e27\u0e13\u0e40\u0e2a\u0e49\u0e19\u0e23\u0e2d\u0e1a\u0e27\u0e07\u0e08\u0e31\u0e15\u0e38\u0e23\u0e31\u0e2a\n",
    "def circumference_square(square):\n",
    "    return 4 * square['side']\n",
    "\n",
    "# \u0e2b\u0e32\u0e04\u0e48\u0e32\u0e2a\u0e35\u0e02\u0e2d\u0e07\u0e08\u0e31\u0e15\u0e38\u0e23\u0e31\u0e2a\n",
    "def color_square(square):\n",
    "    return square['color']"
   ]
  },
  {
   "cell_type": "markdown",
   "metadata": {
    "id": "_TEqVSdV3800"
   },
   "source": [
    "- \u0e08\u0e30\u0e2a\u0e31\u0e07\u0e40\u0e01\u0e15\u0e44\u0e14\u0e49\u0e27\u0e48\u0e32 \u0e40\u0e23\u0e32\u0e22\u0e31\u0e07\u0e15\u0e49\u0e2d\u0e07\u0e40\u0e02\u0e35\u0e22\u0e19\u0e1f\u0e31\u0e07\u0e01\u0e4c\u0e0a\u0e31\u0e19\u0e0b\u0e49\u0e33\u0e01\u0e31\u0e19\u0e2d\u0e22\u0e39\u0e48\u0e2b\u0e25\u0e32\u0e22\u0e2d\u0e31\u0e19 \u0e41\u0e21\u0e49\u0e27\u0e48\u0e32\u0e1f\u0e31\u0e07\u0e01\u0e4c\u0e0a\u0e31\u0e19\u0e40\u0e2b\u0e25\u0e48\u0e32\u0e19\u0e35\u0e49\u0e08\u0e30\u0e17\u0e33\u0e07\u0e32\u0e19\u0e04\u0e25\u0e49\u0e32\u0e22\u0e04\u0e25\u0e36\u0e07\u0e01\u0e31\u0e19\u0e01\u0e47\u0e15\u0e32\u0e21 \u0e40\u0e0a\u0e48\u0e19 `color_circle` \u0e01\u0e31\u0e1a `color_square`\n",
    "\n",
    "- \u0e19\u0e2d\u0e01\u0e08\u0e32\u0e01\u0e19\u0e35\u0e49 \u0e40\u0e27\u0e25\u0e32\u0e17\u0e35\u0e48\u0e40\u0e23\u0e32\u0e08\u0e30\u0e2a\u0e23\u0e49\u0e32\u0e07\u0e27\u0e31\u0e15\u0e16\u0e38\u0e43\u0e2b\u0e21\u0e48\u0e02\u0e36\u0e49\u0e19\u0e21\u0e32 \u0e40\u0e23\u0e32\u0e08\u0e30\u0e2a\u0e23\u0e49\u0e32\u0e07\u0e14\u0e49\u0e27\u0e22\u0e14\u0e34\u0e01\u0e0a\u0e31\u0e19\u0e19\u0e32\u0e23\u0e35 \u0e41\u0e25\u0e30\u0e40\u0e23\u0e32\u0e01\u0e47\u0e08\u0e30\u0e15\u0e49\u0e2d\u0e07\u0e01\u0e47\u0e2d\u0e1b\u0e1b\u0e35\u0e49\u0e42\u0e04\u0e23\u0e07\u0e2a\u0e23\u0e49\u0e32\u0e07\u0e02\u0e2d\u0e07\u0e14\u0e34\u0e01\u0e0a\u0e31\u0e19\u0e19\u0e32\u0e23\u0e35\u0e43\u0e2b\u0e49\u0e40\u0e2b\u0e21\u0e37\u0e2d\u0e19\u0e40\u0e1b\u0e35\u0e4a\u0e22\u0e1a\u0e14\u0e49\u0e27\u0e22 \u0e21\u0e34\u0e40\u0e0a\u0e48\u0e19\u0e19\u0e31\u0e49\u0e19\u0e42\u0e1b\u0e23\u0e41\u0e01\u0e23\u0e21\u0e01\u0e47\u0e2d\u0e32\u0e08\u0e08\u0e30\u0e17\u0e33\u0e07\u0e32\u0e19\u0e1c\u0e34\u0e14\u0e1e\u0e25\u0e32\u0e14\u0e44\u0e14\u0e49 \u0e40\u0e1e\u0e23\u0e32\u0e30\u0e2d\u0e49\u0e32\u0e07\u0e1c\u0e34\u0e14\u0e04\u0e35\u0e22\u0e4c\u0e2b\u0e23\u0e37\u0e2d\u0e2d\u0e49\u0e32\u0e07\u0e04\u0e35\u0e22\u0e4c\u0e44\u0e21\u0e48\u0e04\u0e23\u0e1a \u0e40\u0e0a\u0e48\u0e19"
   ]
  },
  {
   "cell_type": "code",
   "execution_count": 105,
   "metadata": {
    "id": "fAyGJwWt3800"
   },
   "outputs": [
    {
     "name": "stdout",
     "output_type": "stream",
     "text": [
      "Area of circle1 = 2827.43334\n",
      "Circumference of circle2 = 97.3893706\n",
      "Color of circle3 = blue\n",
      "\n",
      "Area of square1 = 100.0\n",
      "Circumference of square2 = 60.0\n",
      "Color of square3 = pink\n"
     ]
    }
   ],
   "source": [
    "circle1 = {'radius': 30.0, 'color': 'red'}\n",
    "circle2 = {'radius': 15.5, 'color': 'green'}\n",
    "circle3 = {'radius': 10.0, 'color': 'blue'}\n",
    "\n",
    "square1 = {'side': 10.0, 'color': 'yellow'}\n",
    "square2 = {'side': 15.0, 'color': 'orange'}\n",
    "square3 = {'side': 5.75, 'color': 'pink'}\n",
    "\n",
    "print(f'Area of circle1 = {area_circle(circle1)}')\n",
    "print(f'Circumference of circle2 = {circumference_circle(circle2)}')\n",
    "print(f'Color of circle3 = {color_circle(circle3)}')\n",
    "print()\n",
    "\n",
    "print(f'Area of square1 = {area_square(square1)}')\n",
    "print(f'Circumference of square2 = {circumference_square(square2)}')\n",
    "print(f'Color of square3 = {color_square(square3)}')"
   ]
  },
  {
   "cell_type": "markdown",
   "metadata": {
    "id": "iQmzR-vw3801"
   },
   "source": [
    "### \u0e04\u0e25\u0e32\u0e2a (class)"
   ]
  },
  {
   "cell_type": "markdown",
   "metadata": {
    "id": "JzzrX-4k3801"
   },
   "source": [
    "- \u0e40\u0e1e\u0e37\u0e48\u0e2d\u0e43\u0e2b\u0e49\u0e2d\u0e48\u0e32\u0e19\u0e42\u0e04\u0e49\u0e14\u0e44\u0e14\u0e49\u0e07\u0e48\u0e32\u0e22\u0e02\u0e36\u0e49\u0e19 \u0e40\u0e23\u0e32\u0e22\u0e31\u0e07\u0e2a\u0e32\u0e21\u0e32\u0e23\u0e16\u0e23\u0e27\u0e1a\u0e23\u0e27\u0e21\u0e01\u0e23\u0e30\u0e1a\u0e27\u0e19\u0e01\u0e32\u0e23\u0e15\u0e32\u0e21\u0e0a\u0e19\u0e34\u0e14\u0e02\u0e2d\u0e07\u0e27\u0e31\u0e15\u0e16\u0e38\u0e44\u0e14\u0e49\u0e2d\u0e35\u0e01\u0e14\u0e49\u0e27\u0e22 \u0e42\u0e14\u0e22\u0e27\u0e31\u0e15\u0e16\u0e38\u0e41\u0e15\u0e48\u0e25\u0e30\u0e0a\u0e19\u0e34\u0e14\u0e08\u0e30\u0e21\u0e35\u0e1f\u0e31\u0e07\u0e01\u0e4c\u0e0a\u0e31\u0e19\u0e2b\u0e19\u0e49\u0e32\u0e15\u0e32\u0e40\u0e2b\u0e21\u0e37\u0e2d\u0e19\u0e01\u0e31\u0e19 \u0e41\u0e15\u0e48\u0e44\u0e2a\u0e49\u0e43\u0e19\u0e02\u0e2d\u0e07\u0e41\u0e15\u0e48\u0e25\u0e30\u0e1f\u0e31\u0e07\u0e01\u0e4c\u0e0a\u0e31\u0e19\u0e08\u0e30\u0e41\u0e15\u0e01\u0e15\u0e48\u0e32\u0e07\u0e01\u0e31\u0e19\u0e44\u0e1b\u0e15\u0e32\u0e21\u0e0a\u0e19\u0e34\u0e14\u0e02\u0e2d\u0e07\u0e27\u0e31\u0e15\u0e16\u0e38\n",
    "\n",
    "- \u0e01\u0e32\u0e23\u0e23\u0e27\u0e1a\u0e23\u0e27\u0e21\u0e01\u0e23\u0e30\u0e1a\u0e27\u0e19\u0e01\u0e32\u0e23\u0e15\u0e32\u0e21\u0e0a\u0e19\u0e34\u0e14\u0e02\u0e2d\u0e07\u0e27\u0e31\u0e15\u0e16\u0e38\u0e19\u0e35\u0e49 \u0e40\u0e23\u0e32\u0e40\u0e23\u0e35\u0e22\u0e01\u0e27\u0e48\u0e32 **\u0e01\u0e32\u0e23\u0e42\u0e1b\u0e23\u0e41\u0e01\u0e23\u0e21\u0e40\u0e0a\u0e34\u0e07\u0e27\u0e31\u0e15\u0e16\u0e38** (object-oriented programming \u0e2b\u0e23\u0e37\u0e2d OOP)\n",
    "\n",
    "- \u0e43\u0e19\u0e20\u0e32\u0e29\u0e32 Python \u0e40\u0e23\u0e32\u0e2a\u0e32\u0e21\u0e32\u0e23\u0e16\u0e2a\u0e23\u0e49\u0e32\u0e07\u0e27\u0e31\u0e15\u0e16\u0e38\u0e0a\u0e19\u0e34\u0e14\u0e43\u0e2b\u0e21\u0e48\u0e44\u0e14\u0e49\u0e14\u0e49\u0e27\u0e22\u0e04\u0e33\u0e2a\u0e31\u0e48\u0e07 `class` \u0e14\u0e31\u0e07\u0e23\u0e39\u0e1b\u0e41\u0e1a\u0e1a\u0e15\u0e48\u0e2d\u0e44\u0e1b\u0e19\u0e35\u0e49\n",
    "```python\n",
    "    class <\u0e0a\u0e37\u0e48\u0e2d\u0e04\u0e25\u0e32\u0e2a> :\n",
    "        <\u0e23\u0e32\u0e22\u0e01\u0e32\u0e23\u0e1f\u0e31\u0e07\u0e01\u0e4c\u0e0a\u0e31\u0e19>\n",
    "```\n",
    "\n",
    "- \u0e40\u0e23\u0e32\u0e2a\u0e32\u0e21\u0e32\u0e23\u0e16\u0e19\u0e34\u0e22\u0e32\u0e21\u0e1f\u0e31\u0e07\u0e01\u0e4c\u0e0a\u0e31\u0e19\u0e20\u0e32\u0e22\u0e43\u0e19\u0e04\u0e25\u0e32\u0e2a\u0e44\u0e14\u0e49\u0e14\u0e49\u0e27\u0e22\u0e04\u0e33\u0e2a\u0e31\u0e48\u0e07 `def` \u0e40\u0e2b\u0e21\u0e37\u0e2d\u0e19\u0e01\u0e31\u0e1a\u0e1f\u0e31\u0e07\u0e01\u0e4c\u0e0a\u0e31\u0e19\u0e1b\u0e01\u0e15\u0e34\u0e40\u0e25\u0e22\u0e04\u0e23\u0e31\u0e1a \u0e1f\u0e31\u0e07\u0e01\u0e4c\u0e0a\u0e31\u0e19\u0e20\u0e32\u0e22\u0e43\u0e19\u0e04\u0e25\u0e32\u0e2a\u0e19\u0e35\u0e49\u0e21\u0e35\u0e0a\u0e37\u0e48\u0e2d\u0e40\u0e23\u0e35\u0e22\u0e01\u0e2d\u0e22\u0e48\u0e32\u0e07\u0e40\u0e1b\u0e47\u0e19\u0e17\u0e32\u0e07\u0e01\u0e32\u0e23\u0e27\u0e48\u0e32 **\u0e40\u0e21\u0e18\u0e2d\u0e14** (method)\n",
    "\n",
    "- \u0e40\u0e21\u0e18\u0e2d\u0e14\u0e2a\u0e33\u0e04\u0e31\u0e0d\u0e02\u0e2d\u0e07\u0e04\u0e25\u0e32\u0e2a\u0e04\u0e37\u0e2d **\u0e04\u0e2d\u0e19\u0e2a\u0e15\u0e23\u0e31\u0e01\u0e40\u0e15\u0e2d\u0e23\u0e4c** (constructor) \u0e21\u0e35\u0e44\u0e27\u0e49\u0e2a\u0e33\u0e2b\u0e23\u0e31\u0e1a\u0e2a\u0e23\u0e49\u0e32\u0e07\u0e27\u0e31\u0e15\u0e16\u0e38 (object) \u0e08\u0e32\u0e01\u0e04\u0e25\u0e32\u0e2a \u0e42\u0e14\u0e22\u0e04\u0e2d\u0e19\u0e2a\u0e15\u0e23\u0e31\u0e01\u0e40\u0e15\u0e2d\u0e23\u0e4c\u0e08\u0e30\u0e43\u0e0a\u0e49\u0e0a\u0e37\u0e48\u0e2d\u0e40\u0e21\u0e18\u0e2d\u0e14\u0e27\u0e48\u0e32 `__init__` (\u0e42\u0e1b\u0e23\u0e14\u0e2a\u0e31\u0e07\u0e40\u0e01\u0e15\u0e27\u0e48\u0e32\u0e0a\u0e37\u0e48\u0e2d `init` \u0e08\u0e30\u0e21\u0e35\u0e02\u0e35\u0e14\u0e40\u0e2a\u0e49\u0e19\u0e43\u0e15\u0e49 2 \u0e2d\u0e31\u0e19\u0e17\u0e35\u0e48\u0e14\u0e49\u0e32\u0e19\u0e2b\u0e19\u0e49\u0e32\u0e41\u0e25\u0e30\u0e14\u0e49\u0e32\u0e19\u0e2b\u0e25\u0e31\u0e07)\n",
    "\n",
    "- \u0e04\u0e2d\u0e19\u0e2a\u0e15\u0e23\u0e31\u0e01\u0e40\u0e15\u0e2d\u0e23\u0e4c\u0e08\u0e30\u0e23\u0e31\u0e1a\u0e1e\u0e32\u0e23\u0e32\u0e21\u0e34\u0e40\u0e15\u0e2d\u0e23\u0e4c 2 \u0e0a\u0e38\u0e14 \n",
    "  - `self` \u0e2a\u0e33\u0e2b\u0e23\u0e31\u0e1a\u0e2d\u0e49\u0e32\u0e07\u0e16\u0e36\u0e07\u0e27\u0e31\u0e15\u0e16\u0e38\u0e17\u0e35\u0e48\u0e40\u0e23\u0e32\u0e01\u0e33\u0e25\u0e31\u0e07\u0e08\u0e30\u0e2a\u0e23\u0e49\u0e32\u0e07\n",
    "  - \u0e1e\u0e32\u0e23\u0e32\u0e21\u0e34\u0e40\u0e15\u0e2d\u0e23\u0e4c\u0e17\u0e35\u0e48\u0e08\u0e30\u0e43\u0e2a\u0e48\u0e43\u0e19\u0e27\u0e31\u0e15\u0e16\u0e38\u0e19\u0e31\u0e49\u0e19\n",
    "  \n",
    "- \u0e40\u0e0a\u0e48\u0e19 \u0e40\u0e23\u0e32\u0e2a\u0e32\u0e21\u0e32\u0e23\u0e16\u0e19\u0e34\u0e22\u0e32\u0e21\u0e04\u0e25\u0e32\u0e2a `Circle` \u0e41\u0e25\u0e30\u0e04\u0e2d\u0e19\u0e2a\u0e15\u0e23\u0e31\u0e01\u0e40\u0e15\u0e2d\u0e23\u0e4c\u0e02\u0e2d\u0e07\u0e04\u0e25\u0e32\u0e2a\u0e19\u0e35\u0e49\u0e44\u0e14\u0e49\u0e14\u0e31\u0e07\u0e19\u0e35\u0e49"
   ]
  },
  {
   "cell_type": "code",
   "execution_count": 106,
   "metadata": {
    "id": "cvJTALLM3801"
   },
   "outputs": [],
   "source": [
    "class Circle:\n",
    "    def __init__(self, color, radius):\n",
    "        self.color = color\n",
    "        self.radius = radius"
   ]
  },
  {
   "cell_type": "markdown",
   "metadata": {
    "id": "2SWkd0wC3802"
   },
   "source": [
    "- \u0e04\u0e2d\u0e19\u0e2a\u0e15\u0e23\u0e31\u0e01\u0e40\u0e15\u0e2d\u0e23\u0e4c\u0e02\u0e2d\u0e07\u0e04\u0e25\u0e32\u0e2a `Circle` \u0e08\u0e30\u0e23\u0e31\u0e1a\u0e1e\u0e32\u0e23\u0e32\u0e21\u0e34\u0e40\u0e15\u0e2d\u0e23\u0e4c\u0e2a\u0e33\u0e2b\u0e23\u0e31\u0e1a\u0e04\u0e25\u0e32\u0e2a 2 \u0e15\u0e31\u0e27\u0e04\u0e37\u0e2d `color` \u0e41\u0e25\u0e30 `radius`\n",
    "\n",
    "- \u0e40\u0e21\u0e37\u0e48\u0e2d\u0e40\u0e23\u0e32\u0e23\u0e31\u0e1a\u0e1e\u0e32\u0e23\u0e32\u0e21\u0e34\u0e40\u0e15\u0e2d\u0e23\u0e4c\u0e40\u0e2b\u0e25\u0e48\u0e32\u0e19\u0e35\u0e49\u0e21\u0e32\u0e41\u0e25\u0e49\u0e27 \u0e40\u0e23\u0e32\u0e01\u0e47\u0e08\u0e30\u0e19\u0e33\u0e21\u0e32\u0e43\u0e2a\u0e48\u0e40\u0e1b\u0e47\u0e19**\u0e04\u0e38\u0e13\u0e2a\u0e21\u0e1a\u0e31\u0e15\u0e34** (property) \u0e02\u0e2d\u0e07\u0e04\u0e25\u0e32\u0e2a \u0e42\u0e14\u0e22\u0e40\u0e23\u0e32\u0e08\u0e30\u0e01\u0e33\u0e2b\u0e19\u0e14\u0e04\u0e38\u0e13\u0e2a\u0e21\u0e1a\u0e31\u0e15\u0e34\u0e02\u0e2d\u0e07\u0e04\u0e25\u0e32\u0e2a\u0e14\u0e49\u0e27\u0e22\u0e01\u0e32\u0e23\u0e2d\u0e49\u0e32\u0e07\u0e16\u0e36\u0e07\u0e15\u0e31\u0e27\u0e41\u0e1b\u0e23 `self` \u0e40\u0e0a\u0e48\u0e19\n",
    "```python\n",
    "    def __init__(self, color, radius):\n",
    "        self.color = color\n",
    "        self.radius = radius\n",
    "```\n",
    "\n",
    "- \u0e19\u0e2d\u0e01\u0e08\u0e32\u0e01\u0e19\u0e35\u0e49\u0e40\u0e23\u0e32\u0e22\u0e31\u0e07\u0e2a\u0e32\u0e21\u0e32\u0e23\u0e16\u0e19\u0e34\u0e22\u0e32\u0e21\u0e40\u0e21\u0e18\u0e2d\u0e14\u0e2d\u0e37\u0e48\u0e19\u0e46 \u0e2a\u0e33\u0e2b\u0e23\u0e31\u0e1a\u0e27\u0e31\u0e15\u0e16\u0e38\u0e02\u0e2d\u0e07\u0e04\u0e25\u0e32\u0e2a `Circle` \u0e44\u0e14\u0e49\u0e2d\u0e35\u0e01\u0e14\u0e49\u0e27\u0e22 \u0e43\u0e19\u0e15\u0e31\u0e27\u0e2d\u0e22\u0e48\u0e32\u0e07\u0e02\u0e49\u0e32\u0e07\u0e25\u0e48\u0e32\u0e07\u0e19\u0e35\u0e48 \u0e40\u0e23\u0e32\u0e08\u0e30\u0e19\u0e34\u0e22\u0e32\u0e21\u0e1f\u0e31\u0e07\u0e01\u0e4c\u0e0a\u0e31\u0e19\u0e40\u0e1e\u0e34\u0e48\u0e21\u0e2d\u0e35\u0e01 3 \u0e15\u0e31\u0e27 \u0e44\u0e14\u0e49\u0e41\u0e01\u0e48 `area`, `circumference`, \u0e41\u0e25\u0e30 `get_color`"
   ]
  },
  {
   "cell_type": "code",
   "execution_count": 107,
   "metadata": {
    "id": "a-X-T2Lj3802"
   },
   "outputs": [],
   "source": [
    "pi = 3.1415926\n",
    "\n",
    "class Circle:\n",
    "    \n",
    "    # \u0e04\u0e2d\u0e19\u0e2a\u0e15\u0e23\u0e31\u0e01\u0e40\u0e15\u0e2d\u0e23\u0e4c\n",
    "    def __init__(self, color, radius):\n",
    "        \n",
    "        # \u0e01\u0e33\u0e2b\u0e19\u0e14\u0e2a\u0e35\u0e08\u0e32\u0e01\u0e1e\u0e32\u0e23\u0e32\u0e21\u0e34\u0e40\u0e15\u0e2d\u0e23\u0e4c\n",
    "        self.color = color\n",
    "        \n",
    "        # \u0e01\u0e33\u0e2b\u0e19\u0e14\u0e23\u0e31\u0e28\u0e21\u0e35\u0e08\u0e32\u0e01\u0e1e\u0e32\u0e23\u0e32\u0e21\u0e34\u0e40\u0e15\u0e2d\u0e23\u0e4c\n",
    "        self.radius = radius\n",
    "        \n",
    "    # \u0e04\u0e33\u0e19\u0e27\u0e13\u0e1e\u0e37\u0e49\u0e19\u0e17\u0e35\u0e48\n",
    "    def area(self):\n",
    "        return pi * self.radius**2\n",
    "    \n",
    "    # \u0e04\u0e33\u0e19\u0e27\u0e13\u0e40\u0e2a\u0e49\u0e19\u0e23\u0e2d\u0e1a\u0e27\u0e07\n",
    "    def circumference(self):\n",
    "        return 2 * pi * self.radius\n",
    "    \n",
    "    # \u0e2b\u0e32\u0e04\u0e48\u0e32\u0e2a\u0e35\n",
    "    def get_color(self):\n",
    "        return self.color"
   ]
  },
  {
   "cell_type": "markdown",
   "metadata": {
    "id": "bCYuTlZY3803"
   },
   "source": [
    "- \u0e40\u0e23\u0e32\u0e2a\u0e32\u0e21\u0e32\u0e23\u0e16\u0e1b\u0e23\u0e30\u0e01\u0e32\u0e28\u0e27\u0e31\u0e15\u0e16\u0e38\u0e02\u0e2d\u0e07\u0e04\u0e25\u0e32\u0e2a\u0e44\u0e14\u0e49\u0e42\u0e14\u0e22\u0e40\u0e23\u0e35\u0e22\u0e01\u0e0a\u0e37\u0e48\u0e2d\u0e04\u0e25\u0e32\u0e2a \u0e15\u0e32\u0e21\u0e14\u0e49\u0e27\u0e22\u0e1e\u0e32\u0e23\u0e32\u0e21\u0e34\u0e40\u0e15\u0e2d\u0e23\u0e4c\u0e43\u0e19\u0e04\u0e2d\u0e19\u0e2a\u0e15\u0e23\u0e31\u0e01\u0e40\u0e15\u0e2d\u0e23\u0e4c\n",
    "\n",
    "- \u0e43\u0e19\u0e15\u0e31\u0e27\u0e2d\u0e22\u0e48\u0e32\u0e07\u0e14\u0e49\u0e32\u0e19\u0e25\u0e48\u0e32\u0e07\u0e19\u0e35\u0e49 \u0e40\u0e23\u0e32\u0e1b\u0e23\u0e30\u0e01\u0e32\u0e28\u0e27\u0e31\u0e15\u0e16\u0e38\u0e02\u0e2d\u0e07\u0e04\u0e25\u0e32\u0e2a `Circle` \u0e2d\u0e2d\u0e01\u0e21\u0e32 3 \u0e15\u0e31\u0e27 \u0e2a\u0e31\u0e07\u0e40\u0e01\u0e15\u0e27\u0e48\u0e32\u0e04\u0e23\u0e32\u0e27\u0e19\u0e35\u0e49\u0e40\u0e23\u0e32\u0e08\u0e30\u0e2a\u0e23\u0e49\u0e32\u0e07\u0e27\u0e31\u0e15\u0e16\u0e38\u0e44\u0e14\u0e49\u0e07\u0e48\u0e32\u0e22\u0e01\u0e27\u0e48\u0e32\u0e01\u0e32\u0e23\u0e2a\u0e23\u0e49\u0e32\u0e07\u0e14\u0e34\u0e01\u0e0a\u0e31\u0e19\u0e19\u0e32\u0e23\u0e35\u0e40\u0e2d\u0e07\u0e21\u0e32\u0e01\u0e04\u0e23\u0e31\u0e1a\n",
    "\n",
    "- \u0e08\u0e23\u0e34\u0e07\u0e46 \u0e41\u0e25\u0e49\u0e27\u0e01\u0e32\u0e23\u0e2a\u0e23\u0e49\u0e32\u0e07\u0e04\u0e25\u0e32\u0e2a\u0e40\u0e1b\u0e23\u0e35\u0e22\u0e1a\u0e40\u0e2a\u0e21\u0e37\u0e2d\u0e19\u0e01\u0e32\u0e23\u0e2a\u0e23\u0e49\u0e32\u0e07\u0e41\u0e21\u0e48\u0e1e\u0e34\u0e21\u0e1e\u0e4c (template) \u0e40\u0e1e\u0e37\u0e48\u0e2d\u0e1b\u0e31\u0e4a\u0e21\u0e1b\u0e4c\u0e27\u0e31\u0e15\u0e16\u0e38\u0e08\u0e33\u0e19\u0e27\u0e19\u0e21\u0e32\u0e01\u0e46 \u0e17\u0e35\u0e48\u0e21\u0e35\u0e2b\u0e19\u0e49\u0e32\u0e15\u0e32\u0e04\u0e25\u0e49\u0e32\u0e22\u0e04\u0e25\u0e36\u0e07\u0e01\u0e31\u0e19\u0e2d\u0e2d\u0e01\u0e21\u0e32"
   ]
  },
  {
   "cell_type": "code",
   "execution_count": 108,
   "metadata": {
    "id": "iHvi1bMV3803"
   },
   "outputs": [],
   "source": [
    "circle1 = Circle('red', 30.0)\n",
    "circle2 = Circle('green', 15.5)\n",
    "circle3 = Circle('blue', 10.0)"
   ]
  },
  {
   "cell_type": "markdown",
   "metadata": {
    "id": "fm-q1ktt3804"
   },
   "source": [
    "- \u0e41\u0e25\u0e30\u0e40\u0e23\u0e32\u0e01\u0e47\u0e2a\u0e32\u0e21\u0e32\u0e23\u0e16\u0e40\u0e23\u0e35\u0e22\u0e01\u0e40\u0e21\u0e18\u0e2d\u0e14\u0e02\u0e2d\u0e07\u0e27\u0e31\u0e15\u0e16\u0e38\u0e19\u0e35\u0e49\u0e44\u0e14\u0e49\u0e15\u0e32\u0e21\u0e23\u0e39\u0e1b\u0e41\u0e1a\u0e1a `<\u0e27\u0e31\u0e15\u0e16\u0e38>.<\u0e40\u0e21\u0e18\u0e2d\u0e14>(<\u0e1e\u0e32\u0e23\u0e32\u0e21\u0e34\u0e40\u0e15\u0e2d\u0e23\u0e4c>)` \u0e04\u0e23\u0e31\u0e1a"
   ]
  },
  {
   "cell_type": "code",
   "execution_count": 109,
   "metadata": {
    "colab": {
     "base_uri": "https://localhost:8080/",
     "height": 92
    },
    "id": "mE0mYpK93804",
    "outputId": "e8075703-629c-4d0d-8560-2abf77bfb295"
   },
   "outputs": [
    {
     "name": "stdout",
     "output_type": "stream",
     "text": [
      "Area of circle1 = 2827.43334\n",
      "Circumference of circle2 = 97.3893706\n",
      "Color of circle3 = blue\n"
     ]
    }
   ],
   "source": [
    "print('Area of circle1 =', circle1.area())\n",
    "print('Circumference of circle2 =', circle2.circumference())\n",
    "print('Color of circle3 =', circle3.get_color())"
   ]
  },
  {
   "cell_type": "markdown",
   "metadata": {
    "id": "6GhsEgwz3805"
   },
   "source": [
    "### \u0e41\u0e1a\u0e1a\u0e1d\u0e36\u0e01\u0e2b\u0e31\u0e14 16.1"
   ]
  },
  {
   "cell_type": "markdown",
   "metadata": {
    "id": "oeP9HZvL3805"
   },
   "source": [
    "\u0e04\u0e23\u0e32\u0e27\u0e19\u0e35\u0e49\u0e40\u0e23\u0e32\u0e08\u0e30\u0e21\u0e32\u0e19\u0e34\u0e22\u0e32\u0e21\u0e04\u0e25\u0e32\u0e2a `Square` \u0e01\u0e31\u0e19\u0e1a\u0e49\u0e32\u0e07\u0e19\u0e30\u0e04\u0e23\u0e31\u0e1a \u0e04\u0e25\u0e32\u0e2a `Square` \u0e08\u0e30\u0e21\u0e35\u0e04\u0e38\u0e13\u0e2a\u0e21\u0e1a\u0e31\u0e15\u0e34 2 \u0e15\u0e31\u0e27 \u0e04\u0e37\u0e2d `side` (\u0e04\u0e27\u0e32\u0e21\u0e22\u0e32\u0e27\u0e14\u0e49\u0e32\u0e19) \u0e41\u0e25\u0e30 `color` (\u0e2a\u0e35) \u0e41\u0e25\u0e30\u0e21\u0e35\u0e40\u0e21\u0e18\u0e2d\u0e14 3 \u0e15\u0e31\u0e27 \u0e04\u0e37\u0e2d `area` (\u0e04\u0e33\u0e19\u0e27\u0e13\u0e1e\u0e37\u0e49\u0e19\u0e17\u0e35\u0e48), `circumference` (\u0e04\u0e33\u0e19\u0e27\u0e13\u0e40\u0e2a\u0e49\u0e19\u0e23\u0e2d\u0e1a\u0e27\u0e07), \u0e41\u0e25\u0e30 `get_color` (\u0e2b\u0e32\u0e04\u0e48\u0e32\u0e2a\u0e35) \u0e04\u0e23\u0e31\u0e1a"
   ]
  },
  {
   "cell_type": "code",
   "execution_count": 110,
   "metadata": {
    "id": "Dln89QzT3805"
   },
   "outputs": [],
   "source": [
    "class Square:\n",
    "    \n",
    "    # \u0e04\u0e2d\u0e19\u0e2a\u0e15\u0e23\u0e31\u0e01\u0e40\u0e15\u0e2d\u0e23\u0e4c\n",
    "    def __init__(self, color, side):\n",
    "        \n",
    "        # \u0e01\u0e33\u0e2b\u0e19\u0e14\u0e04\u0e48\u0e32\u0e2a\u0e35\n",
    "        self.color = color\n",
    "        \n",
    "        # \u0e01\u0e33\u0e2b\u0e19\u0e14\u0e04\u0e27\u0e32\u0e21\u0e22\u0e32\u0e27\u0e14\u0e49\u0e32\u0e19\n",
    "        self.side = int(side)\n",
    "        \n",
    "    # \u0e04\u0e33\u0e19\u0e27\u0e13\u0e1e\u0e37\u0e49\u0e19\u0e17\u0e35\u0e48\n",
    "    def area(self):\n",
    "        return self.side ** 2\n",
    "        \n",
    "    # \u0e04\u0e33\u0e19\u0e27\u0e13\u0e40\u0e2a\u0e49\u0e19\u0e23\u0e2d\u0e1a\u0e27\u0e07\n",
    "    def circumference(self):\n",
    "        return self.side * 4\n",
    "        \n",
    "    # \u0e2b\u0e32\u0e04\u0e48\u0e32\u0e2a\u0e35\n",
    "    def get_color(self):\n",
    "        return self.color"
   ]
  },
  {
   "cell_type": "markdown",
   "metadata": {
    "id": "3U4nmaN-3806"
   },
   "source": [
    "\u0e08\u0e32\u0e01\u0e19\u0e31\u0e49\u0e19\u0e40\u0e23\u0e32\u0e08\u0e30\u0e21\u0e32\u0e25\u0e2d\u0e07\u0e2a\u0e23\u0e49\u0e32\u0e07\u0e27\u0e31\u0e15\u0e16\u0e38\u0e08\u0e32\u0e01\u0e04\u0e25\u0e32\u0e2a `Square` \u0e01\u0e31\u0e19\u0e14\u0e39\u0e1a\u0e49\u0e32\u0e07\u0e04\u0e23\u0e31\u0e1a"
   ]
  },
  {
   "cell_type": "code",
   "execution_count": 111,
   "metadata": {
    "id": "Bd7Lq3fM3806"
   },
   "outputs": [],
   "source": [
    "square1 = Square('red', 10.0)\n",
    "square2 = Square('green', 15.0)\n",
    "square3 = Square('blue', 5.75)"
   ]
  },
  {
   "cell_type": "markdown",
   "metadata": {
    "id": "5I7b-ZdM3807"
   },
   "source": [
    "\u0e41\u0e25\u0e30\u0e21\u0e32\u0e25\u0e2d\u0e07\u0e40\u0e23\u0e35\u0e22\u0e01\u0e40\u0e21\u0e18\u0e2d\u0e14\u0e02\u0e2d\u0e07 `Square` \u0e01\u0e31\u0e19\u0e14\u0e39\u0e04\u0e23\u0e31\u0e1a"
   ]
  },
  {
   "cell_type": "code",
   "execution_count": 112,
   "metadata": {
    "id": "_sIzenFW3807"
   },
   "outputs": [
    {
     "name": "stdout",
     "output_type": "stream",
     "text": [
      "Area of square1 = 100\n",
      "Circumference of square2 = 60\n",
      "Color of square3 = blue\n"
     ]
    }
   ],
   "source": [
    "print('Area of square1 =', square1.area())\n",
    "print('Circumference of square2 =', square2.circumference())\n",
    "print('Color of square3 =', square3.get_color())"
   ]
  },
  {
   "cell_type": "markdown",
   "metadata": {
    "id": "ZFy1Zm2E3807"
   },
   "source": [
    "### \u0e01\u0e32\u0e23\u0e16\u0e48\u0e32\u0e22\u0e17\u0e2d\u0e14\u0e04\u0e38\u0e13\u0e2a\u0e21\u0e1a\u0e31\u0e15\u0e34\u0e02\u0e2d\u0e07\u0e04\u0e25\u0e32\u0e2a (Inheritance)"
   ]
  },
  {
   "cell_type": "markdown",
   "metadata": {
    "id": "gv7wi7TJ3808"
   },
   "source": [
    "- \u0e02\u0e49\u0e2d\u0e14\u0e35\u0e2d\u0e35\u0e01\u0e02\u0e49\u0e2d\u0e2b\u0e19\u0e36\u0e48\u0e07\u0e02\u0e2d\u0e07\u0e01\u0e32\u0e23\u0e2a\u0e23\u0e49\u0e32\u0e07\u0e04\u0e25\u0e32\u0e2a\u0e01\u0e47\u0e04\u0e37\u0e2d \u0e40\u0e23\u0e32\u0e2a\u0e32\u0e21\u0e32\u0e23\u0e16\u0e16\u0e48\u0e32\u0e22\u0e17\u0e2d\u0e14\u0e04\u0e38\u0e13\u0e2a\u0e21\u0e1a\u0e31\u0e15\u0e34\u0e02\u0e2d\u0e07\u0e04\u0e25\u0e32\u0e2a\u0e43\u0e2b\u0e49\u0e01\u0e31\u0e1a\u0e04\u0e25\u0e32\u0e2a\u0e25\u0e39\u0e01\u0e2b\u0e25\u0e32\u0e19\u0e44\u0e14\u0e49\u0e2d\u0e35\u0e01\u0e14\u0e49\u0e27\u0e22\n",
    "\n",
    "- \u0e40\u0e0a\u0e48\u0e19 \u0e16\u0e49\u0e32\u0e40\u0e23\u0e32\u0e2a\u0e31\u0e07\u0e40\u0e01\u0e15\u0e04\u0e25\u0e32\u0e2a `Circle` \u0e41\u0e25\u0e30 `Square` \u0e43\u0e2b\u0e49\u0e14\u0e35 \u0e40\u0e23\u0e32\u0e08\u0e30\u0e1e\u0e1a\u0e27\u0e48\u0e32\u0e17\u0e31\u0e49\u0e07\u0e2a\u0e2d\u0e07\u0e04\u0e25\u0e32\u0e2a\u0e19\u0e35\u0e49\u0e21\u0e35\u0e04\u0e38\u0e13\u0e2a\u0e21\u0e1a\u0e31\u0e15\u0e34\u0e23\u0e48\u0e27\u0e21\u0e01\u0e31\u0e19\u0e04\u0e37\u0e2d \u0e21\u0e35 `color` (\u0e2a\u0e35) \u0e40\u0e2b\u0e21\u0e37\u0e2d\u0e19\u0e01\u0e31\u0e19 \u0e41\u0e25\u0e30\u0e21\u0e35\u0e40\u0e21\u0e18\u0e2d\u0e14\u0e23\u0e48\u0e27\u0e21\u0e01\u0e31\u0e19\u0e04\u0e37\u0e2d `get_color` (\u0e2b\u0e32\u0e04\u0e48\u0e32\u0e2a\u0e35)\n",
    "\n",
    "- \u0e17\u0e35\u0e48\u0e40\u0e1b\u0e47\u0e19\u0e40\u0e0a\u0e48\u0e19\u0e19\u0e35\u0e49\u0e01\u0e47\u0e40\u0e1e\u0e23\u0e32\u0e30\u0e27\u0e48\u0e32 \u0e08\u0e23\u0e34\u0e07\u0e46 \u0e41\u0e25\u0e49\u0e27\u0e04\u0e25\u0e32\u0e2a `Circle` (\u0e27\u0e07\u0e01\u0e25\u0e21) \u0e41\u0e25\u0e30 `Square` (\u0e2a\u0e35\u0e48\u0e40\u0e2b\u0e25\u0e35\u0e48\u0e22\u0e21\u0e08\u0e31\u0e15\u0e38\u0e23\u0e31\u0e2a) \u0e15\u0e48\u0e32\u0e07\u0e01\u0e47\u0e40\u0e1b\u0e47\u0e19\u0e23\u0e39\u0e1b\u0e17\u0e23\u0e07\u0e14\u0e49\u0e27\u0e22\u0e01\u0e31\u0e19\u0e17\u0e31\u0e49\u0e07\u0e2a\u0e34\u0e49\u0e19 \u0e40\u0e23\u0e32\u0e08\u0e36\u0e07\u0e21\u0e2d\u0e07\u0e44\u0e14\u0e49\u0e27\u0e48\u0e32\u0e17\u0e31\u0e49\u0e07\u0e2a\u0e2d\u0e07\u0e04\u0e25\u0e32\u0e2a\u0e19\u0e35\u0e49\u0e40\u0e1b\u0e47\u0e19\u0e04\u0e25\u0e32\u0e2a\u0e25\u0e39\u0e01\u0e02\u0e2d\u0e07\u0e04\u0e25\u0e32\u0e2a `Shape` \u0e14\u0e49\u0e27\u0e22\u0e01\u0e31\u0e19\u0e17\u0e31\u0e49\u0e07\u0e2a\u0e34\u0e49\u0e19"
   ]
  },
  {
   "cell_type": "code",
   "execution_count": 113,
   "metadata": {
    "id": "3jTx8vlO3808"
   },
   "outputs": [],
   "source": [
    "class Shape:\n",
    "    \n",
    "    def __init__(self, color):\n",
    "        self.color = color\n",
    "        \n",
    "    # \u0e2b\u0e32\u0e04\u0e48\u0e32\u0e2a\u0e35\n",
    "    def get_color(self):\n",
    "        return self.color"
   ]
  },
  {
   "cell_type": "markdown",
   "metadata": {
    "id": "7nePQ3sr3809"
   },
   "source": [
    "- \u0e2b\u0e32\u0e01\u0e40\u0e23\u0e32\u0e15\u0e49\u0e2d\u0e07\u0e01\u0e32\u0e23\u0e19\u0e34\u0e22\u0e32\u0e21\u0e04\u0e25\u0e32\u0e2a\u0e43\u0e2b\u0e21\u0e48\u0e43\u0e2b\u0e49\u0e40\u0e1b\u0e47\u0e19\u0e04\u0e25\u0e32\u0e2a\u0e25\u0e39\u0e01 \u0e40\u0e23\u0e32\u0e2a\u0e32\u0e21\u0e32\u0e23\u0e16\u0e43\u0e0a\u0e49\u0e04\u0e33\u0e2a\u0e31\u0e48\u0e07 `class` \u0e44\u0e14\u0e49\u0e15\u0e32\u0e21\u0e23\u0e39\u0e1b\u0e41\u0e1a\u0e1a\u0e19\u0e35\u0e49\u0e04\u0e23\u0e31\u0e1a\n",
    "```python\n",
    "    class <\u0e04\u0e25\u0e32\u0e2a\u0e25\u0e39\u0e01> ( <\u0e04\u0e25\u0e32\u0e2a\u0e41\u0e21\u0e48> ) :\n",
    "        <\u0e23\u0e32\u0e22\u0e01\u0e32\u0e23\u0e40\u0e21\u0e18\u0e2d\u0e14>\n",
    "```\n",
    "\n",
    "- \u0e40\u0e21\u0e37\u0e48\u0e2d\u0e40\u0e23\u0e32\u0e1b\u0e23\u0e30\u0e01\u0e32\u0e28\u0e04\u0e25\u0e32\u0e2a\u0e25\u0e39\u0e01\u0e02\u0e36\u0e49\u0e19\u0e21\u0e32\u0e41\u0e25\u0e49\u0e27 \u0e40\u0e23\u0e32\u0e08\u0e30\u0e15\u0e49\u0e2d\u0e07\u0e19\u0e34\u0e22\u0e32\u0e21\u0e04\u0e2d\u0e19\u0e2a\u0e15\u0e23\u0e31\u0e01\u0e40\u0e15\u0e2d\u0e23\u0e4c\u0e43\u0e2b\u0e49\u0e40\u0e23\u0e35\u0e22\u0e01\u0e43\u0e0a\u0e49\u0e04\u0e2d\u0e19\u0e2a\u0e15\u0e23\u0e31\u0e01\u0e40\u0e15\u0e2d\u0e23\u0e4c\u0e02\u0e2d\u0e07\u0e04\u0e25\u0e32\u0e2a\u0e41\u0e21\u0e48\u0e14\u0e49\u0e27\u0e22\u0e04\u0e23\u0e31\u0e1a\n",
    "\n",
    "- \u0e27\u0e34\u0e18\u0e35\u0e01\u0e32\u0e23\u0e40\u0e23\u0e35\u0e22\u0e01\u0e43\u0e0a\u0e49\u0e04\u0e2d\u0e19\u0e2a\u0e15\u0e23\u0e31\u0e01\u0e40\u0e15\u0e2d\u0e23\u0e4c\u0e02\u0e2d\u0e07\u0e04\u0e25\u0e32\u0e2a\u0e41\u0e21\u0e48\u0e04\u0e37\u0e2d\u0e43\u0e0a\u0e49\u0e04\u0e33\u0e2a\u0e31\u0e48\u0e07 `super(<\u0e04\u0e25\u0e32\u0e2a\u0e25\u0e39\u0e01>, self).__init__(<\u0e1e\u0e32\u0e23\u0e32\u0e21\u0e34\u0e40\u0e15\u0e2d\u0e23\u0e4c\u0e2a\u0e33\u0e2b\u0e23\u0e31\u0e1a\u0e04\u0e25\u0e32\u0e2a\u0e41\u0e21\u0e48>)`\n",
    "\n",
    "- \u0e40\u0e0a\u0e48\u0e19 \u0e40\u0e23\u0e32\u0e2a\u0e32\u0e21\u0e32\u0e23\u0e16\u0e19\u0e34\u0e22\u0e32\u0e21\u0e04\u0e25\u0e32\u0e2a `Circle` \u0e43\u0e2b\u0e49\u0e40\u0e1b\u0e47\u0e19\u0e04\u0e25\u0e32\u0e2a\u0e25\u0e39\u0e01\u0e02\u0e2d\u0e07 `Shape` \u0e44\u0e14\u0e49\u0e14\u0e31\u0e07\u0e19\u0e35\u0e49"
   ]
  },
  {
   "cell_type": "code",
   "execution_count": 114,
   "metadata": {
    "id": "P2IMJhjP3809"
   },
   "outputs": [],
   "source": [
    "class Circle(Shape):\n",
    "    \n",
    "    def __init__(self, color, radius):\n",
    "        \n",
    "        # \u0e19\u0e35\u0e48\u0e04\u0e37\u0e2d\u0e27\u0e34\u0e18\u0e35\u0e01\u0e32\u0e23\u0e40\u0e23\u0e35\u0e22\u0e01\u0e04\u0e2d\u0e19\u0e2a\u0e15\u0e23\u0e31\u0e01\u0e40\u0e15\u0e2d\u0e23\u0e4c\u0e02\u0e2d\u0e07\u0e04\u0e25\u0e32\u0e2a\u0e41\u0e21\u0e48 \u0e42\u0e14\u0e22\u0e40\u0e23\u0e32\u0e08\u0e30\u0e15\u0e49\u0e2d\u0e07\u0e1b\u0e49\u0e2d\u0e19\u0e1e\u0e32\u0e23\u0e32\u0e21\u0e34\u0e40\u0e15\u0e2d\u0e23\u0e4c\u0e17\u0e35\u0e48\u0e08\u0e33\u0e40\u0e1b\u0e47\u0e19\u0e2a\u0e33\u0e2b\u0e23\u0e31\u0e1a\u0e04\u0e25\u0e32\u0e2a\u0e41\u0e21\u0e48\u0e40\u0e02\u0e49\u0e32\u0e44\u0e1b\u0e14\u0e49\u0e27\u0e22\n",
    "        super(Circle, self).__init__(color)\n",
    "        \n",
    "        # \u0e2b\u0e25\u0e31\u0e07\u0e08\u0e32\u0e01\u0e19\u0e31\u0e49\u0e19\u0e43\u0e2b\u0e49\u0e40\u0e23\u0e32\u0e01\u0e33\u0e2b\u0e19\u0e14\u0e04\u0e38\u0e13\u0e2a\u0e21\u0e1a\u0e31\u0e15\u0e34\u0e02\u0e2d\u0e07\u0e04\u0e25\u0e32\u0e2a\u0e25\u0e39\u0e01\u0e15\u0e32\u0e21\u0e1b\u0e01\u0e15\u0e34\n",
    "        self.radius = radius\n",
    "        \n",
    "    # \u0e04\u0e33\u0e19\u0e27\u0e13\u0e1e\u0e37\u0e49\u0e19\u0e17\u0e35\u0e48\n",
    "    def area(self):\n",
    "        return pi * self.radius**2\n",
    "    \n",
    "    # \u0e04\u0e33\u0e19\u0e27\u0e13\u0e40\u0e2a\u0e49\u0e19\u0e23\u0e2d\u0e1a\u0e27\u0e07\n",
    "    def circumference(self):\n",
    "        return 2 * pi * self.radius"
   ]
  },
  {
   "cell_type": "markdown",
   "metadata": {
    "id": "jIRJ4F_A3809"
   },
   "source": [
    "- \u0e08\u0e30\u0e2a\u0e31\u0e07\u0e40\u0e01\u0e15\u0e27\u0e48\u0e32 \u0e04\u0e23\u0e32\u0e27\u0e19\u0e35\u0e49\u0e40\u0e23\u0e32\u0e08\u0e30\u0e44\u0e21\u0e48\u0e15\u0e49\u0e2d\u0e07\u0e19\u0e34\u0e22\u0e32\u0e21\u0e1f\u0e31\u0e07\u0e01\u0e4c\u0e0a\u0e31\u0e19 `get_color` \u0e2d\u0e35\u0e01\u0e41\u0e25\u0e49\u0e27 \u0e40\u0e1e\u0e23\u0e32\u0e30\u0e1f\u0e31\u0e07\u0e01\u0e4c\u0e0a\u0e31\u0e19\u0e19\u0e35\u0e49\u0e44\u0e14\u0e49\u0e23\u0e31\u0e1a\u0e01\u0e32\u0e23\u0e16\u0e48\u0e32\u0e22\u0e17\u0e2d\u0e14\u0e21\u0e32\u0e08\u0e32\u0e01\u0e04\u0e25\u0e32\u0e2a `Shape` \u0e2d\u0e22\u0e39\u0e48\u0e41\u0e25\u0e49\u0e27\u0e19\u0e31\u0e48\u0e19\u0e40\u0e2d\u0e07\u0e04\u0e23\u0e31\u0e1a"
   ]
  },
  {
   "cell_type": "code",
   "execution_count": 115,
   "metadata": {
    "id": "gXtExMAh380-"
   },
   "outputs": [
    {
     "name": "stdout",
     "output_type": "stream",
     "text": [
      "Area = 2827.43334\n",
      "Circumference = 188.495556\n",
      "Color = red\n"
     ]
    }
   ],
   "source": [
    "my_circle = Circle('red', 30.0)\n",
    "print('Area =', my_circle.area())\n",
    "print('Circumference =', my_circle.circumference())\n",
    "print('Color =', my_circle.get_color())"
   ]
  },
  {
   "cell_type": "markdown",
   "metadata": {
    "id": "JHdAzJkd380-"
   },
   "source": [
    "### \u0e41\u0e1a\u0e1a\u0e1d\u0e36\u0e01\u0e2b\u0e31\u0e14 16.2"
   ]
  },
  {
   "cell_type": "markdown",
   "metadata": {
    "id": "C1HP3sva380_"
   },
   "source": [
    "\u0e08\u0e07\u0e2d\u0e2d\u0e01\u0e41\u0e1a\u0e1a\u0e04\u0e25\u0e32\u0e2a `Square` \u0e43\u0e2b\u0e49\u0e40\u0e1b\u0e47\u0e19\u0e04\u0e25\u0e32\u0e2a\u0e25\u0e39\u0e01\u0e02\u0e2d\u0e07 `Shape` \u0e42\u0e14\u0e22\u0e40\u0e25\u0e35\u0e22\u0e19\u0e41\u0e1a\u0e1a\u0e08\u0e32\u0e01\u0e41\u0e1a\u0e1a\u0e1d\u0e36\u0e01\u0e2b\u0e31\u0e14 16.1"
   ]
  },
  {
   "cell_type": "code",
   "execution_count": 116,
   "metadata": {
    "id": "pSxig5_k380_"
   },
   "outputs": [],
   "source": [
    "class Square(Shape):\n",
    "    \n",
    "    def __init__(self, color, side):\n",
    "        \n",
    "        # \u0e40\u0e23\u0e35\u0e22\u0e01\u0e43\u0e0a\u0e49\u0e04\u0e2d\u0e19\u0e2a\u0e15\u0e23\u0e31\u0e01\u0e40\u0e15\u0e2d\u0e23\u0e4c\u0e02\u0e2d\u0e07\u0e04\u0e25\u0e32\u0e2a\u0e41\u0e21\u0e48 \u0e2d\u0e22\u0e48\u0e32\u0e25\u0e37\u0e21\u0e1b\u0e49\u0e2d\u0e19\u0e1e\u0e32\u0e23\u0e32\u0e21\u0e34\u0e40\u0e15\u0e2d\u0e23\u0e4c\u0e17\u0e35\u0e48\u0e08\u0e33\u0e40\u0e1b\u0e47\u0e19\u0e40\u0e02\u0e49\u0e32\u0e44\u0e1b\u0e14\u0e49\u0e27\u0e22\n",
    "        super().__init__(color)\n",
    "        \n",
    "        # \u0e01\u0e33\u0e2b\u0e19\u0e14\u0e04\u0e38\u0e13\u0e2a\u0e21\u0e1a\u0e31\u0e15\u0e34\u0e02\u0e2d\u0e07\u0e04\u0e25\u0e32\u0e2a\u0e25\u0e39\u0e01\u0e15\u0e32\u0e21\u0e1b\u0e01\u0e15\u0e34\n",
    "        self.side = int(side)\n",
    "        \n",
    "    # \u0e04\u0e33\u0e19\u0e27\u0e13\u0e1e\u0e37\u0e49\u0e19\u0e17\u0e35\u0e48\n",
    "    def area(self):\n",
    "        return self.side ** 2\n",
    "        \n",
    "    # \u0e04\u0e33\u0e19\u0e27\u0e13\u0e40\u0e2a\u0e49\u0e19\u0e23\u0e2d\u0e1a\u0e27\u0e07\n",
    "    def circumference(self):\n",
    "        return self.side * 4"
   ]
  },
  {
   "cell_type": "markdown",
   "metadata": {
    "id": "SqunQRQk381A"
   },
   "source": [
    "\u0e2d\u0e22\u0e48\u0e32\u0e25\u0e37\u0e21\u0e17\u0e14\u0e2a\u0e2d\u0e1a\u0e19\u0e30\u0e04\u0e23\u0e31\u0e1a\u0e27\u0e48\u0e32 \u0e42\u0e04\u0e49\u0e14\u0e19\u0e35\u0e49\u0e43\u0e0a\u0e49\u0e07\u0e32\u0e19\u0e44\u0e14\u0e49\u0e08\u0e23\u0e34\u0e07\u0e2b\u0e23\u0e37\u0e2d\u0e40\u0e1b\u0e25\u0e48\u0e32"
   ]
  },
  {
   "cell_type": "code",
   "execution_count": 117,
   "metadata": {
    "id": "Kh9Hv0ay381A"
   },
   "outputs": [
    {
     "name": "stdout",
     "output_type": "stream",
     "text": [
      "Area = 100\n",
      "Circumference = 40\n",
      "Color = red\n"
     ]
    }
   ],
   "source": [
    "my_square = Square('red', 10.0)\n",
    "print('Area =', my_square.area())\n",
    "print('Circumference =', my_square.circumference())\n",
    "print('Color =', my_square.get_color())"
   ]
  },
  {
   "cell_type": "markdown",
   "metadata": {
    "id": "sLmlS9ax381A"
   },
   "source": [
    "### \u0e41\u0e1a\u0e1a\u0e1d\u0e36\u0e01\u0e2b\u0e31\u0e14 16.3"
   ]
  },
  {
   "cell_type": "markdown",
   "metadata": {
    "id": "ks11MPA6381B"
   },
   "source": [
    "\u0e2a\u0e21\u0e21\u0e15\u0e34\u0e27\u0e48\u0e32\u0e40\u0e23\u0e32\u0e15\u0e49\u0e2d\u0e07\u0e01\u0e32\u0e23\u0e2d\u0e2d\u0e01\u0e41\u0e1a\u0e1a\u0e04\u0e25\u0e32\u0e2a\u0e2a\u0e33\u0e2b\u0e23\u0e31\u0e1a\u0e23\u0e35\u0e42\u0e21\u0e17\u0e04\u0e2d\u0e19\u0e42\u0e17\u0e23\u0e25 \u0e2b\u0e19\u0e49\u0e32\u0e17\u0e35\u0e48\u0e2b\u0e25\u0e31\u0e01\u0e02\u0e2d\u0e07\u0e23\u0e35\u0e42\u0e21\u0e17\u0e04\u0e2d\u0e19\u0e42\u0e17\u0e23\u0e25\u0e04\u0e37\u0e2d \u0e40\u0e1b\u0e34\u0e14/\u0e1b\u0e34\u0e14 \u0e2d\u0e38\u0e1b\u0e01\u0e23\u0e13\u0e4c\u0e44\u0e1f\u0e1f\u0e49\u0e32 \u0e41\u0e15\u0e48\u0e23\u0e35\u0e42\u0e21\u0e17\u0e04\u0e2d\u0e19\u0e42\u0e17\u0e23\u0e25\u0e2a\u0e33\u0e2b\u0e23\u0e31\u0e1a\u0e2d\u0e38\u0e1b\u0e01\u0e23\u0e13\u0e4c\u0e44\u0e1f\u0e1f\u0e49\u0e32\u0e41\u0e15\u0e48\u0e25\u0e30\u0e0a\u0e19\u0e34\u0e14\u0e01\u0e47\u0e08\u0e30\u0e21\u0e35\u0e2b\u0e19\u0e49\u0e32\u0e17\u0e35\u0e48\u0e40\u0e09\u0e1e\u0e32\u0e30\u0e41\u0e15\u0e01\u0e15\u0e48\u0e32\u0e07\u0e01\u0e31\u0e19\u0e2d\u0e2d\u0e01\u0e44\u0e1b \u0e40\u0e0a\u0e48\u0e19\n",
    "\n",
    "- \u0e23\u0e35\u0e42\u0e21\u0e17\u0e42\u0e17\u0e23\u0e17\u0e31\u0e28\u0e19\u0e4c\u0e01\u0e47\u0e08\u0e30\u0e21\u0e35\u0e1f\u0e31\u0e07\u0e01\u0e4c\u0e0a\u0e31\u0e19\u0e2a\u0e33\u0e2b\u0e23\u0e31\u0e1a\u0e40\u0e1b\u0e25\u0e35\u0e48\u0e22\u0e19\u0e0a\u0e48\u0e2d\u0e07 \u0e40\u0e1e\u0e34\u0e48\u0e21/\u0e25\u0e14\u0e40\u0e2a\u0e35\u0e22\u0e07 \u0e41\u0e25\u0e30\u0e1b\u0e23\u0e31\u0e1a\u0e2a\u0e35\u0e41\u0e25\u0e30\u0e04\u0e27\u0e32\u0e21\u0e2a\u0e27\u0e48\u0e32\u0e07\n",
    "\n",
    "- \u0e43\u0e19\u0e02\u0e13\u0e30\u0e17\u0e35\u0e48\u0e23\u0e35\u0e42\u0e21\u0e17\u0e41\u0e2d\u0e23\u0e4c\u0e01\u0e47\u0e08\u0e30\u0e21\u0e35\u0e1f\u0e31\u0e07\u0e01\u0e4c\u0e0a\u0e31\u0e19\u0e43\u0e19\u0e01\u0e32\u0e23\u0e25\u0e14/\u0e40\u0e1e\u0e34\u0e48\u0e21\u0e2d\u0e38\u0e13\u0e2b\u0e20\u0e39\u0e21\u0e34 \u0e41\u0e25\u0e30\u0e1b\u0e23\u0e31\u0e1a\u0e01\u0e32\u0e23\u0e2a\u0e27\u0e34\u0e07\u0e43\u0e1a\u0e1e\u0e31\u0e14 \u0e40\u0e1b\u0e47\u0e19\u0e15\u0e49\u0e19\n",
    "\n",
    "\u0e43\u0e19\u0e42\u0e08\u0e17\u0e22\u0e4c\u0e02\u0e49\u0e2d\u0e19\u0e35\u0e49 \u0e40\u0e23\u0e32\u0e08\u0e30\u0e43\u0e2b\u0e49\u0e17\u0e48\u0e32\u0e19\u0e2d\u0e2d\u0e01\u0e41\u0e1a\u0e1a\u0e04\u0e25\u0e32\u0e2a\u0e17\u0e31\u0e49\u0e07\u0e2b\u0e21\u0e14 3 \u0e04\u0e25\u0e32\u0e2a\u0e14\u0e49\u0e27\u0e22\u0e01\u0e31\u0e19 \u0e42\u0e14\u0e22\u0e21\u0e35\u0e04\u0e25\u0e32\u0e2a\u0e41\u0e21\u0e48\u0e04\u0e37\u0e2d\u0e04\u0e25\u0e32\u0e2a\u0e23\u0e35\u0e42\u0e21\u0e17\u0e04\u0e2d\u0e19\u0e42\u0e17\u0e23\u0e25 `RemoteControl` \u0e41\u0e25\u0e30\u0e21\u0e35\u0e04\u0e25\u0e32\u0e2a\u0e25\u0e39\u0e01\u0e2d\u0e35\u0e01 2 \u0e04\u0e25\u0e32\u0e2a\u0e04\u0e37\u0e2d \u0e04\u0e25\u0e32\u0e2a\u0e23\u0e35\u0e42\u0e21\u0e17\u0e42\u0e17\u0e23\u0e17\u0e31\u0e28\u0e19\u0e4c `TVRemoteControl` \u0e41\u0e25\u0e30\u0e04\u0e25\u0e32\u0e2a\u0e23\u0e35\u0e42\u0e21\u0e17\u0e41\u0e2d\u0e23\u0e4c `ACRemoteControl`"
   ]
  },
  {
   "cell_type": "markdown",
   "metadata": {
    "id": "R2lUxq8O381B"
   },
   "source": [
    "#### 16.3.1 \u0e04\u0e25\u0e32\u0e2a\u0e41\u0e21\u0e48 `RemoteControl`"
   ]
  },
  {
   "cell_type": "markdown",
   "metadata": {
    "id": "AHU0TmfH381B"
   },
   "source": [
    "\u0e04\u0e25\u0e32\u0e2a\u0e41\u0e21\u0e48\u0e2a\u0e32\u0e21\u0e32\u0e23\u0e16\u0e40\u0e1b\u0e34\u0e14\u0e41\u0e25\u0e30\u0e1b\u0e34\u0e14\u0e2a\u0e27\u0e34\u0e15\u0e0a\u0e4c\u0e44\u0e14\u0e49 \u0e42\u0e14\u0e22\u0e08\u0e30\u0e2a\u0e25\u0e31\u0e1a\u0e04\u0e48\u0e32\u0e02\u0e2d\u0e07\u0e04\u0e38\u0e13\u0e2a\u0e21\u0e1a\u0e31\u0e15\u0e34 `power`"
   ]
  },
  {
   "cell_type": "code",
   "execution_count": 118,
   "metadata": {
    "id": "gQ_UDSlJ381B"
   },
   "outputs": [],
   "source": [
    "class RemoteControl:\n",
    "    \n",
    "    def __init__(self):\n",
    "        \n",
    "        # \u0e1b\u0e34\u0e14\u0e2a\u0e27\u0e34\u0e15\u0e0a\u0e4c\u0e02\u0e2d\u0e07\u0e2d\u0e38\u0e1b\u0e01\u0e23\u0e13\u0e4c\u0e44\u0e1f\u0e1f\u0e49\u0e32\u0e44\u0e27\u0e49\u0e01\u0e48\u0e2d\u0e19\n",
    "        self.power = False\n",
    "        \n",
    "    # \u0e2a\u0e25\u0e31\u0e1a\u0e2a\u0e27\u0e34\u0e15\u0e0a\u0e4c\u0e40\u0e1b\u0e34\u0e14/\u0e1b\u0e34\u0e14\n",
    "    def toggle_power(self):\n",
    "\n",
    "        print(f'Toggle power: {self.power} -> ', end='')\n",
    "        \n",
    "        # \u0e2a\u0e25\u0e31\u0e1a\u0e04\u0e48\u0e32\u0e02\u0e2d\u0e07\u0e04\u0e38\u0e13\u0e2a\u0e21\u0e1a\u0e31\u0e15\u0e34 power (\u0e04\u0e33\u0e43\u0e1a\u0e49: \u0e04\u0e33\u0e2a\u0e31\u0e48\u0e07 not)\n",
    "        self.power = not self.power\n",
    "        \n",
    "        print(f'{self.power}')"
   ]
  },
  {
   "cell_type": "markdown",
   "metadata": {
    "id": "bDEzhMZC381C"
   },
   "source": [
    "\u0e17\u0e14\u0e2a\u0e2d\u0e1a\u0e01\u0e31\u0e19\u0e19\u0e34\u0e14\u0e19\u0e36\u0e07\u0e27\u0e48\u0e32 \u0e04\u0e25\u0e32\u0e2a\u0e19\u0e35\u0e49\u0e43\u0e0a\u0e49\u0e44\u0e14\u0e49\u0e2b\u0e23\u0e37\u0e2d\u0e40\u0e1b\u0e25\u0e48\u0e32"
   ]
  },
  {
   "cell_type": "code",
   "execution_count": 119,
   "metadata": {
    "id": "9j14jTVr381C"
   },
   "outputs": [
    {
     "name": "stdout",
     "output_type": "stream",
     "text": [
      "Toggle power: False -> True\n",
      "Toggle power: True -> False\n",
      "Toggle power: False -> True\n"
     ]
    }
   ],
   "source": [
    "rctrl = RemoteControl()\n",
    "\n",
    "# \u0e04\u0e48\u0e32\u0e2a\u0e27\u0e34\u0e15\u0e0a\u0e4c\u0e04\u0e27\u0e23\u0e08\u0e30\u0e2a\u0e25\u0e31\u0e1a\u0e44\u0e1b\u0e2a\u0e25\u0e31\u0e1a\u0e21\u0e32\n",
    "rctrl.toggle_power()\n",
    "rctrl.toggle_power()\n",
    "rctrl.toggle_power()"
   ]
  },
  {
   "cell_type": "markdown",
   "metadata": {
    "id": "CFsn5-Vf381D"
   },
   "source": [
    "#### 16.3.2 \u0e04\u0e25\u0e32\u0e2a\u0e25\u0e39\u0e01 `TVRemoteControl`: \u0e23\u0e35\u0e42\u0e21\u0e17\u0e42\u0e17\u0e23\u0e17\u0e31\u0e28\u0e19\u0e4c"
   ]
  },
  {
   "cell_type": "markdown",
   "metadata": {
    "id": "iIbpyoVV381D"
   },
   "source": [
    "\u0e04\u0e25\u0e32\u0e2a `TVRemoteControl` \u0e08\u0e30\u0e40\u0e1b\u0e25\u0e35\u0e48\u0e22\u0e19\u0e0a\u0e48\u0e2d\u0e07\u0e44\u0e14\u0e49 \u0e40\u0e1e\u0e34\u0e48\u0e21\u0e40\u0e2a\u0e35\u0e22\u0e07\u0e44\u0e14\u0e49 \u0e41\u0e25\u0e30\u0e25\u0e14\u0e40\u0e2a\u0e35\u0e22\u0e07\u0e44\u0e14\u0e49 \u0e42\u0e14\u0e22\n",
    "\n",
    "- \u0e0a\u0e48\u0e2d\u0e07\u0e08\u0e30\u0e15\u0e49\u0e2d\u0e07\u0e40\u0e1b\u0e47\u0e19\u0e08\u0e33\u0e19\u0e27\u0e19\u0e40\u0e15\u0e47\u0e21\u0e15\u0e31\u0e49\u0e07\u0e41\u0e15\u0e48 1 \u0e08\u0e19\u0e16\u0e36\u0e07 9 \n",
    "\n",
    "- \u0e23\u0e30\u0e14\u0e31\u0e1a\u0e40\u0e2a\u0e35\u0e22\u0e07\u0e08\u0e30\u0e21\u0e35\u0e04\u0e48\u0e32\u0e15\u0e31\u0e49\u0e07\u0e41\u0e15\u0e48 0 \u0e08\u0e19\u0e16\u0e36\u0e07 10 \u0e2b\u0e32\u0e01\u0e25\u0e14\u0e40\u0e2a\u0e35\u0e22\u0e07\u0e2b\u0e23\u0e37\u0e2d\u0e40\u0e1e\u0e34\u0e48\u0e21\u0e40\u0e2a\u0e35\u0e22\u0e07\u0e08\u0e19\u0e40\u0e01\u0e34\u0e19\u0e08\u0e32\u0e01\u0e04\u0e48\u0e32\u0e19\u0e35\u0e49 \u0e04\u0e48\u0e32\u0e01\u0e47\u0e08\u0e30\u0e44\u0e21\u0e48\u0e40\u0e1b\u0e25\u0e35\u0e48\u0e22\u0e19\u0e41\u0e1b\u0e25\u0e07\u0e2d\u0e35\u0e01"
   ]
  },
  {
   "cell_type": "code",
   "execution_count": 120,
   "metadata": {
    "id": "xAyLRl8b381D"
   },
   "outputs": [],
   "source": [
    "class TVRemoteControl(RemoteControl):\n",
    "    \n",
    "    def __init__(self):\n",
    "        \n",
    "        # \u0e40\u0e23\u0e35\u0e22\u0e01\u0e04\u0e2d\u0e19\u0e2a\u0e15\u0e23\u0e31\u0e01\u0e40\u0e15\u0e2d\u0e23\u0e4c\u0e02\u0e2d\u0e07\u0e04\u0e25\u0e32\u0e2a\u0e41\u0e21\u0e48\n",
    "        super().__init__()\n",
    "        \n",
    "        # \u0e01\u0e33\u0e2b\u0e19\u0e14\u0e04\u0e38\u0e13\u0e2a\u0e21\u0e1a\u0e31\u0e15\u0e34\u0e40\u0e09\u0e1e\u0e32\u0e30\u0e02\u0e2d\u0e07\u0e04\u0e25\u0e32\u0e2a\u0e25\u0e39\u0e01\n",
    "        self.channel = 0\n",
    "        self.volume = 5\n",
    "        \n",
    "    # \u0e40\u0e1b\u0e25\u0e35\u0e48\u0e22\u0e19\u0e0a\u0e48\u0e2d\u0e07\u0e43\u0e2b\u0e49\u0e40\u0e1b\u0e47\u0e19\u0e0a\u0e48\u0e2d\u0e07\u0e43\u0e2b\u0e21\u0e48\u0e17\u0e35\u0e48\u0e01\u0e33\u0e2b\u0e19\u0e14\n",
    "    def change_channel(self, new_channel):\n",
    "        \n",
    "        print(f'Change channel: {self.channel} -> ', end='')\n",
    "        \n",
    "        # \u0e40\u0e1b\u0e25\u0e35\u0e48\u0e22\u0e19\u0e0a\u0e48\u0e2d\u0e07 \u0e42\u0e14\u0e22\u0e0a\u0e48\u0e2d\u0e07\u0e08\u0e30\u0e15\u0e49\u0e2d\u0e07\u0e40\u0e1b\u0e47\u0e19\u0e08\u0e33\u0e19\u0e27\u0e19\u0e40\u0e15\u0e47\u0e21\u0e2d\u0e22\u0e39\u0e48\u0e43\u0e19\u0e0a\u0e48\u0e27\u0e07 0 \u0e16\u0e36\u0e07 9 \u0e44\u0e21\u0e48\u0e40\u0e0a\u0e48\u0e19\u0e19\u0e31\u0e49\u0e19\u0e01\u0e47\u0e08\u0e30\u0e44\u0e21\u0e48\u0e40\u0e1b\u0e25\u0e35\u0e48\u0e22\u0e19\u0e0a\u0e48\u0e2d\u0e07\n",
    "        if 0 <= new_channel <= 9:\n",
    "            self.channel = new_channel\n",
    "        \n",
    "        print(f'{self.channel}')\n",
    "        \n",
    "    # \u0e40\u0e1e\u0e34\u0e48\u0e21\u0e40\u0e2a\u0e35\u0e22\u0e07\n",
    "    def increase_volume(self):\n",
    "        \n",
    "        print(f'Increase volume: {self.volume} -> ', end='')\n",
    "        \n",
    "        # \u0e40\u0e1e\u0e34\u0e48\u0e21\u0e40\u0e2a\u0e35\u0e22\u0e07 \u0e42\u0e14\u0e22\u0e04\u0e48\u0e32\u0e23\u0e30\u0e14\u0e31\u0e1a\u0e40\u0e2a\u0e35\u0e22\u0e07\u0e15\u0e49\u0e2d\u0e07\u0e44\u0e21\u0e48\u0e40\u0e01\u0e34\u0e19 10\n",
    "        if self.volume < 10:\n",
    "            self.volume += 1\n",
    "        \n",
    "        print(f'{self.volume}')\n",
    "        \n",
    "    # \u0e25\u0e14\u0e40\u0e2a\u0e35\u0e22\u0e07\n",
    "    def decrease_volume(self):\n",
    "        \n",
    "        print(f'Decrease volume: {self.volume} -> ', end='')\n",
    "        \n",
    "        # \u0e25\u0e14\u0e40\u0e2a\u0e35\u0e22\u0e07 \u0e42\u0e14\u0e22\u0e04\u0e48\u0e32\u0e23\u0e30\u0e14\u0e31\u0e1a\u0e40\u0e2a\u0e35\u0e22\u0e07\u0e15\u0e49\u0e2d\u0e07\u0e44\u0e21\u0e48\u0e15\u0e48\u0e33\u0e01\u0e27\u0e48\u0e32 0\n",
    "        if self.volume > 0:\n",
    "            self.volume -= 1\n",
    "        \n",
    "        print(f'{self.volume}')"
   ]
  },
  {
   "cell_type": "markdown",
   "metadata": {
    "id": "PdYicg9j381E"
   },
   "source": [
    "\u0e17\u0e14\u0e2a\u0e2d\u0e1a\u0e42\u0e04\u0e49\u0e14\u0e01\u0e31\u0e19\u0e2b\u0e19\u0e48\u0e2d\u0e22\u0e04\u0e23\u0e31\u0e1a"
   ]
  },
  {
   "cell_type": "code",
   "execution_count": 121,
   "metadata": {
    "id": "IO9dsDtw381E"
   },
   "outputs": [
    {
     "name": "stdout",
     "output_type": "stream",
     "text": [
      "Change channel: 0 -> 1\n",
      "Change channel: 1 -> 2\n",
      "\n",
      "Change channel: 2 -> 2\n",
      "Change channel: 2 -> 2\n",
      "\n",
      "Increase volume: 5 -> 6\n",
      "Increase volume: 6 -> 7\n",
      "Increase volume: 7 -> 8\n",
      "Increase volume: 8 -> 9\n",
      "Increase volume: 9 -> 10\n",
      "Increase volume: 10 -> 10\n",
      "Increase volume: 10 -> 10\n",
      "Increase volume: 10 -> 10\n",
      "Increase volume: 10 -> 10\n",
      "Increase volume: 10 -> 10\n",
      "Increase volume: 10 -> 10\n",
      "\n",
      "Decrease volume: 10 -> 9\n",
      "Decrease volume: 9 -> 8\n",
      "Decrease volume: 8 -> 7\n",
      "Decrease volume: 7 -> 6\n",
      "Decrease volume: 6 -> 5\n",
      "Decrease volume: 5 -> 4\n",
      "Decrease volume: 4 -> 3\n",
      "Decrease volume: 3 -> 2\n",
      "Decrease volume: 2 -> 1\n",
      "Decrease volume: 1 -> 0\n",
      "Decrease volume: 0 -> 0\n"
     ]
    }
   ],
   "source": [
    "tvremote = TVRemoteControl()\n",
    "\n",
    "# \u0e25\u0e2d\u0e07\u0e40\u0e1b\u0e25\u0e35\u0e48\u0e22\u0e19\u0e0a\u0e48\u0e2d\u0e07\u0e15\u0e32\u0e21\u0e1b\u0e01\u0e15\u0e34\n",
    "tvremote.change_channel(1)\n",
    "tvremote.change_channel(2)\n",
    "print()\n",
    "\n",
    "# \u0e25\u0e2d\u0e07\u0e40\u0e1b\u0e25\u0e35\u0e48\u0e22\u0e19\u0e0a\u0e48\u0e2d\u0e07\u0e17\u0e35\u0e48\u0e40\u0e1b\u0e47\u0e19\u0e44\u0e1b\u0e44\u0e21\u0e48\u0e44\u0e14\u0e49 \u0e0a\u0e48\u0e2d\u0e07\u0e44\u0e21\u0e48\u0e04\u0e27\u0e23\u0e08\u0e30\u0e40\u0e1b\u0e25\u0e35\u0e48\u0e22\u0e19\n",
    "tvremote.change_channel(-1)\n",
    "tvremote.change_channel(11)\n",
    "print()\n",
    "\n",
    "# \u0e25\u0e2d\u0e07\u0e40\u0e1e\u0e34\u0e48\u0e21\u0e40\u0e2a\u0e35\u0e22\u0e07\u0e08\u0e19\u0e2b\u0e25\u0e38\u0e14\u0e0a\u0e48\u0e27\u0e07 \u0e23\u0e30\u0e14\u0e31\u0e1a\u0e40\u0e2a\u0e35\u0e22\u0e07\u0e44\u0e21\u0e48\u0e04\u0e27\u0e23\u0e08\u0e30\u0e40\u0e1e\u0e34\u0e48\u0e21\u0e2d\u0e35\u0e01\n",
    "for i in range(11):\n",
    "    tvremote.increase_volume()\n",
    "print()\n",
    "    \n",
    "# \u0e25\u0e2d\u0e07\u0e25\u0e14\u0e40\u0e2a\u0e35\u0e22\u0e07\u0e44\u0e1b\u0e08\u0e19\u0e2b\u0e25\u0e38\u0e14\u0e0a\u0e48\u0e27\u0e07 \u0e23\u0e30\u0e14\u0e31\u0e1a\u0e40\u0e2a\u0e35\u0e22\u0e07\u0e44\u0e21\u0e48\u0e04\u0e27\u0e23\u0e08\u0e30\u0e25\u0e14\u0e2d\u0e35\u0e01\n",
    "for i in range(11):\n",
    "    tvremote.decrease_volume()"
   ]
  },
  {
   "cell_type": "markdown",
   "metadata": {
    "id": "qzGSgQEg381E"
   },
   "source": [
    "#### 16.3.3 \u0e04\u0e25\u0e32\u0e2a\u0e25\u0e39\u0e01 `ACRemoteControl`: \u0e23\u0e35\u0e42\u0e21\u0e17\u0e41\u0e2d\u0e23\u0e4c"
   ]
  },
  {
   "cell_type": "markdown",
   "metadata": {
    "id": "a7ssLkn7381F"
   },
   "source": [
    "\u0e04\u0e25\u0e32\u0e2a `ACRemoteControl` \u0e08\u0e30\u0e40\u0e1e\u0e34\u0e48\u0e21\u0e23\u0e30\u0e14\u0e31\u0e1a\u0e2d\u0e38\u0e13\u0e2b\u0e20\u0e39\u0e21\u0e34\u0e44\u0e14\u0e49 \u0e25\u0e14\u0e23\u0e30\u0e14\u0e31\u0e1a\u0e2d\u0e38\u0e13\u0e2b\u0e20\u0e39\u0e21\u0e34\u0e44\u0e14\u0e49 \u0e41\u0e25\u0e30\u0e40\u0e1b\u0e34\u0e14/\u0e1b\u0e34\u0e14\u0e01\u0e32\u0e23\u0e2a\u0e27\u0e34\u0e07\u0e43\u0e1a\u0e1e\u0e31\u0e14\u0e44\u0e14\u0e49 \u0e17\u0e31\u0e49\u0e07\u0e19\u0e35\u0e49\u0e2d\u0e38\u0e13\u0e2b\u0e20\u0e39\u0e21\u0e34\u0e08\u0e30\u0e15\u0e49\u0e2d\u0e07\u0e2d\u0e22\u0e39\u0e48\u0e43\u0e19\u0e0a\u0e48\u0e27\u0e07 15-35 \u0e2d\u0e07\u0e28\u0e32\u0e40\u0e0b\u0e25\u0e40\u0e0b\u0e35\u0e22\u0e2a\u0e40\u0e17\u0e48\u0e32\u0e19\u0e31\u0e49\u0e19"
   ]
  },
  {
   "cell_type": "code",
   "execution_count": 122,
   "metadata": {
    "id": "x9C4WCfr381F"
   },
   "outputs": [],
   "source": [
    "class ACRemoteControl(RemoteControl):\n",
    "    \n",
    "    def __init__(self):\n",
    "        \n",
    "        # \u0e40\u0e23\u0e35\u0e22\u0e01\u0e04\u0e2d\u0e19\u0e2a\u0e15\u0e23\u0e31\u0e01\u0e40\u0e15\u0e2d\u0e23\u0e4c\u0e02\u0e2d\u0e07\u0e04\u0e25\u0e32\u0e2a\u0e41\u0e21\u0e48\n",
    "        super().__init__()\n",
    "        \n",
    "        # \u0e01\u0e33\u0e2b\u0e19\u0e14\u0e04\u0e38\u0e13\u0e2a\u0e21\u0e1a\u0e31\u0e15\u0e34\u0e40\u0e09\u0e1e\u0e32\u0e30\u0e02\u0e2d\u0e07\u0e04\u0e25\u0e32\u0e2a\u0e25\u0e39\u0e01\n",
    "        self.temperature = 25\n",
    "        self.fan_swing = True\n",
    "        \n",
    "    # \u0e40\u0e1e\u0e34\u0e48\u0e21\u0e2d\u0e38\u0e13\u0e2b\u0e20\u0e39\u0e21\u0e34\n",
    "    def increase_temperature(self):\n",
    "        \n",
    "        print(f'Increase temperature: {self.temperature} -> ', end='')\n",
    "        \n",
    "        # \u0e40\u0e1e\u0e34\u0e48\u0e21\u0e2d\u0e38\u0e13\u0e2b\u0e20\u0e39\u0e21\u0e34 \u0e42\u0e14\u0e22\u0e04\u0e48\u0e32\u0e23\u0e30\u0e14\u0e31\u0e1a\u0e2d\u0e38\u0e13\u0e2b\u0e20\u0e39\u0e21\u0e34\u0e15\u0e49\u0e2d\u0e07\u0e44\u0e21\u0e48\u0e40\u0e01\u0e34\u0e19 35\n",
    "        if self.temperature < 35:\n",
    "            self.temperature += 1\n",
    "        \n",
    "        print(f'{self.temperature}')\n",
    "        \n",
    "    # \u0e25\u0e14\u0e2d\u0e38\u0e13\u0e2b\u0e20\u0e39\u0e21\u0e34\n",
    "    def decrease_temperature(self):\n",
    "        \n",
    "        print(f'Decrease temperature: {self.temperature} -> ', end='')\n",
    "        \n",
    "        # \u0e25\u0e14\u0e2d\u0e38\u0e13\u0e2b\u0e20\u0e39\u0e21\u0e34 \u0e42\u0e14\u0e22\u0e04\u0e48\u0e32\u0e23\u0e30\u0e14\u0e31\u0e1a\u0e40\u0e2a\u0e35\u0e22\u0e07\u0e15\u0e49\u0e2d\u0e07\u0e44\u0e21\u0e48\u0e15\u0e48\u0e33\u0e01\u0e27\u0e48\u0e32 15\n",
    "        if self.temperature > 15:\n",
    "            self.temperature -= 1\n",
    "        \n",
    "        print(f'{self.temperature}')\n",
    "        \n",
    "    # \u0e2a\u0e25\u0e31\u0e1a\u0e01\u0e32\u0e23\u0e40\u0e1b\u0e34\u0e14/\u0e1b\u0e34\u0e14\u0e2a\u0e27\u0e34\u0e07\u0e43\u0e1a\u0e1e\u0e31\u0e14\n",
    "    def toggle_fan_swing(self):\n",
    "        \n",
    "        print(f'Toggle fan swing: {self.fan_swing} -> ', end='')\n",
    "        \n",
    "        # \u0e2a\u0e25\u0e31\u0e1a\u0e01\u0e32\u0e23\u0e40\u0e1b\u0e34\u0e14/\u0e1b\u0e34\u0e14\u0e2a\u0e27\u0e34\u0e07\u0e43\u0e1a\u0e1e\u0e31\u0e14 (\u0e04\u0e33\u0e43\u0e1a\u0e49: \u0e04\u0e33\u0e2a\u0e31\u0e48\u0e07 not)\n",
    "        self.fan_swing = not self.fan_swing\n",
    "        \n",
    "        print(f'{self.fan_swing}')"
   ]
  },
  {
   "cell_type": "markdown",
   "metadata": {
    "id": "_dKhcbba381G"
   },
   "source": [
    "\u0e25\u0e2d\u0e07\u0e17\u0e14\u0e2a\u0e2d\u0e1a\u0e42\u0e04\u0e49\u0e14\u0e14\u0e49\u0e32\u0e19\u0e1a\u0e19\u0e14\u0e39\u0e19\u0e30\u0e04\u0e23\u0e31\u0e1a \u0e27\u0e48\u0e32\u0e17\u0e33\u0e07\u0e32\u0e19\u0e44\u0e14\u0e49\u0e2b\u0e23\u0e37\u0e2d\u0e40\u0e1b\u0e25\u0e48\u0e32"
   ]
  },
  {
   "cell_type": "code",
   "execution_count": 123,
   "metadata": {
    "id": "H1CT6MUW381G"
   },
   "outputs": [
    {
     "name": "stdout",
     "output_type": "stream",
     "text": [
      "Toggle fan swing: True -> False\n",
      "Toggle fan swing: False -> True\n",
      "Toggle fan swing: True -> False\n",
      "\n",
      "Increase temperature: 25 -> 26\n",
      "Increase temperature: 26 -> 27\n",
      "Increase temperature: 27 -> 28\n",
      "Increase temperature: 28 -> 29\n",
      "Increase temperature: 29 -> 30\n",
      "Increase temperature: 30 -> 31\n",
      "Increase temperature: 31 -> 32\n",
      "Increase temperature: 32 -> 33\n",
      "Increase temperature: 33 -> 34\n",
      "Increase temperature: 34 -> 35\n",
      "Increase temperature: 35 -> 35\n",
      "Increase temperature: 35 -> 35\n",
      "\n",
      "Decrease temperature: 20 -> 19\n",
      "Decrease temperature: 19 -> 18\n",
      "Decrease temperature: 18 -> 17\n",
      "Decrease temperature: 17 -> 16\n",
      "Decrease temperature: 16 -> 15\n",
      "Decrease temperature: 15 -> 15\n",
      "Decrease temperature: 15 -> 15\n",
      "Decrease temperature: 15 -> 15\n",
      "Decrease temperature: 15 -> 15\n",
      "Decrease temperature: 15 -> 15\n",
      "Decrease temperature: 15 -> 15\n",
      "Decrease temperature: 15 -> 15\n"
     ]
    }
   ],
   "source": [
    "acremote = ACRemoteControl()\n",
    "\n",
    "# \u0e25\u0e2d\u0e07\u0e2a\u0e25\u0e31\u0e1a\u0e2a\u0e27\u0e34\u0e15\u0e0a\u0e4c\u0e01\u0e32\u0e23\u0e2a\u0e27\u0e34\u0e07\u0e1e\u0e31\u0e14\u0e25\u0e21\n",
    "acremote.toggle_fan_swing()\n",
    "acremote.toggle_fan_swing()\n",
    "acremote.toggle_fan_swing()\n",
    "print()\n",
    "\n",
    "# \u0e25\u0e2d\u0e07\u0e40\u0e1e\u0e34\u0e48\u0e21\u0e2d\u0e38\u0e13\u0e2b\u0e20\u0e39\u0e21\u0e34\u0e08\u0e19\u0e2b\u0e25\u0e38\u0e14\u0e0a\u0e48\u0e27\u0e07 \u0e23\u0e30\u0e14\u0e31\u0e1a\u0e2d\u0e38\u0e13\u0e2b\u0e20\u0e39\u0e21\u0e34\u0e44\u0e21\u0e48\u0e04\u0e27\u0e23\u0e08\u0e30\u0e40\u0e1e\u0e34\u0e48\u0e21\u0e2d\u0e35\u0e01\n",
    "for i in range(12):\n",
    "    acremote.increase_temperature()\n",
    "print()\n",
    "    \n",
    "# \u0e25\u0e2d\u0e07\u0e25\u0e14\u0e2d\u0e38\u0e13\u0e2b\u0e20\u0e39\u0e21\u0e34\u0e44\u0e1b\u0e08\u0e19\u0e2b\u0e25\u0e38\u0e14\u0e0a\u0e48\u0e27\u0e07 \u0e23\u0e30\u0e14\u0e31\u0e1a\u0e2d\u0e38\u0e13\u0e2b\u0e20\u0e39\u0e21\u0e34\u0e44\u0e21\u0e48\u0e04\u0e27\u0e23\u0e08\u0e30\u0e25\u0e14\u0e2d\u0e35\u0e01\n",
    "acremote.temperature = 20\n",
    "for i in range(12):\n",
    "    acremote.decrease_temperature()"
   ]
  },
  {
   "cell_type": "markdown",
   "metadata": {
    "id": "xjFKKIks09Mr"
   },
   "source": [
    "-----"
   ]
  },
  {
   "cell_type": "markdown",
   "metadata": {
    "id": "gFlT0HospJCu"
   },
   "source": [
    "## \u0e01\u0e34\u0e08\u0e01\u0e23\u0e23\u0e21 17: \u0e01\u0e32\u0e23\u0e40\u0e27\u0e35\u0e22\u0e19\u0e40\u0e01\u0e34\u0e14 (Recursion)"
   ]
  },
  {
   "cell_type": "markdown",
   "metadata": {
    "id": "LiSNVnyKtDB9"
   },
   "source": [
    "### \u0e1f\u0e31\u0e07\u0e01\u0e4c\u0e0a\u0e31\u0e19\u0e40\u0e27\u0e35\u0e22\u0e19\u0e40\u0e01\u0e34\u0e14 (recursive function)"
   ]
  },
  {
   "cell_type": "markdown",
   "metadata": {
    "id": "X1hcr5Q4pbpP"
   },
   "source": [
    "- **\u0e1f\u0e31\u0e07\u0e01\u0e4c\u0e0a\u0e31\u0e19\u0e40\u0e27\u0e35\u0e22\u0e19\u0e40\u0e01\u0e34\u0e14** (recursive function) \u0e04\u0e37\u0e2d\u0e1f\u0e31\u0e07\u0e01\u0e4c\u0e0a\u0e31\u0e19\u0e17\u0e35\u0e48\u0e21\u0e35\u0e01\u0e32\u0e23\u0e40\u0e23\u0e35\u0e22\u0e01\u0e15\u0e31\u0e27\u0e40\u0e2d\u0e07\u0e0b\u0e49\u0e33\u0e44\u0e1b\u0e0b\u0e49\u0e33\u0e21\u0e32\n",
    "\n",
    "- \u0e40\u0e0a\u0e48\u0e19 \u0e1f\u0e31\u0e07\u0e01\u0e4c\u0e0a\u0e31\u0e19\u0e04\u0e33\u0e19\u0e27\u0e13\u0e04\u0e48\u0e32\u0e41\u0e1f\u0e04\u0e17\u0e2d\u0e40\u0e23\u0e35\u0e22\u0e25 (factorial) $ n! = 1 \\times 2 \\times 3 \\times \\ldots \\times n $ \u0e2a\u0e32\u0e21\u0e32\u0e23\u0e16\u0e40\u0e02\u0e35\u0e22\u0e19\u0e43\u0e2b\u0e49\u0e2d\u0e22\u0e39\u0e48\u0e43\u0e19\u0e23\u0e39\u0e1b\u0e1f\u0e31\u0e07\u0e01\u0e4c\u0e0a\u0e31\u0e19\u0e40\u0e27\u0e35\u0e22\u0e19\u0e40\u0e01\u0e34\u0e14\u0e44\u0e14\u0e49\u0e14\u0e31\u0e07\u0e19\u0e35\u0e49\n",
    "\n",
    "$$\n",
    "    \\mathrm{factorial}(n) =\n",
    "    \\begin{cases}\n",
    "        n \\times \\mathrm{factorial}(n - 1) & \\textrm{\u0e40\u0e21\u0e37\u0e48\u0e2d } n > 0 \\\\\n",
    "        1 & \\textrm{\u0e21\u0e34\u0e09\u0e30\u0e19\u0e31\u0e49\u0e19}\n",
    "    \\end{cases}\n",
    "$$\n",
    "\n",
    "- \u0e1f\u0e31\u0e07\u0e01\u0e4c\u0e0a\u0e31\u0e19\u0e40\u0e27\u0e35\u0e22\u0e19\u0e40\u0e01\u0e34\u0e14\u0e08\u0e30\u0e21\u0e35\u0e2d\u0e07\u0e04\u0e4c\u0e1b\u0e23\u0e30\u0e01\u0e2d\u0e1a 2 \u0e2a\u0e48\u0e27\u0e19 \u0e04\u0e37\u0e2d\n",
    "  1. **\u0e2a\u0e48\u0e27\u0e19\u0e40\u0e27\u0e35\u0e22\u0e19\u0e40\u0e01\u0e34\u0e14** (recursive part) \u0e40\u0e1b\u0e47\u0e19\u0e2a\u0e48\u0e27\u0e19\u0e02\u0e2d\u0e07\u0e1f\u0e31\u0e07\u0e01\u0e4c\u0e0a\u0e31\u0e19\u0e17\u0e35\u0e48\u0e21\u0e35\u0e01\u0e32\u0e23\u0e40\u0e23\u0e35\u0e22\u0e01\u0e15\u0e31\u0e27\u0e40\u0e2d\u0e07\u0e0b\u0e49\u0e33\n",
    "  2. **\u0e40\u0e07\u0e37\u0e48\u0e2d\u0e19\u0e44\u0e02\u0e01\u0e32\u0e23\u0e2b\u0e22\u0e38\u0e14\u0e17\u0e33\u0e07\u0e32\u0e19** (termination condition) \u0e40\u0e1b\u0e47\u0e19\u0e40\u0e07\u0e37\u0e48\u0e2d\u0e19\u0e44\u0e02\u0e17\u0e35\u0e48\u0e17\u0e33\u0e43\u0e2b\u0e49\u0e1f\u0e31\u0e07\u0e01\u0e4c\u0e0a\u0e31\u0e19\u0e40\u0e27\u0e35\u0e22\u0e19\u0e40\u0e01\u0e34\u0e14\u0e2b\u0e22\u0e38\u0e14\u0e17\u0e33\u0e07\u0e32\u0e19 \u0e43\u0e19\u0e2a\u0e48\u0e27\u0e19\u0e19\u0e35\u0e49\u0e08\u0e30\u0e44\u0e21\u0e48\u0e21\u0e35\u0e01\u0e32\u0e23\u0e40\u0e23\u0e35\u0e22\u0e01\u0e15\u0e31\u0e27\u0e40\u0e2d\u0e07\u0e0b\u0e49\u0e33\u0e2d\u0e35\u0e01\n",
    "\n",
    "- \u0e22\u0e01\u0e15\u0e31\u0e27\u0e2d\u0e22\u0e48\u0e32\u0e07\u0e40\u0e0a\u0e48\u0e19 \u0e40\u0e27\u0e25\u0e32\u0e17\u0e35\u0e48\u0e40\u0e23\u0e32\u0e08\u0e30\u0e04\u0e33\u0e19\u0e27\u0e13\u0e04\u0e48\u0e32 $ \\mathrm{factorial}(5) $ \u0e40\u0e23\u0e32\u0e08\u0e30\u0e17\u0e33\u0e15\u0e32\u0e21\u0e2a\u0e48\u0e27\u0e19\u0e40\u0e27\u0e35\u0e22\u0e19\u0e40\u0e01\u0e34\u0e14\u0e41\u0e25\u0e30\u0e40\u0e07\u0e37\u0e48\u0e2d\u0e19\u0e44\u0e02\u0e01\u0e32\u0e23\u0e2b\u0e22\u0e38\u0e14\u0e17\u0e33\u0e07\u0e32\u0e19\u0e14\u0e31\u0e07\u0e15\u0e48\u0e2d\u0e44\u0e1b\u0e19\u0e35\u0e49\n",
    "\n",
    "$$\n",
    "    \\mathrm{factorial}(5) = 5 \\times \\mathrm{factorial}(4) \\\\\n",
    "    = 5 \\times 4 \\times \\mathrm{factorial}(3) \\\\\n",
    "    = 5 \\times 4 \\times 3 \\times \\mathrm{factorial}(2) \\\\\n",
    "    = 5 \\times 4 \\times 3 \\times 2 \\times \\mathrm{factorial}(1) \\\\\n",
    "    = 5 \\times 4 \\times 3 \\times 2 \\times 1 \\times \\underline{\\mathrm{factorial}(0)} \\\\\n",
    "    = 5 \\times 4 \\times 3 \\times 2 \\times 1 \\times 1\n",
    "$$"
   ]
  },
  {
   "cell_type": "markdown",
   "metadata": {
    "id": "qe9WGAkbr3oo"
   },
   "source": [
    "- \u0e1f\u0e31\u0e07\u0e01\u0e4c\u0e0a\u0e31\u0e19\u0e41\u0e1f\u0e04\u0e17\u0e2d\u0e40\u0e23\u0e35\u0e22\u0e25\u0e19\u0e35\u0e49\u0e2a\u0e32\u0e21\u0e32\u0e23\u0e16\u0e40\u0e02\u0e35\u0e22\u0e19\u0e40\u0e1b\u0e47\u0e19\u0e42\u0e1b\u0e23\u0e41\u0e01\u0e23\u0e21\u0e20\u0e32\u0e29\u0e32 Python \u0e44\u0e14\u0e49\u0e14\u0e31\u0e07\u0e19\u0e35\u0e49"
   ]
  },
  {
   "cell_type": "code",
   "execution_count": 124,
   "metadata": {
    "id": "tW2KgN6fqRLN"
   },
   "outputs": [],
   "source": [
    "# \u0e1f\u0e31\u0e07\u0e01\u0e4c\u0e0a\u0e31\u0e19\u0e41\u0e1f\u0e04\u0e17\u0e2d\u0e40\u0e23\u0e35\u0e22\u0e25\n",
    "def factorial(n):\n",
    "    # \u0e40\u0e07\u0e37\u0e48\u0e2d\u0e19\u0e44\u0e02\u0e01\u0e32\u0e23\u0e2b\u0e22\u0e38\u0e14\u0e17\u0e33\u0e07\u0e32\u0e19\n",
    "    if n == 0:\n",
    "        return 1\n",
    "    # \u0e2a\u0e48\u0e27\u0e19\u0e40\u0e27\u0e35\u0e22\u0e19\u0e40\u0e01\u0e34\u0e14\n",
    "    else:\n",
    "        return n * factorial(n - 1)     # \u0e2a\u0e31\u0e07\u0e40\u0e01\u0e15\u0e27\u0e48\u0e32\u0e08\u0e30\u0e21\u0e35\u0e01\u0e32\u0e23\u0e40\u0e23\u0e35\u0e22\u0e01\u0e1f\u0e31\u0e07\u0e01\u0e4c\u0e0a\u0e31\u0e19 factorial \u0e0b\u0e49\u0e33\u0e17\u0e35\u0e48\u0e15\u0e23\u0e07\u0e19\u0e35\u0e49"
   ]
  },
  {
   "cell_type": "code",
   "execution_count": 125,
   "metadata": {
    "id": "pRVHcYbFqbHo"
   },
   "outputs": [
    {
     "data": {
      "text/plain": [
       "3628800"
      ]
     },
     "execution_count": 125,
     "metadata": {},
     "output_type": "execute_result"
    }
   ],
   "source": [
    "factorial(10)"
   ]
  },
  {
   "cell_type": "markdown",
   "metadata": {
    "id": "J7VCcgdks7Gq"
   },
   "source": [
    "### \u0e01\u0e32\u0e23\u0e08\u0e14\u0e08\u0e33\u0e23\u0e32\u0e22\u0e17\u0e32\u0e07 (memoization)"
   ]
  },
  {
   "cell_type": "markdown",
   "metadata": {
    "id": "blOTJddutPDc"
   },
   "source": [
    "- \u0e43\u0e19\u0e1a\u0e32\u0e07\u0e04\u0e23\u0e31\u0e49\u0e07\u0e01\u0e32\u0e23\u0e04\u0e33\u0e19\u0e27\u0e13\u0e1f\u0e31\u0e07\u0e01\u0e4c\u0e0a\u0e31\u0e19\u0e40\u0e27\u0e35\u0e22\u0e19\u0e40\u0e01\u0e34\u0e14\u0e08\u0e30\u0e21\u0e35\u0e2a\u0e34\u0e48\u0e07\u0e17\u0e35\u0e48\u0e15\u0e49\u0e2d\u0e07\u0e04\u0e33\u0e19\u0e27\u0e13\u0e0b\u0e49\u0e33\u0e01\u0e31\u0e19\u0e14\u0e49\u0e27\u0e22\n",
    "\n",
    "- \u0e40\u0e0a\u0e48\u0e19 \u0e2d\u0e19\u0e38\u0e01\u0e23\u0e21\u0e02\u0e2d\u0e07\u0e1f\u0e34\u0e42\u0e1a\u0e19\u0e31\u0e0a\u0e0a\u0e35\u0e08\u0e30\u0e40\u0e1b\u0e47\u0e19\u0e14\u0e31\u0e07\u0e19\u0e35\u0e49\u0e04\u0e23\u0e31\u0e1a\n",
    "$$\n",
    "0, 1, 1, 2, 3, 5, 8, 13, 21, \\ldots\n",
    "$$\n",
    "\u0e42\u0e14\u0e22\u0e15\u0e31\u0e27\u0e40\u0e25\u0e02\u0e16\u0e31\u0e14\u0e44\u0e1b\u0e08\u0e30\u0e40\u0e01\u0e34\u0e14\u0e08\u0e32\u0e01\u0e01\u0e32\u0e23\u0e40\u0e2d\u0e32\u0e15\u0e31\u0e27\u0e40\u0e25\u0e02 2 \u0e15\u0e31\u0e27\u0e01\u0e48\u0e2d\u0e19\u0e2b\u0e19\u0e49\u0e32\u0e21\u0e32\u0e1a\u0e27\u0e01\u0e01\u0e31\u0e19\n",
    "\n",
    "- \u0e1f\u0e31\u0e07\u0e01\u0e4c\u0e0a\u0e31\u0e19 Fibonacci (\u0e1f\u0e34\u0e42\u0e1a\u0e19\u0e31\u0e0a\u0e0a\u0e35) \u0e08\u0e30\u0e21\u0e35\u0e19\u0e34\u0e22\u0e32\u0e21\u0e14\u0e31\u0e07\u0e19\u0e35\u0e49\u0e04\u0e23\u0e31\u0e1a\n",
    "\n",
    "$$\n",
    "    \\mathrm{fibonacci}(n) =\n",
    "    \\begin{cases}\n",
    "        \\mathrm{fibonacci}(n - 1) + \\mathrm{fibonacci}(n - 2) & n > 1 \\\\\n",
    "        0 & n = 0 \\\\\n",
    "        1 & n = 1\n",
    "    \\end{cases}\n",
    "$$\n",
    "\n",
    "- \u0e2a\u0e21\u0e21\u0e15\u0e34\u0e27\u0e48\u0e32 \u0e40\u0e23\u0e32\u0e08\u0e30\u0e04\u0e33\u0e19\u0e27\u0e13\u0e04\u0e48\u0e32 $ \\mathrm{fibonacci}(4) $ \u0e40\u0e23\u0e32\u0e08\u0e30\u0e15\u0e49\u0e2d\u0e07\u0e17\u0e33\u0e14\u0e31\u0e07\u0e19\u0e35\u0e49\n",
    "\n",
    "$$\n",
    "    \\mathrm{fibonacci}(4) = \\mathrm{fibonacci}(3) + \\mathrm{fibonacci}(2) \\\\\n",
    "    = \\left[ \\mathrm{fibonacci}(2) + \\mathrm{fibonacci}(1) \\right] + \\left[ \\mathrm{fibonacci}(0) + \\mathrm{fibonacci}(1) \\right] \\\\\n",
    "    = \\left[ \\left[ \\mathrm{fibonacci}(1) + \\mathrm{fibonacci}(0) \\right] + \\mathrm{fibonacci}(1) \\right] + \\left[ \\mathrm{fibonacci}(0) + \\mathrm{fibonacci}(1) \\right] \\\\\n",
    "    = ((1 + 0) + 1) + (0 + 1) \\\\\n",
    "    = 3\n",
    "$$\n",
    "\n",
    "- \u0e1f\u0e31\u0e07\u0e01\u0e4c\u0e0a\u0e31\u0e19\u0e1f\u0e34\u0e42\u0e1a\u0e19\u0e31\u0e0a\u0e0a\u0e35\u0e2a\u0e32\u0e21\u0e32\u0e23\u0e16\u0e40\u0e02\u0e35\u0e22\u0e19\u0e14\u0e49\u0e27\u0e22 Python \u0e44\u0e14\u0e49\u0e14\u0e31\u0e07\u0e19\u0e35\u0e49\u0e04\u0e23\u0e31\u0e1a"
   ]
  },
  {
   "cell_type": "code",
   "execution_count": 126,
   "metadata": {
    "id": "2YfzCO5kvZTL"
   },
   "outputs": [],
   "source": [
    "def fibonacci(n):\n",
    "    if n == 0 or n == 1:\n",
    "        return n\n",
    "    else:\n",
    "        return fibonacci(n - 1) + fibonacci(n - 2)"
   ]
  },
  {
   "cell_type": "code",
   "execution_count": 127,
   "metadata": {
    "id": "-qEwEuaZvgoi"
   },
   "outputs": [
    {
     "data": {
      "text/plain": [
       "3"
      ]
     },
     "execution_count": 127,
     "metadata": {},
     "output_type": "execute_result"
    }
   ],
   "source": [
    "fibonacci(4)"
   ]
  },
  {
   "cell_type": "markdown",
   "metadata": {
    "id": "wKRKRxHPvk8-"
   },
   "source": [
    "- \u0e2d\u0e22\u0e48\u0e32\u0e07\u0e44\u0e23\u0e01\u0e47\u0e15\u0e32\u0e21 \u0e43\u0e19\u0e01\u0e32\u0e23\u0e04\u0e33\u0e19\u0e27\u0e13\u0e04\u0e48\u0e32 $\\mathrm{fibonacci}(4)$ \u0e40\u0e23\u0e32\u0e15\u0e49\u0e2d\u0e07\u0e04\u0e33\u0e19\u0e27\u0e13\u0e04\u0e48\u0e32\u0e02\u0e2d\u0e07 $ \\mathrm{fibonacci}(2) $ \u0e0b\u0e49\u0e33\u0e2a\u0e2d\u0e07\u0e23\u0e2d\u0e1a\n",
    "\n",
    "- \u0e40\u0e23\u0e32\u0e44\u0e21\u0e48\u0e08\u0e33\u0e40\u0e1b\u0e47\u0e19\u0e15\u0e49\u0e2d\u0e07\u0e04\u0e33\u0e19\u0e27\u0e13\u0e2a\u0e34\u0e48\u0e07\u0e17\u0e35\u0e48\u0e40\u0e04\u0e22\u0e04\u0e33\u0e19\u0e27\u0e13\u0e44\u0e1b\u0e41\u0e25\u0e49\u0e27\u0e01\u0e47\u0e44\u0e14\u0e49\u0e04\u0e23\u0e31\u0e1a \u0e40\u0e23\u0e32\u0e04\u0e27\u0e23\u0e08\u0e30\u0e1a\u0e31\u0e19\u0e17\u0e36\u0e01\u0e2a\u0e34\u0e48\u0e07\u0e17\u0e35\u0e48\u0e40\u0e23\u0e32\u0e40\u0e04\u0e22\u0e04\u0e33\u0e19\u0e27\u0e13\u0e44\u0e27\u0e49\u0e41\u0e25\u0e49\u0e27\u0e40\u0e01\u0e47\u0e1a\u0e44\u0e27\u0e49\u0e43\u0e19\u0e2b\u0e19\u0e48\u0e27\u0e22\u0e04\u0e27\u0e32\u0e21\u0e08\u0e33 \u0e40\u0e23\u0e32\u0e40\u0e23\u0e35\u0e22\u0e01\u0e01\u0e23\u0e30\u0e1a\u0e27\u0e19\u0e01\u0e32\u0e23\u0e19\u0e35\u0e49\u0e27\u0e48\u0e32 **\u0e01\u0e32\u0e23\u0e08\u0e14\u0e08\u0e33\u0e23\u0e32\u0e22\u0e17\u0e32\u0e07** (memoization)\n",
    "\n",
    "- \u0e43\u0e19\u0e15\u0e31\u0e27\u0e2d\u0e22\u0e48\u0e32\u0e07\u0e14\u0e49\u0e32\u0e19\u0e25\u0e48\u0e32\u0e07\u0e19\u0e35\u0e49\u0e40\u0e23\u0e32\u0e43\u0e0a\u0e49\u0e01\u0e32\u0e23\u0e08\u0e14\u0e08\u0e33\u0e23\u0e32\u0e22\u0e17\u0e32\u0e07\u0e04\u0e33\u0e15\u0e2d\u0e1a\u0e02\u0e2d\u0e07\u0e1f\u0e31\u0e07\u0e01\u0e4c\u0e0a\u0e31\u0e19\u0e1f\u0e34\u0e42\u0e1a\u0e19\u0e31\u0e0a\u0e0a\u0e35\u0e14\u0e49\u0e27\u0e22\u0e01\u0e32\u0e23\u0e40\u0e01\u0e47\u0e1a\u0e25\u0e07\u0e14\u0e34\u0e01\u0e0a\u0e31\u0e19\u0e19\u0e32\u0e23\u0e35\u0e04\u0e23\u0e31\u0e1a"
   ]
  },
  {
   "cell_type": "code",
   "execution_count": 128,
   "metadata": {
    "id": "kzjjIMaswFjF"
   },
   "outputs": [],
   "source": [
    "fibonacci_memory = {}\n",
    "\n",
    "def fibonacci_memo(n):\n",
    "    if n not in fibonacci_memory:\n",
    "        if n == 0 or n == 1:\n",
    "            fibonacci_memory[n] = n\n",
    "        else:\n",
    "            fibonacci_memory[n] = fibonacci_memo(n - 1) + fibonacci_memo(n - 2)\n",
    "    return fibonacci_memory[n]"
   ]
  },
  {
   "cell_type": "code",
   "execution_count": 129,
   "metadata": {
    "id": "KJWvu0RQwqjc"
   },
   "outputs": [
    {
     "data": {
      "text/plain": [
       "3"
      ]
     },
     "execution_count": 129,
     "metadata": {},
     "output_type": "execute_result"
    }
   ],
   "source": [
    "fibonacci_memo(4)"
   ]
  },
  {
   "cell_type": "code",
   "execution_count": 130,
   "metadata": {
    "id": "gAQ-sMjRwx4F"
   },
   "outputs": [
    {
     "data": {
      "text/plain": [
       "43466557686937456435688527675040625802564660517371780402481729089536555417949051890403879840079255169295922593080322634775209689623239873322471161642996440906533187938298969649928516003704476137795166849228875"
      ]
     },
     "execution_count": 130,
     "metadata": {},
     "output_type": "execute_result"
    }
   ],
   "source": [
    "fibonacci_memo(1000)"
   ]
  },
  {
   "cell_type": "code",
   "execution_count": 131,
   "metadata": {},
   "outputs": [
    {
     "name": "stdout",
     "output_type": "stream",
     "text": [
      "0\n",
      "1\n",
      "1\n",
      "2\n",
      "3\n",
      "5\n"
     ]
    }
   ],
   "source": [
    "fibonacci_memory.clear()\n",
    "for i in range(len(fibonacci_memory)):\n",
    "    print(fibonacci_memory[i])\n",
    "fibonacci_memo(5)\n",
    "for i in range(len(fibonacci_memory)):\n",
    "    print(fibonacci_memory[i])"
   ]
  },
  {
   "cell_type": "markdown",
   "metadata": {
    "id": "4UugmDqRw7S1"
   },
   "source": [
    "- \u0e01\u0e32\u0e23\u0e08\u0e14\u0e08\u0e33\u0e23\u0e32\u0e22\u0e17\u0e32\u0e07\u0e08\u0e30\u0e0a\u0e48\u0e27\u0e22\u0e43\u0e2b\u0e49\u0e40\u0e23\u0e32\u0e2a\u0e32\u0e21\u0e32\u0e23\u0e16\u0e04\u0e33\u0e19\u0e27\u0e13\u0e1f\u0e31\u0e07\u0e01\u0e4c\u0e0a\u0e31\u0e19\u0e40\u0e27\u0e35\u0e22\u0e19\u0e40\u0e01\u0e34\u0e14\u0e44\u0e14\u0e49\u0e23\u0e27\u0e14\u0e40\u0e23\u0e47\u0e27\u0e02\u0e36\u0e49\u0e19\u0e21\u0e32\u0e01\u0e04\u0e23\u0e31\u0e1a"
   ]
  },
  {
   "cell_type": "markdown",
   "metadata": {
    "id": "cCUoR0iIpU5P"
   },
   "source": [
    "-----"
   ]
  },
  {
   "cell_type": "markdown",
   "metadata": {
    "id": "_2zvYcUr06Wa"
   },
   "source": [
    "## \u0e01\u0e34\u0e08\u0e01\u0e23\u0e23\u0e21 18: \u0e42\u0e08\u0e17\u0e22\u0e4c\u0e40\u0e2a\u0e23\u0e34\u0e21\u0e17\u0e31\u0e01\u0e29\u0e30"
   ]
  },
  {
   "cell_type": "markdown",
   "metadata": {
    "id": "yeVvNGsZ1DQC"
   },
   "source": [
    "1. \u0e08\u0e07\u0e40\u0e02\u0e35\u0e22\u0e19\u0e42\u0e1b\u0e23\u0e41\u0e01\u0e23\u0e21\u0e17\u0e35\u0e48\u0e04\u0e33\u0e19\u0e27\u0e13\u0e15\u0e31\u0e27\u0e40\u0e25\u0e02 Fibonacci $ F(n) $ \u0e0b\u0e36\u0e48\u0e07\u0e40\u0e1b\u0e47\u0e19\u0e15\u0e32\u0e21\u0e19\u0e34\u0e22\u0e32\u0e21\u0e15\u0e48\u0e2d\u0e44\u0e1b\u0e19\u0e35\u0e49\n",
    "$$\n",
    "    F(n) =\n",
    "    \\begin{cases}\n",
    "        F(n - 1) + F(n - 2) & n \\geq 2 \\\\\n",
    "        n &  \\\\\n",
    "    \\end{cases}\n",
    "$$\n",
    "\u0e41\u0e25\u0e49\u0e27\u0e17\u0e14\u0e25\u0e2d\u0e07\u0e1e\u0e34\u0e21\u0e1e\u0e4c\u0e04\u0e48\u0e32\u0e02\u0e2d\u0e07 $F(5)$ \u0e2d\u0e2d\u0e01\u0e21\u0e32\n",
    "\n",
    "<u>**\u0e04\u0e33\u0e43\u0e1a\u0e49:**</u> \u0e02\u0e2d\u0e41\u0e19\u0e30\u0e19\u0e33\u0e43\u0e2b\u0e49\u0e43\u0e0a\u0e49\u0e01\u0e32\u0e23\u0e08\u0e14\u0e08\u0e33\u0e23\u0e32\u0e22\u0e17\u0e32\u0e07 (memoization) \u0e40\u0e1e\u0e37\u0e48\u0e2d\u0e04\u0e27\u0e32\u0e21\u0e23\u0e27\u0e14\u0e40\u0e23\u0e47\u0e27\u0e43\u0e19\u0e01\u0e32\u0e23\u0e04\u0e33\u0e19\u0e27\u0e13"
   ]
  },
  {
   "cell_type": "code",
   "execution_count": 132,
   "metadata": {
    "id": "MxxjCN7-2eCV"
   },
   "outputs": [],
   "source": [
    "memory_fibonacci = {}    # \u0e2a\u0e33\u0e2b\u0e23\u0e31\u0e1a\u0e17\u0e48\u0e32\u0e19\u0e17\u0e35\u0e48\u0e40\u0e25\u0e37\u0e2d\u0e01\u0e43\u0e0a\u0e49\u0e27\u0e34\u0e18\u0e35\u0e01\u0e32\u0e23\u0e08\u0e14\u0e08\u0e33\u0e23\u0e32\u0e22\u0e17\u0e32\u0e07 (memoization)\n",
    "\n",
    "def fibonacci(n):\n",
    "    if n not in memory_fibonacci:\n",
    "        if n == 0 or n == 1:\n",
    "            memory_fibonacci[n] = n\n",
    "        else:\n",
    "            memory_fibonacci[n] = fibonacci(n - 1) + fibonacci(n - 2)\n",
    "    # print(memory_fibonacci)\n",
    "    return memory_fibonacci[n]"
   ]
  },
  {
   "cell_type": "code",
   "execution_count": 133,
   "metadata": {
    "id": "Vt5MfFEw381I"
   },
   "outputs": [
    {
     "data": {
      "text/plain": [
       "34"
      ]
     },
     "execution_count": 133,
     "metadata": {},
     "output_type": "execute_result"
    }
   ],
   "source": [
    "fibonacci(9)"
   ]
  },
  {
   "cell_type": "markdown",
   "metadata": {
    "id": "0hd-htWv2fwG"
   },
   "source": [
    "2. \u0e08\u0e07\u0e40\u0e02\u0e35\u0e22\u0e19\u0e42\u0e1b\u0e23\u0e41\u0e01\u0e23\u0e21\u0e40\u0e1e\u0e37\u0e48\u0e2d\u0e04\u0e33\u0e19\u0e27\u0e13\u0e1f\u0e31\u0e07\u0e01\u0e4c\u0e0a\u0e31\u0e19\u0e02\u0e2d\u0e07 Ackermann $ A(m, n) $ \u0e40\u0e21\u0e37\u0e48\u0e2d\n",
    "$$\n",
    "    A(m, n) =\n",
    "    \\begin{cases}\n",
    "        n + 1 & \\textrm{\u0e40\u0e21\u0e37\u0e48\u0e2d } m = 0 \\\\\n",
    "        A(m - 1, 1) & \\textrm{\u0e40\u0e21\u0e37\u0e48\u0e2d } m > 0 \\textrm{ \u0e41\u0e25\u0e30 } n = 0 \\\\\n",
    "        A(m - 1, A(m, n - 1)) & \\textrm{\u0e21\u0e34\u0e09\u0e30\u0e19\u0e31\u0e49\u0e19}\n",
    "    \\end{cases}\n",
    "$$\n",
    "\u0e41\u0e25\u0e49\u0e27\u0e17\u0e14\u0e25\u0e2d\u0e07\u0e1e\u0e34\u0e21\u0e1e\u0e4c\u0e04\u0e48\u0e32\u0e02\u0e2d\u0e07 $A(1, 2)$ \u0e2d\u0e2d\u0e01\u0e21\u0e32\n",
    "\n",
    "<u>**\u0e04\u0e33\u0e43\u0e1a\u0e49:**</u> \u0e02\u0e2d\u0e41\u0e19\u0e30\u0e19\u0e33\u0e43\u0e2b\u0e49\u0e43\u0e0a\u0e49\u0e01\u0e32\u0e23\u0e08\u0e14\u0e08\u0e33\u0e23\u0e32\u0e22\u0e17\u0e32\u0e07 (memoization) \u0e40\u0e1e\u0e37\u0e48\u0e2d\u0e04\u0e27\u0e32\u0e21\u0e23\u0e27\u0e14\u0e40\u0e23\u0e47\u0e27\u0e43\u0e19\u0e01\u0e32\u0e23\u0e04\u0e33\u0e19\u0e27\u0e13"
   ]
  },
  {
   "cell_type": "code",
   "execution_count": 134,
   "metadata": {
    "id": "09VgzGxf3Ukh"
   },
   "outputs": [],
   "source": [
    "memory_ackermann = {}    # \u0e2a\u0e33\u0e2b\u0e23\u0e31\u0e1a\u0e17\u0e48\u0e32\u0e19\u0e17\u0e35\u0e48\u0e40\u0e25\u0e37\u0e2d\u0e01\u0e43\u0e0a\u0e49\u0e27\u0e34\u0e18\u0e35\u0e01\u0e32\u0e23\u0e08\u0e14\u0e08\u0e33\u0e23\u0e32\u0e22\u0e17\u0e32\u0e07 (memoization)\n",
    "\n",
    "def ackermann(m, n):\n",
    "    if (m, n) not in memory_ackermann:\n",
    "        if m == 0:\n",
    "            memory_ackermann[(m, n)] = n + 1\n",
    "        elif m > 0 and n == 0:\n",
    "            memory_ackermann[(m, n)] = ackermann(m - 1, 1)\n",
    "        elif m > 0 and n > 0:\n",
    "            memory_ackermann[(m, n)] = ackermann(m - 1, ackermann(m, n - 1))\n",
    "    # print(memory_ackermann)\n",
    "    return memory_ackermann[(m, n)]"
   ]
  },
  {
   "cell_type": "code",
   "execution_count": 135,
   "metadata": {
    "id": "lhY0qLEf381L"
   },
   "outputs": [
    {
     "data": {
      "text/plain": [
       "253"
      ]
     },
     "execution_count": 135,
     "metadata": {},
     "output_type": "execute_result"
    }
   ],
   "source": [
    "ackermann(3, 5)"
   ]
  },
  {
   "cell_type": "markdown",
   "metadata": {
    "id": "Je2Menr9381M"
   },
   "source": [
    "3. \u0e08\u0e07\u0e40\u0e02\u0e35\u0e22\u0e19\u0e42\u0e1b\u0e23\u0e41\u0e01\u0e23\u0e21\u0e40\u0e1e\u0e37\u0e48\u0e2d\u0e2b\u0e32\u0e04\u0e27\u0e32\u0e21\u0e16\u0e35\u0e48\u0e02\u0e2d\u0e07\u0e15\u0e31\u0e27\u0e2d\u0e31\u0e01\u0e29\u0e23\u0e41\u0e15\u0e48\u0e25\u0e30\u0e15\u0e31\u0e27\u0e17\u0e35\u0e48\u0e2d\u0e22\u0e39\u0e48\u0e43\u0e19\u0e2a\u0e15\u0e23\u0e34\u0e07 `gettysburg_address`"
   ]
  },
  {
   "cell_type": "code",
   "execution_count": 136,
   "metadata": {
    "id": "_gcojsLW381M"
   },
   "outputs": [
    {
     "name": "stdout",
     "output_type": "stream",
     "text": [
      "{'F': 1, 'o': 93, 'u': 21, 'r': 79, ' ': 277, 's': 44, 'c': 31, 'e': 165, 'a': 102, 'n': 76, 'd': 58, 'v': 24, 'y': 10, 'g': 27, 'f': 26, 't': 124, 'h': 80, 'b': 13, 'i': 65, ',': 22, 'w': 26, 'L': 1, 'p': 15, 'l': 41, 'm': 13, 'q': 1, '.': 10, 'N': 1, 'W': 2, '-': 15, 'I': 3, 'B': 1, 'T': 2, 'k': 3, 'G': 1}\n"
     ]
    }
   ],
   "source": [
    "gettysburg_address = 'Four score and seven years ago our fathers brought forth on this continent, a new nation, conceived in Liberty, and dedicated to the proposition that all men are created equal. Now we are engaged in a great civil war, testing whether that nation, or any nation so conceived and so dedicated, can long endure. We are met on a great battle-field of that war. We have come to dedicate a portion of that field, as a final resting place for those who here gave their lives that that nation might live. It is altogether fitting and proper that we should do this. But, in a larger sense, we can not dedicate -- we can not consecrate -- we can not hallow -- this ground. The brave men, living and dead, who struggled here, have consecrated it, far above our poor power to add or detract. The world will little note, nor long remember what we say here, but it can never forget what they did here. It is for us the living, rather, to be dedicated here to the unfinished work which they who fought here have thus far so nobly advanced. It is rather for us to be here dedicated to the great task remaining before us -- that from these honored dead we take increased devotion to that cause for which they gave the last full measure of devotion -- that we here highly resolve that these dead shall not have died in vain -- that this nation, under God, shall have a new birth of freedom -- and that government of the people, by the people, for the people, shall not perish from the earth.'\n",
    "charfreq = {}\n",
    "\n",
    "# \u0e19\u0e31\u0e1a\u0e04\u0e27\u0e32\u0e21\u0e16\u0e35\u0e48\u0e02\u0e2d\u0e07\u0e41\u0e15\u0e48\u0e25\u0e30\u0e15\u0e31\u0e27\u0e2d\u0e31\u0e01\u0e29\u0e23 \u0e40\u0e01\u0e47\u0e1a\u0e04\u0e48\u0e32\u0e04\u0e27\u0e32\u0e21\u0e16\u0e35\u0e48\u0e25\u0e07\u0e43\u0e19\u0e14\u0e34\u0e01\u0e0a\u0e31\u0e19\u0e19\u0e32\u0e23\u0e35 charfreq\n",
    "for char in gettysburg_address:\n",
    "    if char not in charfreq:\n",
    "        charfreq[char] = 1\n",
    "    else:\n",
    "        charfreq[char] += 1\n",
    "\n",
    "# \u0e1e\u0e34\u0e21\u0e1e\u0e4c\u0e14\u0e34\u0e01\u0e0a\u0e31\u0e19\u0e19\u0e32\u0e23\u0e35\u0e19\u0e31\u0e49\u0e19\u0e2d\u0e2d\u0e01\u0e2b\u0e19\u0e49\u0e32\u0e08\u0e2d\n",
    "print(charfreq)"
   ]
  },
  {
   "cell_type": "markdown",
   "metadata": {
    "id": "gLukR21I381N"
   },
   "source": [
    "4. \u0e16\u0e49\u0e32\u0e27\u0e31\u0e19\u0e17\u0e35\u0e48 23 \u0e18\u0e31\u0e19\u0e27\u0e32\u0e04\u0e21 2018 \u0e40\u0e1b\u0e47\u0e19\u0e27\u0e31\u0e19\u0e40\u0e2a\u0e32\u0e23\u0e4c \u0e08\u0e07\u0e40\u0e02\u0e35\u0e22\u0e19\u0e42\u0e1b\u0e23\u0e41\u0e01\u0e23\u0e21\u0e40\u0e1e\u0e37\u0e48\u0e2d\u0e23\u0e31\u0e1a\u0e27\u0e31\u0e19\u0e17\u0e35\u0e48 2 \u0e0a\u0e38\u0e14\u0e43\u0e19\u0e23\u0e39\u0e1b\u0e41\u0e1a\u0e1a\u0e02\u0e2d\u0e07 ddmmyyyy (\u0e40\u0e0a\u0e48\u0e19 `23122018` \u0e2a\u0e33\u0e2b\u0e23\u0e31\u0e1a\u0e27\u0e31\u0e19\u0e17\u0e35\u0e48 23 \u0e18\u0e31\u0e19\u0e27\u0e32\u0e04\u0e21 2018) \u0e41\u0e25\u0e49\u0e27\u0e04\u0e33\u0e19\u0e27\u0e13\u0e27\u0e48\u0e32\u0e43\u0e19\u0e23\u0e30\u0e2b\u0e27\u0e48\u0e32\u0e07\u0e19\u0e31\u0e49\u0e19\u0e21\u0e35\u0e27\u0e31\u0e19\u0e40\u0e2a\u0e32\u0e23\u0e4c\u0e01\u0e35\u0e48\u0e27\u0e31\u0e19\n",
    "  - \u0e04\u0e33\u0e43\u0e1a\u0e49 1: \u0e2d\u0e22\u0e48\u0e32\u0e25\u0e37\u0e21\u0e04\u0e33\u0e19\u0e36\u0e07\u0e16\u0e36\u0e07\u0e1b\u0e35\u0e2d\u0e18\u0e34\u0e01\u0e2a\u0e38\u0e23\u0e17\u0e34\u0e19 (leap year) \u0e0b\u0e36\u0e48\u0e07\u0e40\u0e1b\u0e47\u0e19\u0e1b\u0e35\u0e17\u0e35\u0e48\u0e21\u0e35 366 \u0e27\u0e31\u0e19\u0e14\u0e49\u0e27\u0e22\n",
    "  - \u0e04\u0e33\u0e43\u0e1a\u0e49 2: \u0e1b\u0e35\u0e2d\u0e18\u0e34\u0e01\u0e2a\u0e38\u0e23\u0e17\u0e34\u0e19\u0e04\u0e37\u0e2d\u0e1b\u0e35 \u0e04.\u0e28. \u0e17\u0e35\u0e48\u0e2b\u0e32\u0e23 4 \u0e25\u0e07\u0e15\u0e31\u0e27 \u0e41\u0e15\u0e48\u0e2b\u0e32\u0e23 100 \u0e44\u0e21\u0e48\u0e25\u0e07\u0e15\u0e31\u0e27\n",
    "  - \u0e04\u0e33\u0e43\u0e1a\u0e49 3: \u0e01\u0e32\u0e23\u0e15\u0e23\u0e27\u0e08\u0e2a\u0e2d\u0e1a\u0e27\u0e48\u0e32\u0e2b\u0e32\u0e23\u0e25\u0e07\u0e15\u0e31\u0e27\u0e2b\u0e23\u0e37\u0e2d\u0e44\u0e21\u0e48 \u0e43\u0e2b\u0e49\u0e43\u0e0a\u0e49\u0e15\u0e31\u0e27\u0e14\u0e33\u0e40\u0e19\u0e34\u0e19\u0e01\u0e32\u0e23\u0e04\u0e13\u0e34\u0e15\u0e28\u0e32\u0e2a\u0e15\u0e23\u0e4c `%` (modulo) \u0e40\u0e0a\u0e48\u0e19 `4 % 3 = 1` \u0e43\u0e19\u0e02\u0e13\u0e30\u0e17\u0e35\u0e48 `4 % 2 = 0` \u0e40\u0e1b\u0e47\u0e19\u0e15\u0e49\u0e19"
   ]
  },
  {
   "cell_type": "code",
   "execution_count": 137,
   "metadata": {
    "id": "kopUu9rs381O"
   },
   "outputs": [
    {
     "name": "stdout",
     "output_type": "stream",
     "text": [
      "104\n"
     ]
    }
   ],
   "source": [
    "import datetime\n",
    "import math\n",
    "from_date=\"20122018\"\n",
    "to_date=\"23122020\"\n",
    "\n",
    "def calc_number_of_saturdays(fromdate, todate):\n",
    "  index_date=\"23122018\"\n",
    "  date0=datetime.datetime.strptime(index_date, \"%d%m%Y\")\n",
    "  date1=datetime.datetime.strptime(from_date, \"%d%m%Y\")\n",
    "  date2=datetime.datetime.strptime(to_date, \"%d%m%Y\")\n",
    "  return (abs((date0-date1).days)+abs((date0-date2).days))//7\n",
    "print(calc_number_of_saturdays(from_date, to_date))"
   ]
  },
  {
   "cell_type": "markdown",
   "metadata": {
    "id": "PlCSVGzl381P"
   },
   "source": [
    "5. \u0e2a\u0e21\u0e21\u0e15\u0e34\u0e27\u0e48\u0e32\u0e21\u0e35\u0e41\u0e1c\u0e19\u0e17\u0e35\u0e48\u0e40\u0e02\u0e32\u0e27\u0e07\u0e01\u0e15\u0e0b\u0e36\u0e48\u0e07\u0e40\u0e02\u0e35\u0e22\u0e19\u0e2d\u0e22\u0e39\u0e48\u0e43\u0e19\u0e23\u0e39\u0e1b\u0e02\u0e2d\u0e07 list \u0e02\u0e2d\u0e07 list \u0e0b\u0e36\u0e48\u0e07\u0e21\u0e35\u0e23\u0e39\u0e1b\u0e23\u0e48\u0e32\u0e07\u0e40\u0e1b\u0e47\u0e19\u0e2a\u0e35\u0e48\u0e40\u0e2b\u0e25\u0e35\u0e48\u0e22\u0e21\u0e1c\u0e37\u0e19\u0e1c\u0e49\u0e32\u0e2b\u0e23\u0e37\u0e2d\u0e2a\u0e35\u0e48\u0e40\u0e2b\u0e25\u0e35\u0e48\u0e22\u0e21\u0e08\u0e31\u0e15\u0e38\u0e23\u0e31\u0e2a \u0e40\u0e0a\u0e48\u0e19\n",
    "```python\n",
    "    chaosmap1 = [\n",
    "        '*******',\n",
    "        '*     *',\n",
    "        '* *** *',\n",
    "        '* *** *',\n",
    "        '* *** *',\n",
    "        '*S***G*'\n",
    "    ]\n",
    "```\n",
    "my answer = \n",
    "\n",
    "(5, 1)\n",
    "(4, 1)\n",
    "(3, 1)\n",
    "(2, 1)\n",
    "(1, 1)\n",
    "(1, 2)\n",
    "(1, 3)\n",
    "(1, 4)\n",
    "(1, 5)\n",
    "(2, 5)\n",
    "(3, 5)\n",
    "(4, 5)\n",
    "(5, 5)\n",
    "\n",
    "\u0e42\u0e14\u0e22\u0e15\u0e31\u0e27\u0e2d\u0e31\u0e01\u0e29\u0e23\u0e41\u0e15\u0e48\u0e25\u0e30\u0e15\u0e31\u0e27\u0e08\u0e30\u0e21\u0e35\u0e04\u0e27\u0e32\u0e21\u0e2b\u0e21\u0e32\u0e22\u0e14\u0e31\u0e07\u0e19\u0e35\u0e49\n",
    "  - ` ` \u0e41\u0e17\u0e19\u0e40\u0e2a\u0e49\u0e19\u0e17\u0e32\u0e07\u0e17\u0e35\u0e48\u0e40\u0e14\u0e34\u0e19\u0e44\u0e14\u0e49\n",
    "  - `*` \u0e41\u0e17\u0e19\u0e40\u0e2a\u0e49\u0e19\u0e17\u0e32\u0e07\u0e17\u0e35\u0e48\u0e40\u0e14\u0e34\u0e19\u0e44\u0e1b\u0e44\u0e21\u0e48\u0e44\u0e14\u0e49\n",
    "  - `S` \u0e41\u0e17\u0e19\u0e08\u0e38\u0e14\u0e40\u0e23\u0e34\u0e48\u0e21\u0e15\u0e49\u0e19 (start)\n",
    "  - `G` \u0e41\u0e17\u0e19\u0e08\u0e38\u0e14\u0e40\u0e2a\u0e49\u0e19\u0e0a\u0e31\u0e22 (goal)\n",
    "\n",
    "\u0e43\u0e2b\u0e49\u0e40\u0e02\u0e35\u0e22\u0e19\u0e42\u0e1b\u0e23\u0e41\u0e01\u0e23\u0e21\u0e40\u0e1e\u0e37\u0e48\u0e2d\u0e2b\u0e32<u>**\u0e40\u0e2a\u0e49\u0e19\u0e17\u0e32\u0e07\u0e17\u0e35\u0e48\u0e2a\u0e31\u0e49\u0e19\u0e17\u0e35\u0e48\u0e2a\u0e38\u0e14**</u> \u0e08\u0e32\u0e01\u0e08\u0e38\u0e14\u0e40\u0e23\u0e34\u0e48\u0e21\u0e15\u0e49\u0e19\u0e44\u0e1b\u0e22\u0e31\u0e07\u0e40\u0e2a\u0e49\u0e19\u0e0a\u0e31\u0e22 \u0e40\u0e0a\u0e48\u0e19 \u0e40\u0e2a\u0e49\u0e19\u0e17\u0e32\u0e07\u0e2a\u0e31\u0e49\u0e19\u0e17\u0e35\u0e48\u0e2a\u0e38\u0e14\u0e02\u0e2d\u0e07 `chaosmap1` \u0e08\u0e30\u0e40\u0e1b\u0e47\u0e19\u0e14\u0e31\u0e07\u0e19\u0e35\u0e49\n",
    "```\n",
    "    Route:\n",
    "    (5, 1) <START>\n",
    "    (4, 1)\n",
    "    (3, 1)\n",
    "    (2, 1)\n",
    "    (1, 1)\n",
    "    (1, 1)\n",
    "    (1, 2)\n",
    "    (1, 3)\n",
    "    (1, 4)\n",
    "    (1, 5)\n",
    "    (2, 5)\n",
    "    (3, 5)\n",
    "    (4, 5)\n",
    "    (5, 5) <GOAL>\n",
    "```\n",
    "\n",
    "<u>**\u0e04\u0e33\u0e43\u0e1a\u0e49:**</u> \u0e02\u0e2d\u0e41\u0e19\u0e30\u0e19\u0e33\u0e43\u0e2b\u0e49\u0e43\u0e0a\u0e49\u0e27\u0e34\u0e18\u0e35\u0e01\u0e32\u0e23\u0e08\u0e14\u0e08\u0e33\u0e23\u0e32\u0e22\u0e17\u0e32\u0e07 (memoization) \u0e40\u0e1e\u0e37\u0e48\u0e2d\u0e04\u0e27\u0e32\u0e21\u0e23\u0e27\u0e14\u0e40\u0e23\u0e47\u0e27\u0e43\u0e19\u0e01\u0e32\u0e23\u0e04\u0e33\u0e19\u0e27\u0e13"
   ]
  },
  {
   "cell_type": "code",
   "execution_count": 2,
   "metadata": {},
   "outputs": [],
   "source": [
    "chaosmap1 = [\n",
    "    '*******',\n",
    "    '*     *',\n",
    "    '* *** *',\n",
    "    '* *** *',\n",
    "    '* *** *',\n",
    "    '*S***G*'\n",
    "]\n",
    "\n",
    "chaosmap2 = [\n",
    "    '*************S*******',\n",
    "    '*             *     *',\n",
    "    '* * *** ******* * * *',\n",
    "    '* * *   *       * * *',\n",
    "    '* * ***** ******* * *',\n",
    "    '* *     *   *   * * *',\n",
    "    '******* *** * *** ***',\n",
    "    '*         * *   *   *',\n",
    "    '* * ******* * * *** *',\n",
    "    '* * *       * * *   *',\n",
    "    '* *** ********* * * *',\n",
    "    '*   *           * * *',\n",
    "    '* * *** ********* * *',\n",
    "    '* *   * *       * * *',\n",
    "    '*** * * * ***** * ***',\n",
    "    '*   * * * *   * *   *',\n",
    "    '* ***** * * *** *** *',\n",
    "    '*       * * *   *   *',\n",
    "    '* ******* * * *** * *',\n",
    "    '*   *     *       * *',\n",
    "    '*****G***************'\n",
    "]\n"
   ]
  },
  {
   "cell_type": "code",
   "execution_count": 3,
   "metadata": {
    "id": "Dc-KGo_J381P"
   },
   "outputs": [],
   "source": [
    "\n",
    "memory_traverse = {}   # \u0e2a\u0e33\u0e2b\u0e23\u0e31\u0e1a\u0e17\u0e48\u0e32\u0e19\u0e17\u0e35\u0e48\u0e40\u0e25\u0e37\u0e2d\u0e01\u0e43\u0e0a\u0e49\u0e27\u0e34\u0e18\u0e35\u0e01\u0e32\u0e23\u0e08\u0e14\u0e08\u0e33\u0e23\u0e32\u0e22\u0e17\u0e32\u0e07 (memoization)\n",
    "memory_path = {}\n",
    "best_path = []\n",
    "\n",
    "# A* search algorithm\n",
    "def traverse(chaosmap, show_result=True):\n",
    "    memory_path.clear()\n",
    "    best_path.clear()\n",
    "    start_pos = None\n",
    "    goal_pos = None\n",
    "    for y in range(len(chaosmap)):\n",
    "        for x in range(len(chaosmap[y])):\n",
    "            if chaosmap[y][x] == 'S':\n",
    "                start_pos = (x, y)\n",
    "                memory_path[(x, y)] = 0\n",
    "            elif chaosmap[y][x] == 'G':\n",
    "                goal_pos = (x, y)\n",
    "    if start_pos is None or goal_pos is None:\n",
    "        return False\n",
    "    queues = []\n",
    "    queues.append(start_pos)\n",
    "    while len(queues) > 0:\n",
    "        cur_pos = queues.pop(0)\n",
    "        if cur_pos == goal_pos:\n",
    "            break\n",
    "        for direction in [(-1, 0), (1, 0), (0, -1), (0, 1)]:\n",
    "            new_pos = (cur_pos[0] + direction[0], cur_pos[1] + direction[1])\n",
    "            if (new_pos in memory_traverse) and memory_traverse[new_pos] is False:\n",
    "                continue\n",
    "            else:\n",
    "                memory_traverse[new_pos] = False\n",
    "                if new_pos[0] < 0 or new_pos[0] >= len(chaosmap[0]) or new_pos[1] < 0 or new_pos[1] >= len(chaosmap):\n",
    "                    continue\n",
    "                if chaosmap[new_pos[1]][new_pos[0]] == '*':\n",
    "                    continue\n",
    "                if new_pos in memory_path:\n",
    "                    continue\n",
    "                memory_traverse[new_pos] = True\n",
    "                memory_path[new_pos] = memory_path[cur_pos] + 1\n",
    "                queues.append(new_pos)\n",
    "\n",
    "    # select best path in memory_path\n",
    "    cur_pos = goal_pos\n",
    "    while cur_pos != start_pos:\n",
    "        best_path.append(cur_pos)\n",
    "        for direction in [(-1, 0), (1, 0), (0, -1), (0, 1)]:\n",
    "            new_pos = (cur_pos[0] + direction[0], cur_pos[1] + direction[1])\n",
    "            if new_pos in memory_path and memory_path[new_pos] == memory_path[cur_pos] - 1:\n",
    "                cur_pos = new_pos\n",
    "                break\n",
    "    best_path.append(start_pos)\n",
    "    best_path.reverse()\n",
    "    show_result and print('Route:\\n'+'\\n'.join([f'{str((x, y))}{\" <START>\" if best_path.index((x,y)) == 0 else \"\"}{\" <GOAL>\" if best_path.index((x,y)) == len(best_path) - 1 else \"\"}' for x, y in best_path]))\n",
    "\n",
    "class Checker:\n",
    "    \"\"\"\n",
    "    Checking if the path is valid\n",
    "    \"\"\"\n",
    "    def __init__(self, **kwargs) -> None:\n",
    "        \"\"\"Initialize the checker\"\"\"\n",
    "        self.name = kwargs.get('name', 'Untitled')\n",
    "        self.chaosmap = kwargs.get('chaosmap', [])\n",
    "        self.memory_path = kwargs.get('memory_path', {})\n",
    "        self.best_path = kwargs.get('best_path', [])\n",
    "        self.wall = '*'\n",
    "        self.start = 'S'\n",
    "        self.goal = 'G'\n",
    "        self.walkpath = ' '\n",
    "        self.draw_wall = '\u2588\u2588\u2588\u2588'\n",
    "        self.draw_walkpath = '    '\n",
    "        self.draw_walkpath_walked = '\u2591\u2591\u2591\u2591'\n",
    "        self.draw_start = 'SSSS'\n",
    "        self.draw_goal = 'GGGG'\n",
    "        self.width = len(self.draw_wall)\n",
    "    def __str__(self) -> str:\n",
    "        \"\"\"Return visualized chaosmap without any path.\n",
    "\n",
    "        Returns:\n",
    "            str: visualized chaosmap without any path.\n",
    "        \"\"\"\n",
    "        return self.__draw()\n",
    "    def __draw(self, **kwargs) -> str:\n",
    "        \"\"\"Return visualized chaosmap with path.\n",
    "        \n",
    "        Args:\n",
    "            **kwargs:\n",
    "                path (list): Best path list.\n",
    "                start (tuple): start character marker.\n",
    "                goal (tuple): goal character marker.\n",
    "                wall (str): wall character maker.\n",
    "                walkpath (str): walkpath character marker.\n",
    "                draw_wall (str): wall character to be show when needed.\n",
    "                draw_walkpath (str): walkpath character to be show when needed.\n",
    "                draw_start (str): start character to be show when needed.\n",
    "                draw_goal (str): goal character to be show when needed.\n",
    "                blank (str): show instead of unknown charater.\n",
    "        Returns:\n",
    "            str: visualized chaosmap with path customized.\n",
    "        \"\"\"\n",
    "        wall = kwargs.get('wall', self.wall)\n",
    "        draw_wall = kwargs.get('draw_wall', self.draw_wall)\n",
    "        start = kwargs.get('start', self.start)\n",
    "        draw_start = kwargs.get('draw_start', self.draw_start)\n",
    "        goal = kwargs.get('goal', self.goal)\n",
    "        draw_goal = kwargs.get('draw_goal', self.draw_goal)\n",
    "        walkpath = kwargs.get('walkpath', self.walkpath)\n",
    "        draw_walkpath = kwargs.get('draw_walkpath', self.draw_walkpath)\n",
    "        draw_walkpath_walked = kwargs.get('draw_walkpath_walked', self.draw_walkpath_walked)\n",
    "        blank = kwargs.get('blank', '    ')\n",
    "        ret = f'Name: {self.name}\\n' + ''.join([f'{str(num):^4}' for num in range(len(self.chaosmap[0]))] + ['\\n'])\n",
    "        for y in range(len(self.chaosmap)):\n",
    "            for x in range(len(self.chaosmap[y])):\n",
    "                curr_char = self.chaosmap[y][x]\n",
    "                coord = {'x': x, 'y': y, 'step': self.memory_path[(x, y)] if (x,y) in self.memory_path else 0}\n",
    "                if (x, y) in self.best_path and self.chaosmap[y][x] not in [wall, start, goal]:\n",
    "                    ret += draw_walkpath_walked.format_map(coord)\n",
    "                elif curr_char == wall:\n",
    "                    ret += draw_wall.format_map(coord)\n",
    "                elif curr_char == start:\n",
    "                    ret += draw_start.format_map(coord)\n",
    "                elif curr_char == goal:\n",
    "                    ret += draw_goal.format_map(coord)\n",
    "                elif curr_char == walkpath:\n",
    "                    ret += draw_walkpath.format_map(coord)\n",
    "                else:\n",
    "                    ret += blank.format_map(coord)\n",
    "            ret += f'{y:^4}' + '\\n'\n",
    "        return ret\n",
    "    def draw_trace(self,**kwargs) -> None:\n",
    "        print(self.__draw(draw_walkpath_walked='{step:>4}', draw_walkpath='    '))\n",
    "    def draw(self):\n",
    "        print(self.__draw())"
   ]
  },
  {
   "cell_type": "code",
   "execution_count": 4,
   "metadata": {},
   "outputs": [
    {
     "name": "stdout",
     "output_type": "stream",
     "text": [
      "Name: Random Maze\n",
      " 0   1   2   3   4   5   6   7   8   9   10  11  12  13  14  15  16  17  18  19  20 \n",
      "//////////////////////////////////////////////////// SS //////////////////////////// 0  \n",
      "////        \u2591\u2591\u2591\u2591\u2591\u2591\u2591\u2591\u2591\u2591\u2591\u2591\u2591\u2591\u2591\u2591\u2591\u2591\u2591\u2591\u2591\u2591\u2591\u2591\u2591\u2591\u2591\u2591\u2591\u2591\u2591\u2591\u2591\u2591\u2591\u2591\u2591\u2591\u2591\u2591\u2591\u2591\u2591\u2591////\u2591\u2591\u2591\u2591\u2591\u2591\u2591\u2591\u2591\u2591\u2591\u2591        //// 1  \n",
      "////    ////\u2591\u2591\u2591\u2591////////////    ////////////////////////////\u2591\u2591\u2591\u2591////\u2591\u2591\u2591\u2591////    //// 2  \n",
      "////    ////\u2591\u2591\u2591\u2591////            ////\u2591\u2591\u2591\u2591\u2591\u2591\u2591\u2591\u2591\u2591\u2591\u2591\u2591\u2591\u2591\u2591\u2591\u2591\u2591\u2591\u2591\u2591\u2591\u2591\u2591\u2591\u2591\u2591////\u2591\u2591\u2591\u2591////    //// 3  \n",
      "////    ////\u2591\u2591\u2591\u2591////////////////////\u2591\u2591\u2591\u2591////////////////////////////\u2591\u2591\u2591\u2591////    //// 4  \n",
      "////    ////\u2591\u2591\u2591\u2591\u2591\u2591\u2591\u2591\u2591\u2591\u2591\u2591\u2591\u2591\u2591\u2591\u2591\u2591\u2591\u2591////\u2591\u2591\u2591\u2591\u2591\u2591\u2591\u2591\u2591\u2591\u2591\u2591////            ////\u2591\u2591\u2591\u2591////    //// 5  \n",
      "////////////////////////////\u2591\u2591\u2591\u2591////////////\u2591\u2591\u2591\u2591////    ////////////\u2591\u2591\u2591\u2591//////////// 6  \n",
      "////\u2591\u2591\u2591\u2591\u2591\u2591\u2591\u2591\u2591\u2591\u2591\u2591\u2591\u2591\u2591\u2591\u2591\u2591\u2591\u2591\u2591\u2591\u2591\u2591\u2591\u2591\u2591\u2591        ////\u2591\u2591\u2591\u2591////            ////\u2591\u2591\u2591\u2591\u2591\u2591\u2591\u2591\u2591\u2591\u2591\u2591//// 7  \n",
      "////\u2591\u2591\u2591\u2591////    ////////////////////////////\u2591\u2591\u2591\u2591////    ////    ////////////\u2591\u2591\u2591\u2591//// 8  \n",
      "////\u2591\u2591\u2591\u2591////    ////\u2591\u2591\u2591\u2591\u2591\u2591\u2591\u2591\u2591\u2591\u2591\u2591\u2591\u2591\u2591\u2591\u2591\u2591\u2591\u2591\u2591\u2591\u2591\u2591\u2591\u2591\u2591\u2591////    ////    ////\u2591\u2591\u2591\u2591\u2591\u2591\u2591\u2591\u2591\u2591\u2591\u2591//// 9  \n",
      "////\u2591\u2591\u2591\u2591////////////\u2591\u2591\u2591\u2591////////////////////////////////////    ////\u2591\u2591\u2591\u2591////    //// 10 \n",
      "////\u2591\u2591\u2591\u2591\u2591\u2591\u2591\u2591\u2591\u2591\u2591\u2591////\u2591\u2591\u2591\u2591\u2591\u2591\u2591\u2591\u2591\u2591\u2591\u2591                                ////\u2591\u2591\u2591\u2591////    //// 11 \n",
      "////    ////\u2591\u2591\u2591\u2591////////////\u2591\u2591\u2591\u2591////////////////////////////////////\u2591\u2591\u2591\u2591////    //// 12 \n",
      "////    ////\u2591\u2591\u2591\u2591        ////\u2591\u2591\u2591\u2591////\u2591\u2591\u2591\u2591\u2591\u2591\u2591\u2591\u2591\u2591\u2591\u2591\u2591\u2591\u2591\u2591\u2591\u2591\u2591\u2591\u2591\u2591\u2591\u2591\u2591\u2591\u2591\u2591////\u2591\u2591\u2591\u2591////    //// 13 \n",
      "////////////\u2591\u2591\u2591\u2591////    ////\u2591\u2591\u2591\u2591////\u2591\u2591\u2591\u2591////////////////////\u2591\u2591\u2591\u2591////\u2591\u2591\u2591\u2591//////////// 14 \n",
      "////\u2591\u2591\u2591\u2591\u2591\u2591\u2591\u2591\u2591\u2591\u2591\u2591////    ////\u2591\u2591\u2591\u2591////\u2591\u2591\u2591\u2591////            ////\u2591\u2591\u2591\u2591////\u2591\u2591\u2591\u2591\u2591\u2591\u2591\u2591\u2591\u2591\u2591\u2591//// 15 \n",
      "////\u2591\u2591\u2591\u2591////////////////////\u2591\u2591\u2591\u2591////\u2591\u2591\u2591\u2591////    ////////////\u2591\u2591\u2591\u2591////////////\u2591\u2591\u2591\u2591//// 16 \n",
      "////\u2591\u2591\u2591\u2591\u2591\u2591\u2591\u2591\u2591\u2591\u2591\u2591\u2591\u2591\u2591\u2591\u2591\u2591\u2591\u2591\u2591\u2591\u2591\u2591\u2591\u2591\u2591\u2591////\u2591\u2591\u2591\u2591////    ////\u2591\u2591\u2591\u2591\u2591\u2591\u2591\u2591\u2591\u2591\u2591\u2591////\u2591\u2591\u2591\u2591\u2591\u2591\u2591\u2591\u2591\u2591\u2591\u2591//// 17 \n",
      "////    ////////////////////////////\u2591\u2591\u2591\u2591////    ////\u2591\u2591\u2591\u2591////////////\u2591\u2591\u2591\u2591////    //// 18 \n",
      "////            ////\u2591\u2591\u2591\u2591\u2591\u2591\u2591\u2591\u2591\u2591\u2591\u2591\u2591\u2591\u2591\u2591\u2591\u2591\u2591\u2591////        \u2591\u2591\u2591\u2591\u2591\u2591\u2591\u2591\u2591\u2591\u2591\u2591\u2591\u2591\u2591\u2591\u2591\u2591\u2591\u2591////    //// 19 \n",
      "//////////////////// GG //////////////////////////////////////////////////////////// 20 \n",
      "\n"
     ]
    }
   ],
   "source": [
    "_maze = chaosmap2\n",
    "checking = {\n",
    "    'name': 'Random Maze',\n",
    "    'chaosmap': _maze,\n",
    "    'memory_path': memory_path,\n",
    "    'best_path': best_path,\n",
    "}\n",
    "\n",
    "traverse(_maze, show_result=False)\n",
    "map = Checker(**checking)\n",
    "map.draw_walkpath_walked = '\u2591\u2591\u2591\u2591'\n",
    "map.draw_walkpath = '    '\n",
    "map.draw_goal = ' GG '\n",
    "map.draw_start = ' SS '\n",
    "map.draw_wall = '////'\n",
    "map.draw()"
   ]
  }
 ],
 "metadata": {
  "colab": {
   "collapsed_sections": [],
   "name": "Advanced Data Structures in Python (Thai).ipynb",
   "provenance": []
  },
  "kernelspec": {
   "display_name": "Python 3",
   "language": "python",
   "name": "python3"
  },
  "language_info": {
   "codemirror_mode": {
    "name": "ipython",
    "version": 3
   },
   "file_extension": ".py",
   "mimetype": "text/x-python",
   "name": "python",
   "nbconvert_exporter": "python",
   "pygments_lexer": "ipython3",
   "version": "3.8.10"
  }
 },
 "nbformat": 4,
 "nbformat_minor": 0
}