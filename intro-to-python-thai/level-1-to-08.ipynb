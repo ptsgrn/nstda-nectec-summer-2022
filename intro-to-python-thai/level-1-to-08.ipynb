{
 "cells": [
  {
   "cell_type": "markdown",
   "metadata": {
    "id": "VBCKlrw7AWuU"
   },
   "source": [
    "# \u0e01\u0e32\u0e23\u0e42\u0e1b\u0e23\u0e41\u0e01\u0e23\u0e21\u0e20\u0e32\u0e29\u0e32 Python (\u0e44\u0e1e\u0e18\u0e2d\u0e19) \u0e40\u0e1a\u0e37\u0e49\u0e2d\u0e07\u0e15\u0e49\u0e19 \u2014 https://tinyurl.com/y9wmkgj5"
   ]
  },
  {
   "cell_type": "markdown",
   "metadata": {
    "id": "TFs0ZirfQ9Ik"
   },
   "source": [
    "\u0e1b\u0e23\u0e31\u0e0a\u0e0d\u0e32 \u0e1a\u0e38\u0e0d\u0e02\u0e27\u0e31\u0e0d\n",
    "\n",
    "Email: `prachya.boonkwan@nectec.or.th`\n",
    "\n",
    "(C) December 2018"
   ]
  },
  {
   "cell_type": "markdown",
   "metadata": {
    "id": "xsYxzbNfAmW_"
   },
   "source": [
    "## \u0e1a\u0e17\u0e19\u0e33\n",
    "\n",
    "- \u0e2a\u0e33\u0e2b\u0e23\u0e31\u0e1a\u0e27\u0e31\u0e19\u0e19\u0e35\u0e49 \u0e40\u0e23\u0e32\u0e08\u0e30\u0e21\u0e32\u0e2b\u0e31\u0e14\u0e40\u0e02\u0e35\u0e22\u0e19\u0e42\u0e1b\u0e23\u0e41\u0e01\u0e23\u0e21\u0e20\u0e32\u0e29\u0e32 Python \u0e01\u0e31\u0e19\u0e04\u0e23\u0e31\u0e1a\n",
    "- \u0e20\u0e32\u0e29\u0e32 Python\n",
    "  - \u0e20\u0e32\u0e29\u0e32\u0e42\u0e1b\u0e23\u0e41\u0e01\u0e23\u0e21\u0e22\u0e2d\u0e14\u0e19\u0e34\u0e22\u0e21\u0e2a\u0e33\u0e2b\u0e23\u0e31\u0e1a\u0e07\u0e32\u0e19\u0e14\u0e49\u0e32\u0e19\u0e27\u0e34\u0e17\u0e22\u0e32\u0e01\u0e32\u0e23\u0e02\u0e49\u0e2d\u0e21\u0e39\u0e25 (data science) \u0e41\u0e25\u0e30\u0e1b\u0e31\u0e0d\u0e0d\u0e32\u0e1b\u0e23\u0e30\u0e14\u0e34\u0e29\u0e10\u0e4c (artificial intelligence)\n",
    "  - \u0e40\u0e2b\u0e21\u0e32\u0e30\u0e2a\u0e33\u0e2b\u0e23\u0e31\u0e1a\u0e1c\u0e39\u0e49\u0e17\u0e35\u0e48\u0e40\u0e23\u0e34\u0e48\u0e21\u0e15\u0e49\u0e19\u0e40\u0e02\u0e35\u0e22\u0e19\u0e42\u0e1b\u0e23\u0e41\u0e01\u0e23\u0e21 \u0e40\u0e1e\u0e23\u0e32\u0e30\u0e21\u0e35\u0e01\u0e0e\u0e40\u0e01\u0e13\u0e11\u0e4c\u0e02\u0e2d\u0e07\u0e20\u0e32\u0e29\u0e32\u0e17\u0e35\u0e48\u0e44\u0e21\u0e48\u0e0b\u0e31\u0e1a\u0e0b\u0e49\u0e2d\u0e19\n",
    "  - \u0e15\u0e32\u0e21\u0e1b\u0e01\u0e15\u0e34\u0e41\u0e25\u0e49\u0e27 \u0e19\u0e34\u0e2a\u0e34\u0e15\u0e1b\u0e35 4 \u0e02\u0e2d\u0e07\u0e20\u0e32\u0e04\u0e27\u0e34\u0e0a\u0e32\u0e27\u0e34\u0e17\u0e22\u0e32\u0e01\u0e32\u0e23\u0e04\u0e2d\u0e21\u0e1e\u0e34\u0e27\u0e40\u0e15\u0e2d\u0e23\u0e4c \u0e2a\u0e32\u0e21\u0e32\u0e23\u0e16\u0e40\u0e23\u0e35\u0e22\u0e19\u0e23\u0e39\u0e49\u0e44\u0e14\u0e49\u0e14\u0e49\u0e27\u0e22\u0e15\u0e31\u0e27\u0e40\u0e2d\u0e07 \u0e41\u0e25\u0e30\u0e40\u0e02\u0e35\u0e22\u0e19\u0e42\u0e1b\u0e23\u0e41\u0e01\u0e23\u0e21\u0e14\u0e49\u0e27\u0e22\u0e20\u0e32\u0e29\u0e32 Python \u0e44\u0e14\u0e49\u0e20\u0e32\u0e22\u0e43\u0e19 3 \u0e0a\u0e31\u0e48\u0e27\u0e42\u0e21\u0e07\n",
    "\n",
    "- \u0e40\u0e19\u0e37\u0e49\u0e2d\u0e2b\u0e32\n",
    "  1. print\n",
    "  2. mathematical operations\n",
    "  3. variables\n",
    "  4. list\n",
    "  5. string\n",
    "  6. for loop\n",
    "  7. branching\n",
    "\n",
    "- \u0e43\u0e19\u0e04\u0e2d\u0e23\u0e4c\u0e2a\u0e19\u0e35\u0e49 \u0e40\u0e23\u0e32\u0e08\u0e30\u0e43\u0e0a\u0e49 *\u0e01\u0e32\u0e23\u0e40\u0e23\u0e35\u0e22\u0e19\u0e23\u0e39\u0e49\u0e41\u0e1a\u0e1a\u0e2a\u0e30\u0e17\u0e49\u0e2d\u0e19\u0e01\u0e25\u0e31\u0e1a* (reflective learning)\n",
    "  - \u0e17\u0e48\u0e32\u0e19\u0e2a\u0e32\u0e21\u0e32\u0e23\u0e16\u0e40\u0e25\u0e37\u0e2d\u0e01\u0e27\u0e34\u0e18\u0e35\u0e01\u0e32\u0e23\u0e40\u0e23\u0e35\u0e22\u0e19\u0e23\u0e39\u0e49\u0e44\u0e14\u0e49\u0e2b\u0e25\u0e32\u0e01\u0e2b\u0e25\u0e32\u0e22 \u0e17\u0e31\u0e49\u0e07\u0e08\u0e32\u0e01\u0e04\u0e33\u0e1a\u0e23\u0e23\u0e22\u0e32\u0e22\u0e43\u0e19\u0e41\u0e1a\u0e1a\u0e40\u0e23\u0e35\u0e22\u0e19\u0e19\u0e35\u0e49 \u0e08\u0e32\u0e01\u0e2b\u0e19\u0e31\u0e07\u0e2a\u0e37\u0e2d\u0e41\u0e1a\u0e1a\u0e40\u0e23\u0e35\u0e22\u0e19 \u0e08\u0e32\u0e01\u0e01\u0e32\u0e23\u0e40\u0e23\u0e35\u0e22\u0e19\u0e23\u0e39\u0e49\u0e14\u0e49\u0e27\u0e22\u0e15\u0e31\u0e27\u0e40\u0e2d\u0e07\u0e1c\u0e48\u0e32\u0e19\u0e41\u0e1a\u0e1a\u0e1d\u0e36\u0e01\u0e2b\u0e31\u0e14\u0e15\u0e32\u0e21\u0e41\u0e1a\u0e1a\u0e40\u0e23\u0e35\u0e22\u0e19\u0e19\u0e35\u0e49 \u0e42\u0e14\u0e22\u0e40\u0e23\u0e32\u0e44\u0e14\u0e49\u0e40\u0e15\u0e23\u0e35\u0e22\u0e21\u0e1c\u0e39\u0e49\u0e0a\u0e48\u0e27\u0e22\u0e2a\u0e2d\u0e19\u0e44\u0e27\u0e49\u0e04\u0e2d\u0e22\u0e15\u0e2d\u0e1a\u0e04\u0e33\u0e16\u0e32\u0e21\u0e02\u0e2d\u0e07\u0e17\u0e48\u0e32\u0e19\u0e44\u0e27\u0e49\u0e41\u0e25\u0e49\u0e27\u0e04\u0e23\u0e31\u0e1a\n",
    "  - \u0e43\u0e19\u0e41\u0e15\u0e48\u0e25\u0e30\u0e01\u0e34\u0e08\u0e01\u0e23\u0e23\u0e21 \u0e08\u0e30\u0e21\u0e35\u0e41\u0e1a\u0e1a\u0e17\u0e14\u0e2a\u0e2d\u0e1a\u0e43\u0e2b\u0e49\u0e17\u0e48\u0e32\u0e19\u0e25\u0e2d\u0e07\u0e17\u0e33\u0e40\u0e1b\u0e47\u0e19\u0e23\u0e30\u0e22\u0e30\u0e46 \u0e14\u0e49\u0e27\u0e22 \u0e40\u0e1e\u0e37\u0e48\u0e2d\u0e15\u0e23\u0e27\u0e08\u0e2a\u0e2d\u0e1a\u0e04\u0e27\u0e32\u0e21\u0e40\u0e02\u0e49\u0e32\u0e43\u0e08\u0e02\u0e2d\u0e07\u0e17\u0e48\u0e32\u0e19\n",
    "  - \u0e2b\u0e32\u0e01\u0e17\u0e48\u0e32\u0e19\u0e22\u0e31\u0e07\u0e44\u0e21\u0e48\u0e40\u0e02\u0e49\u0e32\u0e43\u0e08 \u0e2d\u0e22\u0e48\u0e32\u0e40\u0e1e\u0e34\u0e48\u0e07\u0e44\u0e1b\u0e40\u0e04\u0e23\u0e35\u0e22\u0e14\u0e04\u0e23\u0e31\u0e1a \u0e17\u0e48\u0e32\u0e19\u0e2a\u0e32\u0e21\u0e32\u0e23\u0e16\u0e40\u0e1b\u0e25\u0e35\u0e48\u0e22\u0e19\u0e27\u0e34\u0e18\u0e35\u0e01\u0e32\u0e23\u0e40\u0e23\u0e35\u0e22\u0e19\u0e23\u0e39\u0e49\u0e43\u0e2b\u0e49\u0e15\u0e23\u0e07\u0e01\u0e31\u0e1a\u0e08\u0e23\u0e34\u0e15\u0e02\u0e2d\u0e07\u0e17\u0e48\u0e32\u0e19\u0e44\u0e14\u0e49\u0e15\u0e25\u0e2d\u0e14\u0e40\u0e27\u0e25\u0e32\u0e04\u0e23\u0e31\u0e1a\n",
    "  - \u0e41\u0e25\u0e30\u0e2a\u0e33\u0e2b\u0e23\u0e31\u0e1a\u0e17\u0e48\u0e32\u0e19\u0e17\u0e35\u0e48\u0e40\u0e04\u0e22\u0e21\u0e35\u0e1b\u0e23\u0e30\u0e2a\u0e1a\u0e01\u0e32\u0e23\u0e13\u0e4c\u0e01\u0e31\u0e1a\u0e20\u0e32\u0e29\u0e32 Python \u0e21\u0e32\u0e01\u0e48\u0e2d\u0e19 \u0e17\u0e48\u0e32\u0e19\u0e2a\u0e32\u0e21\u0e32\u0e23\u0e16\u0e17\u0e14\u0e25\u0e2d\u0e07\u0e17\u0e33\u0e41\u0e1a\u0e1a\u0e1d\u0e36\u0e01\u0e2b\u0e31\u0e14\u0e40\u0e2a\u0e23\u0e34\u0e21\u0e17\u0e31\u0e01\u0e29\u0e30\u0e17\u0e35\u0e48\u0e17\u0e49\u0e32\u0e22 workshop \u0e44\u0e14\u0e49\u0e40\u0e25\u0e22\u0e19\u0e30\u0e04\u0e23\u0e31\u0e1a ;) \n",
    "\n",
    "- \u0e27\u0e34\u0e18\u0e35\u0e01\u0e32\u0e23\u0e43\u0e0a\u0e49 Google Colab \u0e2d\u0e22\u0e48\u0e32\u0e07\u0e07\u0e48\u0e32\u0e22\n",
    "  - \u0e16\u0e49\u0e32\u0e21\u0e35\u0e1b\u0e38\u0e48\u0e21 **\"Open in Playground\"** \u0e2d\u0e22\u0e39\u0e48\u0e17\u0e35\u0e48\u0e41\u0e16\u0e1a\u0e14\u0e49\u0e32\u0e19\u0e1a\u0e19 \u0e01\u0e23\u0e38\u0e13\u0e32\u0e01\u0e14\u0e1b\u0e38\u0e48\u0e21\u0e19\u0e35\u0e49\u0e01\u0e48\u0e2d\u0e19 \u0e40\u0e1e\u0e37\u0e48\u0e2d\u0e17\u0e35\u0e48\u0e17\u0e48\u0e32\u0e19\u0e08\u0e30\u0e2a\u0e32\u0e21\u0e32\u0e23\u0e16\u0e2a\u0e31\u0e48\u0e07\u0e23\u0e31\u0e19\u0e42\u0e1b\u0e23\u0e41\u0e01\u0e23\u0e21\u0e1a\u0e19 colab \u0e02\u0e2d\u0e07\u0e17\u0e48\u0e32\u0e19\u0e44\u0e14\u0e49\n",
    "  - \u0e01\u0e25\u0e48\u0e2d\u0e07\u0e04\u0e33\u0e2a\u0e31\u0e48\u0e07\u0e08\u0e30\u0e40\u0e1b\u0e47\u0e19\u0e2a\u0e35\u0e40\u0e17\u0e32 \u0e40\u0e23\u0e32\u0e2a\u0e32\u0e21\u0e32\u0e23\u0e16\u0e40\u0e02\u0e35\u0e22\u0e19\u0e42\u0e1b\u0e23\u0e41\u0e01\u0e23\u0e21\u0e20\u0e32\u0e29\u0e32 Python \u0e25\u0e07\u0e43\u0e19\u0e01\u0e25\u0e48\u0e2d\u0e07\u0e04\u0e33\u0e2a\u0e31\u0e48\u0e07\u0e19\u0e35\u0e49\u0e44\u0e14\u0e49\n",
    "  - **\u0e27\u0e34\u0e18\u0e35\u0e23\u0e31\u0e19 (run):** \u0e40\u0e21\u0e37\u0e48\u0e2d\u0e40\u0e02\u0e35\u0e22\u0e19\u0e42\u0e1b\u0e23\u0e41\u0e01\u0e23\u0e21\u0e25\u0e07\u0e44\u0e1b\u0e41\u0e25\u0e49\u0e27 \u0e40\u0e23\u0e32\u0e2a\u0e32\u0e21\u0e32\u0e23\u0e16\u0e2a\u0e31\u0e48\u0e07\u0e23\u0e31\u0e19\u0e44\u0e14\u0e49\u0e42\u0e14\u0e22\u0e01\u0e32\u0e23\u0e01\u0e14\u0e1b\u0e38\u0e48\u0e21\u0e40\u0e1e\u0e25\u0e22\u0e4c \u25b6\ufe0f \u0e17\u0e35\u0e48\u0e2d\u0e22\u0e39\u0e48\u0e2b\u0e19\u0e49\u0e32\u0e01\u0e25\u0e48\u0e2d\u0e07\u0e04\u0e33\u0e2a\u0e31\u0e48\u0e07 \u0e2b\u0e23\u0e37\u0e2d\u0e01\u0e14\u0e1b\u0e38\u0e48\u0e21 Shift+Enter \u0e01\u0e47\u0e44\u0e14\u0e49\u0e04\u0e23\u0e31\u0e1a\n",
    "  - \u0e2b\u0e32\u0e01\u0e22\u0e31\u0e07\u0e44\u0e21\u0e48\u0e40\u0e2b\u0e47\u0e19\u0e1b\u0e38\u0e48\u0e21\u0e40\u0e1e\u0e25\u0e22\u0e4c \u0e43\u0e2b\u0e49\u0e40\u0e2d\u0e32\u0e40\u0e21\u0e49\u0e32\u0e2a\u0e4c\u0e44\u0e1b\u0e04\u0e25\u0e34\u0e01\u0e17\u0e35\u0e48\u0e01\u0e25\u0e48\u0e2d\u0e07\u0e04\u0e33\u0e2a\u0e31\u0e48\u0e07\u0e01\u0e48\u0e2d\u0e19 \u0e1b\u0e38\u0e48\u0e21\u0e40\u0e1e\u0e25\u0e22\u0e4c\u0e01\u0e47\u0e08\u0e30\u0e1b\u0e23\u0e32\u0e01\u0e0f\u0e02\u0e36\u0e49\u0e19\u0e21\u0e32\u0e04\u0e23\u0e31\u0e1a\n",
    "\n",
    "-  \u0e40\u0e23\u0e32\u0e08\u0e30\u0e17\u0e33\u0e43\u0e2b\u0e49\u0e17\u0e38\u0e01\u0e17\u0e48\u0e32\u0e19\u0e40\u0e02\u0e35\u0e22\u0e19\u0e42\u0e1b\u0e23\u0e41\u0e01\u0e23\u0e21\u0e20\u0e32\u0e29\u0e32 Python \u0e44\u0e14\u0e49\u0e20\u0e32\u0e22\u0e43\u0e19 3 \u0e0a\u0e31\u0e48\u0e27\u0e42\u0e21\u0e07\u0e01\u0e31\u0e19 \u0e16\u0e49\u0e32\u0e1e\u0e23\u0e49\u0e2d\u0e21\u0e41\u0e25\u0e49\u0e27 \u0e40\u0e23\u0e32\u0e21\u0e32\u0e40\u0e23\u0e34\u0e48\u0e21\u0e01\u0e31\u0e19\u0e40\u0e25\u0e22\u0e04\u0e23\u0e31\u0e1a"
   ]
  },
  {
   "cell_type": "markdown",
   "metadata": {
    "id": "Wz7yrsiMEpWJ"
   },
   "source": [
    "\n",
    "\n",
    "---\n",
    "\n"
   ]
  },
  {
   "cell_type": "markdown",
   "metadata": {
    "id": "QqwrmGOdD2g-"
   },
   "source": [
    "## \u0e01\u0e34\u0e08\u0e01\u0e23\u0e23\u0e21 1: \u0e1e\u0e34\u0e21\u0e1e\u0e4c\u0e02\u0e49\u0e2d\u0e04\u0e27\u0e32\u0e21\u0e2d\u0e2d\u0e01\u0e2b\u0e19\u0e49\u0e32\u0e08\u0e2d"
   ]
  },
  {
   "cell_type": "markdown",
   "metadata": {
    "id": "gcC4FCgHJvlK"
   },
   "source": [
    "### \u0e04\u0e33\u0e2a\u0e31\u0e48\u0e07 `print`\n",
    "\n",
    "- \u0e04\u0e33\u0e2a\u0e31\u0e48\u0e07\u0e1e\u0e34\u0e21\u0e1e\u0e4c\u0e02\u0e49\u0e2d\u0e04\u0e27\u0e32\u0e21\u0e43\u0e19\u0e20\u0e32\u0e29\u0e32 Python \u0e04\u0e37\u0e2d `print`\n",
    "- \u0e40\u0e0a\u0e48\u0e19 `print('Hello')` \u0e01\u0e47\u0e08\u0e30\u0e41\u0e2a\u0e14\u0e07\u0e02\u0e49\u0e2d\u0e04\u0e27\u0e32\u0e21\u0e27\u0e48\u0e32 `Hello` \u0e2d\u0e2d\u0e01\u0e17\u0e35\u0e48\u0e2b\u0e19\u0e49\u0e32\u0e08\u0e2d\n",
    "- \u0e25\u0e2d\u0e07\u0e04\u0e25\u0e34\u0e01\u0e17\u0e35\u0e48\u0e01\u0e25\u0e48\u0e2d\u0e07\u0e04\u0e33\u0e2a\u0e31\u0e48\u0e07\u0e2a\u0e35\u0e40\u0e17\u0e32\u0e17\u0e35\u0e48\u0e2d\u0e22\u0e39\u0e48\u0e14\u0e49\u0e32\u0e19\u0e25\u0e48\u0e32\u0e07 \u0e41\u0e25\u0e49\u0e27\u0e01\u0e14\u0e1b\u0e38\u0e48\u0e21\u0e40\u0e1e\u0e25\u0e22\u0e4c\u0e43\u0e19\u0e40\u0e04\u0e23\u0e37\u0e48\u0e2d\u0e07\u0e2b\u0e21\u0e32\u0e22\u0e01\u0e49\u0e32\u0e21\u0e1b\u0e39 `[ ]` \u0e2b\u0e23\u0e37\u0e2d\u0e01\u0e14\u0e1b\u0e38\u0e48\u0e21 Shift+Enter \u0e14\u0e39\u0e2a\u0e34\u0e04\u0e23\u0e31\u0e1a \u0e40\u0e2b\u0e47\u0e19\u0e02\u0e49\u0e2d\u0e04\u0e27\u0e32\u0e21 `Hello` \u0e17\u0e35\u0e48\u0e2d\u0e22\u0e39\u0e48\u0e43\u0e19\u0e1a\u0e23\u0e23\u0e17\u0e31\u0e14\u0e15\u0e48\u0e2d\u0e21\u0e32\u0e44\u0e2b\u0e21\u0e04\u0e23\u0e31\u0e1a"
   ]
  },
  {
   "cell_type": "code",
   "execution_count": 1,
   "metadata": {
    "colab": {
     "base_uri": "https://localhost:8080/"
    },
    "id": "p-_KH5ZOAVXC",
    "outputId": "5a721c5b-c0e9-4e1a-e61e-56eaab33dd27"
   },
   "outputs": [
    {
     "name": "stdout",
     "output_type": "stream",
     "text": [
      "Hello world!\n"
     ]
    }
   ],
   "source": [
    "print('Hello world!')"
   ]
  },
  {
   "cell_type": "markdown",
   "metadata": {
    "id": "AiI2gIqVMYw1"
   },
   "source": [
    "  - \u0e08\u0e30\u0e2a\u0e31\u0e07\u0e40\u0e01\u0e15\u0e44\u0e14\u0e49\u0e27\u0e48\u0e32 \u0e02\u0e49\u0e2d\u0e04\u0e27\u0e32\u0e21 `Hello` \u0e17\u0e35\u0e48\u0e40\u0e23\u0e32\u0e15\u0e49\u0e2d\u0e07\u0e01\u0e32\u0e23\u0e08\u0e30\u0e43\u0e2b\u0e49\u0e1e\u0e34\u0e21\u0e1e\u0e4c\u0e2d\u0e2d\u0e01\u0e2b\u0e19\u0e49\u0e32\u0e08\u0e2d \u0e08\u0e30\u0e2d\u0e22\u0e39\u0e48\u0e43\u0e19\u0e40\u0e04\u0e23\u0e37\u0e48\u0e2d\u0e07\u0e2b\u0e21\u0e32\u0e22\u0e04\u0e33\u0e1e\u0e39\u0e14\u0e40\u0e14\u0e35\u0e48\u0e22\u0e27 (single quote) \u0e43\u0e19\u0e15\u0e31\u0e27\u0e42\u0e04\u0e49\u0e14\u0e40\u0e2a\u0e21\u0e2d\n",
    "  - \u0e2a\u0e34\u0e48\u0e07\u0e17\u0e35\u0e48\u0e2d\u0e22\u0e39\u0e48\u0e43\u0e19\u0e40\u0e04\u0e23\u0e37\u0e48\u0e2d\u0e07\u0e2b\u0e21\u0e32\u0e22\u0e04\u0e33\u0e1e\u0e39\u0e14\u0e40\u0e14\u0e35\u0e48\u0e22\u0e27\u0e19\u0e35\u0e49 \u0e40\u0e23\u0e32\u0e40\u0e23\u0e35\u0e22\u0e01\u0e27\u0e48\u0e32 *\u0e2a\u0e15\u0e23\u0e34\u0e07* (string) \u0e0b\u0e36\u0e48\u0e07\u0e41\u0e1b\u0e25\u0e40\u0e1b\u0e47\u0e19\u0e44\u0e17\u0e22\u0e27\u0e48\u0e32 \"\u0e02\u0e49\u0e2d\u0e04\u0e27\u0e32\u0e21\" \u0e19\u0e31\u0e48\u0e19\u0e40\u0e2d\u0e07\u0e04\u0e23\u0e31\u0e1a"
   ]
  },
  {
   "cell_type": "markdown",
   "metadata": {
    "id": "PR_x3YS4IfHh"
   },
   "source": [
    "### \u0e41\u0e1a\u0e1a\u0e1d\u0e36\u0e01\u0e2b\u0e31\u0e14 1.1\n",
    "\n",
    "\u0e04\u0e23\u0e32\u0e27\u0e19\u0e35\u0e49\u0e40\u0e23\u0e32\u0e21\u0e32\u0e25\u0e2d\u0e07\u0e1e\u0e34\u0e21\u0e1e\u0e4c\u0e2a\u0e15\u0e23\u0e34\u0e07 `'\u0e2a\u0e27\u0e31\u0e2a\u0e14\u0e35\u0e08\u0e49\u0e30'` \u0e2d\u0e2d\u0e01\u0e17\u0e35\u0e48\u0e2b\u0e19\u0e49\u0e32\u0e08\u0e2d\u0e01\u0e31\u0e19\u0e1a\u0e49\u0e32\u0e07 \u0e25\u0e2d\u0e07\u0e40\u0e15\u0e34\u0e21\u0e02\u0e49\u0e2d\u0e04\u0e27\u0e32\u0e21\u0e14\u0e31\u0e07\u0e01\u0e25\u0e48\u0e32\u0e27\u0e25\u0e07\u0e43\u0e19\u0e40\u0e04\u0e23\u0e37\u0e48\u0e2d\u0e07\u0e2b\u0e21\u0e32\u0e22\u0e04\u0e33\u0e1e\u0e39\u0e14\u0e40\u0e14\u0e35\u0e48\u0e22\u0e27\u0e14\u0e39\u0e19\u0e30\u0e04\u0e23\u0e31\u0e1a"
   ]
  },
  {
   "cell_type": "code",
   "execution_count": 2,
   "metadata": {
    "colab": {
     "base_uri": "https://localhost:8080/",
     "height": 56
    },
    "id": "4vIgljNYIZtp",
    "outputId": "3644b9b1-e31b-49f6-a564-2d3c335d32a7"
   },
   "outputs": [
    {
     "name": "stdout",
     "output_type": "stream",
     "text": [
      "\u0e2a\u0e27\u0e31\u0e2a\u0e14\u0e35\u0e08\u0e49\u0e30\n"
     ]
    }
   ],
   "source": [
    "print('\u0e2a\u0e27\u0e31\u0e2a\u0e14\u0e35\u0e08\u0e49\u0e30')"
   ]
  },
  {
   "cell_type": "markdown",
   "metadata": {
    "id": "wvKZk4mHMsO5"
   },
   "source": [
    "\u0e25\u0e2d\u0e07\u0e40\u0e1b\u0e25\u0e35\u0e48\u0e22\u0e19\u0e2a\u0e15\u0e23\u0e34\u0e07\u0e14\u0e39\u0e15\u0e32\u0e21\u0e43\u0e08\u0e0a\u0e2d\u0e1a \u0e41\u0e25\u0e49\u0e27\u0e25\u0e2d\u0e07\u0e23\u0e31\u0e19\u0e14\u0e39\u0e19\u0e30\u0e04\u0e23\u0e31\u0e1a"
   ]
  },
  {
   "cell_type": "markdown",
   "metadata": {
    "id": "vQ1UefODUONV"
   },
   "source": [
    "### \u0e2b\u0e21\u0e32\u0e22\u0e40\u0e2b\u0e15\u0e38 (comment)"
   ]
  },
  {
   "cell_type": "markdown",
   "metadata": {
    "id": "y6LhZB1oUQ8A"
   },
   "source": [
    "- \u0e1a\u0e32\u0e07\u0e04\u0e23\u0e31\u0e49\u0e07\u0e40\u0e23\u0e32\u0e2d\u0e22\u0e32\u0e01\u0e43\u0e2a\u0e48\u0e2b\u0e21\u0e32\u0e22\u0e40\u0e2b\u0e15\u0e38\u0e25\u0e07\u0e44\u0e1b\u0e43\u0e19\u0e42\u0e04\u0e49\u0e14\u0e40\u0e1e\u0e37\u0e48\u0e2d\u0e40\u0e1b\u0e47\u0e19\u0e1a\u0e31\u0e19\u0e17\u0e36\u0e01\u0e0a\u0e48\u0e27\u0e22\u0e08\u0e33 \u0e40\u0e23\u0e32\u0e08\u0e30\u0e43\u0e0a\u0e49\u0e2a\u0e31\u0e0d\u0e25\u0e31\u0e01\u0e29\u0e13\u0e4c `#` (\u0e41\u0e2e\u0e0a \u0e2b\u0e23\u0e37\u0e2d hash) \u0e19\u0e33\u0e2b\u0e19\u0e49\u0e32\u0e2b\u0e21\u0e32\u0e22\u0e40\u0e2b\u0e15\u0e38 \u0e42\u0e14\u0e22\u0e40\u0e21\u0e37\u0e48\u0e2d\u0e44\u0e23\u0e01\u0e47\u0e15\u0e32\u0e21\u0e17\u0e35\u0e48\u0e43\u0e0a\u0e49\u0e40\u0e04\u0e23\u0e37\u0e48\u0e2d\u0e07\u0e2b\u0e21\u0e32\u0e22 `#` \u0e2a\u0e34\u0e48\u0e07\u0e17\u0e35\u0e48\u0e15\u0e32\u0e21\u0e2b\u0e25\u0e31\u0e07\u0e40\u0e04\u0e23\u0e37\u0e48\u0e2d\u0e07\u0e2b\u0e21\u0e32\u0e22\u0e19\u0e35\u0e49\u0e08\u0e30\u0e40\u0e1b\u0e47\u0e19\u0e2b\u0e21\u0e32\u0e22\u0e40\u0e2b\u0e15\u0e38\u0e17\u0e31\u0e49\u0e07\u0e2b\u0e21\u0e14 \u0e40\u0e0a\u0e48\u0e19"
   ]
  },
  {
   "cell_type": "code",
   "execution_count": 3,
   "metadata": {
    "colab": {
     "base_uri": "https://localhost:8080/"
    },
    "id": "DCKkNqvmUg40",
    "outputId": "2f9cfa6a-cb96-4611-b7a1-f72078f3e5e9"
   },
   "outputs": [
    {
     "name": "stdout",
     "output_type": "stream",
     "text": [
      "Hello\n"
     ]
    }
   ],
   "source": [
    "print('Hello')      # \u0e41\u0e2a\u0e14\u0e07\u0e02\u0e49\u0e2d\u0e04\u0e27\u0e32\u0e21 Hello \u0e2d\u0e2d\u0e01\u0e17\u0e35\u0e48\u0e2b\u0e19\u0e49\u0e32\u0e08\u0e2d"
   ]
  },
  {
   "cell_type": "markdown",
   "metadata": {
    "id": "IZzQ52RTUpF7"
   },
   "source": [
    "- \u0e2b\u0e32\u0e01\u0e40\u0e23\u0e32\u0e15\u0e49\u0e2d\u0e07\u0e01\u0e32\u0e23\u0e2b\u0e21\u0e32\u0e22\u0e40\u0e2b\u0e15\u0e38\u0e17\u0e31\u0e49\u0e07\u0e1a\u0e23\u0e23\u0e17\u0e31\u0e14 \u0e43\u0e2b\u0e49\u0e40\u0e23\u0e32\u0e43\u0e2a\u0e48\u0e40\u0e04\u0e23\u0e37\u0e48\u0e2d\u0e07\u0e2b\u0e21\u0e32\u0e22 `#` \u0e17\u0e35\u0e48\u0e14\u0e49\u0e32\u0e19\u0e2b\u0e19\u0e49\u0e32\u0e2a\u0e38\u0e14 \u0e40\u0e0a\u0e48\u0e19"
   ]
  },
  {
   "cell_type": "code",
   "execution_count": 4,
   "metadata": {
    "colab": {
     "base_uri": "https://localhost:8080/"
    },
    "id": "ngPkggLBU9-y",
    "outputId": "74c697d3-cc79-4834-e36a-4416c7c72bab"
   },
   "outputs": [
    {
     "name": "stdout",
     "output_type": "stream",
     "text": [
      "Hello\n"
     ]
    }
   ],
   "source": [
    "# \u0e41\u0e2a\u0e14\u0e07\u0e02\u0e49\u0e2d\u0e04\u0e27\u0e32\u0e21 Hello \u0e2d\u0e2d\u0e01\u0e17\u0e35\u0e48\u0e2b\u0e19\u0e49\u0e32\u0e08\u0e2d\n",
    "print('Hello')"
   ]
  },
  {
   "cell_type": "markdown",
   "metadata": {
    "id": "U5PMqooKWBGW"
   },
   "source": [
    "- \u0e40\u0e27\u0e25\u0e32\u0e04\u0e2d\u0e21\u0e1e\u0e34\u0e27\u0e40\u0e15\u0e2d\u0e23\u0e4c\u0e17\u0e33\u0e07\u0e32\u0e19 \u0e21\u0e31\u0e19\u0e08\u0e30\u0e01\u0e23\u0e30\u0e42\u0e14\u0e14\u0e02\u0e49\u0e32\u0e21\u0e2a\u0e48\u0e27\u0e19\u0e17\u0e35\u0e48\u0e40\u0e1b\u0e47\u0e19\u0e2b\u0e21\u0e32\u0e22\u0e40\u0e2b\u0e15\u0e38\u0e44\u0e1b\n",
    "- \u0e40\u0e0a\u0e48\u0e19 \u0e43\u0e19\u0e42\u0e04\u0e49\u0e14\u0e14\u0e49\u0e32\u0e19\u0e25\u0e48\u0e32\u0e07\u0e19\u0e35\u0e49 \u0e04\u0e2d\u0e21\u0e1e\u0e34\u0e27\u0e40\u0e15\u0e2d\u0e23\u0e4c\u0e08\u0e30\u0e01\u0e23\u0e30\u0e42\u0e14\u0e14\u0e02\u0e49\u0e32\u0e21\u0e1a\u0e23\u0e23\u0e17\u0e31\u0e14\u0e17\u0e35\u0e48 3 \u0e44\u0e1b \u0e40\u0e1e\u0e23\u0e32\u0e30\u0e16\u0e39\u0e01\u0e21\u0e2d\u0e07\u0e40\u0e1b\u0e47\u0e19\u0e2b\u0e21\u0e32\u0e22\u0e40\u0e2b\u0e15\u0e38"
   ]
  },
  {
   "cell_type": "code",
   "execution_count": 5,
   "metadata": {
    "colab": {
     "base_uri": "https://localhost:8080/"
    },
    "id": "8uzxsKteWJge",
    "outputId": "6579fbde-5494-4968-9568-fdc8e177a2e6"
   },
   "outputs": [
    {
     "name": "stdout",
     "output_type": "stream",
     "text": [
      "Please\n",
      "Mr.\n",
      "Postman\n",
      "Look and See\n"
     ]
    }
   ],
   "source": [
    "print('Please')\n",
    "print('Mr.')\n",
    "# print('and Ms.')\n",
    "print('Postman')\n",
    "print('Look and See')"
   ]
  },
  {
   "cell_type": "markdown",
   "metadata": {
    "id": "aJpoRN7VVMsV"
   },
   "source": [
    "### \u0e41\u0e1a\u0e1a\u0e1d\u0e36\u0e01\u0e2b\u0e31\u0e14 1.2"
   ]
  },
  {
   "cell_type": "markdown",
   "metadata": {
    "id": "nWpO2MwNVRaJ"
   },
   "source": [
    "\u0e25\u0e2d\u0e07\u0e43\u0e2a\u0e48\u0e40\u0e04\u0e23\u0e37\u0e48\u0e2d\u0e07\u0e2b\u0e21\u0e32\u0e22 `#` \u0e2b\u0e19\u0e49\u0e32\u0e1a\u0e23\u0e23\u0e17\u0e31\u0e14\u0e15\u0e48\u0e32\u0e07\u0e46 \u0e43\u0e19\u0e42\u0e04\u0e49\u0e14 \u0e41\u0e25\u0e49\u0e27\u0e2a\u0e31\u0e07\u0e40\u0e01\u0e15\u0e04\u0e27\u0e32\u0e21\u0e40\u0e1b\u0e25\u0e35\u0e48\u0e22\u0e19\u0e41\u0e1b\u0e25\u0e07\u0e02\u0e2d\u0e07\u0e1c\u0e25\u0e25\u0e31\u0e1e\u0e18\u0e4c"
   ]
  },
  {
   "cell_type": "code",
   "execution_count": 6,
   "metadata": {
    "colab": {
     "base_uri": "https://localhost:8080/"
    },
    "id": "Gqx3Fm_fVlVG",
    "outputId": "961d5d03-e597-41f0-b105-88bbf90cfeac"
   },
   "outputs": [
    {
     "name": "stdout",
     "output_type": "stream",
     "text": [
      "Hello\n",
      "World\n",
      "My\n",
      "is\n"
     ]
    }
   ],
   "source": [
    "print('Hello')\n",
    "print('World')\n",
    "print('My')\n",
    "# print('name')\n",
    "print('is')\n",
    "# print('Peter')"
   ]
  },
  {
   "cell_type": "markdown",
   "metadata": {
    "id": "LIFQVwKOODyM"
   },
   "source": [
    "\n",
    "\n",
    "---\n",
    "\n"
   ]
  },
  {
   "cell_type": "markdown",
   "metadata": {
    "id": "1FZJHUYeOErP"
   },
   "source": [
    "## \u0e01\u0e34\u0e08\u0e01\u0e23\u0e23\u0e21 2: \u0e01\u0e32\u0e23\u0e04\u0e33\u0e19\u0e27\u0e13\u0e17\u0e32\u0e07\u0e04\u0e13\u0e34\u0e15\u0e28\u0e32\u0e2a\u0e15\u0e23\u0e4c"
   ]
  },
  {
   "cell_type": "markdown",
   "metadata": {
    "id": "PtKzA2UuPB65"
   },
   "source": [
    "### \u0e04\u0e33\u0e2a\u0e31\u0e48\u0e07\u0e40\u0e25\u0e02\u0e04\u0e13\u0e34\u0e15 (arithmetic operations) \u0e41\u0e25\u0e30\u0e19\u0e34\u0e1e\u0e08\u0e19\u0e4c\u0e17\u0e32\u0e07\u0e04\u0e13\u0e34\u0e15\u0e28\u0e32\u0e2a\u0e15\u0e23\u0e4c (mathematical expression)\n",
    "\n",
    "- \u0e40\u0e23\u0e32\u0e2a\u0e32\u0e21\u0e32\u0e23\u0e16\u0e17\u0e33\u0e01\u0e32\u0e23\u0e04\u0e33\u0e19\u0e27\u0e13\u0e17\u0e32\u0e07\u0e04\u0e13\u0e34\u0e15\u0e28\u0e32\u0e2a\u0e15\u0e23\u0e4c\u0e44\u0e14\u0e49 \u0e42\u0e14\u0e22\u0e43\u0e0a\u0e49\u0e40\u0e04\u0e23\u0e37\u0e48\u0e2d\u0e07\u0e2b\u0e21\u0e32\u0e22\u0e1a\u0e27\u0e01 `+`, \u0e25\u0e1a `-`, \u0e04\u0e39\u0e13 `*`, \u0e41\u0e25\u0e30\u0e2b\u0e32\u0e23 `/` \u0e01\u0e31\u0e1a\u0e15\u0e31\u0e27\u0e40\u0e25\u0e02\u0e44\u0e14\u0e49\n",
    "  - **\u0e02\u0e49\u0e2d\u0e2a\u0e31\u0e07\u0e40\u0e01\u0e15:** \u0e40\u0e23\u0e32\u0e08\u0e30\u0e43\u0e0a\u0e49\u0e40\u0e04\u0e23\u0e37\u0e48\u0e2d\u0e07\u0e2b\u0e21\u0e32\u0e22\u0e14\u0e2d\u0e01\u0e08\u0e31\u0e19 `*` \u0e41\u0e17\u0e19\u0e01\u0e32\u0e23\u0e04\u0e39\u0e13\u0e19\u0e30\u0e04\u0e23\u0e31\u0e1a\n",
    "- \u0e40\u0e0a\u0e48\u0e19 \u0e16\u0e49\u0e32\u0e40\u0e23\u0e32\u0e2a\u0e31\u0e48\u0e07\u0e43\u0e2b\u0e49\u0e04\u0e2d\u0e21\u0e1e\u0e34\u0e27\u0e40\u0e15\u0e2d\u0e23\u0e4c\u0e04\u0e33\u0e19\u0e27\u0e13\u0e04\u0e48\u0e32\u0e02\u0e2d\u0e07\u0e19\u0e34\u0e1e\u0e08\u0e19\u0e4c\u0e17\u0e32\u0e07\u0e04\u0e13\u0e34\u0e15\u0e28\u0e32\u0e2a\u0e15\u0e23\u0e4c $ 5 \\times 2 + 10 $ \u0e04\u0e2d\u0e21\u0e1e\u0e34\u0e27\u0e40\u0e15\u0e2d\u0e23\u0e4c\u0e01\u0e47\u0e08\u0e30\u0e04\u0e33\u0e19\u0e27\u0e13\u0e1c\u0e25\u0e25\u0e31\u0e1e\u0e18\u0e4c\u0e43\u0e2b\u0e49\u0e17\u0e31\u0e19\u0e17\u0e35"
   ]
  },
  {
   "cell_type": "code",
   "execution_count": 7,
   "metadata": {
    "colab": {
     "base_uri": "https://localhost:8080/"
    },
    "id": "E68FlmlxQATn",
    "outputId": "7a3aedfc-4c3c-47ee-e473-b6716910da92"
   },
   "outputs": [
    {
     "data": {
      "text/plain": [
       "20"
      ]
     },
     "execution_count": 7,
     "metadata": {},
     "output_type": "execute_result"
    }
   ],
   "source": [
    "5 * 2 + 10"
   ]
  },
  {
   "cell_type": "markdown",
   "metadata": {
    "id": "dXQHNqoXQE3u"
   },
   "source": [
    "- \u0e16\u0e49\u0e32\u0e40\u0e23\u0e32\u0e2a\u0e31\u0e48\u0e07\u0e43\u0e2b\u0e49\u0e04\u0e2d\u0e21\u0e1e\u0e34\u0e27\u0e40\u0e15\u0e2d\u0e23\u0e4c\u0e04\u0e33\u0e19\u0e27\u0e13\u0e04\u0e48\u0e32\u0e02\u0e2d\u0e07\u0e19\u0e34\u0e1e\u0e08\u0e19\u0e4c $ 10 + \\frac{5}{2} $ \u0e40\u0e23\u0e32\u0e08\u0e30\u0e44\u0e14\u0e49\u0e1c\u0e25\u0e25\u0e31\u0e1e\u0e18\u0e4c\u0e14\u0e31\u0e07\u0e19\u0e35\u0e49\u0e04\u0e23\u0e31\u0e1a"
   ]
  },
  {
   "cell_type": "code",
   "execution_count": 8,
   "metadata": {
    "colab": {
     "base_uri": "https://localhost:8080/"
    },
    "id": "q50RlTKxQDjL",
    "outputId": "a5b6d2ff-130c-464b-c35b-9e065be6d1eb"
   },
   "outputs": [
    {
     "data": {
      "text/plain": [
       "12.5"
      ]
     },
     "execution_count": 8,
     "metadata": {},
     "output_type": "execute_result"
    }
   ],
   "source": [
    "10 + 5 / 2"
   ]
  },
  {
   "cell_type": "markdown",
   "metadata": {
    "id": "aYB4oAFGQhlw"
   },
   "source": [
    "- \u0e08\u0e30\u0e2a\u0e31\u0e07\u0e40\u0e01\u0e15\u0e44\u0e14\u0e49\u0e27\u0e48\u0e32 \u0e04\u0e2d\u0e21\u0e1e\u0e34\u0e27\u0e40\u0e15\u0e2d\u0e23\u0e4c\u0e04\u0e33\u0e19\u0e27\u0e13\u0e01\u0e32\u0e23\u0e2b\u0e32\u0e23 5 / 2 \u0e41\u0e25\u0e30\u0e43\u0e2a\u0e48\u0e04\u0e48\u0e32\u0e17\u0e28\u0e19\u0e34\u0e22\u0e21\u0e43\u0e2b\u0e49\u0e42\u0e14\u0e22\u0e2d\u0e31\u0e15\u0e42\u0e19\u0e21\u0e31\u0e15\u0e34\u0e04\u0e23\u0e31\u0e1a"
   ]
  },
  {
   "cell_type": "markdown",
   "metadata": {
    "id": "Ov-8WQYpQ7wm"
   },
   "source": [
    "### \u0e41\u0e1a\u0e1a\u0e1d\u0e36\u0e01\u0e2b\u0e31\u0e14 2.1\n",
    "\n",
    "\u0e40\u0e23\u0e32\u0e21\u0e32\u0e25\u0e2d\u0e07\u0e04\u0e33\u0e19\u0e27\u0e13\u0e04\u0e48\u0e32\u0e02\u0e2d\u0e07\u0e19\u0e34\u0e1e\u0e08\u0e19\u0e4c\u0e17\u0e32\u0e07\u0e04\u0e13\u0e34\u0e15\u0e28\u0e32\u0e2a\u0e15\u0e23\u0e4c\u0e15\u0e48\u0e2d\u0e44\u0e1b\u0e19\u0e35\u0e49\u0e01\u0e31\u0e19\u0e14\u0e39\u0e1a\u0e49\u0e32\u0e07\u0e04\u0e23\u0e31\u0e1a\n",
    "\n",
    "1. $ \\frac{3}{4} + \\frac{1}{4} $"
   ]
  },
  {
   "cell_type": "code",
   "execution_count": 9,
   "metadata": {
    "colab": {
     "base_uri": "https://localhost:8080/"
    },
    "id": "HSnJfmZKWNx3",
    "outputId": "10e53fd0-67cb-471e-d21a-3dfc9c23b142"
   },
   "outputs": [
    {
     "data": {
      "text/plain": [
       "1.0"
      ]
     },
     "execution_count": 9,
     "metadata": {},
     "output_type": "execute_result"
    }
   ],
   "source": [
    "3/4 + 1/4"
   ]
  },
  {
   "cell_type": "markdown",
   "metadata": {
    "id": "5sHOZcqHWOwk"
   },
   "source": [
    "2. $ 1 + 6 \\times 8 - 7 $"
   ]
  },
  {
   "cell_type": "code",
   "execution_count": 10,
   "metadata": {
    "id": "gRXHZqBYWY23"
   },
   "outputs": [
    {
     "data": {
      "text/plain": [
       "42"
      ]
     },
     "execution_count": 10,
     "metadata": {},
     "output_type": "execute_result"
    }
   ],
   "source": [
    "1+6*8-7"
   ]
  },
  {
   "cell_type": "markdown",
   "metadata": {
    "id": "gT_oRnRZWbNg"
   },
   "source": [
    "3. $ 5 \\times 6 + 7 \\times 8 - \\frac{2}{5} $"
   ]
  },
  {
   "cell_type": "code",
   "execution_count": 11,
   "metadata": {
    "id": "eRCr2rvsY90z"
   },
   "outputs": [
    {
     "data": {
      "text/plain": [
       "85.6"
      ]
     },
     "execution_count": 11,
     "metadata": {},
     "output_type": "execute_result"
    }
   ],
   "source": [
    "5*6+7*8-2/5"
   ]
  },
  {
   "cell_type": "markdown",
   "metadata": {
    "id": "-zjqKUHUT91v"
   },
   "source": [
    "### \u0e27\u0e07\u0e40\u0e25\u0e47\u0e1a\u0e43\u0e19\u0e19\u0e34\u0e1e\u0e08\u0e19\u0e4c\u0e17\u0e32\u0e07\u0e04\u0e13\u0e34\u0e15\u0e28\u0e32\u0e2a\u0e15\u0e23\u0e4c\n",
    "\n",
    "- \u0e17\u0e31\u0e49\u0e07\u0e19\u0e35\u0e49 \u0e40\u0e23\u0e32\u0e2a\u0e32\u0e21\u0e32\u0e23\u0e16\u0e43\u0e0a\u0e49\u0e40\u0e04\u0e23\u0e37\u0e48\u0e2d\u0e07\u0e2b\u0e21\u0e32\u0e22\u0e27\u0e07\u0e40\u0e25\u0e47\u0e1a `( )` \u0e44\u0e14\u0e49\u0e40\u0e2b\u0e21\u0e37\u0e2d\u0e19\u0e01\u0e31\u0e1a\u0e19\u0e34\u0e1e\u0e08\u0e19\u0e4c\u0e17\u0e32\u0e07\u0e04\u0e13\u0e34\u0e15\u0e28\u0e32\u0e2a\u0e15\u0e23\u0e4c\u0e1b\u0e01\u0e15\u0e34\u0e40\u0e25\u0e22\u0e04\u0e23\u0e31\u0e1a\n",
    "- \u0e40\u0e0a\u0e48\u0e19 \u0e40\u0e23\u0e32\u0e2a\u0e32\u0e21\u0e32\u0e23\u0e16\u0e04\u0e33\u0e19\u0e27\u0e13\u0e04\u0e48\u0e32\u0e02\u0e2d\u0e07\u0e19\u0e34\u0e1e\u0e08\u0e19\u0e4c $ 4 \\times 3 + (1 + 2) / 4 $ \u0e44\u0e14\u0e49\u0e14\u0e49\u0e27\u0e22\u0e04\u0e33\u0e2a\u0e31\u0e48\u0e07\u0e19\u0e35\u0e49"
   ]
  },
  {
   "cell_type": "code",
   "execution_count": 12,
   "metadata": {
    "colab": {
     "base_uri": "https://localhost:8080/"
    },
    "id": "1UkTDB_FTOpI",
    "outputId": "f72b8f72-6f58-4083-9d21-1c381d0840c2"
   },
   "outputs": [
    {
     "data": {
      "text/plain": [
       "12.75"
      ]
     },
     "execution_count": 12,
     "metadata": {},
     "output_type": "execute_result"
    }
   ],
   "source": [
    "4 * 3 + (1 + 2) / 4"
   ]
  },
  {
   "cell_type": "markdown",
   "metadata": {
    "id": "9ZSGfebtUD4K"
   },
   "source": [
    "- \u0e02\u0e49\u0e2d\u0e41\u0e15\u0e01\u0e15\u0e48\u0e32\u0e07\u0e04\u0e37\u0e2d \u0e43\u0e19\u0e01\u0e23\u0e13\u0e35\u0e17\u0e35\u0e48\u0e21\u0e35\u0e27\u0e07\u0e40\u0e25\u0e47\u0e1a\u0e0b\u0e49\u0e2d\u0e19\u0e27\u0e07\u0e40\u0e25\u0e47\u0e1a \u0e40\u0e23\u0e32\u0e08\u0e30\u0e43\u0e0a\u0e49\u0e40\u0e04\u0e23\u0e37\u0e48\u0e2d\u0e07\u0e2b\u0e21\u0e32\u0e22\u0e27\u0e07\u0e40\u0e25\u0e47\u0e1a `( )` \u0e40\u0e2a\u0e21\u0e2d <u>**\u0e2b\u0e49\u0e32\u0e21\u0e43\u0e0a\u0e49**</u>\u0e40\u0e04\u0e23\u0e37\u0e48\u0e2d\u0e07\u0e2b\u0e21\u0e32\u0e22\u0e01\u0e49\u0e32\u0e21\u0e1b\u0e39 `[ ]` \u0e41\u0e25\u0e30\u0e40\u0e04\u0e23\u0e37\u0e48\u0e2d\u0e07\u0e2b\u0e21\u0e32\u0e22\u0e1b\u0e35\u0e01\u0e01\u0e32 `{ }` \u0e42\u0e14\u0e22\u0e40\u0e14\u0e47\u0e14\u0e02\u0e32\u0e14\n",
    "- \u0e40\u0e0a\u0e48\u0e19 \u0e16\u0e49\u0e32\u0e40\u0e23\u0e32\u0e08\u0e30\u0e04\u0e33\u0e19\u0e27\u0e13\u0e04\u0e48\u0e32\u0e02\u0e2d\u0e07\u0e19\u0e34\u0e1e\u0e08\u0e19\u0e4c $ \\left( \\left[ 1 / \\left\\{ 2 + 3 \\right\\} \\right] \\times 4 + 5 \\right) / 6 $ \u0e40\u0e23\u0e32\u0e08\u0e30\u0e15\u0e49\u0e2d\u0e07\u0e40\u0e1b\u0e25\u0e35\u0e48\u0e22\u0e19\u0e01\u0e49\u0e32\u0e21\u0e1b\u0e39\u0e41\u0e25\u0e30\u0e1b\u0e35\u0e01\u0e01\u0e32\u0e01\u0e25\u0e31\u0e1a\u0e21\u0e32\u0e40\u0e1b\u0e47\u0e19\u0e27\u0e07\u0e40\u0e25\u0e47\u0e1a\u0e01\u0e48\u0e2d\u0e19\u0e40\u0e2a\u0e21\u0e2d"
   ]
  },
  {
   "cell_type": "code",
   "execution_count": 13,
   "metadata": {
    "colab": {
     "base_uri": "https://localhost:8080/"
    },
    "id": "oC4EZPTyVsP2",
    "outputId": "39266422-2435-462a-a851-2e1cadae58e1"
   },
   "outputs": [
    {
     "data": {
      "text/plain": [
       "0.9666666666666667"
      ]
     },
     "execution_count": 13,
     "metadata": {},
     "output_type": "execute_result"
    }
   ],
   "source": [
    "((1 / (2 + 3)) * 4 + 5) / 6"
   ]
  },
  {
   "cell_type": "markdown",
   "metadata": {
    "id": "KYKGVrDuUurd"
   },
   "source": [
    "- **\u0e2b\u0e31\u0e27\u0e43\u0e08:** \u0e40\u0e04\u0e23\u0e37\u0e48\u0e2d\u0e07\u0e2b\u0e21\u0e32\u0e22\u0e27\u0e07\u0e40\u0e25\u0e47\u0e1a\u0e21\u0e35\u0e2b\u0e19\u0e49\u0e32\u0e17\u0e35\u0e48\u0e40\u0e1b\u0e25\u0e35\u0e48\u0e22\u0e19\u0e25\u0e33\u0e14\u0e31\u0e1a\u0e01\u0e32\u0e23\u0e17\u0e33\u0e07\u0e32\u0e19 \u0e42\u0e14\u0e22\u0e08\u0e30\u0e40\u0e23\u0e34\u0e48\u0e21\u0e17\u0e33\u0e43\u0e19\u0e27\u0e07\u0e40\u0e25\u0e47\u0e1a\u0e01\u0e48\u0e2d\u0e19\u0e40\u0e2a\u0e21\u0e2d \u0e42\u0e14\u0e22\u0e25\u0e33\u0e14\u0e31\u0e1a\u0e01\u0e32\u0e23\u0e17\u0e33\u0e07\u0e32\u0e19\u0e08\u0e30\u0e40\u0e23\u0e34\u0e48\u0e21\u0e08\u0e32\u0e01 (1) \u0e17\u0e33\u0e43\u0e19\u0e27\u0e07\u0e40\u0e25\u0e47\u0e1a (2) \u0e04\u0e39\u0e13\u0e41\u0e25\u0e30\u0e2b\u0e32\u0e23 (3) \u0e1a\u0e27\u0e01\u0e41\u0e25\u0e30\u0e25\u0e1a\n",
    "- \u0e40\u0e0a\u0e48\u0e19 \u0e25\u0e2d\u0e07\u0e2a\u0e31\u0e07\u0e40\u0e01\u0e15\u0e1c\u0e25\u0e25\u0e31\u0e1e\u0e18\u0e4c\u0e02\u0e2d\u0e07\u0e19\u0e34\u0e1e\u0e08\u0e19\u0e4c\u0e17\u0e31\u0e49\u0e07\u0e2a\u0e2d\u0e07\u0e19\u0e35\u0e49\u0e04\u0e23\u0e31\u0e1a: $ (1 + 2) \\times 3 $ \u0e01\u0e31\u0e1a $ 1 + (2 \\times 3) $"
   ]
  },
  {
   "cell_type": "code",
   "execution_count": 14,
   "metadata": {
    "colab": {
     "base_uri": "https://localhost:8080/"
    },
    "id": "T35RIFwJnGHC",
    "outputId": "3df00d55-23a3-4e47-cf70-4a4857a3a472"
   },
   "outputs": [
    {
     "data": {
      "text/plain": [
       "9"
      ]
     },
     "execution_count": 14,
     "metadata": {},
     "output_type": "execute_result"
    }
   ],
   "source": [
    "(1 + 2) * 3"
   ]
  },
  {
   "cell_type": "code",
   "execution_count": 15,
   "metadata": {
    "colab": {
     "base_uri": "https://localhost:8080/"
    },
    "id": "RdL86Thpowg9",
    "outputId": "a66287e7-7075-4bf2-8f12-05ae8bc941cd"
   },
   "outputs": [
    {
     "data": {
      "text/plain": [
       "7"
      ]
     },
     "execution_count": 15,
     "metadata": {},
     "output_type": "execute_result"
    }
   ],
   "source": [
    "1 + (2 * 3)"
   ]
  },
  {
   "cell_type": "markdown",
   "metadata": {
    "id": "C4Tp21Ffo0JE"
   },
   "source": [
    "- \u0e17\u0e31\u0e49\u0e07\u0e19\u0e35\u0e49\u0e02\u0e2d\u0e43\u0e2b\u0e49\u0e17\u0e48\u0e32\u0e19\u0e23\u0e30\u0e21\u0e31\u0e14\u0e23\u0e30\u0e27\u0e31\u0e07\u0e01\u0e32\u0e23\u0e43\u0e0a\u0e49\u0e40\u0e04\u0e23\u0e37\u0e48\u0e2d\u0e07\u0e2b\u0e21\u0e32\u0e22\u0e04\u0e39\u0e13 `*` \u0e41\u0e25\u0e30\u0e2b\u0e32\u0e23 `/` \u0e14\u0e49\u0e27\u0e22\u0e19\u0e30\u0e04\u0e23\u0e31\u0e1a \u0e40\u0e1e\u0e23\u0e32\u0e30\u0e16\u0e49\u0e32\u0e2b\u0e32\u0e01\u0e44\u0e21\u0e48\u0e23\u0e30\u0e1a\u0e38\u0e27\u0e07\u0e40\u0e25\u0e47\u0e1a\u0e43\u0e2b\u0e49\u0e0a\u0e31\u0e14\u0e40\u0e08\u0e19 \u0e25\u0e33\u0e14\u0e31\u0e1a\u0e01\u0e32\u0e23\u0e04\u0e33\u0e19\u0e27\u0e13\u0e01\u0e47\u0e2d\u0e32\u0e08\u0e08\u0e30\u0e44\u0e21\u0e48\u0e40\u0e1b\u0e47\u0e19\u0e44\u0e1b\u0e15\u0e32\u0e21\u0e17\u0e35\u0e48\u0e17\u0e48\u0e32\u0e19\u0e15\u0e49\u0e2d\u0e07\u0e01\u0e32\u0e23\u0e44\u0e14\u0e49 "
   ]
  },
  {
   "cell_type": "markdown",
   "metadata": {
    "id": "0NjKBhCQpXWT"
   },
   "source": [
    "### \u0e41\u0e1a\u0e1a\u0e1d\u0e36\u0e01\u0e2b\u0e31\u0e14 2.2"
   ]
  },
  {
   "cell_type": "markdown",
   "metadata": {
    "id": "fhryp_sKphqR"
   },
   "source": [
    "\u0e40\u0e23\u0e32\u0e21\u0e32\u0e25\u0e2d\u0e07\u0e04\u0e33\u0e19\u0e27\u0e13\u0e04\u0e48\u0e32\u0e02\u0e2d\u0e07\u0e19\u0e34\u0e1e\u0e08\u0e19\u0e4c\u0e17\u0e32\u0e07\u0e04\u0e13\u0e34\u0e15\u0e28\u0e32\u0e2a\u0e15\u0e23\u0e4c\u0e15\u0e48\u0e2d\u0e44\u0e1b\u0e19\u0e35\u0e49\u0e01\u0e31\u0e19\u0e04\u0e23\u0e31\u0e1a\n",
    "\n",
    "1. $ 3 \\times (4 + 1 - 2 \\times 5) $"
   ]
  },
  {
   "cell_type": "code",
   "execution_count": 16,
   "metadata": {
    "id": "_9qKZsZYqUAp"
   },
   "outputs": [
    {
     "data": {
      "text/plain": [
       "-15"
      ]
     },
     "execution_count": 16,
     "metadata": {},
     "output_type": "execute_result"
    }
   ],
   "source": [
    "3 * (4 + 1 - 2 * 5)"
   ]
  },
  {
   "cell_type": "markdown",
   "metadata": {
    "id": "ruqQb5J7pttZ"
   },
   "source": [
    "2. $ \\frac{1 + 2 + 3}{4 + 5 + 6} $   [**\u0e2b\u0e21\u0e32\u0e22\u0e40\u0e2b\u0e15\u0e38:** \u0e42\u0e1b\u0e23\u0e14\u0e40\u0e25\u0e37\u0e2d\u0e01\u0e01\u0e32\u0e23\u0e43\u0e0a\u0e49\u0e40\u0e04\u0e23\u0e37\u0e48\u0e2d\u0e07\u0e2b\u0e21\u0e32\u0e22\u0e27\u0e07\u0e40\u0e25\u0e47\u0e1a\u0e14\u0e49\u0e27\u0e22\u0e04\u0e27\u0e32\u0e21\u0e23\u0e30\u0e21\u0e31\u0e14\u0e23\u0e30\u0e27\u0e31\u0e07]"
   ]
  },
  {
   "cell_type": "code",
   "execution_count": 17,
   "metadata": {
    "id": "kJlpspwCqUkG"
   },
   "outputs": [
    {
     "data": {
      "text/plain": [
       "0.4"
      ]
     },
     "execution_count": 17,
     "metadata": {},
     "output_type": "execute_result"
    }
   ],
   "source": [
    "(1 + 2 + 3) / (4 + 5 + 6)"
   ]
  },
  {
   "cell_type": "markdown",
   "metadata": {
    "id": "fwT9mp6gp7kt"
   },
   "source": [
    "3. $ 7 \\times \\frac{5 + 6}{7 + \\frac{7}{8}} $"
   ]
  },
  {
   "cell_type": "code",
   "execution_count": 18,
   "metadata": {
    "id": "82-wYN_LqVME"
   },
   "outputs": [
    {
     "data": {
      "text/plain": [
       "17.125"
      ]
     },
     "execution_count": 18,
     "metadata": {},
     "output_type": "execute_result"
    }
   ],
   "source": [
    "7 * ((5 + 6) / 7 + 7/8)"
   ]
  },
  {
   "cell_type": "markdown",
   "metadata": {
    "id": "T9oJjXEdrEGX"
   },
   "source": [
    "### \u0e40\u0e04\u0e23\u0e37\u0e48\u0e2d\u0e07\u0e2b\u0e21\u0e32\u0e22\u0e22\u0e01\u0e01\u0e33\u0e25\u0e31\u0e07 (power) \u0e41\u0e25\u0e30\u0e01\u0e32\u0e23\u0e16\u0e2d\u0e14\u0e23\u0e32\u0e01 (root)\n",
    "\n",
    "- \u0e40\u0e04\u0e23\u0e37\u0e48\u0e2d\u0e07\u0e2b\u0e21\u0e32\u0e22\u0e22\u0e01\u0e01\u0e33\u0e25\u0e31\u0e07\u0e43\u0e19\u0e20\u0e32\u0e29\u0e32 Python \u0e08\u0e30\u0e43\u0e0a\u0e49\u0e40\u0e04\u0e23\u0e37\u0e48\u0e2d\u0e07\u0e2b\u0e21\u0e32\u0e22 `**` (\u0e14\u0e2d\u0e01\u0e08\u0e31\u0e19\u0e40\u0e02\u0e35\u0e22\u0e19\u0e15\u0e34\u0e14\u0e01\u0e31\u0e19 2 \u0e14\u0e27\u0e07) \u0e04\u0e23\u0e31\u0e1a\n",
    "- \u0e40\u0e0a\u0e48\u0e19 \u0e16\u0e49\u0e32\u0e40\u0e23\u0e32\u0e08\u0e30\u0e04\u0e33\u0e19\u0e27\u0e13\u0e04\u0e48\u0e32\u0e02\u0e2d\u0e07\u0e19\u0e34\u0e1e\u0e08\u0e19\u0e4c $ 2^5 $ \u0e40\u0e23\u0e32\u0e08\u0e30\u0e43\u0e0a\u0e49\u0e04\u0e33\u0e2a\u0e31\u0e48\u0e07\u0e27\u0e48\u0e32"
   ]
  },
  {
   "cell_type": "code",
   "execution_count": 19,
   "metadata": {
    "colab": {
     "base_uri": "https://localhost:8080/"
    },
    "id": "0vzA567gq-Xm",
    "outputId": "6bb282f5-b0e2-4ca7-e209-1105b5f76704"
   },
   "outputs": [
    {
     "data": {
      "text/plain": [
       "32"
      ]
     },
     "execution_count": 19,
     "metadata": {},
     "output_type": "execute_result"
    }
   ],
   "source": [
    "2 ** 5"
   ]
  },
  {
   "cell_type": "markdown",
   "metadata": {
    "id": "gpSaLvJlrijb"
   },
   "source": [
    "- \u0e40\u0e21\u0e37\u0e48\u0e2d\u0e40\u0e23\u0e32\u0e19\u0e33\u0e40\u0e04\u0e23\u0e37\u0e48\u0e2d\u0e07\u0e2b\u0e21\u0e32\u0e22\u0e22\u0e01\u0e01\u0e33\u0e25\u0e31\u0e07\u0e21\u0e32\u0e43\u0e2a\u0e48\u0e43\u0e19\u0e19\u0e34\u0e1e\u0e08\u0e19\u0e4c\u0e17\u0e32\u0e07\u0e04\u0e13\u0e34\u0e15\u0e28\u0e32\u0e2a\u0e15\u0e23\u0e4c \u0e25\u0e33\u0e14\u0e31\u0e1a\u0e01\u0e32\u0e23\u0e17\u0e33\u0e07\u0e32\u0e19\u0e08\u0e30\u0e40\u0e1b\u0e25\u0e35\u0e48\u0e22\u0e19\u0e44\u0e1b\u0e15\u0e32\u0e21\u0e19\u0e35\u0e49\u0e04\u0e23\u0e31\u0e1a\n",
    "  1. \u0e17\u0e33\u0e43\u0e19\u0e27\u0e07\u0e40\u0e25\u0e47\u0e1a\u0e01\u0e48\u0e2d\u0e19\n",
    "  2. \u0e17\u0e33\u0e40\u0e04\u0e23\u0e37\u0e48\u0e2d\u0e07\u0e2b\u0e21\u0e32\u0e22\u0e22\u0e01\u0e01\u0e33\u0e25\u0e31\u0e07\n",
    "  3. \u0e17\u0e33\u0e40\u0e04\u0e23\u0e37\u0e48\u0e2d\u0e07\u0e2b\u0e21\u0e32\u0e22\u0e04\u0e39\u0e13\u0e41\u0e25\u0e30\u0e2b\u0e32\u0e23\n",
    "  4. \u0e17\u0e33\u0e40\u0e04\u0e23\u0e37\u0e48\u0e2d\u0e07\u0e2b\u0e21\u0e32\u0e22\u0e1a\u0e27\u0e01\u0e41\u0e25\u0e30\u0e25\u0e1a\n",
    "- \u0e40\u0e0a\u0e48\u0e19 \u0e25\u0e2d\u0e07\u0e2a\u0e31\u0e07\u0e40\u0e01\u0e15\u0e01\u0e32\u0e23\u0e04\u0e33\u0e19\u0e27\u0e13\u0e04\u0e48\u0e32\u0e02\u0e2d\u0e07\u0e19\u0e34\u0e1e\u0e08\u0e19\u0e4c 3 \u0e15\u0e31\u0e27\u0e19\u0e35\u0e49\u0e01\u0e31\u0e19\u0e04\u0e23\u0e31\u0e1a: `(2 * 5) ** 3`, `2 * (5 ** 3)`, \u0e41\u0e25\u0e30 `2 * 5 ** 3`"
   ]
  },
  {
   "cell_type": "code",
   "execution_count": 20,
   "metadata": {
    "colab": {
     "base_uri": "https://localhost:8080/",
     "height": 56
    },
    "id": "fw2XEdXpsMji",
    "outputId": "b39bb173-f2b9-459d-e9d5-8a1d07756eef"
   },
   "outputs": [
    {
     "data": {
      "text/plain": [
       "1000"
      ]
     },
     "execution_count": 20,
     "metadata": {},
     "output_type": "execute_result"
    }
   ],
   "source": [
    "(2 * 5) ** 3"
   ]
  },
  {
   "cell_type": "code",
   "execution_count": 21,
   "metadata": {
    "colab": {
     "base_uri": "https://localhost:8080/",
     "height": 56
    },
    "id": "1NPd9WbHsMoI",
    "outputId": "8db18276-0ab5-469e-a26d-84d0c3f84b41"
   },
   "outputs": [
    {
     "data": {
      "text/plain": [
       "250"
      ]
     },
     "execution_count": 21,
     "metadata": {},
     "output_type": "execute_result"
    }
   ],
   "source": [
    "2 * (5 ** 3)"
   ]
  },
  {
   "cell_type": "code",
   "execution_count": 22,
   "metadata": {
    "colab": {
     "base_uri": "https://localhost:8080/",
     "height": 56
    },
    "id": "V8MkaOkDsMr_",
    "outputId": "2387f73c-14e9-4b13-bac4-1e87ddf069ab"
   },
   "outputs": [
    {
     "data": {
      "text/plain": [
       "250"
      ]
     },
     "execution_count": 22,
     "metadata": {},
     "output_type": "execute_result"
    }
   ],
   "source": [
    "2 * 5 ** 3"
   ]
  },
  {
   "cell_type": "markdown",
   "metadata": {
    "id": "9mWzIPbzsabt"
   },
   "source": [
    "- \u0e14\u0e31\u0e07\u0e19\u0e31\u0e49\u0e19\u0e40\u0e1e\u0e37\u0e48\u0e2d\u0e04\u0e27\u0e32\u0e21\u0e1b\u0e25\u0e2d\u0e14\u0e20\u0e31\u0e22 \u0e40\u0e23\u0e32\u0e08\u0e36\u0e07\u0e19\u0e34\u0e22\u0e21\u0e40\u0e02\u0e35\u0e22\u0e19\u0e40\u0e04\u0e23\u0e37\u0e48\u0e2d\u0e07\u0e2b\u0e21\u0e32\u0e22\u0e22\u0e01\u0e01\u0e33\u0e25\u0e31\u0e07 `**` \u0e15\u0e34\u0e14\u0e01\u0e31\u0e1a\u0e15\u0e31\u0e27\u0e40\u0e25\u0e02 \u0e40\u0e1e\u0e37\u0e48\u0e2d\u0e43\u0e2b\u0e49\u0e40\u0e1b\u0e47\u0e19\u0e17\u0e35\u0e48\u0e23\u0e39\u0e49\u0e01\u0e31\u0e19\u0e27\u0e48\u0e32 \u0e16\u0e49\u0e32\u0e2b\u0e32\u0e01\u0e44\u0e21\u0e48\u0e21\u0e35\u0e27\u0e07\u0e40\u0e25\u0e47\u0e1a \u0e40\u0e23\u0e32\u0e08\u0e30\u0e40\u0e23\u0e34\u0e48\u0e21\u0e17\u0e33\u0e08\u0e32\u0e01\u0e40\u0e04\u0e23\u0e37\u0e48\u0e2d\u0e07\u0e2b\u0e21\u0e32\u0e22\u0e22\u0e01\u0e01\u0e33\u0e25\u0e31\u0e07\u0e01\u0e48\u0e2d\u0e19\u0e40\u0e2a\u0e21\u0e2d \u0e40\u0e0a\u0e48\u0e19 \u0e40\u0e23\u0e32\u0e08\u0e30\u0e40\u0e02\u0e35\u0e22\u0e19\u0e19\u0e34\u0e1e\u0e08\u0e19\u0e4c $ 2 \\times 5^3 $ \u0e14\u0e49\u0e27\u0e22\u0e04\u0e33\u0e2a\u0e31\u0e48\u0e07 `2 * 5**3` \u0e40\u0e1b\u0e47\u0e19\u0e15\u0e49\u0e19"
   ]
  },
  {
   "cell_type": "markdown",
   "metadata": {
    "id": "WeFRROotuXf7"
   },
   "source": [
    "- \u0e19\u0e2d\u0e01\u0e08\u0e32\u0e01\u0e19\u0e35\u0e49\u0e40\u0e23\u0e32\u0e22\u0e31\u0e07\u0e2a\u0e32\u0e21\u0e32\u0e23\u0e16\u0e04\u0e33\u0e19\u0e27\u0e13\u0e04\u0e48\u0e32\u0e23\u0e32\u0e01 (root) \u0e44\u0e14\u0e49\u0e42\u0e14\u0e22\u0e01\u0e32\u0e23\u0e43\u0e0a\u0e49\u0e2a\u0e39\u0e15\u0e23:\n",
    "\n",
    "$$ \\sqrt[r]{a} = a^{1/r} $$\n",
    "\n",
    "- \u0e40\u0e0a\u0e48\u0e19 \u0e40\u0e23\u0e32\u0e2a\u0e32\u0e21\u0e32\u0e23\u0e16\u0e04\u0e33\u0e19\u0e27\u0e13\u0e04\u0e48\u0e32 $ \\sqrt[3]{8} $ (\u0e23\u0e32\u0e01\u0e17\u0e35\u0e48 3 \u0e02\u0e2d\u0e07 8) \u0e44\u0e14\u0e49\u0e42\u0e14\u0e22\u0e04\u0e33\u0e2a\u0e31\u0e48\u0e07 `8**(1/3)`"
   ]
  },
  {
   "cell_type": "code",
   "execution_count": 23,
   "metadata": {
    "colab": {
     "base_uri": "https://localhost:8080/"
    },
    "id": "J7dLeElisSJA",
    "outputId": "ee0b6398-2bef-40e2-fe77-9390f75860a9"
   },
   "outputs": [
    {
     "data": {
      "text/plain": [
       "2.0"
      ]
     },
     "execution_count": 23,
     "metadata": {},
     "output_type": "execute_result"
    }
   ],
   "source": [
    "8**(1/3)"
   ]
  },
  {
   "cell_type": "markdown",
   "metadata": {
    "id": "6dCZgDrRu2tQ"
   },
   "source": [
    "### \u0e41\u0e1a\u0e1a\u0e1d\u0e36\u0e01\u0e2b\u0e31\u0e14 2.3"
   ]
  },
  {
   "cell_type": "markdown",
   "metadata": {
    "id": "bYqXzulivD1u"
   },
   "source": [
    "\u0e40\u0e23\u0e32\u0e21\u0e32\u0e04\u0e33\u0e19\u0e27\u0e13\u0e04\u0e48\u0e32\u0e02\u0e2d\u0e07\u0e19\u0e34\u0e1e\u0e08\u0e19\u0e4c\u0e14\u0e31\u0e07\u0e15\u0e48\u0e2d\u0e44\u0e1b\u0e19\u0e35\u0e49\u0e01\u0e31\u0e19\u0e04\u0e23\u0e31\u0e1a\n",
    "\n",
    "1. $ 3^{5 + 3/4} $"
   ]
  },
  {
   "cell_type": "code",
   "execution_count": 24,
   "metadata": {
    "id": "_glTD-i5vKGB"
   },
   "outputs": [
    {
     "data": {
      "text/plain": [
       "553.920214840011"
      ]
     },
     "execution_count": 24,
     "metadata": {},
     "output_type": "execute_result"
    }
   ],
   "source": [
    "3**(5+3/4)"
   ]
  },
  {
   "cell_type": "markdown",
   "metadata": {
    "id": "91ZyBqUQvKaS"
   },
   "source": [
    "2. $ \\sqrt[2]{\\left( 7 + 3 \\times 4 \\right)} $"
   ]
  },
  {
   "cell_type": "code",
   "execution_count": 25,
   "metadata": {
    "id": "gzCgYY57vgtd"
   },
   "outputs": [
    {
     "data": {
      "text/plain": [
       "4.358898943540674"
      ]
     },
     "execution_count": 25,
     "metadata": {},
     "output_type": "execute_result"
    }
   ],
   "source": [
    "(7+3*4)**(1/2)"
   ]
  },
  {
   "cell_type": "markdown",
   "metadata": {
    "id": "GDDPl844vhI1"
   },
   "source": [
    "3. $ \\frac{5 + 6^{2.5}}{\\sqrt[2]{3.5}} + 3^2 $"
   ]
  },
  {
   "cell_type": "code",
   "execution_count": 26,
   "metadata": {
    "colab": {
     "base_uri": "https://localhost:8080/"
    },
    "id": "PBNVx0QNuv35",
    "outputId": "1f69b643-1c61-41e3-a2fe-394b89a20632"
   },
   "outputs": [
    {
     "data": {
      "text/plain": [
       "58.8076767100986"
      ]
     },
     "execution_count": 26,
     "metadata": {},
     "output_type": "execute_result"
    }
   ],
   "source": [
    "((5+6**2.5)/3.5**(1/2))+3**2"
   ]
  },
  {
   "cell_type": "markdown",
   "metadata": {
    "id": "ooPvIVBGwZ2n"
   },
   "source": [
    "\n",
    "\n",
    "---\n",
    "\n"
   ]
  },
  {
   "cell_type": "markdown",
   "metadata": {
    "id": "pgbWhdW2wbAt"
   },
   "source": [
    "## \u0e01\u0e34\u0e08\u0e01\u0e23\u0e23\u0e21 3: \u0e15\u0e31\u0e27\u0e41\u0e1b\u0e23"
   ]
  },
  {
   "cell_type": "markdown",
   "metadata": {
    "id": "l0AuTrpJw-Zj"
   },
   "source": [
    "### \u0e15\u0e31\u0e27\u0e41\u0e1b\u0e23 (variable)\n",
    "\n",
    "- \u0e15\u0e31\u0e27\u0e41\u0e1b\u0e23\u0e40\u0e1b\u0e23\u0e35\u0e22\u0e1a\u0e40\u0e2a\u0e21\u0e37\u0e2d\u0e19\u0e17\u0e35\u0e48\u0e17\u0e14\u0e40\u0e25\u0e02 \u0e40\u0e1e\u0e37\u0e48\u0e2d\u0e17\u0e35\u0e48\u0e08\u0e30\u0e44\u0e14\u0e49\u0e19\u0e33\u0e1c\u0e25\u0e25\u0e31\u0e1e\u0e18\u0e4c\u0e08\u0e32\u0e01\u0e01\u0e32\u0e23\u0e04\u0e33\u0e19\u0e27\u0e13\u0e04\u0e48\u0e32\u0e02\u0e2d\u0e07\u0e19\u0e34\u0e1e\u0e08\u0e19\u0e4c\u0e17\u0e35\u0e48\u0e17\u0e14\u0e44\u0e27\u0e49 \u0e44\u0e1b\u0e43\u0e0a\u0e49\u0e15\u0e48\u0e2d\u0e44\u0e14\u0e49\u0e43\u0e19\u0e2d\u0e19\u0e32\u0e04\u0e15\n",
    "- \u0e40\u0e19\u0e37\u0e48\u0e2d\u0e07\u0e08\u0e32\u0e01\u0e01\u0e23\u0e30\u0e14\u0e32\u0e29\u0e43\u0e19\u0e04\u0e2d\u0e21\u0e1e\u0e34\u0e27\u0e40\u0e15\u0e2d\u0e23\u0e4c\u0e21\u0e35\u0e02\u0e19\u0e32\u0e14\u0e43\u0e2b\u0e0d\u0e48\u0e21\u0e32\u0e01 \u0e40\u0e23\u0e32\u0e08\u0e36\u0e07\u0e15\u0e49\u0e2d\u0e07\u0e08\u0e2d\u0e07\u0e1e\u0e37\u0e49\u0e19\u0e17\u0e35\u0e48\u0e2a\u0e33\u0e2b\u0e23\u0e31\u0e1a\u0e17\u0e14\u0e40\u0e25\u0e02\u0e41\u0e25\u0e30\u0e15\u0e31\u0e49\u0e07\u0e0a\u0e37\u0e48\u0e2d\u0e40\u0e2d\u0e32\u0e44\u0e27\u0e49 \u0e40\u0e27\u0e25\u0e32\u0e08\u0e30\u0e2b\u0e22\u0e34\u0e1a\u0e2a\u0e34\u0e48\u0e07\u0e17\u0e35\u0e48\u0e17\u0e14\u0e44\u0e27\u0e49\u0e01\u0e25\u0e31\u0e1a\u0e21\u0e32\u0e43\u0e0a\u0e49\u0e43\u0e2b\u0e21\u0e48\u0e08\u0e30\u0e44\u0e14\u0e49\u0e44\u0e21\u0e48\u0e2b\u0e25\u0e07\u0e17\u0e35\u0e48\u0e19\u0e31\u0e48\u0e19\u0e40\u0e2d\u0e07\u0e04\u0e23\u0e31\u0e1a\n",
    "- \u0e40\u0e0a\u0e48\u0e19 \u0e40\u0e23\u0e32\u0e2a\u0e32\u0e21\u0e32\u0e23\u0e16\u0e17\u0e14\u0e04\u0e48\u0e32\u0e02\u0e2d\u0e07 $ 2^5 $ \u0e40\u0e01\u0e47\u0e1a\u0e44\u0e27\u0e49\u0e43\u0e19\u0e15\u0e31\u0e27\u0e41\u0e1b\u0e23 `a` \u0e41\u0e25\u0e30\u0e17\u0e14\u0e04\u0e48\u0e32\u0e02\u0e2d\u0e07 $\\sqrt[2]{5}$ \u0e40\u0e01\u0e47\u0e1a\u0e44\u0e27\u0e49\u0e43\u0e19\u0e15\u0e31\u0e27\u0e41\u0e1b\u0e23 `b` \u0e40\u0e1e\u0e37\u0e48\u0e2d\u0e43\u0e0a\u0e49\u0e15\u0e48\u0e2d\u0e43\u0e19\u0e01\u0e32\u0e23\u0e04\u0e33\u0e19\u0e27\u0e13\u0e15\u0e48\u0e2d\u0e46 \u0e44\u0e1b\u0e44\u0e14\u0e49 \u0e0b\u0e36\u0e48\u0e07\u0e43\u0e19\u0e15\u0e31\u0e27\u0e2d\u0e22\u0e48\u0e32\u0e07\u0e19\u0e35\u0e49\u0e40\u0e23\u0e32\u0e08\u0e30\u0e04\u0e33\u0e19\u0e27\u0e13\u0e04\u0e48\u0e32\u0e02\u0e2d\u0e07 $ a^3 + b^3 $ \u0e01\u0e31\u0e19"
   ]
  },
  {
   "cell_type": "code",
   "execution_count": 27,
   "metadata": {
    "colab": {
     "base_uri": "https://localhost:8080/"
    },
    "id": "ThnIsY2BwN-W",
    "outputId": "1822d92b-dce6-49f2-ea53-d929e5f301b8"
   },
   "outputs": [
    {
     "data": {
      "text/plain": [
       "32779.1803398875"
      ]
     },
     "execution_count": 27,
     "metadata": {},
     "output_type": "execute_result"
    }
   ],
   "source": [
    "a = 2**5               # \u0e17\u0e14\u0e04\u0e48\u0e32\u0e44\u0e27\u0e49\u0e43\u0e19\u0e15\u0e31\u0e27\u0e41\u0e1b\u0e23 a\n",
    "b = 5**(1/2)           # \u0e17\u0e14\u0e04\u0e48\u0e32\u0e44\u0e27\u0e49\u0e43\u0e19\u0e15\u0e31\u0e27\u0e41\u0e1b\u0e23 b\n",
    "a**3 + b**3"
   ]
  },
  {
   "cell_type": "markdown",
   "metadata": {
    "id": "Kndx5Vp4NvIS"
   },
   "source": [
    "- \u0e40\u0e23\u0e32\u0e2a\u0e32\u0e21\u0e32\u0e23\u0e16\u0e1e\u0e34\u0e21\u0e1e\u0e4c\u0e04\u0e48\u0e32\u0e15\u0e31\u0e27\u0e41\u0e1b\u0e23\u0e2d\u0e2d\u0e01\u0e2b\u0e19\u0e49\u0e32\u0e08\u0e2d\u0e44\u0e14\u0e49\u0e14\u0e49\u0e27\u0e22\u0e04\u0e33\u0e2a\u0e31\u0e48\u0e07 `print` \u0e40\u0e0a\u0e48\u0e19\u0e40\u0e14\u0e35\u0e22\u0e27\u0e01\u0e31\u0e1a\u0e01\u0e32\u0e23\u0e41\u0e2a\u0e14\u0e07\u0e02\u0e49\u0e2d\u0e04\u0e27\u0e32\u0e21 \u0e40\u0e0a\u0e48\u0e19"
   ]
  },
  {
   "cell_type": "code",
   "execution_count": 28,
   "metadata": {
    "colab": {
     "base_uri": "https://localhost:8080/"
    },
    "id": "vSt21fjLN21x",
    "outputId": "9888f37f-5036-40bf-9f7b-16ea1bd328c8"
   },
   "outputs": [
    {
     "name": "stdout",
     "output_type": "stream",
     "text": [
      "32\n",
      "2.23606797749979\n"
     ]
    }
   ],
   "source": [
    "print(a)\n",
    "print(b)"
   ]
  },
  {
   "cell_type": "markdown",
   "metadata": {
    "id": "9j--LmL3NK6R"
   },
   "source": [
    "- \u0e41\u0e15\u0e48\u0e1a\u0e32\u0e07\u0e04\u0e23\u0e31\u0e49\u0e07\u0e01\u0e32\u0e23\u0e15\u0e31\u0e49\u0e07\u0e0a\u0e37\u0e48\u0e2d\u0e15\u0e31\u0e27\u0e41\u0e1b\u0e23\u0e14\u0e49\u0e27\u0e22\u0e15\u0e31\u0e27\u0e2d\u0e31\u0e01\u0e29\u0e23\u0e40\u0e14\u0e35\u0e48\u0e22\u0e27\u0e46 \u0e01\u0e47\u0e08\u0e33\u0e22\u0e32\u0e01 \u0e40\u0e14\u0e35\u0e4b\u0e22\u0e27\u0e21\u0e32\u0e2d\u0e48\u0e32\u0e19\u0e17\u0e35\u0e2b\u0e25\u0e31\u0e07\u0e01\u0e47\u0e2d\u0e32\u0e08\u0e08\u0e30\u0e25\u0e37\u0e21\u0e2d\u0e35\u0e01 \u0e40\u0e23\u0e32\u0e40\u0e25\u0e22\u0e19\u0e34\u0e22\u0e21\u0e15\u0e31\u0e49\u0e07\u0e0a\u0e37\u0e48\u0e2d\u0e15\u0e31\u0e27\u0e41\u0e1b\u0e23\u0e43\u0e2b\u0e49\u0e40\u0e1b\u0e47\u0e19\u0e04\u0e33\u0e17\u0e35\u0e48\u0e2d\u0e48\u0e32\u0e19\u0e41\u0e25\u0e49\u0e27\u0e08\u0e33\u0e44\u0e14\u0e49\u0e07\u0e48\u0e32\u0e22\u0e41\u0e17\u0e19\u0e04\u0e23\u0e31\u0e1a \u0e40\u0e0a\u0e48\u0e19 `width` (\u0e04\u0e27\u0e32\u0e21\u0e01\u0e27\u0e49\u0e32\u0e07), `height` (\u0e04\u0e27\u0e32\u0e21\u0e2a\u0e39\u0e07), \u0e41\u0e25\u0e30 `area` (\u0e1e\u0e37\u0e49\u0e19\u0e17\u0e35\u0e48) \u0e14\u0e31\u0e07\u0e15\u0e31\u0e27\u0e2d\u0e22\u0e48\u0e32\u0e07\u0e14\u0e49\u0e32\u0e19\u0e25\u0e48\u0e32\u0e07\u0e19\u0e35\u0e49"
   ]
  },
  {
   "cell_type": "code",
   "execution_count": 29,
   "metadata": {
    "colab": {
     "base_uri": "https://localhost:8080/"
    },
    "id": "meSEOCkcyhLh",
    "outputId": "7e2e2354-c0c3-4d04-d6b5-55ef31c6ce8f"
   },
   "outputs": [
    {
     "name": "stdout",
     "output_type": "stream",
     "text": [
      "1200\n"
     ]
    }
   ],
   "source": [
    "width = 40\n",
    "height = 30\n",
    "area = width * height\n",
    "print(area)"
   ]
  },
  {
   "cell_type": "markdown",
   "metadata": {
    "id": "vkgRu82eTgjP"
   },
   "source": [
    "- \u0e2b\u0e32\u0e01\u0e0a\u0e37\u0e48\u0e2d\u0e15\u0e31\u0e27\u0e41\u0e1b\u0e23\u0e1b\u0e23\u0e30\u0e01\u0e2d\u0e1a\u0e14\u0e49\u0e27\u0e22\u0e2b\u0e25\u0e32\u0e22\u0e04\u0e33 \u0e43\u0e2b\u0e49\u0e43\u0e0a\u0e49\u0e40\u0e04\u0e23\u0e37\u0e48\u0e2d\u0e07\u0e2b\u0e21\u0e32\u0e22 _ (\u0e02\u0e35\u0e14\u0e40\u0e2a\u0e49\u0e19\u0e43\u0e15\u0e49 \u0e2b\u0e23\u0e37\u0e2d underscore) \u0e04\u0e31\u0e48\u0e19\u0e23\u0e30\u0e2b\u0e27\u0e48\u0e32\u0e07\u0e04\u0e33 \u0e40\u0e1e\u0e37\u0e48\u0e2d\u0e43\u0e2b\u0e49\u0e2d\u0e48\u0e32\u0e19\u0e07\u0e48\u0e32\u0e22\u0e02\u0e36\u0e49\u0e19 \u0e40\u0e0a\u0e48\u0e19 `area_of_triangle` \u0e1e\u0e37\u0e49\u0e19\u0e17\u0e35\u0e48\u0e2a\u0e32\u0e21\u0e40\u0e2b\u0e25\u0e35\u0e48\u0e22\u0e21 \u0e40\u0e1b\u0e47\u0e19\u0e15\u0e49\u0e19"
   ]
  },
  {
   "cell_type": "code",
   "execution_count": 30,
   "metadata": {
    "colab": {
     "base_uri": "https://localhost:8080/"
    },
    "id": "RaQM-05XTx5c",
    "outputId": "85ddf428-8f2b-4044-f431-d09e90f0c02c"
   },
   "outputs": [
    {
     "name": "stdout",
     "output_type": "stream",
     "text": [
      "600.0\n"
     ]
    }
   ],
   "source": [
    "width = 40\n",
    "height = 30\n",
    "area_of_triangle = 1/2 * width * height\n",
    "print(area_of_triangle)"
   ]
  },
  {
   "cell_type": "markdown",
   "metadata": {
    "id": "BiK0DdrVQ9MU"
   },
   "source": [
    "- \u0e19\u0e2d\u0e01\u0e08\u0e32\u0e01\u0e19\u0e35\u0e49\u0e04\u0e33\u0e2a\u0e31\u0e48\u0e07 `print` \u0e22\u0e31\u0e07\u0e2a\u0e32\u0e21\u0e32\u0e23\u0e16\u0e1e\u0e34\u0e21\u0e1e\u0e4c\u0e04\u0e48\u0e32\u0e2d\u0e2d\u0e01\u0e2b\u0e19\u0e49\u0e32\u0e08\u0e2d\u0e44\u0e14\u0e49\u0e2b\u0e25\u0e32\u0e22\u0e46 \u0e2d\u0e31\u0e19\u0e1e\u0e23\u0e49\u0e2d\u0e21\u0e01\u0e31\u0e19 \u0e40\u0e0a\u0e48\u0e19"
   ]
  },
  {
   "cell_type": "code",
   "execution_count": 31,
   "metadata": {
    "colab": {
     "base_uri": "https://localhost:8080/"
    },
    "id": "RHR2gYTdQ9MV",
    "outputId": "c13638d3-1dd5-4af3-9eab-10ba7fdde6cb"
   },
   "outputs": [
    {
     "name": "stdout",
     "output_type": "stream",
     "text": [
      "width = 40 and height = 30\n",
      "area = width * height = 600.0\n"
     ]
    }
   ],
   "source": [
    "width = 40\n",
    "height = 30\n",
    "area_of_triangle = 1/2 * width * height\n",
    "print('width =', width, 'and height =', height)\n",
    "print('area = width * height =',area_of_triangle)"
   ]
  },
  {
   "cell_type": "markdown",
   "metadata": {
    "id": "Tb5gK29HOr2l"
   },
   "source": [
    "### \u0e41\u0e1a\u0e1a\u0e1d\u0e36\u0e01\u0e2b\u0e31\u0e14 3.1"
   ]
  },
  {
   "cell_type": "markdown",
   "metadata": {
    "id": "DJqgYt_fOuC7"
   },
   "source": [
    "1. \u0e17\u0e14\u0e25\u0e2d\u0e07\u0e01\u0e33\u0e2b\u0e19\u0e14\u0e04\u0e48\u0e32\u0e43\u0e19\u0e15\u0e31\u0e27\u0e41\u0e1b\u0e23 `a`, `b`, \u0e41\u0e25\u0e30 `c` \u0e43\u0e19\u0e42\u0e04\u0e49\u0e14\u0e14\u0e49\u0e32\u0e19\u0e25\u0e48\u0e32\u0e07 \u0e41\u0e25\u0e49\u0e27\u0e2a\u0e31\u0e07\u0e40\u0e01\u0e15\u0e04\u0e27\u0e32\u0e21\u0e40\u0e1b\u0e25\u0e35\u0e48\u0e22\u0e19\u0e41\u0e1b\u0e25\u0e07\u0e02\u0e2d\u0e07\u0e1c\u0e25\u0e25\u0e31\u0e1e\u0e18\u0e4c"
   ]
  },
  {
   "cell_type": "code",
   "execution_count": 32,
   "metadata": {
    "id": "A_G1EELUO8A3"
   },
   "outputs": [
    {
     "name": "stdout",
     "output_type": "stream",
     "text": [
      "20.0\n"
     ]
    }
   ],
   "source": [
    "a = 10\n",
    "b = 20\n",
    "c = 30\n",
    "mean = (a + b + c)/3     # \u0e40\u0e15\u0e34\u0e21\u0e42\u0e04\u0e49\u0e14\u0e17\u0e35\u0e48\u0e19\u0e35\u0e48\n",
    "print(mean)"
   ]
  },
  {
   "cell_type": "markdown",
   "metadata": {
    "id": "ls5Uhzv2PJ3S"
   },
   "source": [
    "2. \u0e15\u0e31\u0e27\u0e41\u0e1b\u0e23 `mean` \u0e43\u0e19\u0e42\u0e04\u0e49\u0e14\u0e14\u0e49\u0e32\u0e19\u0e1a\u0e19\u0e04\u0e37\u0e2d\u0e04\u0e48\u0e32\u0e2d\u0e30\u0e44\u0e23? \u0e17\u0e33\u0e44\u0e21\u0e08\u0e36\u0e07\u0e15\u0e49\u0e2d\u0e07\u0e15\u0e31\u0e49\u0e07\u0e0a\u0e37\u0e48\u0e2d\u0e15\u0e31\u0e27\u0e41\u0e1b\u0e23\u0e41\u0e1a\u0e1a\u0e19\u0e35\u0e49?"
   ]
  },
  {
   "cell_type": "markdown",
   "metadata": {
    "id": "nE1IZ7HmPVFe"
   },
   "source": [
    "3. \u0e08\u0e07\u0e40\u0e02\u0e35\u0e22\u0e19\u0e42\u0e04\u0e49\u0e14\u0e25\u0e07\u0e43\u0e19\u0e0a\u0e48\u0e2d\u0e07\u0e27\u0e48\u0e32\u0e07\u0e43\u0e2b\u0e49\u0e2a\u0e21\u0e1a\u0e39\u0e23\u0e13\u0e4c \u0e40\u0e1e\u0e37\u0e48\u0e2d\u0e04\u0e33\u0e19\u0e27\u0e13\u0e04\u0e48\u0e32\u0e40\u0e09\u0e25\u0e35\u0e48\u0e22\u0e2e\u0e32\u0e23\u0e4c\u0e42\u0e21\u0e19\u0e34\u0e01 (harmonic mean) \u0e02\u0e2d\u0e07\u0e15\u0e31\u0e27\u0e41\u0e1b\u0e23 `a`, `b`, \u0e41\u0e25\u0e30 `c` \u0e42\u0e14\u0e22\u0e04\u0e48\u0e32\u0e40\u0e09\u0e25\u0e35\u0e48\u0e22\u0e2e\u0e32\u0e23\u0e4c\u0e42\u0e21\u0e19\u0e34\u0e01\u0e21\u0e35\u0e2a\u0e39\u0e15\u0e23\u0e14\u0e31\u0e07\u0e19\u0e35\u0e49\n",
    "\n",
    "$$ \\mathrm{hmean}(a, b, c) = \\frac{3}{\\frac{1}{a} + \\frac{1}{b} + \\frac{1}{c}} $$"
   ]
  },
  {
   "cell_type": "code",
   "execution_count": 33,
   "metadata": {
    "id": "wESm-_7UQgto"
   },
   "outputs": [
    {
     "name": "stdout",
     "output_type": "stream",
     "text": [
      "12.0\n"
     ]
    }
   ],
   "source": [
    "a = 10\n",
    "b = 20\n",
    "c = 10\n",
    "hmean = 3/(1/a + 1/b + 1/c)     # \u0e40\u0e15\u0e34\u0e21\u0e42\u0e04\u0e49\u0e14\u0e17\u0e35\u0e48\u0e19\u0e35\u0e48\n",
    "print(hmean)"
   ]
  },
  {
   "cell_type": "markdown",
   "metadata": {
    "id": "_kSIyZjOQrC5"
   },
   "source": [
    "4. \u0e17\u0e14\u0e25\u0e2d\u0e07\u0e40\u0e1b\u0e25\u0e35\u0e48\u0e22\u0e19\u0e04\u0e48\u0e32\u0e15\u0e31\u0e27\u0e41\u0e1b\u0e23 `a`, `b`, \u0e41\u0e25\u0e30 `c` \u0e41\u0e25\u0e30\u0e2a\u0e31\u0e07\u0e40\u0e01\u0e15\u0e04\u0e27\u0e32\u0e21\u0e40\u0e1b\u0e25\u0e35\u0e48\u0e22\u0e19\u0e41\u0e1b\u0e25\u0e07\u0e02\u0e2d\u0e07\u0e1c\u0e25\u0e25\u0e31\u0e1e\u0e18\u0e4c"
   ]
  },
  {
   "cell_type": "markdown",
   "metadata": {
    "id": "3jdzSIenRLHh"
   },
   "source": [
    "5. \u0e40\u0e02\u0e35\u0e22\u0e19\u0e42\u0e04\u0e49\u0e14\u0e40\u0e1e\u0e37\u0e48\u0e2d\u0e04\u0e33\u0e19\u0e27\u0e13\u0e1b\u0e23\u0e34\u0e21\u0e32\u0e15\u0e23\u0e02\u0e2d\u0e07\u0e17\u0e23\u0e07\u0e23\u0e35 (ellipsoid) \u0e08\u0e32\u0e01\u0e15\u0e31\u0e27\u0e41\u0e1b\u0e23\u0e15\u0e48\u0e2d\u0e44\u0e1b\u0e19\u0e35\u0e49\n",
    "  - \u0e04\u0e27\u0e32\u0e21\u0e01\u0e27\u0e49\u0e32\u0e07\u0e40\u0e01\u0e47\u0e1a\u0e2d\u0e22\u0e39\u0e48\u0e43\u0e19\u0e15\u0e31\u0e27\u0e41\u0e1b\u0e23 `width`\n",
    "  - \u0e04\u0e27\u0e32\u0e21\u0e22\u0e32\u0e27\u0e40\u0e01\u0e47\u0e1a\u0e2d\u0e22\u0e39\u0e48\u0e43\u0e19\u0e15\u0e31\u0e27\u0e41\u0e1b\u0e23 `length`\n",
    "  - \u0e04\u0e27\u0e32\u0e21\u0e25\u0e36\u0e01\u0e40\u0e01\u0e47\u0e1a\u0e2d\u0e22\u0e39\u0e48\u0e43\u0e19\u0e15\u0e31\u0e27\u0e41\u0e1b\u0e23 `depth`\n",
    "\n",
    "  \u0e2a\u0e39\u0e15\u0e23\u0e02\u0e2d\u0e07\u0e1b\u0e23\u0e34\u0e21\u0e32\u0e15\u0e23\u0e17\u0e23\u0e07\u0e23\u0e35\u0e21\u0e35\u0e14\u0e31\u0e07\u0e19\u0e35\u0e49\n",
    "\n",
    "$$ \\mathtt{volume} = \\frac{4}{3} \\times \\pi \\times \\mathtt{width} \\times \\mathtt{length} \\times \\mathtt{depth} $$"
   ]
  },
  {
   "cell_type": "code",
   "execution_count": 34,
   "metadata": {
    "colab": {
     "base_uri": "https://localhost:8080/"
    },
    "id": "qaNjNBLiShDO",
    "outputId": "fb913704-1736-4752-cb15-b6a81efdab58"
   },
   "outputs": [
    {
     "name": "stdout",
     "output_type": "stream",
     "text": [
      "100530.9632\n"
     ]
    }
   ],
   "source": [
    "pi = 3.1415926   # \u0e04\u0e48\u0e32 \ud835\udf0b (\u0e44\u0e1e)\n",
    "\n",
    "# \u0e01\u0e33\u0e2b\u0e19\u0e14\u0e04\u0e27\u0e32\u0e21\u0e01\u0e27\u0e49\u0e32\u0e07\u0e43\u0e19\u0e15\u0e31\u0e27\u0e41\u0e1b\u0e23 width \u0e43\u0e2b\u0e49\u0e40\u0e17\u0e48\u0e32\u0e01\u0e31\u0e1a 20\n",
    "width = 20\n",
    "\n",
    "# \u0e01\u0e33\u0e2b\u0e19\u0e14\u0e04\u0e27\u0e32\u0e21\u0e22\u0e32\u0e27\u0e43\u0e19\u0e15\u0e31\u0e27\u0e41\u0e1b\u0e23 length \u0e43\u0e2b\u0e49\u0e40\u0e17\u0e48\u0e32\u0e01\u0e31\u0e1a 30\n",
    "length = 30\n",
    "\n",
    "# \u0e01\u0e33\u0e2b\u0e19\u0e14\u0e04\u0e27\u0e32\u0e21\u0e25\u0e36\u0e01\u0e43\u0e19\u0e15\u0e31\u0e27\u0e41\u0e1b\u0e23 depth \u0e43\u0e2b\u0e49\u0e40\u0e17\u0e48\u0e32\u0e01\u0e31\u0e1a 40\n",
    "depth = 40\n",
    "\n",
    "# \u0e04\u0e33\u0e19\u0e27\u0e13\u0e1b\u0e23\u0e34\u0e21\u0e32\u0e15\u0e23\u0e02\u0e2d\u0e07\u0e17\u0e23\u0e07\u0e23\u0e35\u0e41\u0e25\u0e49\u0e27\u0e40\u0e01\u0e47\u0e1a\u0e43\u0e19\u0e15\u0e31\u0e27\u0e41\u0e1b\u0e23 volume\n",
    "volume = (4/3) * pi * width * length * depth\n",
    "\n",
    "# \u0e1e\u0e34\u0e21\u0e1e\u0e4c\u0e04\u0e48\u0e32\u0e43\u0e19\u0e15\u0e31\u0e27\u0e41\u0e1b\u0e23 volume\n",
    "print(volume)"
   ]
  },
  {
   "cell_type": "markdown",
   "metadata": {
    "id": "mJEc0b6eX2J7"
   },
   "source": [
    "\n",
    "\n",
    "---\n",
    "\n"
   ]
  },
  {
   "cell_type": "markdown",
   "metadata": {
    "id": "8K7bjR4gX40b"
   },
   "source": [
    "## \u0e01\u0e34\u0e08\u0e01\u0e23\u0e23\u0e21 4: \u0e01\u0e32\u0e23\u0e40\u0e01\u0e47\u0e1a\u0e23\u0e32\u0e22\u0e01\u0e32\u0e23\u0e02\u0e49\u0e2d\u0e21\u0e39\u0e25"
   ]
  },
  {
   "cell_type": "markdown",
   "metadata": {
    "id": "Bluf-lrzQ9Mn"
   },
   "source": [
    "### \u0e25\u0e34\u0e2a\u0e15\u0e4c (list)"
   ]
  },
  {
   "cell_type": "markdown",
   "metadata": {
    "id": "0US1X4bCYZui"
   },
   "source": [
    "- \u0e25\u0e34\u0e2a\u0e15\u0e4c (list) \u0e04\u0e37\u0e2d\u0e23\u0e32\u0e22\u0e01\u0e32\u0e23\u0e2a\u0e34\u0e48\u0e07\u0e02\u0e2d\u0e07\u0e17\u0e35\u0e48\u0e40\u0e23\u0e32\u0e2a\u0e32\u0e21\u0e32\u0e23\u0e16\u0e1b\u0e23\u0e31\u0e1a\u0e40\u0e1b\u0e25\u0e35\u0e48\u0e22\u0e19\u0e23\u0e32\u0e22\u0e01\u0e32\u0e23\u0e44\u0e14\u0e49\u0e15\u0e25\u0e2d\u0e14\u0e40\u0e27\u0e25\u0e32\u0e04\u0e23\u0e31\u0e1a\n",
    "- \u0e25\u0e34\u0e2a\u0e15\u0e4c\u0e43\u0e0a\u0e49\u0e2a\u0e31\u0e0d\u0e25\u0e31\u0e01\u0e29\u0e13\u0e4c `[ ]` \u0e04\u0e31\u0e48\u0e19\u0e14\u0e49\u0e27\u0e22\u0e40\u0e04\u0e23\u0e37\u0e48\u0e2d\u0e07\u0e2b\u0e21\u0e32\u0e22\u0e04\u0e2d\u0e21\u0e21\u0e32 `,`\n",
    "- \u0e40\u0e0a\u0e48\u0e19 \u0e25\u0e34\u0e2a\u0e15\u0e4c\u0e02\u0e2d\u0e07\u0e04\u0e27\u0e32\u0e21\u0e2a\u0e39\u0e07\u0e19\u0e31\u0e01\u0e40\u0e23\u0e35\u0e22\u0e19\u0e43\u0e19\u0e01\u0e25\u0e38\u0e48\u0e21 5 \u0e04\u0e19 \u0e21\u0e35\u0e14\u0e31\u0e07\u0e19\u0e35\u0e49"
   ]
  },
  {
   "cell_type": "code",
   "execution_count": 35,
   "metadata": {
    "colab": {
     "base_uri": "https://localhost:8080/"
    },
    "id": "udz9Nb3aY9ay",
    "outputId": "ed98f43e-5f5c-4994-d7fb-fdde5b4c41f4"
   },
   "outputs": [
    {
     "data": {
      "text/plain": [
       "[163.5, 150.0, 167.0, 161.25, 170.0]"
      ]
     },
     "execution_count": 35,
     "metadata": {},
     "output_type": "execute_result"
    }
   ],
   "source": [
    "[163.5, 150.0, 167.0, 161.25, 170.0]"
   ]
  },
  {
   "cell_type": "markdown",
   "metadata": {
    "id": "pnppmrRDZIoW"
   },
   "source": [
    "- \u0e40\u0e23\u0e32\u0e2a\u0e32\u0e21\u0e32\u0e23\u0e16\u0e19\u0e33\u0e25\u0e34\u0e2a\u0e15\u0e4c\u0e21\u0e32\u0e40\u0e01\u0e47\u0e1a\u0e43\u0e19\u0e15\u0e31\u0e27\u0e41\u0e1b\u0e23\u0e44\u0e14\u0e49 \u0e17\u0e33\u0e43\u0e2b\u0e49\u0e15\u0e31\u0e27\u0e41\u0e1b\u0e23\u0e40\u0e14\u0e35\u0e22\u0e27\u0e2a\u0e32\u0e21\u0e32\u0e23\u0e16\u0e40\u0e01\u0e47\u0e1a\u0e04\u0e48\u0e32\u0e44\u0e27\u0e49\u0e44\u0e14\u0e49\u0e2b\u0e25\u0e32\u0e22\u0e04\u0e48\u0e32\u0e04\u0e23\u0e31\u0e1a \u0e40\u0e0a\u0e48\u0e19"
   ]
  },
  {
   "cell_type": "code",
   "execution_count": 36,
   "metadata": {
    "colab": {
     "base_uri": "https://localhost:8080/"
    },
    "id": "ofA5ppq6ZFRb",
    "outputId": "43c61976-e2ee-4922-aff3-ed550f83a401"
   },
   "outputs": [
    {
     "name": "stdout",
     "output_type": "stream",
     "text": [
      "student heights = [163.5, 150.0, 167.0, 161.25, 170.0]\n"
     ]
    }
   ],
   "source": [
    "# \u0e25\u0e34\u0e2a\u0e15\u0e4c\u0e04\u0e27\u0e32\u0e21\u0e2a\u0e39\u0e07\u0e02\u0e2d\u0e07\u0e19\u0e31\u0e01\u0e40\u0e23\u0e35\u0e22\u0e19\u0e43\u0e19\u0e01\u0e25\u0e38\u0e48\u0e21\n",
    "student_heights = [163.5, 150.0, 167.0, 161.25, 170.0]\n",
    "print('student heights =', student_heights)"
   ]
  },
  {
   "cell_type": "markdown",
   "metadata": {
    "id": "niyzhLfrQ9Ms"
   },
   "source": [
    "### \u0e41\u0e1a\u0e1a\u0e1d\u0e36\u0e01\u0e2b\u0e31\u0e14 4.1"
   ]
  },
  {
   "cell_type": "markdown",
   "metadata": {
    "id": "zRpSX830Q9Mt"
   },
   "source": [
    "\u0e25\u0e2d\u0e07\u0e2a\u0e23\u0e49\u0e32\u0e07\u0e25\u0e34\u0e2a\u0e15\u0e4c\u0e08\u0e32\u0e01\u0e23\u0e32\u0e22\u0e01\u0e32\u0e23\u0e2a\u0e21\u0e32\u0e0a\u0e34\u0e01\u0e14\u0e31\u0e07\u0e15\u0e48\u0e2d\u0e44\u0e1b\u0e19\u0e35\u0e49 `[10, 20, 30, 40, 50]` \u0e41\u0e25\u0e49\u0e27\u0e40\u0e01\u0e47\u0e1a\u0e25\u0e07\u0e43\u0e19\u0e15\u0e31\u0e27\u0e41\u0e1b\u0e23 `my_list`"
   ]
  },
  {
   "cell_type": "code",
   "execution_count": 37,
   "metadata": {
    "colab": {
     "base_uri": "https://localhost:8080/"
    },
    "id": "LsYqCYdAQ9Mu",
    "outputId": "8a5ac349-5e42-4be2-f19f-fed2309c107d"
   },
   "outputs": [
    {
     "name": "stdout",
     "output_type": "stream",
     "text": [
      "[10, 20, 30, 40, 50]\n"
     ]
    }
   ],
   "source": [
    "my_list = [10, 20, 30, 40, 50]   # \u0e40\u0e15\u0e34\u0e21\u0e42\u0e04\u0e49\u0e14\u0e17\u0e35\u0e48\u0e19\u0e35\u0e48\n",
    "print(my_list)"
   ]
  },
  {
   "cell_type": "markdown",
   "metadata": {
    "id": "ZtODrxMfQ9Mv"
   },
   "source": [
    "### \u0e02\u0e19\u0e32\u0e14\u0e02\u0e2d\u0e07\u0e25\u0e34\u0e2a\u0e15\u0e4c"
   ]
  },
  {
   "cell_type": "markdown",
   "metadata": {
    "id": "jaw8Nx9SQ9Mw"
   },
   "source": [
    "- \u0e40\u0e23\u0e32\u0e2a\u0e32\u0e21\u0e32\u0e23\u0e16\u0e2b\u0e32\u0e02\u0e19\u0e32\u0e14\u0e02\u0e2d\u0e07\u0e25\u0e34\u0e2a\u0e15\u0e4c\u0e44\u0e14\u0e49\u0e14\u0e49\u0e27\u0e22\u0e04\u0e33\u0e2a\u0e31\u0e48\u0e07 `len` \u0e0b\u0e36\u0e48\u0e07\u0e22\u0e48\u0e2d\u0e21\u0e32\u0e08\u0e32\u0e01\u0e04\u0e33\u0e27\u0e48\u0e32 length \u0e40\u0e0a\u0e48\u0e19"
   ]
  },
  {
   "cell_type": "code",
   "execution_count": 38,
   "metadata": {
    "colab": {
     "base_uri": "https://localhost:8080/"
    },
    "id": "yL0pem8QQ9Mx",
    "outputId": "1daea306-67d0-4457-a054-2ac2d31a51a0"
   },
   "outputs": [
    {
     "data": {
      "text/plain": [
       "5"
      ]
     },
     "execution_count": 38,
     "metadata": {},
     "output_type": "execute_result"
    }
   ],
   "source": [
    "len(student_heights)"
   ]
  },
  {
   "cell_type": "markdown",
   "metadata": {
    "id": "bs5U4y_YQ9M0"
   },
   "source": [
    "### \u0e41\u0e1a\u0e1a\u0e1d\u0e36\u0e01\u0e2b\u0e31\u0e14 4.2"
   ]
  },
  {
   "cell_type": "markdown",
   "metadata": {
    "id": "LYugAzfwQ9M0"
   },
   "source": [
    "\u0e08\u0e07\u0e2b\u0e32\u0e02\u0e19\u0e32\u0e14\u0e02\u0e2d\u0e07\u0e25\u0e34\u0e2a\u0e15\u0e4c\u0e43\u0e19\u0e15\u0e31\u0e27\u0e41\u0e1b\u0e23 `my_list` \u0e43\u0e2a\u0e48\u0e15\u0e31\u0e27\u0e41\u0e1b\u0e23 `my_length` \u0e41\u0e25\u0e49\u0e27\u0e1e\u0e34\u0e21\u0e1e\u0e4c\u0e04\u0e48\u0e32\u0e02\u0e2d\u0e07\u0e15\u0e31\u0e27\u0e41\u0e1b\u0e23\u0e14\u0e31\u0e07\u0e01\u0e25\u0e48\u0e32\u0e27\u0e2d\u0e2d\u0e01\u0e2b\u0e19\u0e49\u0e32\u0e08\u0e2d"
   ]
  },
  {
   "cell_type": "code",
   "execution_count": 39,
   "metadata": {
    "colab": {
     "base_uri": "https://localhost:8080/"
    },
    "id": "Z2pMSTcUQ9M1",
    "outputId": "310c2446-0574-4b3d-e9ff-587e184397cd"
   },
   "outputs": [
    {
     "name": "stdout",
     "output_type": "stream",
     "text": [
      "5\n"
     ]
    }
   ],
   "source": [
    "my_length = len(my_list)     # \u0e40\u0e15\u0e34\u0e21\u0e42\u0e04\u0e49\u0e14\u0e17\u0e35\u0e48\u0e19\u0e35\u0e48\n",
    "print(my_length)"
   ]
  },
  {
   "cell_type": "markdown",
   "metadata": {
    "id": "b3gF6UmGQ9M5"
   },
   "source": [
    "### \u0e01\u0e32\u0e23\u0e40\u0e02\u0e49\u0e32\u0e16\u0e36\u0e07\u0e2a\u0e21\u0e32\u0e0a\u0e34\u0e01\u0e20\u0e32\u0e22\u0e43\u0e19\u0e25\u0e34\u0e2a\u0e15\u0e4c"
   ]
  },
  {
   "cell_type": "markdown",
   "metadata": {
    "id": "c8aJEuctQ9M6"
   },
   "source": [
    "- \u0e40\u0e23\u0e32\u0e2a\u0e32\u0e21\u0e32\u0e23\u0e16\u0e40\u0e02\u0e49\u0e32\u0e16\u0e36\u0e07\u0e2a\u0e21\u0e32\u0e0a\u0e34\u0e01\u0e41\u0e15\u0e48\u0e25\u0e30\u0e15\u0e31\u0e27\u0e43\u0e19\u0e25\u0e34\u0e2a\u0e15\u0e4c\u0e14\u0e49\u0e27\u0e22\u0e01\u0e32\u0e23\u0e23\u0e30\u0e1a\u0e38\u0e15\u0e33\u0e41\u0e2b\u0e19\u0e48\u0e07\u0e02\u0e2d\u0e07\u0e2a\u0e21\u0e32\u0e0a\u0e34\u0e01\u0e17\u0e35\u0e48\u0e40\u0e23\u0e32\u0e15\u0e49\u0e2d\u0e07\u0e01\u0e32\u0e23\n",
    "- \u0e01\u0e32\u0e23\u0e19\u0e31\u0e1a\u0e15\u0e33\u0e41\u0e2b\u0e19\u0e48\u0e07 (index) \u0e02\u0e2d\u0e07\u0e2a\u0e21\u0e32\u0e0a\u0e34\u0e01 \u0e08\u0e30\u0e40\u0e23\u0e34\u0e48\u0e21\u0e15\u0e49\u0e19\u0e08\u0e32\u0e01 0 \u0e40\u0e2a\u0e21\u0e2d \u0e40\u0e0a\u0e48\u0e19 `student_heights[0]` \u0e08\u0e30\u0e41\u0e17\u0e19\u0e2a\u0e21\u0e32\u0e0a\u0e34\u0e01\u0e15\u0e31\u0e27\u0e41\u0e23\u0e01\u0e02\u0e2d\u0e07\u0e25\u0e34\u0e2a\u0e15\u0e4c\u0e04\u0e27\u0e32\u0e21\u0e2a\u0e39\u0e07\u0e02\u0e2d\u0e07\u0e19\u0e31\u0e01\u0e40\u0e23\u0e35\u0e22\u0e19 \u0e43\u0e19\u0e02\u0e13\u0e30\u0e17\u0e35\u0e48 `student_heights[1]` \u0e08\u0e30\u0e41\u0e17\u0e19\u0e2a\u0e21\u0e32\u0e0a\u0e34\u0e01\u0e15\u0e31\u0e27\u0e17\u0e35\u0e48 2 \u0e02\u0e2d\u0e07\u0e25\u0e34\u0e2a\u0e15\u0e4c \u0e2f\u0e25\u0e2f"
   ]
  },
  {
   "cell_type": "code",
   "execution_count": 40,
   "metadata": {
    "colab": {
     "base_uri": "https://localhost:8080/"
    },
    "id": "Q-34J0FQZpc-",
    "outputId": "c4fb08c0-fb3c-4541-9139-d793f94fcf00"
   },
   "outputs": [
    {
     "name": "stdout",
     "output_type": "stream",
     "text": [
      "163.5\n",
      "150.0\n",
      "167.0\n",
      "161.25\n",
      "170.0\n"
     ]
    }
   ],
   "source": [
    "print(student_heights[0])\n",
    "print(student_heights[1])\n",
    "print(student_heights[2])\n",
    "print(student_heights[3])\n",
    "print(student_heights[4])"
   ]
  },
  {
   "cell_type": "markdown",
   "metadata": {
    "id": "4BhAloSPQ9M-"
   },
   "source": [
    "- \u0e41\u0e25\u0e30\u0e19\u0e35\u0e48\u0e04\u0e37\u0e2d\u0e04\u0e27\u0e32\u0e21\u0e41\u0e1b\u0e25\u0e01\u0e2d\u0e22\u0e48\u0e32\u0e07\u0e2b\u0e19\u0e36\u0e48\u0e07\u0e02\u0e2d\u0e07\u0e01\u0e32\u0e23\u0e40\u0e02\u0e35\u0e22\u0e19\u0e42\u0e1b\u0e23\u0e41\u0e01\u0e23\u0e21\u0e04\u0e2d\u0e21\u0e1e\u0e34\u0e27\u0e40\u0e15\u0e2d\u0e23\u0e4c\u0e04\u0e23\u0e31\u0e1a\n",
    "  - \u0e20\u0e32\u0e29\u0e32\u0e42\u0e1b\u0e23\u0e41\u0e01\u0e23\u0e21\u0e2a\u0e48\u0e27\u0e19\u0e43\u0e2b\u0e0d\u0e48\u0e08\u0e30\u0e40\u0e23\u0e34\u0e48\u0e21\u0e19\u0e31\u0e1a\u0e15\u0e33\u0e41\u0e2b\u0e19\u0e48\u0e07\u0e02\u0e2d\u0e07\u0e2a\u0e21\u0e32\u0e0a\u0e34\u0e01\u0e08\u0e32\u0e01 0 \u0e40\u0e2a\u0e21\u0e2d\n",
    "  - \u0e21\u0e31\u0e19\u0e21\u0e2d\u0e07\u0e27\u0e48\u0e32\u0e15\u0e33\u0e41\u0e2b\u0e19\u0e48\u0e07 0 \u0e41\u0e17\u0e19\u0e08\u0e38\u0e14\u0e40\u0e23\u0e34\u0e48\u0e21\u0e15\u0e49\u0e19\u0e02\u0e2d\u0e07\u0e1e\u0e37\u0e49\u0e19\u0e17\u0e35\u0e48\u0e01\u0e23\u0e30\u0e14\u0e32\u0e29\u0e17\u0e14\n",
    "  - \u0e01\u0e32\u0e23\u0e23\u0e30\u0e1a\u0e38\u0e15\u0e33\u0e41\u0e2b\u0e19\u0e48\u0e07 (index) \u0e01\u0e47\u0e04\u0e37\u0e2d\u0e01\u0e32\u0e23\u0e40\u0e2d\u0e32\u0e15\u0e33\u0e41\u0e2b\u0e19\u0e48\u0e07\u0e08\u0e38\u0e14\u0e40\u0e23\u0e34\u0e48\u0e21\u0e15\u0e49\u0e19\u0e02\u0e2d\u0e07\u0e01\u0e23\u0e30\u0e14\u0e32\u0e29\u0e17\u0e14 \u0e1a\u0e27\u0e01\u0e01\u0e31\u0e1a\u0e15\u0e33\u0e41\u0e2b\u0e19\u0e48\u0e07 index \u0e19\u0e31\u0e49\u0e19\u0e19\u0e31\u0e48\u0e19\u0e40\u0e2d\u0e07\u0e04\u0e23\u0e31\u0e1a"
   ]
  },
  {
   "cell_type": "markdown",
   "metadata": {
    "id": "OLEiVfrVQ9M-"
   },
   "source": [
    "- \u0e2b\u0e32\u0e01\u0e40\u0e23\u0e32\u0e23\u0e30\u0e1a\u0e38\u0e15\u0e33\u0e41\u0e2b\u0e19\u0e48\u0e07\u0e40\u0e01\u0e34\u0e19\u0e08\u0e32\u0e01\u0e02\u0e19\u0e32\u0e14\u0e02\u0e2d\u0e07\u0e25\u0e34\u0e2a\u0e15\u0e4c \u0e04\u0e2d\u0e21\u0e1e\u0e34\u0e27\u0e40\u0e15\u0e2d\u0e23\u0e4c\u0e08\u0e30\u0e1f\u0e49\u0e2d\u0e07\u0e2d\u0e2d\u0e01\u0e21\u0e32\u0e14\u0e49\u0e27\u0e22\u0e04\u0e33\u0e27\u0e48\u0e32 `IndexError` \u0e0b\u0e36\u0e48\u0e07\u0e41\u0e1b\u0e25\u0e27\u0e48\u0e32\u0e23\u0e30\u0e1a\u0e38\u0e04\u0e48\u0e32\u0e15\u0e33\u0e41\u0e2b\u0e19\u0e48\u0e07\u0e40\u0e01\u0e34\u0e19\u0e02\u0e19\u0e32\u0e14\u0e02\u0e2d\u0e07\u0e25\u0e34\u0e2a\u0e15\u0e4c \u0e40\u0e0a\u0e48\u0e19"
   ]
  },
  {
   "cell_type": "code",
   "execution_count": 41,
   "metadata": {
    "colab": {
     "base_uri": "https://localhost:8080/",
     "height": 164
    },
    "id": "1A6RLOimQ9M_",
    "outputId": "4ff55111-0ff3-4700-b4bb-03008108e3a3"
   },
   "outputs": [
    {
     "ename": "IndexError",
     "evalue": "list index out of range",
     "output_type": "error",
     "traceback": [
      "\u001b[0;31m---------------------------------------------------------------------------\u001b[0m",
      "\u001b[0;31mIndexError\u001b[0m                                Traceback (most recent call last)",
      "\u001b[0;32m/tmp/ipykernel_4163/727272617.py\u001b[0m in \u001b[0;36m<module>\u001b[0;34m\u001b[0m\n\u001b[0;32m----> 1\u001b[0;31m \u001b[0mprint\u001b[0m\u001b[0;34m(\u001b[0m\u001b[0mstudent_heights\u001b[0m\u001b[0;34m[\u001b[0m\u001b[0;36m10\u001b[0m\u001b[0;34m]\u001b[0m\u001b[0;34m)\u001b[0m     \u001b[0;31m# \u0e17\u0e31\u0e49\u0e07\u0e46 \u0e17\u0e35\u0e48\u0e25\u0e34\u0e2a\u0e15\u0e4c student_heights \u0e21\u0e35\u0e02\u0e19\u0e32\u0e14\u0e41\u0e04\u0e48 5 \u0e15\u0e31\u0e27\u001b[0m\u001b[0;34m\u001b[0m\u001b[0;34m\u001b[0m\u001b[0m\n\u001b[0m",
      "\u001b[0;31mIndexError\u001b[0m: list index out of range"
     ]
    }
   ],
   "source": [
    "print(student_heights[10])     # \u0e17\u0e31\u0e49\u0e07\u0e46 \u0e17\u0e35\u0e48\u0e25\u0e34\u0e2a\u0e15\u0e4c student_heights \u0e21\u0e35\u0e02\u0e19\u0e32\u0e14\u0e41\u0e04\u0e48 5 \u0e15\u0e31\u0e27"
   ]
  },
  {
   "cell_type": "markdown",
   "metadata": {
    "id": "1Cmh3M87Q9NB"
   },
   "source": [
    "### \u0e41\u0e1a\u0e1a\u0e1d\u0e36\u0e01\u0e2b\u0e31\u0e14 4.3"
   ]
  },
  {
   "cell_type": "markdown",
   "metadata": {
    "id": "q90WgmjZQ9NC"
   },
   "source": [
    "\u0e08\u0e07\u0e04\u0e33\u0e19\u0e27\u0e13\u0e1c\u0e25\u0e23\u0e27\u0e21\u0e02\u0e2d\u0e07\u0e2a\u0e21\u0e32\u0e0a\u0e34\u0e01\u0e17\u0e38\u0e01\u0e15\u0e31\u0e27\u0e02\u0e2d\u0e07\u0e25\u0e34\u0e2a\u0e15\u0e4c\u0e43\u0e19\u0e15\u0e31\u0e27\u0e41\u0e1b\u0e23 `my_list` \u0e40\u0e1e\u0e37\u0e48\u0e2d\u0e2b\u0e32\u0e04\u0e48\u0e32\u0e40\u0e09\u0e25\u0e35\u0e48\u0e22\u0e42\u0e14\u0e22\u0e43\u0e0a\u0e49\u0e2a\u0e39\u0e15\u0e23\n",
    "\n",
    "$$ \\mathrm{avg}(\\mathbf{a}) = \\frac{\\sum_{i = 1}^N a_i}{N} $$\n",
    "\n",
    "\u0e40\u0e21\u0e37\u0e48\u0e2d\u0e04\u0e48\u0e32 $ N $ \u0e04\u0e37\u0e2d\u0e08\u0e33\u0e19\u0e27\u0e19\u0e2a\u0e21\u0e32\u0e0a\u0e34\u0e01\u0e17\u0e35\u0e48\u0e21\u0e35\u0e43\u0e19\u0e25\u0e34\u0e2a\u0e15\u0e4c $ \\mathbf{a} $"
   ]
  },
  {
   "cell_type": "code",
   "execution_count": null,
   "metadata": {
    "colab": {
     "base_uri": "https://localhost:8080/",
     "height": 215
    },
    "id": "h4WiN35xQ9ND",
    "outputId": "ca1fb6cb-0289-474c-d428-2e25d4afe4b9"
   },
   "outputs": [
    {
     "name": "stdout",
     "output_type": "stream",
     "text": [
      "162.35\n"
     ]
    }
   ],
   "source": [
    "# \u0e04\u0e33\u0e19\u0e27\u0e13\u0e1c\u0e25\u0e23\u0e27\u0e21\u0e02\u0e2d\u0e07\u0e2a\u0e21\u0e32\u0e0a\u0e34\u0e01\u0e17\u0e38\u0e01\u0e15\u0e31\u0e27\u0e43\u0e19 my_list\n",
    "my_summation = sum(student_heights)      # \u0e40\u0e15\u0e34\u0e21\u0e42\u0e04\u0e49\u0e14\u0e17\u0e35\u0e48\u0e19\u0e35\u0e48\n",
    "my_average = my_summation / my_length\n",
    "print(my_average)"
   ]
  },
  {
   "cell_type": "markdown",
   "metadata": {
    "id": "RsM4QdfeQ9NF"
   },
   "source": [
    "### \u0e01\u0e32\u0e23\u0e40\u0e1b\u0e25\u0e35\u0e48\u0e22\u0e19\u0e41\u0e1b\u0e25\u0e07\u0e2a\u0e21\u0e32\u0e0a\u0e34\u0e01\u0e20\u0e32\u0e22\u0e43\u0e19\u0e25\u0e34\u0e2a\u0e15\u0e4c"
   ]
  },
  {
   "cell_type": "markdown",
   "metadata": {
    "id": "B3_hl4rwQ9NG"
   },
   "source": [
    "- \u0e40\u0e23\u0e32\u0e2a\u0e32\u0e21\u0e32\u0e23\u0e16\u0e40\u0e1b\u0e25\u0e35\u0e48\u0e22\u0e19\u0e41\u0e1b\u0e25\u0e07\u0e2a\u0e21\u0e32\u0e0a\u0e34\u0e01\u0e20\u0e32\u0e22\u0e43\u0e19\u0e25\u0e34\u0e2a\u0e15\u0e4c \u0e42\u0e14\u0e22\u0e01\u0e32\u0e23\u0e43\u0e0a\u0e49\u0e40\u0e04\u0e23\u0e37\u0e48\u0e2d\u0e07\u0e2b\u0e21\u0e32\u0e22 `=` \u0e40\u0e2b\u0e21\u0e37\u0e2d\u0e19\u0e01\u0e31\u0e1a\u0e01\u0e32\u0e23\u0e01\u0e33\u0e2b\u0e19\u0e14\u0e04\u0e48\u0e32\u0e43\u0e19\u0e15\u0e31\u0e27\u0e41\u0e1b\u0e23\n",
    "- \u0e40\u0e0a\u0e48\u0e19 \u0e40\u0e23\u0e32\u0e2a\u0e32\u0e21\u0e32\u0e23\u0e16\u0e40\u0e1b\u0e25\u0e35\u0e48\u0e22\u0e19\u0e2a\u0e21\u0e32\u0e0a\u0e34\u0e01\u0e15\u0e31\u0e27\u0e17\u0e35\u0e48 2 \u0e02\u0e2d\u0e07\u0e25\u0e34\u0e2a\u0e15\u0e4c `student_heights` \u0e08\u0e32\u0e01\u0e04\u0e48\u0e32 150.0 \u0e43\u0e2b\u0e49\u0e40\u0e1b\u0e47\u0e19\u0e04\u0e48\u0e32 180.0 \u0e44\u0e14\u0e49"
   ]
  },
  {
   "cell_type": "code",
   "execution_count": null,
   "metadata": {
    "colab": {
     "base_uri": "https://localhost:8080/"
    },
    "id": "XwvobIS6Q9NH",
    "outputId": "d3a2ecd8-6e24-42ed-a5ba-161538c1eb5e"
   },
   "outputs": [
    {
     "name": "stdout",
     "output_type": "stream",
     "text": [
      "[163.5, 180.0, 167.0, 161.25, 170.0]\n"
     ]
    }
   ],
   "source": [
    "student_heights[1] = 180.0\n",
    "print(student_heights)"
   ]
  },
  {
   "cell_type": "markdown",
   "metadata": {
    "id": "zkcPOP0jQ9NK"
   },
   "source": [
    "### \u0e41\u0e1a\u0e1a\u0e1d\u0e36\u0e01\u0e2b\u0e31\u0e14 4.4"
   ]
  },
  {
   "cell_type": "markdown",
   "metadata": {
    "id": "N5gbbNL-Q9NL"
   },
   "source": [
    "\u0e08\u0e07\u0e40\u0e1e\u0e34\u0e48\u0e21\u0e04\u0e48\u0e32\u0e43\u0e2b\u0e49\u0e2a\u0e21\u0e32\u0e0a\u0e34\u0e01\u0e17\u0e38\u0e01\u0e15\u0e31\u0e27\u0e02\u0e2d\u0e07\u0e25\u0e34\u0e2a\u0e15\u0e4c\u0e43\u0e19\u0e15\u0e31\u0e27\u0e41\u0e1b\u0e23 `my_list` \u0e2d\u0e22\u0e48\u0e32\u0e07\u0e25\u0e30 5 \u0e14\u0e49\u0e27\u0e22\u0e40\u0e04\u0e23\u0e37\u0e48\u0e2d\u0e07\u0e2b\u0e21\u0e32\u0e22 `+` \u0e41\u0e25\u0e30\u0e1e\u0e34\u0e21\u0e1e\u0e4c\u0e15\u0e31\u0e27\u0e41\u0e1b\u0e23 `my_list` \u0e2d\u0e2d\u0e01\u0e2b\u0e19\u0e49\u0e32\u0e08\u0e2d"
   ]
  },
  {
   "cell_type": "code",
   "execution_count": null,
   "metadata": {
    "colab": {
     "base_uri": "https://localhost:8080/"
    },
    "id": "xg7N-tfmQ9NM",
    "outputId": "0c471f97-b7fd-4d3b-9d5d-636d3887f781"
   },
   "outputs": [
    {
     "name": "stdout",
     "output_type": "stream",
     "text": [
      "[15, 25, 35, 45, 55]\n"
     ]
    }
   ],
   "source": [
    "my_list = [10, 20, 30, 40, 50]\n",
    "\n",
    "my_list = [i + 5 for i in my_list]\n",
    "\n",
    "print(my_list)"
   ]
  },
  {
   "cell_type": "markdown",
   "metadata": {
    "id": "tTlfaQDFQ9NQ"
   },
   "source": [
    "\u0e44\u0e14\u0e49\u0e1c\u0e25\u0e25\u0e31\u0e1e\u0e18\u0e4c\u0e40\u0e1b\u0e47\u0e19 `[15, 25, 35, 45, 55]` \u0e2b\u0e23\u0e37\u0e2d\u0e40\u0e1b\u0e25\u0e48\u0e32\u0e04\u0e23\u0e31\u0e1a?"
   ]
  },
  {
   "cell_type": "markdown",
   "metadata": {
    "id": "h7dtQOn9Q9NR"
   },
   "source": [
    "### \u0e01\u0e32\u0e23\u0e40\u0e25\u0e37\u0e2d\u0e01\u0e1a\u0e32\u0e07\u0e2a\u0e48\u0e27\u0e19\u0e02\u0e2d\u0e07\u0e25\u0e34\u0e2a\u0e15\u0e4c (slicing)"
   ]
  },
  {
   "cell_type": "markdown",
   "metadata": {
    "id": "_2A_bfipQ9NR"
   },
   "source": [
    "- \u0e19\u0e2d\u0e01\u0e08\u0e32\u0e01\u0e40\u0e23\u0e32\u0e08\u0e30\u0e2a\u0e32\u0e21\u0e32\u0e23\u0e16\u0e40\u0e25\u0e37\u0e2d\u0e01\u0e2a\u0e21\u0e32\u0e0a\u0e34\u0e01\u0e1a\u0e32\u0e07\u0e15\u0e31\u0e27\u0e43\u0e19\u0e25\u0e34\u0e2a\u0e15\u0e4c\u0e44\u0e14\u0e49\u0e41\u0e25\u0e49\u0e27 \u0e40\u0e23\u0e32\u0e22\u0e31\u0e07\u0e2a\u0e32\u0e21\u0e32\u0e23\u0e16\u0e40\u0e25\u0e37\u0e2d\u0e01\u0e1a\u0e32\u0e07\u0e2a\u0e48\u0e27\u0e19\u0e02\u0e2d\u0e07\u0e25\u0e34\u0e2a\u0e15\u0e4c\u0e44\u0e14\u0e49\u0e14\u0e49\u0e27\u0e22\n",
    "- **\u0e04\u0e33\u0e2a\u0e31\u0e48\u0e07\u0e40\u0e25\u0e37\u0e2d\u0e01\u0e1a\u0e32\u0e07\u0e2a\u0e48\u0e27\u0e19 (slicing):** `\u0e25\u0e34\u0e2a\u0e15\u0e4c[` $a$ `:` $b$ `]` \u0e08\u0e30\u0e40\u0e25\u0e37\u0e2d\u0e01\u0e2a\u0e21\u0e32\u0e0a\u0e34\u0e01\u0e15\u0e31\u0e49\u0e07\u0e41\u0e15\u0e48 index \u0e17\u0e35\u0e48 $a$ \u0e08\u0e19\u0e16\u0e36\u0e07 index \u0e17\u0e35\u0e48 $b - 1$\n",
    "- \u0e40\u0e0a\u0e48\u0e19 \u0e16\u0e49\u0e32\u0e40\u0e23\u0e32\u0e15\u0e49\u0e2d\u0e07\u0e01\u0e32\u0e23\u0e40\u0e25\u0e37\u0e2d\u0e01\u0e2a\u0e21\u0e32\u0e0a\u0e34\u0e01\u0e15\u0e31\u0e49\u0e07\u0e41\u0e15\u0e48\u0e15\u0e31\u0e27\u0e17\u0e35\u0e48 2 \u0e08\u0e19\u0e16\u0e36\u0e07\u0e15\u0e31\u0e27\u0e17\u0e35\u0e48 4 \u0e02\u0e2d\u0e07\u0e25\u0e34\u0e2a\u0e15\u0e4c\u0e43\u0e19\u0e15\u0e31\u0e27\u0e41\u0e1b\u0e23 `student_heights` \u0e40\u0e23\u0e32\u0e08\u0e30\u0e43\u0e0a\u0e49\u0e04\u0e33\u0e2a\u0e31\u0e48\u0e07 `student_heights[1:4]`"
   ]
  },
  {
   "cell_type": "code",
   "execution_count": null,
   "metadata": {
    "colab": {
     "base_uri": "https://localhost:8080/"
    },
    "id": "-1LUWF4AQ9NS",
    "outputId": "21924de9-7522-481a-fe85-7fb7c385af01"
   },
   "outputs": [
    {
     "data": {
      "text/plain": [
       "[163.5, 180.0, 167.0, 161.25, 170.0]"
      ]
     },
     "execution_count": 52,
     "metadata": {},
     "output_type": "execute_result"
    }
   ],
   "source": [
    "student_heights"
   ]
  },
  {
   "cell_type": "code",
   "execution_count": null,
   "metadata": {
    "colab": {
     "base_uri": "https://localhost:8080/"
    },
    "id": "qXt8y6VdQ9NU",
    "outputId": "6b13625d-27b0-44df-d6bb-affe3817d83c"
   },
   "outputs": [
    {
     "data": {
      "text/plain": [
       "[180.0, 167.0, 161.25]"
      ]
     },
     "execution_count": 53,
     "metadata": {},
     "output_type": "execute_result"
    }
   ],
   "source": [
    "student_heights[1:4]"
   ]
  },
  {
   "cell_type": "markdown",
   "metadata": {
    "id": "thB4BqBLQ9NW"
   },
   "source": [
    "- \u0e04\u0e33\u0e2a\u0e31\u0e48\u0e07\u0e40\u0e25\u0e37\u0e2d\u0e01\u0e1a\u0e32\u0e07\u0e2a\u0e48\u0e27\u0e19\u0e2a\u0e32\u0e21\u0e32\u0e23\u0e16\u0e25\u0e30\u0e08\u0e38\u0e14\u0e08\u0e1a\u0e44\u0e14\u0e49\u0e14\u0e49\u0e27\u0e22 `\u0e25\u0e34\u0e2a\u0e15\u0e4c[` $a$ `:]`\n",
    "- \u0e40\u0e0a\u0e48\u0e19 \u0e40\u0e23\u0e32\u0e08\u0e30\u0e40\u0e25\u0e37\u0e2d\u0e01\u0e2a\u0e21\u0e32\u0e0a\u0e34\u0e01\u0e15\u0e31\u0e49\u0e07\u0e41\u0e15\u0e48\u0e15\u0e31\u0e27\u0e17\u0e35\u0e48 2 \u0e40\u0e1b\u0e47\u0e19\u0e15\u0e49\u0e19\u0e44\u0e1b\u0e43\u0e19\u0e25\u0e34\u0e2a\u0e15\u0e4c `student_heights` \u0e14\u0e49\u0e27\u0e22\u0e04\u0e33\u0e2a\u0e31\u0e48\u0e07 `student_heights[1:]`"
   ]
  },
  {
   "cell_type": "code",
   "execution_count": null,
   "metadata": {
    "colab": {
     "base_uri": "https://localhost:8080/"
    },
    "id": "BLbAnkHMQ9NW",
    "outputId": "50e7c3b0-4f02-4d8a-8892-a6147a59bc52"
   },
   "outputs": [
    {
     "data": {
      "text/plain": [
       "[180.0, 167.0, 161.25, 170.0]"
      ]
     },
     "execution_count": 54,
     "metadata": {},
     "output_type": "execute_result"
    }
   ],
   "source": [
    "student_heights[1:]"
   ]
  },
  {
   "cell_type": "markdown",
   "metadata": {
    "id": "9r5C1IDpQ9NY"
   },
   "source": [
    "- \u0e04\u0e33\u0e2a\u0e31\u0e48\u0e07\u0e40\u0e25\u0e37\u0e2d\u0e01\u0e1a\u0e32\u0e07\u0e2a\u0e48\u0e27\u0e19\u0e2a\u0e32\u0e21\u0e32\u0e23\u0e16\u0e25\u0e30\u0e08\u0e38\u0e14\u0e15\u0e31\u0e49\u0e07\u0e15\u0e49\u0e19\u0e44\u0e14\u0e49\u0e14\u0e49\u0e27\u0e22 `\u0e25\u0e34\u0e2a\u0e15\u0e4c[:` $b$ `]`\n",
    "- \u0e40\u0e0a\u0e48\u0e19 \u0e40\u0e23\u0e32\u0e08\u0e30\u0e40\u0e25\u0e37\u0e2d\u0e01\u0e2a\u0e21\u0e32\u0e0a\u0e34\u0e01\u0e15\u0e31\u0e49\u0e07\u0e41\u0e15\u0e48\u0e15\u0e31\u0e27\u0e41\u0e23\u0e01\u0e08\u0e19\u0e16\u0e36\u0e07\u0e15\u0e31\u0e27\u0e17\u0e35\u0e48 4 \u0e14\u0e49\u0e27\u0e22\u0e04\u0e33\u0e2a\u0e31\u0e48\u0e07 `student_heights[:4]`"
   ]
  },
  {
   "cell_type": "code",
   "execution_count": null,
   "metadata": {
    "colab": {
     "base_uri": "https://localhost:8080/"
    },
    "id": "7_KH8QQ7Q9NY",
    "outputId": "9a7ca7c4-c00e-4e9c-b1a0-b9048acc8e87"
   },
   "outputs": [
    {
     "data": {
      "text/plain": [
       "[163.5, 180.0, 167.0, 161.25]"
      ]
     },
     "execution_count": 29,
     "metadata": {},
     "output_type": "execute_result"
    }
   ],
   "source": [
    "student_heights[:4]"
   ]
  },
  {
   "cell_type": "markdown",
   "metadata": {
    "id": "yv1pWL8rQ9Na"
   },
   "source": [
    "### \u0e41\u0e1a\u0e1a\u0e1d\u0e36\u0e01\u0e2b\u0e31\u0e14 4.5"
   ]
  },
  {
   "cell_type": "markdown",
   "metadata": {
    "id": "RnBZw8g4Q9Nb"
   },
   "source": [
    "\u0e43\u0e19\u0e41\u0e1a\u0e1a\u0e1d\u0e36\u0e01\u0e2b\u0e31\u0e14\u0e19\u0e35\u0e49 \u0e40\u0e23\u0e32\u0e21\u0e35\u0e25\u0e34\u0e2a\u0e15\u0e4c `my_list` \u0e17\u0e35\u0e48\u0e21\u0e35\u0e2a\u0e21\u0e32\u0e0a\u0e34\u0e01 10 \u0e15\u0e31\u0e27\u0e14\u0e31\u0e07\u0e19\u0e35\u0e49"
   ]
  },
  {
   "cell_type": "code",
   "execution_count": null,
   "metadata": {
    "id": "KwGBhFs2Q9Nb"
   },
   "outputs": [],
   "source": [
    "my_list = [10, 20, 30, 40, 50, 60, 70, 80, 90, 100]"
   ]
  },
  {
   "cell_type": "markdown",
   "metadata": {
    "id": "-P3QW6MmQ9Ne"
   },
   "source": [
    "1. \u0e08\u0e07\u0e40\u0e25\u0e37\u0e2d\u0e01\u0e2a\u0e21\u0e32\u0e0a\u0e34\u0e01\u0e15\u0e31\u0e27\u0e17\u0e35\u0e48 3 \u0e08\u0e19\u0e16\u0e36\u0e07\u0e15\u0e31\u0e27\u0e17\u0e35\u0e48 7"
   ]
  },
  {
   "cell_type": "code",
   "execution_count": null,
   "metadata": {
    "id": "wEpImr9GQ9Nf"
   },
   "outputs": [
    {
     "data": {
      "text/plain": [
       "[30, 40, 50, 60, 70]"
      ]
     },
     "execution_count": 64,
     "metadata": {},
     "output_type": "execute_result"
    }
   ],
   "source": [
    "# \u0e40\u0e23\u0e34\u0e48\u0e21\u0e15\u0e49\u0e19\u0e08\u0e32\u0e01\u0e2a\u0e21\u0e32\u0e0a\u0e34\u0e01\u0e15\u0e31\u0e27\u0e17\u0e35\u0e48 3 --> index = 2\n",
    "# \u0e08\u0e1a\u0e17\u0e35\u0e48\u0e2a\u0e21\u0e32\u0e0a\u0e34\u0e01\u0e15\u0e31\u0e27\u0e17\u0e35\u0e48 7 --> index = 6\n",
    "# \u0e41\u0e1b\u0e25\u0e27\u0e48\u0e32 \u0e40\u0e23\u0e32\u0e40\u0e25\u0e37\u0e2d\u0e01 index 2 \u0e08\u0e19\u0e16\u0e36\u0e07 index 6\n",
    "# \u0e02\u0e2d\u0e1a\u0e25\u0e48\u0e32\u0e07\u0e02\u0e2d\u0e07 slicing \u0e04\u0e37\u0e2d index 2\n",
    "# \u0e02\u0e2d\u0e1a\u0e1a\u0e19\u0e02\u0e2d\u0e07 slicing \u0e04\u0e37\u0e2d index 6 + 1\n",
    "# \u0e08\u0e36\u0e07\u0e40\u0e02\u0e35\u0e22\u0e19\u0e40\u0e1b\u0e47\u0e19 slicing \u0e44\u0e14\u0e49\u0e27\u0e48\u0e32 my_list[2:7]\n",
    "my_list[2:7]"
   ]
  },
  {
   "cell_type": "markdown",
   "metadata": {
    "id": "Rqaz9C2MQ9Ni"
   },
   "source": [
    "2. \u0e08\u0e07\u0e40\u0e25\u0e37\u0e2d\u0e01\u0e2a\u0e21\u0e32\u0e0a\u0e34\u0e01\u0e15\u0e31\u0e27\u0e17\u0e35\u0e48 2 \u0e08\u0e19\u0e16\u0e36\u0e07\u0e15\u0e31\u0e27\u0e17\u0e35\u0e48 5"
   ]
  },
  {
   "cell_type": "code",
   "execution_count": null,
   "metadata": {
    "id": "9B9p_rqqQ9Nj"
   },
   "outputs": [
    {
     "data": {
      "text/plain": [
       "[20, 30, 40, 50]"
      ]
     },
     "execution_count": 61,
     "metadata": {},
     "output_type": "execute_result"
    }
   ],
   "source": [
    "my_list[1:5]"
   ]
  },
  {
   "cell_type": "markdown",
   "metadata": {
    "id": "2tvWQHuVQ9Nm"
   },
   "source": [
    "3. \u0e08\u0e07\u0e40\u0e25\u0e37\u0e2d\u0e01\u0e2a\u0e21\u0e32\u0e0a\u0e34\u0e01\u0e15\u0e31\u0e49\u0e07\u0e41\u0e15\u0e48\u0e15\u0e31\u0e27\u0e41\u0e23\u0e01\u0e08\u0e19\u0e16\u0e36\u0e07\u0e15\u0e31\u0e27\u0e17\u0e35\u0e48 8"
   ]
  },
  {
   "cell_type": "code",
   "execution_count": null,
   "metadata": {
    "id": "pE24XIMTQ9Nn"
   },
   "outputs": [
    {
     "data": {
      "text/plain": [
       "[10, 20, 30, 40, 50, 60, 70, 80]"
      ]
     },
     "execution_count": 62,
     "metadata": {},
     "output_type": "execute_result"
    }
   ],
   "source": [
    "my_list[:8]"
   ]
  },
  {
   "cell_type": "markdown",
   "metadata": {
    "id": "0X63dtBoQ9Nq"
   },
   "source": [
    "4. \u0e08\u0e07\u0e40\u0e25\u0e37\u0e2d\u0e01\u0e2a\u0e21\u0e32\u0e0a\u0e34\u0e01\u0e15\u0e31\u0e49\u0e07\u0e41\u0e15\u0e48\u0e15\u0e31\u0e27\u0e17\u0e35\u0e48 4 \u0e40\u0e1b\u0e47\u0e19\u0e15\u0e49\u0e19\u0e44\u0e1b"
   ]
  },
  {
   "cell_type": "code",
   "execution_count": null,
   "metadata": {
    "id": "VaqG-V4eQ9Nr"
   },
   "outputs": [
    {
     "data": {
      "text/plain": [
       "[40, 50, 60, 70, 80, 90, 100]"
      ]
     },
     "execution_count": 66,
     "metadata": {},
     "output_type": "execute_result"
    }
   ],
   "source": [
    "my_list[3:]"
   ]
  },
  {
   "cell_type": "markdown",
   "metadata": {
    "id": "hnnbK7UMQ9Nu"
   },
   "source": [
    "----"
   ]
  },
  {
   "cell_type": "markdown",
   "metadata": {
    "id": "Tdj2PFqvQ9Nv"
   },
   "source": [
    "## \u0e01\u0e34\u0e08\u0e01\u0e23\u0e23\u0e21 5: \u0e02\u0e49\u0e2d\u0e04\u0e27\u0e32\u0e21"
   ]
  },
  {
   "cell_type": "markdown",
   "metadata": {
    "id": "hsuBIN-7Q9Nw"
   },
   "source": [
    "- \u0e43\u0e19\u0e01\u0e34\u0e08\u0e01\u0e23\u0e23\u0e21 1 \u0e40\u0e23\u0e32\u0e44\u0e14\u0e49\u0e17\u0e14\u0e25\u0e2d\u0e07\u0e1e\u0e34\u0e21\u0e1e\u0e4c\u0e02\u0e49\u0e2d\u0e04\u0e27\u0e32\u0e21\u0e2d\u0e2d\u0e01\u0e2b\u0e19\u0e49\u0e32\u0e08\u0e2d\u0e01\u0e31\u0e19\u0e44\u0e1b\u0e41\u0e25\u0e49\u0e27\n",
    "- \u0e08\u0e23\u0e34\u0e07\u0e46 \u0e41\u0e25\u0e49\u0e27 \u0e02\u0e49\u0e2d\u0e04\u0e27\u0e32\u0e21 (string) \u0e01\u0e47\u0e40\u0e1b\u0e47\u0e19\u0e02\u0e49\u0e2d\u0e21\u0e39\u0e25\u0e23\u0e39\u0e1b\u0e41\u0e1a\u0e1a\u0e2b\u0e19\u0e36\u0e48\u0e07\u0e17\u0e35\u0e48\u0e40\u0e23\u0e32\u0e2a\u0e32\u0e21\u0e32\u0e23\u0e16\u0e1b\u0e23\u0e30\u0e21\u0e27\u0e25\u0e1c\u0e25\u0e44\u0e14\u0e49\u0e41\u0e25\u0e30\u0e17\u0e14\u0e44\u0e27\u0e49\u0e43\u0e19\u0e15\u0e31\u0e27\u0e41\u0e1b\u0e23\u0e44\u0e14\u0e49\u0e40\u0e0a\u0e48\u0e19\u0e40\u0e14\u0e35\u0e22\u0e27\u0e01\u0e31\u0e19\u0e04\u0e23\u0e31\u0e1a\n",
    "- \u0e40\u0e0a\u0e48\u0e19 \u0e40\u0e23\u0e32\u0e2a\u0e32\u0e21\u0e32\u0e23\u0e16\u0e40\u0e01\u0e47\u0e1a\u0e02\u0e49\u0e2d\u0e04\u0e27\u0e32\u0e21 `'Hello'` \u0e44\u0e27\u0e49\u0e43\u0e19\u0e15\u0e31\u0e27\u0e41\u0e1b\u0e23 `message` \u0e44\u0e14\u0e49"
   ]
  },
  {
   "cell_type": "code",
   "execution_count": null,
   "metadata": {
    "colab": {
     "base_uri": "https://localhost:8080/"
    },
    "id": "yeS07L9QQ9Nx",
    "outputId": "4d13ddc8-99c4-443b-cfe7-43149079a368"
   },
   "outputs": [
    {
     "name": "stdout",
     "output_type": "stream",
     "text": [
      "Hello\n"
     ]
    }
   ],
   "source": [
    "message = 'Hello'\n",
    "print(message)"
   ]
  },
  {
   "cell_type": "markdown",
   "metadata": {
    "id": "Kkk0ST0wQ9Nz"
   },
   "source": [
    "### \u0e01\u0e32\u0e23\u0e15\u0e48\u0e2d\u0e02\u0e49\u0e2d\u0e04\u0e27\u0e32\u0e21"
   ]
  },
  {
   "cell_type": "markdown",
   "metadata": {
    "id": "ReC4JC5zQ9N0"
   },
   "source": [
    "- \u0e40\u0e23\u0e32\u0e2a\u0e32\u0e21\u0e32\u0e23\u0e16\u0e19\u0e33\u0e02\u0e49\u0e2d\u0e04\u0e27\u0e32\u0e21 2 \u0e2d\u0e31\u0e19\u0e21\u0e32\u0e15\u0e48\u0e2d\u0e01\u0e31\u0e19\u0e44\u0e14\u0e49\u0e14\u0e49\u0e27\u0e22\u0e40\u0e04\u0e23\u0e37\u0e48\u0e2d\u0e07\u0e2b\u0e21\u0e32\u0e22 `+` \u0e04\u0e23\u0e31\u0e1a\n",
    "- \u0e40\u0e0a\u0e48\u0e19 \u0e40\u0e23\u0e32\u0e08\u0e30\u0e15\u0e48\u0e2d\u0e02\u0e49\u0e2d\u0e04\u0e27\u0e32\u0e21\u0e43\u0e19\u0e15\u0e31\u0e27\u0e41\u0e1b\u0e23 `message1` \u0e41\u0e25\u0e30 `message2` \u0e40\u0e02\u0e49\u0e32\u0e14\u0e49\u0e27\u0e22\u0e01\u0e31\u0e19\u0e44\u0e14\u0e49\u0e14\u0e31\u0e07\u0e19\u0e35\u0e49"
   ]
  },
  {
   "cell_type": "code",
   "execution_count": null,
   "metadata": {
    "colab": {
     "base_uri": "https://localhost:8080/"
    },
    "id": "hKTAUn8kQ9N1",
    "outputId": "00204832-b9ac-4b34-fbfc-7d60daaa458e"
   },
   "outputs": [
    {
     "name": "stdout",
     "output_type": "stream",
     "text": [
      "Hello World!\n"
     ]
    }
   ],
   "source": [
    "message1 = 'Hello '\n",
    "message2 = 'World!'\n",
    "message = message1 + message2\n",
    "print(message)"
   ]
  },
  {
   "cell_type": "markdown",
   "metadata": {
    "id": "gc7gdlZ3Q9N3"
   },
   "source": [
    "### \u0e01\u0e32\u0e23\u0e17\u0e33\u0e0b\u0e49\u0e33\u0e02\u0e49\u0e2d\u0e04\u0e27\u0e32\u0e21"
   ]
  },
  {
   "cell_type": "markdown",
   "metadata": {
    "id": "NbVelsnyQ9N4"
   },
   "source": [
    "- \u0e19\u0e2d\u0e01\u0e08\u0e32\u0e01\u0e19\u0e35\u0e49\u0e40\u0e23\u0e32\u0e22\u0e31\u0e07\u0e2a\u0e32\u0e21\u0e32\u0e23\u0e16\u0e17\u0e33\u0e0b\u0e49\u0e33\u0e02\u0e49\u0e2d\u0e04\u0e27\u0e32\u0e21\u0e44\u0e14\u0e49\u0e14\u0e49\u0e27\u0e22\u0e40\u0e04\u0e23\u0e37\u0e48\u0e2d\u0e07\u0e2b\u0e21\u0e32\u0e22 `*`\n",
    "- \u0e40\u0e0a\u0e48\u0e19 \u0e16\u0e49\u0e32\u0e40\u0e23\u0e32\u0e15\u0e49\u0e2d\u0e07\u0e01\u0e32\u0e23\u0e17\u0e33\u0e0b\u0e49\u0e33\u0e02\u0e49\u0e2d\u0e04\u0e27\u0e32\u0e21 `hello` 3 \u0e23\u0e2d\u0e1a \u0e40\u0e23\u0e32\u0e08\u0e30\u0e17\u0e33\u0e2d\u0e22\u0e48\u0e32\u0e07\u0e19\u0e35\u0e49\u0e04\u0e23\u0e31\u0e1a"
   ]
  },
  {
   "cell_type": "code",
   "execution_count": 1,
   "metadata": {
    "colab": {
     "base_uri": "https://localhost:8080/",
     "height": 37
    },
    "id": "nf4MTSCKQ9N4",
    "outputId": "10262782-2c7c-49a1-cfc3-4156bed74691"
   },
   "outputs": [
    {
     "data": {
      "text/plain": [
       "'hellohellohello'"
      ]
     },
     "execution_count": 1,
     "metadata": {},
     "output_type": "execute_result"
    }
   ],
   "source": [
    "3 * 'hello'"
   ]
  },
  {
   "cell_type": "markdown",
   "metadata": {
    "id": "Y5UJ1C45Q9N7"
   },
   "source": [
    "### \u0e41\u0e1a\u0e1a\u0e1d\u0e36\u0e01\u0e2b\u0e31\u0e14 5.1"
   ]
  },
  {
   "cell_type": "markdown",
   "metadata": {
    "id": "JhA37nMEQ9N8"
   },
   "source": [
    "\u0e08\u0e07\u0e2a\u0e23\u0e49\u0e32\u0e07\u0e15\u0e31\u0e27\u0e41\u0e1b\u0e23 2 \u0e15\u0e31\u0e27\n",
    "\n",
    "- `message1` \u0e40\u0e01\u0e47\u0e1a\u0e02\u0e49\u0e2d\u0e04\u0e27\u0e32\u0e21 `'Hello '`\n",
    "- `message2` \u0e40\u0e01\u0e47\u0e1a\u0e02\u0e49\u0e2d\u0e04\u0e27\u0e32\u0e21 `'World '`\n",
    "\n",
    "\u0e2b\u0e25\u0e31\u0e07\u0e08\u0e32\u0e01\u0e19\u0e31\u0e49\u0e19\u0e43\u0e2b\u0e49\u0e17\u0e33\u0e0b\u0e49\u0e33 `message1` 3 \u0e04\u0e23\u0e31\u0e49\u0e07 \u0e41\u0e25\u0e30 `message2` 5 \u0e04\u0e23\u0e31\u0e49\u0e07 \u0e19\u0e33\u0e1c\u0e25\u0e25\u0e31\u0e1e\u0e18\u0e4c\u0e17\u0e31\u0e49\u0e07\u0e2a\u0e2d\u0e07\u0e2d\u0e31\u0e19\u0e21\u0e32\u0e15\u0e48\u0e2d\u0e01\u0e31\u0e19 \u0e41\u0e25\u0e49\u0e27\u0e19\u0e33\u0e21\u0e32\u0e40\u0e01\u0e47\u0e1a\u0e43\u0e19\u0e15\u0e31\u0e27\u0e41\u0e1b\u0e23 `message3`"
   ]
  },
  {
   "cell_type": "code",
   "execution_count": null,
   "metadata": {
    "id": "I-FlO_irQ9N9"
   },
   "outputs": [
    {
     "name": "stdout",
     "output_type": "stream",
     "text": [
      "Hello Hello Hello World World World World World \n"
     ]
    }
   ],
   "source": [
    "message1 = 'Hello ' * 3\n",
    "message2 ='World ' * 5\n",
    "message3 = message1 + message2\n",
    "print(message3)"
   ]
  },
  {
   "cell_type": "markdown",
   "metadata": {
    "id": "YMP5K__0Q9OA"
   },
   "source": [
    "### \u0e02\u0e49\u0e2d\u0e04\u0e27\u0e32\u0e21\u0e43\u0e19\u0e10\u0e32\u0e19\u0e30\u0e02\u0e2d\u0e07\u0e25\u0e34\u0e2a\u0e15\u0e4c"
   ]
  },
  {
   "cell_type": "markdown",
   "metadata": {
    "id": "e95H1SQmQ9OB"
   },
   "source": [
    "- \u0e43\u0e19\u0e20\u0e32\u0e29\u0e32 Python \u0e02\u0e49\u0e2d\u0e04\u0e27\u0e32\u0e21\u0e04\u0e37\u0e2d\u0e25\u0e34\u0e2a\u0e15\u0e4c\u0e02\u0e2d\u0e07\u0e15\u0e31\u0e27\u0e2d\u0e31\u0e01\u0e29\u0e23\u0e04\u0e23\u0e31\u0e1a\n",
    "- \u0e40\u0e23\u0e32\u0e2a\u0e32\u0e21\u0e32\u0e23\u0e16\u0e40\u0e02\u0e49\u0e32\u0e16\u0e36\u0e07\u0e15\u0e31\u0e27\u0e2d\u0e31\u0e01\u0e29\u0e23\u0e2a\u0e21\u0e32\u0e0a\u0e34\u0e01\u0e41\u0e15\u0e48\u0e25\u0e30\u0e15\u0e31\u0e27\u0e43\u0e19\u0e02\u0e49\u0e2d\u0e04\u0e27\u0e32\u0e21\u0e44\u0e14\u0e49"
   ]
  },
  {
   "cell_type": "code",
   "execution_count": null,
   "metadata": {
    "colab": {
     "base_uri": "https://localhost:8080/"
    },
    "id": "-JDFV1KCQ9OC",
    "outputId": "4aa5d327-bcc4-48df-91fc-2fade8213f63"
   },
   "outputs": [
    {
     "name": "stdout",
     "output_type": "stream",
     "text": [
      "h\n",
      "e\n",
      "l\n",
      "l\n",
      "o\n"
     ]
    }
   ],
   "source": [
    "message = 'hello'\n",
    "print(message[0])\n",
    "print(message[1])\n",
    "print(message[2])\n",
    "print(message[3])\n",
    "print(message[4])"
   ]
  },
  {
   "cell_type": "markdown",
   "metadata": {
    "id": "82AX_rfsQ9OI"
   },
   "source": [
    "- \u0e19\u0e2d\u0e01\u0e08\u0e32\u0e01\u0e19\u0e35\u0e49 \u0e40\u0e23\u0e32\u0e22\u0e31\u0e07\u0e2a\u0e32\u0e21\u0e32\u0e23\u0e16\u0e40\u0e25\u0e37\u0e2d\u0e01\u0e1a\u0e32\u0e07\u0e2a\u0e48\u0e27\u0e19\u0e02\u0e2d\u0e07\u0e02\u0e49\u0e2d\u0e04\u0e27\u0e32\u0e21\u0e21\u0e32\u0e44\u0e14\u0e49\u0e14\u0e49\u0e27\u0e22 \u0e40\u0e2b\u0e21\u0e37\u0e2d\u0e19\u0e2d\u0e22\u0e48\u0e32\u0e07\u0e17\u0e35\u0e48\u0e40\u0e23\u0e32\u0e40\u0e25\u0e37\u0e2d\u0e01\u0e1a\u0e32\u0e07\u0e2a\u0e48\u0e27\u0e19\u0e02\u0e2d\u0e07\u0e25\u0e34\u0e2a\u0e15\u0e4c\u0e04\u0e23\u0e31\u0e1a\n",
    "- \u0e40\u0e0a\u0e48\u0e19 \u0e40\u0e23\u0e32\u0e2a\u0e32\u0e21\u0e32\u0e23\u0e16\u0e40\u0e25\u0e37\u0e2d\u0e01\u0e15\u0e31\u0e49\u0e07\u0e41\u0e15\u0e48\u0e15\u0e31\u0e27\u0e2d\u0e31\u0e01\u0e29\u0e23 index \u0e17\u0e35\u0e48 1 \u0e08\u0e19\u0e16\u0e36\u0e07 index \u0e17\u0e35\u0e48 3 \u0e44\u0e14\u0e49\u0e14\u0e49\u0e27\u0e22\u0e04\u0e33\u0e2a\u0e31\u0e48\u0e07\u0e19\u0e35\u0e49"
   ]
  },
  {
   "cell_type": "code",
   "execution_count": null,
   "metadata": {
    "colab": {
     "base_uri": "https://localhost:8080/",
     "height": 38
    },
    "id": "Cfytag-iQ9OK",
    "outputId": "481e7ae6-62c5-4efc-ebc2-d1aac6786632"
   },
   "outputs": [
    {
     "data": {
      "text/plain": [
       "'ell'"
      ]
     },
     "execution_count": 71,
     "metadata": {},
     "output_type": "execute_result"
    }
   ],
   "source": [
    "message[1:4]"
   ]
  },
  {
   "cell_type": "markdown",
   "metadata": {
    "id": "Y7LRz_CAQ9OM"
   },
   "source": [
    "- \u0e41\u0e15\u0e48\u0e17\u0e31\u0e49\u0e07\u0e19\u0e35\u0e49\u0e40\u0e23\u0e32\u0e44\u0e21\u0e48\u0e2a\u0e32\u0e21\u0e32\u0e23\u0e16\u0e41\u0e01\u0e49\u0e44\u0e02\u0e2a\u0e21\u0e32\u0e0a\u0e34\u0e01\u0e43\u0e19\u0e02\u0e49\u0e2d\u0e04\u0e27\u0e32\u0e21\u0e44\u0e14\u0e49\u0e19\u0e30\u0e04\u0e23\u0e31\u0e1a"
   ]
  },
  {
   "cell_type": "code",
   "execution_count": null,
   "metadata": {
    "colab": {
     "base_uri": "https://localhost:8080/",
     "height": 171
    },
    "id": "3LrS0QkWQ9ON",
    "outputId": "34d5757f-8ab7-4d36-f823-70e1f6e2dc27"
   },
   "outputs": [
    {
     "ename": "TypeError",
     "evalue": "'str' object does not support item assignment",
     "output_type": "error",
     "traceback": [
      "\u001b[0;31m---------------------------------------------------------------------------\u001b[0m",
      "\u001b[0;31mTypeError\u001b[0m                                 Traceback (most recent call last)",
      "\u001b[0;32m/tmp/ipykernel_19426/1623769051.py\u001b[0m in \u001b[0;36m<module>\u001b[0;34m\u001b[0m\n\u001b[0;32m----> 1\u001b[0;31m \u001b[0mmessage\u001b[0m\u001b[0;34m[\u001b[0m\u001b[0;36m1\u001b[0m\u001b[0;34m]\u001b[0m \u001b[0;34m=\u001b[0m \u001b[0;34m'E'\u001b[0m\u001b[0;34m\u001b[0m\u001b[0;34m\u001b[0m\u001b[0m\n\u001b[0m",
      "\u001b[0;31mTypeError\u001b[0m: 'str' object does not support item assignment"
     ]
    }
   ],
   "source": [
    "message[1] = 'E'"
   ]
  },
  {
   "cell_type": "markdown",
   "metadata": {
    "id": "3ZqVX6cMMiPQ"
   },
   "source": [
    "**\u0e2a\u0e39\u0e15\u0e23:** \u0e16\u0e49\u0e32\u0e2d\u0e22\u0e32\u0e01\u0e44\u0e14\u0e49\u0e15\u0e31\u0e27\u0e17\u0e35\u0e48 x \u0e08\u0e19\u0e16\u0e36\u0e07\u0e15\u0e31\u0e27\u0e17\u0e35\u0e48 y \u0e08\u0e30\u0e40\u0e02\u0e35\u0e22\u0e19\u0e40\u0e1b\u0e47\u0e19 slicing \u0e44\u0e14\u0e49\u0e27\u0e48\u0e32 `[x - 1 : y]`"
   ]
  },
  {
   "cell_type": "markdown",
   "metadata": {
    "id": "CJq-M1oRQ9OQ"
   },
   "source": [
    "### \u0e41\u0e1a\u0e1a\u0e1d\u0e36\u0e01\u0e2b\u0e31\u0e14 5.2"
   ]
  },
  {
   "cell_type": "markdown",
   "metadata": {
    "id": "Aj8-jaV-Q9OR"
   },
   "source": [
    "1. \u0e08\u0e07\u0e17\u0e33\u0e0b\u0e49\u0e33\u0e02\u0e49\u0e2d\u0e04\u0e27\u0e32\u0e21 `'prachya'` \u0e08\u0e33\u0e19\u0e27\u0e19 10 \u0e04\u0e23\u0e31\u0e49\u0e07\u0e41\u0e25\u0e49\u0e27\u0e40\u0e01\u0e47\u0e1a\u0e44\u0e27\u0e49\u0e43\u0e19\u0e15\u0e31\u0e27\u0e41\u0e1b\u0e23 `my_string`"
   ]
  },
  {
   "cell_type": "code",
   "execution_count": null,
   "metadata": {
    "id": "DfYuZgtGQ9OS"
   },
   "outputs": [
    {
     "name": "stdout",
     "output_type": "stream",
     "text": [
      "prachyaprachyaprachyaprachyaprachyaprachyaprachyaprachyaprachyaprachya\n"
     ]
    }
   ],
   "source": [
    "my_string = 'prachya' * 10\n",
    "print(my_string)"
   ]
  },
  {
   "cell_type": "markdown",
   "metadata": {
    "id": "AgVggi9mQ9OU"
   },
   "source": [
    "2. \u0e08\u0e07\u0e40\u0e25\u0e37\u0e2d\u0e01\u0e1a\u0e32\u0e07\u0e2a\u0e48\u0e27\u0e19\u0e02\u0e2d\u0e07\u0e02\u0e49\u0e2d\u0e04\u0e27\u0e32\u0e21 `my_string` \u0e40\u0e23\u0e34\u0e48\u0e21\u0e08\u0e32\u0e01\u0e15\u0e31\u0e27\u0e17\u0e35\u0e48 10 \u0e08\u0e19\u0e16\u0e36\u0e07\u0e15\u0e31\u0e27\u0e17\u0e35\u0e48 30 \u0e41\u0e25\u0e49\u0e27\u0e40\u0e01\u0e47\u0e1a\u0e25\u0e07\u0e43\u0e19\u0e15\u0e31\u0e27\u0e41\u0e1b\u0e23 `my_string1`"
   ]
  },
  {
   "cell_type": "code",
   "execution_count": null,
   "metadata": {
    "id": "3W3Cgs1VQ9OV"
   },
   "outputs": [
    {
     "name": "stdout",
     "output_type": "stream",
     "text": [
      "achyaprachyaprachyapr\n"
     ]
    }
   ],
   "source": [
    "my_string1 = my_string[9:30]\n",
    "print(my_string1)"
   ]
  },
  {
   "cell_type": "markdown",
   "metadata": {
    "id": "FHr034NQQ9OW"
   },
   "source": [
    "3. \u0e08\u0e07\u0e40\u0e25\u0e37\u0e2d\u0e01\u0e1a\u0e32\u0e07\u0e2a\u0e48\u0e27\u0e19\u0e02\u0e2d\u0e07\u0e02\u0e49\u0e2d\u0e04\u0e27\u0e32\u0e21 `my_string` \u0e15\u0e31\u0e49\u0e07\u0e41\u0e15\u0e48\u0e15\u0e31\u0e27\u0e17\u0e35\u0e48 20 \u0e40\u0e1b\u0e47\u0e19\u0e15\u0e49\u0e19\u0e44\u0e1b \u0e41\u0e25\u0e49\u0e27\u0e40\u0e01\u0e47\u0e1a\u0e25\u0e07\u0e43\u0e19\u0e15\u0e31\u0e27\u0e41\u0e1b\u0e23 `my_string2`"
   ]
  },
  {
   "cell_type": "code",
   "execution_count": null,
   "metadata": {
    "id": "vGmFYDutQ9OX"
   },
   "outputs": [
    {
     "name": "stdout",
     "output_type": "stream",
     "text": [
      "yaprachyaprachyaprachyaprachyaprachyaprachyaprachya\n"
     ]
    }
   ],
   "source": [
    "my_string2 = my_string[19:]\n",
    "print(my_string2)"
   ]
  },
  {
   "cell_type": "markdown",
   "metadata": {
    "id": "ociVpinDQ9OZ"
   },
   "source": [
    "4. \u0e08\u0e07\u0e40\u0e25\u0e37\u0e2d\u0e01\u0e1a\u0e32\u0e07\u0e2a\u0e48\u0e27\u0e19\u0e02\u0e2d\u0e07\u0e02\u0e49\u0e2d\u0e04\u0e27\u0e32\u0e21 `my_string` \u0e15\u0e31\u0e49\u0e07\u0e41\u0e15\u0e48\u0e15\u0e31\u0e27\u0e41\u0e23\u0e01\u0e08\u0e19\u0e16\u0e36\u0e07\u0e15\u0e31\u0e27\u0e17\u0e35\u0e48 40  \u0e41\u0e25\u0e49\u0e27\u0e40\u0e01\u0e47\u0e1a\u0e25\u0e07\u0e43\u0e19\u0e15\u0e31\u0e27\u0e41\u0e1b\u0e23 `my_string3`"
   ]
  },
  {
   "cell_type": "code",
   "execution_count": null,
   "metadata": {
    "id": "2lWd4K2PQ9Oa"
   },
   "outputs": [
    {
     "name": "stdout",
     "output_type": "stream",
     "text": [
      "prachyaprachyaprachyaprachyaprachyaprach\n"
     ]
    }
   ],
   "source": [
    "my_string3 = my_string[:40]\n",
    "print(my_string3)"
   ]
  },
  {
   "cell_type": "markdown",
   "metadata": {
    "id": "Q_EFqny5Q9Oc"
   },
   "source": [
    "-----"
   ]
  },
  {
   "cell_type": "markdown",
   "metadata": {
    "id": "EJYhHvW5Q9Od"
   },
   "source": [
    "## \u0e01\u0e34\u0e08\u0e01\u0e23\u0e23\u0e21 6: \u0e01\u0e32\u0e23\u0e27\u0e19\u0e0b\u0e49\u0e33"
   ]
  },
  {
   "cell_type": "markdown",
   "metadata": {
    "id": "_t_rtEayQ9Oe"
   },
   "source": [
    "- \u0e2a\u0e31\u0e07\u0e40\u0e01\u0e15\u0e44\u0e2b\u0e21\u0e04\u0e23\u0e31\u0e1a\u0e27\u0e48\u0e32 \u0e41\u0e1a\u0e1a\u0e1d\u0e36\u0e01\u0e2b\u0e31\u0e14\u0e15\u0e48\u0e32\u0e07\u0e46 \u0e43\u0e19\u0e01\u0e34\u0e08\u0e01\u0e23\u0e23\u0e21 4 \u0e41\u0e25\u0e30 5 \u0e15\u0e49\u0e2d\u0e07\u0e43\u0e0a\u0e49\u0e27\u0e34\u0e18\u0e35 copy-paste \u0e41\u0e25\u0e49\u0e27\u0e41\u0e01\u0e49\u0e2b\u0e21\u0e32\u0e22\u0e40\u0e25\u0e02\u0e15\u0e33\u0e41\u0e2b\u0e19\u0e48\u0e07\u0e02\u0e2d\u0e07\u0e2a\u0e21\u0e32\u0e0a\u0e34\u0e01\u0e40\u0e2d\u0e32\u0e17\u0e35\u0e25\u0e30\u0e15\u0e33\u0e41\u0e2b\u0e19\u0e48\u0e07 \u0e16\u0e49\u0e32\u0e40\u0e01\u0e34\u0e14\u0e25\u0e34\u0e2a\u0e15\u0e4c\u0e21\u0e35\u0e2a\u0e21\u0e32\u0e0a\u0e34\u0e01\u0e08\u0e33\u0e19\u0e27\u0e19\u0e21\u0e32\u0e01\u0e02\u0e36\u0e49\u0e19\u0e21\u0e32 \u0e40\u0e23\u0e32\u0e01\u0e47\u0e04\u0e07\u0e08\u0e30 copy-paste \u0e01\u0e31\u0e19\u0e21\u0e37\u0e2d\u0e2b\u0e07\u0e34\u0e01\u0e41\u0e19\u0e48\u0e19\u0e2d\u0e19\n",
    "- \u0e40\u0e23\u0e32\u0e2a\u0e32\u0e21\u0e32\u0e23\u0e16\u0e43\u0e0a\u0e49\u0e27\u0e34\u0e18\u0e35\u0e01\u0e32\u0e23\u0e27\u0e19\u0e25\u0e39\u0e1b (loop) \u0e40\u0e1e\u0e37\u0e48\u0e2d\u0e17\u0e33\u0e01\u0e23\u0e30\u0e1a\u0e27\u0e19\u0e01\u0e32\u0e23\u0e40\u0e14\u0e34\u0e21\u0e0b\u0e49\u0e33\u0e46 \u0e44\u0e14\u0e49\u0e04\u0e23\u0e31\u0e1a"
   ]
  },
  {
   "cell_type": "markdown",
   "metadata": {
    "id": "uGd5wg_SQ9Of"
   },
   "source": [
    "### \u0e25\u0e39\u0e1b\u0e1f\u0e2d\u0e23\u0e4c (for-loop)"
   ]
  },
  {
   "cell_type": "markdown",
   "metadata": {
    "id": "8T7rfMhKQ9Og"
   },
   "source": [
    "- \u0e25\u0e39\u0e1b\u0e1f\u0e2d\u0e23\u0e4c (for-loop) \u0e43\u0e0a\u0e49\u0e2a\u0e33\u0e2b\u0e23\u0e31\u0e1a\u0e17\u0e33\u0e01\u0e23\u0e30\u0e1a\u0e27\u0e19\u0e01\u0e32\u0e23\u0e40\u0e14\u0e34\u0e21\u0e0b\u0e49\u0e33\u0e46 \u0e01\u0e31\u0e1a\u0e2a\u0e21\u0e32\u0e0a\u0e34\u0e01\u0e41\u0e15\u0e48\u0e25\u0e30\u0e15\u0e31\u0e27\u0e43\u0e19\u0e25\u0e34\u0e2a\u0e15\u0e4c <u>**\u0e15\u0e32\u0e21\u0e25\u0e33\u0e14\u0e31\u0e1a**</u>\n",
    "  - \u0e23\u0e39\u0e1b\u0e41\u0e1a\u0e1a\u0e04\u0e33\u0e2a\u0e31\u0e48\u0e07\u0e02\u0e2d\u0e07\u0e25\u0e39\u0e1b\u0e1f\u0e2d\u0e23\u0e4c\u0e04\u0e37\u0e2d\n",
    "```python\n",
    "    for <\u0e15\u0e31\u0e27\u0e41\u0e1b\u0e23> in <\u0e25\u0e34\u0e2a\u0e15\u0e4c> :\n",
    "        <\u0e01\u0e23\u0e30\u0e1a\u0e27\u0e19\u0e01\u0e32\u0e23>\n",
    "```\n",
    "  - \u0e04\u0e33\u0e2a\u0e31\u0e48\u0e07\u0e19\u0e35\u0e49\u0e08\u0e30\u0e41\u0e17\u0e19\u0e2a\u0e21\u0e32\u0e0a\u0e34\u0e01\u0e41\u0e15\u0e48\u0e25\u0e30\u0e15\u0e31\u0e27\u0e43\u0e19\u0e25\u0e34\u0e2a\u0e15\u0e4c\u0e14\u0e49\u0e27\u0e22\u0e15\u0e31\u0e27\u0e41\u0e1b\u0e23\u0e17\u0e35\u0e48\u0e01\u0e33\u0e2b\u0e19\u0e14 \u0e41\u0e25\u0e49\u0e27\u0e08\u0e36\u0e07\u0e17\u0e33\u0e0b\u0e49\u0e33\u0e01\u0e23\u0e30\u0e1a\u0e27\u0e19\u0e01\u0e32\u0e23\u0e19\u0e35\u0e49\u0e08\u0e19\u0e01\u0e27\u0e48\u0e32\u0e08\u0e30\u0e43\u0e0a\u0e49\u0e2a\u0e21\u0e32\u0e0a\u0e34\u0e01\u0e04\u0e23\u0e1a\u0e17\u0e38\u0e01\u0e15\u0e31\u0e27\u0e15\u0e32\u0e21\u0e25\u0e33\u0e14\u0e31\u0e1a\u0e04\u0e23\u0e31\u0e1a\n",
    "  \n",
    "- \u0e40\u0e0a\u0e48\u0e19 \u0e16\u0e49\u0e32\u0e40\u0e23\u0e32\u0e15\u0e49\u0e2d\u0e07\u0e01\u0e32\u0e23\u0e1e\u0e34\u0e21\u0e1e\u0e4c\u0e2a\u0e21\u0e32\u0e0a\u0e34\u0e01\u0e41\u0e15\u0e48\u0e25\u0e30\u0e15\u0e31\u0e27\u0e43\u0e19\u0e25\u0e34\u0e2a\u0e15\u0e4c `student_heights` \u0e2d\u0e2d\u0e01\u0e21\u0e32 \u0e40\u0e23\u0e32\u0e08\u0e30\u0e2a\u0e31\u0e48\u0e07\u0e04\u0e33\u0e2a\u0e31\u0e48\u0e07\u0e14\u0e31\u0e07\u0e19\u0e35\u0e49"
   ]
  },
  {
   "cell_type": "code",
   "execution_count": null,
   "metadata": {
    "colab": {
     "base_uri": "https://localhost:8080/"
    },
    "id": "6U8AO3pdQ9Oh",
    "outputId": "e7fbb1a2-563e-43cd-a4dc-a930d407a35d"
   },
   "outputs": [
    {
     "name": "stdout",
     "output_type": "stream",
     "text": [
      "163.5\n",
      "150.0\n",
      "167.0\n",
      "161.25\n",
      "170.0\n",
      "That is all.\n"
     ]
    }
   ],
   "source": [
    "# \u0e25\u0e34\u0e2a\u0e15\u0e4c\u0e04\u0e27\u0e32\u0e21\u0e2a\u0e39\u0e07\u0e02\u0e2d\u0e07\u0e19\u0e31\u0e01\u0e40\u0e23\u0e35\u0e22\u0e19\u0e43\u0e19\u0e01\u0e25\u0e38\u0e48\u0e21\n",
    "student_heights = [163.5, 150.0, 167.0, 161.25, 170.0]\n",
    "\n",
    "# \u0e2a\u0e21\u0e32\u0e0a\u0e34\u0e01\u0e41\u0e15\u0e48\u0e25\u0e30\u0e15\u0e31\u0e27\u0e02\u0e2d\u0e07\u0e25\u0e34\u0e2a\u0e15\u0e4c student_heights \u0e08\u0e30\u0e41\u0e17\u0e19\u0e14\u0e49\u0e27\u0e22\u0e15\u0e31\u0e27\u0e41\u0e1b\u0e23 height\n",
    "for height in student_heights:\n",
    "    # \u0e1e\u0e34\u0e21\u0e1e\u0e4c\u0e04\u0e48\u0e32\u0e02\u0e2d\u0e07\u0e15\u0e31\u0e27\u0e41\u0e1b\u0e23 height \u0e2d\u0e2d\u0e01\u0e2b\u0e19\u0e49\u0e32\u0e08\u0e2d\n",
    "    print(height)\n",
    "    \n",
    "print('That is all.')"
   ]
  },
  {
   "cell_type": "markdown",
   "metadata": {
    "id": "qT9c9XDLQ9Ok"
   },
   "source": [
    "- \u0e2a\u0e34\u0e48\u0e07\u0e17\u0e35\u0e48\u0e2d\u0e22\u0e32\u0e01\u0e43\u0e2b\u0e49\u0e2a\u0e31\u0e07\u0e40\u0e01\u0e15\u0e15\u0e23\u0e07\u0e19\u0e35\u0e49\u0e04\u0e37\u0e2d \u0e01\u0e23\u0e30\u0e1a\u0e27\u0e19\u0e01\u0e32\u0e23\u0e17\u0e35\u0e48\u0e40\u0e23\u0e32\u0e15\u0e49\u0e2d\u0e07\u0e01\u0e32\u0e23\u0e17\u0e33\u0e0b\u0e49\u0e33\u0e04\u0e37\u0e2d `print(height)` \u0e08\u0e30\u0e15\u0e49\u0e2d\u0e07\u0e21\u0e35\u0e22\u0e48\u0e2d\u0e2b\u0e19\u0e49\u0e32\u0e16\u0e31\u0e14\u0e40\u0e02\u0e49\u0e32\u0e44\u0e1b"
   ]
  },
  {
   "cell_type": "markdown",
   "metadata": {
    "id": "FxUc1RAtQ9Oo"
   },
   "source": [
    "### \u0e01\u0e0e\u0e01\u0e32\u0e23\u0e22\u0e48\u0e2d\u0e2b\u0e19\u0e49\u0e32\u0e02\u0e2d\u0e07\u0e20\u0e32\u0e29\u0e32\u0e44\u0e1e\u0e18\u0e2d\u0e19\n",
    "\n",
    "- \u0e01\u0e23\u0e30\u0e1a\u0e27\u0e19\u0e01\u0e32\u0e23\u0e17\u0e35\u0e48\u0e40\u0e23\u0e32\u0e15\u0e49\u0e2d\u0e07\u0e01\u0e32\u0e23\u0e17\u0e33\u0e0b\u0e49\u0e33\u0e43\u0e19\u0e25\u0e39\u0e1b\u0e17\u0e38\u0e01\u0e0a\u0e19\u0e34\u0e14 \u0e08\u0e30\u0e15\u0e49\u0e2d\u0e07\u0e22\u0e48\u0e2d\u0e2b\u0e19\u0e49\u0e32\u0e16\u0e31\u0e14\u0e40\u0e02\u0e49\u0e32\u0e44\u0e1b\u0e17\u0e32\u0e07\u0e02\u0e27\u0e32\u0e40\u0e2a\u0e21\u0e2d\n",
    "- \u0e02\u0e19\u0e32\u0e14\u0e02\u0e2d\u0e07\u0e22\u0e48\u0e2d\u0e2b\u0e19\u0e49\u0e32\u0e17\u0e35\u0e48\u0e19\u0e34\u0e22\u0e21\u0e01\u0e31\u0e19\u0e04\u0e37\u0e2d \u0e40\u0e04\u0e32\u0e30 spacebar 4 \u0e04\u0e23\u0e31\u0e49\u0e07\n",
    "- \u0e40\u0e21\u0e37\u0e48\u0e2d\u0e44\u0e23\u0e01\u0e47\u0e15\u0e32\u0e21\u0e17\u0e35\u0e48\u0e22\u0e48\u0e2d\u0e2b\u0e19\u0e49\u0e32\u0e01\u0e25\u0e31\u0e1a\u0e2d\u0e2d\u0e01\u0e21\u0e32\u0e17\u0e32\u0e07\u0e0b\u0e49\u0e32\u0e22 \u0e08\u0e30\u0e16\u0e37\u0e2d\u0e27\u0e48\u0e32\u0e08\u0e1a\u0e25\u0e39\u0e1b\u0e41\u0e25\u0e49\u0e27"
   ]
  },
  {
   "cell_type": "markdown",
   "metadata": {
    "id": "uHVb8rQtQ9Op"
   },
   "source": [
    "### \u0e41\u0e1a\u0e1a\u0e1d\u0e36\u0e01\u0e2b\u0e31\u0e14 6.1"
   ]
  },
  {
   "cell_type": "markdown",
   "metadata": {
    "id": "45nNbF2oQ9Oq"
   },
   "source": [
    "1. \u0e1e\u0e34\u0e21\u0e1e\u0e4c\u0e2a\u0e21\u0e32\u0e0a\u0e34\u0e01\u0e41\u0e15\u0e48\u0e25\u0e30\u0e15\u0e31\u0e27\u0e43\u0e19\u0e25\u0e34\u0e2a\u0e15\u0e4c `my_list` \u0e2d\u0e2d\u0e01\u0e2b\u0e19\u0e49\u0e32\u0e08\u0e2d\u0e42\u0e14\u0e22\u0e43\u0e0a\u0e49\u0e25\u0e39\u0e1b\u0e1f\u0e2d\u0e23\u0e4c\u0e41\u0e25\u0e30\u0e04\u0e33\u0e2a\u0e31\u0e48\u0e07 `print`"
   ]
  },
  {
   "cell_type": "code",
   "execution_count": null,
   "metadata": {
    "id": "Jk4Bh5lzQ9Or"
   },
   "outputs": [
    {
     "name": "stdout",
     "output_type": "stream",
     "text": [
      "hello\n",
      "my\n",
      "name\n",
      "is\n",
      "prachya\n"
     ]
    }
   ],
   "source": [
    "my_list = ['hello', 'my', 'name', 'is', 'prachya']\n",
    "\n",
    "# \u0e25\u0e39\u0e1b\u0e1f\u0e2d\u0e23\u0e4c\n",
    "for i in my_list:\n",
    "  print(i)"
   ]
  },
  {
   "cell_type": "markdown",
   "metadata": {
    "id": "76faC4kKQ9Ot"
   },
   "source": [
    "2. \u0e40\u0e1e\u0e34\u0e48\u0e21\u0e04\u0e48\u0e32\u0e2a\u0e21\u0e32\u0e0a\u0e34\u0e01\u0e41\u0e15\u0e48\u0e25\u0e30\u0e15\u0e31\u0e27\u0e43\u0e19\u0e25\u0e34\u0e2a\u0e15\u0e4c `my_numbers` \u0e15\u0e31\u0e27\u0e25\u0e30 10 \u0e41\u0e25\u0e30\u0e1e\u0e34\u0e21\u0e1e\u0e4c\u0e2d\u0e2d\u0e01\u0e2b\u0e19\u0e49\u0e32\u0e08\u0e2d"
   ]
  },
  {
   "cell_type": "code",
   "execution_count": null,
   "metadata": {
    "id": "ytAELWg4Q9Ot"
   },
   "outputs": [
    {
     "name": "stdout",
     "output_type": "stream",
     "text": [
      "110\n",
      "100\n",
      "90\n",
      "80\n",
      "70\n",
      "60\n",
      "50\n",
      "40\n",
      "30\n",
      "20\n"
     ]
    }
   ],
   "source": [
    "my_numbers = [100, 90, 80, 70, 60, 50, 40, 30, 20, 10]\n",
    "\n",
    "# \u0e25\u0e39\u0e1b\u0e1f\u0e2d\u0e23\u0e4c\n",
    "for number in my_numbers:\n",
    "    number = number + 10\n",
    "    print(number)"
   ]
  },
  {
   "cell_type": "markdown",
   "metadata": {
    "id": "NHlJbHNbQ9Ow"
   },
   "source": [
    "### \u0e0a\u0e48\u0e27\u0e07\u0e08\u0e33\u0e19\u0e27\u0e19 (range)"
   ]
  },
  {
   "cell_type": "markdown",
   "metadata": {
    "id": "LRiOPKvAQ9Ox"
   },
   "source": [
    "- \u0e1a\u0e32\u0e07\u0e04\u0e23\u0e31\u0e49\u0e07\u0e40\u0e23\u0e32\u0e08\u0e33\u0e40\u0e1b\u0e47\u0e19\u0e15\u0e49\u0e2d\u0e07\u0e27\u0e19\u0e25\u0e39\u0e1b\u0e1f\u0e2d\u0e23\u0e4c\u0e1a\u0e19\u0e40\u0e25\u0e02\u0e15\u0e33\u0e41\u0e2b\u0e19\u0e48\u0e07 index \u0e14\u0e49\u0e27\u0e22\n",
    "- \u0e40\u0e23\u0e32\u0e2a\u0e32\u0e21\u0e32\u0e23\u0e16\u0e43\u0e0a\u0e49\u0e04\u0e33\u0e2a\u0e31\u0e48\u0e07 `range(` $a$ `,` $b$ `)` \u0e40\u0e1e\u0e37\u0e48\u0e2d\u0e2a\u0e23\u0e49\u0e32\u0e07\u0e0a\u0e48\u0e27\u0e07\u0e08\u0e33\u0e19\u0e27\u0e19\u0e43\u0e19\u0e25\u0e39\u0e1b\u0e1f\u0e2d\u0e23\u0e4c\u0e44\u0e14\u0e49 \u0e42\u0e14\u0e22 $a$ \u0e08\u0e30\u0e40\u0e1b\u0e47\u0e19\u0e04\u0e48\u0e32 index \u0e40\u0e23\u0e34\u0e48\u0e21\u0e15\u0e49\u0e19\u0e41\u0e25\u0e30 $b - 1$ \u0e08\u0e30\u0e40\u0e1b\u0e47\u0e19\u0e04\u0e48\u0e32\u0e2a\u0e38\u0e14\u0e17\u0e49\u0e32\u0e22\u0e04\u0e23\u0e31\u0e1a \u0e40\u0e0a\u0e48\u0e19"
   ]
  },
  {
   "cell_type": "code",
   "execution_count": null,
   "metadata": {
    "colab": {
     "base_uri": "https://localhost:8080/"
    },
    "id": "nCcbj6o1Q9Oy",
    "outputId": "b5c4c3ec-715d-45e8-a139-ae6575a21c72"
   },
   "outputs": [
    {
     "name": "stdout",
     "output_type": "stream",
     "text": [
      "i = 1\n",
      "i = 2\n",
      "i = 3\n",
      "i = 4\n",
      "i = 5\n",
      "i = 6\n",
      "i = 7\n",
      "i = 8\n",
      "i = 9\n",
      "i = 10\n"
     ]
    }
   ],
   "source": [
    "for i in range(1, 11):\n",
    "    print('i =', i)"
   ]
  },
  {
   "cell_type": "markdown",
   "metadata": {
    "id": "w46QzdRgQ9O0"
   },
   "source": [
    "- \u0e2b\u0e32\u0e01\u0e40\u0e23\u0e32\u0e25\u0e30\u0e04\u0e48\u0e32 $a$ \u0e44\u0e1b \u0e40\u0e2b\u0e25\u0e37\u0e2d\u0e40\u0e1e\u0e35\u0e22\u0e07 `range(` $b$ `)` \u0e0a\u0e48\u0e27\u0e07\u0e08\u0e33\u0e19\u0e27\u0e19\u0e08\u0e30\u0e40\u0e23\u0e34\u0e48\u0e21\u0e15\u0e49\u0e19\u0e08\u0e32\u0e01 0 \u0e41\u0e25\u0e30\u0e2a\u0e34\u0e49\u0e19\u0e2a\u0e38\u0e14\u0e17\u0e35\u0e48 $b - 1$ \u0e04\u0e23\u0e31\u0e1a"
   ]
  },
  {
   "cell_type": "code",
   "execution_count": null,
   "metadata": {
    "colab": {
     "base_uri": "https://localhost:8080/"
    },
    "id": "uLuhP06dQ9O1",
    "outputId": "5696c32c-7edc-4983-825e-f290d06887d1"
   },
   "outputs": [
    {
     "name": "stdout",
     "output_type": "stream",
     "text": [
      "i = 0\n",
      "i = 1\n",
      "i = 2\n",
      "i = 3\n",
      "i = 4\n",
      "i = 5\n",
      "i = 6\n",
      "i = 7\n",
      "i = 8\n",
      "i = 9\n",
      "i = 10\n",
      "i = 11\n",
      "i = 12\n",
      "i = 13\n",
      "i = 14\n",
      "i = 15\n",
      "i = 16\n",
      "i = 17\n",
      "i = 18\n",
      "i = 19\n"
     ]
    }
   ],
   "source": [
    "for i in range(20):\n",
    "    print('i =', i)"
   ]
  },
  {
   "cell_type": "markdown",
   "metadata": {
    "id": "tmKJ4ekaQ9O4"
   },
   "source": [
    "- \u0e19\u0e2d\u0e01\u0e08\u0e32\u0e01\u0e19\u0e35\u0e49\u0e40\u0e23\u0e32\u0e22\u0e31\u0e07\u0e2a\u0e32\u0e21\u0e32\u0e23\u0e16\u0e01\u0e33\u0e2b\u0e19\u0e14\u0e02\u0e19\u0e32\u0e14\u0e02\u0e2d\u0e07\u0e01\u0e49\u0e32\u0e27\u0e43\u0e19\u0e01\u0e32\u0e23\u0e2a\u0e23\u0e49\u0e32\u0e07\u0e0a\u0e48\u0e27\u0e07\u0e08\u0e33\u0e19\u0e27\u0e19\u0e44\u0e14\u0e49 \u0e42\u0e14\u0e22\u0e43\u0e0a\u0e49\u0e04\u0e33\u0e2a\u0e31\u0e48\u0e07 `range(` $a$ `,` $b$ `,` $c$ `)` \u0e40\u0e21\u0e37\u0e48\u0e2d\u0e04\u0e48\u0e32 $c$ \u0e04\u0e37\u0e2d\u0e02\u0e19\u0e32\u0e14\u0e02\u0e2d\u0e07\u0e01\u0e49\u0e32\u0e27"
   ]
  },
  {
   "cell_type": "code",
   "execution_count": null,
   "metadata": {
    "colab": {
     "base_uri": "https://localhost:8080/"
    },
    "id": "GJp7DBCUQ9O5",
    "outputId": "e6ba097c-d7ca-4a3b-ff4d-acb7cd75cef9"
   },
   "outputs": [
    {
     "name": "stdout",
     "output_type": "stream",
     "text": [
      "i=0\n",
      "i=2\n",
      "i=4\n",
      "i=6\n",
      "i=8\n",
      "i=10\n",
      "i=12\n",
      "i=14\n",
      "i=16\n",
      "i=18\n",
      "i=20\n"
     ]
    }
   ],
   "source": [
    "# \u0e01\u0e49\u0e32\u0e27\u0e21\u0e35\u0e02\u0e19\u0e32\u0e14\u0e40\u0e17\u0e48\u0e32\u0e01\u0e31\u0e1a 2\n",
    "for i in range(0, 21, 2):\n",
    "    print(f\"{i=}\")"
   ]
  },
  {
   "cell_type": "markdown",
   "metadata": {
    "id": "x6qkLMplQ9O8"
   },
   "source": [
    "- \u0e02\u0e49\u0e2d\u0e14\u0e35\u0e02\u0e2d\u0e07\u0e01\u0e32\u0e23\u0e43\u0e0a\u0e49\u0e04\u0e33\u0e2a\u0e31\u0e48\u0e07 `range` \u0e17\u0e35\u0e48\u0e01\u0e33\u0e2b\u0e19\u0e14\u0e02\u0e19\u0e32\u0e14\u0e02\u0e2d\u0e07\u0e01\u0e49\u0e32\u0e27\u0e44\u0e14\u0e49 \u0e01\u0e47\u0e04\u0e37\u0e2d \u0e40\u0e23\u0e32\u0e2a\u0e32\u0e21\u0e32\u0e23\u0e16\u0e44\u0e25\u0e48 index \u0e22\u0e49\u0e2d\u0e19\u0e2b\u0e25\u0e31\u0e07\u0e44\u0e14\u0e49\u0e14\u0e49\u0e27\u0e22 \u0e40\u0e0a\u0e48\u0e19"
   ]
  },
  {
   "cell_type": "code",
   "execution_count": null,
   "metadata": {
    "colab": {
     "base_uri": "https://localhost:8080/"
    },
    "id": "8czmylxTQ9O9",
    "outputId": "b86d6442-2b4c-4fc5-9339-d371b31befde"
   },
   "outputs": [
    {
     "name": "stdout",
     "output_type": "stream",
     "text": [
      "10\n",
      "9\n",
      "8\n",
      "7\n",
      "6\n",
      "5\n",
      "4\n",
      "3\n",
      "2\n",
      "1\n"
     ]
    }
   ],
   "source": [
    "# \u0e01\u0e49\u0e32\u0e27\u0e21\u0e35\u0e02\u0e19\u0e32\u0e14\u0e15\u0e34\u0e14\u0e25\u0e1a \u0e41\u0e1b\u0e25\u0e27\u0e48\u0e32\u0e40\u0e14\u0e34\u0e19\u0e16\u0e2d\u0e22\u0e2b\u0e25\u0e31\u0e07\n",
    "for i in range(10, 0, -1):\n",
    "    print(i)\n",
    "    \n",
    "# \u0e2a\u0e31\u0e07\u0e40\u0e01\u0e15\u0e27\u0e48\u0e32\u0e25\u0e39\u0e1b\u0e1f\u0e2d\u0e23\u0e4c\u0e08\u0e30\u0e2b\u0e22\u0e38\u0e14\u0e17\u0e33\u0e07\u0e32\u0e19\u0e40\u0e21\u0e37\u0e48\u0e2d\u0e04\u0e48\u0e32 index i = 0 \u0e17\u0e33\u0e43\u0e2b\u0e49\u0e44\u0e21\u0e48\u0e1e\u0e34\u0e21\u0e1e\u0e4c\u0e04\u0e48\u0e32 0 \u0e2d\u0e2d\u0e01\u0e21\u0e32\u0e17\u0e32\u0e07\u0e2b\u0e19\u0e49\u0e32\u0e08\u0e2d"
   ]
  },
  {
   "cell_type": "markdown",
   "metadata": {
    "id": "RYeObuj2Q9PA"
   },
   "source": [
    "### \u0e41\u0e1a\u0e1a\u0e1d\u0e36\u0e01\u0e2b\u0e31\u0e14 6.2"
   ]
  },
  {
   "cell_type": "markdown",
   "metadata": {
    "id": "VtrY7sSjQ9PB"
   },
   "source": [
    "1. \u0e08\u0e07\u0e27\u0e19\u0e25\u0e39\u0e1b\u0e04\u0e48\u0e32 index `i` \u0e08\u0e32\u0e01\u0e04\u0e48\u0e32 1 \u0e16\u0e36\u0e07 20 \u0e41\u0e25\u0e49\u0e27\u0e1e\u0e34\u0e21\u0e1e\u0e4c\u0e04\u0e48\u0e32\u0e02\u0e2d\u0e07 `2 * i` \u0e2d\u0e2d\u0e01\u0e21\u0e32\u0e17\u0e32\u0e07\u0e2b\u0e19\u0e49\u0e32\u0e08\u0e2d"
   ]
  },
  {
   "cell_type": "code",
   "execution_count": null,
   "metadata": {
    "id": "aoy2BnGCQ9PC"
   },
   "outputs": [
    {
     "name": "stdout",
     "output_type": "stream",
     "text": [
      "2\n",
      "4\n",
      "6\n",
      "8\n",
      "10\n",
      "12\n",
      "14\n",
      "16\n",
      "18\n",
      "20\n",
      "22\n",
      "24\n",
      "26\n",
      "28\n",
      "30\n",
      "32\n",
      "34\n",
      "36\n",
      "38\n",
      "40\n"
     ]
    }
   ],
   "source": [
    "# \u0e27\u0e19\u0e25\u0e39\u0e1b\u0e04\u0e48\u0e32 index i \u0e08\u0e32\u0e01 1 \u0e16\u0e36\u0e07 20\n",
    "for i in range(1, 21):\n",
    "    # \u0e1e\u0e34\u0e21\u0e1e\u0e4c\u0e04\u0e48\u0e32 2 * i \u0e2d\u0e2d\u0e01\u0e17\u0e32\u0e07\u0e2b\u0e19\u0e49\u0e32\u0e08\u0e2d\n",
    "    print(2 * i)"
   ]
  },
  {
   "cell_type": "markdown",
   "metadata": {
    "id": "rJazBtrwQ9PF"
   },
   "source": [
    "2. \u0e08\u0e07\u0e27\u0e19\u0e25\u0e39\u0e1b\u0e04\u0e48\u0e32 index `i` \u0e08\u0e32\u0e01\u0e04\u0e48\u0e32 100 \u0e08\u0e19\u0e16\u0e36\u0e07 10 \u0e41\u0e25\u0e49\u0e27\u0e1e\u0e34\u0e21\u0e1e\u0e4c\u0e04\u0e48\u0e32 `i / 10` \u0e2d\u0e2d\u0e01\u0e21\u0e32\u0e17\u0e32\u0e07\u0e2b\u0e19\u0e49\u0e32\u0e08\u0e2d"
   ]
  },
  {
   "cell_type": "code",
   "execution_count": null,
   "metadata": {
    "id": "fOSDff2yQ9PG"
   },
   "outputs": [
    {
     "name": "stdout",
     "output_type": "stream",
     "text": [
      "10.0\n",
      "9.9\n",
      "9.8\n",
      "9.7\n",
      "9.6\n",
      "9.5\n",
      "9.4\n",
      "9.3\n",
      "9.2\n",
      "9.1\n",
      "9.0\n",
      "8.9\n",
      "8.8\n",
      "8.7\n",
      "8.6\n",
      "8.5\n",
      "8.4\n",
      "8.3\n",
      "8.2\n",
      "8.1\n",
      "8.0\n",
      "7.9\n",
      "7.8\n",
      "7.7\n",
      "7.6\n",
      "7.5\n",
      "7.4\n",
      "7.3\n",
      "7.2\n",
      "7.1\n",
      "7.0\n",
      "6.9\n",
      "6.8\n",
      "6.7\n",
      "6.6\n",
      "6.5\n",
      "6.4\n",
      "6.3\n",
      "6.2\n",
      "6.1\n",
      "6.0\n",
      "5.9\n",
      "5.8\n",
      "5.7\n",
      "5.6\n",
      "5.5\n",
      "5.4\n",
      "5.3\n",
      "5.2\n",
      "5.1\n",
      "5.0\n",
      "4.9\n",
      "4.8\n",
      "4.7\n",
      "4.6\n",
      "4.5\n",
      "4.4\n",
      "4.3\n",
      "4.2\n",
      "4.1\n",
      "4.0\n",
      "3.9\n",
      "3.8\n",
      "3.7\n",
      "3.6\n",
      "3.5\n",
      "3.4\n",
      "3.3\n",
      "3.2\n",
      "3.1\n",
      "3.0\n",
      "2.9\n",
      "2.8\n",
      "2.7\n",
      "2.6\n",
      "2.5\n",
      "2.4\n",
      "2.3\n",
      "2.2\n",
      "2.1\n",
      "2.0\n",
      "1.9\n",
      "1.8\n",
      "1.7\n",
      "1.6\n",
      "1.5\n",
      "1.4\n",
      "1.3\n",
      "1.2\n",
      "1.1\n",
      "1.0\n"
     ]
    }
   ],
   "source": [
    "# \u0e27\u0e19\u0e25\u0e39\u0e1b\u0e04\u0e48\u0e32 index i \u0e08\u0e32\u0e01 100 \u0e08\u0e19\u0e16\u0e36\u0e07 10\n",
    "for i in range(100, 9, -1):\n",
    "    # \u0e1e\u0e34\u0e21\u0e1e\u0e4c\u0e04\u0e48\u0e32 i / 10 \u0e2d\u0e2d\u0e01\u0e21\u0e32\u0e17\u0e32\u0e07\u0e2b\u0e19\u0e49\u0e32\u0e08\u0e2d\n",
    "    print(i / 10)"
   ]
  },
  {
   "cell_type": "markdown",
   "metadata": {
    "id": "LNa_qbUPQ9PI"
   },
   "source": [
    "3. \u0e08\u0e07\u0e27\u0e19\u0e25\u0e39\u0e1b\u0e04\u0e48\u0e32 index `i` \u0e08\u0e32\u0e01\u0e04\u0e48\u0e32 0 \u0e16\u0e36\u0e07 `len(student_heights) - 1` \u0e41\u0e25\u0e30\u0e41\u0e1b\u0e25\u0e07\u0e2b\u0e19\u0e48\u0e27\u0e22\u0e04\u0e27\u0e32\u0e21\u0e2a\u0e39\u0e07\u0e02\u0e2d\u0e07\u0e19\u0e31\u0e01\u0e40\u0e23\u0e35\u0e22\u0e19\u0e41\u0e15\u0e48\u0e25\u0e30\u0e04\u0e19\u0e08\u0e32\u0e01\u0e2b\u0e19\u0e48\u0e27\u0e22\u0e40\u0e0b\u0e19\u0e15\u0e34\u0e40\u0e21\u0e15\u0e23\u0e40\u0e1b\u0e47\u0e19\u0e2b\u0e19\u0e48\u0e27\u0e22\u0e40\u0e21\u0e15\u0e23 [\u0e04\u0e33\u0e43\u0e1a\u0e49: 100 \u0e40\u0e0b\u0e19\u0e15\u0e34\u0e40\u0e21\u0e15\u0e23 = 1 \u0e40\u0e21\u0e15\u0e23]"
   ]
  },
  {
   "cell_type": "code",
   "execution_count": null,
   "metadata": {
    "id": "iPywvzwDQ9PJ"
   },
   "outputs": [
    {
     "name": "stdout",
     "output_type": "stream",
     "text": [
      "1.635\n",
      "1.5\n",
      "1.67\n",
      "1.6125\n",
      "1.7\n"
     ]
    }
   ],
   "source": [
    "student_heights = [163.5, 150.0, 167.0, 161.25, 170.0]\n",
    "\n",
    "for i in range(len(student_heights)):\n",
    "    print(student_heights[i] * 0.01)"
   ]
  },
  {
   "cell_type": "markdown",
   "metadata": {
    "id": "-Jf6ADDIQ9PM"
   },
   "source": [
    "4. \u0e08\u0e07\u0e27\u0e19\u0e25\u0e39\u0e1b\u0e40\u0e1e\u0e37\u0e48\u0e2d\u0e41\u0e2a\u0e14\u0e07\u0e2a\u0e39\u0e15\u0e23\u0e04\u0e39\u0e13\u0e41\u0e21\u0e48 3 \u0e44\u0e25\u0e48\u0e15\u0e31\u0e49\u0e07\u0e41\u0e15\u0e48 $3 \\times 1$ \u0e08\u0e19\u0e16\u0e36\u0e07 $3 \\times 12$ \u0e42\u0e14\u0e22\u0e08\u0e30\u0e44\u0e14\u0e49\u0e1c\u0e25\u0e25\u0e31\u0e1e\u0e18\u0e4c\u0e14\u0e31\u0e07\u0e19\u0e35\u0e49\n",
    "\n",
    "```\n",
    "3 * 1 = 3\n",
    "3 * 2 = 6\n",
    "3 * 3 = 9\n",
    ":\n",
    ":\n",
    ":\n",
    "3 * 12 = 36\n",
    "```"
   ]
  },
  {
   "cell_type": "code",
   "execution_count": null,
   "metadata": {
    "colab": {
     "base_uri": "https://localhost:8080/"
    },
    "id": "8kfYlaf-Q9PM",
    "outputId": "f105c694-49be-4972-c264-16c2556f3bac"
   },
   "outputs": [
    {
     "name": "stdout",
     "output_type": "stream",
     "text": [
      "3 * 1 = 3\n",
      "3 * 2 = 6\n",
      "3 * 3 = 9\n",
      "3 * 4 = 12\n",
      "3 * 5 = 15\n",
      "3 * 6 = 18\n",
      "3 * 7 = 21\n",
      "3 * 8 = 24\n",
      "3 * 9 = 27\n",
      "3 * 10 = 30\n",
      "3 * 11 = 33\n",
      "3 * 12 = 36\n"
     ]
    }
   ],
   "source": [
    "# \u0e27\u0e19\u0e25\u0e39\u0e1b\u0e04\u0e48\u0e32 index i \u0e08\u0e32\u0e01 1 \u0e16\u0e36\u0e07 12\n",
    "for i in range(1, 13):\n",
    "    print(3, \"*\", i, \"=\", 3 * i)"
   ]
  },
  {
   "cell_type": "markdown",
   "metadata": {
    "id": "fEhulI74Q9PO"
   },
   "source": [
    "### \u0e25\u0e39\u0e1b\u0e0b\u0e49\u0e2d\u0e19\u0e25\u0e39\u0e1b (loop embedding)"
   ]
  },
  {
   "cell_type": "markdown",
   "metadata": {
    "id": "dVvGMKYBQ9PP"
   },
   "source": [
    "- \u0e40\u0e23\u0e32\u0e2a\u0e32\u0e21\u0e32\u0e23\u0e16\u0e40\u0e02\u0e35\u0e22\u0e19\u0e25\u0e39\u0e1b\u0e0b\u0e49\u0e2d\u0e19\u0e25\u0e39\u0e1b\u0e44\u0e14\u0e49\u0e14\u0e49\u0e27\u0e22 \u0e2b\u0e32\u0e01\u0e27\u0e48\u0e32\u0e42\u0e1b\u0e23\u0e41\u0e01\u0e23\u0e21\u0e02\u0e2d\u0e07\u0e40\u0e23\u0e32\u0e21\u0e35\u0e04\u0e27\u0e32\u0e21\u0e0b\u0e31\u0e1a\u0e0b\u0e49\u0e2d\u0e19\u0e01\u0e27\u0e48\u0e32\u0e25\u0e39\u0e1b\u0e40\u0e14\u0e35\u0e22\u0e27\n",
    "- \u0e40\u0e0a\u0e48\u0e19 \u0e40\u0e23\u0e32\u0e2a\u0e32\u0e21\u0e32\u0e23\u0e16\u0e27\u0e19\u0e25\u0e39\u0e1b\u0e40\u0e1e\u0e37\u0e48\u0e2d\u0e44\u0e25\u0e48\u0e2a\u0e39\u0e15\u0e23\u0e04\u0e39\u0e13\u0e41\u0e21\u0e48 3 \u0e16\u0e36\u0e07\u0e41\u0e21\u0e48 5 \u0e44\u0e14\u0e49\u0e14\u0e31\u0e07\u0e19\u0e35\u0e49\u0e04\u0e23\u0e31\u0e1a"
   ]
  },
  {
   "cell_type": "code",
   "execution_count": null,
   "metadata": {
    "colab": {
     "base_uri": "https://localhost:8080/"
    },
    "id": "jL3U1XV9Q9PQ",
    "outputId": "520a8119-6c11-4140-e85e-cc64dc605bb1"
   },
   "outputs": [
    {
     "name": "stdout",
     "output_type": "stream",
     "text": [
      "Multiplication of 3\n",
      "3 * 1 = 3\n",
      "3 * 2 = 6\n",
      "3 * 3 = 9\n",
      "3 * 4 = 12\n",
      "3 * 5 = 15\n",
      "3 * 6 = 18\n",
      "3 * 7 = 21\n",
      "3 * 8 = 24\n",
      "3 * 9 = 27\n",
      "3 * 10 = 30\n",
      "3 * 11 = 33\n",
      "3 * 12 = 36\n",
      "\n",
      "Multiplication of 4\n",
      "4 * 1 = 4\n",
      "4 * 2 = 8\n",
      "4 * 3 = 12\n",
      "4 * 4 = 16\n",
      "4 * 5 = 20\n",
      "4 * 6 = 24\n",
      "4 * 7 = 28\n",
      "4 * 8 = 32\n",
      "4 * 9 = 36\n",
      "4 * 10 = 40\n",
      "4 * 11 = 44\n",
      "4 * 12 = 48\n",
      "\n",
      "Multiplication of 5\n",
      "5 * 1 = 5\n",
      "5 * 2 = 10\n",
      "5 * 3 = 15\n",
      "5 * 4 = 20\n",
      "5 * 5 = 25\n",
      "5 * 6 = 30\n",
      "5 * 7 = 35\n",
      "5 * 8 = 40\n",
      "5 * 9 = 45\n",
      "5 * 10 = 50\n",
      "5 * 11 = 55\n",
      "5 * 12 = 60\n",
      "\n"
     ]
    }
   ],
   "source": [
    "# \u0e27\u0e19\u0e25\u0e39\u0e1b index m \u0e40\u0e1e\u0e37\u0e48\u0e2d\u0e44\u0e25\u0e48\u0e41\u0e21\u0e48\u0e2a\u0e39\u0e15\u0e23\u0e04\u0e39\u0e13\u0e08\u0e32\u0e01\u0e41\u0e21\u0e48 3 \u0e16\u0e36\u0e07\u0e41\u0e21\u0e48 5\n",
    "for m in range(3, 6):\n",
    "    print('Multiplication of', m)\n",
    "    # \u0e27\u0e19\u0e25\u0e39\u0e1b index i \u0e40\u0e1e\u0e37\u0e48\u0e2d\u0e44\u0e25\u0e48\u0e15\u0e31\u0e27\u0e04\u0e39\u0e13\u0e08\u0e32\u0e01 1 \u0e16\u0e36\u0e07 12\n",
    "    for i in range(1, 13):\n",
    "        print(m, '*', i, '=', m * i)\n",
    "    # \u0e1e\u0e34\u0e21\u0e1e\u0e4c\u0e1a\u0e23\u0e23\u0e17\u0e31\u0e14\u0e43\u0e2b\u0e21\u0e48\u0e04\u0e31\u0e48\u0e19\u0e23\u0e30\u0e2b\u0e27\u0e48\u0e32\u0e07\u0e41\u0e21\u0e48\n",
    "    print()"
   ]
  },
  {
   "cell_type": "markdown",
   "metadata": {
    "id": "F9roSM7sQ9PR"
   },
   "source": [
    "- \u0e02\u0e49\u0e2d\u0e2a\u0e31\u0e07\u0e40\u0e01\u0e15\u0e08\u0e32\u0e01\u0e01\u0e32\u0e23\u0e27\u0e19\u0e25\u0e39\u0e1b\u0e1f\u0e2d\u0e23\u0e4c\u0e43\u0e19\u0e01\u0e32\u0e23\u0e44\u0e25\u0e48\u0e41\u0e21\u0e48\u0e2a\u0e39\u0e15\u0e23\u0e04\u0e39\u0e13\u0e01\u0e47\u0e04\u0e37\u0e2d\n",
    "  1. \u0e43\u0e19\u0e25\u0e39\u0e1b\u0e19\u0e2d\u0e01 \u0e40\u0e23\u0e32\u0e08\u0e30\u0e27\u0e19\u0e25\u0e39\u0e1b index \u0e02\u0e2d\u0e07\u0e41\u0e21\u0e48\u0e2a\u0e39\u0e15\u0e23\u0e04\u0e39\u0e13\u0e01\u0e48\u0e2d\u0e19 \u0e40\u0e0a\u0e48\u0e19 \u0e41\u0e21\u0e48 3 \u0e16\u0e36\u0e07\u0e41\u0e21\u0e48 5 \u0e40\u0e1b\u0e47\u0e19\u0e15\u0e49\u0e19\n",
    "  2. \u0e2a\u0e48\u0e27\u0e19\u0e25\u0e39\u0e1b\u0e02\u0e49\u0e32\u0e07\u0e43\u0e19 \u0e40\u0e23\u0e32\u0e08\u0e30\u0e27\u0e19\u0e25\u0e39\u0e1b index \u0e02\u0e2d\u0e07\u0e15\u0e31\u0e27\u0e04\u0e39\u0e13\u0e43\u0e19\u0e41\u0e15\u0e48\u0e25\u0e30\u0e41\u0e21\u0e48 \u0e04\u0e37\u0e2d\u0e15\u0e31\u0e49\u0e07\u0e41\u0e15\u0e48 1 \u0e16\u0e36\u0e07 12\n",
    "- \u0e19\u0e31\u0e48\u0e19\u0e41\u0e2a\u0e14\u0e07\u0e27\u0e48\u0e32 \u0e16\u0e49\u0e32\u0e40\u0e23\u0e32\u0e08\u0e30\u0e40\u0e02\u0e35\u0e22\u0e19\u0e42\u0e1b\u0e23\u0e41\u0e01\u0e23\u0e21\u0e17\u0e35\u0e48\u0e2a\u0e25\u0e31\u0e1a\u0e0b\u0e31\u0e1a\u0e0b\u0e49\u0e2d\u0e19\u0e44\u0e14\u0e49 \u0e40\u0e23\u0e32\u0e08\u0e30\u0e15\u0e49\u0e2d\u0e07\u0e41\u0e22\u0e01\u0e41\u0e22\u0e30\u0e41\u0e25\u0e30\u0e16\u0e2d\u0e14\u0e25\u0e39\u0e1b\u0e2d\u0e2d\u0e01\u0e40\u0e1b\u0e47\u0e19\u0e0a\u0e31\u0e49\u0e19\u0e19\u0e2d\u0e01\u0e41\u0e25\u0e30\u0e0a\u0e31\u0e49\u0e19\u0e43\u0e19\u0e43\u0e2b\u0e49\u0e2d\u0e2d\u0e01\u0e04\u0e23\u0e31\u0e1a"
   ]
  },
  {
   "cell_type": "markdown",
   "metadata": {
    "id": "qZOiegQdQ9PS"
   },
   "source": [
    "### \u0e41\u0e1a\u0e1a\u0e1d\u0e36\u0e01\u0e2b\u0e31\u0e14 6.3"
   ]
  },
  {
   "cell_type": "markdown",
   "metadata": {
    "id": "Q-eFBSFJQ9PT"
   },
   "source": [
    "1. \u0e08\u0e07\u0e40\u0e02\u0e35\u0e22\u0e19\u0e42\u0e1b\u0e23\u0e41\u0e01\u0e23\u0e21\u0e40\u0e1e\u0e37\u0e48\u0e2d\u0e44\u0e25\u0e48\u0e41\u0e21\u0e48\u0e2a\u0e39\u0e15\u0e23\u0e04\u0e39\u0e13\u0e08\u0e32\u0e01\u0e41\u0e21\u0e48 11 \u0e16\u0e36\u0e07\u0e41\u0e21\u0e48 15 \u0e42\u0e14\u0e22\u0e41\u0e15\u0e48\u0e25\u0e30\u0e41\u0e21\u0e48\u0e08\u0e30\u0e04\u0e39\u0e13\u0e01\u0e31\u0e1a\u0e15\u0e31\u0e27\u0e40\u0e25\u0e02\u0e15\u0e31\u0e49\u0e07\u0e41\u0e15\u0e48 1 \u0e08\u0e19\u0e16\u0e36\u0e07 12"
   ]
  },
  {
   "cell_type": "code",
   "execution_count": null,
   "metadata": {
    "id": "aXdRxuIdQ9PT"
   },
   "outputs": [
    {
     "name": "stdout",
     "output_type": "stream",
     "text": [
      "11 * 1 = 11\n",
      "11 * 2 = 22\n",
      "11 * 3 = 33\n",
      "11 * 4 = 44\n",
      "11 * 5 = 55\n",
      "11 * 6 = 66\n",
      "11 * 7 = 77\n",
      "11 * 8 = 88\n",
      "11 * 9 = 99\n",
      "11 * 10 = 110\n",
      "11 * 11 = 121\n",
      "11 * 12 = 132\n",
      "12 * 1 = 12\n",
      "12 * 2 = 24\n",
      "12 * 3 = 36\n",
      "12 * 4 = 48\n",
      "12 * 5 = 60\n",
      "12 * 6 = 72\n",
      "12 * 7 = 84\n",
      "12 * 8 = 96\n",
      "12 * 9 = 108\n",
      "12 * 10 = 120\n",
      "12 * 11 = 132\n",
      "12 * 12 = 144\n",
      "13 * 1 = 13\n",
      "13 * 2 = 26\n",
      "13 * 3 = 39\n",
      "13 * 4 = 52\n",
      "13 * 5 = 65\n",
      "13 * 6 = 78\n",
      "13 * 7 = 91\n",
      "13 * 8 = 104\n",
      "13 * 9 = 117\n",
      "13 * 10 = 130\n",
      "13 * 11 = 143\n",
      "13 * 12 = 156\n",
      "14 * 1 = 14\n",
      "14 * 2 = 28\n",
      "14 * 3 = 42\n",
      "14 * 4 = 56\n",
      "14 * 5 = 70\n",
      "14 * 6 = 84\n",
      "14 * 7 = 98\n",
      "14 * 8 = 112\n",
      "14 * 9 = 126\n",
      "14 * 10 = 140\n",
      "14 * 11 = 154\n",
      "14 * 12 = 168\n",
      "15 * 1 = 15\n",
      "15 * 2 = 30\n",
      "15 * 3 = 45\n",
      "15 * 4 = 60\n",
      "15 * 5 = 75\n",
      "15 * 6 = 90\n",
      "15 * 7 = 105\n",
      "15 * 8 = 120\n",
      "15 * 9 = 135\n",
      "15 * 10 = 150\n",
      "15 * 11 = 165\n",
      "15 * 12 = 180\n"
     ]
    }
   ],
   "source": [
    "for m in range(11,16):\n",
    "    for i in range(1,13):\n",
    "        print(f\"{m} * {i} = {m * i}\")"
   ]
  },
  {
   "cell_type": "markdown",
   "metadata": {
    "id": "73_-bNvhQ9PV"
   },
   "source": [
    "2. \u0e08\u0e07\u0e40\u0e02\u0e35\u0e22\u0e19\u0e42\u0e1b\u0e23\u0e41\u0e01\u0e23\u0e21\u0e40\u0e1e\u0e37\u0e48\u0e2d\u0e41\u0e2a\u0e14\u0e07\u0e08\u0e31\u0e15\u0e38\u0e23\u0e31\u0e2a\u0e15\u0e31\u0e27\u0e40\u0e25\u0e02 1 \u0e16\u0e36\u0e07 9 \u0e42\u0e14\u0e22\u0e43\u0e0a\u0e49\u0e25\u0e39\u0e1b\u0e0b\u0e49\u0e2d\u0e19\u0e01\u0e31\u0e19 2 \u0e25\u0e39\u0e1b \u0e0b\u0e36\u0e48\u0e07\u0e1c\u0e25\u0e25\u0e31\u0e1e\u0e18\u0e4c\u0e08\u0e30\u0e40\u0e1b\u0e47\u0e19\u0e14\u0e31\u0e07\u0e15\u0e48\u0e2d\u0e44\u0e1b\u0e19\u0e35\u0e49\n",
    "\n",
    "```\n",
    "1 2 3\n",
    "4 5 6\n",
    "7 8 9\n",
    "```"
   ]
  },
  {
   "cell_type": "code",
   "execution_count": null,
   "metadata": {
    "colab": {
     "base_uri": "https://localhost:8080/"
    },
    "id": "f8LeF9ssQ9PV",
    "outputId": "75457c9f-8e8a-45df-aa7a-79aa2406e967"
   },
   "outputs": [
    {
     "name": "stdout",
     "output_type": "stream",
     "text": [
      "1 2 3 \n",
      "4 5 6 \n",
      "7 8 9 \n"
     ]
    }
   ],
   "source": [
    "for i in range(0, 3):\n",
    "    for j in range(1, 4):\n",
    "        print(3 * i + j, '', end='')\n",
    "    print()"
   ]
  },
  {
   "cell_type": "markdown",
   "metadata": {
    "id": "3lUPeiO2Q9PX"
   },
   "source": [
    "3. \u0e08\u0e07\u0e40\u0e02\u0e35\u0e22\u0e19\u0e42\u0e1b\u0e23\u0e41\u0e01\u0e23\u0e21\u0e40\u0e1e\u0e37\u0e48\u0e2d\u0e41\u0e2a\u0e14\u0e07\u0e08\u0e31\u0e15\u0e38\u0e23\u0e31\u0e2a\u0e15\u0e31\u0e27\u0e40\u0e25\u0e02 1 \u0e16\u0e36\u0e07 27 \u0e42\u0e14\u0e22\u0e43\u0e0a\u0e49\u0e25\u0e39\u0e1b\u0e0b\u0e49\u0e2d\u0e19\u0e01\u0e31\u0e19 3 \u0e25\u0e39\u0e1b \u0e0b\u0e36\u0e48\u0e07\u0e1c\u0e25\u0e25\u0e31\u0e1e\u0e18\u0e4c\u0e08\u0e30\u0e40\u0e1b\u0e47\u0e19\u0e14\u0e31\u0e07\u0e19\u0e35\u0e49\n",
    "\n",
    "```\n",
    "1 2 3\n",
    "4 5 6\n",
    "7 8 9\n",
    "\n",
    "10 11 12\n",
    "13 14 15\n",
    "16 17 18\n",
    "\n",
    "19 20 21\n",
    "22 23 24\n",
    "25 26 27\n",
    "```\n",
    "\n",
    "   **\u0e2b\u0e21\u0e32\u0e22\u0e40\u0e2b\u0e15\u0e38:** \u0e40\u0e23\u0e32\u0e2a\u0e32\u0e21\u0e32\u0e23\u0e16\u0e23\u0e30\u0e1a\u0e38\u0e43\u0e2b\u0e49\u0e04\u0e33\u0e2a\u0e31\u0e48\u0e07 `print` \u0e44\u0e21\u0e48\u0e15\u0e49\u0e2d\u0e07\u0e02\u0e36\u0e49\u0e19\u0e1a\u0e23\u0e23\u0e17\u0e31\u0e14\u0e43\u0e2b\u0e21\u0e48\u0e2b\u0e25\u0e31\u0e07\u0e08\u0e32\u0e01\u0e1e\u0e34\u0e21\u0e1e\u0e4c\u0e04\u0e48\u0e32\u0e2d\u0e2d\u0e01\u0e2b\u0e19\u0e49\u0e32\u0e08\u0e2d\u0e44\u0e14\u0e49\u0e14\u0e49\u0e27\u0e22\u0e01\u0e32\u0e23\u0e23\u0e30\u0e1a\u0e38 `end=''` \u0e44\u0e27\u0e49\u0e43\u0e19\u0e27\u0e07\u0e40\u0e25\u0e47\u0e1a\u0e02\u0e2d\u0e07 `print` \u0e04\u0e23\u0e31\u0e1a"
   ]
  },
  {
   "cell_type": "code",
   "execution_count": null,
   "metadata": {
    "colab": {
     "base_uri": "https://localhost:8080/"
    },
    "id": "vraTQG9gQ9PY",
    "outputId": "1ff287b6-2d6f-448e-8add-459d7c8fa194"
   },
   "outputs": [
    {
     "name": "stdout",
     "output_type": "stream",
     "text": [
      "1 2 3 \n",
      "4 5 6 \n",
      "7 8 9 \n",
      "\n",
      "10 11 12 \n",
      "13 14 15 \n",
      "16 17 18 \n",
      "\n",
      "19 20 21 \n",
      "22 23 24 \n",
      "25 26 27 \n",
      "\n"
     ]
    }
   ],
   "source": [
    "for i in range(3):\n",
    "    for j in range(3):\n",
    "        for k in range(3):\n",
    "            print(9 * i + 3 * j + k + 1, '', end='')\n",
    "        print()\n",
    "    print()"
   ]
  },
  {
   "cell_type": "markdown",
   "metadata": {
    "id": "d4XrWBJLQ9Pa"
   },
   "source": [
    "-----"
   ]
  },
  {
   "cell_type": "markdown",
   "metadata": {
    "id": "TMyTusEGQ9Pb"
   },
   "source": [
    "## \u0e01\u0e34\u0e08\u0e01\u0e23\u0e23\u0e21 7: \u0e01\u0e32\u0e23\u0e01\u0e33\u0e2b\u0e19\u0e14\u0e40\u0e07\u0e37\u0e48\u0e2d\u0e19\u0e44\u0e02"
   ]
  },
  {
   "cell_type": "markdown",
   "metadata": {
    "id": "QpWfuLjhQ9Pc"
   },
   "source": [
    "- \u0e01\u0e34\u0e08\u0e01\u0e23\u0e23\u0e21\u0e2a\u0e38\u0e14\u0e17\u0e49\u0e32\u0e22\u0e2a\u0e33\u0e2b\u0e23\u0e31\u0e1a\u0e27\u0e31\u0e19\u0e19\u0e35\u0e49\u0e04\u0e37\u0e2d\u0e01\u0e32\u0e23\u0e01\u0e33\u0e2b\u0e19\u0e14\u0e40\u0e07\u0e37\u0e48\u0e2d\u0e19\u0e44\u0e02\u0e04\u0e23\u0e31\u0e1a\n",
    "- \u0e01\u0e32\u0e23\u0e01\u0e33\u0e2b\u0e19\u0e14\u0e40\u0e07\u0e37\u0e48\u0e2d\u0e19\u0e44\u0e02 (branching) \u0e43\u0e19\u0e20\u0e32\u0e29\u0e32\u0e44\u0e1e\u0e18\u0e2d\u0e19\u0e08\u0e30\u0e43\u0e0a\u0e49\u0e04\u0e33\u0e2a\u0e31\u0e48\u0e07 `if` (\u0e41\u0e1b\u0e25\u0e27\u0e48\u0e32 '\u0e16\u0e49\u0e32') \u0e04\u0e23\u0e31\u0e1a \u0e42\u0e14\u0e22\u0e08\u0e30\u0e21\u0e35\u0e23\u0e39\u0e1b\u0e41\u0e1a\u0e1a\u0e14\u0e31\u0e07\u0e19\u0e35\u0e49\n",
    "\n",
    "```python\n",
    "if <\u0e40\u0e07\u0e37\u0e48\u0e2d\u0e19\u0e44\u0e02>:\n",
    "    <\u0e01\u0e23\u0e30\u0e1a\u0e27\u0e19\u0e01\u0e32\u0e23>\n",
    "```\n",
    "\n",
    "- \u0e04\u0e2d\u0e21\u0e1e\u0e34\u0e27\u0e40\u0e15\u0e2d\u0e23\u0e4c\u0e08\u0e30\u0e17\u0e33\u0e01\u0e23\u0e30\u0e1a\u0e27\u0e19\u0e01\u0e32\u0e23\u0e17\u0e35\u0e48\u0e2d\u0e22\u0e39\u0e48\u0e43\u0e19\u0e14\u0e49\u0e32\u0e19\u0e43\u0e19 \u0e16\u0e49\u0e32\u0e2b\u0e32\u0e01\u0e27\u0e48\u0e32\u0e40\u0e07\u0e37\u0e48\u0e2d\u0e19\u0e44\u0e02\u0e17\u0e35\u0e48\u0e01\u0e33\u0e2b\u0e19\u0e14\u0e19\u0e35\u0e49\u0e40\u0e1b\u0e47\u0e19\u0e08\u0e23\u0e34\u0e07\n",
    "- \u0e08\u0e30\u0e2a\u0e31\u0e07\u0e40\u0e01\u0e15\u0e27\u0e48\u0e32\u0e01\u0e23\u0e30\u0e1a\u0e27\u0e19\u0e01\u0e32\u0e23\u0e19\u0e35\u0e49\u0e08\u0e30\u0e15\u0e49\u0e2d\u0e07\u0e22\u0e48\u0e2d\u0e2b\u0e19\u0e49\u0e32\u0e40\u0e2b\u0e21\u0e37\u0e2d\u0e19\u0e01\u0e31\u0e1a\u0e04\u0e33\u0e2a\u0e31\u0e48\u0e07\u0e25\u0e39\u0e1b `for` \u0e40\u0e25\u0e22\n",
    "  - \u0e19\u0e31\u0e48\u0e19\u0e40\u0e1b\u0e47\u0e19\u0e40\u0e1e\u0e23\u0e32\u0e30\u0e27\u0e48\u0e32\u0e01\u0e32\u0e23\u0e40\u0e27\u0e49\u0e19\u0e27\u0e23\u0e23\u0e04\u0e22\u0e48\u0e2d\u0e2b\u0e19\u0e49\u0e32\u0e08\u0e30\u0e40\u0e1b\u0e47\u0e19\u0e01\u0e32\u0e23\u0e1a\u0e2d\u0e01\u0e2a\u0e42\u0e04\u0e1b (scope) \u0e02\u0e2d\u0e07\u0e04\u0e33\u0e2a\u0e31\u0e48\u0e07 \u0e27\u0e48\u0e32\u0e40\u0e1b\u0e47\u0e19\u0e01\u0e23\u0e30\u0e1a\u0e27\u0e19\u0e01\u0e32\u0e23\u0e17\u0e35\u0e48\u0e2d\u0e22\u0e39\u0e48\u0e20\u0e32\u0e22\u0e43\u0e15\u0e49\u0e04\u0e33\u0e2a\u0e31\u0e48\u0e07\u0e17\u0e35\u0e48\u0e2d\u0e22\u0e39\u0e48\u0e14\u0e49\u0e32\u0e19\u0e19\u0e2d\u0e01\n",
    "  - \u0e01\u0e32\u0e23\u0e27\u0e19\u0e25\u0e39\u0e1b\u0e01\u0e47\u0e08\u0e30\u0e27\u0e19\u0e20\u0e32\u0e22\u0e43\u0e19 scope \u0e02\u0e2d\u0e07\u0e15\u0e31\u0e27\u0e40\u0e2d\u0e07\n",
    "  - \u0e01\u0e32\u0e23\u0e01\u0e33\u0e2b\u0e19\u0e14\u0e40\u0e07\u0e37\u0e48\u0e2d\u0e19\u0e44\u0e02\u0e01\u0e47\u0e08\u0e30\u0e17\u0e33\u0e07\u0e32\u0e19\u0e40\u0e09\u0e1e\u0e32\u0e30\u0e20\u0e32\u0e22\u0e43\u0e19 scope \u0e02\u0e2d\u0e07\u0e15\u0e31\u0e27\u0e40\u0e2d\u0e07\u0e40\u0e17\u0e48\u0e32\u0e19\u0e31\u0e49\u0e19\u0e04\u0e23\u0e31\u0e1a\n",
    "- \u0e40\u0e0a\u0e48\u0e19 \u0e42\u0e1b\u0e23\u0e41\u0e01\u0e23\u0e21\u0e14\u0e49\u0e32\u0e19\u0e25\u0e48\u0e32\u0e07\u0e19\u0e35\u0e49\u0e08\u0e30\u0e1e\u0e34\u0e21\u0e1e\u0e4c\u0e02\u0e49\u0e2d\u0e04\u0e27\u0e32\u0e21 `'Hurray!'` \u0e16\u0e49\u0e32\u0e2b\u0e32\u0e01\u0e27\u0e48\u0e32\u0e40\u0e07\u0e34\u0e19\u0e40\u0e14\u0e37\u0e2d\u0e19\u0e43\u0e19\u0e15\u0e31\u0e27\u0e41\u0e1b\u0e23 `salary` \u0e21\u0e35\u0e04\u0e48\u0e32\u0e21\u0e32\u0e01\u0e01\u0e27\u0e48\u0e32 10,000 \u0e1a\u0e32\u0e17"
   ]
  },
  {
   "cell_type": "code",
   "execution_count": null,
   "metadata": {
    "colab": {
     "base_uri": "https://localhost:8080/"
    },
    "id": "rma2bUcLQ9Pd",
    "outputId": "f56a4be2-5934-49b6-e9fe-d4e5e3ea9763"
   },
   "outputs": [
    {
     "name": "stdout",
     "output_type": "stream",
     "text": [
      "Hurray!\n"
     ]
    }
   ],
   "source": [
    "salary = 50000\n",
    "\n",
    "if salary > 10000:\n",
    "    print('Hurray!')"
   ]
  },
  {
   "cell_type": "markdown",
   "metadata": {
    "id": "DZhLkAHXQ9Pf"
   },
   "source": [
    "- \u0e17\u0e14\u0e25\u0e2d\u0e07\u0e40\u0e1b\u0e25\u0e35\u0e48\u0e22\u0e19\u0e04\u0e48\u0e32\u0e15\u0e31\u0e27\u0e40\u0e25\u0e02\u0e02\u0e2d\u0e07\u0e15\u0e31\u0e27\u0e41\u0e1b\u0e23 `salary` \u0e41\u0e25\u0e49\u0e27\u0e23\u0e31\u0e19\u0e43\u0e2b\u0e21\u0e48\u0e14\u0e39\u0e19\u0e30\u0e04\u0e23\u0e31\u0e1a"
   ]
  },
  {
   "cell_type": "markdown",
   "metadata": {
    "id": "te0OeuBSQ9Pf"
   },
   "source": [
    "### \u0e23\u0e39\u0e1b\u0e41\u0e1a\u0e1a\u0e02\u0e2d\u0e07\u0e40\u0e07\u0e37\u0e48\u0e2d\u0e19\u0e44\u0e02"
   ]
  },
  {
   "cell_type": "markdown",
   "metadata": {
    "id": "TVXVV7HMQ9Pg"
   },
   "source": [
    "- \u0e40\u0e23\u0e32\u0e2a\u0e32\u0e21\u0e32\u0e23\u0e16\u0e43\u0e0a\u0e49\u0e40\u0e04\u0e23\u0e37\u0e48\u0e2d\u0e07\u0e2b\u0e21\u0e32\u0e22\u0e40\u0e1b\u0e23\u0e35\u0e22\u0e1a\u0e40\u0e17\u0e35\u0e22\u0e1a\u0e17\u0e32\u0e07\u0e04\u0e13\u0e34\u0e15\u0e28\u0e32\u0e2a\u0e15\u0e23\u0e4c\u0e44\u0e14\u0e49\u0e40\u0e2b\u0e21\u0e37\u0e2d\u0e19\u0e43\u0e19\u0e27\u0e34\u0e0a\u0e32\u0e04\u0e13\u0e34\u0e15\u0e28\u0e32\u0e2a\u0e15\u0e23\u0e4c\u0e04\u0e23\u0e31\u0e1a\n",
    "\n",
    "| \u0e40\u0e04\u0e23\u0e37\u0e48\u0e2d\u0e07\u0e2b\u0e21\u0e32\u0e22 | \u0e04\u0e27\u0e32\u0e21\u0e2b\u0e21\u0e32\u0e22 |           \u0e15\u0e31\u0e27\u0e2d\u0e22\u0e48\u0e32\u0e07           |\n",
    "|:---------:|:--------:|:--------------------------:|\n",
    "|    `<`    |  \u0e19\u0e49\u0e2d\u0e22\u0e01\u0e27\u0e48\u0e32  |           `3 < 5`          |\n",
    "|    `>`    |  \u0e21\u0e32\u0e01\u0e01\u0e27\u0e48\u0e32  |           `5 > 3`          |\n",
    "|    `==`   |  \u0e40\u0e17\u0e48\u0e32\u0e01\u0e31\u0e1a   | `my_salary == your_salary` |\n",
    "|    `!=`   |  \u0e44\u0e21\u0e48\u0e40\u0e17\u0e48\u0e32\u0e01\u0e31\u0e1a | `my_salary != your_salary` |\n",
    "|    `>=`   |  \u0e21\u0e32\u0e01\u0e01\u0e27\u0e48\u0e32\u0e2b\u0e23\u0e37\u0e2d\u0e40\u0e17\u0e48\u0e32\u0e01\u0e31\u0e1a   | `my_salary >= your_salary` |\n",
    "|    `<=`   |  \u0e19\u0e49\u0e2d\u0e22\u0e01\u0e27\u0e48\u0e32\u0e2b\u0e23\u0e37\u0e2d\u0e40\u0e17\u0e48\u0e32\u0e01\u0e31\u0e1a   | `my_salary <= your_salary` |\n",
    "\n",
    "- \u0e16\u0e49\u0e32\u0e40\u0e23\u0e32\u0e25\u0e2d\u0e07\u0e1e\u0e34\u0e21\u0e1e\u0e4c\u0e04\u0e48\u0e32\u0e04\u0e27\u0e32\u0e21\u0e08\u0e23\u0e34\u0e07\u0e02\u0e2d\u0e07\u0e40\u0e07\u0e37\u0e48\u0e2d\u0e19\u0e44\u0e02\u0e2d\u0e2d\u0e01\u0e21\u0e32 \u0e40\u0e23\u0e32\u0e08\u0e30\u0e44\u0e14\u0e49\u0e40\u0e1b\u0e47\u0e19\u0e04\u0e48\u0e32 `True` \u0e2b\u0e23\u0e37\u0e2d `False` \u0e0b\u0e36\u0e48\u0e07\u0e04\u0e48\u0e32\u0e04\u0e27\u0e32\u0e21\u0e08\u0e23\u0e34\u0e07\u0e01\u0e47\u0e40\u0e1b\u0e47\u0e19\u0e02\u0e49\u0e2d\u0e21\u0e39\u0e25\u0e1b\u0e23\u0e30\u0e40\u0e20\u0e17\u0e2b\u0e19\u0e36\u0e48\u0e07\u0e40\u0e2b\u0e21\u0e37\u0e2d\u0e19\u0e01\u0e31\u0e19 \u0e40\u0e23\u0e35\u0e22\u0e01\u0e27\u0e48\u0e32 *\u0e04\u0e48\u0e32\u0e15\u0e23\u0e23\u0e01\u0e30* (boolean) \u0e04\u0e23\u0e31\u0e1a \u0e40\u0e0a\u0e48\u0e19"
   ]
  },
  {
   "cell_type": "code",
   "execution_count": null,
   "metadata": {
    "id": "zNw1-P5sQ9Ph"
   },
   "outputs": [
    {
     "name": "stdout",
     "output_type": "stream",
     "text": [
      "True\n",
      "False\n",
      "True\n",
      "True\n"
     ]
    }
   ],
   "source": [
    "print(0.5 > 0.3)        # True\n",
    "print(0.25 < -1.0)      # False\n",
    "print(1.25 == 1.25)     # True\n",
    "print(1.30 != -0.78)    # True"
   ]
  },
  {
   "cell_type": "markdown",
   "metadata": {
    "id": "-4Wgi11IQ9Po"
   },
   "source": [
    "- \u0e17\u0e31\u0e49\u0e07\u0e19\u0e35\u0e49\u0e40\u0e23\u0e32\u0e2a\u0e32\u0e21\u0e32\u0e23\u0e16\u0e43\u0e0a\u0e49\u0e40\u0e04\u0e23\u0e37\u0e48\u0e2d\u0e07\u0e2b\u0e21\u0e32\u0e22\u0e40\u0e1b\u0e23\u0e35\u0e22\u0e1a\u0e2a\u0e32\u0e21\u0e32\u0e23\u0e16\u0e43\u0e0a\u0e49\u0e44\u0e14\u0e49\u0e01\u0e31\u0e1a\u0e02\u0e49\u0e2d\u0e04\u0e27\u0e32\u0e21\u0e44\u0e14\u0e49\u0e14\u0e49\u0e27\u0e22\u0e19\u0e30\u0e04\u0e23\u0e31\u0e1a \u0e40\u0e0a\u0e48\u0e19"
   ]
  },
  {
   "cell_type": "code",
   "execution_count": null,
   "metadata": {
    "id": "FwxvFkMpQ9Ps"
   },
   "outputs": [
    {
     "name": "stdout",
     "output_type": "stream",
     "text": [
      "True\n",
      "True\n",
      "False\n"
     ]
    }
   ],
   "source": [
    "print('hello' == 'hello')       # True\n",
    "print('hello' != 'world')       # True\n",
    "print('hello' < 'alphabet')     # False -- \u0e04\u0e2d\u0e21\u0e1e\u0e34\u0e27\u0e40\u0e15\u0e2d\u0e23\u0e4c\u0e40\u0e23\u0e35\u0e22\u0e07\u0e25\u0e33\u0e14\u0e31\u0e1a\u0e02\u0e49\u0e2d\u0e04\u0e27\u0e32\u0e21\u0e15\u0e32\u0e21\u0e15\u0e31\u0e27\u0e2d\u0e31\u0e01\u0e29\u0e23"
   ]
  },
  {
   "cell_type": "markdown",
   "metadata": {
    "id": "qIZkbtmDQ9Px"
   },
   "source": [
    "- \u0e19\u0e2d\u0e01\u0e08\u0e32\u0e01\u0e19\u0e35\u0e49\u0e40\u0e23\u0e32\u0e22\u0e31\u0e07\u0e2a\u0e32\u0e21\u0e32\u0e23\u0e16\u0e43\u0e0a\u0e49\u0e15\u0e31\u0e27\u0e40\u0e0a\u0e37\u0e48\u0e2d\u0e21\u0e17\u0e32\u0e07\u0e15\u0e23\u0e23\u0e01\u0e28\u0e32\u0e2a\u0e15\u0e23\u0e4c\u0e44\u0e14\u0e49\u0e14\u0e49\u0e27\u0e22\u0e04\u0e23\u0e31\u0e1a\n",
    "\n",
    "| \u0e15\u0e31\u0e27\u0e40\u0e0a\u0e37\u0e48\u0e2d\u0e21    | \u0e04\u0e27\u0e32\u0e21\u0e2b\u0e21\u0e32\u0e22 |           \u0e15\u0e31\u0e27\u0e2d\u0e22\u0e48\u0e32\u0e07           |\n",
    "|:---------:|:--------:|:--------------------------:|\n",
    "|   `and`   |    \u0e41\u0e25\u0e30   |     `a == b and x == y`    |\n",
    "|    `or`   |    \u0e2b\u0e23\u0e37\u0e2d   |     `a != b or c != d`     |\n",
    "|   `not`   |    \u0e44\u0e21\u0e48    |    `not (a > b)`    |\n",
    "|   `( )`   |   \u0e27\u0e07\u0e40\u0e25\u0e47\u0e1a  | `(a == b) and not (c > d)` |"
   ]
  },
  {
   "cell_type": "code",
   "execution_count": null,
   "metadata": {
    "id": "VQHU1eViQ9Py"
   },
   "outputs": [
    {
     "name": "stdout",
     "output_type": "stream",
     "text": [
      "False\n",
      "True\n",
      "True\n"
     ]
    }
   ],
   "source": [
    "v1 = 100\n",
    "v2 = 200\n",
    "v3 = 300\n",
    "\n",
    "print(v1 == v2 and v2 == v3)                       # False and False = False\n",
    "print(v1 + v2 == v3 or v2 + v3 == v1)              # True or False = True\n",
    "print(not(v1 == v2 and v2 == v3) or v1 == v2)      # not(False and False) or False = True"
   ]
  },
  {
   "cell_type": "markdown",
   "metadata": {
    "id": "Ik6s7hTuQ9P1"
   },
   "source": [
    "### \u0e41\u0e1a\u0e1a\u0e1d\u0e36\u0e01\u0e2b\u0e31\u0e14 7.1"
   ]
  },
  {
   "cell_type": "markdown",
   "metadata": {
    "id": "RG1G-faeQ9P2"
   },
   "source": [
    "1. \u0e08\u0e07\u0e15\u0e31\u0e49\u0e07\u0e40\u0e07\u0e37\u0e48\u0e2d\u0e19\u0e44\u0e02\u0e40\u0e1e\u0e37\u0e48\u0e2d\u0e43\u0e2b\u0e49\u0e04\u0e2d\u0e21\u0e1e\u0e34\u0e27\u0e40\u0e15\u0e2d\u0e23\u0e4c\u0e1e\u0e34\u0e21\u0e1e\u0e4c\u0e02\u0e49\u0e2d\u0e04\u0e27\u0e32\u0e21\u0e27\u0e48\u0e32 `'You are tall.'` \u0e16\u0e49\u0e32\u0e2b\u0e32\u0e01\u0e27\u0e48\u0e32\u0e04\u0e27\u0e32\u0e21\u0e2a\u0e39\u0e07\u0e43\u0e19\u0e15\u0e31\u0e27\u0e41\u0e1b\u0e23 `my_height` \u0e21\u0e32\u0e01\u0e01\u0e27\u0e48\u0e32 170"
   ]
  },
  {
   "cell_type": "code",
   "execution_count": null,
   "metadata": {
    "id": "L6dIqZBIQ9P2"
   },
   "outputs": [],
   "source": [
    "my_height = 175\n",
    "\n",
    "if my_height <= 170:\n",
    "    print('You are tall.')"
   ]
  },
  {
   "cell_type": "markdown",
   "metadata": {
    "id": "VvHtnvykQ9P4"
   },
   "source": [
    "2. \u0e08\u0e07\u0e15\u0e31\u0e49\u0e07\u0e40\u0e07\u0e37\u0e48\u0e2d\u0e19\u0e44\u0e02\u0e40\u0e1e\u0e37\u0e48\u0e2d\u0e43\u0e2b\u0e49\u0e04\u0e2d\u0e21\u0e1e\u0e34\u0e27\u0e40\u0e15\u0e2d\u0e23\u0e4c\u0e1e\u0e34\u0e21\u0e1e\u0e4c\u0e02\u0e49\u0e2d\u0e04\u0e27\u0e32\u0e21\u0e27\u0e48\u0e32 `'You are weathy and tall.'` \u0e16\u0e49\u0e32\u0e2b\u0e32\u0e01\u0e27\u0e48\u0e32\u0e40\u0e07\u0e34\u0e19\u0e40\u0e14\u0e37\u0e2d\u0e19\u0e43\u0e19\u0e15\u0e31\u0e27\u0e41\u0e1b\u0e23 `my_salary` \u0e21\u0e32\u0e01\u0e01\u0e27\u0e48\u0e32 10000 \u0e41\u0e25\u0e30\u0e04\u0e27\u0e32\u0e21\u0e2a\u0e39\u0e07\u0e43\u0e19\u0e15\u0e31\u0e27\u0e41\u0e1b\u0e23 `my_height` \u0e21\u0e32\u0e01\u0e01\u0e27\u0e48\u0e32 170"
   ]
  },
  {
   "cell_type": "code",
   "execution_count": null,
   "metadata": {
    "id": "GyGlIzPmQ9P4"
   },
   "outputs": [
    {
     "name": "stdout",
     "output_type": "stream",
     "text": [
      "You are wealthy and tall.\n"
     ]
    }
   ],
   "source": [
    "my_salary = 15001\n",
    "my_height = 175\n",
    "\n",
    "if my_height > 170 and my_salary > 15000:\n",
    "    print('You are wealthy and tall.')"
   ]
  },
  {
   "cell_type": "markdown",
   "metadata": {
    "id": "6fgd-6wiQ9P6"
   },
   "source": [
    "3. \u0e08\u0e07\u0e15\u0e31\u0e49\u0e07\u0e40\u0e07\u0e37\u0e48\u0e2d\u0e19\u0e44\u0e02\u0e40\u0e1e\u0e37\u0e48\u0e2d\u0e04\u0e27\u0e1a\u0e04\u0e38\u0e21\u0e01\u0e32\u0e23\u0e1e\u0e34\u0e21\u0e1e\u0e4c\u0e04\u0e27\u0e32\u0e21\u0e2a\u0e39\u0e07\u0e02\u0e2d\u0e07\u0e19\u0e31\u0e01\u0e40\u0e23\u0e35\u0e22\u0e19\u0e41\u0e15\u0e48\u0e25\u0e30\u0e04\u0e19 \u0e42\u0e14\u0e22\u0e08\u0e30\u0e1e\u0e34\u0e21\u0e1e\u0e4c\u0e2d\u0e2d\u0e01\u0e21\u0e32\u0e40\u0e09\u0e1e\u0e32\u0e30\u0e04\u0e19\u0e17\u0e35\u0e48\u0e21\u0e35\u0e04\u0e27\u0e32\u0e21\u0e2a\u0e39\u0e07\u0e21\u0e32\u0e01\u0e01\u0e27\u0e48\u0e32 160 \u0e40\u0e0b\u0e19\u0e15\u0e34\u0e40\u0e21\u0e15\u0e23\u0e40\u0e17\u0e48\u0e32\u0e19\u0e31\u0e49\u0e19 [\u0e2b\u0e21\u0e32\u0e22\u0e40\u0e2b\u0e15\u0e38: \u0e08\u0e30\u0e2a\u0e31\u0e07\u0e40\u0e01\u0e15\u0e27\u0e48\u0e32\u0e42\u0e08\u0e17\u0e22\u0e4c\u0e02\u0e49\u0e2d\u0e19\u0e35\u0e49\u0e08\u0e30\u0e43\u0e0a\u0e49\u0e17\u0e31\u0e49\u0e07\u0e25\u0e39\u0e1b\u0e1f\u0e2d\u0e23\u0e4c\u0e41\u0e25\u0e30\u0e01\u0e32\u0e23\u0e15\u0e31\u0e49\u0e07\u0e40\u0e07\u0e37\u0e48\u0e2d\u0e19\u0e44\u0e02\u0e1b\u0e23\u0e30\u0e01\u0e2d\u0e1a\u0e01\u0e31\u0e19\u0e44\u0e14\u0e49\u0e14\u0e49\u0e27\u0e22]"
   ]
  },
  {
   "cell_type": "code",
   "execution_count": null,
   "metadata": {
    "id": "ReO9tiYXQ9P7"
   },
   "outputs": [
    {
     "name": "stdout",
     "output_type": "stream",
     "text": [
      "163.5\n",
      "167.0\n",
      "161.25\n",
      "170.0\n"
     ]
    }
   ],
   "source": [
    "student_heights = [163.5, 150.0, 167.0, 161.25, 170.0]\n",
    "\n",
    "for height in student_heights:\n",
    "    if height > 160:\n",
    "        print(height)"
   ]
  },
  {
   "cell_type": "markdown",
   "metadata": {
    "id": "iHTjKhXyQ9P9"
   },
   "source": [
    "4. \u0e08\u0e07\u0e15\u0e31\u0e49\u0e07\u0e40\u0e07\u0e37\u0e48\u0e2d\u0e19\u0e44\u0e02\u0e40\u0e1e\u0e37\u0e48\u0e2d\u0e04\u0e27\u0e1a\u0e04\u0e38\u0e21\u0e01\u0e32\u0e23\u0e1e\u0e34\u0e21\u0e1e\u0e4c\u0e0a\u0e37\u0e48\u0e2d\u0e02\u0e2d\u0e07\u0e19\u0e31\u0e01\u0e40\u0e23\u0e35\u0e22\u0e19\u0e41\u0e15\u0e48\u0e25\u0e30\u0e04\u0e19\u0e41\u0e25\u0e30\u0e04\u0e27\u0e32\u0e21\u0e2a\u0e39\u0e07\u0e2d\u0e2d\u0e01\u0e21\u0e32 \u0e42\u0e14\u0e22\u0e08\u0e30\u0e1e\u0e34\u0e21\u0e1e\u0e4c\u0e2d\u0e2d\u0e01\u0e21\u0e32\u0e40\u0e09\u0e1e\u0e32\u0e30\u0e04\u0e19\u0e17\u0e35\u0e48\u0e0a\u0e37\u0e48\u0e2d\u0e19\u0e33\u0e2b\u0e19\u0e49\u0e32\u0e14\u0e49\u0e27\u0e22\u0e15\u0e31\u0e27\u0e2d\u0e31\u0e01\u0e29\u0e23\u0e2d\u0e37\u0e48\u0e19<u>**\u0e17\u0e35\u0e48\u0e44\u0e21\u0e48\u0e43\u0e0a\u0e48**</u> `'A'` \u0e41\u0e25\u0e30<u>**\u0e44\u0e21\u0e48\u0e43\u0e0a\u0e48**</u> `'C'` \u0e41\u0e25\u0e30\u0e21\u0e35\u0e04\u0e27\u0e32\u0e21\u0e2a\u0e39\u0e07\u0e21\u0e32\u0e01\u0e01\u0e27\u0e48\u0e32 160 \u0e40\u0e0b\u0e19\u0e15\u0e34\u0e40\u0e21\u0e15\u0e23\u0e40\u0e17\u0e48\u0e32\u0e19\u0e31\u0e49\u0e19"
   ]
  },
  {
   "cell_type": "code",
   "execution_count": null,
   "metadata": {
    "id": "vJ5XkFefQ9P9"
   },
   "outputs": [
    {
     "name": "stdout",
     "output_type": "stream",
     "text": [
      "Arm : 163.5\n",
      "Cathy : 167.0\n",
      "Dorothy : 161.25\n",
      "Emily : 170.0\n"
     ]
    }
   ],
   "source": [
    "student_names = ['Arm', 'Bobby', 'Cathy', 'Dorothy', 'Emily']\n",
    "student_heights = [163.5, 150.0, 167.0, 161.25, 170.0]\n",
    "\n",
    "for i in range(len(student_names)):\n",
    "    if student_heights[i] > 160:\n",
    "        print(student_names[i], ':', student_heights[i])"
   ]
  },
  {
   "cell_type": "markdown",
   "metadata": {
    "id": "q6kIqGw9Q9P_"
   },
   "source": [
    "### \u0e01\u0e32\u0e23\u0e23\u0e31\u0e1a\u0e02\u0e49\u0e2d\u0e21\u0e39\u0e25\u0e1c\u0e48\u0e32\u0e19\u0e04\u0e35\u0e22\u0e4c\u0e1a\u0e2d\u0e23\u0e4c\u0e14"
   ]
  },
  {
   "cell_type": "markdown",
   "metadata": {
    "id": "11su_cFrQ9QA"
   },
   "source": [
    "- \u0e40\u0e23\u0e32\u0e2a\u0e32\u0e21\u0e32\u0e23\u0e16\u0e23\u0e31\u0e1a\u0e2d\u0e34\u0e19\u0e1e\u0e38\u0e15\u0e08\u0e32\u0e01\u0e04\u0e35\u0e22\u0e4c\u0e1a\u0e2d\u0e23\u0e4c\u0e14\u0e44\u0e14\u0e49\u0e14\u0e49\u0e27\u0e22\u0e04\u0e33\u0e2a\u0e31\u0e48\u0e07 `input` \u0e04\u0e23\u0e31\u0e1a \u0e41\u0e15\u0e48\u0e40\u0e27\u0e25\u0e32\u0e2a\u0e31\u0e48\u0e07\u0e04\u0e33\u0e2a\u0e31\u0e48\u0e07\u0e19\u0e35\u0e49\u0e41\u0e25\u0e49\u0e27 \u0e08\u0e30\u0e15\u0e49\u0e2d\u0e07\u0e2b\u0e32\u0e15\u0e31\u0e27\u0e41\u0e1b\u0e23\u0e21\u0e32\u0e40\u0e01\u0e47\u0e1a\u0e04\u0e48\u0e32\u0e2d\u0e34\u0e19\u0e1e\u0e38\u0e15\u0e17\u0e35\u0e48\u0e23\u0e31\u0e1a\u0e21\u0e32\u0e14\u0e49\u0e27\u0e22\u0e40\u0e2a\u0e21\u0e2d"
   ]
  },
  {
   "cell_type": "code",
   "execution_count": null,
   "metadata": {
    "id": "fwB-QCpEQ9QA"
   },
   "outputs": [
    {
     "name": "stdout",
     "output_type": "stream",
     "text": [
      "Hello, iiii\n"
     ]
    }
   ],
   "source": [
    "my_name = input('Enter your name: ')      # \u0e43\u0e2a\u0e48\u0e02\u0e49\u0e2d\u0e04\u0e27\u0e32\u0e21\u0e40\u0e15\u0e37\u0e2d\u0e19\u0e1c\u0e39\u0e49\u0e43\u0e0a\u0e49\u0e17\u0e35\u0e48\u0e15\u0e23\u0e07\u0e19\u0e35\u0e49\n",
    "print('Hello,', my_name)"
   ]
  },
  {
   "cell_type": "markdown",
   "metadata": {
    "id": "fa1BTJkmQ9QC"
   },
   "source": [
    "- \u0e04\u0e48\u0e32\u0e17\u0e35\u0e48\u0e23\u0e31\u0e1a\u0e21\u0e32\u0e44\u0e14\u0e49\u0e08\u0e30\u0e2d\u0e22\u0e39\u0e48\u0e43\u0e19\u0e23\u0e39\u0e1b\u0e02\u0e49\u0e2d\u0e04\u0e27\u0e32\u0e21 (string) \u0e40\u0e2a\u0e21\u0e2d\n",
    "- \u0e2b\u0e32\u0e01\u0e40\u0e23\u0e32\u0e15\u0e49\u0e2d\u0e07\u0e01\u0e32\u0e23\u0e23\u0e31\u0e1a\u0e04\u0e48\u0e32\u0e15\u0e31\u0e27\u0e40\u0e25\u0e02 \u0e40\u0e23\u0e32\u0e08\u0e33\u0e40\u0e1b\u0e47\u0e19\u0e15\u0e49\u0e2d\u0e07\u0e41\u0e1b\u0e25\u0e07\u0e02\u0e49\u0e2d\u0e04\u0e27\u0e32\u0e21\u0e01\u0e25\u0e31\u0e1a\u0e21\u0e32\u0e40\u0e1b\u0e47\u0e19\u0e15\u0e31\u0e27\u0e40\u0e25\u0e02\u0e14\u0e49\u0e27\u0e22\u0e04\u0e33\u0e2a\u0e31\u0e48\u0e07 `int` \u0e41\u0e25\u0e30 `float` \u0e15\u0e32\u0e21\u0e25\u0e33\u0e14\u0e31\u0e1a\u0e04\u0e23\u0e31\u0e1a\n",
    "  - \u0e04\u0e33\u0e2a\u0e31\u0e48\u0e07 `int` \u0e08\u0e30\u0e41\u0e1b\u0e25\u0e07\u0e02\u0e49\u0e2d\u0e04\u0e27\u0e32\u0e21\u0e40\u0e1b\u0e47\u0e19\u0e08\u0e33\u0e19\u0e27\u0e19\u0e40\u0e15\u0e47\u0e21 \u0e40\u0e0a\u0e48\u0e19 10, 20, 30\n",
    "  - \u0e04\u0e33\u0e2a\u0e31\u0e48\u0e07 `float` \u0e08\u0e30\u0e41\u0e1b\u0e25\u0e07\u0e02\u0e49\u0e2d\u0e04\u0e27\u0e32\u0e21\u0e40\u0e1b\u0e47\u0e19\u0e08\u0e33\u0e19\u0e27\u0e19\u0e08\u0e23\u0e34\u0e07 \u0e40\u0e0a\u0e48\u0e19 0.25, 3.5, 10.0"
   ]
  },
  {
   "cell_type": "code",
   "execution_count": null,
   "metadata": {
    "id": "hfNF7TvTQ9QD"
   },
   "outputs": [
    {
     "name": "stdout",
     "output_type": "stream",
     "text": [
      "Your salary is quite high.\n"
     ]
    }
   ],
   "source": [
    "my_salary_str = input('Enter your salary: ')\n",
    "my_salary = int(my_salary_str)           # \u0e15\u0e49\u0e2d\u0e07\u0e41\u0e1b\u0e25\u0e07\u0e02\u0e49\u0e2d\u0e04\u0e27\u0e32\u0e21\u0e43\u0e2b\u0e49\u0e40\u0e1b\u0e47\u0e19\u0e08\u0e33\u0e19\u0e27\u0e19\u0e40\u0e15\u0e47\u0e21\u0e01\u0e48\u0e2d\u0e19 \u0e16\u0e36\u0e07\u0e08\u0e30\u0e40\u0e1b\u0e23\u0e35\u0e22\u0e1a\u0e40\u0e17\u0e35\u0e22\u0e1a\u0e44\u0e14\u0e49\n",
    "if my_salary > 10000:\n",
    "    print('Your salary is quite high.')"
   ]
  },
  {
   "cell_type": "markdown",
   "metadata": {
    "id": "Myz9XRlPQ9QE"
   },
   "source": [
    "- \u0e25\u0e2d\u0e07\u0e23\u0e31\u0e19\u0e42\u0e1b\u0e23\u0e41\u0e01\u0e23\u0e21\u0e14\u0e49\u0e32\u0e19\u0e1a\u0e19\u0e43\u0e2b\u0e21\u0e48\u0e2d\u0e35\u0e01\u0e23\u0e2d\u0e1a \u0e41\u0e15\u0e48\u0e04\u0e23\u0e32\u0e27\u0e19\u0e35\u0e49\u0e43\u0e2a\u0e48\u0e40\u0e1b\u0e47\u0e19\u0e02\u0e49\u0e2d\u0e04\u0e27\u0e32\u0e21\u0e17\u0e35\u0e48\u0e44\u0e21\u0e48\u0e43\u0e0a\u0e48\u0e08\u0e33\u0e19\u0e27\u0e19\u0e40\u0e15\u0e47\u0e21\u0e14\u0e39\u0e1a\u0e49\u0e32\u0e07\u0e04\u0e23\u0e31\u0e1a \u0e40\u0e0a\u0e48\u0e19 `'Prachya'` \u0e2b\u0e23\u0e37\u0e2d `100.5` \u0e42\u0e1b\u0e23\u0e41\u0e01\u0e23\u0e21\u0e08\u0e30\u0e23\u0e30\u0e40\u0e1a\u0e34\u0e14\u0e17\u0e31\u0e19\u0e17\u0e35\n",
    "- \u0e17\u0e35\u0e48\u0e04\u0e2d\u0e21\u0e1e\u0e34\u0e27\u0e40\u0e15\u0e2d\u0e23\u0e4c\u0e1f\u0e49\u0e2d\u0e07\u0e27\u0e48\u0e32 `ValueError` \u0e19\u0e31\u0e49\u0e19\u0e2b\u0e21\u0e32\u0e22\u0e04\u0e27\u0e32\u0e21\u0e27\u0e48\u0e32 \u0e04\u0e2d\u0e21\u0e1e\u0e34\u0e27\u0e40\u0e15\u0e2d\u0e23\u0e4c\u0e44\u0e21\u0e48\u0e2a\u0e32\u0e21\u0e32\u0e23\u0e16\u0e41\u0e1b\u0e25\u0e07\u0e02\u0e49\u0e2d\u0e04\u0e27\u0e32\u0e21\u0e43\u0e2b\u0e49\u0e01\u0e25\u0e32\u0e22\u0e40\u0e1b\u0e47\u0e19\u0e15\u0e31\u0e27\u0e40\u0e25\u0e02\u0e44\u0e14\u0e49\u0e19\u0e31\u0e48\u0e19\u0e40\u0e2d\u0e07\u0e04\u0e23\u0e31\u0e1a"
   ]
  },
  {
   "cell_type": "markdown",
   "metadata": {
    "id": "FdK15codQ9QF"
   },
   "source": [
    "### \u0e01\u0e32\u0e23\u0e01\u0e33\u0e2b\u0e19\u0e14\u0e40\u0e07\u0e37\u0e48\u0e2d\u0e19\u0e44\u0e02\u0e17\u0e35\u0e48\u0e21\u0e35 2 \u0e17\u0e32\u0e07\u0e40\u0e25\u0e37\u0e2d\u0e01"
   ]
  },
  {
   "cell_type": "markdown",
   "metadata": {
    "id": "mFqAtsOyQ9QG"
   },
   "source": [
    "- \u0e43\u0e19\u0e01\u0e23\u0e13\u0e35\u0e17\u0e35\u0e48\u0e40\u0e23\u0e32\u0e15\u0e49\u0e2d\u0e07\u0e01\u0e32\u0e23\u0e01\u0e33\u0e2b\u0e19\u0e14\u0e40\u0e07\u0e37\u0e48\u0e2d\u0e19\u0e44\u0e02\u0e17\u0e35\u0e48\u0e21\u0e35 2 \u0e17\u0e32\u0e07\u0e40\u0e25\u0e37\u0e2d\u0e01 \u0e40\u0e23\u0e32\u0e2a\u0e32\u0e21\u0e32\u0e23\u0e16\u0e43\u0e0a\u0e49\u0e04\u0e33\u0e2a\u0e31\u0e48\u0e07 `if ... else ...` (else \u0e41\u0e1b\u0e25\u0e27\u0e48\u0e32 '\u0e44\u0e21\u0e48\u0e40\u0e0a\u0e48\u0e19\u0e19\u0e31\u0e49\u0e19') \u0e44\u0e14\u0e49\u0e04\u0e23\u0e31\u0e1a\n",
    "- \u0e23\u0e39\u0e1b\u0e41\u0e1a\u0e1a\u0e02\u0e2d\u0e07\u0e40\u0e07\u0e37\u0e48\u0e2d\u0e19\u0e44\u0e02\u0e17\u0e35\u0e48\u0e21\u0e35 2 \u0e17\u0e32\u0e07\u0e40\u0e25\u0e37\u0e2d\u0e01\n",
    "\n",
    "```python\n",
    "if <\u0e40\u0e07\u0e37\u0e48\u0e2d\u0e19\u0e44\u0e02> :\n",
    "    <\u0e01\u0e23\u0e30\u0e1a\u0e27\u0e19\u0e01\u0e32\u0e23 1>\n",
    "else:\n",
    "    <\u0e01\u0e23\u0e30\u0e1a\u0e27\u0e19\u0e01\u0e32\u0e23 2>\n",
    "```\n",
    "\n",
    "- \u0e04\u0e27\u0e32\u0e21\u0e2b\u0e21\u0e32\u0e22\u0e02\u0e2d\u0e07\u0e04\u0e33\u0e2a\u0e31\u0e48\u0e07\u0e19\u0e35\u0e49\u0e04\u0e37\u0e2d \u0e16\u0e49\u0e32\u0e40\u0e07\u0e37\u0e48\u0e2d\u0e19\u0e44\u0e02\u0e19\u0e35\u0e49\u0e40\u0e1b\u0e47\u0e19\u0e08\u0e23\u0e34\u0e07 \u0e01\u0e47\u0e43\u0e2b\u0e49\u0e17\u0e33\u0e01\u0e23\u0e30\u0e1a\u0e27\u0e19\u0e01\u0e32\u0e23\u0e17\u0e35\u0e48 1 \u0e44\u0e21\u0e48\u0e40\u0e0a\u0e48\u0e19\u0e19\u0e31\u0e49\u0e19\u0e01\u0e47\u0e43\u0e2b\u0e49\u0e17\u0e33\u0e01\u0e23\u0e30\u0e1a\u0e27\u0e19\u0e01\u0e32\u0e23\u0e17\u0e35\u0e48 2 \u0e41\u0e17\u0e19\n",
    "- \u0e40\u0e0a\u0e48\u0e19 \u0e42\u0e1b\u0e23\u0e41\u0e01\u0e23\u0e21\u0e14\u0e49\u0e32\u0e19\u0e25\u0e48\u0e32\u0e07\u0e19\u0e35\u0e49\u0e08\u0e30\u0e1e\u0e34\u0e21\u0e1e\u0e4c\u0e02\u0e49\u0e2d\u0e04\u0e27\u0e32\u0e21 `'Hurray!'` \u0e16\u0e49\u0e32\u0e2b\u0e32\u0e01\u0e27\u0e48\u0e32\u0e40\u0e07\u0e34\u0e19\u0e40\u0e14\u0e37\u0e2d\u0e19\u0e43\u0e19\u0e15\u0e31\u0e27\u0e41\u0e1b\u0e23 `salary` \u0e21\u0e35\u0e04\u0e48\u0e32\u0e21\u0e32\u0e01\u0e01\u0e27\u0e48\u0e32 10,000 \u0e1a\u0e32\u0e17 \u0e2b\u0e23\u0e37\u0e2d\u0e44\u0e21\u0e48\u0e40\u0e0a\u0e48\u0e19\u0e19\u0e31\u0e49\u0e19\u0e01\u0e47\u0e1e\u0e34\u0e21\u0e1e\u0e4c\u0e02\u0e49\u0e2d\u0e04\u0e27\u0e32\u0e21\u0e27\u0e48\u0e32 `'Poor you.'` \u0e41\u0e17\u0e19"
   ]
  },
  {
   "cell_type": "code",
   "execution_count": null,
   "metadata": {
    "id": "Umw3rEmHQ9QG"
   },
   "outputs": [
    {
     "name": "stdout",
     "output_type": "stream",
     "text": [
      "Poorly you.\n"
     ]
    }
   ],
   "source": [
    "salary = 5000\n",
    "\n",
    "if salary > 10000:\n",
    "    print('Hurray!')\n",
    "else:\n",
    "    print('Poorly you.')"
   ]
  },
  {
   "cell_type": "markdown",
   "metadata": {
    "id": "GA2KrH_VQ9QI"
   },
   "source": [
    "### \u0e41\u0e1a\u0e1a\u0e1d\u0e36\u0e01\u0e2b\u0e31\u0e14 7.2"
   ]
  },
  {
   "cell_type": "markdown",
   "metadata": {
    "id": "jJnNSC16Q9QJ"
   },
   "source": [
    "\u0e08\u0e07\u0e15\u0e31\u0e49\u0e07\u0e40\u0e07\u0e37\u0e48\u0e2d\u0e19\u0e44\u0e02\u0e40\u0e1e\u0e37\u0e48\u0e2d\u0e04\u0e27\u0e1a\u0e04\u0e38\u0e21\u0e01\u0e32\u0e23\u0e1e\u0e34\u0e21\u0e1e\u0e4c\u0e0a\u0e37\u0e48\u0e2d\u0e02\u0e2d\u0e07\u0e19\u0e31\u0e01\u0e40\u0e23\u0e35\u0e22\u0e19\u0e41\u0e15\u0e48\u0e25\u0e30\u0e04\u0e19\u0e41\u0e25\u0e30\u0e04\u0e27\u0e32\u0e21\u0e2a\u0e39\u0e07\u0e2d\u0e2d\u0e01\u0e21\u0e32 \u0e42\u0e14\u0e22\u0e08\u0e30\u0e1e\u0e34\u0e21\u0e1e\u0e4c\u0e2d\u0e2d\u0e01\u0e21\u0e32\u0e40\u0e09\u0e1e\u0e32\u0e30\u0e04\u0e19\u0e17\u0e35\u0e48\u0e0a\u0e37\u0e48\u0e2d\u0e19\u0e33\u0e2b\u0e19\u0e49\u0e32\u0e14\u0e49\u0e27\u0e22\u0e15\u0e31\u0e27\u0e2d\u0e31\u0e01\u0e29\u0e23\u0e2d\u0e37\u0e48\u0e19\u0e17\u0e35\u0e48<u>**\u0e44\u0e21\u0e48\u0e43\u0e0a\u0e48**</u> `'A'` \u0e41\u0e25\u0e30<u>**\u0e44\u0e21\u0e48\u0e43\u0e0a\u0e48**</u> `'C'` \u0e41\u0e25\u0e30\u0e21\u0e35\u0e04\u0e27\u0e32\u0e21\u0e2a\u0e39\u0e07\u0e21\u0e32\u0e01\u0e01\u0e27\u0e48\u0e32 160 \u0e40\u0e0b\u0e19\u0e15\u0e34\u0e40\u0e21\u0e15\u0e23\u0e40\u0e17\u0e48\u0e32\u0e19\u0e31\u0e49\u0e19 \u0e44\u0e21\u0e48\u0e40\u0e0a\u0e48\u0e19\u0e19\u0e31\u0e49\u0e19\u0e01\u0e47\u0e43\u0e2b\u0e49\u0e1e\u0e34\u0e21\u0e1e\u0e4c\u0e40\u0e09\u0e1e\u0e32\u0e30\u0e0a\u0e37\u0e48\u0e2d\u0e19\u0e31\u0e01\u0e40\u0e23\u0e35\u0e22\u0e19\u0e2d\u0e2d\u0e01\u0e21\u0e32\u0e40\u0e17\u0e48\u0e32\u0e19\u0e31\u0e49\u0e19"
   ]
  },
  {
   "cell_type": "code",
   "execution_count": null,
   "metadata": {
    "id": "BM9xxGUPQ9QJ"
   },
   "outputs": [
    {
     "name": "stdout",
     "output_type": "stream",
     "text": [
      "Arm\n",
      "Bobby\n",
      "Cathy\n",
      "Dorothy : 161.25\n",
      "Emily : 170.0\n"
     ]
    }
   ],
   "source": [
    "student_names = ['Arm', 'Bobby', 'Cathy', 'Dorothy', 'Emily']\n",
    "student_heights = [163.5, 150.0, 167.0, 161.25, 170.0]\n",
    "\n",
    "for i in range(len(student_names)):\n",
    "    if student_names[i][0] != 'A' and student_names[i][0] != 'C' and student_heights[i] > 160:\n",
    "        print(student_names[i], ':', student_heights[i])\n",
    "    else:\n",
    "        print(student_names[i])"
   ]
  },
  {
   "cell_type": "markdown",
   "metadata": {
    "id": "PMW5xnPrQ9QL"
   },
   "source": [
    "### \u0e01\u0e32\u0e23\u0e01\u0e33\u0e2b\u0e19\u0e14\u0e40\u0e07\u0e37\u0e48\u0e2d\u0e19\u0e44\u0e02\u0e41\u0e1a\u0e1a\u0e0b\u0e31\u0e1a\u0e0b\u0e49\u0e2d\u0e19"
   ]
  },
  {
   "cell_type": "markdown",
   "metadata": {
    "id": "W6H0Al53Q9QL"
   },
   "source": [
    "- \u0e19\u0e2d\u0e01\u0e08\u0e32\u0e01\u0e19\u0e35\u0e49 \u0e2b\u0e32\u0e01\u0e40\u0e07\u0e37\u0e48\u0e2d\u0e19\u0e44\u0e02\u0e02\u0e2d\u0e07\u0e42\u0e1b\u0e23\u0e41\u0e01\u0e23\u0e21\u0e21\u0e35\u0e04\u0e27\u0e32\u0e21\u0e2a\u0e25\u0e31\u0e1a\u0e0b\u0e31\u0e1a\u0e0b\u0e49\u0e2d\u0e19 \u0e40\u0e0a\u0e48\u0e19 \u0e01\u0e32\u0e23\u0e15\u0e31\u0e14\u0e40\u0e01\u0e23\u0e14\u0e02\u0e2d\u0e07\u0e19\u0e31\u0e01\u0e40\u0e23\u0e35\u0e22\u0e19\u0e17\u0e35\u0e48\u0e15\u0e49\u0e2d\u0e07\u0e17\u0e33\u0e41\u0e1a\u0e48\u0e07\u0e40\u0e1b\u0e47\u0e19\u0e0a\u0e48\u0e27\u0e07\u0e0a\u0e31\u0e49\u0e19 \u0e40\u0e23\u0e32\u0e2a\u0e32\u0e21\u0e32\u0e23\u0e16\u0e43\u0e0a\u0e49\u0e01\u0e32\u0e23\u0e01\u0e33\u0e2b\u0e19\u0e14\u0e40\u0e07\u0e37\u0e48\u0e2d\u0e19\u0e44\u0e02\u0e41\u0e1a\u0e1a\u0e0b\u0e31\u0e1a\u0e0b\u0e49\u0e2d\u0e19 `if ... elif ... else ...` \u0e44\u0e14\u0e49\u0e04\u0e23\u0e31\u0e1a (`elif` \u0e22\u0e48\u0e2d\u0e21\u0e32\u0e08\u0e32\u0e01\u0e04\u0e33\u0e27\u0e48\u0e32 'else if' \u0e41\u0e1b\u0e25\u0e27\u0e48\u0e32 '\u0e44\u0e21\u0e48\u0e40\u0e0a\u0e48\u0e19\u0e19\u0e31\u0e49\u0e19 \u0e16\u0e49\u0e32\u0e2b\u0e32\u0e01')\n",
    "- \u0e23\u0e39\u0e1b\u0e41\u0e1a\u0e1a\u0e02\u0e2d\u0e07\u0e01\u0e32\u0e23\u0e01\u0e33\u0e2b\u0e19\u0e14\u0e40\u0e07\u0e37\u0e48\u0e2d\u0e19\u0e44\u0e02\u0e41\u0e1a\u0e1a\u0e0b\u0e31\u0e1a\u0e0b\u0e49\u0e2d\u0e19\n",
    "\n",
    "```python\n",
    "if <\u0e40\u0e07\u0e37\u0e48\u0e2d\u0e19\u0e44\u0e02 1> :\n",
    "    <\u0e01\u0e23\u0e30\u0e1a\u0e27\u0e19\u0e01\u0e32\u0e23 1>\n",
    "elif <\u0e40\u0e07\u0e37\u0e48\u0e2d\u0e19\u0e44\u0e02 2> :\n",
    "    <\u0e01\u0e23\u0e30\u0e1a\u0e27\u0e19\u0e01\u0e32\u0e23 2>\n",
    "elif <\u0e40\u0e07\u0e37\u0e48\u0e2d\u0e19\u0e44\u0e02 3> :\n",
    "    <\u0e01\u0e23\u0e30\u0e1a\u0e27\u0e19\u0e01\u0e32\u0e23 3>\n",
    "    :\n",
    "    :\n",
    "    :\n",
    "else:\n",
    "    <\u0e01\u0e23\u0e30\u0e1a\u0e27\u0e19\u0e01\u0e32\u0e23\u0e2a\u0e38\u0e14\u0e17\u0e49\u0e32\u0e22>\n",
    "```\n",
    "\n",
    "- \u0e04\u0e27\u0e32\u0e21\u0e2b\u0e21\u0e32\u0e22\u0e02\u0e2d\u0e07\u0e04\u0e33\u0e2a\u0e31\u0e48\u0e07\u0e19\u0e35\u0e49\u0e04\u0e37\u0e2d \n",
    "  1. \u0e16\u0e49\u0e32\u0e40\u0e07\u0e37\u0e48\u0e2d\u0e19\u0e44\u0e02 1 \u0e19\u0e35\u0e49\u0e40\u0e1b\u0e47\u0e19\u0e08\u0e23\u0e34\u0e07 \u0e01\u0e47\u0e43\u0e2b\u0e49\u0e17\u0e33\u0e01\u0e23\u0e30\u0e1a\u0e27\u0e19\u0e01\u0e32\u0e23\u0e17\u0e35\u0e48 1\n",
    "  2. \u0e44\u0e21\u0e48\u0e40\u0e0a\u0e48\u0e19\u0e19\u0e31\u0e49\u0e19\u0e01\u0e47\u0e43\u0e2b\u0e49\u0e40\u0e0a\u0e47\u0e04\u0e40\u0e07\u0e37\u0e48\u0e2d\u0e19\u0e44\u0e02 2 \u0e16\u0e49\u0e32\u0e40\u0e1b\u0e47\u0e19\u0e08\u0e23\u0e34\u0e07 \u0e01\u0e47\u0e43\u0e2b\u0e49\u0e17\u0e33\u0e01\u0e23\u0e30\u0e1a\u0e27\u0e19\u0e01\u0e32\u0e23\u0e17\u0e35\u0e48 2\n",
    "  3. \u0e44\u0e21\u0e48\u0e40\u0e0a\u0e48\u0e19\u0e19\u0e31\u0e49\u0e19\u0e01\u0e47\u0e43\u0e2b\u0e49\u0e40\u0e0a\u0e47\u0e04\u0e40\u0e07\u0e37\u0e48\u0e2d\u0e19\u0e44\u0e02 3 \u0e16\u0e49\u0e32\u0e40\u0e1b\u0e47\u0e19\u0e08\u0e23\u0e34\u0e07 \u0e01\u0e47\u0e43\u0e2b\u0e49\u0e17\u0e33\u0e01\u0e23\u0e30\u0e1a\u0e27\u0e19\u0e01\u0e32\u0e23\u0e17\u0e35\u0e48 3\n",
    "  4. \u0e40\u0e23\u0e32\u0e08\u0e30\u0e40\u0e0a\u0e47\u0e04\u0e40\u0e07\u0e37\u0e48\u0e2d\u0e19\u0e44\u0e02\u0e41\u0e1a\u0e1a\u0e19\u0e35\u0e49\u0e44\u0e1b\u0e40\u0e23\u0e37\u0e48\u0e2d\u0e22\u0e46 \u0e08\u0e19\u0e01\u0e23\u0e30\u0e17\u0e31\u0e48\u0e07\u0e44\u0e21\u0e48\u0e40\u0e02\u0e49\u0e32\u0e40\u0e07\u0e37\u0e48\u0e2d\u0e19\u0e44\u0e02\u0e43\u0e14\u0e40\u0e25\u0e22 \u0e08\u0e36\u0e07\u0e17\u0e33\u0e01\u0e23\u0e30\u0e1a\u0e27\u0e19\u0e01\u0e32\u0e23\u0e2a\u0e38\u0e14\u0e17\u0e49\u0e32\u0e22"
   ]
  },
  {
   "cell_type": "markdown",
   "metadata": {
    "id": "mMErc0GIQ9QM"
   },
   "source": [
    "- \u0e40\u0e0a\u0e48\u0e19 \u0e16\u0e49\u0e32\u0e40\u0e23\u0e32\u0e08\u0e30\u0e01\u0e33\u0e2b\u0e19\u0e14\u0e40\u0e07\u0e37\u0e48\u0e2d\u0e19\u0e44\u0e02\u0e40\u0e1e\u0e37\u0e48\u0e2d\u0e15\u0e31\u0e14\u0e40\u0e01\u0e23\u0e14\u0e02\u0e2d\u0e07\u0e19\u0e31\u0e01\u0e40\u0e23\u0e35\u0e22\u0e19 \u0e08\u0e32\u0e01\u0e04\u0e30\u0e41\u0e19\u0e19\u0e40\u0e15\u0e47\u0e21 100 \u0e04\u0e30\u0e41\u0e19\u0e19\n",
    "  1. \u0e16\u0e49\u0e32\u0e44\u0e14\u0e49\u0e04\u0e30\u0e41\u0e19\u0e19 80 \u0e02\u0e36\u0e49\u0e19\u0e44\u0e1b \u0e08\u0e30\u0e44\u0e14\u0e49\u0e40\u0e01\u0e23\u0e14 4\n",
    "  2. \u0e44\u0e21\u0e48\u0e40\u0e0a\u0e48\u0e19\u0e19\u0e31\u0e49\u0e19 \u0e16\u0e49\u0e32\u0e44\u0e14\u0e49\u0e04\u0e30\u0e41\u0e19\u0e19 70 \u0e02\u0e36\u0e49\u0e19\u0e44\u0e1b \u0e08\u0e30\u0e44\u0e14\u0e49\u0e40\u0e01\u0e23\u0e14 3\n",
    "  3. \u0e44\u0e21\u0e48\u0e40\u0e0a\u0e48\u0e19\u0e19\u0e31\u0e49\u0e19 \u0e16\u0e49\u0e32\u0e44\u0e14\u0e49\u0e04\u0e30\u0e41\u0e19\u0e19 60 \u0e02\u0e36\u0e49\u0e19\u0e44\u0e1b \u0e08\u0e30\u0e44\u0e14\u0e49\u0e40\u0e01\u0e23\u0e14 2\n",
    "  4. \u0e44\u0e21\u0e48\u0e40\u0e0a\u0e48\u0e19\u0e19\u0e31\u0e49\u0e19 \u0e16\u0e49\u0e32\u0e44\u0e14\u0e49\u0e04\u0e30\u0e41\u0e19\u0e19 50 \u0e02\u0e36\u0e49\u0e19\u0e44\u0e1b \u0e08\u0e30\u0e44\u0e14\u0e49\u0e40\u0e01\u0e23\u0e14 1\n",
    "  5. \u0e44\u0e21\u0e48\u0e40\u0e0a\u0e48\u0e19\u0e19\u0e31\u0e49\u0e19 \u0e08\u0e30\u0e44\u0e14\u0e49\u0e40\u0e01\u0e23\u0e14 0"
   ]
  },
  {
   "cell_type": "code",
   "execution_count": null,
   "metadata": {
    "id": "zUajBgMjQ9QM"
   },
   "outputs": [
    {
     "name": "stdout",
     "output_type": "stream",
     "text": [
      "Your grade = 2\n"
     ]
    }
   ],
   "source": [
    "score = int(input('Enter your score: '))\n",
    "\n",
    "if score >= 80:           # score >= 80\n",
    "    grade = 4\n",
    "elif score >= 70:         # 70 <= score <= 79\n",
    "    grade = 3\n",
    "elif score >= 60:         # 60 <= score <= 69\n",
    "    grade = 2\n",
    "elif score >= 50:         # 50 <= score <= 59\n",
    "    grade = 1\n",
    "else:                     # score < 50\n",
    "    grade = 0\n",
    "\n",
    "print('Your grade =', grade)"
   ]
  },
  {
   "cell_type": "markdown",
   "metadata": {
    "id": "ZmQW9VFQQ9QP"
   },
   "source": [
    "### \u0e04\u0e33\u0e2a\u0e31\u0e48\u0e07\u0e2d\u0e2d\u0e01\u0e08\u0e32\u0e01\u0e25\u0e39\u0e1b (break) \u0e41\u0e25\u0e30\u0e04\u0e33\u0e2a\u0e31\u0e48\u0e07\u0e01\u0e23\u0e30\u0e42\u0e14\u0e14\u0e44\u0e1b\u0e2a\u0e21\u0e32\u0e0a\u0e34\u0e01\u0e15\u0e31\u0e27\u0e16\u0e31\u0e14\u0e44\u0e1b (continue)"
   ]
  },
  {
   "cell_type": "markdown",
   "metadata": {
    "id": "QN1FYqFiQ9QP"
   },
   "source": [
    "- \u0e40\u0e23\u0e32\u0e2a\u0e32\u0e21\u0e32\u0e23\u0e16\u0e2d\u0e2d\u0e01\u0e08\u0e32\u0e01\u0e25\u0e39\u0e1b\u0e44\u0e14\u0e49\u0e14\u0e49\u0e27\u0e22\u0e04\u0e33\u0e2a\u0e31\u0e48\u0e07 `break` \u0e04\u0e23\u0e31\u0e1a\n",
    "- \u0e40\u0e0a\u0e48\u0e19 \u0e40\u0e23\u0e32\u0e2a\u0e32\u0e21\u0e32\u0e23\u0e16\u0e2a\u0e31\u0e48\u0e07\u0e43\u0e2b\u0e49\u0e04\u0e2d\u0e21\u0e1e\u0e34\u0e27\u0e40\u0e15\u0e2d\u0e23\u0e4c\u0e1e\u0e34\u0e21\u0e1e\u0e4c\u0e0a\u0e37\u0e48\u0e2d\u0e19\u0e31\u0e01\u0e40\u0e23\u0e35\u0e22\u0e19\u0e41\u0e25\u0e30\u0e04\u0e27\u0e32\u0e21\u0e2a\u0e39\u0e07\u0e15\u0e32\u0e21\u0e25\u0e34\u0e2a\u0e15\u0e4c\u0e14\u0e49\u0e32\u0e19\u0e25\u0e48\u0e32\u0e07\u0e2d\u0e2d\u0e01\u0e21\u0e32 \u0e08\u0e19\u0e01\u0e27\u0e48\u0e32\u0e04\u0e27\u0e32\u0e21\u0e2a\u0e39\u0e07\u0e08\u0e30\u0e21\u0e32\u0e01\u0e01\u0e27\u0e48\u0e32 165 \u0e40\u0e0b\u0e19\u0e15\u0e34\u0e40\u0e21\u0e15\u0e23\u0e08\u0e36\u0e07\u0e08\u0e30\u0e2b\u0e22\u0e38\u0e14 \u0e44\u0e14\u0e49\u0e14\u0e49\u0e27\u0e22\u0e04\u0e33\u0e2a\u0e31\u0e48\u0e07 `break`"
   ]
  },
  {
   "cell_type": "code",
   "execution_count": null,
   "metadata": {
    "id": "ackEvHVYQ9QQ"
   },
   "outputs": [
    {
     "name": "stdout",
     "output_type": "stream",
     "text": [
      "Arm : 163.5\n",
      "Bobby : 150.0\n",
      "Cathy : 167.0\n",
      "That is all.\n"
     ]
    }
   ],
   "source": [
    "student_names = ['Arm', 'Bobby', 'Cathy', 'Dorothy', 'Emily']\n",
    "student_heights = [163.5, 150.0, 167.0, 161.25, 170.0]\n",
    "\n",
    "for i in range(len(student_heights)):\n",
    "    # \u0e1e\u0e34\u0e21\u0e1e\u0e4c\u0e0a\u0e37\u0e48\u0e2d\u0e19\u0e31\u0e01\u0e40\u0e23\u0e35\u0e22\u0e19\u0e41\u0e25\u0e30\u0e04\u0e27\u0e32\u0e21\u0e2a\u0e39\u0e07\n",
    "    print(student_names[i], ':', student_heights[i])\n",
    "    # \u0e16\u0e49\u0e32\u0e04\u0e27\u0e32\u0e21\u0e2a\u0e39\u0e07\u0e02\u0e2d\u0e07\u0e19\u0e31\u0e01\u0e40\u0e23\u0e35\u0e22\u0e19\u0e04\u0e19\u0e19\u0e31\u0e49\u0e19 > 165 \u0e40\u0e0b\u0e19\u0e15\u0e34\u0e40\u0e21\u0e15\u0e23 \u0e43\u0e2b\u0e49\u0e2d\u0e2d\u0e01\u0e08\u0e32\u0e01\u0e25\u0e39\u0e1b\n",
    "    if student_heights[i] > 165.0:\n",
    "        break\n",
    "        \n",
    "print('That is all.')"
   ]
  },
  {
   "cell_type": "markdown",
   "metadata": {
    "id": "-UC0S7hnQ9QU"
   },
   "source": [
    "- \u0e2a\u0e48\u0e27\u0e19\u0e04\u0e33\u0e2a\u0e31\u0e48\u0e07 `continue` \u0e08\u0e30\u0e2a\u0e31\u0e48\u0e07\u0e43\u0e2b\u0e49\u0e04\u0e2d\u0e21\u0e1e\u0e34\u0e27\u0e40\u0e15\u0e2d\u0e23\u0e4c\u0e40\u0e25\u0e34\u0e01\u0e17\u0e33\u0e01\u0e23\u0e30\u0e1a\u0e27\u0e19\u0e01\u0e32\u0e23\u0e17\u0e35\u0e48\u0e01\u0e33\u0e25\u0e31\u0e07\u0e17\u0e33\u0e01\u0e31\u0e1a\u0e2a\u0e21\u0e32\u0e0a\u0e34\u0e01\u0e15\u0e31\u0e27\u0e1b\u0e31\u0e08\u0e08\u0e38\u0e1a\u0e31\u0e19 \u0e41\u0e25\u0e49\u0e27\u0e01\u0e23\u0e30\u0e42\u0e14\u0e14\u0e44\u0e1b\u0e2a\u0e21\u0e32\u0e0a\u0e34\u0e01\u0e15\u0e31\u0e27\u0e16\u0e31\u0e14\u0e44\u0e1b\u0e17\u0e31\u0e19\u0e17\u0e35\u0e04\u0e23\u0e31\u0e1a\n",
    "- \u0e40\u0e0a\u0e48\u0e19 \u0e40\u0e23\u0e32\u0e2a\u0e32\u0e21\u0e32\u0e23\u0e16\u0e2a\u0e31\u0e48\u0e07\u0e43\u0e2b\u0e49\u0e04\u0e2d\u0e21\u0e1e\u0e34\u0e27\u0e40\u0e15\u0e2d\u0e23\u0e4c\u0e1e\u0e34\u0e21\u0e1e\u0e4c\u0e23\u0e32\u0e22\u0e0a\u0e37\u0e48\u0e2d\u0e19\u0e31\u0e01\u0e40\u0e23\u0e35\u0e22\u0e19\u0e41\u0e25\u0e30\u0e04\u0e27\u0e32\u0e21\u0e2a\u0e39\u0e07 \u0e41\u0e15\u0e48\u0e2b\u0e32\u0e01\u0e19\u0e31\u0e01\u0e40\u0e23\u0e35\u0e22\u0e19\u0e04\u0e19\u0e43\u0e14\u0e17\u0e35\u0e48\u0e21\u0e35\u0e0a\u0e37\u0e48\u0e2d\u0e02\u0e36\u0e49\u0e19\u0e15\u0e49\u0e19\u0e14\u0e49\u0e27\u0e22\u0e15\u0e31\u0e27 `'A'` \u0e2b\u0e23\u0e37\u0e2d\u0e15\u0e31\u0e27 `'C'` \u0e01\u0e47\u0e08\u0e30\u0e44\u0e21\u0e48\u0e15\u0e49\u0e2d\u0e07\u0e1e\u0e34\u0e21\u0e1e\u0e4c\u0e15\u0e48\u0e2d\u0e17\u0e49\u0e32\u0e22\u0e27\u0e48\u0e32 `blacklisted` \u0e44\u0e14\u0e49\u0e14\u0e31\u0e07\u0e19\u0e35\u0e49"
   ]
  },
  {
   "cell_type": "code",
   "execution_count": null,
   "metadata": {
    "id": "60g3GAdkQ9QU"
   },
   "outputs": [
    {
     "name": "stdout",
     "output_type": "stream",
     "text": [
      "Arm : 163.5\n",
      "Bobby : 150.0 --> blacklisted\n",
      "Cathy : 167.0\n",
      "Dorothy : 161.25 --> blacklisted\n",
      "Emily : 170.0 --> blacklisted\n"
     ]
    }
   ],
   "source": [
    "student_names = ['Arm', 'Bobby', 'Cathy', 'Dorothy', 'Emily']\n",
    "student_heights = [163.5, 150.0, 167.0, 161.25, 170.0]\n",
    "\n",
    "for i in range(len(student_heights)):\n",
    "    # \u0e1e\u0e34\u0e21\u0e1e\u0e4c\u0e0a\u0e37\u0e48\u0e2d\u0e19\u0e31\u0e01\u0e40\u0e23\u0e35\u0e22\u0e19\u0e41\u0e25\u0e30\u0e04\u0e27\u0e32\u0e21\u0e2a\u0e39\u0e07\n",
    "    print(student_names[i], ':', student_heights[i], end='')\n",
    "    # \u0e16\u0e49\u0e32\u0e0a\u0e37\u0e48\u0e2d\u0e19\u0e31\u0e01\u0e40\u0e23\u0e35\u0e22\u0e19\u0e02\u0e36\u0e49\u0e19\u0e15\u0e49\u0e19\u0e14\u0e49\u0e27\u0e22\u0e15\u0e31\u0e27 A \u0e2b\u0e23\u0e37\u0e2d\u0e15\u0e31\u0e27 C \u0e43\u0e2b\u0e49\u0e15\u0e31\u0e14\u0e08\u0e1a \u0e41\u0e25\u0e49\u0e27\u0e44\u0e1b\u0e2a\u0e21\u0e32\u0e0a\u0e34\u0e01\u0e15\u0e31\u0e27\u0e16\u0e31\u0e14\u0e44\u0e1b\u0e17\u0e31\u0e19\u0e17\u0e35\n",
    "    if student_names[i][0] == 'A' or student_names[i][0] == 'C':\n",
    "        print()\n",
    "        continue\n",
    "    print(' --> blacklisted')"
   ]
  },
  {
   "cell_type": "markdown",
   "metadata": {
    "id": "KonFAgDMQ9QX"
   },
   "source": [
    "### \u0e41\u0e1a\u0e1a\u0e1d\u0e36\u0e01\u0e2b\u0e31\u0e14 7.3"
   ]
  },
  {
   "cell_type": "markdown",
   "metadata": {
    "id": "8PkytrYCQ9QY"
   },
   "source": [
    "\u0e08\u0e07\u0e40\u0e02\u0e35\u0e22\u0e19\u0e42\u0e1b\u0e23\u0e41\u0e01\u0e23\u0e21\u0e40\u0e1e\u0e37\u0e48\u0e2d\u0e41\u0e2a\u0e14\u0e07\u0e23\u0e32\u0e22\u0e01\u0e32\u0e23\u0e19\u0e31\u0e01\u0e40\u0e23\u0e35\u0e22\u0e19\u0e17\u0e35\u0e48\u0e44\u0e14\u0e49\u0e40\u0e01\u0e23\u0e14\u0e15\u0e33\u0e01\u0e27\u0e48\u0e32 4 \u0e16\u0e49\u0e32\u0e19\u0e31\u0e01\u0e40\u0e23\u0e35\u0e22\u0e19\u0e04\u0e19\u0e43\u0e14\u0e44\u0e14\u0e49\u0e40\u0e01\u0e23\u0e14\u0e15\u0e48\u0e33\u0e01\u0e27\u0e48\u0e32 3 \u0e43\u0e2b\u0e49\u0e1e\u0e34\u0e21\u0e1e\u0e4c\u0e02\u0e49\u0e2d\u0e04\u0e27\u0e32\u0e21\u0e40\u0e15\u0e37\u0e2d\u0e19 `'warning'` \u0e17\u0e35\u0e48\u0e2b\u0e25\u0e31\u0e07\u0e40\u0e01\u0e23\u0e14 \u0e41\u0e25\u0e30\u0e43\u0e2b\u0e49\u0e42\u0e1b\u0e23\u0e41\u0e01\u0e23\u0e21\u0e2b\u0e22\u0e38\u0e14\u0e01\u0e32\u0e23\u0e17\u0e33\u0e07\u0e32\u0e19\u0e40\u0e21\u0e37\u0e48\u0e2d\u0e1e\u0e1a\u0e19\u0e31\u0e01\u0e40\u0e23\u0e35\u0e22\u0e19\u0e17\u0e35\u0e48\u0e44\u0e14\u0e49\u0e40\u0e01\u0e23\u0e14\u0e15\u0e33\u0e01\u0e27\u0e48\u0e32 2"
   ]
  },
  {
   "cell_type": "code",
   "execution_count": null,
   "metadata": {
    "id": "6iWpHCyJQ9QY"
   },
   "outputs": [
    {
     "name": "stdout",
     "output_type": "stream",
     "text": [
      "Bobby : 3\n",
      "Cathy : 1 warning\n",
      "Dorothy : 2 warning\n",
      "Emily : 0 warning\n"
     ]
    }
   ],
   "source": [
    "student_names = ['Arm', 'Bobby', 'Cathy', 'Dorothy', 'Emily']\n",
    "student_scores = [86, 78, 54, 65, 34]\n",
    "\n",
    "for i in range(len(student_names)):\n",
    "    grade = 0\n",
    "    \n",
    "    # \u0e04\u0e33\u0e19\u0e27\u0e13\u0e40\u0e01\u0e23\u0e14\u0e02\u0e2d\u0e07\u0e19\u0e31\u0e01\u0e40\u0e23\u0e35\u0e22\u0e19 \u0e40\u0e01\u0e47\u0e1a\u0e43\u0e2a\u0e48\u0e15\u0e31\u0e27\u0e41\u0e1b\u0e23 grade \u0e44\u0e27\u0e49\n",
    "    if student_scores[i] >= 80:\n",
    "        grade = 4\n",
    "    elif student_scores[i] >= 70:\n",
    "        grade = 3\n",
    "    elif student_scores[i] >= 60:\n",
    "        grade = 2\n",
    "    elif student_scores[i] >= 50:\n",
    "        grade = 1\n",
    "    else:\n",
    "        grade = 0\n",
    "    \n",
    "    # \u0e16\u0e49\u0e32\u0e1e\u0e1a\u0e27\u0e48\u0e32\u0e19\u0e31\u0e01\u0e40\u0e23\u0e35\u0e22\u0e19\u0e44\u0e14\u0e49\u0e40\u0e01\u0e23\u0e14 4 \u0e43\u0e2b\u0e49\u0e01\u0e23\u0e30\u0e42\u0e14\u0e14\u0e02\u0e49\u0e32\u0e21\u0e44\u0e1b\u0e19\u0e31\u0e01\u0e40\u0e23\u0e35\u0e22\u0e19\u0e04\u0e19\u0e16\u0e31\u0e14\u0e44\u0e1b \u0e42\u0e14\u0e22\u0e43\u0e0a\u0e49\u0e04\u0e33\u0e2a\u0e31\u0e48\u0e07 continue\n",
    "    if grade == 4:\n",
    "        continue\n",
    "    \n",
    "    # \u0e1e\u0e34\u0e21\u0e1e\u0e4c\u0e0a\u0e37\u0e48\u0e2d\u0e19\u0e31\u0e01\u0e40\u0e23\u0e35\u0e22\u0e19\u0e41\u0e25\u0e30\u0e40\u0e01\u0e23\u0e14 \u0e42\u0e14\u0e22\u0e17\u0e35\u0e48\u0e22\u0e31\u0e07\u0e44\u0e21\u0e48\u0e15\u0e49\u0e2d\u0e07\u0e02\u0e36\u0e49\u0e19\u0e1a\u0e23\u0e23\u0e17\u0e31\u0e14\u0e43\u0e2b\u0e21\u0e48\n",
    "    print(student_names[i], ':', grade, end='')\n",
    "    \n",
    "    # \u0e16\u0e49\u0e32\u0e1e\u0e1a\u0e19\u0e31\u0e01\u0e40\u0e23\u0e35\u0e22\u0e19\u0e04\u0e19\u0e43\u0e14\u0e44\u0e14\u0e49\u0e40\u0e01\u0e23\u0e14\u0e15\u0e33\u0e01\u0e27\u0e48\u0e32 3 \u0e43\u0e2b\u0e49\u0e1e\u0e34\u0e21\u0e1e\u0e4c\u0e02\u0e49\u0e2d\u0e04\u0e27\u0e32\u0e21\u0e40\u0e15\u0e37\u0e2d\u0e19\u0e27\u0e48\u0e32 'warning' \u0e41\u0e25\u0e30\u0e02\u0e36\u0e49\u0e19\u0e1a\u0e23\u0e23\u0e17\u0e31\u0e14\u0e43\u0e2b\u0e21\u0e48\n",
    "    if grade < 3:\n",
    "        print(' warning')\n",
    "        continue\n",
    "    else:\n",
    "        print()\n",
    "    \n",
    "    # \u0e2b\u0e32\u0e01\u0e1e\u0e1a\u0e19\u0e31\u0e01\u0e40\u0e23\u0e35\u0e22\u0e19\u0e17\u0e35\u0e48\u0e44\u0e14\u0e49\u0e40\u0e01\u0e23\u0e14\u0e15\u0e48\u0e33\u0e01\u0e27\u0e48\u0e32 2 \u0e43\u0e2b\u0e49\u0e2d\u0e2d\u0e01\u0e08\u0e32\u0e01\u0e25\u0e39\u0e1b\u0e17\u0e31\u0e19\u0e17\u0e35 \u0e42\u0e14\u0e22\u0e43\u0e0a\u0e49\u0e04\u0e33\u0e2a\u0e31\u0e48\u0e07 break\n",
    "    if grade < 2:\n",
    "        break"
   ]
  },
  {
   "cell_type": "markdown",
   "metadata": {
    "id": "1pGr2WuVQ9Qa"
   },
   "source": [
    "---------"
   ]
  },
  {
   "cell_type": "markdown",
   "metadata": {
    "id": "h-3zot7FQ9Qa"
   },
   "source": [
    "## \u0e01\u0e34\u0e08\u0e01\u0e23\u0e23\u0e21 8: \u0e42\u0e08\u0e17\u0e22\u0e4c\u0e40\u0e2a\u0e23\u0e34\u0e21\u0e17\u0e31\u0e01\u0e29\u0e30"
   ]
  },
  {
   "cell_type": "markdown",
   "metadata": {
    "id": "K3VzPtf5Q9Qb"
   },
   "source": [
    "1. \u0e08\u0e07\u0e40\u0e02\u0e35\u0e22\u0e19\u0e42\u0e1b\u0e23\u0e41\u0e01\u0e23\u0e21\u0e40\u0e1e\u0e37\u0e48\u0e2d\u0e23\u0e31\u0e1a\u0e08\u0e33\u0e19\u0e27\u0e19 $ n $ \u0e41\u0e25\u0e30\u0e1e\u0e34\u0e21\u0e1e\u0e4c\u0e1e\u0e34\u0e23\u0e30\u0e21\u0e34\u0e14\u0e0a\u0e34\u0e14\u0e0b\u0e49\u0e32\u0e22\u0e17\u0e35\u0e48\u0e21\u0e35\u0e02\u0e19\u0e32\u0e14\u0e40\u0e17\u0e48\u0e32\u0e01\u0e31\u0e1a $ n $ \u0e40\u0e0a\u0e48\u0e19\n",
    "\n",
    "```\n",
    "Enter the size of the left-angle pyramid (n): 5\n",
    "*\n",
    "**\n",
    "***\n",
    "****\n",
    "*****\n",
    "```"
   ]
  },
  {
   "cell_type": "code",
   "execution_count": null,
   "metadata": {
    "id": "iGQSwjdOQ9Qb"
   },
   "outputs": [
    {
     "name": "stdout",
     "output_type": "stream",
     "text": [
      "\n",
      "*\n",
      "**\n",
      "***\n",
      "****\n",
      "*****\n"
     ]
    }
   ],
   "source": [
    "n = input(\"Enter the size of the left-angle pyramid (n): \")\n",
    "for i in range(int(n)+1):\n",
    "    print(\"*\" * i)"
   ]
  },
  {
   "cell_type": "markdown",
   "metadata": {
    "id": "Qy9XQVD7Q9Qd"
   },
   "source": [
    "2. \u0e08\u0e07\u0e40\u0e02\u0e35\u0e22\u0e19\u0e42\u0e1b\u0e23\u0e41\u0e01\u0e23\u0e21\u0e40\u0e1e\u0e37\u0e48\u0e2d\u0e23\u0e31\u0e1a\u0e08\u0e33\u0e19\u0e27\u0e19 $ h $ \u0e41\u0e25\u0e30\u0e1e\u0e34\u0e21\u0e1e\u0e4c\u0e1e\u0e34\u0e23\u0e30\u0e21\u0e34\u0e14\u0e17\u0e35\u0e48\u0e21\u0e35\u0e04\u0e27\u0e32\u0e21\u0e2a\u0e39\u0e07\u0e40\u0e17\u0e48\u0e32\u0e01\u0e31\u0e1a $ h $ \u0e40\u0e0a\u0e48\u0e19\n",
    "\n",
    "```\n",
    "Enter the height of the pyramid (h): 5\n",
    "    *\n",
    "   ***\n",
    "  *****\n",
    " *******\n",
    "*********\n",
    "```"
   ]
  },
  {
   "cell_type": "code",
   "execution_count": null,
   "metadata": {
    "id": "SfVnJRM2Q9Qe"
   },
   "outputs": [
    {
     "name": "stdout",
     "output_type": "stream",
     "text": [
      "        *\n",
      "       ***\n",
      "      *****\n",
      "     *******\n",
      "    *********\n",
      "   ***********\n",
      "  *************\n",
      " ***************\n"
     ]
    }
   ],
   "source": [
    "n = int(input(\"Enter the height of the pyramid (h): \"))\n",
    "for i in range(n):\n",
    "    for j in range(n-i):\n",
    "        print(\" \", end=\"\")\n",
    "    for k in range(i*2+1):\n",
    "        print(\"*\", end=\"\")\n",
    "    print()"
   ]
  },
  {
   "cell_type": "markdown",
   "metadata": {
    "id": "3uWrmnpDQ9Qf"
   },
   "source": [
    "3. \u0e08\u0e07\u0e40\u0e02\u0e35\u0e22\u0e19\u0e42\u0e1b\u0e23\u0e41\u0e01\u0e23\u0e21\u0e40\u0e1e\u0e37\u0e48\u0e2d\u0e23\u0e31\u0e1a\u0e08\u0e33\u0e19\u0e27\u0e19 $ h $ \u0e41\u0e25\u0e30\u0e1e\u0e34\u0e21\u0e1e\u0e4c\u0e23\u0e39\u0e1b\u0e02\u0e49\u0e32\u0e27\u0e2b\u0e25\u0e32\u0e21\u0e15\u0e31\u0e14\u0e17\u0e35\u0e48\u0e21\u0e35\u0e04\u0e27\u0e32\u0e21\u0e2a\u0e39\u0e07\u0e40\u0e17\u0e48\u0e32\u0e01\u0e31\u0e1a $ 2h - 1 $ \u0e40\u0e0a\u0e48\u0e19\n",
    "\n",
    "```\n",
    "Enter the height of club (h): 5\n",
    "    *\n",
    "   ***\n",
    "  *****\n",
    " *******\n",
    "*********\n",
    " *******\n",
    "  *****\n",
    "   ***\n",
    "    *\n",
    "```"
   ]
  },
  {
   "cell_type": "code",
   "execution_count": null,
   "metadata": {
    "id": "iVCpkr0xQ9Qg"
   },
   "outputs": [
    {
     "name": "stdout",
     "output_type": "stream",
     "text": [
      "     *\n",
      "    ***\n",
      "   *****\n",
      "  *******\n",
      " *********\n",
      "***********\n",
      " *********\n",
      "  *******\n",
      "   *****\n",
      "    ***\n",
      "     *\n"
     ]
    }
   ],
   "source": [
    "n = 5\n",
    "for i in range(n):\n",
    "  # space\n",
    "  for j in range(n-i):\n",
    "    print(\" \", end=\"\")\n",
    "  # star\n",
    "  for j in range(i*2+1):\n",
    "    print(\"*\", end=\"\")\n",
    "  print()\n",
    "for i in range(n, -1, -1):\n",
    "  # space\n",
    "  for j in range(n-i):\n",
    "    print(\" \", end=\"\")\n",
    "  # star\n",
    "  for j in range(i*2+1):\n",
    "    print(\"*\", end=\"\")\n",
    "  print()\n",
    " "
   ]
  },
  {
   "cell_type": "markdown",
   "metadata": {
    "id": "p7lxwPB-Q9Qh"
   },
   "source": [
    "4. \u0e08\u0e07\u0e40\u0e02\u0e35\u0e22\u0e19\u0e42\u0e1b\u0e23\u0e41\u0e01\u0e23\u0e21\u0e40\u0e1e\u0e37\u0e48\u0e2d\u0e23\u0e31\u0e1a\u0e08\u0e33\u0e19\u0e27\u0e19 $ h $ \u0e41\u0e25\u0e30\u0e1e\u0e34\u0e21\u0e1e\u0e4c\u0e23\u0e39\u0e1b\u0e02\u0e49\u0e32\u0e27\u0e2b\u0e25\u0e32\u0e21\u0e15\u0e31\u0e14\u0e01\u0e25\u0e27\u0e07\u0e17\u0e35\u0e48\u0e21\u0e35\u0e04\u0e27\u0e32\u0e21\u0e2a\u0e39\u0e07\u0e40\u0e17\u0e48\u0e32\u0e01\u0e31\u0e1a $ 2h - 1 $ \u0e40\u0e0a\u0e48\u0e19\n",
    "\n",
    "```\n",
    "Enter the height of hollow club (h): 5\n",
    "    *\n",
    "   * *\n",
    "  *   *\n",
    " *     *\n",
    "*       *\n",
    " *     *\n",
    "  *   *\n",
    "   * *\n",
    "    *\n",
    "```"
   ]
  },
  {
   "cell_type": "code",
   "execution_count": null,
   "metadata": {
    "id": "O3rS8Z3gQ9Qi"
   },
   "outputs": [
    {
     "name": "stdout",
     "output_type": "stream",
     "text": [
      "      *\n",
      "     * *\n",
      "    *   *\n",
      "   *     *\n",
      "  *       *\n",
      " *         *\n",
      "  *       *\n",
      "   *     *\n",
      "    *   *\n",
      "     * *\n",
      "      *\n"
     ]
    }
   ],
   "source": [
    "n = int(input(\"Enter the height of hollow club (h): \"))\n",
    "fp = lambda n, i: print(f\"{' '*(n-i+1)}*{' '*(i*2-1)}{'*' if i != 0 else ''}\")\n",
    "for i in range(n):\n",
    "  fp(n,i)\n",
    "for i in range(n, -1, -1):\n",
    "  fp(n,i)\n"
   ]
  }
 ],
 "metadata": {
  "colab": {
   "collapsed_sections": [],
   "name": "An Introduction to Python (Thai).ipynb",
   "provenance": []
  },
  "kernelspec": {
   "display_name": "Python 3",
   "language": "python",
   "name": "python3"
  },
  "language_info": {
   "codemirror_mode": {
    "name": "ipython",
    "version": 3
   },
   "file_extension": ".py",
   "mimetype": "text/x-python",
   "name": "python",
   "nbconvert_exporter": "python",
   "pygments_lexer": "ipython3",
   "version": "3.8.10"
  }
 },
 "nbformat": 4,
 "nbformat_minor": 0
}